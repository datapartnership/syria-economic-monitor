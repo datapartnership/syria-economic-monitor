{
 "cells": [
  {
   "cell_type": "markdown",
   "id": "3ab74634",
   "metadata": {},
   "source": [
    "# Data Goods Team and Acknowledgements\n",
    "\n",
    "The Data Lab would like to express our sincere gratutude and appreciate for the colleagues who worked together to prepare this Data Goods package:"
   ]
  },
  {
   "cell_type": "markdown",
   "id": "77744cad",
   "metadata": {},
   "source": [
    "| **Name**                  | **Role**                                                                                   | **Team**                              |\n",
    "|----------------------------------|---------------------------------------------------------------------------------------------------|----------------------------------------------|\n",
    "|     [Holly Krambeck](mailto:hkrambeck@worldbank.org)               |     Project Lead                                                                                  |     WB Data Lab, DECDG                       |\n",
    "|     [Robert Andrew Marty](mailto:rmarty@worldbank.org)          |     Analyst - Cross border activity   monitoring and economic analysis using nighttime lights     |     DIME                                     |\n",
    "|     [Maria Ruth Jones](mailto:mjones5@worldbank.org)             |     Senior Economist - Field surveys                                                              |     DIME                                     |\n",
    "|     [Gabriel Stefanini Vicente](mailto:gvicente@worldbank.org)    |     Data Scientist - Cross border activity   monitoring using GPS data                            |     WB Data Lab, DECDG                       |\n",
    "|     [Andres Chamorro](mailto:achamorroelizond@worldbank.org)              |     Geographer - Tracking shipping routes,   change in agricultural production                    |     GOST, DECDG                              |\n",
    "|     [Sahiti Sarva](mailto:ssarva@worldbank.org)                 |     Data Scientist - Access, code and data   management                                           |     WB Data Lab, DECDG    |"
   ]
  },
  {
   "cell_type": "markdown",
   "id": "8613a892",
   "metadata": {},
   "source": [
    "The Data Lab would also like to express our appreciation for [Luan Zhao](mailto:lzhao1@worldbank.org), Senior Economist and Task Team Leader for the Syria Economic Monitor. Luan has provided enormous support (and encouragement!) to the Lab team, working alongside us as we experiment with new data methods and modes of collaboration, every step of the way. "
   ]
  },
  {
   "cell_type": "code",
   "execution_count": null,
   "id": "d0e77151",
   "metadata": {},
   "outputs": [],
   "source": []
  }
 ],
 "metadata": {
  "kernelspec": {
   "display_name": "Python 3 (ipykernel)",
   "language": "python",
   "name": "python3"
  },
  "language_info": {
   "codemirror_mode": {
    "name": "ipython",
    "version": 3
   },
   "file_extension": ".py",
   "mimetype": "text/x-python",
   "name": "python",
   "nbconvert_exporter": "python",
   "pygments_lexer": "ipython3",
   "version": "3.9.12"
  }
 },
 "nbformat": 4,
 "nbformat_minor": 5
}
