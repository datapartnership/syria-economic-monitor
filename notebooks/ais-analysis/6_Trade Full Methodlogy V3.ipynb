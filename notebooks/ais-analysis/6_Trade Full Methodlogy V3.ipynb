{
 "cells": [
  {
   "cell_type": "markdown",
   "metadata": {},
   "source": [
    "This notebook implements the AIS-derived trade estimation methodology from:  \n",
    "[Global economic impacts of COVID-19 lockdown measures stand out in high-frequency shipping data, Vesrchuur et al 2021](https://journals.plos.org/plosone/article?id=10.1371/journal.pone.0248818#pone.0248818.s001)"
   ]
  },
  {
   "cell_type": "markdown",
   "metadata": {},
   "source": [
    "0.1 Load libraries"
   ]
  },
  {
   "cell_type": "code",
   "execution_count": 298,
   "metadata": {},
   "outputs": [
    {
     "name": "stdout",
     "output_type": "stream",
     "text": [
      "The autoreload extension is already loaded. To reload it, use:\n",
      "  %reload_ext autoreload\n"
     ]
    }
   ],
   "source": [
    "%load_ext autoreload\n",
    "%autoreload 2"
   ]
  },
  {
   "cell_type": "code",
   "execution_count": 2,
   "metadata": {},
   "outputs": [],
   "source": [
    "import os\n",
    "from os.path import join\n",
    "from glob import glob\n",
    "import pandas as pd\n",
    "import geopandas as gpd\n",
    "import folium\n",
    "from shapely.geometry import Point\n",
    "import folium.plugins as plugins\n",
    "import seaborn as sns\n",
    "from matplotlib import pyplot as plt\n",
    "\n",
    "import numpy as np\n",
    "import datetime\n",
    "from datetime import timedelta\n",
    "from port_call import create_port_calls\n",
    "import boto3\n",
    "\n",
    "from sklearn.ensemble import RandomForestClassifier\n",
    "from sklearn.model_selection import train_test_split\n",
    "from sklearn import metrics "
   ]
  },
  {
   "cell_type": "code",
   "execution_count": 3,
   "metadata": {},
   "outputs": [],
   "source": [
    "pd.options.display.max_columns = None"
   ]
  },
  {
   "cell_type": "markdown",
   "metadata": {},
   "source": [
    "0.2 Load AIS data"
   ]
  },
  {
   "cell_type": "markdown",
   "metadata": {},
   "source": [
    "AIS data has been accessed through the [UN Big Data Platform](https://unstats.un.org/wiki/display/AIS/AIS+Handbook).  \n",
    "\n",
    "We have retrieved all AIS messages that intersect a 20 km. buffer from each port in Syria (Al Ladhiqiyah, Tartus, Baniyas), available from December 1st 2018 to August 31st 2022."
   ]
  },
  {
   "cell_type": "code",
   "execution_count": 4,
   "metadata": {},
   "outputs": [],
   "source": [
    "ais_dir = join(os.path.expanduser(\"~\"), 'data', 'AIS')\n",
    "data_dir = join(ais_dir, 'Syria')"
   ]
  },
  {
   "cell_type": "code",
   "execution_count": 5,
   "metadata": {},
   "outputs": [],
   "source": [
    "data_files = glob(data_dir+\"/*.csv\")"
   ]
  },
  {
   "cell_type": "code",
   "execution_count": 6,
   "metadata": {},
   "outputs": [],
   "source": [
    "dfs = [pd.read_csv(f, index_col=0) for f in data_files]"
   ]
  },
  {
   "cell_type": "code",
   "execution_count": 7,
   "metadata": {},
   "outputs": [],
   "source": [
    "df = pd.concat(dfs)"
   ]
  },
  {
   "cell_type": "code",
   "execution_count": 8,
   "metadata": {
    "scrolled": true
   },
   "outputs": [
    {
     "data": {
      "text/plain": [
       "array(['AL LADHIQIYAH', 'TARTUS', 'BANIYAS'], dtype=object)"
      ]
     },
     "execution_count": 8,
     "metadata": {},
     "output_type": "execute_result"
    }
   ],
   "source": [
    "df.polygon_name.unique()"
   ]
  },
  {
   "cell_type": "code",
   "execution_count": 9,
   "metadata": {},
   "outputs": [],
   "source": [
    "df_latakia = df.loc[df.polygon_name==\"AL LADHIQIYAH\"].copy()\n",
    "df_tartus = df.loc[df.polygon_name==\"TARTUS\"].copy()\n",
    "df_baniyas = df.loc[df.polygon_name==\"BANIYAS\"].copy()"
   ]
  },
  {
   "cell_type": "code",
   "execution_count": 10,
   "metadata": {},
   "outputs": [],
   "source": [
    "start = '2018-12-01'\n",
    "end = '2022-08-31'\n",
    "country = \"Syria\""
   ]
  },
  {
   "cell_type": "markdown",
   "metadata": {},
   "source": [
    "#### 1.2 Data Preparation"
   ]
  },
  {
   "cell_type": "markdown",
   "metadata": {},
   "source": [
    "Run port call algorithm that converts AIS messages into trips.  \n",
    "\n",
    "The port call algorithm sorts AIS data by MMSI (unique identified per ship) and date/time of AIS message. It then captures days with consecutive AIS messages and groups them into a single trip, calculating new attributes for each trip: turnaround-time (total time spent at port between arrival and departure), difference in reported draft, and difference in  direction of travel."
   ]
  },
  {
   "cell_type": "code",
   "execution_count": 14,
   "metadata": {
    "scrolled": true
   },
   "outputs": [],
   "source": [
    "trips = create_port_calls(df_latakia, start, end, \"Latakia\", \"Syria\")"
   ]
  },
  {
   "cell_type": "code",
   "execution_count": 15,
   "metadata": {},
   "outputs": [
    {
     "data": {
      "text/plain": [
       "793"
      ]
     },
     "execution_count": 15,
     "metadata": {},
     "output_type": "execute_result"
    }
   ],
   "source": [
    "len(trips)"
   ]
  },
  {
   "cell_type": "markdown",
   "metadata": {},
   "source": [
    "Filter out trips that are not related to trade  \n",
    "- Only cargo and tanker vessels\n",
    "- Turnaround time < 5 hours or > 95th percentile (refueling or maintenance)\n",
    "- Turnaround time < 10 hours and direction within 45 degrees (passing by)\n",
    "- Vessel types or subtypes that do not relate to trade"
   ]
  },
  {
   "cell_type": "code",
   "execution_count": 16,
   "metadata": {},
   "outputs": [],
   "source": [
    "trips.loc[trips.turn_around_time < 5, \"passing2\"] = \"refueling\"\n",
    "trips.loc[trips.turn_around_time > np.percentile(trips.turn_around_time, 95), \"passing2\"] = \"maintenance\"\n",
    "trips.loc[(trips.turn_around_time < 10) & (trips['heading-diff'].abs()<45), \"passing2\"] = \"passing by\""
   ]
  },
  {
   "cell_type": "code",
   "execution_count": 17,
   "metadata": {},
   "outputs": [
    {
     "data": {
      "text/plain": [
       "passing by     98\n",
       "maintenance    40\n",
       "refueling      20\n",
       "Name: passing2, dtype: int64"
      ]
     },
     "execution_count": 17,
     "metadata": {},
     "output_type": "execute_result"
    }
   ],
   "source": [
    "trips.passing2.value_counts()"
   ]
  },
  {
   "cell_type": "code",
   "execution_count": 18,
   "metadata": {},
   "outputs": [],
   "source": [
    "data = trips.loc[trips.passing2.isna()].copy()"
   ]
  },
  {
   "cell_type": "code",
   "execution_count": 19,
   "metadata": {},
   "outputs": [
    {
     "data": {
      "text/plain": [
       "635"
      ]
     },
     "execution_count": 19,
     "metadata": {},
     "output_type": "execute_result"
    }
   ],
   "source": [
    "len(data)"
   ]
  },
  {
   "cell_type": "code",
   "execution_count": 20,
   "metadata": {},
   "outputs": [
    {
     "data": {
      "text/plain": [
       "array(['Cargo', 'UNAVAILABLE', 'Passenger', 'Unknown', 'Reserved'],\n",
       "      dtype=object)"
      ]
     },
     "execution_count": 20,
     "metadata": {},
     "output_type": "execute_result"
    }
   ],
   "source": [
    "data.vessel_type.unique()"
   ]
  },
  {
   "cell_type": "code",
   "execution_count": 21,
   "metadata": {},
   "outputs": [
    {
     "data": {
      "text/plain": [
       "array(['Container Ship', 'General Cargo Ship', nan,\n",
       "       'Oil And Chemical Tanker', 'Bulk Carrier', 'Ro Ro Cargo Ship',\n",
       "       'Specialized Cargo Ship', 'Offshore Vessel'], dtype=object)"
      ]
     },
     "execution_count": 21,
     "metadata": {},
     "output_type": "execute_result"
    }
   ],
   "source": [
    "data.vessel_type_main.unique()"
   ]
  },
  {
   "cell_type": "code",
   "execution_count": 22,
   "metadata": {},
   "outputs": [
    {
     "data": {
      "text/plain": [
       "array([nan], dtype=object)"
      ]
     },
     "execution_count": 22,
     "metadata": {},
     "output_type": "execute_result"
    }
   ],
   "source": [
    "data.loc[data.vessel_type==\"Reserved\", \"vessel_type_main\"].unique()"
   ]
  },
  {
   "cell_type": "code",
   "execution_count": 23,
   "metadata": {},
   "outputs": [
    {
     "data": {
      "text/plain": [
       "array(['Ro Ro Cargo Ship', nan], dtype=object)"
      ]
     },
     "execution_count": 23,
     "metadata": {},
     "output_type": "execute_result"
    }
   ],
   "source": [
    "data.loc[data.vessel_type==\"Passenger\", \"vessel_type_main\"].unique()"
   ]
  },
  {
   "cell_type": "code",
   "execution_count": 24,
   "metadata": {},
   "outputs": [],
   "source": [
    "drop_types = [\"Reserved\", \"Passenger\"]\n",
    "data = data.loc[~(data.vessel_type.isin(drop_types))].copy()"
   ]
  },
  {
   "cell_type": "code",
   "execution_count": 25,
   "metadata": {},
   "outputs": [
    {
     "data": {
      "text/plain": [
       "627"
      ]
     },
     "execution_count": 25,
     "metadata": {},
     "output_type": "execute_result"
    }
   ],
   "source": [
    "len(data)"
   ]
  },
  {
   "cell_type": "code",
   "execution_count": 26,
   "metadata": {},
   "outputs": [
    {
     "data": {
      "text/plain": [
       "array([nan, 'Oil Products Tanker', 'Vehicles Carrier',\n",
       "       'Livestock Carrier', 'Offshore Tug Supply Ship'], dtype=object)"
      ]
     },
     "execution_count": 26,
     "metadata": {},
     "output_type": "execute_result"
    }
   ],
   "source": [
    "data.vessel_type_sub.unique()"
   ]
  },
  {
   "cell_type": "code",
   "execution_count": 27,
   "metadata": {},
   "outputs": [],
   "source": [
    "drop_sub_types = [\"Offshore Tug Supply Ship\", \"Crewboat\"]\n",
    "data = data.loc[~(data.vessel_type_sub.isin(drop_sub_types))].copy()"
   ]
  },
  {
   "cell_type": "code",
   "execution_count": 28,
   "metadata": {},
   "outputs": [
    {
     "data": {
      "text/plain": [
       "625"
      ]
     },
     "execution_count": 28,
     "metadata": {},
     "output_type": "execute_result"
    }
   ],
   "source": [
    "len(data)"
   ]
  },
  {
   "cell_type": "markdown",
   "metadata": {},
   "source": [
    "#### 1.3 Predict DWT"
   ]
  },
  {
   "cell_type": "markdown",
   "metadata": {},
   "source": [
    "Match vessel information from Fleetmon database, and impute missing values"
   ]
  },
  {
   "cell_type": "code",
   "execution_count": 29,
   "metadata": {},
   "outputs": [],
   "source": [
    "data.loc[:, \"mmsi\"] = data.loc[:, \"mmsi\"].astype('int')"
   ]
  },
  {
   "cell_type": "code",
   "execution_count": 30,
   "metadata": {},
   "outputs": [],
   "source": [
    "vessels = pd.read_csv(join(ais_dir, \"vessel_database_full.csv\"))"
   ]
  },
  {
   "cell_type": "code",
   "execution_count": 31,
   "metadata": {},
   "outputs": [],
   "source": [
    "# vessels = pd.read_excel(join(ais_dir, \"Pacific_vessel_database_2021_new.xlsx\"), 0)"
   ]
  },
  {
   "cell_type": "code",
   "execution_count": 32,
   "metadata": {
    "scrolled": true
   },
   "outputs": [
    {
     "data": {
      "text/html": [
       "<div>\n",
       "<style scoped>\n",
       "    .dataframe tbody tr th:only-of-type {\n",
       "        vertical-align: middle;\n",
       "    }\n",
       "\n",
       "    .dataframe tbody tr th {\n",
       "        vertical-align: top;\n",
       "    }\n",
       "\n",
       "    .dataframe thead th {\n",
       "        text-align: right;\n",
       "    }\n",
       "</style>\n",
       "<table border=\"1\" class=\"dataframe\">\n",
       "  <thead>\n",
       "    <tr style=\"text-align: right;\">\n",
       "      <th></th>\n",
       "      <th>mmsi</th>\n",
       "      <th>dwt</th>\n",
       "      <th>length_design</th>\n",
       "      <th>width_design</th>\n",
       "      <th>draught_design</th>\n",
       "      <th>block</th>\n",
       "      <th>vessel_type_AIS</th>\n",
       "      <th>sub_type</th>\n",
       "      <th>sub_vessel_type_AIS</th>\n",
       "    </tr>\n",
       "  </thead>\n",
       "  <tbody>\n",
       "    <tr>\n",
       "      <th>0</th>\n",
       "      <td>667001408</td>\n",
       "      <td>82.0</td>\n",
       "      <td>34.5</td>\n",
       "      <td>11.008</td>\n",
       "      <td>2.1</td>\n",
       "      <td>0.67</td>\n",
       "      <td>Cargo</td>\n",
       "      <td>Container Ship</td>\n",
       "      <td>Container</td>\n",
       "    </tr>\n",
       "    <tr>\n",
       "      <th>1</th>\n",
       "      <td>351863000</td>\n",
       "      <td>90.0</td>\n",
       "      <td>30.5</td>\n",
       "      <td>9.919</td>\n",
       "      <td>3.5</td>\n",
       "      <td>0.67</td>\n",
       "      <td>Cargo</td>\n",
       "      <td>Container Ship</td>\n",
       "      <td>Container</td>\n",
       "    </tr>\n",
       "  </tbody>\n",
       "</table>\n",
       "</div>"
      ],
      "text/plain": [
       "        mmsi   dwt  length_design  width_design  draught_design  block  \\\n",
       "0  667001408  82.0           34.5        11.008             2.1   0.67   \n",
       "1  351863000  90.0           30.5         9.919             3.5   0.67   \n",
       "\n",
       "  vessel_type_AIS        sub_type sub_vessel_type_AIS  \n",
       "0           Cargo  Container Ship           Container  \n",
       "1           Cargo  Container Ship           Container  "
      ]
     },
     "execution_count": 32,
     "metadata": {},
     "output_type": "execute_result"
    }
   ],
   "source": [
    "vessels.head(2)"
   ]
  },
  {
   "cell_type": "code",
   "execution_count": 37,
   "metadata": {},
   "outputs": [],
   "source": [
    "vessels.rename(columns={\n",
    "    'length_design':'length',\n",
    "    'width_design':'width',\n",
    "    'vessel_type_AIS':'vessel_type',\n",
    "    'sub_vessel_type_AIS':'sub_vessel_type'\n",
    "}, inplace=True)"
   ]
  },
  {
   "cell_type": "code",
   "execution_count": 38,
   "metadata": {},
   "outputs": [],
   "source": [
    "vessels = vessels.loc[~(vessels.mmsi.isna())].copy()"
   ]
  },
  {
   "cell_type": "code",
   "execution_count": 39,
   "metadata": {},
   "outputs": [],
   "source": [
    "vessels.loc[:, \"mmsi\"] = vessels.loc[:, \"mmsi\"].astype('int')"
   ]
  },
  {
   "cell_type": "code",
   "execution_count": 40,
   "metadata": {},
   "outputs": [],
   "source": [
    "vessels_filt = vessels[['sub_type', 'vessel_type', 'mmsi', 'dwt', 'length', 'width', 'draught_design']].copy()"
   ]
  },
  {
   "cell_type": "code",
   "execution_count": 41,
   "metadata": {},
   "outputs": [],
   "source": [
    "# vessels_filt = vessels[['sub_vessel_type', 'vessel_type', 'mmsi', 'dwt', 'gt', 'length', 'width', 'Draft', 'flag']].copy()"
   ]
  },
  {
   "cell_type": "code",
   "execution_count": 42,
   "metadata": {},
   "outputs": [],
   "source": [
    "vessels_filt.loc[:, 'vessel_info'] = 1"
   ]
  },
  {
   "cell_type": "code",
   "execution_count": 43,
   "metadata": {},
   "outputs": [],
   "source": [
    "data_join = data.merge(vessels_filt, on='mmsi', how='left', suffixes=['_ais', '_vessel'])"
   ]
  },
  {
   "cell_type": "code",
   "execution_count": 44,
   "metadata": {},
   "outputs": [],
   "source": [
    "data_join.loc[data_join.vessel_info.isna(), \"vessel_info\"] = 0"
   ]
  },
  {
   "cell_type": "code",
   "execution_count": 45,
   "metadata": {},
   "outputs": [
    {
     "data": {
      "text/plain": [
       "1.0    619\n",
       "0.0      6\n",
       "Name: vessel_info, dtype: int64"
      ]
     },
     "execution_count": 45,
     "metadata": {},
     "output_type": "execute_result"
    }
   ],
   "source": [
    "data_join.vessel_info.value_counts()"
   ]
  },
  {
   "cell_type": "markdown",
   "metadata": {},
   "source": [
    "Prepare attributes for later use"
   ]
  },
  {
   "cell_type": "code",
   "execution_count": 46,
   "metadata": {},
   "outputs": [],
   "source": [
    "block_coefficients = {\n",
    "    'bulk':0.79,\n",
    "    'container':0.73,\n",
    "    'tanker':0.83,\n",
    "    'LNG':0.79\n",
    "}\n",
    "# groups = {\n",
    "#     'Dry Bulk':['Bulk carrier'],\n",
    "#     'Container':['Container ship'],\n",
    "#     'General Cargo':['General cargo vessel', 'Cargo ship'],\n",
    "#     'Reefer':['Reefer'],\n",
    "#     'Vehicle carrier':['Vehicle carrier'],\n",
    "#     'Ro Ro Cargo Ship':['RoRo ship'],\n",
    "#     'Animal products':['livestock carrier'],\n",
    "#     'Forest':['Forest-producer carrier']\n",
    "# }"
   ]
  },
  {
   "cell_type": "code",
   "execution_count": 47,
   "metadata": {
    "scrolled": true
   },
   "outputs": [],
   "source": [
    "# data_join.to_csv(join(ais_dir, \"port_calls_latakia.csv\"))\n",
    "# data_join = pd.read_csv(join(ais_dir, \"port_calls_latakia.csv\"), index_col=0)"
   ]
  },
  {
   "cell_type": "code",
   "execution_count": 48,
   "metadata": {},
   "outputs": [],
   "source": [
    "data_join.loc[:, \"draught_delta\"] = 1"
   ]
  },
  {
   "cell_type": "code",
   "execution_count": 49,
   "metadata": {},
   "outputs": [],
   "source": [
    "data_join.loc[data_join['draught-diff']==0, \"draught_delta\"] = 0"
   ]
  },
  {
   "cell_type": "code",
   "execution_count": 50,
   "metadata": {},
   "outputs": [
    {
     "data": {
      "text/plain": [
       "0    0.6192\n",
       "1    0.3808\n",
       "Name: draught_delta, dtype: float64"
      ]
     },
     "execution_count": 50,
     "metadata": {},
     "output_type": "execute_result"
    }
   ],
   "source": [
    "data_join.draught_delta.value_counts()/len(data_join)"
   ]
  },
  {
   "cell_type": "markdown",
   "metadata": {},
   "source": [
    "Only 38% have some draught delta"
   ]
  },
  {
   "cell_type": "code",
   "execution_count": 51,
   "metadata": {},
   "outputs": [],
   "source": [
    "data_join.loc[:, 'draft_ais_max'] = data_join[['draught-in', 'draught-out']].max(axis=1)"
   ]
  },
  {
   "cell_type": "code",
   "execution_count": 52,
   "metadata": {},
   "outputs": [],
   "source": [
    "train = data_join[(data_join.vessel_info==1) & (~data_join.dwt.isna())].copy()"
   ]
  },
  {
   "cell_type": "code",
   "execution_count": 53,
   "metadata": {},
   "outputs": [],
   "source": [
    "df_missing = data_join[data_join.dwt.isna()].copy()"
   ]
  },
  {
   "cell_type": "code",
   "execution_count": 54,
   "metadata": {},
   "outputs": [
    {
     "data": {
      "text/plain": [
       "True"
      ]
     },
     "execution_count": 54,
     "metadata": {},
     "output_type": "execute_result"
    }
   ],
   "source": [
    "len(train)+len(df_missing)== len(data_join)"
   ]
  },
  {
   "cell_type": "code",
   "execution_count": 57,
   "metadata": {},
   "outputs": [
    {
     "data": {
      "text/plain": [
       "(0, 0, 0, 0)"
      ]
     },
     "execution_count": 57,
     "metadata": {},
     "output_type": "execute_result"
    }
   ],
   "source": [
    "train.length_vessel.isna().sum(), train.width_vessel.isna().sum(), train.draught_design.isna().sum(), train.dwt.isna().sum()"
   ]
  },
  {
   "cell_type": "code",
   "execution_count": 58,
   "metadata": {},
   "outputs": [
    {
     "data": {
      "text/plain": [
       "0      13623\n",
       "1      20624\n",
       "2      17728\n",
       "3      35181\n",
       "4      13623\n",
       "       ...  \n",
       "620    31760\n",
       "621    31760\n",
       "622    35220\n",
       "623    31760\n",
       "624     9389\n",
       "Name: dwt, Length: 619, dtype: int64"
      ]
     },
     "execution_count": 58,
     "metadata": {},
     "output_type": "execute_result"
    }
   ],
   "source": [
    "train.dwt.astype('int')"
   ]
  },
  {
   "cell_type": "code",
   "execution_count": 63,
   "metadata": {},
   "outputs": [
    {
     "data": {
      "text/plain": [
       "True"
      ]
     },
     "execution_count": 63,
     "metadata": {},
     "output_type": "execute_result"
    }
   ],
   "source": [
    "y = list(train.dwt.astype('int'))\n",
    "X = [[row.length_vessel, row.width_vessel, row.draught_design] for idx, row in train.iterrows()]\n",
    "len(y)==len(X)"
   ]
  },
  {
   "cell_type": "code",
   "execution_count": 64,
   "metadata": {},
   "outputs": [],
   "source": [
    "# Spliting arrays or matrices into random train and test subsets\n",
    "# i.e. 70 % training dataset and 25 % test datasets\n",
    "X_train, X_test, y_train, y_test = train_test_split(X, y, test_size = 0.25)"
   ]
  },
  {
   "cell_type": "code",
   "execution_count": 66,
   "metadata": {},
   "outputs": [
    {
     "name": "stdout",
     "output_type": "stream",
     "text": [
      "ACCURACY OF THE MODEL:  0.7806451612903226\n",
      "R-Squared OF THE MODEL:  0.9944090737438522\n"
     ]
    }
   ],
   "source": [
    "# creating a RF classifier\n",
    "clf = RandomForestClassifier(n_estimators = 500, random_state=1) \n",
    " \n",
    "# Training the model on the training dataset\n",
    "# fit function is used to train the model using the training sets as parameters\n",
    "clf.fit(X_train, y_train)\n",
    " \n",
    "# performing predictions on the test dataset\n",
    "y_pred = clf.predict(X_test)\n",
    "\n",
    "# using metrics module for accuracy calculation\n",
    "print(\"ACCURACY OF THE MODEL: \", metrics.accuracy_score(y_test, y_pred))\n",
    "print(\"R-Squared OF THE MODEL: \", metrics.r2_score(y_test, y_pred))"
   ]
  },
  {
   "cell_type": "code",
   "execution_count": 68,
   "metadata": {},
   "outputs": [],
   "source": [
    "X_missing = [[row.length_ais, row.width_ais, row.draft_ais_max] for idx, row in df_missing.iterrows()]"
   ]
  },
  {
   "cell_type": "code",
   "execution_count": 69,
   "metadata": {
    "scrolled": true
   },
   "outputs": [],
   "source": [
    "pred_with_missing = clf.predict(X_missing)"
   ]
  },
  {
   "cell_type": "code",
   "execution_count": 70,
   "metadata": {},
   "outputs": [],
   "source": [
    "df_missing.dwt = pred_with_missing"
   ]
  },
  {
   "cell_type": "code",
   "execution_count": 71,
   "metadata": {},
   "outputs": [],
   "source": [
    "data_join.loc[data_join.dwt.isna(), 'dwt'] = df_missing.dwt"
   ]
  },
  {
   "cell_type": "code",
   "execution_count": 72,
   "metadata": {},
   "outputs": [],
   "source": [
    "df = data_join.copy()"
   ]
  },
  {
   "cell_type": "markdown",
   "metadata": {},
   "source": [
    "Add block coefficient category"
   ]
  },
  {
   "cell_type": "code",
   "execution_count": 73,
   "metadata": {},
   "outputs": [
    {
     "data": {
      "text/plain": [
       "Index(['date-leave', 'mmsi', 'turn_around_time', 'datetime-leave',\n",
       "       'draught-out', 'heading-out', 'seconds', 'datetime-entry', 'date-entry',\n",
       "       'vessel_type_ais', 'dtg', 'length_ais', 'width_ais', 'draught-in',\n",
       "       'heading-in', 'vessel_type_main', 'vessel_type_sub', 'draught-diff',\n",
       "       'heading-diff', 'passing', 'port-name', 'country', 'passing2',\n",
       "       'sub_type', 'vessel_type_vessel', 'dwt', 'length_vessel',\n",
       "       'width_vessel', 'draught_design', 'vessel_info', 'draught_delta',\n",
       "       'draft_ais_max'],\n",
       "      dtype='object')"
      ]
     },
     "execution_count": 73,
     "metadata": {},
     "output_type": "execute_result"
    }
   ],
   "source": [
    "df.columns"
   ]
  },
  {
   "cell_type": "code",
   "execution_count": 74,
   "metadata": {},
   "outputs": [],
   "source": [
    "df.loc[:, 'block_cat'] = \"\""
   ]
  },
  {
   "cell_type": "code",
   "execution_count": 75,
   "metadata": {},
   "outputs": [
    {
     "data": {
      "text/plain": [
       "177"
      ]
     },
     "execution_count": 75,
     "metadata": {},
     "output_type": "execute_result"
    }
   ],
   "source": [
    "df.loc[:, 'vessel_type_best'] = df.sub_type #df.sub_vessel_type\n",
    "df.vessel_type_best.isna().sum()"
   ]
  },
  {
   "cell_type": "code",
   "execution_count": 76,
   "metadata": {},
   "outputs": [
    {
     "data": {
      "text/plain": [
       "6"
      ]
     },
     "execution_count": 76,
     "metadata": {},
     "output_type": "execute_result"
    }
   ],
   "source": [
    "df.loc[df.vessel_type_best.isna(), 'vessel_type_best'] = df.loc[df.vessel_type_best.isna(), 'vessel_type_vessel'] # vessel_type_vessel\n",
    "df.vessel_type_best.isna().sum()"
   ]
  },
  {
   "cell_type": "code",
   "execution_count": 77,
   "metadata": {},
   "outputs": [
    {
     "data": {
      "text/plain": [
       "6"
      ]
     },
     "execution_count": 77,
     "metadata": {},
     "output_type": "execute_result"
    }
   ],
   "source": [
    "df.loc[df.vessel_type_best.isna(), 'vessel_type_best'] = df.loc[df.vessel_type_best.isna(), 'vessel_type_sub']\n",
    "df.vessel_type_best.isna().sum()"
   ]
  },
  {
   "cell_type": "code",
   "execution_count": 78,
   "metadata": {},
   "outputs": [
    {
     "data": {
      "text/plain": [
       "5"
      ]
     },
     "execution_count": 78,
     "metadata": {},
     "output_type": "execute_result"
    }
   ],
   "source": [
    "df.loc[df.vessel_type_best.isna(), 'vessel_type_best'] = df.loc[df.vessel_type_best.isna(), 'vessel_type_main']\n",
    "df.vessel_type_best.isna().sum()"
   ]
  },
  {
   "cell_type": "code",
   "execution_count": 81,
   "metadata": {},
   "outputs": [
    {
     "data": {
      "text/plain": [
       "0"
      ]
     },
     "execution_count": 81,
     "metadata": {},
     "output_type": "execute_result"
    }
   ],
   "source": [
    "df.loc[df.vessel_type_best.isna(), 'vessel_type_best'] = df.loc[df.vessel_type_best.isna(), 'vessel_type_ais']\n",
    "df.vessel_type_best.isna().sum()"
   ]
  },
  {
   "cell_type": "code",
   "execution_count": 82,
   "metadata": {},
   "outputs": [],
   "source": [
    "df.loc[df.vessel_type_best.str.lower().str.contains('container'), \"block_cat\"] = 'container'\n",
    "df.loc[df.vessel_type_best.str.lower().str.contains('bulk'), \"block_cat\"] = 'bulk'\n",
    "df.loc[df.vessel_type_best.str.lower().str.contains('tanker'), \"block_cat\"] = 'tanker'\n",
    "df.loc[df.vessel_type_best.str.lower().str.contains('lng'), \"block_cat\"] = 'LNG'"
   ]
  },
  {
   "cell_type": "code",
   "execution_count": 83,
   "metadata": {
    "scrolled": true
   },
   "outputs": [
    {
     "data": {
      "text/plain": [
       "array(['General Cargo Ship', 'Cargo', 'Vehicles Carrier',\n",
       "       'Livestock Carrier'], dtype=object)"
      ]
     },
     "execution_count": 83,
     "metadata": {},
     "output_type": "execute_result"
    }
   ],
   "source": [
    "df.loc[df.block_cat=='', \"vessel_type_best\"].unique()"
   ]
  },
  {
   "cell_type": "code",
   "execution_count": 84,
   "metadata": {},
   "outputs": [],
   "source": [
    "df.loc[df.vessel_type_best.str.lower().str.contains('cargo'), \"block_cat\"] = 'container'\n",
    "df.loc[df.vessel_type_best.str.lower().str.contains('roro'), \"block_cat\"] = 'container'\n",
    "df.loc[df.vessel_type_best.str.lower().str.contains('vehicle'), \"block_cat\"] = 'container'\n",
    "df.loc[df.vessel_type_best.str.lower().str.contains('forest'), \"block_cat\"] = 'bulk'\n",
    "df.loc[df.vessel_type_best.str.lower().str.contains('livestock'), \"block_cat\"] = 'container'\n",
    "df.loc[df.vessel_type_best.str.lower().str.contains('reefer'), \"block_cat\"] = 'container'"
   ]
  },
  {
   "cell_type": "code",
   "execution_count": 85,
   "metadata": {},
   "outputs": [
    {
     "data": {
      "text/plain": [
       "array(['container', 'tanker', 'bulk'], dtype=object)"
      ]
     },
     "execution_count": 85,
     "metadata": {},
     "output_type": "execute_result"
    }
   ],
   "source": [
    "df.block_cat.unique()"
   ]
  },
  {
   "cell_type": "markdown",
   "metadata": {},
   "source": [
    "Get draft differences from next"
   ]
  },
  {
   "cell_type": "code",
   "execution_count": 86,
   "metadata": {},
   "outputs": [],
   "source": [
    "aws_bucket = \"wbgdecinternal-ntl\"\n",
    "path = \"Andres_Temp/AIS\""
   ]
  },
  {
   "cell_type": "code",
   "execution_count": 87,
   "metadata": {},
   "outputs": [],
   "source": [
    "client = boto3.client('s3')"
   ]
  },
  {
   "cell_type": "code",
   "execution_count": 88,
   "metadata": {},
   "outputs": [],
   "source": [
    "file_list = client.list_objects_v2(Bucket=aws_bucket, Prefix=path, MaxKeys=5000)\n",
    "bucket_files = [os.path.join(\"s3://\", aws_bucket, content['Key']) for content in file_list['Contents']]\n",
    "# bucket_files"
   ]
  },
  {
   "cell_type": "code",
   "execution_count": 89,
   "metadata": {},
   "outputs": [],
   "source": [
    "df_next = pd.read_csv('s3://wbgdecinternal-ntl/Andres_Temp/AIS/Latakia_next_draught.csv', index_col=0)"
   ]
  },
  {
   "cell_type": "code",
   "execution_count": 90,
   "metadata": {},
   "outputs": [
    {
     "data": {
      "text/plain": [
       "308"
      ]
     },
     "execution_count": 90,
     "metadata": {},
     "output_type": "execute_result"
    }
   ],
   "source": [
    "len(df_next)"
   ]
  },
  {
   "cell_type": "code",
   "execution_count": 91,
   "metadata": {},
   "outputs": [],
   "source": [
    "df_orig = pd.read_csv(join(ais_dir, \"port_calls_latakia.csv\"), index_col=0)"
   ]
  },
  {
   "cell_type": "code",
   "execution_count": 92,
   "metadata": {},
   "outputs": [],
   "source": [
    "df_next = df_next.join(df_orig[['turn_around_time', 'date-leave']])"
   ]
  },
  {
   "cell_type": "code",
   "execution_count": 93,
   "metadata": {},
   "outputs": [],
   "source": [
    "df = df.merge(df_next[['mmsi', 'draught', 'heading', 'date-leave', 'turn_around_time']], on=['mmsi', 'date-leave', 'turn_around_time'], how='left').copy()"
   ]
  },
  {
   "cell_type": "code",
   "execution_count": 94,
   "metadata": {},
   "outputs": [],
   "source": [
    "df.loc[(df.draught_delta==0) & (~df.draught.isna()), \"draught-out\"] = df.loc[(df.draught_delta==0) & (~df.draught.isna()), \"draught\"]\n",
    "df.loc[(df.draught_delta==0) & (~df.draught.isna()), \"heading-out\"] = df.loc[(df.draught_delta==0) & (~df.draught.isna()), \"heading\"]"
   ]
  },
  {
   "cell_type": "code",
   "execution_count": 95,
   "metadata": {},
   "outputs": [],
   "source": [
    "df['draught-diff'] = df['draught-out'] - df['draught-in']"
   ]
  },
  {
   "cell_type": "code",
   "execution_count": 96,
   "metadata": {},
   "outputs": [],
   "source": [
    "df.loc[df['draught-diff']!=0, \"draught_delta\"] = 1"
   ]
  },
  {
   "cell_type": "code",
   "execution_count": 97,
   "metadata": {},
   "outputs": [
    {
     "data": {
      "text/plain": [
       "1    482\n",
       "0    143\n",
       "Name: draught_delta, dtype: int64"
      ]
     },
     "execution_count": 97,
     "metadata": {},
     "output_type": "execute_result"
    }
   ],
   "source": [
    "df.draught_delta.value_counts()"
   ]
  },
  {
   "cell_type": "markdown",
   "metadata": {},
   "source": [
    "Calculate payload"
   ]
  },
  {
   "cell_type": "code",
   "execution_count": 110,
   "metadata": {},
   "outputs": [],
   "source": [
    "df.loc[df['draught-in']==0, 'draught_delta'] = 0\n",
    "df.loc[df['draught-out']==0, 'draught_delta'] = 0\n",
    "df.loc[df['draught-in']==0, 'draught-diff'] = 0\n",
    "df.loc[df['draught-out']==0, 'draught-diff'] = 0"
   ]
  },
  {
   "cell_type": "code",
   "execution_count": 111,
   "metadata": {},
   "outputs": [],
   "source": [
    "df.loc[:, 'draft_max'] = df[['draught_design', 'draught-in', 'draught-out']].max(axis=1)"
   ]
  },
  {
   "cell_type": "code",
   "execution_count": 112,
   "metadata": {},
   "outputs": [
    {
     "data": {
      "text/plain": [
       "Index(['date-leave', 'mmsi', 'turn_around_time', 'datetime-leave',\n",
       "       'draught-out', 'heading-out', 'seconds', 'datetime-entry', 'date-entry',\n",
       "       'vessel_type_ais', 'dtg', 'length_ais', 'width_ais', 'draught-in',\n",
       "       'heading-in', 'vessel_type_main', 'vessel_type_sub', 'draught-diff',\n",
       "       'heading-diff', 'passing', 'port-name', 'country', 'passing2',\n",
       "       'sub_type', 'vessel_type_vessel', 'dwt', 'length_vessel',\n",
       "       'width_vessel', 'draught_design', 'vessel_info', 'draught_delta',\n",
       "       'draft_ais_max', 'block_cat', 'vessel_type_best', 'draught', 'heading',\n",
       "       'draft_max', 'length', 'width', 'payload_in', 'payload_out'],\n",
       "      dtype='object')"
      ]
     },
     "execution_count": 112,
     "metadata": {},
     "output_type": "execute_result"
    }
   ],
   "source": [
    "df.columns"
   ]
  },
  {
   "cell_type": "code",
   "execution_count": 113,
   "metadata": {},
   "outputs": [],
   "source": [
    "df.loc[:, 'length'] = df.loc[:, 'length_vessel']\n",
    "df.loc[df.length.isna(), 'length'] = df.loc[df.length.isna(), 'length_ais']"
   ]
  },
  {
   "cell_type": "code",
   "execution_count": 114,
   "metadata": {},
   "outputs": [],
   "source": [
    "df.loc[:, 'width'] = df.loc[:, 'width_vessel']\n",
    "df.loc[df.width.isna(), 'width'] = df.loc[df.width.isna(), 'width_ais']"
   ]
  },
  {
   "cell_type": "code",
   "execution_count": 115,
   "metadata": {},
   "outputs": [],
   "source": [
    "def calculate_payload(row, direction):\n",
    "    \n",
    "    # get parameters\n",
    "    Din = row['draught-in']\n",
    "    Dout = row['draught-out']\n",
    "    if Din==Dout:\n",
    "        return pd.NA\n",
    "    else:\n",
    "        L = row['length']\n",
    "        W = row['width']\n",
    "        Dd = row['draft_max']\n",
    "        DWT = row['dwt']\n",
    "        Cb = block_coefficients[row['block_cat']]\n",
    "        pw = 1.025 # tons/m3  1029kg/m3\n",
    "\n",
    "        if direction==\"in\":\n",
    "            Dr = Din\n",
    "        if direction =='out':\n",
    "            Dr = Dout\n",
    "\n",
    "        # calcualte block coefficient for reported draft\n",
    "        Cbr = 1 - ((1 - Cb)*((Dr / Dd)**(1/3)))\n",
    "\n",
    "        # calcualte payload rate\n",
    "        payload = ((((Cbr*Dr) - (Cb*Dd)) * (L*W*pw)) + DWT ) / DWT\n",
    "        return payload"
   ]
  },
  {
   "cell_type": "code",
   "execution_count": 116,
   "metadata": {},
   "outputs": [],
   "source": [
    "df.loc[:, \"payload_in\"] = df.apply(lambda x: calculate_payload(x, 'in'), axis=1)\n",
    "df.loc[:, \"payload_out\"] = df.apply(lambda x: calculate_payload(x, 'out'), axis=1)"
   ]
  },
  {
   "cell_type": "code",
   "execution_count": 117,
   "metadata": {},
   "outputs": [
    {
     "data": {
      "text/html": [
       "<div>\n",
       "<style scoped>\n",
       "    .dataframe tbody tr th:only-of-type {\n",
       "        vertical-align: middle;\n",
       "    }\n",
       "\n",
       "    .dataframe tbody tr th {\n",
       "        vertical-align: top;\n",
       "    }\n",
       "\n",
       "    .dataframe thead th {\n",
       "        text-align: right;\n",
       "    }\n",
       "</style>\n",
       "<table border=\"1\" class=\"dataframe\">\n",
       "  <thead>\n",
       "    <tr style=\"text-align: right;\">\n",
       "      <th></th>\n",
       "      <th>date-leave</th>\n",
       "      <th>mmsi</th>\n",
       "      <th>turn_around_time</th>\n",
       "      <th>datetime-leave</th>\n",
       "      <th>draught-out</th>\n",
       "      <th>heading-out</th>\n",
       "      <th>seconds</th>\n",
       "      <th>datetime-entry</th>\n",
       "      <th>date-entry</th>\n",
       "      <th>vessel_type_ais</th>\n",
       "      <th>dtg</th>\n",
       "      <th>length_ais</th>\n",
       "      <th>width_ais</th>\n",
       "      <th>draught-in</th>\n",
       "      <th>heading-in</th>\n",
       "      <th>vessel_type_main</th>\n",
       "      <th>vessel_type_sub</th>\n",
       "      <th>draught-diff</th>\n",
       "      <th>heading-diff</th>\n",
       "      <th>passing</th>\n",
       "      <th>port-name</th>\n",
       "      <th>country</th>\n",
       "      <th>passing2</th>\n",
       "      <th>sub_type</th>\n",
       "      <th>vessel_type_vessel</th>\n",
       "      <th>dwt</th>\n",
       "      <th>length_vessel</th>\n",
       "      <th>width_vessel</th>\n",
       "      <th>draught_design</th>\n",
       "      <th>vessel_info</th>\n",
       "      <th>draught_delta</th>\n",
       "      <th>draft_ais_max</th>\n",
       "      <th>block_cat</th>\n",
       "      <th>vessel_type_best</th>\n",
       "      <th>draught</th>\n",
       "      <th>heading</th>\n",
       "      <th>draft_max</th>\n",
       "      <th>length</th>\n",
       "      <th>width</th>\n",
       "      <th>payload_in</th>\n",
       "      <th>payload_out</th>\n",
       "    </tr>\n",
       "  </thead>\n",
       "  <tbody>\n",
       "    <tr>\n",
       "      <th>0</th>\n",
       "      <td>2019-01-07</td>\n",
       "      <td>271044398</td>\n",
       "      <td>31.154722</td>\n",
       "      <td>2019-01-07 15:06:36</td>\n",
       "      <td>6.4</td>\n",
       "      <td>0.0</td>\n",
       "      <td>112157.0</td>\n",
       "      <td>2019-01-06 07:57:19</td>\n",
       "      <td>2019-01-06</td>\n",
       "      <td>Cargo</td>\n",
       "      <td>2019-01-06 07:39:16</td>\n",
       "      <td>152.0</td>\n",
       "      <td>24.0</td>\n",
       "      <td>8.9</td>\n",
       "      <td>0.0</td>\n",
       "      <td>Container Ship</td>\n",
       "      <td>NaN</td>\n",
       "      <td>-2.5</td>\n",
       "      <td>0.0</td>\n",
       "      <td>3</td>\n",
       "      <td>Latakia</td>\n",
       "      <td>Syria</td>\n",
       "      <td>NaN</td>\n",
       "      <td>Container Ship</td>\n",
       "      <td>Cargo</td>\n",
       "      <td>13623.000000</td>\n",
       "      <td>151.0</td>\n",
       "      <td>24.0</td>\n",
       "      <td>8.25</td>\n",
       "      <td>1.0</td>\n",
       "      <td>1</td>\n",
       "      <td>8.9</td>\n",
       "      <td>container</td>\n",
       "      <td>Container Ship</td>\n",
       "      <td>6.4</td>\n",
       "      <td>0.0</td>\n",
       "      <td>8.9</td>\n",
       "      <td>151.0</td>\n",
       "      <td>24.0</td>\n",
       "      <td>1.0</td>\n",
       "      <td>0.551421</td>\n",
       "    </tr>\n",
       "    <tr>\n",
       "      <th>1</th>\n",
       "      <td>2019-01-10</td>\n",
       "      <td>271040403</td>\n",
       "      <td>10.353056</td>\n",
       "      <td>2019-01-10 19:54:11</td>\n",
       "      <td>9.3</td>\n",
       "      <td>48.0</td>\n",
       "      <td>37271.0</td>\n",
       "      <td>2019-01-10 09:33:00</td>\n",
       "      <td>2019-01-10</td>\n",
       "      <td>Cargo</td>\n",
       "      <td>2019-01-10 09:33:00</td>\n",
       "      <td>184.0</td>\n",
       "      <td>25.0</td>\n",
       "      <td>9.3</td>\n",
       "      <td>48.0</td>\n",
       "      <td>Container Ship</td>\n",
       "      <td>NaN</td>\n",
       "      <td>0.0</td>\n",
       "      <td>0.0</td>\n",
       "      <td>3</td>\n",
       "      <td>Latakia</td>\n",
       "      <td>Syria</td>\n",
       "      <td>NaN</td>\n",
       "      <td>Container Ship</td>\n",
       "      <td>Cargo</td>\n",
       "      <td>20624.133195</td>\n",
       "      <td>184.0</td>\n",
       "      <td>25.0</td>\n",
       "      <td>9.40</td>\n",
       "      <td>1.0</td>\n",
       "      <td>0</td>\n",
       "      <td>9.3</td>\n",
       "      <td>container</td>\n",
       "      <td>Container Ship</td>\n",
       "      <td>NaN</td>\n",
       "      <td>NaN</td>\n",
       "      <td>9.4</td>\n",
       "      <td>184.0</td>\n",
       "      <td>25.0</td>\n",
       "      <td>&lt;NA&gt;</td>\n",
       "      <td>&lt;NA&gt;</td>\n",
       "    </tr>\n",
       "  </tbody>\n",
       "</table>\n",
       "</div>"
      ],
      "text/plain": [
       "   date-leave       mmsi  turn_around_time      datetime-leave  draught-out  \\\n",
       "0  2019-01-07  271044398         31.154722 2019-01-07 15:06:36          6.4   \n",
       "1  2019-01-10  271040403         10.353056 2019-01-10 19:54:11          9.3   \n",
       "\n",
       "   heading-out   seconds      datetime-entry  date-entry vessel_type_ais  \\\n",
       "0          0.0  112157.0 2019-01-06 07:57:19  2019-01-06           Cargo   \n",
       "1         48.0   37271.0 2019-01-10 09:33:00  2019-01-10           Cargo   \n",
       "\n",
       "                  dtg  length_ais  width_ais  draught-in  heading-in  \\\n",
       "0 2019-01-06 07:39:16       152.0       24.0         8.9         0.0   \n",
       "1 2019-01-10 09:33:00       184.0       25.0         9.3        48.0   \n",
       "\n",
       "  vessel_type_main vessel_type_sub  draught-diff  heading-diff  passing  \\\n",
       "0   Container Ship             NaN          -2.5           0.0        3   \n",
       "1   Container Ship             NaN           0.0           0.0        3   \n",
       "\n",
       "  port-name country passing2        sub_type vessel_type_vessel           dwt  \\\n",
       "0   Latakia   Syria      NaN  Container Ship              Cargo  13623.000000   \n",
       "1   Latakia   Syria      NaN  Container Ship              Cargo  20624.133195   \n",
       "\n",
       "   length_vessel  width_vessel  draught_design  vessel_info  draught_delta  \\\n",
       "0          151.0          24.0            8.25          1.0              1   \n",
       "1          184.0          25.0            9.40          1.0              0   \n",
       "\n",
       "   draft_ais_max  block_cat vessel_type_best  draught  heading  draft_max  \\\n",
       "0            8.9  container   Container Ship      6.4      0.0        8.9   \n",
       "1            9.3  container   Container Ship      NaN      NaN        9.4   \n",
       "\n",
       "   length  width payload_in payload_out  \n",
       "0   151.0   24.0        1.0    0.551421  \n",
       "1   184.0   25.0       <NA>        <NA>  "
      ]
     },
     "execution_count": 117,
     "metadata": {},
     "output_type": "execute_result"
    }
   ],
   "source": [
    "df.head(2)"
   ]
  },
  {
   "cell_type": "code",
   "execution_count": 118,
   "metadata": {},
   "outputs": [],
   "source": [
    "# trade_in = (df.payload_in*df.dwt).sum()\n",
    "# trade_out = (df.payload_out*df.dwt).sum()\n",
    "# trade_tot = trade_in+trade_out\n",
    "# fr_im = trade_in/trade_tot\n",
    "# fr_exp = trade_out/trade_tot\n",
    "# (fr_im, fr_exp)"
   ]
  },
  {
   "cell_type": "code",
   "execution_count": 119,
   "metadata": {},
   "outputs": [],
   "source": [
    "df.loc[:, \"export_val\"] = 0\n",
    "df.loc[:, \"import_val\"] = 0"
   ]
  },
  {
   "cell_type": "code",
   "execution_count": 120,
   "metadata": {},
   "outputs": [],
   "source": [
    "for idx, row in df.iterrows():\n",
    "    delta = row['draught-diff']\n",
    "    if delta < 0:\n",
    "        import_val = (row.payload_in*row.dwt) - (row.payload_out*row.dwt)\n",
    "        export_val = 0\n",
    "    elif delta > 0:\n",
    "        import_val = 0\n",
    "        export_val = (row.payload_out*row.dwt) - (row.payload_in*row.dwt)\n",
    "    df.loc[idx, 'import_val'] = import_val\n",
    "    df.loc[idx, 'export_val'] = export_val"
   ]
  },
  {
   "cell_type": "code",
   "execution_count": 122,
   "metadata": {},
   "outputs": [],
   "source": [
    "df_sub = df.loc[df.draught_delta==1].copy()"
   ]
  },
  {
   "cell_type": "code",
   "execution_count": 160,
   "metadata": {},
   "outputs": [],
   "source": [
    "avg_flow = df_sub[['mmsi', 'import_val', 'export_val']].groupby('mmsi').mean()"
   ]
  },
  {
   "cell_type": "code",
   "execution_count": 161,
   "metadata": {},
   "outputs": [],
   "source": [
    "avg_flow.loc[avg_flow.import_val>avg_flow.export_val, \"import_avg\"] = avg_flow.import_val\n",
    "avg_flow.loc[avg_flow.import_val<avg_flow.export_val, \"export_avg\"] = avg_flow.export_val"
   ]
  },
  {
   "cell_type": "code",
   "execution_count": 162,
   "metadata": {},
   "outputs": [],
   "source": [
    "avg_flow.fillna(0, inplace=True)\n",
    "# avg_flow.reset_index(inplace=True)\n",
    "avg_flow.drop(['import_val', 'export_val'], axis=1, inplace=True)"
   ]
  },
  {
   "cell_type": "code",
   "execution_count": 163,
   "metadata": {},
   "outputs": [],
   "source": [
    "# trade_in = df.loc[df['draught-diff']<0, \"import_val\"].sum()\n",
    "# trade_out = df.loc[df['draught-diff']>0, \"export_val\"].sum()\n",
    "# trade_tot = trade_in+trade_out\n",
    "# fr_im = trade_in/trade_tot\n",
    "# fr_exp = trade_out/trade_tot\n",
    "# (fr_im, fr_exp)"
   ]
  },
  {
   "cell_type": "code",
   "execution_count": 166,
   "metadata": {},
   "outputs": [],
   "source": [
    "for idx, row in df.iterrows():\n",
    "    delta = row['draught-diff']\n",
    "    if delta == 0:\n",
    "        try:\n",
    "            avg = avg_flow.loc[row.mmsi]\n",
    "            df.loc[idx, 'import_val'] = avg.import_avg # import_val\n",
    "            df.loc[idx, 'export_val'] = avg.export_avg # export_val\n",
    "        except:\n",
    "            df.loc[idx, 'import_val'] = 0\n",
    "            df.loc[idx, 'export_val'] = 0\n",
    "#         import_val = fr_im*row.dwt\n",
    "#         export_val = fr_exp*row.dwt"
   ]
  },
  {
   "cell_type": "code",
   "execution_count": 171,
   "metadata": {},
   "outputs": [
    {
     "data": {
      "text/plain": [
       "149"
      ]
     },
     "execution_count": 171,
     "metadata": {},
     "output_type": "execute_result"
    }
   ],
   "source": [
    "len(df.loc[df.draught_delta==0])"
   ]
  },
  {
   "cell_type": "code",
   "execution_count": 173,
   "metadata": {},
   "outputs": [
    {
     "data": {
      "text/plain": [
       "90"
      ]
     },
     "execution_count": 173,
     "metadata": {},
     "output_type": "execute_result"
    }
   ],
   "source": [
    "len(df.loc[(df.draught_delta==0) & (df.import_val>0)])"
   ]
  },
  {
   "cell_type": "code",
   "execution_count": 174,
   "metadata": {},
   "outputs": [
    {
     "data": {
      "text/plain": [
       "6"
      ]
     },
     "execution_count": 174,
     "metadata": {},
     "output_type": "execute_result"
    }
   ],
   "source": [
    "len(df.loc[(df.draught_delta==0) & (df.export_val>0)])"
   ]
  },
  {
   "cell_type": "code",
   "execution_count": 176,
   "metadata": {},
   "outputs": [],
   "source": [
    "df_latakia_trade = df.copy()"
   ]
  },
  {
   "cell_type": "code",
   "execution_count": 177,
   "metadata": {},
   "outputs": [],
   "source": [
    "# df_final = df_latakia_trade.copy()"
   ]
  },
  {
   "cell_type": "code",
   "execution_count": 178,
   "metadata": {},
   "outputs": [],
   "source": [
    "# df_final['date-entry']"
   ]
  },
  {
   "cell_type": "code",
   "execution_count": 179,
   "metadata": {},
   "outputs": [],
   "source": [
    "# df_final.loc[:, \"ym\"] = "
   ]
  },
  {
   "cell_type": "code",
   "execution_count": 181,
   "metadata": {},
   "outputs": [],
   "source": [
    "# df_final[['port-name', 'date-entry', 'export_val', 'import_val']].groupby(['port-name', 'date-entry']).sum().to_csv(join(ais_dir, \"preliminary_results_latakia_11.22.v3.csv\"))"
   ]
  },
  {
   "cell_type": "markdown",
   "metadata": {},
   "source": [
    "### Run Tartus"
   ]
  },
  {
   "cell_type": "markdown",
   "metadata": {},
   "source": [
    "#### 1.2 Data Prep"
   ]
  },
  {
   "cell_type": "markdown",
   "metadata": {},
   "source": [
    "Run port call algorithm that converts AIS messages into trips"
   ]
  },
  {
   "cell_type": "code",
   "execution_count": 182,
   "metadata": {
    "scrolled": true
   },
   "outputs": [],
   "source": [
    "trips = create_port_calls(df_tartus, start, end, \"Tartus\", \"Syria\")"
   ]
  },
  {
   "cell_type": "code",
   "execution_count": 183,
   "metadata": {},
   "outputs": [
    {
     "data": {
      "text/plain": [
       "307"
      ]
     },
     "execution_count": 183,
     "metadata": {},
     "output_type": "execute_result"
    }
   ],
   "source": [
    "len(trips)"
   ]
  },
  {
   "cell_type": "markdown",
   "metadata": {},
   "source": [
    "Filter out non-trade trips"
   ]
  },
  {
   "cell_type": "code",
   "execution_count": 184,
   "metadata": {},
   "outputs": [],
   "source": [
    "trips.loc[trips.turn_around_time < 5, \"passing2\"] = \"refueling\"\n",
    "trips.loc[trips.turn_around_time > np.percentile(trips.turn_around_time, 95), \"passing2\"] = \"maintenance\"\n",
    "trips.loc[(trips.turn_around_time < 10) & (trips['heading-diff'].abs()<45), \"passing2\"] = \"passing by\""
   ]
  },
  {
   "cell_type": "code",
   "execution_count": 185,
   "metadata": {},
   "outputs": [
    {
     "data": {
      "text/plain": [
       "passing by     86\n",
       "maintenance    16\n",
       "refueling      11\n",
       "Name: passing2, dtype: int64"
      ]
     },
     "execution_count": 185,
     "metadata": {},
     "output_type": "execute_result"
    }
   ],
   "source": [
    "trips.passing2.value_counts()"
   ]
  },
  {
   "cell_type": "code",
   "execution_count": 186,
   "metadata": {},
   "outputs": [],
   "source": [
    "data = trips.loc[trips.passing2.isna()].copy()"
   ]
  },
  {
   "cell_type": "code",
   "execution_count": 187,
   "metadata": {},
   "outputs": [
    {
     "data": {
      "text/plain": [
       "194"
      ]
     },
     "execution_count": 187,
     "metadata": {},
     "output_type": "execute_result"
    }
   ],
   "source": [
    "len(data)"
   ]
  },
  {
   "cell_type": "code",
   "execution_count": 188,
   "metadata": {},
   "outputs": [
    {
     "data": {
      "text/plain": [
       "array(['Cargo', 'Tanker', 'Other', 'Passenger', 'SAR', 'Tug',\n",
       "       'UNAVAILABLE', 'Unknown', 'Towing'], dtype=object)"
      ]
     },
     "execution_count": 188,
     "metadata": {},
     "output_type": "execute_result"
    }
   ],
   "source": [
    "data.vessel_type.unique()"
   ]
  },
  {
   "cell_type": "code",
   "execution_count": 189,
   "metadata": {},
   "outputs": [
    {
     "data": {
      "text/plain": [
       "array(['Container Ship', nan, 'General Cargo Ship', 'Bulk Carrier',\n",
       "       'Other Tanker', 'Specialized Cargo Ship', 'Ro Ro Cargo Ship',\n",
       "       'Oil And Chemical Tanker'], dtype=object)"
      ]
     },
     "execution_count": 189,
     "metadata": {},
     "output_type": "execute_result"
    }
   ],
   "source": [
    "data.vessel_type_main.unique()"
   ]
  },
  {
   "cell_type": "code",
   "execution_count": 190,
   "metadata": {},
   "outputs": [],
   "source": [
    "drop_types = [\"Reserved\", \"Passenger\", \"Passenger\", \"Tug\", \"Towing\", \"SAR\"]\n",
    "data = data.loc[~(data.vessel_type.isin(drop_types))].copy()"
   ]
  },
  {
   "cell_type": "code",
   "execution_count": 191,
   "metadata": {},
   "outputs": [
    {
     "data": {
      "text/plain": [
       "185"
      ]
     },
     "execution_count": 191,
     "metadata": {},
     "output_type": "execute_result"
    }
   ],
   "source": [
    "len(data)"
   ]
  },
  {
   "cell_type": "code",
   "execution_count": 192,
   "metadata": {},
   "outputs": [
    {
     "data": {
      "text/plain": [
       "array([nan, 'Vegetable Oil Tanker', 'Livestock Carrier',\n",
       "       'Chemical Oil Products Tanker', 'Chemical Tanker'], dtype=object)"
      ]
     },
     "execution_count": 192,
     "metadata": {},
     "output_type": "execute_result"
    }
   ],
   "source": [
    "data.vessel_type_sub.unique()"
   ]
  },
  {
   "cell_type": "code",
   "execution_count": 193,
   "metadata": {},
   "outputs": [],
   "source": [
    "# drop_sub_types = [\"Offshore Tug Supply Ship\", \"Crewboat\"]\n",
    "# data = data.loc[~(data.vessel_type_sub.isin(drop_sub_types))].copy()"
   ]
  },
  {
   "cell_type": "code",
   "execution_count": 194,
   "metadata": {},
   "outputs": [],
   "source": [
    "# data.loc[664]"
   ]
  },
  {
   "cell_type": "markdown",
   "metadata": {},
   "source": [
    "#### 1.3 Predict DWT"
   ]
  },
  {
   "cell_type": "markdown",
   "metadata": {},
   "source": [
    "Match vessel information from Fleetmon database, and impute missing values"
   ]
  },
  {
   "cell_type": "code",
   "execution_count": 195,
   "metadata": {},
   "outputs": [],
   "source": [
    "data.loc[:, \"mmsi\"] = data.loc[:, \"mmsi\"].astype('int')"
   ]
  },
  {
   "cell_type": "code",
   "execution_count": 196,
   "metadata": {},
   "outputs": [],
   "source": [
    "vessels = pd.read_csv(join(ais_dir, \"vessel_database_full.csv\"))"
   ]
  },
  {
   "cell_type": "code",
   "execution_count": 197,
   "metadata": {},
   "outputs": [],
   "source": [
    "# vessels = pd.read_excel(join(ais_dir, \"Pacific_vessel_database_2021_new.xlsx\"), 0)"
   ]
  },
  {
   "cell_type": "code",
   "execution_count": 198,
   "metadata": {
    "scrolled": true
   },
   "outputs": [
    {
     "data": {
      "text/html": [
       "<div>\n",
       "<style scoped>\n",
       "    .dataframe tbody tr th:only-of-type {\n",
       "        vertical-align: middle;\n",
       "    }\n",
       "\n",
       "    .dataframe tbody tr th {\n",
       "        vertical-align: top;\n",
       "    }\n",
       "\n",
       "    .dataframe thead th {\n",
       "        text-align: right;\n",
       "    }\n",
       "</style>\n",
       "<table border=\"1\" class=\"dataframe\">\n",
       "  <thead>\n",
       "    <tr style=\"text-align: right;\">\n",
       "      <th></th>\n",
       "      <th>mmsi</th>\n",
       "      <th>dwt</th>\n",
       "      <th>length_design</th>\n",
       "      <th>width_design</th>\n",
       "      <th>draught_design</th>\n",
       "      <th>block</th>\n",
       "      <th>vessel_type_AIS</th>\n",
       "      <th>sub_type</th>\n",
       "      <th>sub_vessel_type_AIS</th>\n",
       "    </tr>\n",
       "  </thead>\n",
       "  <tbody>\n",
       "    <tr>\n",
       "      <th>0</th>\n",
       "      <td>667001408</td>\n",
       "      <td>82.0</td>\n",
       "      <td>34.5</td>\n",
       "      <td>11.008</td>\n",
       "      <td>2.1</td>\n",
       "      <td>0.67</td>\n",
       "      <td>Cargo</td>\n",
       "      <td>Container Ship</td>\n",
       "      <td>Container</td>\n",
       "    </tr>\n",
       "    <tr>\n",
       "      <th>1</th>\n",
       "      <td>351863000</td>\n",
       "      <td>90.0</td>\n",
       "      <td>30.5</td>\n",
       "      <td>9.919</td>\n",
       "      <td>3.5</td>\n",
       "      <td>0.67</td>\n",
       "      <td>Cargo</td>\n",
       "      <td>Container Ship</td>\n",
       "      <td>Container</td>\n",
       "    </tr>\n",
       "  </tbody>\n",
       "</table>\n",
       "</div>"
      ],
      "text/plain": [
       "        mmsi   dwt  length_design  width_design  draught_design  block  \\\n",
       "0  667001408  82.0           34.5        11.008             2.1   0.67   \n",
       "1  351863000  90.0           30.5         9.919             3.5   0.67   \n",
       "\n",
       "  vessel_type_AIS        sub_type sub_vessel_type_AIS  \n",
       "0           Cargo  Container Ship           Container  \n",
       "1           Cargo  Container Ship           Container  "
      ]
     },
     "execution_count": 198,
     "metadata": {},
     "output_type": "execute_result"
    }
   ],
   "source": [
    "vessels.head(2)"
   ]
  },
  {
   "cell_type": "code",
   "execution_count": 199,
   "metadata": {},
   "outputs": [],
   "source": [
    "vessels.rename(columns={\n",
    "    'length_design':'length',\n",
    "    'width_design':'width',\n",
    "    'vessel_type_AIS':'vessel_type',\n",
    "    'sub_vessel_type_AIS':'sub_vessel_type'\n",
    "}, inplace=True)"
   ]
  },
  {
   "cell_type": "code",
   "execution_count": 200,
   "metadata": {},
   "outputs": [],
   "source": [
    "vessels = vessels.loc[~(vessels.mmsi.isna())].copy()"
   ]
  },
  {
   "cell_type": "code",
   "execution_count": 201,
   "metadata": {},
   "outputs": [],
   "source": [
    "vessels.loc[:, \"mmsi\"] = vessels.loc[:, \"mmsi\"].astype('int')"
   ]
  },
  {
   "cell_type": "code",
   "execution_count": 202,
   "metadata": {},
   "outputs": [],
   "source": [
    "vessels_filt = vessels[['sub_type', 'vessel_type', 'mmsi', 'dwt', 'length', 'width', 'draught_design']].copy()"
   ]
  },
  {
   "cell_type": "code",
   "execution_count": 203,
   "metadata": {},
   "outputs": [],
   "source": [
    "vessels_filt.loc[:, 'vessel_info'] = 1"
   ]
  },
  {
   "cell_type": "code",
   "execution_count": 204,
   "metadata": {},
   "outputs": [],
   "source": [
    "data_join = data.merge(vessels_filt, on='mmsi', how='left', suffixes=['_ais', '_vessel'])"
   ]
  },
  {
   "cell_type": "code",
   "execution_count": 205,
   "metadata": {},
   "outputs": [],
   "source": [
    "data_join.loc[data_join.vessel_info.isna(), \"vessel_info\"] = 0"
   ]
  },
  {
   "cell_type": "code",
   "execution_count": 206,
   "metadata": {},
   "outputs": [
    {
     "data": {
      "text/plain": [
       "1.0    157\n",
       "0.0     28\n",
       "Name: vessel_info, dtype: int64"
      ]
     },
     "execution_count": 206,
     "metadata": {},
     "output_type": "execute_result"
    }
   ],
   "source": [
    "data_join.vessel_info.value_counts()"
   ]
  },
  {
   "cell_type": "code",
   "execution_count": 207,
   "metadata": {},
   "outputs": [
    {
     "data": {
      "text/plain": [
       "array(['Cargo', 'Tanker', nan], dtype=object)"
      ]
     },
     "execution_count": 207,
     "metadata": {},
     "output_type": "execute_result"
    }
   ],
   "source": [
    "data_join.vessel_type_vessel.unique()"
   ]
  },
  {
   "cell_type": "markdown",
   "metadata": {},
   "source": [
    "For later use"
   ]
  },
  {
   "cell_type": "code",
   "execution_count": 209,
   "metadata": {},
   "outputs": [],
   "source": [
    "block_coefficients = {\n",
    "    'bulk':0.79,\n",
    "    'container':0.73,\n",
    "    'tanker':0.83,\n",
    "    'LNG':0.79\n",
    "}\n",
    "groups = {\n",
    "    'Dry Bulk':['Bulk carrier'],\n",
    "    'Container':['Container ship'],\n",
    "    'General Cargo':['General cargo vessel', 'Cargo ship'],\n",
    "    'Reefer':['Reefer'],\n",
    "    'Vehicle carrier':['Vehicle carrier'],\n",
    "    'Ro Ro Cargo Ship':['RoRo ship'],\n",
    "    'Animal products':['livestock carrier'],\n",
    "    'Forest':['Forest-producer carrier']\n",
    "}"
   ]
  },
  {
   "cell_type": "code",
   "execution_count": 210,
   "metadata": {},
   "outputs": [],
   "source": [
    "# drop_sub_types = [\"Offshore Tug Supply Ship\", \"Crewboat\"]\n",
    "# data_join = data_join.loc[~(data_join.vessel_type_sub.isin(drop_sub_types))].copy()"
   ]
  },
  {
   "cell_type": "code",
   "execution_count": 211,
   "metadata": {
    "scrolled": true
   },
   "outputs": [],
   "source": [
    "# data_join.to_csv(join(ais_dir, \"port_calls_latakia.csv\"))\n",
    "# data_join = pd.read_csv(join(ais_dir, \"port_calls_latakia.csv\"), index_col=0)"
   ]
  },
  {
   "cell_type": "code",
   "execution_count": 212,
   "metadata": {},
   "outputs": [],
   "source": [
    "data_join.loc[:, \"draught_delta\"] = 1"
   ]
  },
  {
   "cell_type": "code",
   "execution_count": 213,
   "metadata": {},
   "outputs": [],
   "source": [
    "data_join.loc[data_join['draught-diff']==0, \"draught_delta\"] = 0"
   ]
  },
  {
   "cell_type": "code",
   "execution_count": 214,
   "metadata": {},
   "outputs": [
    {
     "data": {
      "text/plain": [
       "0    0.848649\n",
       "1    0.151351\n",
       "Name: draught_delta, dtype: float64"
      ]
     },
     "execution_count": 214,
     "metadata": {},
     "output_type": "execute_result"
    }
   ],
   "source": [
    "data_join.draught_delta.value_counts()/len(data_join)"
   ]
  },
  {
   "cell_type": "code",
   "execution_count": 215,
   "metadata": {},
   "outputs": [
    {
     "data": {
      "text/plain": [
       "0    157\n",
       "1     28\n",
       "Name: draught_delta, dtype: int64"
      ]
     },
     "execution_count": 215,
     "metadata": {},
     "output_type": "execute_result"
    }
   ],
   "source": [
    "data_join.draught_delta.value_counts()"
   ]
  },
  {
   "cell_type": "code",
   "execution_count": 216,
   "metadata": {},
   "outputs": [],
   "source": [
    "data_join.loc[:, 'draft_ais_max'] = data_join[['draught-in', 'draught-out']].max(axis=1)"
   ]
  },
  {
   "cell_type": "code",
   "execution_count": 217,
   "metadata": {},
   "outputs": [],
   "source": [
    "# data_join[data_join.dwt.isna()].iloc[0]\n",
    "# data_join[data_join.draft_ais_max==0]"
   ]
  },
  {
   "cell_type": "code",
   "execution_count": 218,
   "metadata": {},
   "outputs": [],
   "source": [
    "train = data_join[(data_join.vessel_info==1) & (~data_join.dwt.isna())].copy()"
   ]
  },
  {
   "cell_type": "code",
   "execution_count": 219,
   "metadata": {},
   "outputs": [],
   "source": [
    "df_missing = data_join[data_join.dwt.isna()].copy()"
   ]
  },
  {
   "cell_type": "code",
   "execution_count": 220,
   "metadata": {},
   "outputs": [
    {
     "data": {
      "text/plain": [
       "True"
      ]
     },
     "execution_count": 220,
     "metadata": {},
     "output_type": "execute_result"
    }
   ],
   "source": [
    "len(train)+len(df_missing)== len(data_join)"
   ]
  },
  {
   "cell_type": "code",
   "execution_count": 222,
   "metadata": {},
   "outputs": [
    {
     "data": {
      "text/plain": [
       "(0, 0, 0, 0)"
      ]
     },
     "execution_count": 222,
     "metadata": {},
     "output_type": "execute_result"
    }
   ],
   "source": [
    "train.length_vessel.isna().sum(), train.width_vessel.isna().sum(), train.draught_design.isna().sum(), train.dwt.isna().sum()"
   ]
  },
  {
   "cell_type": "code",
   "execution_count": 223,
   "metadata": {},
   "outputs": [],
   "source": [
    "from sklearn.ensemble import RandomForestClassifier\n",
    "from sklearn.model_selection import train_test_split\n",
    "from sklearn import metrics "
   ]
  },
  {
   "cell_type": "code",
   "execution_count": 228,
   "metadata": {},
   "outputs": [
    {
     "data": {
      "text/plain": [
       "True"
      ]
     },
     "execution_count": 228,
     "metadata": {},
     "output_type": "execute_result"
    }
   ],
   "source": [
    "y = list(train.dwt.astype('int'))\n",
    "X = [[row.length_vessel, row.width_vessel, row.draught_design] for idx, row in train.iterrows()]\n",
    "len(y)==len(X)"
   ]
  },
  {
   "cell_type": "code",
   "execution_count": 229,
   "metadata": {},
   "outputs": [],
   "source": [
    "# Spliting arrays or matrices into random train and test subsets\n",
    "# i.e. 70 % training dataset and 25 % test datasets\n",
    "X_train, X_test, y_train, y_test = train_test_split(X, y, test_size = 0.25)"
   ]
  },
  {
   "cell_type": "code",
   "execution_count": 230,
   "metadata": {},
   "outputs": [
    {
     "name": "stdout",
     "output_type": "stream",
     "text": [
      "ACCURACY OF THE MODEL:  0.7\n",
      "R-Squared OF THE MODEL:  0.9772705948715836\n"
     ]
    }
   ],
   "source": [
    "# creating a RF classifier\n",
    "clf = RandomForestClassifier(n_estimators = 500, random_state=1) \n",
    " \n",
    "# Training the model on the training dataset\n",
    "# fit function is used to train the model using the training sets as parameters\n",
    "clf.fit(X_train, y_train)\n",
    " \n",
    "# performing predictions on the test dataset\n",
    "y_pred = clf.predict(X_test)\n",
    "\n",
    "# using metrics module for accuracy calculation\n",
    "print(\"ACCURACY OF THE MODEL: \", metrics.accuracy_score(y_test, y_pred))\n",
    "print(\"R-Squared OF THE MODEL: \", metrics.r2_score(y_test, y_pred))"
   ]
  },
  {
   "cell_type": "code",
   "execution_count": 231,
   "metadata": {},
   "outputs": [],
   "source": [
    "# df_missing.loc[df_missing.length_ais==0]"
   ]
  },
  {
   "cell_type": "code",
   "execution_count": 232,
   "metadata": {},
   "outputs": [],
   "source": [
    "X_missing = [[row.length_ais, row.width_ais, row.draft_ais_max] for idx, row in df_missing.iterrows()]"
   ]
  },
  {
   "cell_type": "code",
   "execution_count": 233,
   "metadata": {
    "scrolled": true
   },
   "outputs": [],
   "source": [
    "pred_with_missing = clf.predict(X_missing)"
   ]
  },
  {
   "cell_type": "code",
   "execution_count": 234,
   "metadata": {},
   "outputs": [],
   "source": [
    "df_missing.dwt = pred_with_missing"
   ]
  },
  {
   "cell_type": "code",
   "execution_count": 235,
   "metadata": {},
   "outputs": [],
   "source": [
    "data_join.loc[data_join.dwt.isna(), 'dwt'] = df_missing.dwt"
   ]
  },
  {
   "cell_type": "code",
   "execution_count": 236,
   "metadata": {},
   "outputs": [],
   "source": [
    "# data_join = data_join.loc[data_join.draught_delta==1].copy()\n",
    "# data_join = data_join.loc[data_join.vessel_info==1].copy()"
   ]
  },
  {
   "cell_type": "code",
   "execution_count": 237,
   "metadata": {},
   "outputs": [],
   "source": [
    "# data_join['draught-diff'].describe()"
   ]
  },
  {
   "cell_type": "code",
   "execution_count": 238,
   "metadata": {},
   "outputs": [],
   "source": [
    "df = data_join.copy()"
   ]
  },
  {
   "cell_type": "markdown",
   "metadata": {},
   "source": [
    "Add block coefficient category"
   ]
  },
  {
   "cell_type": "code",
   "execution_count": 239,
   "metadata": {},
   "outputs": [
    {
     "data": {
      "text/plain": [
       "Index(['date-leave', 'mmsi', 'turn_around_time', 'datetime-leave',\n",
       "       'draught-out', 'heading-out', 'seconds', 'datetime-entry', 'date-entry',\n",
       "       'vessel_type_ais', 'dtg', 'length_ais', 'width_ais', 'draught-in',\n",
       "       'heading-in', 'vessel_type_main', 'vessel_type_sub', 'draught-diff',\n",
       "       'heading-diff', 'passing', 'port-name', 'country', 'passing2',\n",
       "       'sub_type', 'vessel_type_vessel', 'dwt', 'length_vessel',\n",
       "       'width_vessel', 'draught_design', 'vessel_info', 'draught_delta',\n",
       "       'draft_ais_max'],\n",
       "      dtype='object')"
      ]
     },
     "execution_count": 239,
     "metadata": {},
     "output_type": "execute_result"
    }
   ],
   "source": [
    "df.columns"
   ]
  },
  {
   "cell_type": "code",
   "execution_count": 190,
   "metadata": {},
   "outputs": [],
   "source": [
    "df.loc[:, 'block_cat'] = \"\""
   ]
  },
  {
   "cell_type": "code",
   "execution_count": 241,
   "metadata": {},
   "outputs": [
    {
     "data": {
      "text/plain": [
       "80"
      ]
     },
     "execution_count": 241,
     "metadata": {},
     "output_type": "execute_result"
    }
   ],
   "source": [
    "df.loc[:, 'vessel_type_best'] = df.sub_type\n",
    "df.vessel_type_best.isna().sum()"
   ]
  },
  {
   "cell_type": "code",
   "execution_count": 242,
   "metadata": {},
   "outputs": [
    {
     "data": {
      "text/plain": [
       "28"
      ]
     },
     "execution_count": 242,
     "metadata": {},
     "output_type": "execute_result"
    }
   ],
   "source": [
    "df.loc[df.vessel_type_best.isna(), 'vessel_type_best'] = df.loc[df.vessel_type_best.isna(), 'vessel_type_vessel']\n",
    "df.vessel_type_best.isna().sum()"
   ]
  },
  {
   "cell_type": "code",
   "execution_count": 244,
   "metadata": {},
   "outputs": [
    {
     "data": {
      "text/plain": [
       "28"
      ]
     },
     "execution_count": 244,
     "metadata": {},
     "output_type": "execute_result"
    }
   ],
   "source": [
    "df.loc[df.vessel_type_best.isna(), 'vessel_type_best'] = df.loc[df.vessel_type_best.isna(), 'vessel_type_sub']\n",
    "df.vessel_type_best.isna().sum()"
   ]
  },
  {
   "cell_type": "code",
   "execution_count": 245,
   "metadata": {},
   "outputs": [
    {
     "data": {
      "text/plain": [
       "28"
      ]
     },
     "execution_count": 245,
     "metadata": {},
     "output_type": "execute_result"
    }
   ],
   "source": [
    "df.loc[df.vessel_type_best.isna(), 'vessel_type_best'] = df.loc[df.vessel_type_best.isna(), 'vessel_type_main']\n",
    "df.vessel_type_best.isna().sum()"
   ]
  },
  {
   "cell_type": "code",
   "execution_count": 246,
   "metadata": {},
   "outputs": [
    {
     "data": {
      "text/plain": [
       "0"
      ]
     },
     "execution_count": 246,
     "metadata": {},
     "output_type": "execute_result"
    }
   ],
   "source": [
    "df.loc[df.vessel_type_best.isna(), 'vessel_type_best'] = df.loc[df.vessel_type_best.isna(), 'vessel_type_ais']\n",
    "df.vessel_type_best.isna().sum()"
   ]
  },
  {
   "cell_type": "code",
   "execution_count": 247,
   "metadata": {},
   "outputs": [],
   "source": [
    "df.loc[df.vessel_type_best.str.lower().str.contains('container'), \"block_cat\"] = 'container'\n",
    "df.loc[df.vessel_type_best.str.lower().str.contains('bulk'), \"block_cat\"] = 'bulk'\n",
    "df.loc[df.vessel_type_best.str.lower().str.contains('tanker'), \"block_cat\"] = 'tanker'\n",
    "df.loc[df.vessel_type_best.str.lower().str.contains('lng'), \"block_cat\"] = 'LNG'"
   ]
  },
  {
   "cell_type": "code",
   "execution_count": 248,
   "metadata": {
    "scrolled": true
   },
   "outputs": [
    {
     "data": {
      "text/plain": [
       "array([], dtype=object)"
      ]
     },
     "execution_count": 248,
     "metadata": {},
     "output_type": "execute_result"
    }
   ],
   "source": [
    "df.loc[df.block_cat=='', \"vessel_type_best\"].unique()"
   ]
  },
  {
   "cell_type": "code",
   "execution_count": 249,
   "metadata": {},
   "outputs": [],
   "source": [
    "# df.loc[df.block_cat=='bulk', \"sub_vessel_type\"].unique()\n",
    "# df.loc[df.block_cat=='container', \"sub_vessel_type\"].unique()"
   ]
  },
  {
   "cell_type": "code",
   "execution_count": 250,
   "metadata": {},
   "outputs": [],
   "source": [
    "# df.loc[df.vessel_type_best=='Other', ]"
   ]
  },
  {
   "cell_type": "code",
   "execution_count": 251,
   "metadata": {},
   "outputs": [],
   "source": [
    "df.loc[df.vessel_type_best.str.lower().str.contains('cargo'), \"block_cat\"] = 'container'\n",
    "df.loc[df.vessel_type_best.str.lower().str.contains('roro'), \"block_cat\"] = 'container'\n",
    "df.loc[df.vessel_type_best.str.lower().str.contains('vehicle'), \"block_cat\"] = 'container'\n",
    "df.loc[df.vessel_type_best.str.lower().str.contains('forest'), \"block_cat\"] = 'bulk'\n",
    "df.loc[df.vessel_type_best.str.lower().str.contains('livestock'), \"block_cat\"] = 'container'\n",
    "df.loc[df.vessel_type_best.str.lower().str.contains('reefer'), \"block_cat\"] = 'container'\n",
    "df.loc[df.vessel_type_best.str.lower().str.contains('other'), \"block_cat\"] = 'container'"
   ]
  },
  {
   "cell_type": "code",
   "execution_count": 252,
   "metadata": {},
   "outputs": [
    {
     "data": {
      "text/plain": [
       "array(['container', 'tanker', 'bulk'], dtype=object)"
      ]
     },
     "execution_count": 252,
     "metadata": {},
     "output_type": "execute_result"
    }
   ],
   "source": [
    "df.block_cat.unique()"
   ]
  },
  {
   "cell_type": "markdown",
   "metadata": {},
   "source": [
    "Get draft differences from next"
   ]
  },
  {
   "cell_type": "code",
   "execution_count": 253,
   "metadata": {},
   "outputs": [],
   "source": [
    "aws_bucket = \"wbgdecinternal-ntl\"\n",
    "path = \"Andres_Temp/AIS\""
   ]
  },
  {
   "cell_type": "code",
   "execution_count": 254,
   "metadata": {},
   "outputs": [],
   "source": [
    "client = boto3.client('s3')"
   ]
  },
  {
   "cell_type": "code",
   "execution_count": 255,
   "metadata": {},
   "outputs": [],
   "source": [
    "file_list = client.list_objects_v2(Bucket=aws_bucket, Prefix=path, MaxKeys=5000)\n",
    "bucket_files = [os.path.join(\"s3://\", aws_bucket, content['Key']) for content in file_list['Contents']]\n",
    "# bucket_files"
   ]
  },
  {
   "cell_type": "code",
   "execution_count": 256,
   "metadata": {},
   "outputs": [],
   "source": [
    "df_next = pd.read_csv('s3://wbgdecinternal-ntl/Andres_Temp/AIS/Tartus_next_draught.csv', index_col=0)"
   ]
  },
  {
   "cell_type": "code",
   "execution_count": 257,
   "metadata": {},
   "outputs": [
    {
     "data": {
      "text/plain": [
       "67"
      ]
     },
     "execution_count": 257,
     "metadata": {},
     "output_type": "execute_result"
    }
   ],
   "source": [
    "len(df_next)"
   ]
  },
  {
   "cell_type": "code",
   "execution_count": 258,
   "metadata": {},
   "outputs": [],
   "source": [
    "df_orig = pd.read_csv(join(ais_dir, \"port_calls_tartus.csv\"), index_col=0)"
   ]
  },
  {
   "cell_type": "code",
   "execution_count": 259,
   "metadata": {},
   "outputs": [
    {
     "data": {
      "text/html": [
       "<div>\n",
       "<style scoped>\n",
       "    .dataframe tbody tr th:only-of-type {\n",
       "        vertical-align: middle;\n",
       "    }\n",
       "\n",
       "    .dataframe tbody tr th {\n",
       "        vertical-align: top;\n",
       "    }\n",
       "\n",
       "    .dataframe thead th {\n",
       "        text-align: right;\n",
       "    }\n",
       "</style>\n",
       "<table border=\"1\" class=\"dataframe\">\n",
       "  <thead>\n",
       "    <tr style=\"text-align: right;\">\n",
       "      <th></th>\n",
       "      <th>turn_around_time</th>\n",
       "      <th>date-leave</th>\n",
       "    </tr>\n",
       "  </thead>\n",
       "  <tbody>\n",
       "    <tr>\n",
       "      <th>0</th>\n",
       "      <td>21.360278</td>\n",
       "      <td>2018-12-20</td>\n",
       "    </tr>\n",
       "    <tr>\n",
       "      <th>1</th>\n",
       "      <td>10.200833</td>\n",
       "      <td>2019-01-15</td>\n",
       "    </tr>\n",
       "  </tbody>\n",
       "</table>\n",
       "</div>"
      ],
      "text/plain": [
       "   turn_around_time  date-leave\n",
       "0         21.360278  2018-12-20\n",
       "1         10.200833  2019-01-15"
      ]
     },
     "execution_count": 259,
     "metadata": {},
     "output_type": "execute_result"
    }
   ],
   "source": [
    "df_orig[['turn_around_time', 'date-leave']].head(2)"
   ]
  },
  {
   "cell_type": "code",
   "execution_count": 260,
   "metadata": {},
   "outputs": [],
   "source": [
    "df_next = df_next.join(df_orig[['turn_around_time', 'date-leave']])"
   ]
  },
  {
   "cell_type": "code",
   "execution_count": 261,
   "metadata": {},
   "outputs": [],
   "source": [
    "df = df.merge(df_next[['mmsi', 'draught', 'heading', 'date-leave', 'turn_around_time']], on=['mmsi', 'date-leave', 'turn_around_time'], how='left').copy()"
   ]
  },
  {
   "cell_type": "code",
   "execution_count": 262,
   "metadata": {},
   "outputs": [],
   "source": [
    "df.loc[(df.draught_delta==0) & (~df.draught.isna()), \"draught-out\"] = df.loc[(df.draught_delta==0) & (~df.draught.isna()), \"draught\"]\n",
    "df.loc[(df.draught_delta==0) & (~df.draught.isna()), \"heading-out\"] = df.loc[(df.draught_delta==0) & (~df.draught.isna()), \"heading\"]"
   ]
  },
  {
   "cell_type": "code",
   "execution_count": 263,
   "metadata": {},
   "outputs": [],
   "source": [
    "df['draught-diff'] = df['draught-out'] - df['draught-in']"
   ]
  },
  {
   "cell_type": "code",
   "execution_count": 264,
   "metadata": {},
   "outputs": [],
   "source": [
    "df.loc[df['draught-diff']!=0, \"draught_delta\"] = 1"
   ]
  },
  {
   "cell_type": "code",
   "execution_count": 265,
   "metadata": {},
   "outputs": [
    {
     "data": {
      "text/plain": [
       "0    111\n",
       "1     74\n",
       "Name: draught_delta, dtype: int64"
      ]
     },
     "execution_count": 265,
     "metadata": {},
     "output_type": "execute_result"
    }
   ],
   "source": [
    "df.draught_delta.value_counts()"
   ]
  },
  {
   "cell_type": "code",
   "execution_count": 271,
   "metadata": {},
   "outputs": [],
   "source": [
    "df.loc[df['draught-in']==0, 'draught_delta'] = 0\n",
    "df.loc[df['draught-out']==0, 'draught_delta'] = 0\n",
    "df.loc[df['draught-in']==0, 'draught-diff'] = 0\n",
    "df.loc[df['draught-out']==0, 'draught-diff'] = 0"
   ]
  },
  {
   "cell_type": "code",
   "execution_count": 272,
   "metadata": {},
   "outputs": [],
   "source": [
    "df.loc[:, 'draft_max'] = df[['draught_design', 'draught-in', 'draught-out']].max(axis=1)"
   ]
  },
  {
   "cell_type": "code",
   "execution_count": 273,
   "metadata": {},
   "outputs": [],
   "source": [
    "df.loc[:, 'length'] = df.loc[:, 'length_vessel']\n",
    "df.loc[df.length.isna(), 'length'] = df.loc[df.length.isna(), 'length_ais']"
   ]
  },
  {
   "cell_type": "code",
   "execution_count": 274,
   "metadata": {},
   "outputs": [],
   "source": [
    "df.loc[:, 'width'] = df.loc[:, 'width_vessel']\n",
    "df.loc[df.width.isna(), 'width'] = df.loc[df.width.isna(), 'width_ais']"
   ]
  },
  {
   "cell_type": "code",
   "execution_count": 275,
   "metadata": {},
   "outputs": [],
   "source": [
    "def calculate_payload(row, direction):\n",
    "    \n",
    "    # get parameters\n",
    "    Din = row['draught-in']\n",
    "    Dout = row['draught-out']\n",
    "    if Din==Dout:\n",
    "        return pd.NA\n",
    "    else:\n",
    "        L = row['length']\n",
    "        W = row['width']\n",
    "        Dd = row['draft_max']\n",
    "        DWT = row['dwt']\n",
    "        Cb = block_coefficients[row['block_cat']]\n",
    "        pw = 1.025 # tons/m3  1029kg/m3\n",
    "\n",
    "        if direction==\"in\":\n",
    "            Dr = Din\n",
    "        if direction =='out':\n",
    "            Dr = Dout\n",
    "\n",
    "        # calcualte block coefficient for reported draft\n",
    "        Cbr = 1 - ((1 - Cb)*((Dr / Dd)**(1/3)))\n",
    "\n",
    "        # calcualte payload rate\n",
    "        payload = ((((Cbr*Dr) - (Cb*Dd)) * (L*W*pw)) + DWT ) / DWT\n",
    "        return payload"
   ]
  },
  {
   "cell_type": "code",
   "execution_count": 276,
   "metadata": {},
   "outputs": [],
   "source": [
    "df.loc[:, \"payload_in\"] = df.apply(lambda x: calculate_payload(x, 'in'), axis=1)\n",
    "df.loc[:, \"payload_out\"] = df.apply(lambda x: calculate_payload(x, 'out'), axis=1)"
   ]
  },
  {
   "cell_type": "code",
   "execution_count": 277,
   "metadata": {},
   "outputs": [],
   "source": [
    "# df"
   ]
  },
  {
   "cell_type": "code",
   "execution_count": 278,
   "metadata": {},
   "outputs": [],
   "source": [
    "# df.loc[:, ['payload_in', 'payload_out']]"
   ]
  },
  {
   "cell_type": "code",
   "execution_count": 279,
   "metadata": {},
   "outputs": [],
   "source": [
    "df.loc[:, \"export_val\"] = 0\n",
    "df.loc[:, \"import_val\"] = 0"
   ]
  },
  {
   "cell_type": "code",
   "execution_count": 280,
   "metadata": {},
   "outputs": [],
   "source": [
    "for idx, row in df.iterrows():\n",
    "    delta = row['draught-diff']\n",
    "    if delta < 0:\n",
    "        import_val = (row.payload_in*row.dwt) - (row.payload_out*row.dwt)\n",
    "        export_val = 0\n",
    "    elif delta > 0:\n",
    "        import_val = 0\n",
    "        export_val = (row.payload_out*row.dwt) - (row.payload_in*row.dwt)\n",
    "    df.loc[idx, 'import_val'] = import_val\n",
    "    df.loc[idx, 'export_val'] = export_val"
   ]
  },
  {
   "cell_type": "code",
   "execution_count": 281,
   "metadata": {},
   "outputs": [],
   "source": [
    "# trade_in = df.loc[df['draught-diff']<0, \"import_val\"].sum()\n",
    "# trade_out = df.loc[df['draught-diff']>0, \"export_val\"].sum()\n",
    "# trade_tot = trade_in+trade_out\n",
    "# fr_im = trade_in/trade_tot\n",
    "# fr_exp = trade_out/trade_tot\n",
    "# (fr_im, fr_exp)"
   ]
  },
  {
   "cell_type": "code",
   "execution_count": 282,
   "metadata": {},
   "outputs": [],
   "source": [
    "df_sub = df.loc[df.draught_delta==1].copy()"
   ]
  },
  {
   "cell_type": "code",
   "execution_count": 283,
   "metadata": {},
   "outputs": [],
   "source": [
    "avg_flow = df_sub[['mmsi', 'import_val', 'export_val']].groupby('mmsi').mean()"
   ]
  },
  {
   "cell_type": "code",
   "execution_count": 284,
   "metadata": {},
   "outputs": [],
   "source": [
    "avg_flow.loc[avg_flow.import_val>avg_flow.export_val, \"import_avg\"] = avg_flow.import_val\n",
    "avg_flow.loc[avg_flow.import_val<avg_flow.export_val, \"export_avg\"] = avg_flow.export_val"
   ]
  },
  {
   "cell_type": "code",
   "execution_count": 285,
   "metadata": {},
   "outputs": [],
   "source": [
    "avg_flow.fillna(0, inplace=True)\n",
    "# avg_flow.reset_index(inplace=True)\n",
    "avg_flow.drop(['import_val', 'export_val'], axis=1, inplace=True)"
   ]
  },
  {
   "cell_type": "code",
   "execution_count": 287,
   "metadata": {},
   "outputs": [
    {
     "data": {
      "text/plain": [
       "26"
      ]
     },
     "execution_count": 287,
     "metadata": {},
     "output_type": "execute_result"
    }
   ],
   "source": [
    "len(avg_flow)"
   ]
  },
  {
   "cell_type": "code",
   "execution_count": 288,
   "metadata": {},
   "outputs": [],
   "source": [
    "for idx, row in df.iterrows():\n",
    "    delta = row['draught-diff']\n",
    "    if delta == 0:\n",
    "        try:\n",
    "            avg = avg_flow.loc[row.mmsi]\n",
    "            df.loc[idx, 'import_val'] = avg.import_avg # import_val\n",
    "            df.loc[idx, 'export_val'] = avg.export_avg # export_val\n",
    "        except:\n",
    "            df.loc[idx, 'import_val'] = 0\n",
    "            df.loc[idx, 'export_val'] = 0"
   ]
  },
  {
   "cell_type": "code",
   "execution_count": 289,
   "metadata": {},
   "outputs": [
    {
     "data": {
      "text/plain": [
       "115"
      ]
     },
     "execution_count": 289,
     "metadata": {},
     "output_type": "execute_result"
    }
   ],
   "source": [
    "len(df.loc[df.draught_delta==0])"
   ]
  },
  {
   "cell_type": "code",
   "execution_count": 290,
   "metadata": {},
   "outputs": [
    {
     "data": {
      "text/plain": [
       "22"
      ]
     },
     "execution_count": 290,
     "metadata": {},
     "output_type": "execute_result"
    }
   ],
   "source": [
    "len(df.loc[(df.draught_delta==0) & (df.import_val>0)])"
   ]
  },
  {
   "cell_type": "code",
   "execution_count": 291,
   "metadata": {},
   "outputs": [
    {
     "data": {
      "text/plain": [
       "3"
      ]
     },
     "execution_count": 291,
     "metadata": {},
     "output_type": "execute_result"
    }
   ],
   "source": [
    "len(df.loc[(df.draught_delta==0) & (df.export_val>0)])"
   ]
  },
  {
   "cell_type": "code",
   "execution_count": 225,
   "metadata": {},
   "outputs": [],
   "source": [
    "# trade_in = (df.payload_in*df.dwt).sum()\n",
    "# trade_out = (df.payload_out*df.dwt).sum()\n",
    "# trade_tot = trade_in+trade_out\n",
    "# fr_im = trade_in/trade_tot\n",
    "# fr_exp = trade_out/trade_tot\n",
    "# (fr_im, fr_exp)"
   ]
  },
  {
   "cell_type": "code",
   "execution_count": 226,
   "metadata": {},
   "outputs": [],
   "source": [
    "# df.loc[:, \"export_val\"] = 0\n",
    "# df.loc[:, \"import_val\"] = 0"
   ]
  },
  {
   "cell_type": "code",
   "execution_count": 227,
   "metadata": {},
   "outputs": [],
   "source": [
    "# for idx, row in df.iterrows():\n",
    "#     delta = row['draught-diff']\n",
    "#     if delta < 0:\n",
    "#         import_val = (row.payload_in*row.dwt) - (row.payload_out*row.dwt)\n",
    "#         export_val = 0\n",
    "#     elif delta > 0:\n",
    "#         import_val = 0\n",
    "#         export_val = (row.payload_out*row.dwt) - (row.payload_in*row.dwt)\n",
    "#     elif delta == 0:\n",
    "#         if fr_im>fr_exp:\n",
    "#             fr_import = fr_im-fr_exp\n",
    "#             fr_export = 0\n",
    "#         elif fr_im<fr_exp:\n",
    "#             fr_export = fr_exp-fr_im\n",
    "#             fr_import = 0\n",
    "#         import_val = fr_import*row.dwt\n",
    "#         export_val = fr_export*row.dwt\n",
    "#     df.loc[idx, 'import_val'] = import_val\n",
    "#     df.loc[idx, 'export_val'] = export_val"
   ]
  },
  {
   "cell_type": "code",
   "execution_count": 292,
   "metadata": {},
   "outputs": [],
   "source": [
    "df_tartus_trade = df.copy()"
   ]
  },
  {
   "cell_type": "markdown",
   "metadata": {},
   "source": [
    "Asseble both"
   ]
  },
  {
   "cell_type": "code",
   "execution_count": 320,
   "metadata": {},
   "outputs": [],
   "source": [
    "df_final = pd.concat([df_latakia_trade, df_tartus_trade])"
   ]
  },
  {
   "cell_type": "code",
   "execution_count": 294,
   "metadata": {},
   "outputs": [
    {
     "data": {
      "text/plain": [
       "'/home/wb514197/data/AIS/Syria'"
      ]
     },
     "execution_count": 294,
     "metadata": {},
     "output_type": "execute_result"
    }
   ],
   "source": [
    "data_dir"
   ]
  },
  {
   "cell_type": "code",
   "execution_count": 321,
   "metadata": {},
   "outputs": [],
   "source": [
    "df_final['date'] = pd.to_datetime(df_final['date-entry'])\n",
    "df_final['ym'] = df_final['date'].dt.strftime('%Y-%m')"
   ]
  },
  {
   "cell_type": "code",
   "execution_count": 322,
   "metadata": {},
   "outputs": [
    {
     "data": {
      "text/plain": [
       "810"
      ]
     },
     "execution_count": 322,
     "metadata": {},
     "output_type": "execute_result"
    }
   ],
   "source": [
    "len(df_final)"
   ]
  },
  {
   "cell_type": "code",
   "execution_count": 323,
   "metadata": {},
   "outputs": [
    {
     "data": {
      "text/plain": [
       "143"
      ]
     },
     "execution_count": 323,
     "metadata": {},
     "output_type": "execute_result"
    }
   ],
   "source": [
    "len(df_final.loc[(df_final.export_val==0) & (df_final.import_val==0)])"
   ]
  },
  {
   "cell_type": "code",
   "execution_count": 324,
   "metadata": {},
   "outputs": [],
   "source": [
    "df_final = df_final.loc[~ ((df_final.export_val==0) & (df_final.import_val==0))].copy()"
   ]
  },
  {
   "cell_type": "code",
   "execution_count": 326,
   "metadata": {},
   "outputs": [],
   "source": [
    "df_final = df_final[['port-name', 'date-entry', 'ym', 'export_val', 'import_val']].groupby(['port-name', 'date-entry']).sum()"
   ]
  },
  {
   "cell_type": "code",
   "execution_count": 327,
   "metadata": {},
   "outputs": [],
   "source": [
    "df_final.reset_index(inplace=True)"
   ]
  },
  {
   "cell_type": "code",
   "execution_count": 328,
   "metadata": {},
   "outputs": [],
   "source": [
    "df_final['date-entry'] = pd.to_datetime(df_final['date-entry'])\n",
    "df_final['ym'] = df_final['date-entry'].dt.strftime('%Y-%m')\n",
    "df_final.to_csv(join(ais_dir, \"final_results_12.13.csv\"))"
   ]
  },
  {
   "cell_type": "code",
   "execution_count": null,
   "metadata": {},
   "outputs": [],
   "source": []
  }
 ],
 "metadata": {
  "kernelspec": {
   "display_name": "Earth Engine",
   "language": "python",
   "name": "ee"
  },
  "language_info": {
   "codemirror_mode": {
    "name": "ipython",
    "version": 3
   },
   "file_extension": ".py",
   "mimetype": "text/x-python",
   "name": "python",
   "nbconvert_exporter": "python",
   "pygments_lexer": "ipython3",
   "version": "3.9.7"
  }
 },
 "nbformat": 4,
 "nbformat_minor": 2
}
