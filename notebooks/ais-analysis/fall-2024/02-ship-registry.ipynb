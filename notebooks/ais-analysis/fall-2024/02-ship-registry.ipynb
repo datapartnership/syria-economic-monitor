{
 "cells": [
  {
   "cell_type": "markdown",
   "id": "df77cd1c-b413-4104-bcdc-cef0a7be12eb",
   "metadata": {},
   "source": [
    "# Notes:\n",
    "\n",
    "1. Extract data from Port Buffer (Do not re-run)\n",
    "2. Create Routes p1\n",
    "3. <b>Create Routes p2 and Validate Vessel Information</b>\n",
    "4. Update Departures Draught Info Update Departures Draught Info\n",
    "5. Extract to Local\n",
    "6. Trade Estimation (Local)\n",
    "\n",
    "Set-up: UNGP - kernel `ais-tt-dev`\n",
    "\n",
    "From the 2nd notebook, there may be routes that are quick because of small movements by vessels located at the edges of the boundaries. To remove the noise, we say that a vessel has fully exited the port when it spends at least 1 day outside of Port Boundary. Otherwise, we treat consecutive routes within 24 hours of each other as one. We then combine the routes data with Ship Registry data to get the finer vessel categories and other information on the vessel required for trade estimation. The matching is done using both MMSI and IMO numbers from both data sources. We validate the match by comparing the vessel names. \n",
    "\n",
    "The routes are also refined further to get only\n",
    "1. routes from individual vessels based on MMSI\n",
    "2. routes containing more than 1 AIS signal to address data quality issue during early 2020"
   ]
  },
  {
   "cell_type": "markdown",
   "id": "661fd323-1b90-439e-bdfa-68ff43e45771",
   "metadata": {},
   "source": [
    "# Initializers"
   ]
  },
  {
   "cell_type": "code",
   "execution_count": 1,
   "id": "077c4fb9-82dc-4be9-b31e-1e50503d9e18",
   "metadata": {
    "tags": []
   },
   "outputs": [],
   "source": [
    "import pandas as pd\n",
    "import geopandas as gpd\n",
    "import numpy as np"
   ]
  },
  {
   "cell_type": "code",
   "execution_count": 2,
   "id": "3edc7e5d-25a1-482e-a861-931ebbd5ff10",
   "metadata": {
    "tags": []
   },
   "outputs": [],
   "source": [
    "pd.set_option('display.max_columns', None) #Show all columns in pandas df\n",
    "pd.set_option('display.max_rows', 100) #Show 100 rows in pandas df\n",
    "pd.options.display.float_format = '{:.10f}'.format #Show float with 10 decimal points in pandas df\n",
    "\n",
    "from IPython.core.interactiveshell import InteractiveShell #allow multiple outputs in one jupyter cell\n",
    "InteractiveShell.ast_node_interactivity = \"all\""
   ]
  },
  {
   "cell_type": "code",
   "execution_count": 3,
   "id": "9fc89d9a-4e75-4dd7-946c-86791e30736e",
   "metadata": {
    "tags": []
   },
   "outputs": [
    {
     "name": "stdout",
     "output_type": "stream",
     "text": [
      "Closing down clientserver connection\n",
      "Collecting nltk\n",
      "  Downloading nltk-3.9.1-py3-none-any.whl (1.5 MB)\n",
      "\u001b[2K     \u001b[90m━━━━━━━━━━━━━━━━━━━━━━━━━━━━━━━━━━━━━━━━\u001b[0m \u001b[32m1.5/1.5 MB\u001b[0m \u001b[31m54.1 MB/s\u001b[0m eta \u001b[36m0:00:00\u001b[0m\n",
      "\u001b[?25hRequirement already satisfied: tqdm in /opt/conda/lib/python3.10/site-packages (from nltk) (4.65.0)\n",
      "Requirement already satisfied: click in /opt/conda/lib/python3.10/site-packages (from nltk) (8.1.7)\n",
      "Collecting regex>=2021.8.3\n",
      "  Downloading regex-2024.9.11-cp310-cp310-manylinux_2_17_x86_64.manylinux2014_x86_64.whl (782 kB)\n",
      "\u001b[2K     \u001b[90m━━━━━━━━━━━━━━━━━━━━━━━━━━━━━━━━━━━━━━\u001b[0m \u001b[32m782.7/782.7 kB\u001b[0m \u001b[31m63.8 MB/s\u001b[0m eta \u001b[36m0:00:00\u001b[0m\n",
      "\u001b[?25hCollecting joblib\n",
      "  Downloading joblib-1.4.2-py3-none-any.whl (301 kB)\n",
      "\u001b[2K     \u001b[90m━━━━━━━━━━━━━━━━━━━━━━━━━━━━━━━━━━━━━━\u001b[0m \u001b[32m301.8/301.8 kB\u001b[0m \u001b[31m41.3 MB/s\u001b[0m eta \u001b[36m0:00:00\u001b[0m\n",
      "\u001b[?25hInstalling collected packages: regex, joblib, nltk\n",
      "Successfully installed joblib-1.4.2 nltk-3.9.1 regex-2024.9.11\n",
      "\n",
      "\u001b[1m[\u001b[0m\u001b[34;49mnotice\u001b[0m\u001b[1;39;49m]\u001b[0m\u001b[39;49m A new release of pip is available: \u001b[0m\u001b[31;49m23.0.1\u001b[0m\u001b[39;49m -> \u001b[0m\u001b[32;49m24.2\u001b[0m\n",
      "\u001b[1m[\u001b[0m\u001b[34;49mnotice\u001b[0m\u001b[1;39;49m]\u001b[0m\u001b[39;49m To update, run: \u001b[0m\u001b[32;49mpip install --upgrade pip\u001b[0m\n"
     ]
    }
   ],
   "source": [
    "#name comparison\n",
    "!pip install nltk"
   ]
  },
  {
   "cell_type": "code",
   "execution_count": 4,
   "id": "659f37ff-81a9-4a23-8dbc-1dce5ef4c1be",
   "metadata": {
    "tags": []
   },
   "outputs": [],
   "source": [
    "#for comparison of strings\n",
    "import nltk"
   ]
  },
  {
   "cell_type": "markdown",
   "id": "8f873938-4381-4ce7-9db5-cd5943ed4935",
   "metadata": {},
   "source": [
    "## Variables"
   ]
  },
  {
   "cell_type": "code",
   "execution_count": 22,
   "id": "1cffb18d-f399-47ab-8816-35df22f21949",
   "metadata": {
    "tags": []
   },
   "outputs": [],
   "source": [
    "bucket = 'ungp-ais-data-historical-backup'\n",
    "s3path = \"s3a://ungp-ais-data-historical-backup/user_temp/\"\n",
    "\n",
    "wb_path = f\"{s3path}worldbank/\"\n",
    "\n",
    "path_syr = f\"{wb_path}syria-buffer/\"\n",
    "path_port_calls = f\"{wb_path}syria_port_calls/\"\n",
    "\n",
    "ihs_basepath = \"s3a://ungp-ais-data-historical-backup/register/\"\n",
    "ihs_basepath_archive = \"s3a://ungp-ais-data-historical-backup/register-archive/\""
   ]
  },
  {
   "cell_type": "markdown",
   "id": "4738aa6c-c3c0-4f7b-b94c-5c328391a2f0",
   "metadata": {},
   "source": [
    "# Routes"
   ]
  },
  {
   "cell_type": "code",
   "execution_count": 23,
   "id": "54afef70-0150-493e-ad1a-f8fb9def44de",
   "metadata": {},
   "outputs": [],
   "source": [
    "sdf = spark.read.option(\"basePath\",path_syr).parquet(path_syr)"
   ]
  },
  {
   "cell_type": "code",
   "execution_count": 24,
   "id": "57affe0f-e983-47be-82bb-de2f8574d653",
   "metadata": {},
   "outputs": [],
   "source": [
    "df = sdf.toPandas()"
   ]
  },
  {
   "cell_type": "code",
   "execution_count": 21,
   "id": "effa188a-8a6a-4a65-a6fd-3ff940a370c4",
   "metadata": {},
   "outputs": [
    {
     "data": {
      "text/plain": [
       "3971"
      ]
     },
     "execution_count": 21,
     "metadata": {},
     "output_type": "execute_result"
    }
   ],
   "source": [
    "len(df)"
   ]
  },
  {
   "cell_type": "code",
   "execution_count": 25,
   "id": "baec9980-1c12-48bb-9868-9e2e0ca4bd21",
   "metadata": {},
   "outputs": [
    {
     "data": {
      "text/plain": [
       "1954"
      ]
     },
     "execution_count": 25,
     "metadata": {},
     "output_type": "execute_result"
    }
   ],
   "source": [
    "len(df)"
   ]
  },
  {
   "cell_type": "code",
   "execution_count": 26,
   "id": "f62edeab-1f5a-449a-ac41-7b39b7e1910f",
   "metadata": {},
   "outputs": [
    {
     "data": {
      "text/html": [
       "<div>\n",
       "<style scoped>\n",
       "    .dataframe tbody tr th:only-of-type {\n",
       "        vertical-align: middle;\n",
       "    }\n",
       "\n",
       "    .dataframe tbody tr th {\n",
       "        vertical-align: top;\n",
       "    }\n",
       "\n",
       "    .dataframe thead th {\n",
       "        text-align: right;\n",
       "    }\n",
       "</style>\n",
       "<table border=\"1\" class=\"dataframe\">\n",
       "  <thead>\n",
       "    <tr style=\"text-align: right;\">\n",
       "      <th></th>\n",
       "      <th>mmsi</th>\n",
       "      <th>route_group</th>\n",
       "      <th>polygon_name</th>\n",
       "      <th>imo</th>\n",
       "      <th>flag_country</th>\n",
       "      <th>vessel_name</th>\n",
       "      <th>vessel_type</th>\n",
       "      <th>vessel_type_main</th>\n",
       "      <th>vessel_type_sub</th>\n",
       "      <th>arrival_dt_pos_utc</th>\n",
       "      <th>arrival_draught</th>\n",
       "      <th>arrival_destination</th>\n",
       "      <th>arrival_length</th>\n",
       "      <th>arrival_width</th>\n",
       "      <th>arrival_heading</th>\n",
       "      <th>count_ais</th>\n",
       "      <th>max_draught</th>\n",
       "      <th>min_draught</th>\n",
       "      <th>mean_draught</th>\n",
       "      <th>max_sog</th>\n",
       "      <th>min_sog</th>\n",
       "      <th>mean_sog</th>\n",
       "      <th>departure_dt_pos_utc</th>\n",
       "      <th>departure_draught</th>\n",
       "      <th>departure_destination</th>\n",
       "      <th>departure_length</th>\n",
       "      <th>departure_width</th>\n",
       "      <th>departure_heading</th>\n",
       "      <th>year</th>\n",
       "      <th>month</th>\n",
       "    </tr>\n",
       "  </thead>\n",
       "  <tbody>\n",
       "    <tr>\n",
       "      <th>0</th>\n",
       "      <td>215029000.0000000000</td>\n",
       "      <td>0</td>\n",
       "      <td>Tartus</td>\n",
       "      <td>9575292.0000000000</td>\n",
       "      <td>Malta</td>\n",
       "      <td>MUBARIZ IBRAHIMOV</td>\n",
       "      <td>Tanker</td>\n",
       "      <td>Oil And Chemical Tanker</td>\n",
       "      <td>Chemical Oil Products Tanker</td>\n",
       "      <td>2019-07-11 20:05:04</td>\n",
       "      <td>4.0000000000</td>\n",
       "      <td>FOR ORDERS</td>\n",
       "      <td>140.0000000000</td>\n",
       "      <td>16.0000000000</td>\n",
       "      <td>216.0000000000</td>\n",
       "      <td>1.0000000000</td>\n",
       "      <td>4.0000000000</td>\n",
       "      <td>4.0000000000</td>\n",
       "      <td>4.0000000000</td>\n",
       "      <td>0.2000000000</td>\n",
       "      <td>0.2000000000</td>\n",
       "      <td>0.2000000000</td>\n",
       "      <td>2019-07-11 20:05:04</td>\n",
       "      <td>4.0000000000</td>\n",
       "      <td>FOR ORDERS</td>\n",
       "      <td>140.0000000000</td>\n",
       "      <td>16.0000000000</td>\n",
       "      <td>216.0000000000</td>\n",
       "      <td>2019.0000000000</td>\n",
       "      <td>7.0000000000</td>\n",
       "    </tr>\n",
       "    <tr>\n",
       "      <th>1</th>\n",
       "      <td>215421000.0000000000</td>\n",
       "      <td>0</td>\n",
       "      <td>Al Ladhiqiyah</td>\n",
       "      <td>9226516.0000000000</td>\n",
       "      <td>Malta</td>\n",
       "      <td>CINZIA A</td>\n",
       "      <td>Cargo</td>\n",
       "      <td>None</td>\n",
       "      <td>None</td>\n",
       "      <td>2019-07-30 01:06:04</td>\n",
       "      <td>10.4000000000</td>\n",
       "      <td>SYLTK</td>\n",
       "      <td>200.0000000000</td>\n",
       "      <td>30.0000000000</td>\n",
       "      <td>105.0000000000</td>\n",
       "      <td>156.0000000000</td>\n",
       "      <td>10.4000000000</td>\n",
       "      <td>10.0000000000</td>\n",
       "      <td>10.3897435897</td>\n",
       "      <td>16.3000000000</td>\n",
       "      <td>0.0000000000</td>\n",
       "      <td>0.7070512821</td>\n",
       "      <td>2019-07-31 12:23:41</td>\n",
       "      <td>10.0000000000</td>\n",
       "      <td>TRISK</td>\n",
       "      <td>200.0000000000</td>\n",
       "      <td>30.0000000000</td>\n",
       "      <td>270.0000000000</td>\n",
       "      <td>2019.0000000000</td>\n",
       "      <td>7.0000000000</td>\n",
       "    </tr>\n",
       "  </tbody>\n",
       "</table>\n",
       "</div>"
      ],
      "text/plain": [
       "                  mmsi  route_group   polygon_name                imo  \\\n",
       "0 215029000.0000000000            0         Tartus 9575292.0000000000   \n",
       "1 215421000.0000000000            0  Al Ladhiqiyah 9226516.0000000000   \n",
       "\n",
       "  flag_country        vessel_name vessel_type         vessel_type_main  \\\n",
       "0        Malta  MUBARIZ IBRAHIMOV      Tanker  Oil And Chemical Tanker   \n",
       "1        Malta           CINZIA A       Cargo                     None   \n",
       "\n",
       "                vessel_type_sub  arrival_dt_pos_utc  arrival_draught  \\\n",
       "0  Chemical Oil Products Tanker 2019-07-11 20:05:04     4.0000000000   \n",
       "1                          None 2019-07-30 01:06:04    10.4000000000   \n",
       "\n",
       "  arrival_destination  arrival_length  arrival_width  arrival_heading  \\\n",
       "0          FOR ORDERS  140.0000000000  16.0000000000   216.0000000000   \n",
       "1               SYLTK  200.0000000000  30.0000000000   105.0000000000   \n",
       "\n",
       "       count_ais   max_draught   min_draught  mean_draught       max_sog  \\\n",
       "0   1.0000000000  4.0000000000  4.0000000000  4.0000000000  0.2000000000   \n",
       "1 156.0000000000 10.4000000000 10.0000000000 10.3897435897 16.3000000000   \n",
       "\n",
       "       min_sog     mean_sog departure_dt_pos_utc  departure_draught  \\\n",
       "0 0.2000000000 0.2000000000  2019-07-11 20:05:04       4.0000000000   \n",
       "1 0.0000000000 0.7070512821  2019-07-31 12:23:41      10.0000000000   \n",
       "\n",
       "  departure_destination  departure_length  departure_width  departure_heading  \\\n",
       "0            FOR ORDERS    140.0000000000    16.0000000000     216.0000000000   \n",
       "1                 TRISK    200.0000000000    30.0000000000     270.0000000000   \n",
       "\n",
       "             year        month  \n",
       "0 2019.0000000000 7.0000000000  \n",
       "1 2019.0000000000 7.0000000000  "
      ]
     },
     "execution_count": 26,
     "metadata": {},
     "output_type": "execute_result"
    }
   ],
   "source": [
    "df.head(2)"
   ]
  },
  {
   "cell_type": "code",
   "execution_count": 27,
   "id": "053dc358-5b08-4639-b18f-6c2a79cf368e",
   "metadata": {},
   "outputs": [],
   "source": [
    "df.loc[:, \"width\"] = df.loc[:, \"departure_width\"]\n",
    "df.loc[:, \"length\"] = df.loc[:, \"departure_length\"]\n",
    "df.loc[:, \"Port\"] = df.loc[:, \"polygon_name\"]\n",
    "df.loc[:, \"Country\"] = \"Syria\""
   ]
  },
  {
   "cell_type": "code",
   "execution_count": 28,
   "id": "d3397231-66ff-44cb-854e-b98cfa609c41",
   "metadata": {
    "tags": []
   },
   "outputs": [],
   "source": [
    "# df = pd.concat([pd.read_pickle(f\"{path_route}{country}/{year}.pkl\") for year in [2019,2020,2021,2022,2023] for country in country_list], ignore_index=True)\n",
    "# df.info()"
   ]
  },
  {
   "cell_type": "code",
   "execution_count": 29,
   "id": "f7120662-03ab-42fa-9735-a51b39d3f936",
   "metadata": {
    "tags": []
   },
   "outputs": [],
   "source": [
    "# df.Country.unique()"
   ]
  },
  {
   "cell_type": "code",
   "execution_count": 30,
   "id": "42eae2e1-e022-4f25-9884-df82accfe433",
   "metadata": {
    "tags": []
   },
   "outputs": [],
   "source": [
    "# df[df['Country Buffer'] != df['Country']]"
   ]
  },
  {
   "cell_type": "code",
   "execution_count": 31,
   "id": "66a23074-db27-4016-ba5b-613b2b4dfc23",
   "metadata": {
    "tags": []
   },
   "outputs": [],
   "source": [
    "# df.groupby(['Country','Port']).size()"
   ]
  },
  {
   "cell_type": "code",
   "execution_count": 32,
   "id": "1c00ca0e-85e9-41a9-844b-6cc659ddcc59",
   "metadata": {
    "tags": []
   },
   "outputs": [],
   "source": [
    "#Keep only routes within the IMF boundary\n",
    "#NOTE REASSIGNMENT OF VARIABLE\n",
    "\n",
    "# df = df[~df['Country'].isnull()].copy()"
   ]
  },
  {
   "cell_type": "code",
   "execution_count": 33,
   "id": "84170d95-78ad-4045-b760-813d59e61975",
   "metadata": {},
   "outputs": [
    {
     "data": {
      "text/plain": [
       "(1954, 34)"
      ]
     },
     "execution_count": 33,
     "metadata": {},
     "output_type": "execute_result"
    }
   ],
   "source": [
    "df.shape"
   ]
  },
  {
   "cell_type": "code",
   "execution_count": 34,
   "id": "e68e2887-1e66-44dd-9075-f18603fa9067",
   "metadata": {
    "tags": []
   },
   "outputs": [],
   "source": [
    "df['date'] = df['arrival_dt_pos_utc'].dt.floor('d')"
   ]
  },
  {
   "cell_type": "markdown",
   "id": "a625d4ae-756a-4948-a744-e0ef79259bba",
   "metadata": {},
   "source": [
    "From Samoa notebook"
   ]
  },
  {
   "cell_type": "markdown",
   "id": "cfa54dfa-9efe-41ca-a04b-e645d4b88506",
   "metadata": {},
   "source": [
    "## Route aggregation"
   ]
  },
  {
   "cell_type": "code",
   "execution_count": 35,
   "id": "96dd7f92-da87-4c3b-ac32-3e303d3fead3",
   "metadata": {},
   "outputs": [],
   "source": [
    "def agg_per_group(df_, group_col, ship_col):\n",
    "    \"\"\"\n",
    "    Aggregates pre-defined columns from a pandas dataframe based on supplied unique identifiers\n",
    "    \n",
    "    group_col: list of columns for unique identifier of routes\n",
    "    ship_col: list of columns for unique identifier of ships\n",
    "\n",
    "\n",
    "    returns: Dataframe with aggregated columns\n",
    "    \n",
    "    gets the first occurence by group_col\n",
    "                                \n",
    "    get the last occurence by group_col\n",
    "                \n",
    "    get summary statistics according to aggregation function by group_col\n",
    "    \n",
    "    time_travel = time difference between previous route departre_dt_pos_utc and current route arrival_dt_pos_utc\n",
    "    sorting according to ship_col \n",
    "    \n",
    "    \"\"\"\n",
    "    df = df_.sort_values(group_col + ['arrival_dt_pos_utc'],ignore_index=True)\n",
    "    \n",
    "    df['tot_sog'] = df['mean_sog'] * df['count_ais']\n",
    "\n",
    "    df_agg = df.groupby(group_col, dropna=False).agg({x:'first' for x in [\"length\",\"width\",\"vessel_type\",\n",
    "                                                            \"arrival_dt_pos_utc\",\"arrival_draught\",\"arrival_destination\"\n",
    "                                                            ]\n",
    "                                       }).join(df.groupby(group_col, dropna=False).agg({'count_ais':'sum',\n",
    "                                                                          'tot_sog':'sum',\n",
    "                                                                          'max_sog':'max',\n",
    "                                                                          'min_sog':'min'})\n",
    "                                              ).join(df.groupby(group_col, dropna=False).agg({x:'last' for x in ['departure_dt_pos_utc','departure_draught','departure_destination',\n",
    "                                                                                                  ]}))\n",
    "        \n",
    "    df_agg['mean_sog'] = df_agg['tot_sog'] / df_agg['count_ais']\n",
    "\n",
    "    df_agg['time_spent'] = df_agg['departure_dt_pos_utc'] - df_agg['arrival_dt_pos_utc']\n",
    "    \n",
    "    df_agg = df_agg.drop(columns=['tot_sog']).reset_index()\n",
    "    \n",
    "    df_agg.sort_values(ship_col + ['arrival_dt_pos_utc'], inplace=True, ignore_index=True)\n",
    "    df_agg['prev_departure_dt_pos_utc'] = df_agg.groupby(ship_col)['departure_dt_pos_utc'].shift(1)\n",
    "    df_agg['time_travel'] = df_agg['arrival_dt_pos_utc'] - df_agg['prev_departure_dt_pos_utc']\n",
    "    \n",
    "    df_agg['year'] = df_agg['arrival_dt_pos_utc'].dt.year\n",
    "    df_agg['month'] = df_agg['arrival_dt_pos_utc'].dt.month\n",
    "    df_agg['date'] = df_agg['arrival_dt_pos_utc'].dt.floor('d')\n",
    "   \n",
    "    \n",
    "    return df_agg"
   ]
  },
  {
   "cell_type": "code",
   "execution_count": 36,
   "id": "e38c007c-b700-4b57-8b4b-7366673c2289",
   "metadata": {},
   "outputs": [
    {
     "data": {
      "text/plain": [
       "array(['Tartus', 'Al Ladhiqiyah'], dtype=object)"
      ]
     },
     "execution_count": 36,
     "metadata": {},
     "output_type": "execute_result"
    }
   ],
   "source": [
    "df.polygon_name.unique()"
   ]
  },
  {
   "cell_type": "code",
   "execution_count": 37,
   "id": "1fdfb9d0-d4b1-4c3e-aaac-abf629ccef11",
   "metadata": {},
   "outputs": [],
   "source": [
    "ports = ['Tartus', 'Al Ladhiqiyah']"
   ]
  },
  {
   "cell_type": "code",
   "execution_count": 38,
   "id": "528dfc7a-3c92-4b4b-b440-4b2aa693d7b6",
   "metadata": {},
   "outputs": [
    {
     "data": {
      "text/plain": [
       "Index(['mmsi', 'route_group', 'polygon_name', 'imo', 'flag_country',\n",
       "       'vessel_name', 'vessel_type', 'vessel_type_main', 'vessel_type_sub',\n",
       "       'arrival_dt_pos_utc', 'arrival_draught', 'arrival_destination',\n",
       "       'arrival_length', 'arrival_width', 'arrival_heading', 'count_ais',\n",
       "       'max_draught', 'min_draught', 'mean_draught', 'max_sog', 'min_sog',\n",
       "       'mean_sog', 'departure_dt_pos_utc', 'departure_draught',\n",
       "       'departure_destination', 'departure_length', 'departure_width',\n",
       "       'departure_heading', 'year', 'month', 'width', 'length', 'Port',\n",
       "       'Country', 'date'],\n",
       "      dtype='object')"
      ]
     },
     "execution_count": 38,
     "metadata": {},
     "output_type": "execute_result"
    }
   ],
   "source": [
    "df.columns"
   ]
  },
  {
   "cell_type": "code",
   "execution_count": 39,
   "id": "d658cf1f-84ee-43b1-ab3d-951179c0b5a2",
   "metadata": {},
   "outputs": [
    {
     "name": "stdout",
     "output_type": "stream",
     "text": [
      "\n",
      "Raw routes  --------\n",
      "                 route_group  mmsi\n",
      "year                              \n",
      "2019.0000000000          430   179\n",
      "2020.0000000000          412   153\n",
      "2021.0000000000          357   119\n",
      "2022.0000000000          245    81\n",
      "2023.0000000000          249    94\n",
      "2024.0000000000          254   119\n",
      "\n",
      "Keep only routes within Apia -----\n",
      "                 route_group  mmsi\n",
      "year                              \n",
      "2019.0000000000          430   179\n",
      "2020.0000000000          412   153\n",
      "2021.0000000000          357   119\n",
      "2022.0000000000          245    81\n",
      "2023.0000000000          249    94\n",
      "2024.0000000000          254   119\n",
      "\n",
      "Include only individual ships -----\n",
      "                 route_group  mmsi\n",
      "year                              \n",
      "2019.0000000000          427   177\n",
      "2020.0000000000          412   153\n",
      "2021.0000000000          349   118\n",
      "2022.0000000000          245    81\n",
      "2023.0000000000          249    94\n",
      "2024.0000000000          249   116\n",
      "\n",
      "Aggregate routes within the day ----\n",
      "      date  mmsi\n",
      "year            \n",
      "2019   427   177\n",
      "2020   412   153\n",
      "2021   349   118\n",
      "2022   245    81\n",
      "2023   249    94\n",
      "2024   249   116\n",
      "\n"
     ]
    }
   ],
   "source": [
    "## include only mmsi for individual ships: MIDxxxxxx, where MID from 200-799\n",
    "## - https://en.wikipedia.org/wiki/Maritime_Mobile_Service_Identity#Station_Identity_Formats\n",
    "cond = (df.mmsi >= 200000000) & (df.mmsi <= 799999999)\n",
    "\n",
    "#keep only routes within ports\n",
    "cond2 = df['polygon_name'].isin(ports)\n",
    "\n",
    "#aggregate routes within the day into one\n",
    "group_col = [\"mmsi\",\"imo\",\"vessel_name\",\"year\",\"month\",\"date\",\"Port\"]\n",
    "ship_col = [\"mmsi\",\"imo\",\"vessel_name\"]\n",
    "df_agg = agg_per_group(df[cond & cond2], group_col, ship_col)\n",
    " \n",
    "print(f\"\"\"\n",
    "Raw routes  --------\n",
    "{df.groupby('year').agg({'route_group':'count','mmsi':'nunique'})}\n",
    "\n",
    "Keep only routes within Apia -----\n",
    "{df[cond2].groupby('year').agg({'route_group':'count','mmsi':'nunique'})}\n",
    "\n",
    "Include only individual ships -----\n",
    "{df[cond & cond2].groupby('year').agg({'route_group':'count','mmsi':'nunique'})}\n",
    "\n",
    "Aggregate routes within the day ----\n",
    "{df_agg.groupby('year').agg({'date':'count','mmsi':'nunique'})}\n",
    "\"\"\")"
   ]
  },
  {
   "cell_type": "code",
   "execution_count": 40,
   "id": "2880c0e6-a163-4327-8bd3-7b1f7cadb381",
   "metadata": {},
   "outputs": [],
   "source": [
    "df_agg['time_travel_flag'] = np.where((df_agg.time_travel <= \"1 days\") & ~(df_agg.time_travel.isnull()), 0, 1)\n",
    "df_agg['new_route_group'] = df_agg.groupby(ship_col).time_travel_flag.cumsum()"
   ]
  },
  {
   "cell_type": "code",
   "execution_count": 41,
   "id": "d7913e31-49b0-40ea-82ce-104ec2689d89",
   "metadata": {},
   "outputs": [
    {
     "name": "stdout",
     "output_type": "stream",
     "text": [
      "\n",
      "Aggregate routes where time in between is less than 1 day ----\n",
      "      new_route_group  mmsi\n",
      "year                       \n",
      "2019              393   177\n",
      "2020              381   152\n",
      "2021              328   117\n",
      "2022              225    81\n",
      "2023              232    94\n",
      "2024              230   115\n",
      "\n",
      "Remove routes with only 1 AIS signal ----\n",
      "      new_route_group  mmsi\n",
      "year                       \n",
      "2019              334   152\n",
      "2020              324   131\n",
      "2021              294   102\n",
      "2022              194    64\n",
      "2023              196    74\n",
      "2024              181    69\n",
      "\n",
      "\n"
     ]
    }
   ],
   "source": [
    "df_agg['time_travel_flag'] = np.where((df_agg.time_travel <= \"1 days\") & ~(df_agg.time_travel.isnull()), 0, 1)\n",
    "df_agg['new_route_group'] = df_agg.groupby(ship_col).time_travel_flag.cumsum()\n",
    "\n",
    "group_col = [\"mmsi\",\"imo\",\"vessel_name\", \"new_route_group\", \"Port\"]\n",
    "df_agg = agg_per_group(df_agg, group_col, ship_col)\n",
    "\n",
    "\n",
    "cond = df_agg.count_ais > 1\n",
    "print(f\"\"\"\n",
    "Aggregate routes where time in between is less than 1 day ----\n",
    "{df_agg.groupby('year').agg({'new_route_group':'count','mmsi':'nunique'})}\n",
    "\n",
    "Remove routes with only 1 AIS signal ----\n",
    "{df_agg[cond].groupby('year').agg({'new_route_group':'count','mmsi':'nunique'})}\n",
    "\n",
    "\"\"\")"
   ]
  },
  {
   "cell_type": "code",
   "execution_count": 42,
   "id": "9ee3a5a5-b3f1-427f-8f81-90cbeacd7eac",
   "metadata": {},
   "outputs": [],
   "source": [
    "# df_agg.head(3)"
   ]
  },
  {
   "cell_type": "code",
   "execution_count": 43,
   "id": "3f570a43-ee31-46c1-a748-0c6d86d524cf",
   "metadata": {},
   "outputs": [
    {
     "name": "stdout",
     "output_type": "stream",
     "text": [
      "generated new fontManager\n"
     ]
    },
    {
     "data": {
      "text/plain": [
       "<Axes: title={'center': 'AIS Routes Raw'}, xlabel='arrival_dt_pos_utc'>"
      ]
     },
     "execution_count": 43,
     "metadata": {},
     "output_type": "execute_result"
    },
    {
     "data": {
      "text/plain": [
       "<Axes: title={'center': 'AIS Routes Raw'}, xlabel='arrival_dt_pos_utc'>"
      ]
     },
     "execution_count": 43,
     "metadata": {},
     "output_type": "execute_result"
    },
    {
     "data": {
      "image/png": "[encoded data removed]",
      "text/plain": [
       "<Figure size 2000x500 with 1 Axes>"
      ]
     },
     "metadata": {},
     "output_type": "display_data"
    }
   ],
   "source": [
    "#Sketchy Jan 2020 data, fixed by removing routes with only 1 AIS signal\n",
    "df_agg.set_index('arrival_dt_pos_utc').groupby(pd.Grouper(freq=\"M\")).mmsi.count().rename(\"incl routes with only 1 AIS signal\").plot(figsize=(20,5), title=\"AIS Routes Raw\",\n",
    "                                                                                                                                   legend=True)\n",
    "df_agg[cond].set_index('arrival_dt_pos_utc').groupby(pd.Grouper(freq=\"M\")).mmsi.count().rename(\"excl routes with only 1 AIS signal\").plot(legend=True)"
   ]
  },
  {
   "cell_type": "code",
   "execution_count": 44,
   "id": "d6164ec8-5a99-4efd-bc71-5db176793a76",
   "metadata": {},
   "outputs": [],
   "source": [
    "#warning reassign variable\n",
    "df_agg = df_agg[cond].reset_index(drop=True)"
   ]
  },
  {
   "cell_type": "code",
   "execution_count": 45,
   "id": "b041d29f-cf78-4597-ba9f-fc51dffe607f",
   "metadata": {},
   "outputs": [
    {
     "name": "stdout",
     "output_type": "stream",
     "text": [
      "\n",
      "We have reduced the routes data from 1,954 to 1,538.\n",
      "\n"
     ]
    }
   ],
   "source": [
    "print(f\"\"\"\n",
    "We have reduced the routes data from {df.shape[0]:,} to {df_agg.shape[0]:,}.\n",
    "\"\"\")"
   ]
  },
  {
   "cell_type": "markdown",
   "id": "fca2e203-b71c-40d3-ba51-d25c086be724",
   "metadata": {},
   "source": [
    "# Ship Register Data"
   ]
  },
  {
   "cell_type": "code",
   "execution_count": 46,
   "id": "ed3ba9e2-dbc0-4646-942a-e13fad9716a2",
   "metadata": {},
   "outputs": [
    {
     "name": "stdout",
     "output_type": "stream",
     "text": [
      "Found credentials from IAM Role: eksctl-sparky-mc-sparkface-nodegr-NodeInstanceRole-15Y58CLME2WUS\n"
     ]
    },
    {
     "data": {
      "text/html": [
       "<div>\n",
       "<style scoped>\n",
       "    .dataframe tbody tr th:only-of-type {\n",
       "        vertical-align: middle;\n",
       "    }\n",
       "\n",
       "    .dataframe tbody tr th {\n",
       "        vertical-align: top;\n",
       "    }\n",
       "\n",
       "    .dataframe thead th {\n",
       "        text-align: right;\n",
       "    }\n",
       "</style>\n",
       "<table border=\"1\" class=\"dataframe\">\n",
       "  <thead>\n",
       "    <tr style=\"text-align: right;\">\n",
       "      <th></th>\n",
       "      <th>20240930</th>\n",
       "    </tr>\n",
       "  </thead>\n",
       "  <tbody>\n",
       "  </tbody>\n",
       "</table>\n",
       "</div>"
      ],
      "text/plain": [
       "Empty DataFrame\n",
       "Columns: [20240930]\n",
       "Index: []"
      ]
     },
     "execution_count": 46,
     "metadata": {},
     "output_type": "execute_result"
    }
   ],
   "source": [
    "#latest available version in ungp\n",
    "ihs_version = pd.read_csv(ihs_basepath+\"version.csv\")\n",
    "ihs_version"
   ]
  },
  {
   "cell_type": "code",
   "execution_count": 47,
   "id": "ab97d963-4583-404a-a772-a6b23cacbace",
   "metadata": {
    "tags": []
   },
   "outputs": [
    {
     "data": {
      "text/plain": [
       "['LRIMOShipNo',\n",
       " 'StatCode5',\n",
       " 'AlterationsDescriptiveNarrative',\n",
       " 'PropulsionTypeCode',\n",
       " 'ShipName',\n",
       " 'ExName',\n",
       " 'MaritimeMobileServiceIdentityMMSINumber',\n",
       " 'RegisteredOwnerCode',\n",
       " 'RegisteredOwnerCountryOfRegistration',\n",
       " 'RegisteredOwnerCountryofDomicile',\n",
       " 'ShipManagerCompanyCode',\n",
       " 'ShipManagerCountryOfRegistration',\n",
       " 'ShipManagerCountryofDomicileName',\n",
       " 'GroupBeneficialOwnerCompanyCode',\n",
       " 'GroupBeneficialOwnerCountryOfRegistration',\n",
       " 'GroupBeneficialOwnerCountryofDomicile',\n",
       " 'OperatorCompanyCode',\n",
       " 'OperatorCountryOfRegistration',\n",
       " 'OperatorCountryofDomicileName',\n",
       " 'FlagCode',\n",
       " 'PortofRegistryCode',\n",
       " 'Tonnagesystem69convention',\n",
       " 'GrossTonnage',\n",
       " 'Deadweight',\n",
       " 'LengthOverallLOA',\n",
       " 'LengthBetweenPerpendicularsLBP',\n",
       " 'LengthRegistered',\n",
       " 'DateOfBuild',\n",
       " 'ShipbuilderCompanyCode',\n",
       " 'YardNumber',\n",
       " 'NumberofDecks',\n",
       " 'HoldsDescriptiveNarrative',\n",
       " 'TanksDescriptiveNarrative',\n",
       " 'NumberofHatches',\n",
       " 'NumberofHolds',\n",
       " 'NumberofTanks',\n",
       " 'InsulatedCapacity',\n",
       " 'TEU',\n",
       " 'NumberofMainEngines',\n",
       " 'Powerbhpihpshpmax',\n",
       " 'Powerkwmax',\n",
       " 'MainEngineBuilderCode',\n",
       " 'MainEngineDesigner',\n",
       " 'MainEngineModel',\n",
       " 'Speed',\n",
       " 'Speedmax',\n",
       " 'Speedservice',\n",
       " 'FuelConsumptionTotal',\n",
       " 'CallSign',\n",
       " 'OfficialNumber',\n",
       " 'HullMaterialCode',\n",
       " 'DeathDate',\n",
       " 'DateBreakingCommenced',\n",
       " 'CompensatedGrossTonnageCGT',\n",
       " 'HullTypeCode',\n",
       " 'MARPOL13GPhaseoutCategory',\n",
       " 'PermanentBallastCapacity',\n",
       " 'SegregatedBallastTanks',\n",
       " 'HeatingCoilsinCargoTanks',\n",
       " 'FlashPointOver60c',\n",
       " 'FlashPointUnder60c',\n",
       " 'ShipStatusCode',\n",
       " 'ShipStatusEffectiveDate',\n",
       " 'ClassificationSocietyCode',\n",
       " 'AuxiliaryEnginesNarrative',\n",
       " 'BreadthExtreme',\n",
       " 'BreadthMoulded',\n",
       " 'ClassNarrative',\n",
       " 'ClassificationSociety',\n",
       " 'ConstructionDescriptiveNarrative',\n",
       " 'ConsumptionSpeed1',\n",
       " 'ConsumptionSpeed2',\n",
       " 'ConsumptionValue1',\n",
       " 'ConsumptionValue2',\n",
       " 'Depth',\n",
       " 'Displacement',\n",
       " 'Draught',\n",
       " 'FlagName',\n",
       " 'FuelType1Capacity',\n",
       " 'FuelType1First',\n",
       " 'FuelType2Capacity',\n",
       " 'FuelType2Second',\n",
       " 'IceCapabilityDescriptiveNarrative',\n",
       " 'LightDisplacementTonnage',\n",
       " 'MainEngineRPM',\n",
       " 'MainEngineStrokeType',\n",
       " 'MainEngineType',\n",
       " 'NetTonnage',\n",
       " 'NumberOfAllEngines',\n",
       " 'NumberOfAuxiliaryEngines',\n",
       " 'NumberofGenerators',\n",
       " 'NumberOfPropulsionUnits',\n",
       " 'NumberofThrusters',\n",
       " 'Powerbhpihpshpservice',\n",
       " 'Powerkwservice',\n",
       " 'PrimeMoverDescriptiveNarrative',\n",
       " 'PropellerType',\n",
       " 'PropulsionType',\n",
       " 'ShipStatus',\n",
       " 'ShiptypeLevel5',\n",
       " 'TotalBunkerCapacity',\n",
       " 'TotalHorsepowerofAuxiliaryGenerators',\n",
       " 'TotalHorsepowerofMainEngines',\n",
       " 'TotalHorsepowerofMainGenerators',\n",
       " 'TotalKilowattsofMainEngines',\n",
       " 'TotalPowerOfAllEngines',\n",
       " 'TotalPowerOfAuxiliaryEngines']"
      ]
     },
     "execution_count": 47,
     "metadata": {},
     "output_type": "execute_result"
    }
   ],
   "source": [
    "#Check Column list\n",
    "ihs_columns = pd.read_csv(ihs_basepath+\"ShipData.CSV\", nrows=2).columns.tolist()\n",
    "ihs_columns"
   ]
  },
  {
   "cell_type": "code",
   "execution_count": 48,
   "id": "0e25a616-01a7-4a84-9b7e-a7079d1479b6",
   "metadata": {},
   "outputs": [
    {
     "data": {
      "text/plain": [
       "(260884, 16)"
      ]
     },
     "execution_count": 48,
     "metadata": {},
     "output_type": "execute_result"
    },
    {
     "name": "stdout",
     "output_type": "stream",
     "text": [
      "<class 'pandas.core.frame.DataFrame'>\n",
      "RangeIndex: 369 entries, 0 to 368\n",
      "Data columns (total 16 columns):\n",
      " #   Column                    Non-Null Count  Dtype  \n",
      "---  ------                    --------------  -----  \n",
      " 0   imo                       369 non-null    int64  \n",
      " 1   StatCode5                 369 non-null    object \n",
      " 2   ShipName                  369 non-null    object \n",
      " 3   ExName                    337 non-null    object \n",
      " 4   mmsi                      301 non-null    float64\n",
      " 5   GrossTonnage              369 non-null    int64  \n",
      " 6   Deadweight                369 non-null    int64  \n",
      " 7   LengthOverallLOA          369 non-null    float64\n",
      " 8   LengthRegistered          369 non-null    float64\n",
      " 9   TEU                       369 non-null    int64  \n",
      " 10  BreadthExtreme            369 non-null    float64\n",
      " 11  BreadthMoulded            369 non-null    float64\n",
      " 12  Displacement              369 non-null    int64  \n",
      " 13  Draught                   369 non-null    float64\n",
      " 14  LightDisplacementTonnage  369 non-null    float64\n",
      " 15  NetTonnage                369 non-null    int64  \n",
      "dtypes: float64(7), int64(6), object(3)\n",
      "memory usage: 46.2+ KB\n"
     ]
    },
    {
     "data": {
      "text/html": [
       "<div>\n",
       "<style scoped>\n",
       "    .dataframe tbody tr th:only-of-type {\n",
       "        vertical-align: middle;\n",
       "    }\n",
       "\n",
       "    .dataframe tbody tr th {\n",
       "        vertical-align: top;\n",
       "    }\n",
       "\n",
       "    .dataframe thead th {\n",
       "        text-align: right;\n",
       "    }\n",
       "</style>\n",
       "<table border=\"1\" class=\"dataframe\">\n",
       "  <thead>\n",
       "    <tr style=\"text-align: right;\">\n",
       "      <th></th>\n",
       "      <th>imo</th>\n",
       "      <th>StatCode5</th>\n",
       "      <th>ShipName</th>\n",
       "      <th>ExName</th>\n",
       "      <th>mmsi</th>\n",
       "      <th>GrossTonnage</th>\n",
       "      <th>Deadweight</th>\n",
       "      <th>LengthOverallLOA</th>\n",
       "      <th>LengthRegistered</th>\n",
       "      <th>TEU</th>\n",
       "      <th>BreadthExtreme</th>\n",
       "      <th>BreadthMoulded</th>\n",
       "      <th>Displacement</th>\n",
       "      <th>Draught</th>\n",
       "      <th>LightDisplacementTonnage</th>\n",
       "      <th>NetTonnage</th>\n",
       "    </tr>\n",
       "  </thead>\n",
       "  <tbody>\n",
       "    <tr>\n",
       "      <th>0</th>\n",
       "      <td>1054149</td>\n",
       "      <td>B34B2SC</td>\n",
       "      <td>MSN 6</td>\n",
       "      <td>Ao Li Deng 6</td>\n",
       "      <td>312514000.0000000000</td>\n",
       "      <td>1227</td>\n",
       "      <td>0</td>\n",
       "      <td>49.5000000000</td>\n",
       "      <td>46.6200000000</td>\n",
       "      <td>0</td>\n",
       "      <td>0.0000000000</td>\n",
       "      <td>18.6000000000</td>\n",
       "      <td>0</td>\n",
       "      <td>1.4000000000</td>\n",
       "      <td>0.0000000000</td>\n",
       "      <td>368</td>\n",
       "    </tr>\n",
       "    <tr>\n",
       "      <th>1</th>\n",
       "      <td>4568397</td>\n",
       "      <td>B31A2SR</td>\n",
       "      <td>BAT GALIM</td>\n",
       "      <td>Bant (Y867)</td>\n",
       "      <td>428067000.0000000000</td>\n",
       "      <td>387</td>\n",
       "      <td>406</td>\n",
       "      <td>33.5400000000</td>\n",
       "      <td>0.0000000000</td>\n",
       "      <td>0</td>\n",
       "      <td>0.0000000000</td>\n",
       "      <td>9.2000000000</td>\n",
       "      <td>457</td>\n",
       "      <td>3.7000000000</td>\n",
       "      <td>0.0000000000</td>\n",
       "      <td>116</td>\n",
       "    </tr>\n",
       "    <tr>\n",
       "      <th>2</th>\n",
       "      <td>4727747</td>\n",
       "      <td>X11C2AS</td>\n",
       "      <td>SB-738</td>\n",
       "      <td>NaN</td>\n",
       "      <td>273544130.0000000000</td>\n",
       "      <td>0</td>\n",
       "      <td>0</td>\n",
       "      <td>57.0000000000</td>\n",
       "      <td>0.0000000000</td>\n",
       "      <td>0</td>\n",
       "      <td>0.0000000000</td>\n",
       "      <td>14.0000000000</td>\n",
       "      <td>1200</td>\n",
       "      <td>3.2000000000</td>\n",
       "      <td>0.0000000000</td>\n",
       "      <td>0</td>\n",
       "    </tr>\n",
       "    <tr>\n",
       "      <th>3</th>\n",
       "      <td>4751047</td>\n",
       "      <td>X11C2AS</td>\n",
       "      <td>SPASATEL VASILY BEKH</td>\n",
       "      <td>SB-739</td>\n",
       "      <td>273542830.0000000000</td>\n",
       "      <td>0</td>\n",
       "      <td>0</td>\n",
       "      <td>57.0000000000</td>\n",
       "      <td>0.0000000000</td>\n",
       "      <td>0</td>\n",
       "      <td>0.0000000000</td>\n",
       "      <td>14.0000000000</td>\n",
       "      <td>1200</td>\n",
       "      <td>3.2000000000</td>\n",
       "      <td>0.0000000000</td>\n",
       "      <td>0</td>\n",
       "    </tr>\n",
       "    <tr>\n",
       "      <th>4</th>\n",
       "      <td>4751059</td>\n",
       "      <td>X11C2AS</td>\n",
       "      <td>SB-742</td>\n",
       "      <td>NaN</td>\n",
       "      <td>273548340.0000000000</td>\n",
       "      <td>0</td>\n",
       "      <td>0</td>\n",
       "      <td>57.0000000000</td>\n",
       "      <td>0.0000000000</td>\n",
       "      <td>0</td>\n",
       "      <td>0.0000000000</td>\n",
       "      <td>14.0000000000</td>\n",
       "      <td>1200</td>\n",
       "      <td>3.2000000000</td>\n",
       "      <td>0.0000000000</td>\n",
       "      <td>0</td>\n",
       "    </tr>\n",
       "  </tbody>\n",
       "</table>\n",
       "</div>"
      ],
      "text/plain": [
       "       imo StatCode5              ShipName        ExName                 mmsi  \\\n",
       "0  1054149   B34B2SC                 MSN 6  Ao Li Deng 6 312514000.0000000000   \n",
       "1  4568397   B31A2SR             BAT GALIM   Bant (Y867) 428067000.0000000000   \n",
       "2  4727747   X11C2AS                SB-738           NaN 273544130.0000000000   \n",
       "3  4751047   X11C2AS  SPASATEL VASILY BEKH        SB-739 273542830.0000000000   \n",
       "4  4751059   X11C2AS                SB-742           NaN 273548340.0000000000   \n",
       "\n",
       "   GrossTonnage  Deadweight  LengthOverallLOA  LengthRegistered  TEU  \\\n",
       "0          1227           0     49.5000000000     46.6200000000    0   \n",
       "1           387         406     33.5400000000      0.0000000000    0   \n",
       "2             0           0     57.0000000000      0.0000000000    0   \n",
       "3             0           0     57.0000000000      0.0000000000    0   \n",
       "4             0           0     57.0000000000      0.0000000000    0   \n",
       "\n",
       "   BreadthExtreme  BreadthMoulded  Displacement      Draught  \\\n",
       "0    0.0000000000   18.6000000000             0 1.4000000000   \n",
       "1    0.0000000000    9.2000000000           457 3.7000000000   \n",
       "2    0.0000000000   14.0000000000          1200 3.2000000000   \n",
       "3    0.0000000000   14.0000000000          1200 3.2000000000   \n",
       "4    0.0000000000   14.0000000000          1200 3.2000000000   \n",
       "\n",
       "   LightDisplacementTonnage  NetTonnage  \n",
       "0              0.0000000000         368  \n",
       "1              0.0000000000         116  \n",
       "2              0.0000000000           0  \n",
       "3              0.0000000000           0  \n",
       "4              0.0000000000           0  "
      ]
     },
     "execution_count": 48,
     "metadata": {},
     "output_type": "execute_result"
    }
   ],
   "source": [
    " # from ShipData (FACT Table) get only relevant columns\n",
    "ihs = pd.read_csv(ihs_basepath+\"ShipData.CSV\", usecols=['StatCode5','LRIMOShipNo','MaritimeMobileServiceIdentityMMSINumber',\n",
    "                                                        'ShipName','ExName','TEU',\n",
    "                                                        'Draught','Deadweight','NetTonnage','GrossTonnage','Displacement','LightDisplacementTonnage',\n",
    "                                                        'LengthOverallLOA','LengthRegistered','BreadthExtreme','BreadthMoulded'])\n",
    "\n",
    "\n",
    "ihs.rename(columns={'MaritimeMobileServiceIdentityMMSINumber':'mmsi','LRIMOShipNo':'imo'}, inplace=True)\n",
    "\n",
    "ihs.shape\n",
    "#Big file, keep only where imo or mmsi is ins the ais data\n",
    "ihs = ihs[ihs.imo.isin(df_agg.imo) | ihs.mmsi.isin(df_agg.mmsi)].reset_index(drop=True)\n",
    "\n",
    "ihs.info()\n",
    "ihs.head()"
   ]
  },
  {
   "cell_type": "code",
   "execution_count": 49,
   "id": "2b1e6b1d-91fc-4bd1-855c-86893fb0bc76",
   "metadata": {},
   "outputs": [
    {
     "name": "stdout",
     "output_type": "stream",
     "text": [
      "<class 'pandas.core.frame.DataFrame'>\n",
      "RangeIndex: 22 entries, 0 to 21\n",
      "Data columns (total 9 columns):\n",
      " #   Column          Non-Null Count  Dtype \n",
      "---  ------          --------------  ----- \n",
      " 0   StatCode5       22 non-null     object\n",
      " 1   ShiptypeLevel5  22 non-null     object\n",
      " 2   ShipTypeLevel4  22 non-null     object\n",
      " 3   ShipTypeLevel3  22 non-null     object\n",
      " 4   ShipTypeLevel2  22 non-null     object\n",
      " 5   ShiptypeLevel1  22 non-null     object\n",
      " 6   HullType        22 non-null     object\n",
      " 7   SubGroup        22 non-null     object\n",
      " 8   SubType         22 non-null     object\n",
      "dtypes: object(9)\n",
      "memory usage: 1.7+ KB\n"
     ]
    },
    {
     "data": {
      "text/html": [
       "<div>\n",
       "<style scoped>\n",
       "    .dataframe tbody tr th:only-of-type {\n",
       "        vertical-align: middle;\n",
       "    }\n",
       "\n",
       "    .dataframe tbody tr th {\n",
       "        vertical-align: top;\n",
       "    }\n",
       "\n",
       "    .dataframe thead th {\n",
       "        text-align: right;\n",
       "    }\n",
       "</style>\n",
       "<table border=\"1\" class=\"dataframe\">\n",
       "  <thead>\n",
       "    <tr style=\"text-align: right;\">\n",
       "      <th></th>\n",
       "      <th>StatCode5</th>\n",
       "      <th>ShiptypeLevel5</th>\n",
       "      <th>ShipTypeLevel4</th>\n",
       "      <th>ShipTypeLevel3</th>\n",
       "      <th>ShipTypeLevel2</th>\n",
       "      <th>ShiptypeLevel1</th>\n",
       "      <th>HullType</th>\n",
       "      <th>SubGroup</th>\n",
       "      <th>SubType</th>\n",
       "    </tr>\n",
       "  </thead>\n",
       "  <tbody>\n",
       "    <tr>\n",
       "      <th>0</th>\n",
       "      <td>A12B2TR</td>\n",
       "      <td>Chemical/Products Tanker</td>\n",
       "      <td>Chemical/Oil Products Tanker</td>\n",
       "      <td>Chemical</td>\n",
       "      <td>Tankers</td>\n",
       "      <td>Cargo Carrying</td>\n",
       "      <td>Ship Shape Including Multi-Hulls</td>\n",
       "      <td>Tanker Products</td>\n",
       "      <td>Chemical/Products Tanker</td>\n",
       "    </tr>\n",
       "    <tr>\n",
       "      <th>1</th>\n",
       "      <td>A12D2LV</td>\n",
       "      <td>Vegetable Oil Tanker</td>\n",
       "      <td>Vegetable Oil Tanker</td>\n",
       "      <td>Chemical</td>\n",
       "      <td>Tankers</td>\n",
       "      <td>Cargo Carrying</td>\n",
       "      <td>Ship Shape Including Multi-Hulls</td>\n",
       "      <td>Liquid Cargo</td>\n",
       "      <td>Vegetable Oil Tanker</td>\n",
       "    </tr>\n",
       "    <tr>\n",
       "      <th>2</th>\n",
       "      <td>A13B2TP</td>\n",
       "      <td>Products Tanker</td>\n",
       "      <td>Oil Products Tanker</td>\n",
       "      <td>Oil</td>\n",
       "      <td>Tankers</td>\n",
       "      <td>Cargo Carrying</td>\n",
       "      <td>Ship Shape Including Multi-Hulls</td>\n",
       "      <td>Tanker Products</td>\n",
       "      <td>Products Tanker</td>\n",
       "    </tr>\n",
       "    <tr>\n",
       "      <th>3</th>\n",
       "      <td>A21A2BC</td>\n",
       "      <td>Bulk Carrier</td>\n",
       "      <td>Bulk Carrier</td>\n",
       "      <td>Bulk Dry</td>\n",
       "      <td>Bulk Carriers</td>\n",
       "      <td>Cargo Carrying</td>\n",
       "      <td>Ship Shape Including Multi-Hulls</td>\n",
       "      <td>Dry Bulk Cargo</td>\n",
       "      <td>Bulk Carrier</td>\n",
       "    </tr>\n",
       "    <tr>\n",
       "      <th>4</th>\n",
       "      <td>A24A2BT</td>\n",
       "      <td>Cement Carrier</td>\n",
       "      <td>Cement Carrier</td>\n",
       "      <td>Other Bulk Dry</td>\n",
       "      <td>Bulk Carriers</td>\n",
       "      <td>Cargo Carrying</td>\n",
       "      <td>Ship Shape Including Multi-Hulls</td>\n",
       "      <td>Dry Bulk Cargo</td>\n",
       "      <td>Cement Carrier</td>\n",
       "    </tr>\n",
       "  </tbody>\n",
       "</table>\n",
       "</div>"
      ],
      "text/plain": [
       "  StatCode5            ShiptypeLevel5                ShipTypeLevel4  \\\n",
       "0   A12B2TR  Chemical/Products Tanker  Chemical/Oil Products Tanker   \n",
       "1   A12D2LV      Vegetable Oil Tanker          Vegetable Oil Tanker   \n",
       "2   A13B2TP           Products Tanker           Oil Products Tanker   \n",
       "3   A21A2BC              Bulk Carrier                  Bulk Carrier   \n",
       "4   A24A2BT            Cement Carrier                Cement Carrier   \n",
       "\n",
       "   ShipTypeLevel3 ShipTypeLevel2  ShiptypeLevel1  \\\n",
       "0        Chemical        Tankers  Cargo Carrying   \n",
       "1        Chemical        Tankers  Cargo Carrying   \n",
       "2             Oil        Tankers  Cargo Carrying   \n",
       "3        Bulk Dry  Bulk Carriers  Cargo Carrying   \n",
       "4  Other Bulk Dry  Bulk Carriers  Cargo Carrying   \n",
       "\n",
       "                           HullType         SubGroup                   SubType  \n",
       "0  Ship Shape Including Multi-Hulls  Tanker Products  Chemical/Products Tanker  \n",
       "1  Ship Shape Including Multi-Hulls     Liquid Cargo      Vegetable Oil Tanker  \n",
       "2  Ship Shape Including Multi-Hulls  Tanker Products           Products Tanker  \n",
       "3  Ship Shape Including Multi-Hulls   Dry Bulk Cargo              Bulk Carrier  \n",
       "4  Ship Shape Including Multi-Hulls   Dry Bulk Cargo            Cement Carrier  "
      ]
     },
     "execution_count": 49,
     "metadata": {},
     "output_type": "execute_result"
    }
   ],
   "source": [
    "# from Ship Type Code (Dimension Table) get only relevant columns\n",
    "ihs_statcode = pd.read_csv(ihs_basepath + \"tblShipTypeCodes.CSV\", usecols=['StatCode5',\n",
    "                                                                           'SubType',\n",
    "                                                                           'SubGroup',\n",
    "                                                                           'HullType',\n",
    "                                                                           'ShiptypeLevel1',\n",
    "                                                                           'ShipTypeLevel2',\n",
    "                                                                           'ShipTypeLevel3',\n",
    "                                                                           'ShipTypeLevel4',\n",
    "                                                                           'ShiptypeLevel5'\n",
    "                                                                          ]\n",
    "                                                                           )\n",
    "\n",
    "#Big file, keep only where imo or mmsi is ins the ais data\n",
    "ihs_statcode = ihs_statcode[ihs_statcode['StatCode5'].isin(ihs.StatCode5)].reset_index(drop=True)\n",
    "\n",
    "ihs_statcode.info()\n",
    "ihs_statcode.head()"
   ]
  },
  {
   "cell_type": "code",
   "execution_count": 50,
   "id": "ef404d84-bb64-4b64-9984-187691555df5",
   "metadata": {},
   "outputs": [
    {
     "name": "stdout",
     "output_type": "stream",
     "text": [
      "<class 'pandas.core.frame.DataFrame'>\n",
      "Int64Index: 1813 entries, 564778 to 15595\n",
      "Data columns (total 6 columns):\n",
      " #   Column          Non-Null Count  Dtype \n",
      "---  ------          --------------  ----- \n",
      " 0   imo             1813 non-null   int64 \n",
      " 1   Sequence        1813 non-null   int64 \n",
      " 2   VesselName      1813 non-null   object\n",
      " 3   Effective_Date  1813 non-null   int64 \n",
      " 4   year            1813 non-null   object\n",
      " 5   month           1813 non-null   object\n",
      "dtypes: int64(3), object(3)\n",
      "memory usage: 99.1+ KB\n"
     ]
    },
    {
     "data": {
      "text/html": [
       "<div>\n",
       "<style scoped>\n",
       "    .dataframe tbody tr th:only-of-type {\n",
       "        vertical-align: middle;\n",
       "    }\n",
       "\n",
       "    .dataframe tbody tr th {\n",
       "        vertical-align: top;\n",
       "    }\n",
       "\n",
       "    .dataframe thead th {\n",
       "        text-align: right;\n",
       "    }\n",
       "</style>\n",
       "<table border=\"1\" class=\"dataframe\">\n",
       "  <thead>\n",
       "    <tr style=\"text-align: right;\">\n",
       "      <th></th>\n",
       "      <th>imo</th>\n",
       "      <th>Sequence</th>\n",
       "      <th>VesselName</th>\n",
       "      <th>Effective_Date</th>\n",
       "      <th>year</th>\n",
       "      <th>month</th>\n",
       "    </tr>\n",
       "  </thead>\n",
       "  <tbody>\n",
       "    <tr>\n",
       "      <th>564778</th>\n",
       "      <td>9985021</td>\n",
       "      <td>0</td>\n",
       "      <td>VENTO DI MAESTRALE</td>\n",
       "      <td>202403</td>\n",
       "      <td>2024</td>\n",
       "      <td>03</td>\n",
       "    </tr>\n",
       "    <tr>\n",
       "      <th>564779</th>\n",
       "      <td>9985021</td>\n",
       "      <td>95</td>\n",
       "      <td>Kalliroe C</td>\n",
       "      <td>202401</td>\n",
       "      <td>2024</td>\n",
       "      <td>01</td>\n",
       "    </tr>\n",
       "    <tr>\n",
       "      <th>560740</th>\n",
       "      <td>9950064</td>\n",
       "      <td>0</td>\n",
       "      <td>VENTO DI BORA</td>\n",
       "      <td>202303</td>\n",
       "      <td>2023</td>\n",
       "      <td>03</td>\n",
       "    </tr>\n",
       "    <tr>\n",
       "      <th>560741</th>\n",
       "      <td>9950064</td>\n",
       "      <td>95</td>\n",
       "      <td>Cape Ben</td>\n",
       "      <td>202302</td>\n",
       "      <td>2023</td>\n",
       "      <td>02</td>\n",
       "    </tr>\n",
       "    <tr>\n",
       "      <th>557955</th>\n",
       "      <td>9924340</td>\n",
       "      <td>0</td>\n",
       "      <td>ALPHA HELIOS</td>\n",
       "      <td>202107</td>\n",
       "      <td>2021</td>\n",
       "      <td>07</td>\n",
       "    </tr>\n",
       "  </tbody>\n",
       "</table>\n",
       "</div>"
      ],
      "text/plain": [
       "            imo  Sequence          VesselName  Effective_Date  year month\n",
       "564778  9985021         0  VENTO DI MAESTRALE          202403  2024    03\n",
       "564779  9985021        95          Kalliroe C          202401  2024    01\n",
       "560740  9950064         0       VENTO DI BORA          202303  2023    03\n",
       "560741  9950064        95            Cape Ben          202302  2023    02\n",
       "557955  9924340         0        ALPHA HELIOS          202107  2021    07"
      ]
     },
     "execution_count": 50,
     "metadata": {},
     "output_type": "execute_result"
    }
   ],
   "source": [
    "ihs_name = pd.read_csv(ihs_basepath + \"tblNameHistory.CSV\").rename(columns={'LRNO':'imo'}).sort_values(['imo','Effective_Date'], ascending=False)\n",
    "ihs_name = ihs_name[ihs_name['imo'].isin(df_agg['imo'].dropna().unique())]\n",
    "\n",
    "ihs_name['year'] = ihs_name['Effective_Date'].astype('str').str[:4]\n",
    "ihs_name['month'] = ihs_name['Effective_Date'].astype('str').str[4:6]\n",
    "\n",
    "\n",
    "ihs_name.info()\n",
    "ihs_name.head()"
   ]
  },
  {
   "cell_type": "code",
   "execution_count": 51,
   "id": "f139fba3-6b79-4fff-8386-ef1f6b43f9d2",
   "metadata": {},
   "outputs": [
    {
     "data": {
      "text/plain": [
       "array(['2024', '2023', '2021', '2020', '2017', '2019', '2018', '2016',\n",
       "       '2022', '2015', '2012', '2013', '2011', '2010', '2009', '2008',\n",
       "       '2014', '2007', '2005', '2006', '2004', '2003', '2002', '2001',\n",
       "       '2000', '1999', '1998', '1997', '1996', '1995', '1994', '1993',\n",
       "       '1992', '1991', '1987', '1990', '1989', '1985', '1978', '1986',\n",
       "       '1988', '1984', '1983', '1982', '1981', '1980', '1979', '1977',\n",
       "       '1976', '1975', '1974', '1973', '1972', '1971', '1970', '1967',\n",
       "       '1966', '1965', '1960'], dtype=object)"
      ]
     },
     "execution_count": 51,
     "metadata": {},
     "output_type": "execute_result"
    },
    {
     "data": {
      "text/plain": [
       "array(['03', '01', '02', '07', '06', '05', '12', '08', '04', '09', '11',\n",
       "       '10', '00', '99'], dtype=object)"
      ]
     },
     "execution_count": 51,
     "metadata": {},
     "output_type": "execute_result"
    }
   ],
   "source": [
    "ihs_name.year.unique()\n",
    "ihs_name.month.unique()"
   ]
  },
  {
   "cell_type": "code",
   "execution_count": 52,
   "id": "22d2ba89-ec3d-430a-8f0d-8aef740961ce",
   "metadata": {},
   "outputs": [],
   "source": [
    "#create a datetime object from Effective Date. Assume first day of the month / year\n",
    "ihs_name['month'] = ihs_name.month.replace(\"00\",\"01\").replace(\"99\",\"01\")\n",
    "ihs_name['day'] =\"01\"\n",
    "ihs_name['date'] = pd.to_datetime(ihs_name['year'] + ihs_name['month'] + ihs_name['day'])\n",
    "\n",
    "ihs_name.sort_values(['imo','Sequence'], ascending=False, inplace=True, ignore_index=True)\n",
    "ihs_name['next_date'] = ihs_name.groupby('imo').date.shift(-1).fillna(pd.to_datetime(\"20221231\"))"
   ]
  },
  {
   "cell_type": "code",
   "execution_count": 53,
   "id": "4cc28593-c655-40f9-ac21-9d6940772c6f",
   "metadata": {},
   "outputs": [],
   "source": [
    "ihs_name.drop_duplicates(subset=['imo','date'], keep='last', inplace=True)"
   ]
  },
  {
   "cell_type": "code",
   "execution_count": 54,
   "id": "b8b186d3-6f9a-48df-b725-edb9ef5ac0f1",
   "metadata": {},
   "outputs": [
    {
     "name": "stdout",
     "output_type": "stream",
     "text": [
      "<class 'pandas.core.frame.DataFrame'>\n",
      "Int64Index: 1772 entries, 0 to 1812\n",
      "Data columns (total 9 columns):\n",
      " #   Column          Non-Null Count  Dtype         \n",
      "---  ------          --------------  -----         \n",
      " 0   imo             1772 non-null   int64         \n",
      " 1   Sequence        1772 non-null   int64         \n",
      " 2   VesselName      1772 non-null   object        \n",
      " 3   Effective_Date  1772 non-null   int64         \n",
      " 4   year            1772 non-null   object        \n",
      " 5   month           1772 non-null   object        \n",
      " 6   day             1772 non-null   object        \n",
      " 7   date            1772 non-null   datetime64[ns]\n",
      " 8   next_date       1772 non-null   datetime64[ns]\n",
      "dtypes: datetime64[ns](2), int64(3), object(4)\n",
      "memory usage: 138.4+ KB\n"
     ]
    },
    {
     "data": {
      "text/html": [
       "<div>\n",
       "<style scoped>\n",
       "    .dataframe tbody tr th:only-of-type {\n",
       "        vertical-align: middle;\n",
       "    }\n",
       "\n",
       "    .dataframe tbody tr th {\n",
       "        vertical-align: top;\n",
       "    }\n",
       "\n",
       "    .dataframe thead th {\n",
       "        text-align: right;\n",
       "    }\n",
       "</style>\n",
       "<table border=\"1\" class=\"dataframe\">\n",
       "  <thead>\n",
       "    <tr style=\"text-align: right;\">\n",
       "      <th></th>\n",
       "      <th>imo</th>\n",
       "      <th>Sequence</th>\n",
       "      <th>VesselName</th>\n",
       "      <th>Effective_Date</th>\n",
       "      <th>year</th>\n",
       "      <th>month</th>\n",
       "      <th>day</th>\n",
       "      <th>date</th>\n",
       "      <th>next_date</th>\n",
       "    </tr>\n",
       "  </thead>\n",
       "  <tbody>\n",
       "    <tr>\n",
       "      <th>0</th>\n",
       "      <td>9985021</td>\n",
       "      <td>95</td>\n",
       "      <td>Kalliroe C</td>\n",
       "      <td>202401</td>\n",
       "      <td>2024</td>\n",
       "      <td>01</td>\n",
       "      <td>01</td>\n",
       "      <td>2024-01-01</td>\n",
       "      <td>2024-03-01</td>\n",
       "    </tr>\n",
       "    <tr>\n",
       "      <th>1</th>\n",
       "      <td>9985021</td>\n",
       "      <td>0</td>\n",
       "      <td>VENTO DI MAESTRALE</td>\n",
       "      <td>202403</td>\n",
       "      <td>2024</td>\n",
       "      <td>03</td>\n",
       "      <td>01</td>\n",
       "      <td>2024-03-01</td>\n",
       "      <td>2022-12-31</td>\n",
       "    </tr>\n",
       "    <tr>\n",
       "      <th>2</th>\n",
       "      <td>9950064</td>\n",
       "      <td>95</td>\n",
       "      <td>Cape Ben</td>\n",
       "      <td>202302</td>\n",
       "      <td>2023</td>\n",
       "      <td>02</td>\n",
       "      <td>01</td>\n",
       "      <td>2023-02-01</td>\n",
       "      <td>2023-03-01</td>\n",
       "    </tr>\n",
       "    <tr>\n",
       "      <th>3</th>\n",
       "      <td>9950064</td>\n",
       "      <td>0</td>\n",
       "      <td>VENTO DI BORA</td>\n",
       "      <td>202303</td>\n",
       "      <td>2023</td>\n",
       "      <td>03</td>\n",
       "      <td>01</td>\n",
       "      <td>2023-03-01</td>\n",
       "      <td>2022-12-31</td>\n",
       "    </tr>\n",
       "    <tr>\n",
       "      <th>4</th>\n",
       "      <td>9924340</td>\n",
       "      <td>0</td>\n",
       "      <td>ALPHA HELIOS</td>\n",
       "      <td>202107</td>\n",
       "      <td>2021</td>\n",
       "      <td>07</td>\n",
       "      <td>01</td>\n",
       "      <td>2021-07-01</td>\n",
       "      <td>2022-12-31</td>\n",
       "    </tr>\n",
       "  </tbody>\n",
       "</table>\n",
       "</div>"
      ],
      "text/plain": [
       "       imo  Sequence          VesselName  Effective_Date  year month day  \\\n",
       "0  9985021        95          Kalliroe C          202401  2024    01  01   \n",
       "1  9985021         0  VENTO DI MAESTRALE          202403  2024    03  01   \n",
       "2  9950064        95            Cape Ben          202302  2023    02  01   \n",
       "3  9950064         0       VENTO DI BORA          202303  2023    03  01   \n",
       "4  9924340         0        ALPHA HELIOS          202107  2021    07  01   \n",
       "\n",
       "        date  next_date  \n",
       "0 2024-01-01 2024-03-01  \n",
       "1 2024-03-01 2022-12-31  \n",
       "2 2023-02-01 2023-03-01  \n",
       "3 2023-03-01 2022-12-31  \n",
       "4 2021-07-01 2022-12-31  "
      ]
     },
     "execution_count": 54,
     "metadata": {},
     "output_type": "execute_result"
    }
   ],
   "source": [
    " # index = ihs_name.groupby('imo')['VesselName'].agg(list).index\n",
    "# ihs_name = pd.DataFrame(ihs_name.groupby('imo')['VesselName'].agg(list).to_list(), index=index)\n",
    "ihs_name.info()\n",
    "ihs_name.head()"
   ]
  },
  {
   "cell_type": "markdown",
   "id": "6eb78e40-abed-47fd-b04a-f3ec470705cc",
   "metadata": {},
   "source": [
    "## Combine AIS and IHS\n"
   ]
  },
  {
   "cell_type": "code",
   "execution_count": 55,
   "id": "51d706c4-dbb7-4ea4-811b-6bb0842e585c",
   "metadata": {},
   "outputs": [
    {
     "name": "stdout",
     "output_type": "stream",
     "text": [
      "\n",
      "Aggregated routes: \n",
      "Unique MMSI: 393\n",
      "Unique IMO: 365\n",
      "Unique Vessel Name: 395\n",
      "Unique MMSI x IMO X Vessel Name: 411\n",
      "\n"
     ]
    }
   ],
   "source": [
    "#keep the date of the first route for each unique ship\n",
    "df_ships = df_agg.sort_values('date')[['date'] + ship_col] \\\n",
    "                .drop_duplicates(subset=ship_col,\n",
    "                                 keep='first')\n",
    "df_ships = df_ships.sort_values(ship_col, ignore_index=True).reset_index()\n",
    "\n",
    "print(f\"\"\"\n",
    "Aggregated routes: \n",
    "Unique MMSI: {df_ships['mmsi'].nunique()}\n",
    "Unique IMO: {df_ships['imo'].nunique()}\n",
    "Unique Vessel Name: {df_ships['vessel_name'].nunique()}\n",
    "Unique MMSI x IMO X Vessel Name: {df_ships[ship_col].shape[0]}\n",
    "\"\"\")"
   ]
  },
  {
   "cell_type": "code",
   "execution_count": 56,
   "id": "d78f1c1f-5861-4f21-bfab-b77610aa845d",
   "metadata": {},
   "outputs": [],
   "source": [
    " def attach_ExName_on_Effdate(df, ihs_name):\n",
    "    df2 = pd.merge_asof(df.sort_values(by=['date', 'ihs_imo']), \n",
    "              ihs_name[['imo','VesselName','date','next_date']].rename(columns={'imo':'ihs_imo',\n",
    "                                                                                'VesselName':'ExName_perdate',\n",
    "                                                                                'next_date':'ExName_eff_until_date'}).sort_values(by=['date','ihs_imo']),\n",
    "              on = 'date',\n",
    "              by = 'ihs_imo',\n",
    "              direction = 'backward'\n",
    "             )\n",
    "    return df2"
   ]
  },
  {
   "cell_type": "code",
   "execution_count": 57,
   "id": "12f9719c-f0eb-462c-9131-56311d853051",
   "metadata": {},
   "outputs": [],
   "source": [
    "part1 = df_ships.merge(ihs, on=['imo','mmsi'], how='inner').merge(ihs_statcode) \\\n",
    "        .assign(match_ihs=\"imo x mmsi\")\n",
    "\n",
    "part1['ihs_imo'] = part1['imo'].astype('int')\n",
    "part1 = attach_ExName_on_Effdate(part1, ihs_name)\n",
    "\n",
    "\n",
    "part2 = df_ships[~df_ships['index'].isin(part1['index'].tolist()) & (df_ships.imo != 0)] \\\n",
    "                 .merge(ihs.rename(columns={'mmsi':'ihs_mmsi'}), on=['imo'], how='inner').merge(ihs_statcode) \\\n",
    "                 .assign(match_ihs=\"imo\")\n",
    "part2['ihs_imo'] = part2['imo'].astype('int')\n",
    "part2 = attach_ExName_on_Effdate(part2, ihs_name)\n",
    "\n",
    "part3 = df_ships[~df_ships['index'].isin(part1['index'].tolist()  \\\n",
    "                                         + part2['index'].tolist())] \\\n",
    "                .merge(ihs.rename(columns={'imo':'ihs_imo'}), on=['mmsi'], how='inner').merge(ihs_statcode) \\\n",
    "                .assign(match_ihs=\"mmsi\")\n",
    "part3 = attach_ExName_on_Effdate(part3, ihs_name)\n",
    "\n",
    "\n",
    "part4 = df_ships[~df_ships['index'].isin(part1['index'].tolist() \\\n",
    "                                         + part2['index'].tolist() \\\n",
    "                                         + part3['index'].tolist())\n",
    "                ].assign(match_ihs=\"no match\")"
   ]
  },
  {
   "cell_type": "code",
   "execution_count": 58,
   "id": "de3cd924-f942-49e0-abfe-1614d97f5118",
   "metadata": {},
   "outputs": [
    {
     "data": {
      "text/plain": [
       "(411, 32)"
      ]
     },
     "execution_count": 58,
     "metadata": {},
     "output_type": "execute_result"
    },
    {
     "data": {
      "text/plain": [
       "(411, 5)"
      ]
     },
     "execution_count": 58,
     "metadata": {},
     "output_type": "execute_result"
    }
   ],
   "source": [
    "pd.concat([part1,part2,part3, part4], ignore_index=True).shape\n",
    "df_ships.shape"
   ]
  },
  {
   "cell_type": "code",
   "execution_count": 59,
   "id": "67a7ab46-5971-4bc3-8394-d28535c096cc",
   "metadata": {},
   "outputs": [],
   "source": [
    "#WARNING- REASSIGN VARIABLE\n",
    "df_ships = pd.concat([part1,part2,part3,part4], ignore_index=True)"
   ]
  },
  {
   "cell_type": "code",
   "execution_count": 60,
   "id": "4077ddde-319e-4a58-8cd6-571b0940781b",
   "metadata": {},
   "outputs": [
    {
     "data": {
      "text/plain": [
       "imo x mmsi    227\n",
       "imo           166\n",
       "no match       10\n",
       "mmsi            8\n",
       "Name: match_ihs, dtype: int64"
      ]
     },
     "execution_count": 60,
     "metadata": {},
     "output_type": "execute_result"
    },
    {
     "data": {
      "text/plain": [
       "411"
      ]
     },
     "execution_count": 60,
     "metadata": {},
     "output_type": "execute_result"
    }
   ],
   "source": [
    "df_ships.match_ihs.value_counts()\n",
    "df_ships.shape[0]"
   ]
  },
  {
   "cell_type": "code",
   "execution_count": 61,
   "id": "9df5c811-59b9-4813-8877-2153ba272bc6",
   "metadata": {},
   "outputs": [
    {
     "data": {
      "text/html": [
       "<div>\n",
       "<style scoped>\n",
       "    .dataframe tbody tr th:only-of-type {\n",
       "        vertical-align: middle;\n",
       "    }\n",
       "\n",
       "    .dataframe tbody tr th {\n",
       "        vertical-align: top;\n",
       "    }\n",
       "\n",
       "    .dataframe thead th {\n",
       "        text-align: right;\n",
       "    }\n",
       "</style>\n",
       "<table border=\"1\" class=\"dataframe\">\n",
       "  <thead>\n",
       "    <tr style=\"text-align: right;\">\n",
       "      <th></th>\n",
       "      <th>index</th>\n",
       "      <th>date</th>\n",
       "      <th>mmsi</th>\n",
       "      <th>imo</th>\n",
       "      <th>vessel_name</th>\n",
       "      <th>StatCode5</th>\n",
       "      <th>ShipName</th>\n",
       "      <th>ExName</th>\n",
       "      <th>GrossTonnage</th>\n",
       "      <th>Deadweight</th>\n",
       "      <th>LengthOverallLOA</th>\n",
       "      <th>LengthRegistered</th>\n",
       "      <th>TEU</th>\n",
       "      <th>BreadthExtreme</th>\n",
       "      <th>BreadthMoulded</th>\n",
       "      <th>Displacement</th>\n",
       "      <th>Draught</th>\n",
       "      <th>LightDisplacementTonnage</th>\n",
       "      <th>NetTonnage</th>\n",
       "      <th>ShiptypeLevel5</th>\n",
       "      <th>ShipTypeLevel4</th>\n",
       "      <th>ShipTypeLevel3</th>\n",
       "      <th>ShipTypeLevel2</th>\n",
       "      <th>ShiptypeLevel1</th>\n",
       "      <th>HullType</th>\n",
       "      <th>SubGroup</th>\n",
       "      <th>SubType</th>\n",
       "      <th>match_ihs</th>\n",
       "      <th>ihs_imo</th>\n",
       "      <th>ExName_perdate</th>\n",
       "      <th>ExName_eff_until_date</th>\n",
       "      <th>ihs_mmsi</th>\n",
       "    </tr>\n",
       "  </thead>\n",
       "  <tbody>\n",
       "    <tr>\n",
       "      <th>0</th>\n",
       "      <td>63</td>\n",
       "      <td>2019-01-05</td>\n",
       "      <td>271044398.0000000000</td>\n",
       "      <td>9106493.0000000000</td>\n",
       "      <td>MED DENIZLI</td>\n",
       "      <td>A33A2CC</td>\n",
       "      <td>MED DENIZLI</td>\n",
       "      <td>MSC Clementina</td>\n",
       "      <td>10925.0000000000</td>\n",
       "      <td>13623.0000000000</td>\n",
       "      <td>151.4800000000</td>\n",
       "      <td>142.2100000000</td>\n",
       "      <td>1055.0000000000</td>\n",
       "      <td>0.0000000000</td>\n",
       "      <td>24.0000000000</td>\n",
       "      <td>19405.0000000000</td>\n",
       "      <td>8.2500000000</td>\n",
       "      <td>5782.0000000000</td>\n",
       "      <td>5548.0000000000</td>\n",
       "      <td>Container Ship (Fully Cellular)</td>\n",
       "      <td>Container Ship</td>\n",
       "      <td>Container</td>\n",
       "      <td>Dry Cargo/Passenger</td>\n",
       "      <td>Cargo Carrying</td>\n",
       "      <td>Ship Shape Including Multi-Hulls</td>\n",
       "      <td>Cellular Container</td>\n",
       "      <td>Container Ship (Fully Cellular)</td>\n",
       "      <td>imo x mmsi</td>\n",
       "      <td>9106493.0000000000</td>\n",
       "      <td>MED DENIZLI</td>\n",
       "      <td>2022-12-31</td>\n",
       "      <td>NaN</td>\n",
       "    </tr>\n",
       "    <tr>\n",
       "      <th>1</th>\n",
       "      <td>88</td>\n",
       "      <td>2019-01-10</td>\n",
       "      <td>273413510.0000000000</td>\n",
       "      <td>8814354.0000000000</td>\n",
       "      <td>PIZHMA</td>\n",
       "      <td>A31A2GX</td>\n",
       "      <td>PIZHMA</td>\n",
       "      <td>MCL Trader</td>\n",
       "      <td>3466.0000000000</td>\n",
       "      <td>4236.0000000000</td>\n",
       "      <td>95.0000000000</td>\n",
       "      <td>0.0000000000</td>\n",
       "      <td>0.0000000000</td>\n",
       "      <td>15.9000000000</td>\n",
       "      <td>15.8000000000</td>\n",
       "      <td>6325.0000000000</td>\n",
       "      <td>6.3100000000</td>\n",
       "      <td>2089.0000000000</td>\n",
       "      <td>1365.0000000000</td>\n",
       "      <td>General Cargo Ship</td>\n",
       "      <td>General Cargo Ship</td>\n",
       "      <td>General Cargo</td>\n",
       "      <td>Dry Cargo/Passenger</td>\n",
       "      <td>Cargo Carrying</td>\n",
       "      <td>Ship Shape Including Multi-Hulls</td>\n",
       "      <td>General Cargo</td>\n",
       "      <td>General Cargo</td>\n",
       "      <td>imo x mmsi</td>\n",
       "      <td>8814354.0000000000</td>\n",
       "      <td>PIZHMA</td>\n",
       "      <td>2022-12-31</td>\n",
       "      <td>NaN</td>\n",
       "    </tr>\n",
       "  </tbody>\n",
       "</table>\n",
       "</div>"
      ],
      "text/plain": [
       "   index       date                 mmsi                imo  vessel_name  \\\n",
       "0     63 2019-01-05 271044398.0000000000 9106493.0000000000  MED DENIZLI   \n",
       "1     88 2019-01-10 273413510.0000000000 8814354.0000000000       PIZHMA   \n",
       "\n",
       "  StatCode5     ShipName          ExName     GrossTonnage       Deadweight  \\\n",
       "0   A33A2CC  MED DENIZLI  MSC Clementina 10925.0000000000 13623.0000000000   \n",
       "1   A31A2GX       PIZHMA      MCL Trader  3466.0000000000  4236.0000000000   \n",
       "\n",
       "   LengthOverallLOA  LengthRegistered             TEU  BreadthExtreme  \\\n",
       "0    151.4800000000    142.2100000000 1055.0000000000    0.0000000000   \n",
       "1     95.0000000000      0.0000000000    0.0000000000   15.9000000000   \n",
       "\n",
       "   BreadthMoulded     Displacement      Draught  LightDisplacementTonnage  \\\n",
       "0   24.0000000000 19405.0000000000 8.2500000000           5782.0000000000   \n",
       "1   15.8000000000  6325.0000000000 6.3100000000           2089.0000000000   \n",
       "\n",
       "       NetTonnage                   ShiptypeLevel5      ShipTypeLevel4  \\\n",
       "0 5548.0000000000  Container Ship (Fully Cellular)      Container Ship   \n",
       "1 1365.0000000000               General Cargo Ship  General Cargo Ship   \n",
       "\n",
       "  ShipTypeLevel3       ShipTypeLevel2  ShiptypeLevel1  \\\n",
       "0      Container  Dry Cargo/Passenger  Cargo Carrying   \n",
       "1  General Cargo  Dry Cargo/Passenger  Cargo Carrying   \n",
       "\n",
       "                           HullType            SubGroup  \\\n",
       "0  Ship Shape Including Multi-Hulls  Cellular Container   \n",
       "1  Ship Shape Including Multi-Hulls       General Cargo   \n",
       "\n",
       "                           SubType   match_ihs            ihs_imo  \\\n",
       "0  Container Ship (Fully Cellular)  imo x mmsi 9106493.0000000000   \n",
       "1                    General Cargo  imo x mmsi 8814354.0000000000   \n",
       "\n",
       "  ExName_perdate ExName_eff_until_date  ihs_mmsi  \n",
       "0    MED DENIZLI            2022-12-31       NaN  \n",
       "1         PIZHMA            2022-12-31       NaN  "
      ]
     },
     "execution_count": 61,
     "metadata": {},
     "output_type": "execute_result"
    }
   ],
   "source": [
    "# df_ships.info()\n",
    "df_ships.head(2)"
   ]
  },
  {
   "cell_type": "markdown",
   "id": "1f19480f-e975-4f7b-980c-e6498b2e8b6d",
   "metadata": {},
   "source": [
    "## Validate matches\n",
    "\n",
    "Validate matches by checking the vessel_name from AIS againt the ShipName / ExName from IHS"
   ]
  },
  {
   "cell_type": "markdown",
   "id": "0d0aa905-3f15-4989-b199-09c8751e98b7",
   "metadata": {},
   "source": [
    "We apply a string similarity metric based on the Levenshtein distance from the nltk python package. The metric computes for the minimum number of edits (insertion, deletion, substitution) needed to transform one string into another string. To standardize the metric, we divide by the metric by the length of the longer string. The strings compared are the vessel name from AIS and Ship Name (or ExName, or ExName per date) from the Ship Register. From visual inspection of the scores, we set score <= 0.5 as a match."
   ]
  },
  {
   "cell_type": "code",
   "execution_count": 62,
   "id": "5cf3d6e9-0b77-4ef7-aeef-d1b1aaf201de",
   "metadata": {},
   "outputs": [],
   "source": [
    "def clean_string(dfseries):\n",
    "    # return dfseries.str.replace(' +', '', regex=True).str.upper()\n",
    "    return dfseries.str.replace('[^a-zA-Z]', '', regex=True).str.upper()"
   ]
  },
  {
   "cell_type": "code",
   "execution_count": 63,
   "id": "2f0b36d8-f91e-4411-8baa-8baedca0b6f4",
   "metadata": {},
   "outputs": [
    {
     "data": {
      "text/plain": [
       "okay - match ship name     381\n",
       "okay - match imo x mmsi      7\n",
       "Name: fin_match, dtype: int64"
      ]
     },
     "execution_count": 63,
     "metadata": {},
     "output_type": "execute_result"
    },
    {
     "data": {
      "text/plain": [
       "23"
      ]
     },
     "execution_count": 63,
     "metadata": {},
     "output_type": "execute_result"
    }
   ],
   "source": [
    "#sure proper matches \n",
    "\n",
    "#same AIS vessel name and IHS Ship Name (or exname, or previous exname\n",
    "cond = (clean_string(df_ships['vessel_name']) != \"\") & \\\n",
    "        ((clean_string(df_ships['vessel_name']) == clean_string(df_ships['ShipName'])) | \\\n",
    "         (clean_string(df_ships['vessel_name']) == clean_string(df_ships['ExName'])) | \\\n",
    "         (clean_string(df_ships['vessel_name']) == clean_string(df_ships['ExName_perdate'])))\n",
    "\n",
    "df_ships.loc[cond,\"fin_match\"] = \"okay - match ship name\"\n",
    "\n",
    "#matched with imo & mmsi\n",
    "cond =  (df_ships['match_ihs']== \"imo x mmsi\") & \\\n",
    "        df_ships['fin_match'].isnull()\n",
    "df_ships.loc[cond,\"fin_match\"] = \"okay - match imo x mmsi\"\n",
    "\n",
    "df_ships['fin_match'].value_counts()\n",
    "df_ships['fin_match'].isnull().sum()"
   ]
  },
  {
   "cell_type": "code",
   "execution_count": 64,
   "id": "bebc5997-0211-4e67-99f7-4b034203517d",
   "metadata": {
    "tags": []
   },
   "outputs": [
    {
     "data": {
      "text/html": [
       "<div>\n",
       "<style scoped>\n",
       "    .dataframe tbody tr th:only-of-type {\n",
       "        vertical-align: middle;\n",
       "    }\n",
       "\n",
       "    .dataframe tbody tr th {\n",
       "        vertical-align: top;\n",
       "    }\n",
       "\n",
       "    .dataframe thead th {\n",
       "        text-align: right;\n",
       "    }\n",
       "</style>\n",
       "<table border=\"1\" class=\"dataframe\">\n",
       "  <thead>\n",
       "    <tr style=\"text-align: right;\">\n",
       "      <th></th>\n",
       "      <th>ihs_imo</th>\n",
       "      <th>vessel_name</th>\n",
       "      <th>ShipName</th>\n",
       "      <th>ExName</th>\n",
       "      <th>ExName_perdate</th>\n",
       "      <th>match_ihs</th>\n",
       "      <th>fin_match</th>\n",
       "    </tr>\n",
       "  </thead>\n",
       "  <tbody>\n",
       "    <tr>\n",
       "      <th>240</th>\n",
       "      <td>7528556.0</td>\n",
       "      <td>UNAVAILABLE</td>\n",
       "      <td>PRINCESS M</td>\n",
       "      <td>Princess Maria</td>\n",
       "      <td>Princess Maria</td>\n",
       "      <td>imo</td>\n",
       "      <td>NaN</td>\n",
       "    </tr>\n",
       "    <tr>\n",
       "      <th>284</th>\n",
       "      <td>8871003.0</td>\n",
       "      <td>M/T PAZAR</td>\n",
       "      <td>NIKSAR</td>\n",
       "      <td>Pazar</td>\n",
       "      <td>Pazar</td>\n",
       "      <td>imo</td>\n",
       "      <td>NaN</td>\n",
       "    </tr>\n",
       "    <tr>\n",
       "      <th>287</th>\n",
       "      <td>8204119.0</td>\n",
       "      <td>NARSIS</td>\n",
       "      <td>GAM EXPRESS</td>\n",
       "      <td>Agm Express</td>\n",
       "      <td>Haje Amira</td>\n",
       "      <td>imo</td>\n",
       "      <td>NaN</td>\n",
       "    </tr>\n",
       "    <tr>\n",
       "      <th>305</th>\n",
       "      <td>9155365.0</td>\n",
       "      <td>MV HANSA FLENSBURG</td>\n",
       "      <td>HANSA FLENSBURG</td>\n",
       "      <td>Melbourne Express</td>\n",
       "      <td>HANSA FLENSBURG</td>\n",
       "      <td>imo</td>\n",
       "      <td>NaN</td>\n",
       "    </tr>\n",
       "    <tr>\n",
       "      <th>322</th>\n",
       "      <td>8215754.0</td>\n",
       "      <td>NADALINA</td>\n",
       "      <td>EAST EXPRESS</td>\n",
       "      <td>Lady Abeer</td>\n",
       "      <td>Lady Abeer</td>\n",
       "      <td>imo</td>\n",
       "      <td>NaN</td>\n",
       "    </tr>\n",
       "    <tr>\n",
       "      <th>379</th>\n",
       "      <td>9460253.0</td>\n",
       "      <td>FLEET TRADER 2</td>\n",
       "      <td>MEUTIA BARUNA</td>\n",
       "      <td>Fleet Trader II</td>\n",
       "      <td>Fleet Trader II</td>\n",
       "      <td>imo</td>\n",
       "      <td>NaN</td>\n",
       "    </tr>\n",
       "    <tr>\n",
       "      <th>387</th>\n",
       "      <td>8915184.0</td>\n",
       "      <td>MUSTAFA K</td>\n",
       "      <td>SEA BREEZE</td>\n",
       "      <td>Thanh Son</td>\n",
       "      <td>SEA BREEZE</td>\n",
       "      <td>imo</td>\n",
       "      <td>NaN</td>\n",
       "    </tr>\n",
       "    <tr>\n",
       "      <th>389</th>\n",
       "      <td>5338892.0</td>\n",
       "      <td>CAPT.CHIDE</td>\n",
       "      <td>MICHELLE S</td>\n",
       "      <td>Starcrescent</td>\n",
       "      <td>MICHELLE S</td>\n",
       "      <td>imo</td>\n",
       "      <td>NaN</td>\n",
       "    </tr>\n",
       "    <tr>\n",
       "      <th>392</th>\n",
       "      <td>9055163.0</td>\n",
       "      <td>OCEAN 15</td>\n",
       "      <td>NADA</td>\n",
       "      <td>Ras Sedr</td>\n",
       "      <td>NADA</td>\n",
       "      <td>imo</td>\n",
       "      <td>NaN</td>\n",
       "    </tr>\n",
       "    <tr>\n",
       "      <th>393</th>\n",
       "      <td>4751047.0</td>\n",
       "      <td>RESCUE TUG SB-739</td>\n",
       "      <td>SPASATEL VASILY BEKH</td>\n",
       "      <td>SB-739</td>\n",
       "      <td>NaN</td>\n",
       "      <td>mmsi</td>\n",
       "      <td>NaN</td>\n",
       "    </tr>\n",
       "    <tr>\n",
       "      <th>394</th>\n",
       "      <td>4727747.0</td>\n",
       "      <td>SB PROF.NIKOLAY MURU</td>\n",
       "      <td>SB-738</td>\n",
       "      <td>NaN</td>\n",
       "      <td>NaN</td>\n",
       "      <td>mmsi</td>\n",
       "      <td>NaN</td>\n",
       "    </tr>\n",
       "    <tr>\n",
       "      <th>399</th>\n",
       "      <td>8003058.0</td>\n",
       "      <td>SHANGGAO</td>\n",
       "      <td>ITIDAL</td>\n",
       "      <td>Wakil Star</td>\n",
       "      <td>ITIDAL</td>\n",
       "      <td>mmsi</td>\n",
       "      <td>NaN</td>\n",
       "    </tr>\n",
       "    <tr>\n",
       "      <th>400</th>\n",
       "      <td>8918722.0</td>\n",
       "      <td>UNAVAILABLE</td>\n",
       "      <td>BOB</td>\n",
       "      <td>Princess Maysa</td>\n",
       "      <td>BOB</td>\n",
       "      <td>mmsi</td>\n",
       "      <td>NaN</td>\n",
       "    </tr>\n",
       "  </tbody>\n",
       "</table>\n",
       "</div>"
      ],
      "text/plain": [
       "      ihs_imo           vessel_name              ShipName             ExName  \\\n",
       "240 7528556.0           UNAVAILABLE            PRINCESS M     Princess Maria   \n",
       "284 8871003.0             M/T PAZAR                NIKSAR              Pazar   \n",
       "287 8204119.0                NARSIS           GAM EXPRESS        Agm Express   \n",
       "305 9155365.0    MV HANSA FLENSBURG       HANSA FLENSBURG  Melbourne Express   \n",
       "322 8215754.0              NADALINA          EAST EXPRESS         Lady Abeer   \n",
       "379 9460253.0        FLEET TRADER 2         MEUTIA BARUNA    Fleet Trader II   \n",
       "387 8915184.0             MUSTAFA K            SEA BREEZE          Thanh Son   \n",
       "389 5338892.0            CAPT.CHIDE            MICHELLE S       Starcrescent   \n",
       "392 9055163.0              OCEAN 15                  NADA           Ras Sedr   \n",
       "393 4751047.0     RESCUE TUG SB-739  SPASATEL VASILY BEKH             SB-739   \n",
       "394 4727747.0  SB PROF.NIKOLAY MURU                SB-738                NaN   \n",
       "399 8003058.0              SHANGGAO                ITIDAL         Wakil Star   \n",
       "400 8918722.0           UNAVAILABLE                   BOB     Princess Maysa   \n",
       "\n",
       "      ExName_perdate match_ihs fin_match  \n",
       "240   Princess Maria       imo       NaN  \n",
       "284            Pazar       imo       NaN  \n",
       "287       Haje Amira       imo       NaN  \n",
       "305  HANSA FLENSBURG       imo       NaN  \n",
       "322       Lady Abeer       imo       NaN  \n",
       "379  Fleet Trader II       imo       NaN  \n",
       "387       SEA BREEZE       imo       NaN  \n",
       "389       MICHELLE S       imo       NaN  \n",
       "392             NADA       imo       NaN  \n",
       "393              NaN      mmsi       NaN  \n",
       "394              NaN      mmsi       NaN  \n",
       "399           ITIDAL      mmsi       NaN  \n",
       "400              BOB      mmsi       NaN  "
      ]
     },
     "execution_count": 64,
     "metadata": {},
     "output_type": "execute_result"
    }
   ],
   "source": [
    "#not validated match for  check comparison of vessel name with IHS names using fuzzy match\n",
    "pd.options.display.float_format = '{:}'.format\n",
    "\n",
    "df_ships[df_ships['fin_match'].isnull() & (df_ships['match_ihs']!= \"no match\") ] \\\n",
    "        [['ihs_imo','vessel_name','ShipName','ExName','ExName_perdate','match_ihs','fin_match']] \\\n",
    "        .drop_duplicates()"
   ]
  },
  {
   "cell_type": "code",
   "execution_count": 65,
   "id": "b6e88ba2-16a2-4d44-89af-73a205299f93",
   "metadata": {},
   "outputs": [],
   "source": [
    "#compute string match score\n",
    "#levenshtein distance between two strings / length of longer string \n",
    "#levenshtein distance is minimum number of character edits (insert, delete, substitute) to change one string to another\n",
    "df_ships['lev_ShipName'] = df_ships[['vessel_name','ShipName']].fillna(\"_\").apply(lambda x: nltk.edit_distance(*x) / max(len(x[0]),len(x[1])), axis=1)\n",
    "\n",
    "df_ships['lev_ExName'] = df_ships[['vessel_name','ExName']].fillna(\"_\").apply(lambda x: nltk.edit_distance(x[0], x[1].upper()) / max(len(x[0]),len(x[1])), axis=1)\n",
    "df_ships['lev_ExName_perdate'] = df_ships[['vessel_name','ExName_perdate']].fillna(\"_\").apply(lambda x: nltk.edit_distance(x[0], x[1].upper()) / max(len(x[0]),len(x[1])), axis=1)"
   ]
  },
  {
   "cell_type": "code",
   "execution_count": 66,
   "id": "73426a55-1e08-4edd-81d0-73a31d45c1f5",
   "metadata": {},
   "outputs": [
    {
     "data": {
      "text/plain": [
       "count                  13.0\n",
       "mean     0.8349705849705849\n",
       "std     0.21670317536867284\n",
       "min     0.16666666666666666\n",
       "25%                    0.85\n",
       "50%                   0.875\n",
       "75%      0.9166666666666666\n",
       "max                     1.0\n",
       "Name: lev_ShipName, dtype: float64"
      ]
     },
     "execution_count": 66,
     "metadata": {},
     "output_type": "execute_result"
    }
   ],
   "source": [
    "df_ships[df_ships['fin_match'].isnull() & (df_ships['match_ihs']!= \"no match\")][\"lev_ShipName\"].describe() "
   ]
  },
  {
   "cell_type": "code",
   "execution_count": 67,
   "id": "d6facc81-e9c5-4e20-b0a0-31286da69223",
   "metadata": {},
   "outputs": [
    {
     "data": {
      "text/html": [
       "<div>\n",
       "<style scoped>\n",
       "    .dataframe tbody tr th:only-of-type {\n",
       "        vertical-align: middle;\n",
       "    }\n",
       "\n",
       "    .dataframe tbody tr th {\n",
       "        vertical-align: top;\n",
       "    }\n",
       "\n",
       "    .dataframe thead th {\n",
       "        text-align: right;\n",
       "    }\n",
       "</style>\n",
       "<table border=\"1\" class=\"dataframe\">\n",
       "  <thead>\n",
       "    <tr style=\"text-align: right;\">\n",
       "      <th></th>\n",
       "      <th>ihs_imo</th>\n",
       "      <th>vessel_name</th>\n",
       "      <th>ShipName</th>\n",
       "      <th>ExName</th>\n",
       "      <th>ExName_perdate</th>\n",
       "      <th>match_ihs</th>\n",
       "      <th>fin_match</th>\n",
       "      <th>lev_ShipName</th>\n",
       "    </tr>\n",
       "  </thead>\n",
       "  <tbody>\n",
       "  </tbody>\n",
       "</table>\n",
       "</div>"
      ],
      "text/plain": [
       "Empty DataFrame\n",
       "Columns: [ihs_imo, vessel_name, ShipName, ExName, ExName_perdate, match_ihs, fin_match, lev_ShipName]\n",
       "Index: []"
      ]
     },
     "execution_count": 67,
     "metadata": {},
     "output_type": "execute_result"
    }
   ],
   "source": [
    "#check appropriate maximum score, should be low\n",
    "max_score = 0.5\n",
    "df_ships[df_ships['fin_match'].isnull() & (df_ships['match_ihs']!= \"no match\")  & (df_ships['lev_ShipName'] > max_score - 0.1) & (df_ships['lev_ShipName'] <= max_score)] \\\n",
    "        [['ihs_imo','vessel_name','ShipName','ExName','ExName_perdate','match_ihs','fin_match', 'lev_ShipName']] \\\n",
    "        .drop_duplicates()"
   ]
  },
  {
   "cell_type": "code",
   "execution_count": 68,
   "id": "f3f4612d-e708-483c-bc5f-0e1badec5b94",
   "metadata": {},
   "outputs": [
    {
     "data": {
      "text/plain": [
       "okay - match ship name          381\n",
       "okay - match imo x mmsi           7\n",
       "okay - fuzzy match ship name      3\n",
       "Name: fin_match, dtype: int64"
      ]
     },
     "execution_count": 68,
     "metadata": {},
     "output_type": "execute_result"
    },
    {
     "data": {
      "text/plain": [
       "20"
      ]
     },
     "execution_count": 68,
     "metadata": {},
     "output_type": "execute_result"
    }
   ],
   "source": [
    "cond = (df_ships['lev_ShipName'] <= 0.5) & df_ships['fin_match'].isnull() & (df_ships['match_ihs']!= \"no match\")\n",
    "df_ships.loc[cond,\"fin_match\"] = \"okay - fuzzy match ship name\"\n",
    "\n",
    "cond = (df_ships['lev_ExName'] <= 0.5) & df_ships['fin_match'].isnull() & (df_ships['match_ihs']!= \"no match\")\n",
    "df_ships.loc[cond,\"fin_match\"] = \"okay - fuzzy match ship name\"\n",
    "\n",
    "cond = (df_ships['lev_ExName_perdate'] <= 0.5) & df_ships['fin_match'].isnull() & (df_ships['match_ihs']!= \"no match\")\n",
    "df_ships.loc[cond,\"fin_match\"] = \"okay - fuzzy match ship name\"\n",
    "\n",
    "df_ships['fin_match'].value_counts()\n",
    "df_ships['fin_match'].isnull().sum()"
   ]
  },
  {
   "cell_type": "code",
   "execution_count": 69,
   "id": "40e75354-2277-42b2-bf4e-015c4d61226c",
   "metadata": {
    "tags": []
   },
   "outputs": [
    {
     "data": {
      "text/html": [
       "<div>\n",
       "<style scoped>\n",
       "    .dataframe tbody tr th:only-of-type {\n",
       "        vertical-align: middle;\n",
       "    }\n",
       "\n",
       "    .dataframe tbody tr th {\n",
       "        vertical-align: top;\n",
       "    }\n",
       "\n",
       "    .dataframe thead th {\n",
       "        text-align: right;\n",
       "    }\n",
       "</style>\n",
       "<table border=\"1\" class=\"dataframe\">\n",
       "  <thead>\n",
       "    <tr style=\"text-align: right;\">\n",
       "      <th></th>\n",
       "      <th>ihs_imo</th>\n",
       "      <th>vessel_name</th>\n",
       "      <th>ShipName</th>\n",
       "      <th>ExName</th>\n",
       "      <th>ExName_perdate</th>\n",
       "      <th>match_ihs</th>\n",
       "      <th>fin_match</th>\n",
       "      <th>lev_ShipName</th>\n",
       "      <th>lev_ExName</th>\n",
       "    </tr>\n",
       "  </thead>\n",
       "  <tbody>\n",
       "    <tr>\n",
       "      <th>284</th>\n",
       "      <td>8871003.0</td>\n",
       "      <td>M/T PAZAR</td>\n",
       "      <td>NIKSAR</td>\n",
       "      <td>Pazar</td>\n",
       "      <td>Pazar</td>\n",
       "      <td>imo</td>\n",
       "      <td>okay - fuzzy match ship name</td>\n",
       "      <td>0.7777777777777778</td>\n",
       "      <td>0.4444444444444444</td>\n",
       "    </tr>\n",
       "    <tr>\n",
       "      <th>305</th>\n",
       "      <td>9155365.0</td>\n",
       "      <td>MV HANSA FLENSBURG</td>\n",
       "      <td>HANSA FLENSBURG</td>\n",
       "      <td>Melbourne Express</td>\n",
       "      <td>HANSA FLENSBURG</td>\n",
       "      <td>imo</td>\n",
       "      <td>okay - fuzzy match ship name</td>\n",
       "      <td>0.16666666666666666</td>\n",
       "      <td>0.8888888888888888</td>\n",
       "    </tr>\n",
       "    <tr>\n",
       "      <th>379</th>\n",
       "      <td>9460253.0</td>\n",
       "      <td>FLEET TRADER 2</td>\n",
       "      <td>MEUTIA BARUNA</td>\n",
       "      <td>Fleet Trader II</td>\n",
       "      <td>Fleet Trader II</td>\n",
       "      <td>imo</td>\n",
       "      <td>okay - fuzzy match ship name</td>\n",
       "      <td>0.8571428571428571</td>\n",
       "      <td>0.13333333333333333</td>\n",
       "    </tr>\n",
       "  </tbody>\n",
       "</table>\n",
       "</div>"
      ],
      "text/plain": [
       "      ihs_imo         vessel_name         ShipName             ExName  \\\n",
       "284 8871003.0           M/T PAZAR           NIKSAR              Pazar   \n",
       "305 9155365.0  MV HANSA FLENSBURG  HANSA FLENSBURG  Melbourne Express   \n",
       "379 9460253.0      FLEET TRADER 2    MEUTIA BARUNA    Fleet Trader II   \n",
       "\n",
       "      ExName_perdate match_ihs                     fin_match  \\\n",
       "284            Pazar       imo  okay - fuzzy match ship name   \n",
       "305  HANSA FLENSBURG       imo  okay - fuzzy match ship name   \n",
       "379  Fleet Trader II       imo  okay - fuzzy match ship name   \n",
       "\n",
       "           lev_ShipName          lev_ExName  \n",
       "284  0.7777777777777778  0.4444444444444444  \n",
       "305 0.16666666666666666  0.8888888888888888  \n",
       "379  0.8571428571428571 0.13333333333333333  "
      ]
     },
     "execution_count": 69,
     "metadata": {},
     "output_type": "execute_result"
    }
   ],
   "source": [
    "pd.options.display.float_format = '{:}'.format\n",
    "\n",
    "df_ships[(df_ships['fin_match']==\"okay - fuzzy match ship name\")] \\\n",
    "        [['ihs_imo','vessel_name','ShipName','ExName','ExName_perdate','match_ihs','fin_match', 'lev_ShipName','lev_ExName']] \\\n",
    "        .drop_duplicates()"
   ]
  },
  {
   "cell_type": "code",
   "execution_count": 70,
   "id": "6447e657-fcca-4972-a7cd-2cd2b16c0db3",
   "metadata": {
    "tags": []
   },
   "outputs": [
    {
     "data": {
      "text/html": [
       "<div>\n",
       "<style scoped>\n",
       "    .dataframe tbody tr th:only-of-type {\n",
       "        vertical-align: middle;\n",
       "    }\n",
       "\n",
       "    .dataframe tbody tr th {\n",
       "        vertical-align: top;\n",
       "    }\n",
       "\n",
       "    .dataframe thead th {\n",
       "        text-align: right;\n",
       "    }\n",
       "</style>\n",
       "<table border=\"1\" class=\"dataframe\">\n",
       "  <thead>\n",
       "    <tr style=\"text-align: right;\">\n",
       "      <th></th>\n",
       "      <th>ihs_imo</th>\n",
       "      <th>vessel_name</th>\n",
       "      <th>ShipName</th>\n",
       "      <th>ExName</th>\n",
       "      <th>ExName_perdate</th>\n",
       "      <th>match_ihs</th>\n",
       "      <th>fin_match</th>\n",
       "      <th>lev_ShipName</th>\n",
       "      <th>lev_ExName</th>\n",
       "      <th>lev_ExName_perdate</th>\n",
       "    </tr>\n",
       "  </thead>\n",
       "  <tbody>\n",
       "    <tr>\n",
       "      <th>240</th>\n",
       "      <td>7528556.0</td>\n",
       "      <td>UNAVAILABLE</td>\n",
       "      <td>PRINCESS M</td>\n",
       "      <td>Princess Maria</td>\n",
       "      <td>Princess Maria</td>\n",
       "      <td>imo</td>\n",
       "      <td>NaN</td>\n",
       "      <td>1.0</td>\n",
       "      <td>0.8571428571428571</td>\n",
       "      <td>0.8571428571428571</td>\n",
       "    </tr>\n",
       "    <tr>\n",
       "      <th>287</th>\n",
       "      <td>8204119.0</td>\n",
       "      <td>NARSIS</td>\n",
       "      <td>GAM EXPRESS</td>\n",
       "      <td>Agm Express</td>\n",
       "      <td>Haje Amira</td>\n",
       "      <td>imo</td>\n",
       "      <td>NaN</td>\n",
       "      <td>0.7272727272727273</td>\n",
       "      <td>0.8181818181818182</td>\n",
       "      <td>0.8</td>\n",
       "    </tr>\n",
       "    <tr>\n",
       "      <th>322</th>\n",
       "      <td>8215754.0</td>\n",
       "      <td>NADALINA</td>\n",
       "      <td>EAST EXPRESS</td>\n",
       "      <td>Lady Abeer</td>\n",
       "      <td>Lady Abeer</td>\n",
       "      <td>imo</td>\n",
       "      <td>NaN</td>\n",
       "      <td>0.9166666666666666</td>\n",
       "      <td>0.7</td>\n",
       "      <td>0.7</td>\n",
       "    </tr>\n",
       "    <tr>\n",
       "      <th>387</th>\n",
       "      <td>8915184.0</td>\n",
       "      <td>MUSTAFA K</td>\n",
       "      <td>SEA BREEZE</td>\n",
       "      <td>Thanh Son</td>\n",
       "      <td>SEA BREEZE</td>\n",
       "      <td>imo</td>\n",
       "      <td>NaN</td>\n",
       "      <td>1.0</td>\n",
       "      <td>1.0</td>\n",
       "      <td>1.0</td>\n",
       "    </tr>\n",
       "    <tr>\n",
       "      <th>389</th>\n",
       "      <td>5338892.0</td>\n",
       "      <td>CAPT.CHIDE</td>\n",
       "      <td>MICHELLE S</td>\n",
       "      <td>Starcrescent</td>\n",
       "      <td>MICHELLE S</td>\n",
       "      <td>imo</td>\n",
       "      <td>NaN</td>\n",
       "      <td>1.0</td>\n",
       "      <td>0.9166666666666666</td>\n",
       "      <td>1.0</td>\n",
       "    </tr>\n",
       "    <tr>\n",
       "      <th>392</th>\n",
       "      <td>9055163.0</td>\n",
       "      <td>OCEAN 15</td>\n",
       "      <td>NADA</td>\n",
       "      <td>Ras Sedr</td>\n",
       "      <td>NADA</td>\n",
       "      <td>imo</td>\n",
       "      <td>NaN</td>\n",
       "      <td>0.875</td>\n",
       "      <td>1.0</td>\n",
       "      <td>0.875</td>\n",
       "    </tr>\n",
       "    <tr>\n",
       "      <th>393</th>\n",
       "      <td>4751047.0</td>\n",
       "      <td>RESCUE TUG SB-739</td>\n",
       "      <td>SPASATEL VASILY BEKH</td>\n",
       "      <td>SB-739</td>\n",
       "      <td>NaN</td>\n",
       "      <td>mmsi</td>\n",
       "      <td>NaN</td>\n",
       "      <td>0.85</td>\n",
       "      <td>0.6470588235294118</td>\n",
       "      <td>1.0</td>\n",
       "    </tr>\n",
       "    <tr>\n",
       "      <th>394</th>\n",
       "      <td>4727747.0</td>\n",
       "      <td>SB PROF.NIKOLAY MURU</td>\n",
       "      <td>SB-738</td>\n",
       "      <td>NaN</td>\n",
       "      <td>NaN</td>\n",
       "      <td>mmsi</td>\n",
       "      <td>NaN</td>\n",
       "      <td>0.9</td>\n",
       "      <td>1.0</td>\n",
       "      <td>1.0</td>\n",
       "    </tr>\n",
       "    <tr>\n",
       "      <th>399</th>\n",
       "      <td>8003058.0</td>\n",
       "      <td>SHANGGAO</td>\n",
       "      <td>ITIDAL</td>\n",
       "      <td>Wakil Star</td>\n",
       "      <td>ITIDAL</td>\n",
       "      <td>mmsi</td>\n",
       "      <td>NaN</td>\n",
       "      <td>0.875</td>\n",
       "      <td>0.9</td>\n",
       "      <td>0.875</td>\n",
       "    </tr>\n",
       "    <tr>\n",
       "      <th>400</th>\n",
       "      <td>8918722.0</td>\n",
       "      <td>UNAVAILABLE</td>\n",
       "      <td>BOB</td>\n",
       "      <td>Princess Maysa</td>\n",
       "      <td>BOB</td>\n",
       "      <td>mmsi</td>\n",
       "      <td>NaN</td>\n",
       "      <td>0.9090909090909091</td>\n",
       "      <td>0.8571428571428571</td>\n",
       "      <td>0.9090909090909091</td>\n",
       "    </tr>\n",
       "  </tbody>\n",
       "</table>\n",
       "</div>"
      ],
      "text/plain": [
       "      ihs_imo           vessel_name              ShipName          ExName  \\\n",
       "240 7528556.0           UNAVAILABLE            PRINCESS M  Princess Maria   \n",
       "287 8204119.0                NARSIS           GAM EXPRESS     Agm Express   \n",
       "322 8215754.0              NADALINA          EAST EXPRESS      Lady Abeer   \n",
       "387 8915184.0             MUSTAFA K            SEA BREEZE       Thanh Son   \n",
       "389 5338892.0            CAPT.CHIDE            MICHELLE S    Starcrescent   \n",
       "392 9055163.0              OCEAN 15                  NADA        Ras Sedr   \n",
       "393 4751047.0     RESCUE TUG SB-739  SPASATEL VASILY BEKH          SB-739   \n",
       "394 4727747.0  SB PROF.NIKOLAY MURU                SB-738             NaN   \n",
       "399 8003058.0              SHANGGAO                ITIDAL      Wakil Star   \n",
       "400 8918722.0           UNAVAILABLE                   BOB  Princess Maysa   \n",
       "\n",
       "     ExName_perdate match_ihs fin_match       lev_ShipName         lev_ExName  \\\n",
       "240  Princess Maria       imo       NaN                1.0 0.8571428571428571   \n",
       "287      Haje Amira       imo       NaN 0.7272727272727273 0.8181818181818182   \n",
       "322      Lady Abeer       imo       NaN 0.9166666666666666                0.7   \n",
       "387      SEA BREEZE       imo       NaN                1.0                1.0   \n",
       "389      MICHELLE S       imo       NaN                1.0 0.9166666666666666   \n",
       "392            NADA       imo       NaN              0.875                1.0   \n",
       "393             NaN      mmsi       NaN               0.85 0.6470588235294118   \n",
       "394             NaN      mmsi       NaN                0.9                1.0   \n",
       "399          ITIDAL      mmsi       NaN              0.875                0.9   \n",
       "400             BOB      mmsi       NaN 0.9090909090909091 0.8571428571428571   \n",
       "\n",
       "     lev_ExName_perdate  \n",
       "240  0.8571428571428571  \n",
       "287                 0.8  \n",
       "322                 0.7  \n",
       "387                 1.0  \n",
       "389                 1.0  \n",
       "392               0.875  \n",
       "393                 1.0  \n",
       "394                 1.0  \n",
       "399               0.875  \n",
       "400  0.9090909090909091  "
      ]
     },
     "execution_count": 70,
     "metadata": {},
     "output_type": "execute_result"
    }
   ],
   "source": [
    "#keep as not validated match\n",
    "#we assume that the match with ship registry dataset is incorrect\n",
    "df_ships[df_ships.fin_match.isnull() & (df_ships.match_ihs != \"no match\")] \\\n",
    "[['ihs_imo','vessel_name','ShipName','ExName','ExName_perdate','match_ihs','fin_match','lev_ShipName','lev_ExName','lev_ExName_perdate']]"
   ]
  },
  {
   "cell_type": "code",
   "execution_count": 71,
   "id": "b396b90e-e129-4eb3-acca-55cd31c11dc2",
   "metadata": {},
   "outputs": [
    {
     "data": {
      "text/plain": [
       "imo x mmsi    227\n",
       "imo           166\n",
       "no match       10\n",
       "mmsi            8\n",
       "Name: match_ihs, dtype: int64"
      ]
     },
     "execution_count": 71,
     "metadata": {},
     "output_type": "execute_result"
    }
   ],
   "source": [
    "df_ships['match_ihs'].value_counts()"
   ]
  },
  {
   "cell_type": "code",
   "execution_count": 72,
   "id": "89b740a3-483a-4ddb-8e89-e9bfb482553f",
   "metadata": {},
   "outputs": [
    {
     "name": "stdout",
     "output_type": "stream",
     "text": [
      "\n",
      "Raw routes: 1,538\n",
      "Matched using imo - mmsi logic: 1,528\n",
      "Port calls (validated match with Ship Registry): 1,516\n",
      "\n"
     ]
    }
   ],
   "source": [
    "print(f\"\"\"\n",
    "Raw routes: {df_agg.shape[0]:,}\n",
    "Matched using imo - mmsi logic: {df_agg.merge(df_ships[df_ships.match_ihs!= \"no match\"].drop(columns=['index','date'])).shape[0]:,}\n",
    "Port calls (validated match with Ship Registry): {df_agg.merge(df_ships[~df_ships.fin_match.isnull()].drop(columns=['index','date'])).shape[0]:,}\n",
    "\"\"\")"
   ]
  },
  {
   "cell_type": "code",
   "execution_count": 73,
   "id": "e5861e3f-3459-486b-bfb2-bb257ebbf4a2",
   "metadata": {},
   "outputs": [],
   "source": [
    "port_calls = df_agg.merge(\n",
    "                df_ships[~df_ships.fin_match.isnull()].drop(columns=['date','index']),\n",
    "                on = ship_col,\n",
    "                how='inner')"
   ]
  },
  {
   "cell_type": "code",
   "execution_count": 74,
   "id": "523eeb94-cb0b-4a43-87b5-2111cbf9bcd7",
   "metadata": {},
   "outputs": [
    {
     "name": "stdout",
     "output_type": "stream",
     "text": [
      "Unique ships in port call: 391\n"
     ]
    }
   ],
   "source": [
    "print(f\"Unique ships in port call: {port_calls[ship_col].drop_duplicates().shape[0]}\")"
   ]
  },
  {
   "cell_type": "code",
   "execution_count": 75,
   "id": "65da5ae8-0c33-49a6-9d41-ed5c3dda444d",
   "metadata": {},
   "outputs": [
    {
     "data": {
      "text/plain": [
       "'s3a://ungp-ais-data-historical-backup/user_temp/worldbank/syria_port_calls/'"
      ]
     },
     "execution_count": 75,
     "metadata": {},
     "output_type": "execute_result"
    }
   ],
   "source": [
    "path_port_calls"
   ]
  },
  {
   "cell_type": "code",
   "execution_count": 76,
   "id": "4b70272e-bb74-425a-8409-781862615652",
   "metadata": {},
   "outputs": [],
   "source": [
    "port_calls.to_pickle(f\"{path_port_calls}port_calls_10142024.pkl\")"
   ]
  },
  {
   "cell_type": "code",
   "execution_count": 77,
   "id": "7dfb2389-b868-4f8e-81a4-03db6f0b645b",
   "metadata": {},
   "outputs": [
    {
     "data": {
      "text/plain": [
       "1516"
      ]
     },
     "execution_count": 77,
     "metadata": {},
     "output_type": "execute_result"
    }
   ],
   "source": [
    "len(port_calls)"
   ]
  },
  {
   "cell_type": "code",
   "execution_count": null,
   "id": "09b4424d-e85b-41f5-8257-ac6849c583c3",
   "metadata": {},
   "outputs": [],
   "source": []
  }
 ],
 "metadata": {
  "kernelspec": {
   "display_name": "pyspark3.5 ais2.9",
   "language": "python3",
   "name": "pyspark-ais-nosedona-202403"
  },
  "language_info": {
   "codemirror_mode": {
    "name": "ipython",
    "version": 3
   },
   "file_extension": ".py",
   "mimetype": "text/x-python",
   "name": "python",
   "nbconvert_exporter": "python",
   "pygments_lexer": "ipython3",
   "version": "3.10.10"
  },
  "toc-autonumbering": true
 },
 "nbformat": 4,
 "nbformat_minor": 5
}
