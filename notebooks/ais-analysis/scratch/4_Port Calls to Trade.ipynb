{
 "cells": [
  {
   "cell_type": "markdown",
   "metadata": {},
   "source": [
    "Notebook to convert AIS points into trade routes / journeys"
   ]
  },
  {
   "cell_type": "code",
   "execution_count": 1,
   "metadata": {},
   "outputs": [],
   "source": [
    "%load_ext autoreload\n",
    "%autoreload 2"
   ]
  },
  {
   "cell_type": "code",
   "execution_count": 287,
   "metadata": {},
   "outputs": [],
   "source": [
    "import os\n",
    "from os.path import join\n",
    "from glob import glob\n",
    "import pandas as pd\n",
    "import geopandas as gpd\n",
    "import folium\n",
    "from shapely.geometry import Point\n",
    "import folium.plugins as plugins\n",
    "import seaborn as sns\n",
    "from matplotlib import pyplot as plt\n",
    "\n",
    "import numpy as np\n",
    "import datetime\n",
    "from datetime import timedelta\n",
    "from port_call import create_port_calls\n",
    "import boto3"
   ]
  },
  {
   "cell_type": "code",
   "execution_count": 3,
   "metadata": {},
   "outputs": [],
   "source": [
    "pd.options.display.max_columns = None"
   ]
  },
  {
   "cell_type": "code",
   "execution_count": 4,
   "metadata": {},
   "outputs": [],
   "source": [
    "ais_dir = join(os.path.expanduser(\"~\"), 'data', 'AIS')\n",
    "data_dir = join(ais_dir, 'Syria')"
   ]
  },
  {
   "cell_type": "code",
   "execution_count": 5,
   "metadata": {},
   "outputs": [],
   "source": [
    "data_files = glob(data_dir+\"/*.csv\")"
   ]
  },
  {
   "cell_type": "code",
   "execution_count": 6,
   "metadata": {},
   "outputs": [],
   "source": [
    "dfs = [pd.read_csv(f, index_col=0) for f in data_files]"
   ]
  },
  {
   "cell_type": "code",
   "execution_count": 7,
   "metadata": {},
   "outputs": [],
   "source": [
    "df = pd.concat(dfs)"
   ]
  },
  {
   "cell_type": "code",
   "execution_count": 8,
   "metadata": {},
   "outputs": [
    {
     "data": {
      "text/plain": [
       "array(['AL LADHIQIYAH', 'TARTUS', 'BANIYAS'], dtype=object)"
      ]
     },
     "execution_count": 8,
     "metadata": {},
     "output_type": "execute_result"
    }
   ],
   "source": [
    "df.polygon_name.unique()"
   ]
  },
  {
   "cell_type": "code",
   "execution_count": 9,
   "metadata": {},
   "outputs": [],
   "source": [
    "df_latakia = df.loc[df.polygon_name==\"AL LADHIQIYAH\"].copy()\n",
    "df_tartus = df.loc[df.polygon_name==\"TARTUS\"].copy()\n",
    "df_baniyas = df.loc[df.polygon_name==\"BANIYAS\"].copy()"
   ]
  },
  {
   "cell_type": "code",
   "execution_count": 10,
   "metadata": {},
   "outputs": [],
   "source": [
    "start = '2018-12-01'\n",
    "end = '2022-08-31'\n",
    "country = \"Syria\""
   ]
  },
  {
   "cell_type": "markdown",
   "metadata": {},
   "source": [
    "#### 1.2 Data Prep"
   ]
  },
  {
   "cell_type": "markdown",
   "metadata": {},
   "source": [
    "Run port call algorithm"
   ]
  },
  {
   "cell_type": "code",
   "execution_count": 11,
   "metadata": {
    "scrolled": true
   },
   "outputs": [],
   "source": [
    "trips = create_port_calls(df_latakia, start, end, \"Latakia\", \"Syria\")"
   ]
  },
  {
   "cell_type": "code",
   "execution_count": 12,
   "metadata": {},
   "outputs": [
    {
     "data": {
      "text/plain": [
       "793"
      ]
     },
     "execution_count": 12,
     "metadata": {},
     "output_type": "execute_result"
    }
   ],
   "source": [
    "len(trips)"
   ]
  },
  {
   "cell_type": "code",
   "execution_count": 13,
   "metadata": {},
   "outputs": [],
   "source": [
    "trips.loc[(trips.turn_around_time < 10) & (trips['heading-diff'].abs()<45), \"passing2\"] = \"passing by\"\n",
    "trips.loc[trips.turn_around_time<5, \"passing2\"] = \"maintenance\""
   ]
  },
  {
   "cell_type": "code",
   "execution_count": 14,
   "metadata": {},
   "outputs": [
    {
     "data": {
      "text/plain": [
       "passing by     70\n",
       "maintenance    48\n",
       "Name: passing2, dtype: int64"
      ]
     },
     "execution_count": 14,
     "metadata": {},
     "output_type": "execute_result"
    }
   ],
   "source": [
    "trips.passing2.value_counts()"
   ]
  },
  {
   "cell_type": "code",
   "execution_count": 51,
   "metadata": {},
   "outputs": [],
   "source": [
    "data = trips.loc[trips.passing2.isna()].copy()"
   ]
  },
  {
   "cell_type": "code",
   "execution_count": 52,
   "metadata": {},
   "outputs": [
    {
     "data": {
      "text/plain": [
       "675"
      ]
     },
     "execution_count": 52,
     "metadata": {},
     "output_type": "execute_result"
    }
   ],
   "source": [
    "len(data)"
   ]
  },
  {
   "cell_type": "code",
   "execution_count": 53,
   "metadata": {},
   "outputs": [
    {
     "data": {
      "text/plain": [
       "array(['Cargo', 'UNAVAILABLE', 'Passenger', 'Unknown', 'Reserved'],\n",
       "      dtype=object)"
      ]
     },
     "execution_count": 53,
     "metadata": {},
     "output_type": "execute_result"
    }
   ],
   "source": [
    "data.vessel_type.unique()"
   ]
  },
  {
   "cell_type": "code",
   "execution_count": 54,
   "metadata": {},
   "outputs": [
    {
     "data": {
      "text/plain": [
       "array(['Container Ship', 'General Cargo Ship', nan,\n",
       "       'Oil And Chemical Tanker', 'Bulk Carrier', 'Ro Ro Cargo Ship',\n",
       "       'Specialized Cargo Ship', 'Other', 'Offshore Vessel'], dtype=object)"
      ]
     },
     "execution_count": 54,
     "metadata": {},
     "output_type": "execute_result"
    }
   ],
   "source": [
    "data.vessel_type_main.unique()"
   ]
  },
  {
   "cell_type": "code",
   "execution_count": 55,
   "metadata": {},
   "outputs": [
    {
     "data": {
      "text/plain": [
       "array([nan], dtype=object)"
      ]
     },
     "execution_count": 55,
     "metadata": {},
     "output_type": "execute_result"
    }
   ],
   "source": [
    "data.loc[data.vessel_type==\"Reserved\", \"vessel_type_main\"].unique()"
   ]
  },
  {
   "cell_type": "code",
   "execution_count": 56,
   "metadata": {},
   "outputs": [],
   "source": [
    "drop_types = [\"Reserved\", \"Passenger\"]\n",
    "data = data.loc[~(data.vessel_type.isin(drop_types))].copy()"
   ]
  },
  {
   "cell_type": "code",
   "execution_count": 57,
   "metadata": {},
   "outputs": [
    {
     "data": {
      "text/plain": [
       "667"
      ]
     },
     "execution_count": 57,
     "metadata": {},
     "output_type": "execute_result"
    }
   ],
   "source": [
    "len(data)"
   ]
  },
  {
   "cell_type": "code",
   "execution_count": 58,
   "metadata": {},
   "outputs": [
    {
     "data": {
      "text/plain": [
       "array([nan, 'Oil Products Tanker', 'Vehicles Carrier',\n",
       "       'Livestock Carrier', 'Crewboat', 'Chemical Tanker',\n",
       "       'Offshore Tug Supply Ship'], dtype=object)"
      ]
     },
     "execution_count": 58,
     "metadata": {},
     "output_type": "execute_result"
    }
   ],
   "source": [
    "data.vessel_type_sub.unique()"
   ]
  },
  {
   "cell_type": "markdown",
   "metadata": {},
   "source": [
    "#### 1.3 Predict DWT"
   ]
  },
  {
   "cell_type": "code",
   "execution_count": 59,
   "metadata": {},
   "outputs": [],
   "source": [
    "data.loc[:, \"mmsi\"] = data.loc[:, \"mmsi\"].astype('int')"
   ]
  },
  {
   "cell_type": "code",
   "execution_count": 60,
   "metadata": {},
   "outputs": [],
   "source": [
    "vessels = pd.read_excel(join(ais_dir, \"Pacific_vessel_database_2021_new.xlsx\"), 0)"
   ]
  },
  {
   "cell_type": "code",
   "execution_count": 61,
   "metadata": {
    "scrolled": true
   },
   "outputs": [
    {
     "data": {
      "text/html": [
       "<div>\n",
       "<style scoped>\n",
       "    .dataframe tbody tr th:only-of-type {\n",
       "        vertical-align: middle;\n",
       "    }\n",
       "\n",
       "    .dataframe tbody tr th {\n",
       "        vertical-align: top;\n",
       "    }\n",
       "\n",
       "    .dataframe thead th {\n",
       "        text-align: right;\n",
       "    }\n",
       "</style>\n",
       "<table border=\"1\" class=\"dataframe\">\n",
       "  <thead>\n",
       "    <tr style=\"text-align: right;\">\n",
       "      <th></th>\n",
       "      <th>imo</th>\n",
       "      <th>mmsi</th>\n",
       "      <th>vessel_type</th>\n",
       "      <th>sub_vessel_type</th>\n",
       "      <th>flag</th>\n",
       "      <th>dwt</th>\n",
       "      <th>gt</th>\n",
       "      <th>length</th>\n",
       "      <th>width</th>\n",
       "      <th>year_built</th>\n",
       "      <th>Draft</th>\n",
       "      <th>Engine_KW_Total</th>\n",
       "      <th>TEU</th>\n",
       "      <th>TEU14</th>\n",
       "    </tr>\n",
       "  </thead>\n",
       "  <tbody>\n",
       "    <tr>\n",
       "      <th>0</th>\n",
       "      <td>9572496</td>\n",
       "      <td>209483000.0</td>\n",
       "      <td>cargo</td>\n",
       "      <td>Anchor handling supply tug</td>\n",
       "      <td>Cyprus</td>\n",
       "      <td>840.0</td>\n",
       "      <td>1290.0</td>\n",
       "      <td>53.0</td>\n",
       "      <td>14.0</td>\n",
       "      <td>2011.0</td>\n",
       "      <td>4.8</td>\n",
       "      <td>6120.0</td>\n",
       "      <td>NaN</td>\n",
       "      <td>0</td>\n",
       "    </tr>\n",
       "    <tr>\n",
       "      <th>1</th>\n",
       "      <td>9388962</td>\n",
       "      <td>257322000.0</td>\n",
       "      <td>cargo</td>\n",
       "      <td>Anchor handling supply tug</td>\n",
       "      <td>Norway</td>\n",
       "      <td>2350.0</td>\n",
       "      <td>3070.0</td>\n",
       "      <td>78.0</td>\n",
       "      <td>17.0</td>\n",
       "      <td>2008.0</td>\n",
       "      <td>7.0</td>\n",
       "      <td>10812.0</td>\n",
       "      <td>NaN</td>\n",
       "      <td>0</td>\n",
       "    </tr>\n",
       "  </tbody>\n",
       "</table>\n",
       "</div>"
      ],
      "text/plain": [
       "       imo         mmsi vessel_type             sub_vessel_type    flag  \\\n",
       "0  9572496  209483000.0       cargo  Anchor handling supply tug  Cyprus   \n",
       "1  9388962  257322000.0       cargo  Anchor handling supply tug  Norway   \n",
       "\n",
       "      dwt      gt  length  width  year_built  Draft  Engine_KW_Total  TEU  \\\n",
       "0   840.0  1290.0    53.0   14.0      2011.0    4.8           6120.0  NaN   \n",
       "1  2350.0  3070.0    78.0   17.0      2008.0    7.0          10812.0  NaN   \n",
       "\n",
       "   TEU14  \n",
       "0      0  \n",
       "1      0  "
      ]
     },
     "execution_count": 61,
     "metadata": {},
     "output_type": "execute_result"
    }
   ],
   "source": [
    "vessels.head(2)"
   ]
  },
  {
   "cell_type": "code",
   "execution_count": 62,
   "metadata": {},
   "outputs": [],
   "source": [
    "vessels = vessels.loc[~(vessels.mmsi.isna())].copy()"
   ]
  },
  {
   "cell_type": "code",
   "execution_count": 63,
   "metadata": {},
   "outputs": [],
   "source": [
    "vessels.loc[:, \"mmsi\"] = vessels.loc[:, \"mmsi\"].astype('int')"
   ]
  },
  {
   "cell_type": "code",
   "execution_count": 80,
   "metadata": {},
   "outputs": [],
   "source": [
    "vessels_filt = vessels[['sub_vessel_type', 'vessel_type', 'mmsi', 'dwt', 'gt', 'length', 'width', 'Draft', 'flag']].copy()"
   ]
  },
  {
   "cell_type": "code",
   "execution_count": 81,
   "metadata": {},
   "outputs": [],
   "source": [
    "vessels_filt.loc[:, 'vessel_info'] = 1"
   ]
  },
  {
   "cell_type": "code",
   "execution_count": 82,
   "metadata": {},
   "outputs": [],
   "source": [
    "data_join = data.merge(vessels_filt, on='mmsi', how='left', suffixes=['_ais', '_vessel'])"
   ]
  },
  {
   "cell_type": "code",
   "execution_count": 83,
   "metadata": {},
   "outputs": [],
   "source": [
    "data_join.loc[data_join.vessel_info.isna(), \"vessel_info\"] = 0"
   ]
  },
  {
   "cell_type": "code",
   "execution_count": 84,
   "metadata": {},
   "outputs": [
    {
     "data": {
      "text/plain": [
       "1.0    538\n",
       "0.0    129\n",
       "Name: vessel_info, dtype: int64"
      ]
     },
     "execution_count": 84,
     "metadata": {},
     "output_type": "execute_result"
    }
   ],
   "source": [
    "data_join.vessel_info.value_counts()"
   ]
  },
  {
   "cell_type": "code",
   "execution_count": 86,
   "metadata": {},
   "outputs": [
    {
     "data": {
      "text/plain": [
       "array(['cargo', nan], dtype=object)"
      ]
     },
     "execution_count": 86,
     "metadata": {},
     "output_type": "execute_result"
    }
   ],
   "source": [
    "data_join.vessel_type_vessel.unique()"
   ]
  },
  {
   "cell_type": "code",
   "execution_count": 88,
   "metadata": {},
   "outputs": [
    {
     "data": {
      "text/plain": [
       "array(['Container ship', nan, 'General cargo vessel', 'Cargo ship',\n",
       "       'Bulk carrier', 'Reefer', 'Vehicle carrier', 'RoRo ship',\n",
       "       'Livestock carrier', 'Forest-product carrier'], dtype=object)"
      ]
     },
     "execution_count": 88,
     "metadata": {},
     "output_type": "execute_result"
    }
   ],
   "source": [
    "data_join.sub_vessel_type.unique()"
   ]
  },
  {
   "cell_type": "code",
   "execution_count": 223,
   "metadata": {},
   "outputs": [],
   "source": [
    "block_coefficients = {\n",
    "    'bulk':0.79,\n",
    "    'container':0.73,\n",
    "    'tanker':0.83,\n",
    "    'LNG':0.79\n",
    "}"
   ]
  },
  {
   "cell_type": "code",
   "execution_count": 24,
   "metadata": {},
   "outputs": [],
   "source": [
    "groups = {\n",
    "    'Dry Bulk':['Bulk carrier'],\n",
    "    'Container':['Container ship'],\n",
    "    'General Cargo':['General cargo vessel', 'Cargo ship'],\n",
    "    'Reefer':['Reefer'],\n",
    "    'Vehicle carrier':['Vehicle carrier'],\n",
    "    'Ro Ro Cargo Ship':['RoRo ship'],\n",
    "    'Animal products':['livestock carrier'],\n",
    "    'Forest':['Forest-producer carrier']\n",
    "}"
   ]
  },
  {
   "cell_type": "code",
   "execution_count": 97,
   "metadata": {
    "scrolled": true
   },
   "outputs": [],
   "source": [
    "data_join.to_csv(join(ais_dir, \"port_calls_latakia.csv\"))"
   ]
  },
  {
   "cell_type": "code",
   "execution_count": 11,
   "metadata": {},
   "outputs": [],
   "source": [
    "data_join = pd.read_csv(join(ais_dir, \"port_calls_latakia.csv\"), index_col=0)"
   ]
  },
  {
   "cell_type": "code",
   "execution_count": 12,
   "metadata": {},
   "outputs": [],
   "source": [
    "data_join.loc[:, \"draught_delta\"] = 1\n",
    "data_join.loc[data_join['draught-diff']==0, \"draught_delta\"] = 0"
   ]
  },
  {
   "cell_type": "code",
   "execution_count": 13,
   "metadata": {},
   "outputs": [],
   "source": [
    "data_join.loc[data_join['draught-diff']==0, \"draught_delta\"] = 0"
   ]
  },
  {
   "cell_type": "code",
   "execution_count": 14,
   "metadata": {},
   "outputs": [
    {
     "data": {
      "text/plain": [
       "0    0.629685\n",
       "1    0.370315\n",
       "Name: draught_delta, dtype: float64"
      ]
     },
     "execution_count": 14,
     "metadata": {},
     "output_type": "execute_result"
    }
   ],
   "source": [
    "data_join.draught_delta.value_counts()/len(data_join)"
   ]
  },
  {
   "cell_type": "markdown",
   "metadata": {},
   "source": [
    "Only 40% have some draught delta"
   ]
  },
  {
   "cell_type": "code",
   "execution_count": 15,
   "metadata": {},
   "outputs": [
    {
     "data": {
      "text/plain": [
       "0    420\n",
       "1    247\n",
       "Name: draught_delta, dtype: int64"
      ]
     },
     "execution_count": 15,
     "metadata": {},
     "output_type": "execute_result"
    }
   ],
   "source": [
    "data_join.draught_delta.value_counts()"
   ]
  },
  {
   "cell_type": "code",
   "execution_count": 16,
   "metadata": {},
   "outputs": [],
   "source": [
    "data_join = data_join.loc[data_join.draught_delta==1].copy()"
   ]
  },
  {
   "cell_type": "code",
   "execution_count": 17,
   "metadata": {},
   "outputs": [],
   "source": [
    "data_join = data_join.loc[data_join.vessel_info==1].copy()"
   ]
  },
  {
   "cell_type": "code",
   "execution_count": 18,
   "metadata": {},
   "outputs": [
    {
     "data": {
      "text/plain": [
       "count    204.000000\n",
       "mean      -0.929412\n",
       "std        0.997740\n",
       "min       -6.500000\n",
       "25%       -1.500000\n",
       "50%       -0.800000\n",
       "75%       -0.200000\n",
       "max        1.000000\n",
       "Name: draught-diff, dtype: float64"
      ]
     },
     "execution_count": 18,
     "metadata": {},
     "output_type": "execute_result"
    }
   ],
   "source": [
    "data_join['draught-diff'].describe()"
   ]
  },
  {
   "cell_type": "code",
   "execution_count": 20,
   "metadata": {},
   "outputs": [],
   "source": [
    "data_join.loc[:, 'block_cat'] = \"\""
   ]
  },
  {
   "cell_type": "code",
   "execution_count": 25,
   "metadata": {},
   "outputs": [
    {
     "data": {
      "text/plain": [
       "dict_keys(['bulk', 'container', 'tanker', 'LNG'])"
      ]
     },
     "execution_count": 25,
     "metadata": {},
     "output_type": "execute_result"
    }
   ],
   "source": [
    "block_coefficients.keys()"
   ]
  },
  {
   "cell_type": "code",
   "execution_count": 26,
   "metadata": {},
   "outputs": [],
   "source": [
    "data_join.loc[data_join.sub_vessel_type.str.lower().str.contains('container'), \"block_cat\"] = 'container'\n",
    "data_join.loc[data_join.sub_vessel_type.str.lower().str.contains('bulk'), \"block_cat\"] = 'bulk'\n",
    "data_join.loc[data_join.sub_vessel_type.str.lower().str.contains('tanker'), \"block_cat\"] = 'tanker'\n",
    "data_join.loc[data_join.sub_vessel_type.str.lower().str.contains('lng'), \"block_cat\"] = 'LNG'"
   ]
  },
  {
   "cell_type": "code",
   "execution_count": 227,
   "metadata": {
    "scrolled": true
   },
   "outputs": [
    {
     "data": {
      "text/plain": [
       "array(['Vehicle carrier', 'Cargo ship', 'RoRo ship',\n",
       "       'General cargo vessel'], dtype=object)"
      ]
     },
     "execution_count": 227,
     "metadata": {},
     "output_type": "execute_result"
    }
   ],
   "source": [
    "data_join.loc[data_join.block_cat=='', \"sub_vessel_type\"].unique()"
   ]
  },
  {
   "cell_type": "code",
   "execution_count": 233,
   "metadata": {},
   "outputs": [
    {
     "data": {
      "text/plain": [
       "array(['Bulk carrier'], dtype=object)"
      ]
     },
     "execution_count": 233,
     "metadata": {},
     "output_type": "execute_result"
    }
   ],
   "source": [
    "data_join.loc[data_join.block_cat=='bulk', \"sub_vessel_type\"].unique()"
   ]
  },
  {
   "cell_type": "code",
   "execution_count": 234,
   "metadata": {},
   "outputs": [
    {
     "data": {
      "text/plain": [
       "array(['Container ship'], dtype=object)"
      ]
     },
     "execution_count": 234,
     "metadata": {},
     "output_type": "execute_result"
    }
   ],
   "source": [
    "data_join.loc[data_join.block_cat=='container', \"sub_vessel_type\"].unique()"
   ]
  },
  {
   "cell_type": "code",
   "execution_count": 235,
   "metadata": {},
   "outputs": [],
   "source": [
    "data_join.loc[data_join.sub_vessel_type.str.lower().str.contains('cargo'), \"block_cat\"] = 'container'\n",
    "data_join.loc[data_join.sub_vessel_type.str.lower().str.contains('roro'), \"block_cat\"] = 'container'\n",
    "data_join.loc[data_join.sub_vessel_type.str.lower().str.contains('vehicle '), \"block_cat\"] = 'container'"
   ]
  },
  {
   "cell_type": "code",
   "execution_count": 236,
   "metadata": {},
   "outputs": [
    {
     "data": {
      "text/plain": [
       "array(['container', 'bulk'], dtype=object)"
      ]
     },
     "execution_count": 236,
     "metadata": {},
     "output_type": "execute_result"
    }
   ],
   "source": [
    "data_join.block_cat.unique()"
   ]
  },
  {
   "cell_type": "code",
   "execution_count": 280,
   "metadata": {},
   "outputs": [],
   "source": [
    "row = data_join.iloc[0]"
   ]
  },
  {
   "cell_type": "code",
   "execution_count": 281,
   "metadata": {
    "scrolled": true
   },
   "outputs": [
    {
     "data": {
      "text/plain": [
       "date-leave                        2019-01-27\n",
       "mmsi                               477552700\n",
       "turn_around_time                   21.858056\n",
       "datetime-leave           2019-01-27 08:41:36\n",
       "draught-out                              9.7\n",
       "heading-out                              0.0\n",
       "seconds                              78689.0\n",
       "datetime-entry           2019-01-26 10:50:07\n",
       "date-entry                        2019-01-26\n",
       "vessel_type_ais                        Cargo\n",
       "dtg                      2019-01-26 10:20:01\n",
       "length_ais                             211.0\n",
       "width_ais                               30.0\n",
       "draught-in                              10.0\n",
       "heading-in                               0.0\n",
       "vessel_type_main              Container Ship\n",
       "vessel_type_sub                          NaN\n",
       "draught-diff                            -0.3\n",
       "heading-diff                             0.0\n",
       "passing                                    3\n",
       "port-name                            Latakia\n",
       "country                                Syria\n",
       "passing2                                 NaN\n",
       "sub_vessel_type               Container ship\n",
       "vessel_type_vessel                     cargo\n",
       "dwt                                  35181.0\n",
       "gt                                   25904.0\n",
       "length_vessel                          211.0\n",
       "width_vessel                            30.0\n",
       "Draft                                   11.4\n",
       "flag                  Hong Kong SAR of China\n",
       "vessel_info                              1.0\n",
       "draught_delta                              1\n",
       "block_cat                          container\n",
       "payload_in                          0.832798\n",
       "payload_out                         0.796441\n",
       "draft_max                               11.4\n",
       "Name: 3, dtype: object"
      ]
     },
     "execution_count": 281,
     "metadata": {},
     "output_type": "execute_result"
    }
   ],
   "source": [
    "row"
   ]
  },
  {
   "cell_type": "code",
   "execution_count": 239,
   "metadata": {},
   "outputs": [],
   "source": [
    "Din = row['draught-in']\n",
    "Dout = row['draught-out']\n",
    "L = row['length_vessel']\n",
    "W = row['width_vessel']\n",
    "Dd = row['Draft']\n",
    "DWT = row['dwt']\n",
    "Cb = block_coefficients[row['block_cat']]\n",
    "pw = 1.025 # tons/m3  1029kg/m3"
   ]
  },
  {
   "cell_type": "code",
   "execution_count": 240,
   "metadata": {},
   "outputs": [
    {
     "data": {
      "text/plain": [
       "(10.0, 11.4)"
      ]
     },
     "execution_count": 240,
     "metadata": {},
     "output_type": "execute_result"
    }
   ],
   "source": [
    "Dr = Din # or Dout\n",
    "Din, Dd"
   ]
  },
  {
   "cell_type": "code",
   "execution_count": 216,
   "metadata": {},
   "outputs": [
    {
     "data": {
      "text/plain": [
       "(0.73, 0.7415387261941899)"
      ]
     },
     "execution_count": 216,
     "metadata": {},
     "output_type": "execute_result"
    }
   ],
   "source": [
    "Cbr = 1 - ((1 - Cb)*((Dr / Dd)**(1/3)))\n",
    "Cb, Cbr"
   ]
  },
  {
   "cell_type": "code",
   "execution_count": 219,
   "metadata": {},
   "outputs": [
    {
     "data": {
      "text/plain": [
       "0.83279809847061"
      ]
     },
     "execution_count": 219,
     "metadata": {},
     "output_type": "execute_result"
    }
   ],
   "source": [
    "payload = ((((Cbr*Dr) - (Cb*Dd)) * (L*W*pw)) + DWT ) / DWT\n",
    "payload"
   ]
  },
  {
   "cell_type": "code",
   "execution_count": 282,
   "metadata": {},
   "outputs": [],
   "source": [
    "def calculate_payload(row, direction):\n",
    "    \n",
    "    # get parameters\n",
    "    Din = row['draught-in']\n",
    "    Dout = row['draught-out']\n",
    "    L = row['length_vessel']\n",
    "    W = row['width_vessel']\n",
    "    Dd = row['draft_max']\n",
    "    DWT = row['dwt']\n",
    "    Cb = block_coefficients[row['block_cat']]\n",
    "    pw = 1.025 # tons/m3  1029kg/m3\n",
    "    \n",
    "    if direction==\"in\":\n",
    "        Dr = Din\n",
    "    if direction =='out':\n",
    "        Dr = Dout\n",
    "        \n",
    "    # calcualte block coefficient for reported draft\n",
    "    Cbr = 1 - ((1 - Cb)*((Dr / Dd)**(1/3)))\n",
    "    \n",
    "    # calcualte payload rate\n",
    "    payload = ((((Cbr*Dr) - (Cb*Dd)) * (L*W*pw)) + DWT ) / DWT\n",
    "    return payload"
   ]
  },
  {
   "cell_type": "code",
   "execution_count": 283,
   "metadata": {
    "scrolled": true
   },
   "outputs": [
    {
     "data": {
      "text/plain": [
       "0.83279809847061"
      ]
     },
     "execution_count": 283,
     "metadata": {},
     "output_type": "execute_result"
    }
   ],
   "source": [
    "calculate_payload(row, 'in')"
   ]
  },
  {
   "cell_type": "code",
   "execution_count": 284,
   "metadata": {},
   "outputs": [],
   "source": [
    "data_join.loc[:, 'draft_max'] = data_join[['Draft', 'draught-in', 'draught-out']].max(axis=1)"
   ]
  },
  {
   "cell_type": "code",
   "execution_count": 285,
   "metadata": {},
   "outputs": [],
   "source": [
    "data_join.loc[:, \"payload_in\"] = data_join.apply(lambda x: calculate_payload(x, 'in'), axis=1)\n",
    "data_join.loc[:, \"payload_out\"] = data_join.apply(lambda x: calculate_payload(x, 'out'), axis=1)"
   ]
  },
  {
   "cell_type": "code",
   "execution_count": 286,
   "metadata": {},
   "outputs": [
    {
     "data": {
      "text/html": [
       "<div>\n",
       "<style scoped>\n",
       "    .dataframe tbody tr th:only-of-type {\n",
       "        vertical-align: middle;\n",
       "    }\n",
       "\n",
       "    .dataframe tbody tr th {\n",
       "        vertical-align: top;\n",
       "    }\n",
       "\n",
       "    .dataframe thead th {\n",
       "        text-align: right;\n",
       "    }\n",
       "</style>\n",
       "<table border=\"1\" class=\"dataframe\">\n",
       "  <thead>\n",
       "    <tr style=\"text-align: right;\">\n",
       "      <th></th>\n",
       "      <th>date-leave</th>\n",
       "      <th>mmsi</th>\n",
       "      <th>turn_around_time</th>\n",
       "      <th>datetime-leave</th>\n",
       "      <th>draught-out</th>\n",
       "      <th>heading-out</th>\n",
       "      <th>seconds</th>\n",
       "      <th>datetime-entry</th>\n",
       "      <th>date-entry</th>\n",
       "      <th>vessel_type_ais</th>\n",
       "      <th>dtg</th>\n",
       "      <th>length_ais</th>\n",
       "      <th>width_ais</th>\n",
       "      <th>draught-in</th>\n",
       "      <th>heading-in</th>\n",
       "      <th>vessel_type_main</th>\n",
       "      <th>vessel_type_sub</th>\n",
       "      <th>draught-diff</th>\n",
       "      <th>heading-diff</th>\n",
       "      <th>passing</th>\n",
       "      <th>port-name</th>\n",
       "      <th>country</th>\n",
       "      <th>passing2</th>\n",
       "      <th>sub_vessel_type</th>\n",
       "      <th>vessel_type_vessel</th>\n",
       "      <th>dwt</th>\n",
       "      <th>gt</th>\n",
       "      <th>length_vessel</th>\n",
       "      <th>width_vessel</th>\n",
       "      <th>Draft</th>\n",
       "      <th>flag</th>\n",
       "      <th>vessel_info</th>\n",
       "      <th>draught_delta</th>\n",
       "      <th>block_cat</th>\n",
       "      <th>payload_in</th>\n",
       "      <th>payload_out</th>\n",
       "      <th>draft_max</th>\n",
       "    </tr>\n",
       "  </thead>\n",
       "  <tbody>\n",
       "    <tr>\n",
       "      <th>3</th>\n",
       "      <td>2019-01-27</td>\n",
       "      <td>477552700</td>\n",
       "      <td>21.858056</td>\n",
       "      <td>2019-01-27 08:41:36</td>\n",
       "      <td>9.7</td>\n",
       "      <td>0.0</td>\n",
       "      <td>78689.0</td>\n",
       "      <td>2019-01-26 10:50:07</td>\n",
       "      <td>2019-01-26</td>\n",
       "      <td>Cargo</td>\n",
       "      <td>2019-01-26 10:20:01</td>\n",
       "      <td>211.0</td>\n",
       "      <td>30.0</td>\n",
       "      <td>10.0</td>\n",
       "      <td>0.0</td>\n",
       "      <td>Container Ship</td>\n",
       "      <td>NaN</td>\n",
       "      <td>-0.3</td>\n",
       "      <td>0.0</td>\n",
       "      <td>3</td>\n",
       "      <td>Latakia</td>\n",
       "      <td>Syria</td>\n",
       "      <td>NaN</td>\n",
       "      <td>Container ship</td>\n",
       "      <td>cargo</td>\n",
       "      <td>35181.0</td>\n",
       "      <td>25904.0</td>\n",
       "      <td>211.0</td>\n",
       "      <td>30.0</td>\n",
       "      <td>11.400</td>\n",
       "      <td>Hong Kong SAR of China</td>\n",
       "      <td>1.0</td>\n",
       "      <td>1</td>\n",
       "      <td>container</td>\n",
       "      <td>0.832798</td>\n",
       "      <td>0.796441</td>\n",
       "      <td>11.4</td>\n",
       "    </tr>\n",
       "    <tr>\n",
       "      <th>4</th>\n",
       "      <td>2019-02-02</td>\n",
       "      <td>271044398</td>\n",
       "      <td>10.985000</td>\n",
       "      <td>2019-02-02 02:49:03</td>\n",
       "      <td>6.2</td>\n",
       "      <td>0.0</td>\n",
       "      <td>39546.0</td>\n",
       "      <td>2019-02-01 15:49:57</td>\n",
       "      <td>2019-02-01</td>\n",
       "      <td>Cargo</td>\n",
       "      <td>2019-02-01 13:43:30</td>\n",
       "      <td>152.0</td>\n",
       "      <td>24.0</td>\n",
       "      <td>9.2</td>\n",
       "      <td>0.0</td>\n",
       "      <td>Container Ship</td>\n",
       "      <td>NaN</td>\n",
       "      <td>-3.0</td>\n",
       "      <td>0.0</td>\n",
       "      <td>3</td>\n",
       "      <td>Latakia</td>\n",
       "      <td>Syria</td>\n",
       "      <td>NaN</td>\n",
       "      <td>Container ship</td>\n",
       "      <td>cargo</td>\n",
       "      <td>13623.0</td>\n",
       "      <td>10925.0</td>\n",
       "      <td>151.0</td>\n",
       "      <td>24.0</td>\n",
       "      <td>8.250</td>\n",
       "      <td>Turkey</td>\n",
       "      <td>1.0</td>\n",
       "      <td>1</td>\n",
       "      <td>container</td>\n",
       "      <td>1.000000</td>\n",
       "      <td>0.459115</td>\n",
       "      <td>9.2</td>\n",
       "    </tr>\n",
       "    <tr>\n",
       "      <th>15</th>\n",
       "      <td>2019-03-13</td>\n",
       "      <td>622122208</td>\n",
       "      <td>21.396111</td>\n",
       "      <td>2019-03-13 12:31:21</td>\n",
       "      <td>8.3</td>\n",
       "      <td>289.0</td>\n",
       "      <td>77026.0</td>\n",
       "      <td>2019-03-12 15:07:35</td>\n",
       "      <td>2019-03-12</td>\n",
       "      <td>Cargo</td>\n",
       "      <td>2019-03-12 09:49:35</td>\n",
       "      <td>155.0</td>\n",
       "      <td>25.0</td>\n",
       "      <td>9.7</td>\n",
       "      <td>228.0</td>\n",
       "      <td>Container Ship</td>\n",
       "      <td>NaN</td>\n",
       "      <td>-1.4</td>\n",
       "      <td>61.0</td>\n",
       "      <td>3</td>\n",
       "      <td>Latakia</td>\n",
       "      <td>Syria</td>\n",
       "      <td>NaN</td>\n",
       "      <td>Container ship</td>\n",
       "      <td>cargo</td>\n",
       "      <td>17728.0</td>\n",
       "      <td>14557.0</td>\n",
       "      <td>155.0</td>\n",
       "      <td>24.0</td>\n",
       "      <td>9.515</td>\n",
       "      <td>Egypt</td>\n",
       "      <td>1.0</td>\n",
       "      <td>1</td>\n",
       "      <td>container</td>\n",
       "      <td>1.000000</td>\n",
       "      <td>0.804588</td>\n",
       "      <td>9.7</td>\n",
       "    </tr>\n",
       "    <tr>\n",
       "      <th>17</th>\n",
       "      <td>2019-03-15</td>\n",
       "      <td>563044300</td>\n",
       "      <td>44.134167</td>\n",
       "      <td>2019-03-15 09:45:17</td>\n",
       "      <td>10.2</td>\n",
       "      <td>0.0</td>\n",
       "      <td>158883.0</td>\n",
       "      <td>2019-03-13 13:37:14</td>\n",
       "      <td>2019-03-13</td>\n",
       "      <td>Cargo</td>\n",
       "      <td>2019-03-13 11:54:57</td>\n",
       "      <td>194.0</td>\n",
       "      <td>30.0</td>\n",
       "      <td>11.1</td>\n",
       "      <td>93.0</td>\n",
       "      <td>NaN</td>\n",
       "      <td>NaN</td>\n",
       "      <td>-0.9</td>\n",
       "      <td>-93.0</td>\n",
       "      <td>3</td>\n",
       "      <td>Latakia</td>\n",
       "      <td>Syria</td>\n",
       "      <td>NaN</td>\n",
       "      <td>Container ship</td>\n",
       "      <td>cargo</td>\n",
       "      <td>35220.0</td>\n",
       "      <td>26050.0</td>\n",
       "      <td>211.0</td>\n",
       "      <td>30.0</td>\n",
       "      <td>11.400</td>\n",
       "      <td>Singapore</td>\n",
       "      <td>1.0</td>\n",
       "      <td>1</td>\n",
       "      <td>container</td>\n",
       "      <td>0.964542</td>\n",
       "      <td>0.857088</td>\n",
       "      <td>11.4</td>\n",
       "    </tr>\n",
       "    <tr>\n",
       "      <th>19</th>\n",
       "      <td>2019-03-21</td>\n",
       "      <td>636092669</td>\n",
       "      <td>24.461667</td>\n",
       "      <td>2019-03-21 19:06:33</td>\n",
       "      <td>8.2</td>\n",
       "      <td>301.0</td>\n",
       "      <td>88062.0</td>\n",
       "      <td>2019-03-20 18:38:51</td>\n",
       "      <td>2019-03-20</td>\n",
       "      <td>Cargo</td>\n",
       "      <td>2019-03-20 14:51:09</td>\n",
       "      <td>175.0</td>\n",
       "      <td>27.0</td>\n",
       "      <td>11.0</td>\n",
       "      <td>228.0</td>\n",
       "      <td>Container Ship</td>\n",
       "      <td>NaN</td>\n",
       "      <td>-2.8</td>\n",
       "      <td>73.0</td>\n",
       "      <td>3</td>\n",
       "      <td>Latakia</td>\n",
       "      <td>Syria</td>\n",
       "      <td>NaN</td>\n",
       "      <td>Container ship</td>\n",
       "      <td>cargo</td>\n",
       "      <td>23580.0</td>\n",
       "      <td>18334.0</td>\n",
       "      <td>175.0</td>\n",
       "      <td>27.0</td>\n",
       "      <td>10.900</td>\n",
       "      <td>Liberia</td>\n",
       "      <td>1.0</td>\n",
       "      <td>1</td>\n",
       "      <td>container</td>\n",
       "      <td>1.000000</td>\n",
       "      <td>0.622598</td>\n",
       "      <td>11.0</td>\n",
       "    </tr>\n",
       "    <tr>\n",
       "      <th>...</th>\n",
       "      <td>...</td>\n",
       "      <td>...</td>\n",
       "      <td>...</td>\n",
       "      <td>...</td>\n",
       "      <td>...</td>\n",
       "      <td>...</td>\n",
       "      <td>...</td>\n",
       "      <td>...</td>\n",
       "      <td>...</td>\n",
       "      <td>...</td>\n",
       "      <td>...</td>\n",
       "      <td>...</td>\n",
       "      <td>...</td>\n",
       "      <td>...</td>\n",
       "      <td>...</td>\n",
       "      <td>...</td>\n",
       "      <td>...</td>\n",
       "      <td>...</td>\n",
       "      <td>...</td>\n",
       "      <td>...</td>\n",
       "      <td>...</td>\n",
       "      <td>...</td>\n",
       "      <td>...</td>\n",
       "      <td>...</td>\n",
       "      <td>...</td>\n",
       "      <td>...</td>\n",
       "      <td>...</td>\n",
       "      <td>...</td>\n",
       "      <td>...</td>\n",
       "      <td>...</td>\n",
       "      <td>...</td>\n",
       "      <td>...</td>\n",
       "      <td>...</td>\n",
       "      <td>...</td>\n",
       "      <td>...</td>\n",
       "      <td>...</td>\n",
       "      <td>...</td>\n",
       "    </tr>\n",
       "    <tr>\n",
       "      <th>644</th>\n",
       "      <td>2022-07-19</td>\n",
       "      <td>477552700</td>\n",
       "      <td>28.031389</td>\n",
       "      <td>2022-07-19 05:34:38</td>\n",
       "      <td>9.9</td>\n",
       "      <td>0.0</td>\n",
       "      <td>100913.0</td>\n",
       "      <td>2022-07-18 01:32:45</td>\n",
       "      <td>2022-07-18</td>\n",
       "      <td>Cargo</td>\n",
       "      <td>2022-07-18 00:29:40</td>\n",
       "      <td>211.0</td>\n",
       "      <td>30.0</td>\n",
       "      <td>11.0</td>\n",
       "      <td>0.0</td>\n",
       "      <td>Container Ship</td>\n",
       "      <td>NaN</td>\n",
       "      <td>-1.1</td>\n",
       "      <td>0.0</td>\n",
       "      <td>3</td>\n",
       "      <td>Latakia</td>\n",
       "      <td>Syria</td>\n",
       "      <td>NaN</td>\n",
       "      <td>Container ship</td>\n",
       "      <td>cargo</td>\n",
       "      <td>35181.0</td>\n",
       "      <td>25904.0</td>\n",
       "      <td>211.0</td>\n",
       "      <td>30.0</td>\n",
       "      <td>11.400</td>\n",
       "      <td>Hong Kong SAR of China</td>\n",
       "      <td>1.0</td>\n",
       "      <td>1</td>\n",
       "      <td>container</td>\n",
       "      <td>0.952631</td>\n",
       "      <td>0.820701</td>\n",
       "      <td>11.4</td>\n",
       "    </tr>\n",
       "    <tr>\n",
       "      <th>650</th>\n",
       "      <td>2022-07-28</td>\n",
       "      <td>271044633</td>\n",
       "      <td>17.705556</td>\n",
       "      <td>2022-07-28 03:28:13</td>\n",
       "      <td>5.7</td>\n",
       "      <td>271.0</td>\n",
       "      <td>63740.0</td>\n",
       "      <td>2022-07-27 09:45:53</td>\n",
       "      <td>2022-07-27</td>\n",
       "      <td>Cargo</td>\n",
       "      <td>2022-07-27 09:21:53</td>\n",
       "      <td>151.0</td>\n",
       "      <td>24.0</td>\n",
       "      <td>8.4</td>\n",
       "      <td>95.0</td>\n",
       "      <td>Container Ship</td>\n",
       "      <td>NaN</td>\n",
       "      <td>-2.7</td>\n",
       "      <td>176.0</td>\n",
       "      <td>3</td>\n",
       "      <td>Latakia</td>\n",
       "      <td>Syria</td>\n",
       "      <td>NaN</td>\n",
       "      <td>Container ship</td>\n",
       "      <td>cargo</td>\n",
       "      <td>13700.0</td>\n",
       "      <td>10917.0</td>\n",
       "      <td>151.0</td>\n",
       "      <td>24.0</td>\n",
       "      <td>8.300</td>\n",
       "      <td>Turkey</td>\n",
       "      <td>1.0</td>\n",
       "      <td>1</td>\n",
       "      <td>container</td>\n",
       "      <td>1.000000</td>\n",
       "      <td>0.516181</td>\n",
       "      <td>8.4</td>\n",
       "    </tr>\n",
       "    <tr>\n",
       "      <th>654</th>\n",
       "      <td>2022-08-04</td>\n",
       "      <td>622112801</td>\n",
       "      <td>21.228333</td>\n",
       "      <td>2022-08-04 09:18:39</td>\n",
       "      <td>6.5</td>\n",
       "      <td>272.0</td>\n",
       "      <td>76422.0</td>\n",
       "      <td>2022-08-03 12:04:57</td>\n",
       "      <td>2022-08-03</td>\n",
       "      <td>Cargo</td>\n",
       "      <td>2022-08-03 06:16:36</td>\n",
       "      <td>135.0</td>\n",
       "      <td>20.0</td>\n",
       "      <td>7.6</td>\n",
       "      <td>18.0</td>\n",
       "      <td>General Cargo Ship</td>\n",
       "      <td>NaN</td>\n",
       "      <td>-1.1</td>\n",
       "      <td>254.0</td>\n",
       "      <td>3</td>\n",
       "      <td>Latakia</td>\n",
       "      <td>Syria</td>\n",
       "      <td>NaN</td>\n",
       "      <td>Cargo ship</td>\n",
       "      <td>cargo</td>\n",
       "      <td>9389.0</td>\n",
       "      <td>8443.0</td>\n",
       "      <td>135.0</td>\n",
       "      <td>20.0</td>\n",
       "      <td>7.450</td>\n",
       "      <td>Egypt</td>\n",
       "      <td>1.0</td>\n",
       "      <td>1</td>\n",
       "      <td>container</td>\n",
       "      <td>1.000000</td>\n",
       "      <td>0.789577</td>\n",
       "      <td>7.6</td>\n",
       "    </tr>\n",
       "    <tr>\n",
       "      <th>659</th>\n",
       "      <td>2022-08-17</td>\n",
       "      <td>477552700</td>\n",
       "      <td>36.240556</td>\n",
       "      <td>2022-08-17 19:37:56</td>\n",
       "      <td>9.7</td>\n",
       "      <td>267.0</td>\n",
       "      <td>130466.0</td>\n",
       "      <td>2022-08-16 07:23:30</td>\n",
       "      <td>2022-08-16</td>\n",
       "      <td>Cargo</td>\n",
       "      <td>2022-08-16 06:59:30</td>\n",
       "      <td>211.0</td>\n",
       "      <td>30.0</td>\n",
       "      <td>10.3</td>\n",
       "      <td>0.0</td>\n",
       "      <td>Container Ship</td>\n",
       "      <td>NaN</td>\n",
       "      <td>-0.6</td>\n",
       "      <td>267.0</td>\n",
       "      <td>3</td>\n",
       "      <td>Latakia</td>\n",
       "      <td>Syria</td>\n",
       "      <td>NaN</td>\n",
       "      <td>Container ship</td>\n",
       "      <td>cargo</td>\n",
       "      <td>35181.0</td>\n",
       "      <td>25904.0</td>\n",
       "      <td>211.0</td>\n",
       "      <td>30.0</td>\n",
       "      <td>11.400</td>\n",
       "      <td>Hong Kong SAR of China</td>\n",
       "      <td>1.0</td>\n",
       "      <td>1</td>\n",
       "      <td>container</td>\n",
       "      <td>0.868964</td>\n",
       "      <td>0.796441</td>\n",
       "      <td>11.4</td>\n",
       "    </tr>\n",
       "    <tr>\n",
       "      <th>666</th>\n",
       "      <td>2022-08-30</td>\n",
       "      <td>622112801</td>\n",
       "      <td>23.189722</td>\n",
       "      <td>2022-08-30 11:08:58</td>\n",
       "      <td>5.9</td>\n",
       "      <td>281.0</td>\n",
       "      <td>83483.0</td>\n",
       "      <td>2022-08-29 11:57:35</td>\n",
       "      <td>2022-08-29</td>\n",
       "      <td>Cargo</td>\n",
       "      <td>2022-08-29 11:04:42</td>\n",
       "      <td>135.0</td>\n",
       "      <td>20.0</td>\n",
       "      <td>7.8</td>\n",
       "      <td>92.0</td>\n",
       "      <td>General Cargo Ship</td>\n",
       "      <td>NaN</td>\n",
       "      <td>-1.9</td>\n",
       "      <td>189.0</td>\n",
       "      <td>3</td>\n",
       "      <td>Latakia</td>\n",
       "      <td>Syria</td>\n",
       "      <td>NaN</td>\n",
       "      <td>Cargo ship</td>\n",
       "      <td>cargo</td>\n",
       "      <td>9389.0</td>\n",
       "      <td>8443.0</td>\n",
       "      <td>135.0</td>\n",
       "      <td>20.0</td>\n",
       "      <td>7.450</td>\n",
       "      <td>Egypt</td>\n",
       "      <td>1.0</td>\n",
       "      <td>1</td>\n",
       "      <td>container</td>\n",
       "      <td>1.000000</td>\n",
       "      <td>0.632892</td>\n",
       "      <td>7.8</td>\n",
       "    </tr>\n",
       "  </tbody>\n",
       "</table>\n",
       "<p>204 rows × 37 columns</p>\n",
       "</div>"
      ],
      "text/plain": [
       "     date-leave       mmsi  turn_around_time       datetime-leave  \\\n",
       "3    2019-01-27  477552700         21.858056  2019-01-27 08:41:36   \n",
       "4    2019-02-02  271044398         10.985000  2019-02-02 02:49:03   \n",
       "15   2019-03-13  622122208         21.396111  2019-03-13 12:31:21   \n",
       "17   2019-03-15  563044300         44.134167  2019-03-15 09:45:17   \n",
       "19   2019-03-21  636092669         24.461667  2019-03-21 19:06:33   \n",
       "..          ...        ...               ...                  ...   \n",
       "644  2022-07-19  477552700         28.031389  2022-07-19 05:34:38   \n",
       "650  2022-07-28  271044633         17.705556  2022-07-28 03:28:13   \n",
       "654  2022-08-04  622112801         21.228333  2022-08-04 09:18:39   \n",
       "659  2022-08-17  477552700         36.240556  2022-08-17 19:37:56   \n",
       "666  2022-08-30  622112801         23.189722  2022-08-30 11:08:58   \n",
       "\n",
       "     draught-out  heading-out   seconds       datetime-entry  date-entry  \\\n",
       "3            9.7          0.0   78689.0  2019-01-26 10:50:07  2019-01-26   \n",
       "4            6.2          0.0   39546.0  2019-02-01 15:49:57  2019-02-01   \n",
       "15           8.3        289.0   77026.0  2019-03-12 15:07:35  2019-03-12   \n",
       "17          10.2          0.0  158883.0  2019-03-13 13:37:14  2019-03-13   \n",
       "19           8.2        301.0   88062.0  2019-03-20 18:38:51  2019-03-20   \n",
       "..           ...          ...       ...                  ...         ...   \n",
       "644          9.9          0.0  100913.0  2022-07-18 01:32:45  2022-07-18   \n",
       "650          5.7        271.0   63740.0  2022-07-27 09:45:53  2022-07-27   \n",
       "654          6.5        272.0   76422.0  2022-08-03 12:04:57  2022-08-03   \n",
       "659          9.7        267.0  130466.0  2022-08-16 07:23:30  2022-08-16   \n",
       "666          5.9        281.0   83483.0  2022-08-29 11:57:35  2022-08-29   \n",
       "\n",
       "    vessel_type_ais                  dtg  length_ais  width_ais  draught-in  \\\n",
       "3             Cargo  2019-01-26 10:20:01       211.0       30.0        10.0   \n",
       "4             Cargo  2019-02-01 13:43:30       152.0       24.0         9.2   \n",
       "15            Cargo  2019-03-12 09:49:35       155.0       25.0         9.7   \n",
       "17            Cargo  2019-03-13 11:54:57       194.0       30.0        11.1   \n",
       "19            Cargo  2019-03-20 14:51:09       175.0       27.0        11.0   \n",
       "..              ...                  ...         ...        ...         ...   \n",
       "644           Cargo  2022-07-18 00:29:40       211.0       30.0        11.0   \n",
       "650           Cargo  2022-07-27 09:21:53       151.0       24.0         8.4   \n",
       "654           Cargo  2022-08-03 06:16:36       135.0       20.0         7.6   \n",
       "659           Cargo  2022-08-16 06:59:30       211.0       30.0        10.3   \n",
       "666           Cargo  2022-08-29 11:04:42       135.0       20.0         7.8   \n",
       "\n",
       "     heading-in    vessel_type_main vessel_type_sub  draught-diff  \\\n",
       "3           0.0      Container Ship             NaN          -0.3   \n",
       "4           0.0      Container Ship             NaN          -3.0   \n",
       "15        228.0      Container Ship             NaN          -1.4   \n",
       "17         93.0                 NaN             NaN          -0.9   \n",
       "19        228.0      Container Ship             NaN          -2.8   \n",
       "..          ...                 ...             ...           ...   \n",
       "644         0.0      Container Ship             NaN          -1.1   \n",
       "650        95.0      Container Ship             NaN          -2.7   \n",
       "654        18.0  General Cargo Ship             NaN          -1.1   \n",
       "659         0.0      Container Ship             NaN          -0.6   \n",
       "666        92.0  General Cargo Ship             NaN          -1.9   \n",
       "\n",
       "     heading-diff  passing port-name country  passing2 sub_vessel_type  \\\n",
       "3             0.0        3   Latakia   Syria       NaN  Container ship   \n",
       "4             0.0        3   Latakia   Syria       NaN  Container ship   \n",
       "15           61.0        3   Latakia   Syria       NaN  Container ship   \n",
       "17          -93.0        3   Latakia   Syria       NaN  Container ship   \n",
       "19           73.0        3   Latakia   Syria       NaN  Container ship   \n",
       "..            ...      ...       ...     ...       ...             ...   \n",
       "644           0.0        3   Latakia   Syria       NaN  Container ship   \n",
       "650         176.0        3   Latakia   Syria       NaN  Container ship   \n",
       "654         254.0        3   Latakia   Syria       NaN      Cargo ship   \n",
       "659         267.0        3   Latakia   Syria       NaN  Container ship   \n",
       "666         189.0        3   Latakia   Syria       NaN      Cargo ship   \n",
       "\n",
       "    vessel_type_vessel      dwt       gt  length_vessel  width_vessel   Draft  \\\n",
       "3                cargo  35181.0  25904.0          211.0          30.0  11.400   \n",
       "4                cargo  13623.0  10925.0          151.0          24.0   8.250   \n",
       "15               cargo  17728.0  14557.0          155.0          24.0   9.515   \n",
       "17               cargo  35220.0  26050.0          211.0          30.0  11.400   \n",
       "19               cargo  23580.0  18334.0          175.0          27.0  10.900   \n",
       "..                 ...      ...      ...            ...           ...     ...   \n",
       "644              cargo  35181.0  25904.0          211.0          30.0  11.400   \n",
       "650              cargo  13700.0  10917.0          151.0          24.0   8.300   \n",
       "654              cargo   9389.0   8443.0          135.0          20.0   7.450   \n",
       "659              cargo  35181.0  25904.0          211.0          30.0  11.400   \n",
       "666              cargo   9389.0   8443.0          135.0          20.0   7.450   \n",
       "\n",
       "                       flag  vessel_info  draught_delta  block_cat  \\\n",
       "3    Hong Kong SAR of China          1.0              1  container   \n",
       "4                    Turkey          1.0              1  container   \n",
       "15                    Egypt          1.0              1  container   \n",
       "17                Singapore          1.0              1  container   \n",
       "19                  Liberia          1.0              1  container   \n",
       "..                      ...          ...            ...        ...   \n",
       "644  Hong Kong SAR of China          1.0              1  container   \n",
       "650                  Turkey          1.0              1  container   \n",
       "654                   Egypt          1.0              1  container   \n",
       "659  Hong Kong SAR of China          1.0              1  container   \n",
       "666                   Egypt          1.0              1  container   \n",
       "\n",
       "     payload_in  payload_out  draft_max  \n",
       "3      0.832798     0.796441       11.4  \n",
       "4      1.000000     0.459115        9.2  \n",
       "15     1.000000     0.804588        9.7  \n",
       "17     0.964542     0.857088       11.4  \n",
       "19     1.000000     0.622598       11.0  \n",
       "..          ...          ...        ...  \n",
       "644    0.952631     0.820701       11.4  \n",
       "650    1.000000     0.516181        8.4  \n",
       "654    1.000000     0.789577        7.6  \n",
       "659    0.868964     0.796441       11.4  \n",
       "666    1.000000     0.632892        7.8  \n",
       "\n",
       "[204 rows x 37 columns]"
      ]
     },
     "execution_count": 286,
     "metadata": {},
     "output_type": "execute_result"
    }
   ],
   "source": [
    "data_join"
   ]
  },
  {
   "cell_type": "markdown",
   "metadata": {},
   "source": [
    "Get draft differences from next"
   ]
  },
  {
   "cell_type": "code",
   "execution_count": 174,
   "metadata": {},
   "outputs": [],
   "source": [
    "aws_bucket = \"wbgdecinternal-ntl\"\n",
    "path = \"Andres_Temp/AIS\""
   ]
  },
  {
   "cell_type": "code",
   "execution_count": 175,
   "metadata": {},
   "outputs": [],
   "source": [
    "client = boto3.client('s3')"
   ]
  },
  {
   "cell_type": "code",
   "execution_count": 176,
   "metadata": {},
   "outputs": [
    {
     "data": {
      "text/plain": [
       "['s3://wbgdecinternal-ntl/Andres_Temp/AIS/',\n",
       " 's3://wbgdecinternal-ntl/Andres_Temp/AIS/AIS_MMSI_2019-01-01_2019-06-30.csv',\n",
       " 's3://wbgdecinternal-ntl/Andres_Temp/AIS/AIS_MMSI_2019-01-01_2019-06-30_port.csv',\n",
       " 's3://wbgdecinternal-ntl/Andres_Temp/AIS/Latakia_next_draught.csv',\n",
       " 's3://wbgdecinternal-ntl/Andres_Temp/AIS/Port_mapping.csv',\n",
       " 's3://wbgdecinternal-ntl/Andres_Temp/AIS/books.csv',\n",
       " 's3://wbgdecinternal-ntl/Andres_Temp/AIS/port_calls_latakia.csv',\n",
       " 's3://wbgdecinternal-ntl/Andres_Temp/AIS/port_calls_test.csv']"
      ]
     },
     "execution_count": 176,
     "metadata": {},
     "output_type": "execute_result"
    }
   ],
   "source": [
    "file_list = client.list_objects_v2(Bucket=aws_bucket, Prefix=path, MaxKeys=5000)\n",
    "bucket_files = [os.path.join(\"s3://\", aws_bucket, content['Key']) for content in file_list['Contents']]\n",
    "bucket_files"
   ]
  },
  {
   "cell_type": "code",
   "execution_count": 172,
   "metadata": {},
   "outputs": [],
   "source": [
    "df = pd.read_csv('s3://wbgdecinternal-ntl/Andres_Temp/AIS/Latakia_next_draught.csv', index_col=0)"
   ]
  },
  {
   "cell_type": "code",
   "execution_count": 186,
   "metadata": {},
   "outputs": [
    {
     "data": {
      "text/plain": [
       "308"
      ]
     },
     "execution_count": 186,
     "metadata": {},
     "output_type": "execute_result"
    }
   ],
   "source": [
    "len(df)"
   ]
  },
  {
   "cell_type": "code",
   "execution_count": 185,
   "metadata": {},
   "outputs": [
    {
     "data": {
      "text/plain": [
       "0    420\n",
       "1    247\n",
       "Name: draught_delta, dtype: int64"
      ]
     },
     "execution_count": 185,
     "metadata": {},
     "output_type": "execute_result"
    }
   ],
   "source": [
    "data_join.draught_delta.value_counts()"
   ]
  },
  {
   "cell_type": "code",
   "execution_count": null,
   "metadata": {},
   "outputs": [],
   "source": []
  }
 ],
 "metadata": {
  "kernelspec": {
   "display_name": "Earth Engine",
   "language": "python",
   "name": "ee"
  },
  "language_info": {
   "codemirror_mode": {
    "name": "ipython",
    "version": 3
   },
   "file_extension": ".py",
   "mimetype": "text/x-python",
   "name": "python",
   "nbconvert_exporter": "python",
   "pygments_lexer": "ipython3",
   "version": "3.9.7"
  }
 },
 "nbformat": 4,
 "nbformat_minor": 2
}
