{
 "cells": [
  {
   "cell_type": "code",
   "execution_count": 1,
   "metadata": {},
   "outputs": [],
   "source": [
    "import os\n",
    "from os.path import join\n",
    "from glob import glob\n",
    "import pandas as pd\n",
    "import geopandas as gpd\n",
    "import folium\n",
    "from shapely.geometry import Point\n",
    "import folium.plugins as plugins\n",
    "import seaborn as sns\n",
    "from matplotlib import pyplot as plt\n",
    "import datetime"
   ]
  },
  {
   "cell_type": "code",
   "execution_count": 2,
   "metadata": {},
   "outputs": [],
   "source": [
    "ais_dir = join(os.path.expanduser(\"~\"), 'data', 'AIS')\n",
    "data_dir = join(ais_dir, 'Syria')"
   ]
  },
  {
   "cell_type": "code",
   "execution_count": 15,
   "metadata": {},
   "outputs": [],
   "source": [
    "# df = pd.read_csv(join(ais_dir, 'daily_port_export_sector_weight_value.csv'))\n",
    "df = pd.read_csv(join(ais_dir, 'daily_port_import_sector_weight_value.csv'))"
   ]
  },
  {
   "cell_type": "code",
   "execution_count": 16,
   "metadata": {},
   "outputs": [],
   "source": [
    "df = df.loc[df.GID_0==\"SYR\"].copy()"
   ]
  },
  {
   "cell_type": "code",
   "execution_count": 17,
   "metadata": {},
   "outputs": [],
   "source": [
    "df['date-entry'] = pd.to_datetime(df['date-entry'])"
   ]
  },
  {
   "cell_type": "code",
   "execution_count": 18,
   "metadata": {},
   "outputs": [],
   "source": [
    "df['ym'] = df['date-entry'].dt.strftime('%Y-%m')"
   ]
  },
  {
   "cell_type": "code",
   "execution_count": 19,
   "metadata": {},
   "outputs": [],
   "source": [
    "df = df.loc[df['date-entry']>'2018-12-31'].copy()"
   ]
  },
  {
   "cell_type": "code",
   "execution_count": 20,
   "metadata": {},
   "outputs": [],
   "source": [
    "sectors = pd.read_excel(join(ais_dir, 'sector_conversion.xlsx'))\n",
    "industries = pd.read_excel(join(ais_dir, 'sector_description.xlsx'), 'EORA')"
   ]
  },
  {
   "cell_type": "code",
   "execution_count": 21,
   "metadata": {},
   "outputs": [
    {
     "data": {
      "text/html": [
       "<div>\n",
       "<style scoped>\n",
       "    .dataframe tbody tr th:only-of-type {\n",
       "        vertical-align: middle;\n",
       "    }\n",
       "\n",
       "    .dataframe tbody tr th {\n",
       "        vertical-align: top;\n",
       "    }\n",
       "\n",
       "    .dataframe thead th {\n",
       "        text-align: right;\n",
       "    }\n",
       "</style>\n",
       "<table border=\"1\" class=\"dataframe\">\n",
       "  <thead>\n",
       "    <tr style=\"text-align: right;\">\n",
       "      <th></th>\n",
       "      <th>WOIT_sector</th>\n",
       "      <th>Industries</th>\n",
       "    </tr>\n",
       "  </thead>\n",
       "  <tbody>\n",
       "    <tr>\n",
       "      <th>0</th>\n",
       "      <td>1</td>\n",
       "      <td>1</td>\n",
       "    </tr>\n",
       "    <tr>\n",
       "      <th>1</th>\n",
       "      <td>2</td>\n",
       "      <td>1</td>\n",
       "    </tr>\n",
       "  </tbody>\n",
       "</table>\n",
       "</div>"
      ],
      "text/plain": [
       "   WOIT_sector  Industries\n",
       "0            1           1\n",
       "1            2           1"
      ]
     },
     "execution_count": 21,
     "metadata": {},
     "output_type": "execute_result"
    }
   ],
   "source": [
    "sectors.head(2)"
   ]
  },
  {
   "cell_type": "code",
   "execution_count": 22,
   "metadata": {},
   "outputs": [
    {
     "data": {
      "text/html": [
       "<div>\n",
       "<style scoped>\n",
       "    .dataframe tbody tr th:only-of-type {\n",
       "        vertical-align: middle;\n",
       "    }\n",
       "\n",
       "    .dataframe tbody tr th {\n",
       "        vertical-align: top;\n",
       "    }\n",
       "\n",
       "    .dataframe thead th {\n",
       "        text-align: right;\n",
       "    }\n",
       "</style>\n",
       "<table border=\"1\" class=\"dataframe\">\n",
       "  <thead>\n",
       "    <tr style=\"text-align: right;\">\n",
       "      <th></th>\n",
       "      <th>Industries</th>\n",
       "      <th>Description</th>\n",
       "    </tr>\n",
       "  </thead>\n",
       "  <tbody>\n",
       "    <tr>\n",
       "      <th>0</th>\n",
       "      <td>1</td>\n",
       "      <td>Agriculture</td>\n",
       "    </tr>\n",
       "    <tr>\n",
       "      <th>1</th>\n",
       "      <td>2</td>\n",
       "      <td>Fishing</td>\n",
       "    </tr>\n",
       "  </tbody>\n",
       "</table>\n",
       "</div>"
      ],
      "text/plain": [
       "   Industries  Description\n",
       "0           1  Agriculture\n",
       "1           2      Fishing"
      ]
     },
     "execution_count": 22,
     "metadata": {},
     "output_type": "execute_result"
    }
   ],
   "source": [
    "industries.head(2)"
   ]
  },
  {
   "cell_type": "code",
   "execution_count": 23,
   "metadata": {},
   "outputs": [],
   "source": [
    "df = df.merge(sectors, on='WOIT_sector')"
   ]
  },
  {
   "cell_type": "code",
   "execution_count": 24,
   "metadata": {},
   "outputs": [],
   "source": [
    "df = df.merge(industries, on='Industries')"
   ]
  },
  {
   "cell_type": "code",
   "execution_count": 25,
   "metadata": {},
   "outputs": [
    {
     "data": {
      "text/html": [
       "<div>\n",
       "<style scoped>\n",
       "    .dataframe tbody tr th:only-of-type {\n",
       "        vertical-align: middle;\n",
       "    }\n",
       "\n",
       "    .dataframe tbody tr th {\n",
       "        vertical-align: top;\n",
       "    }\n",
       "\n",
       "    .dataframe thead th {\n",
       "        text-align: right;\n",
       "    }\n",
       "</style>\n",
       "<table border=\"1\" class=\"dataframe\">\n",
       "  <thead>\n",
       "    <tr style=\"text-align: right;\">\n",
       "      <th></th>\n",
       "      <th>date-entry</th>\n",
       "      <th>port-name</th>\n",
       "      <th>country</th>\n",
       "      <th>WOIT_sector</th>\n",
       "      <th>Import_sector</th>\n",
       "      <th>value_ton_import</th>\n",
       "      <th>Import_value</th>\n",
       "      <th>Import_value_million</th>\n",
       "      <th>GID_0</th>\n",
       "      <th>ym</th>\n",
       "      <th>Industries</th>\n",
       "      <th>Description</th>\n",
       "    </tr>\n",
       "  </thead>\n",
       "  <tbody>\n",
       "    <tr>\n",
       "      <th>0</th>\n",
       "      <td>2019-01-06</td>\n",
       "      <td>Al Ladhiqiyah</td>\n",
       "      <td>Syria</td>\n",
       "      <td>1</td>\n",
       "      <td>546.403485</td>\n",
       "      <td>499.041154</td>\n",
       "      <td>272677.825733</td>\n",
       "      <td>0.272678</td>\n",
       "      <td>SYR</td>\n",
       "      <td>2019-01</td>\n",
       "      <td>1</td>\n",
       "      <td>Agriculture</td>\n",
       "    </tr>\n",
       "    <tr>\n",
       "      <th>1</th>\n",
       "      <td>2019-01-07</td>\n",
       "      <td>Al Ladhiqiyah</td>\n",
       "      <td>Syria</td>\n",
       "      <td>1</td>\n",
       "      <td>743.406168</td>\n",
       "      <td>499.041154</td>\n",
       "      <td>370990.271672</td>\n",
       "      <td>0.370990</td>\n",
       "      <td>SYR</td>\n",
       "      <td>2019-01</td>\n",
       "      <td>1</td>\n",
       "      <td>Agriculture</td>\n",
       "    </tr>\n",
       "  </tbody>\n",
       "</table>\n",
       "</div>"
      ],
      "text/plain": [
       "  date-entry      port-name country  WOIT_sector  Import_sector  \\\n",
       "0 2019-01-06  Al Ladhiqiyah   Syria            1     546.403485   \n",
       "1 2019-01-07  Al Ladhiqiyah   Syria            1     743.406168   \n",
       "\n",
       "   value_ton_import   Import_value  Import_value_million GID_0       ym  \\\n",
       "0        499.041154  272677.825733              0.272678   SYR  2019-01   \n",
       "1        499.041154  370990.271672              0.370990   SYR  2019-01   \n",
       "\n",
       "   Industries  Description  \n",
       "0           1  Agriculture  \n",
       "1           1  Agriculture  "
      ]
     },
     "execution_count": 25,
     "metadata": {},
     "output_type": "execute_result"
    }
   ],
   "source": [
    "df.head(2)"
   ]
  },
  {
   "cell_type": "code",
   "execution_count": 26,
   "metadata": {},
   "outputs": [],
   "source": [
    "dfm_imp = df.groupby(['ym','Industries']).agg({\n",
    "    'country':'first',\n",
    "    'port-name':'first',\n",
    "    'Description':'first',\n",
    "    'Import_sector':'sum',\n",
    "    'value_ton_import':'sum',\n",
    "    'Import_value':'sum',\n",
    "    'Import_value_million':'sum'\n",
    "})"
   ]
  },
  {
   "cell_type": "code",
   "execution_count": 14,
   "metadata": {},
   "outputs": [],
   "source": [
    "dfm_exp = df.groupby(['ym','Industries']).agg({\n",
    "    'country':'first',\n",
    "    'port-name':'first',\n",
    "    'Description':'first',\n",
    "    'Export_sector':'sum',\n",
    "    'value_ton_export':'sum',\n",
    "    'Export_value':'sum',\n",
    "    'Export_value_million':'sum'\n",
    "})"
   ]
  },
  {
   "cell_type": "code",
   "execution_count": 27,
   "metadata": {},
   "outputs": [],
   "source": [
    "dfm_exp.reset_index(inplace=True)\n",
    "dfm_imp.reset_index(inplace=True)\n",
    "# dfm.reset_index(inplace=True)"
   ]
  },
  {
   "cell_type": "code",
   "execution_count": 28,
   "metadata": {},
   "outputs": [],
   "source": [
    "dfm = dfm_imp.merge(dfm_exp, on=['ym','Industries','country','port-name','Description'])"
   ]
  },
  {
   "cell_type": "code",
   "execution_count": 29,
   "metadata": {},
   "outputs": [
    {
     "data": {
      "text/html": [
       "<div>\n",
       "<style scoped>\n",
       "    .dataframe tbody tr th:only-of-type {\n",
       "        vertical-align: middle;\n",
       "    }\n",
       "\n",
       "    .dataframe tbody tr th {\n",
       "        vertical-align: top;\n",
       "    }\n",
       "\n",
       "    .dataframe thead th {\n",
       "        text-align: right;\n",
       "    }\n",
       "</style>\n",
       "<table border=\"1\" class=\"dataframe\">\n",
       "  <thead>\n",
       "    <tr style=\"text-align: right;\">\n",
       "      <th></th>\n",
       "      <th>ym</th>\n",
       "      <th>Industries</th>\n",
       "      <th>country</th>\n",
       "      <th>port-name</th>\n",
       "      <th>Description</th>\n",
       "      <th>Import_sector</th>\n",
       "      <th>value_ton_import</th>\n",
       "      <th>Import_value</th>\n",
       "      <th>Import_value_million</th>\n",
       "      <th>Export_sector</th>\n",
       "      <th>value_ton_export</th>\n",
       "      <th>Export_value</th>\n",
       "      <th>Export_value_million</th>\n",
       "    </tr>\n",
       "  </thead>\n",
       "  <tbody>\n",
       "    <tr>\n",
       "      <th>0</th>\n",
       "      <td>2019-01</td>\n",
       "      <td>1</td>\n",
       "      <td>Syria</td>\n",
       "      <td>Al Ladhiqiyah</td>\n",
       "      <td>Agriculture</td>\n",
       "      <td>1490.096302</td>\n",
       "      <td>3486.830410</td>\n",
       "      <td>741742.149715</td>\n",
       "      <td>0.741742</td>\n",
       "      <td>521.094504</td>\n",
       "      <td>3484.602662</td>\n",
       "      <td>614972.655553</td>\n",
       "      <td>0.614973</td>\n",
       "    </tr>\n",
       "    <tr>\n",
       "      <th>1</th>\n",
       "      <td>2019-01</td>\n",
       "      <td>2</td>\n",
       "      <td>Syria</td>\n",
       "      <td>Al Ladhiqiyah</td>\n",
       "      <td>Fishing</td>\n",
       "      <td>9.807004</td>\n",
       "      <td>4623.162713</td>\n",
       "      <td>11334.843468</td>\n",
       "      <td>0.011335</td>\n",
       "      <td>16.268392</td>\n",
       "      <td>843.859566</td>\n",
       "      <td>13728.238066</td>\n",
       "      <td>0.013728</td>\n",
       "    </tr>\n",
       "  </tbody>\n",
       "</table>\n",
       "</div>"
      ],
      "text/plain": [
       "        ym  Industries country      port-name  Description  Import_sector  \\\n",
       "0  2019-01           1   Syria  Al Ladhiqiyah  Agriculture    1490.096302   \n",
       "1  2019-01           2   Syria  Al Ladhiqiyah      Fishing       9.807004   \n",
       "\n",
       "   value_ton_import   Import_value  Import_value_million  Export_sector  \\\n",
       "0       3486.830410  741742.149715              0.741742     521.094504   \n",
       "1       4623.162713   11334.843468              0.011335      16.268392   \n",
       "\n",
       "   value_ton_export   Export_value  Export_value_million  \n",
       "0       3484.602662  614972.655553              0.614973  \n",
       "1        843.859566   13728.238066              0.013728  "
      ]
     },
     "execution_count": 29,
     "metadata": {},
     "output_type": "execute_result"
    }
   ],
   "source": [
    "dfm.head(2)"
   ]
  },
  {
   "cell_type": "code",
   "execution_count": 34,
   "metadata": {},
   "outputs": [],
   "source": [
    "# dfm.to_csv(join(ais_dir, \"paper_trade_values_daily.csv\"))"
   ]
  },
  {
   "cell_type": "code",
   "execution_count": 30,
   "metadata": {},
   "outputs": [],
   "source": [
    "df_agg = dfm[['ym', 'port-name', 'Import_sector', 'Import_value_million', 'Export_sector', 'Export_value_million']]\n",
    "# df_agg = dfm[['ym', 'port-name', 'Export_sector', 'Export_value_million']]"
   ]
  },
  {
   "cell_type": "code",
   "execution_count": 31,
   "metadata": {},
   "outputs": [],
   "source": [
    "df_agg.to_csv(join(ais_dir, \"paper_trade_values_ym.csv\"))"
   ]
  },
  {
   "cell_type": "code",
   "execution_count": 28,
   "metadata": {},
   "outputs": [],
   "source": [
    "df_agg = df_agg.groupby(['ym', 'port-name']).sum()"
   ]
  },
  {
   "cell_type": "code",
   "execution_count": 29,
   "metadata": {},
   "outputs": [],
   "source": [
    "df_agg.reset_index(inplace=True)"
   ]
  },
  {
   "cell_type": "code",
   "execution_count": 53,
   "metadata": {},
   "outputs": [],
   "source": [
    "# df_agg.set_index('date-entry', inplace=True)\n",
    "# df_agg.index = df_agg.index.strftime('%m-%d')\n",
    "# df_agg.reset_index(inplace=True)"
   ]
  },
  {
   "cell_type": "code",
   "execution_count": 54,
   "metadata": {},
   "outputs": [],
   "source": [
    "# x_dates = df_agg['date-entry'].dt.strftime('%Y-%m-%d').sort_values().unique()\n",
    "x_dates = df_agg['ym'].unique()"
   ]
  },
  {
   "cell_type": "code",
   "execution_count": 55,
   "metadata": {},
   "outputs": [
    {
     "data": {
      "image/png": "[encoded data removed]",
      "text/plain": [
       "<Figure size 792x432 with 1 Axes>"
      ]
     },
     "metadata": {
      "needs_background": "light"
     },
     "output_type": "display_data"
    }
   ],
   "source": [
    "fig, ax = plt.subplots(figsize=(11, 6))\n",
    "ax = sns.barplot(data=df_agg, x=\"ym\", y='Export_sector', hue='port-name') # hue=\"polygon_name\", palette=\"tab10\"\n",
    "ax.set(xlabel=\"\", ylabel=\"tons\", title=\"Exports in Al Ladhiqiyah\")\n",
    "ax.set_xticklabels(labels=x_dates, rotation=45, ha='right')\n",
    "plt.show()"
   ]
  },
  {
   "cell_type": "code",
   "execution_count": 59,
   "metadata": {},
   "outputs": [
    {
     "data": {
      "text/html": [
       "<div>\n",
       "<style scoped>\n",
       "    .dataframe tbody tr th:only-of-type {\n",
       "        vertical-align: middle;\n",
       "    }\n",
       "\n",
       "    .dataframe tbody tr th {\n",
       "        vertical-align: top;\n",
       "    }\n",
       "\n",
       "    .dataframe thead th {\n",
       "        text-align: right;\n",
       "    }\n",
       "</style>\n",
       "<table border=\"1\" class=\"dataframe\">\n",
       "  <thead>\n",
       "    <tr style=\"text-align: right;\">\n",
       "      <th></th>\n",
       "      <th>ym</th>\n",
       "      <th>Import_sector</th>\n",
       "      <th>Export_sector</th>\n",
       "    </tr>\n",
       "  </thead>\n",
       "  <tbody>\n",
       "    <tr>\n",
       "      <th>0</th>\n",
       "      <td>2019-01</td>\n",
       "      <td>10252.467190</td>\n",
       "      <td>2078.347219</td>\n",
       "    </tr>\n",
       "    <tr>\n",
       "      <th>1</th>\n",
       "      <td>2019-02</td>\n",
       "      <td>21552.831445</td>\n",
       "      <td>10531.199636</td>\n",
       "    </tr>\n",
       "    <tr>\n",
       "      <th>2</th>\n",
       "      <td>2019-03</td>\n",
       "      <td>40068.502797</td>\n",
       "      <td>99.536773</td>\n",
       "    </tr>\n",
       "    <tr>\n",
       "      <th>3</th>\n",
       "      <td>2019-04</td>\n",
       "      <td>92870.800027</td>\n",
       "      <td>3133.678289</td>\n",
       "    </tr>\n",
       "    <tr>\n",
       "      <th>4</th>\n",
       "      <td>2019-05</td>\n",
       "      <td>84045.322427</td>\n",
       "      <td>2020.237526</td>\n",
       "    </tr>\n",
       "    <tr>\n",
       "      <th>5</th>\n",
       "      <td>2019-06</td>\n",
       "      <td>61722.554470</td>\n",
       "      <td>20171.920608</td>\n",
       "    </tr>\n",
       "    <tr>\n",
       "      <th>6</th>\n",
       "      <td>2019-07</td>\n",
       "      <td>132905.384189</td>\n",
       "      <td>8629.128093</td>\n",
       "    </tr>\n",
       "    <tr>\n",
       "      <th>7</th>\n",
       "      <td>2019-08</td>\n",
       "      <td>127013.598795</td>\n",
       "      <td>2219.734645</td>\n",
       "    </tr>\n",
       "    <tr>\n",
       "      <th>8</th>\n",
       "      <td>2019-09</td>\n",
       "      <td>81125.580826</td>\n",
       "      <td>5753.666780</td>\n",
       "    </tr>\n",
       "    <tr>\n",
       "      <th>9</th>\n",
       "      <td>2019-10</td>\n",
       "      <td>60233.734180</td>\n",
       "      <td>298.937433</td>\n",
       "    </tr>\n",
       "    <tr>\n",
       "      <th>10</th>\n",
       "      <td>2019-11</td>\n",
       "      <td>58269.035673</td>\n",
       "      <td>954.272547</td>\n",
       "    </tr>\n",
       "    <tr>\n",
       "      <th>11</th>\n",
       "      <td>2019-12</td>\n",
       "      <td>56825.654440</td>\n",
       "      <td>277.829929</td>\n",
       "    </tr>\n",
       "    <tr>\n",
       "      <th>12</th>\n",
       "      <td>2020-01</td>\n",
       "      <td>49534.107862</td>\n",
       "      <td>11744.626867</td>\n",
       "    </tr>\n",
       "    <tr>\n",
       "      <th>13</th>\n",
       "      <td>2020-02</td>\n",
       "      <td>30987.458793</td>\n",
       "      <td>40406.547571</td>\n",
       "    </tr>\n",
       "    <tr>\n",
       "      <th>14</th>\n",
       "      <td>2020-03</td>\n",
       "      <td>106768.805854</td>\n",
       "      <td>363.708894</td>\n",
       "    </tr>\n",
       "    <tr>\n",
       "      <th>15</th>\n",
       "      <td>2020-04</td>\n",
       "      <td>115969.893248</td>\n",
       "      <td>2261.661102</td>\n",
       "    </tr>\n",
       "    <tr>\n",
       "      <th>16</th>\n",
       "      <td>2020-05</td>\n",
       "      <td>91177.687034</td>\n",
       "      <td>1613.100129</td>\n",
       "    </tr>\n",
       "    <tr>\n",
       "      <th>17</th>\n",
       "      <td>2020-06</td>\n",
       "      <td>90153.705399</td>\n",
       "      <td>11788.226101</td>\n",
       "    </tr>\n",
       "    <tr>\n",
       "      <th>18</th>\n",
       "      <td>2020-07</td>\n",
       "      <td>139634.886460</td>\n",
       "      <td>11274.510989</td>\n",
       "    </tr>\n",
       "    <tr>\n",
       "      <th>19</th>\n",
       "      <td>2020-08</td>\n",
       "      <td>63784.615695</td>\n",
       "      <td>531.019517</td>\n",
       "    </tr>\n",
       "    <tr>\n",
       "      <th>20</th>\n",
       "      <td>2020-09</td>\n",
       "      <td>121556.700939</td>\n",
       "      <td>13765.507983</td>\n",
       "    </tr>\n",
       "  </tbody>\n",
       "</table>\n",
       "</div>"
      ],
      "text/plain": [
       "         ym  Import_sector  Export_sector\n",
       "0   2019-01   10252.467190    2078.347219\n",
       "1   2019-02   21552.831445   10531.199636\n",
       "2   2019-03   40068.502797      99.536773\n",
       "3   2019-04   92870.800027    3133.678289\n",
       "4   2019-05   84045.322427    2020.237526\n",
       "5   2019-06   61722.554470   20171.920608\n",
       "6   2019-07  132905.384189    8629.128093\n",
       "7   2019-08  127013.598795    2219.734645\n",
       "8   2019-09   81125.580826    5753.666780\n",
       "9   2019-10   60233.734180     298.937433\n",
       "10  2019-11   58269.035673     954.272547\n",
       "11  2019-12   56825.654440     277.829929\n",
       "12  2020-01   49534.107862   11744.626867\n",
       "13  2020-02   30987.458793   40406.547571\n",
       "14  2020-03  106768.805854     363.708894\n",
       "15  2020-04  115969.893248    2261.661102\n",
       "16  2020-05   91177.687034    1613.100129\n",
       "17  2020-06   90153.705399   11788.226101\n",
       "18  2020-07  139634.886460   11274.510989\n",
       "19  2020-08   63784.615695     531.019517\n",
       "20  2020-09  121556.700939   13765.507983"
      ]
     },
     "execution_count": 59,
     "metadata": {},
     "output_type": "execute_result"
    }
   ],
   "source": [
    "df_agg[['ym','Import_sector','Export_sector']]"
   ]
  },
  {
   "cell_type": "code",
   "execution_count": 57,
   "metadata": {},
   "outputs": [
    {
     "data": {
      "text/plain": [
       "<matplotlib.legend.Legend at 0x7f06474e8820>"
      ]
     },
     "execution_count": 57,
     "metadata": {},
     "output_type": "execute_result"
    },
    {
     "data": {
      "image/png": "[encoded data removed]",
      "text/plain": [
       "<Figure size 792x432 with 1 Axes>"
      ]
     },
     "metadata": {
      "needs_background": "light"
     },
     "output_type": "display_data"
    }
   ],
   "source": [
    "fig, ax = plt.subplots(figsize=(11, 6))\n",
    "df_agg[['ym','Import_sector','Export_sector']].set_index('ym').plot(ax = ax, kind='bar', stacked=False)\n",
    "ax.set_xticklabels(labels=x_dates, rotation=45, ha='right')\n",
    "ax.set(xlabel=\"\", ylabel=\"tonnes\", title=\"Estimated export/imports in Latakia\")\n",
    "plt.legend(title='', labels=['Imports', 'Exports']) #loc='upper right', labels=['Raw Data', 'Interpolated']"
   ]
  },
  {
   "cell_type": "code",
   "execution_count": 58,
   "metadata": {},
   "outputs": [
    {
     "data": {
      "text/plain": [
       "<matplotlib.legend.Legend at 0x7f06ef906a30>"
      ]
     },
     "execution_count": 58,
     "metadata": {},
     "output_type": "execute_result"
    },
    {
     "data": {
      "image/png": "[encoded data removed]",
      "text/plain": [
       "<Figure size 792x432 with 1 Axes>"
      ]
     },
     "metadata": {
      "needs_background": "light"
     },
     "output_type": "display_data"
    }
   ],
   "source": [
    "fig, ax = plt.subplots(figsize=(11, 6))\n",
    "df_agg[['ym','Import_value_million','Export_value_million']].set_index('ym').plot(ax = ax, kind='bar', stacked=False)\n",
    "ax.set_xticklabels(labels=x_dates, rotation=45, ha='right')\n",
    "ax.set(xlabel=\"\", ylabel=\"USD (million)\", title=\"Estimated export/imports in Latakia\")\n",
    "plt.legend(title='', labels=['Imports', 'Exports']) #loc='upper right', labels=['Raw Data', 'Interpolated']"
   ]
  },
  {
   "cell_type": "code",
   "execution_count": null,
   "metadata": {},
   "outputs": [],
   "source": []
  },
  {
   "cell_type": "code",
   "execution_count": null,
   "metadata": {},
   "outputs": [],
   "source": []
  },
  {
   "cell_type": "code",
   "execution_count": null,
   "metadata": {},
   "outputs": [],
   "source": []
  },
  {
   "cell_type": "code",
   "execution_count": 46,
   "metadata": {},
   "outputs": [
    {
     "data": {
      "image/png": "[encoded data removed]",
      "text/plain": [
       "<Figure size 792x432 with 1 Axes>"
      ]
     },
     "metadata": {
      "needs_background": "light"
     },
     "output_type": "display_data"
    }
   ],
   "source": [
    "fig, ax = plt.subplots(figsize=(11, 6))\n",
    "ax = sns.barplot(data=df_agg, x=\"ym\", y='Export_sector', hue='port-name') # hue=\"polygon_name\", palette=\"tab10\"\n",
    "ax.set(xlabel=\"\", ylabel=\"tons\", title=\"Exports in Al Ladhiqiyah\")\n",
    "ax.set_xticklabels(labels=x_dates, rotation=45, ha='right')\n",
    "plt.show()"
   ]
  },
  {
   "cell_type": "code",
   "execution_count": 49,
   "metadata": {},
   "outputs": [
    {
     "data": {
      "image/png": "[encoded data removed]",
      "text/plain": [
       "<Figure size 792x432 with 1 Axes>"
      ]
     },
     "metadata": {
      "needs_background": "light"
     },
     "output_type": "display_data"
    }
   ],
   "source": [
    "fig, ax = plt.subplots(figsize=(11, 6))\n",
    "ax = sns.barplot(data=df_agg, x=\"ym\", y='Export_value_million', hue='port-name') # hue=\"polygon_name\", palette=\"tab10\"\n",
    "ax.set(xlabel=\"\", ylabel=\"US$ (mil)\", title=\"Exports in Al Ladhiqiyah\")\n",
    "ax.set_xticklabels(labels=x_dates, rotation=45, ha='right')\n",
    "plt.show()"
   ]
  },
  {
   "cell_type": "code",
   "execution_count": 26,
   "metadata": {},
   "outputs": [],
   "source": [
    "# fig, ax = plt.subplots(figsize=(11, 6))\n",
    "# ax = sns.barplot(data=df_agg, x=\"date-entry\", y='Export_sector', hue='port-name') # hue=\"polygon_name\", palette=\"tab10\"\n",
    "# ax.set(xlabel=\"\", ylabel=\"\", title=\"Exports\")\n",
    "# # plt.legend(title='') #loc='upper right', labels=['Raw Data', 'Interpolated']\n",
    "# ax.set_xticklabels(labels=x_dates, rotation=45, ha='right')\n",
    "# plt.show()\n",
    "# plt.savefig(\"../docs/images/Output_Mining_Gas.png\", facecolor='white', dpi=300)"
   ]
  },
  {
   "cell_type": "code",
   "execution_count": 61,
   "metadata": {},
   "outputs": [],
   "source": [
    "df2 = dfm[['ym', 'Description', 'Export_value_million']].copy().set_index('ym')"
   ]
  },
  {
   "cell_type": "code",
   "execution_count": 62,
   "metadata": {},
   "outputs": [],
   "source": [
    "df2 = df2.pivot(columns='Description', values='Export_value_million').fillna(0)"
   ]
  },
  {
   "cell_type": "code",
   "execution_count": 63,
   "metadata": {},
   "outputs": [
    {
     "data": {
      "text/plain": [
       "<matplotlib.legend.Legend at 0x7f06472ac1c0>"
      ]
     },
     "execution_count": 63,
     "metadata": {},
     "output_type": "execute_result"
    },
    {
     "data": {
      "image/png": "[encoded data removed]",
      "text/plain": [
       "<Figure size 792x432 with 1 Axes>"
      ]
     },
     "metadata": {
      "needs_background": "light"
     },
     "output_type": "display_data"
    }
   ],
   "source": [
    "fig, ax = plt.subplots(figsize=(11, 6))\n",
    "df2.plot(ax = ax, kind='bar', stacked=True)\n",
    "ax.set_xticklabels(labels=x_dates, rotation=45, ha='right')\n",
    "ax.set(xlabel=\"\", ylabel=\"\", title=\"Exports Value in Latakia\")\n",
    "plt.legend(title='') #loc='upper right', labels=['Raw Data', 'Interpolated']"
   ]
  },
  {
   "cell_type": "code",
   "execution_count": 53,
   "metadata": {},
   "outputs": [],
   "source": [
    "df2 = dfm[['ym', 'Description', 'Export_sector']].copy().set_index('ym')"
   ]
  },
  {
   "cell_type": "code",
   "execution_count": 54,
   "metadata": {},
   "outputs": [],
   "source": [
    "df2 = df2.pivot(columns='Description', values='Export_sector').fillna(0)"
   ]
  },
  {
   "cell_type": "code",
   "execution_count": 55,
   "metadata": {},
   "outputs": [
    {
     "data": {
      "text/plain": [
       "<matplotlib.legend.Legend at 0x7f5aa1f39fd0>"
      ]
     },
     "execution_count": 55,
     "metadata": {},
     "output_type": "execute_result"
    },
    {
     "data": {
      "image/png": "[encoded data removed]",
      "text/plain": [
       "<Figure size 792x432 with 1 Axes>"
      ]
     },
     "metadata": {
      "needs_background": "light"
     },
     "output_type": "display_data"
    }
   ],
   "source": [
    "fig, ax = plt.subplots(figsize=(11, 6))\n",
    "df2.plot(ax = ax, kind='bar', stacked=True)\n",
    "ax.set_xticklabels(labels=x_dates, rotation=45, ha='right')\n",
    "ax.set(xlabel=\"\", ylabel=\"\", title=\"Exports\")\n",
    "plt.legend(title='') #loc='upper right', labels=['Raw Data', 'Interpolated']"
   ]
  },
  {
   "cell_type": "code",
   "execution_count": null,
   "metadata": {},
   "outputs": [],
   "source": []
  },
  {
   "cell_type": "code",
   "execution_count": null,
   "metadata": {},
   "outputs": [],
   "source": []
  },
  {
   "cell_type": "code",
   "execution_count": null,
   "metadata": {},
   "outputs": [],
   "source": []
  }
 ],
 "metadata": {
  "kernelspec": {
   "display_name": "Earth Engine",
   "language": "python",
   "name": "ee"
  },
  "language_info": {
   "codemirror_mode": {
    "name": "ipython",
    "version": 3
   },
   "file_extension": ".py",
   "mimetype": "text/x-python",
   "name": "python",
   "nbconvert_exporter": "python",
   "pygments_lexer": "ipython3",
   "version": "3.9.7"
  }
 },
 "nbformat": 4,
 "nbformat_minor": 2
}
