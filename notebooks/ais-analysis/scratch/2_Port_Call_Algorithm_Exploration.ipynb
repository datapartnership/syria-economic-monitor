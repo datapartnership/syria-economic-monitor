{
 "cells": [
  {
   "cell_type": "markdown",
   "metadata": {},
   "source": [
    "Notebook to convert AIS points into trade routes / journeys"
   ]
  },
  {
   "cell_type": "code",
   "execution_count": 1,
   "metadata": {},
   "outputs": [],
   "source": [
    "import os\n",
    "from os.path import join\n",
    "from glob import glob\n",
    "import pandas as pd\n",
    "import geopandas as gpd\n",
    "import folium\n",
    "from shapely.geometry import Point\n",
    "import folium.plugins as plugins\n",
    "import seaborn as sns\n",
    "from matplotlib import pyplot as plt\n",
    "\n",
    "import numpy as np\n",
    "import datetime\n",
    "from datetime import timedelta"
   ]
  },
  {
   "cell_type": "code",
   "execution_count": 2,
   "metadata": {},
   "outputs": [],
   "source": [
    "pd.options.display.max_columns = None"
   ]
  },
  {
   "cell_type": "code",
   "execution_count": 3,
   "metadata": {},
   "outputs": [],
   "source": [
    "ais_dir = join(os.path.expanduser(\"~\"), 'data', 'AIS')\n",
    "data_dir = join(ais_dir, 'Syria')"
   ]
  },
  {
   "cell_type": "code",
   "execution_count": 4,
   "metadata": {},
   "outputs": [],
   "source": [
    "data_files = glob(data_dir+\"/*.csv\")"
   ]
  },
  {
   "cell_type": "code",
   "execution_count": 5,
   "metadata": {},
   "outputs": [],
   "source": [
    "dfs = [pd.read_csv(f, index_col=0) for f in data_files]"
   ]
  },
  {
   "cell_type": "code",
   "execution_count": 6,
   "metadata": {},
   "outputs": [],
   "source": [
    "df = pd.concat(dfs)"
   ]
  },
  {
   "cell_type": "code",
   "execution_count": 7,
   "metadata": {},
   "outputs": [],
   "source": [
    "def substract_seconds(x, y):\n",
    "    return pd.to_datetime(x, format='%Y-%m-%d %H:%M:%S') - pd.Timedelta(y, unit='s')\n",
    "\n",
    "\n",
    "def passing_by(df):\n",
    "    if (df[\"turn_around_time\"] < 3) and (0 < np.abs(df['heading-diff']) < 75):\n",
    "        return 1\n",
    "    elif (df[\"turn_around_time\"] < 3) and (np.abs(df['heading-diff']) >= 75):\n",
    "        return 2\n",
    "    else:\n",
    "        return 3\n",
    "\n",
    "def cumsum_rows(df):\n",
    "    mask = pd.isna(df).astype(bool)\n",
    "    # compute cumsum across rows fillna with ffill\n",
    "    cumulative = df.cumsum(1).fillna(method='ffill', axis=1).fillna(0)\n",
    "    # get the values of cumulative where nan is True use the same method\n",
    "    restart = cumulative[mask].fillna(method='ffill', axis=1).fillna(0)\n",
    "    # set the result\n",
    "    result = (cumulative - restart)\n",
    "    result[mask] = np.nan\n",
    "    return result\n",
    "\n",
    "def week_format(date0,date1,date_format):\n",
    "    d1 = datetime.datetime.strptime(str(date0), date_format).date()\n",
    "    d2 = datetime.datetime.strptime(str(date1), date_format).date()\n",
    "    d = d1\n",
    "    step = datetime.timedelta(days=90)\n",
    "\n",
    "    list_weeks = []\n",
    "    while d < d2:\n",
    "        list_weeks.append(d.strftime(date_format))\n",
    "        d += step\n",
    "    list_weeks.append(str(date1))\n",
    "    return list_weeks\n",
    "\n",
    "\n",
    "def get_list_dates(date0,date1):\n",
    "    #### get the list of dates to merge later on\n",
    "    datetime_object1 = datetime.datetime.strptime(date0, '%Y-%m-%d')\n",
    "    datetime_object2 = datetime.datetime.strptime(date1, '%Y-%m-%d')\n",
    "\n",
    "    datetime_diff = (datetime_object2-datetime_object1).days\n",
    "\n",
    "    list_dates = pd.date_range(str(date0), periods=datetime_diff+1, freq='1D')\n",
    "    list_dates_df = pd.DataFrame({'Date':list_dates.date.astype(str)})\n",
    "    list_dates_df = list_dates_df.set_index('Date')\n",
    "\n",
    "    return list_dates_df"
   ]
  },
  {
   "cell_type": "code",
   "execution_count": 8,
   "metadata": {},
   "outputs": [
    {
     "data": {
      "text/plain": [
       "array(['AL LADHIQIYAH', 'TARTUS', 'BANIYAS'], dtype=object)"
      ]
     },
     "execution_count": 8,
     "metadata": {},
     "output_type": "execute_result"
    }
   ],
   "source": [
    "df.polygon_name.unique()"
   ]
  },
  {
   "cell_type": "code",
   "execution_count": 9,
   "metadata": {},
   "outputs": [],
   "source": [
    "port = \"AL LADHIQIYAH\"\n",
    "data = df.loc[df.polygon_name==port].copy()\n",
    "data_raw = data.copy()\n",
    "date0 = '2018-12-01'\n",
    "date1 = '2022-08-31'\n",
    "country = \"Syria\""
   ]
  },
  {
   "cell_type": "code",
   "execution_count": 10,
   "metadata": {},
   "outputs": [],
   "source": [
    "data = data.loc[~data['nav_status'].isin(['At Anchor'])]"
   ]
  },
  {
   "cell_type": "code",
   "execution_count": 11,
   "metadata": {},
   "outputs": [],
   "source": [
    "data = data.loc[~data.mmsi.isna()]"
   ]
  },
  {
   "cell_type": "code",
   "execution_count": 12,
   "metadata": {},
   "outputs": [],
   "source": [
    "data.loc[:, \"mmsi\"] = data.loc[:, \"mmsi\"].astype('int')"
   ]
  },
  {
   "cell_type": "code",
   "execution_count": 13,
   "metadata": {},
   "outputs": [
    {
     "data": {
      "text/plain": [
       "(57088, 70023)"
      ]
     },
     "execution_count": 13,
     "metadata": {},
     "output_type": "execute_result"
    }
   ],
   "source": [
    "len(data), len(data_raw)"
   ]
  },
  {
   "cell_type": "code",
   "execution_count": 14,
   "metadata": {},
   "outputs": [
    {
     "data": {
      "text/plain": [
       "90000    2020-08-31 23:06:45\n",
       "90001    2020-08-31 22:11:15\n",
       "90002    2020-08-31 15:20:19\n",
       "90003    2020-08-31 18:10:34\n",
       "90004    2020-08-31 11:38:01\n",
       "Name: dt_pos_utc, dtype: object"
      ]
     },
     "execution_count": 14,
     "metadata": {},
     "output_type": "execute_result"
    }
   ],
   "source": [
    "data['dt_pos_utc'].head()"
   ]
  },
  {
   "cell_type": "code",
   "execution_count": 15,
   "metadata": {},
   "outputs": [
    {
     "data": {
      "text/plain": [
       "563044300    3466\n",
       "477552700    3221\n",
       "468395000    3022\n",
       "353150000    2753\n",
       "271044398    2486\n",
       "Name: mmsi, dtype: int64"
      ]
     },
     "execution_count": 15,
     "metadata": {},
     "output_type": "execute_result"
    }
   ],
   "source": [
    "data.mmsi.value_counts().head()"
   ]
  },
  {
   "cell_type": "code",
   "execution_count": 16,
   "metadata": {},
   "outputs": [],
   "source": [
    "top_mmsi = data.mmsi.value_counts().index[0]"
   ]
  },
  {
   "cell_type": "code",
   "execution_count": 46,
   "metadata": {},
   "outputs": [
    {
     "data": {
      "text/plain": [
       "563044300"
      ]
     },
     "execution_count": 46,
     "metadata": {},
     "output_type": "execute_result"
    }
   ],
   "source": [
    "top_mmsi"
   ]
  },
  {
   "cell_type": "code",
   "execution_count": 17,
   "metadata": {},
   "outputs": [],
   "source": [
    "data[['Date','Time']] = data.dt_pos_utc.str.split(' ',expand=True)"
   ]
  },
  {
   "cell_type": "code",
   "execution_count": 18,
   "metadata": {},
   "outputs": [],
   "source": [
    "data['hour'] = pd.to_datetime(data['Time'], format='%H:%M:%S',errors = 'coerce').dt.hour\n",
    "data['dtg'] = pd.to_datetime(data['Date'] + ' ' + data['Time'])"
   ]
  },
  {
   "cell_type": "code",
   "execution_count": 19,
   "metadata": {},
   "outputs": [],
   "source": [
    "data = data.sort_values(by=['dtg'])\n",
    "data_new_subset = data[['mmsi','vessel_type','vessel_type_code','draught','length','width','longitude','latitude','Date','Time','dtg','hour','nav_status','heading','vessel_type_main','vessel_type_sub']]"
   ]
  },
  {
   "cell_type": "code",
   "execution_count": 20,
   "metadata": {},
   "outputs": [
    {
     "data": {
      "text/html": [
       "<div>\n",
       "<style scoped>\n",
       "    .dataframe tbody tr th:only-of-type {\n",
       "        vertical-align: middle;\n",
       "    }\n",
       "\n",
       "    .dataframe tbody tr th {\n",
       "        vertical-align: top;\n",
       "    }\n",
       "\n",
       "    .dataframe thead th {\n",
       "        text-align: right;\n",
       "    }\n",
       "</style>\n",
       "<table border=\"1\" class=\"dataframe\">\n",
       "  <thead>\n",
       "    <tr style=\"text-align: right;\">\n",
       "      <th></th>\n",
       "      <th>mmsi</th>\n",
       "      <th>vessel_type</th>\n",
       "      <th>vessel_type_code</th>\n",
       "      <th>draught</th>\n",
       "      <th>length</th>\n",
       "      <th>width</th>\n",
       "      <th>longitude</th>\n",
       "      <th>latitude</th>\n",
       "      <th>Date</th>\n",
       "      <th>Time</th>\n",
       "      <th>dtg</th>\n",
       "      <th>hour</th>\n",
       "      <th>nav_status</th>\n",
       "      <th>heading</th>\n",
       "      <th>vessel_type_main</th>\n",
       "      <th>vessel_type_sub</th>\n",
       "    </tr>\n",
       "  </thead>\n",
       "  <tbody>\n",
       "    <tr>\n",
       "      <th>0</th>\n",
       "      <td>312945000</td>\n",
       "      <td>Cargo</td>\n",
       "      <td>NaN</td>\n",
       "      <td>6.0</td>\n",
       "      <td>171.0</td>\n",
       "      <td>27.0</td>\n",
       "      <td>35.75975</td>\n",
       "      <td>35.526542</td>\n",
       "      <td>2018-12-02</td>\n",
       "      <td>19:31:21</td>\n",
       "      <td>2018-12-02 19:31:21</td>\n",
       "      <td>19</td>\n",
       "      <td>Under Way Using Engine</td>\n",
       "      <td>78.0</td>\n",
       "      <td>Bulk Carrier</td>\n",
       "      <td>NaN</td>\n",
       "    </tr>\n",
       "    <tr>\n",
       "      <th>1</th>\n",
       "      <td>312945000</td>\n",
       "      <td>Cargo</td>\n",
       "      <td>NaN</td>\n",
       "      <td>6.0</td>\n",
       "      <td>171.0</td>\n",
       "      <td>27.0</td>\n",
       "      <td>35.75975</td>\n",
       "      <td>35.526500</td>\n",
       "      <td>2018-12-03</td>\n",
       "      <td>07:09:27</td>\n",
       "      <td>2018-12-03 07:09:27</td>\n",
       "      <td>7</td>\n",
       "      <td>Under Way Using Engine</td>\n",
       "      <td>78.0</td>\n",
       "      <td>Bulk Carrier</td>\n",
       "      <td>NaN</td>\n",
       "    </tr>\n",
       "  </tbody>\n",
       "</table>\n",
       "</div>"
      ],
      "text/plain": [
       "        mmsi vessel_type  vessel_type_code  draught  length  width  longitude  \\\n",
       "0  312945000       Cargo               NaN      6.0   171.0   27.0   35.75975   \n",
       "1  312945000       Cargo               NaN      6.0   171.0   27.0   35.75975   \n",
       "\n",
       "    latitude        Date      Time                 dtg  hour  \\\n",
       "0  35.526542  2018-12-02  19:31:21 2018-12-02 19:31:21    19   \n",
       "1  35.526500  2018-12-03  07:09:27 2018-12-03 07:09:27     7   \n",
       "\n",
       "               nav_status  heading vessel_type_main vessel_type_sub  \n",
       "0  Under Way Using Engine     78.0     Bulk Carrier             NaN  \n",
       "1  Under Way Using Engine     78.0     Bulk Carrier             NaN  "
      ]
     },
     "execution_count": 20,
     "metadata": {},
     "output_type": "execute_result"
    }
   ],
   "source": [
    "data_new_subset.head(2)"
   ]
  },
  {
   "cell_type": "code",
   "execution_count": 21,
   "metadata": {},
   "outputs": [],
   "source": [
    "### get per day the first and last record per vessel\n",
    "first_day = data_new_subset.drop_duplicates(subset = ['mmsi','Date'],keep='first')\n",
    "last_day = data_new_subset.drop_duplicates(subset = ['mmsi','Date'],keep='last')"
   ]
  },
  {
   "cell_type": "code",
   "execution_count": 22,
   "metadata": {},
   "outputs": [],
   "source": [
    "#### get the list of dates to merge later on\n",
    "list_dates_df = get_list_dates(date0,date1)"
   ]
  },
  {
   "cell_type": "code",
   "execution_count": 23,
   "metadata": {},
   "outputs": [
    {
     "data": {
      "text/html": [
       "<div>\n",
       "<style scoped>\n",
       "    .dataframe tbody tr th:only-of-type {\n",
       "        vertical-align: middle;\n",
       "    }\n",
       "\n",
       "    .dataframe tbody tr th {\n",
       "        vertical-align: top;\n",
       "    }\n",
       "\n",
       "    .dataframe thead th {\n",
       "        text-align: right;\n",
       "    }\n",
       "</style>\n",
       "<table border=\"1\" class=\"dataframe\">\n",
       "  <thead>\n",
       "    <tr style=\"text-align: right;\">\n",
       "      <th></th>\n",
       "      <th>mmsi</th>\n",
       "      <th>vessel_type</th>\n",
       "      <th>vessel_type_code</th>\n",
       "      <th>draught</th>\n",
       "      <th>length</th>\n",
       "      <th>width</th>\n",
       "      <th>longitude</th>\n",
       "      <th>latitude</th>\n",
       "      <th>Date</th>\n",
       "      <th>Time</th>\n",
       "      <th>dtg</th>\n",
       "      <th>hour</th>\n",
       "      <th>nav_status</th>\n",
       "      <th>heading</th>\n",
       "      <th>vessel_type_main</th>\n",
       "      <th>vessel_type_sub</th>\n",
       "    </tr>\n",
       "  </thead>\n",
       "  <tbody>\n",
       "    <tr>\n",
       "      <th>0</th>\n",
       "      <td>312945000</td>\n",
       "      <td>Cargo</td>\n",
       "      <td>NaN</td>\n",
       "      <td>6.0</td>\n",
       "      <td>171.0</td>\n",
       "      <td>27.0</td>\n",
       "      <td>35.75975</td>\n",
       "      <td>35.526542</td>\n",
       "      <td>2018-12-02</td>\n",
       "      <td>19:31:21</td>\n",
       "      <td>2018-12-02 19:31:21</td>\n",
       "      <td>19</td>\n",
       "      <td>Under Way Using Engine</td>\n",
       "      <td>78.0</td>\n",
       "      <td>Bulk Carrier</td>\n",
       "      <td>NaN</td>\n",
       "    </tr>\n",
       "    <tr>\n",
       "      <th>1</th>\n",
       "      <td>312945000</td>\n",
       "      <td>Cargo</td>\n",
       "      <td>NaN</td>\n",
       "      <td>6.0</td>\n",
       "      <td>171.0</td>\n",
       "      <td>27.0</td>\n",
       "      <td>35.75975</td>\n",
       "      <td>35.526500</td>\n",
       "      <td>2018-12-03</td>\n",
       "      <td>07:09:27</td>\n",
       "      <td>2018-12-03 07:09:27</td>\n",
       "      <td>7</td>\n",
       "      <td>Under Way Using Engine</td>\n",
       "      <td>78.0</td>\n",
       "      <td>Bulk Carrier</td>\n",
       "      <td>NaN</td>\n",
       "    </tr>\n",
       "  </tbody>\n",
       "</table>\n",
       "</div>"
      ],
      "text/plain": [
       "        mmsi vessel_type  vessel_type_code  draught  length  width  longitude  \\\n",
       "0  312945000       Cargo               NaN      6.0   171.0   27.0   35.75975   \n",
       "1  312945000       Cargo               NaN      6.0   171.0   27.0   35.75975   \n",
       "\n",
       "    latitude        Date      Time                 dtg  hour  \\\n",
       "0  35.526542  2018-12-02  19:31:21 2018-12-02 19:31:21    19   \n",
       "1  35.526500  2018-12-03  07:09:27 2018-12-03 07:09:27     7   \n",
       "\n",
       "               nav_status  heading vessel_type_main vessel_type_sub  \n",
       "0  Under Way Using Engine     78.0     Bulk Carrier             NaN  \n",
       "1  Under Way Using Engine     78.0     Bulk Carrier             NaN  "
      ]
     },
     "execution_count": 23,
     "metadata": {},
     "output_type": "execute_result"
    }
   ],
   "source": [
    "first_day.head(2)"
   ]
  },
  {
   "cell_type": "code",
   "execution_count": 24,
   "metadata": {},
   "outputs": [],
   "source": [
    "### First day data processing\n",
    "merged_time_series_first_select_1  = first_day[['mmsi','Date','dtg']].copy()\n",
    "merged_time_series_first_select_2  = first_day[['mmsi','vessel_type','Date','dtg','length','width','draught','heading','vessel_type_main','vessel_type_sub']].copy()\n",
    "merged_time_series_first_select_2['Date'] = merged_time_series_first_select_2['Date'].astype(str)\n",
    "merged_time_series_first_select_2.rename(columns={'Date':'date-entry', 'draught':'draught-in','heading':'heading-in'}, inplace = True)"
   ]
  },
  {
   "cell_type": "code",
   "execution_count": 25,
   "metadata": {},
   "outputs": [],
   "source": [
    "### Last day data processing\n",
    "merged_time_series_last_select_1  = last_day[['mmsi','Date','dtg']].copy()\n",
    "merged_time_series_last_select_2  = last_day[['mmsi','Date','dtg','draught','heading']].copy()"
   ]
  },
  {
   "cell_type": "code",
   "execution_count": 26,
   "metadata": {},
   "outputs": [],
   "source": [
    "#### add full date list per mmsi\n",
    "merged_time_series_first_new = merged_time_series_first_select_1.set_index(['mmsi','Date']).unstack(level =0)\n",
    "merged_time_series_first_new = pd.concat([merged_time_series_first_new, list_dates_df], axis=1)\n",
    "merged_time_series_first_new.index.name = 'Date'\n",
    "merged_time_series_first_new = merged_time_series_first_new.stack().unstack(level = 0)"
   ]
  },
  {
   "cell_type": "markdown",
   "metadata": {},
   "source": [
    "Example of first time per day for one vessel"
   ]
  },
  {
   "cell_type": "code",
   "execution_count": 27,
   "metadata": {},
   "outputs": [
    {
     "data": {
      "text/plain": [
       "     Date      \n",
       "dtg  2019-03-13   2019-03-13 11:54:57\n",
       "     2019-03-14   2019-03-14 00:34:21\n",
       "     2019-03-15   2019-03-15 00:46:56\n",
       "     2019-04-06   2019-04-06 22:14:40\n",
       "     2019-04-07   2019-04-07 00:01:09\n",
       "                          ...        \n",
       "     2022-05-06   2022-05-06 00:02:01\n",
       "     2022-06-04   2022-06-04 12:30:42\n",
       "     2022-06-05   2022-06-05 00:23:32\n",
       "     2022-08-26   2022-08-26 17:16:13\n",
       "     2022-08-27   2022-08-27 00:20:16\n",
       "Name: 563044300, Length: 83, dtype: datetime64[ns]"
      ]
     },
     "execution_count": 27,
     "metadata": {},
     "output_type": "execute_result"
    }
   ],
   "source": [
    "merged_time_series_first_new.loc[top_mmsi].dropna()"
   ]
  },
  {
   "cell_type": "code",
   "execution_count": 28,
   "metadata": {},
   "outputs": [],
   "source": [
    "#### add full date list per mmsi\n",
    "merged_time_series_last_new = merged_time_series_last_select_1.set_index(['mmsi','Date']).unstack(level = 0)\n",
    "merged_time_series_last_new = pd.concat([merged_time_series_last_new,list_dates_df], axis=1)\n",
    "merged_time_series_last_new.index.name = 'Date'\n",
    "merged_time_series_last_new = merged_time_series_last_new.stack().unstack(level = 0)"
   ]
  },
  {
   "cell_type": "markdown",
   "metadata": {},
   "source": [
    "Example of last time per day for one vessel"
   ]
  },
  {
   "cell_type": "code",
   "execution_count": 29,
   "metadata": {},
   "outputs": [
    {
     "data": {
      "text/plain": [
       "     Date      \n",
       "dtg  2019-03-13   2019-03-13 23:55:14\n",
       "     2019-03-14   2019-03-14 23:43:46\n",
       "     2019-03-15   2019-03-15 09:45:17\n",
       "     2019-04-06   2019-04-06 23:48:59\n",
       "     2019-04-07   2019-04-07 12:21:06\n",
       "                          ...        \n",
       "     2022-05-06   2022-05-06 19:59:02\n",
       "     2022-06-04   2022-06-04 21:44:08\n",
       "     2022-06-05   2022-06-05 02:50:59\n",
       "     2022-08-26   2022-08-26 23:41:11\n",
       "     2022-08-27   2022-08-27 12:28:05\n",
       "Name: 563044300, Length: 83, dtype: datetime64[ns]"
      ]
     },
     "execution_count": 29,
     "metadata": {},
     "output_type": "execute_result"
    }
   ],
   "source": [
    "merged_time_series_last_new.loc[top_mmsi].dropna()"
   ]
  },
  {
   "cell_type": "code",
   "execution_count": 30,
   "metadata": {},
   "outputs": [],
   "source": [
    "### convert to numeric value to do substraction and then convert back to number of hours\n",
    "t2 = merged_time_series_first_new.astype('datetime64').astype(int).astype(float)\n",
    "t1 = merged_time_series_last_new.astype('datetime64').astype(int).astype(float)\n",
    "time_diff = (t1['dtg']-t2['dtg'])/(3600*1000*1000*1000)\n",
    "time_diff = time_diff.replace(0,np.nan)"
   ]
  },
  {
   "cell_type": "code",
   "execution_count": 31,
   "metadata": {},
   "outputs": [
    {
     "data": {
      "text/plain": [
       "Date\n",
       "2019-03-13    12.004722\n",
       "2019-03-14    23.156944\n",
       "2019-03-15     8.972500\n",
       "2019-04-06     1.571944\n",
       "2019-04-07    12.332500\n",
       "2019-05-11    15.989722\n",
       "2019-06-08     9.876944\n",
       "2019-06-09    13.998333\n",
       "2019-07-07    18.264167\n",
       "2019-08-07    20.453056\n",
       "Name: 563044300, dtype: float64"
      ]
     },
     "execution_count": 31,
     "metadata": {},
     "output_type": "execute_result"
    }
   ],
   "source": [
    "time_diff.loc[top_mmsi].dropna().head(10)"
   ]
  },
  {
   "cell_type": "code",
   "execution_count": 33,
   "metadata": {},
   "outputs": [],
   "source": [
    "time_diff_new = cumsum_rows(time_diff)"
   ]
  },
  {
   "cell_type": "code",
   "execution_count": 34,
   "metadata": {},
   "outputs": [
    {
     "data": {
      "text/plain": [
       "Date\n",
       "2019-03-13    12.004722\n",
       "2019-03-14    35.161667\n",
       "2019-03-15    44.134167\n",
       "2019-04-06     1.571944\n",
       "2019-04-07    13.904444\n",
       "2019-05-11    15.989722\n",
       "2019-06-08     9.876944\n",
       "2019-06-09    23.875278\n",
       "2019-07-07    18.264167\n",
       "2019-08-07    20.453056\n",
       "Name: 563044300, dtype: float64"
      ]
     },
     "execution_count": 34,
     "metadata": {},
     "output_type": "execute_result"
    }
   ],
   "source": [
    "time_diff_new.loc[top_mmsi].dropna().head(10)"
   ]
  },
  {
   "cell_type": "code",
   "execution_count": 43,
   "metadata": {},
   "outputs": [],
   "source": [
    "### derive the port calls and time between coming in and out\n",
    "time_diff_new = cumsum_rows(time_diff)\n",
    "time_diff_new.replace(np.nan,0, inplace = True)\n",
    "time_diff_new = time_diff_new.diff(axis = 1)\n",
    "time_diff_new = time_diff_new[time_diff_new < 0]\n",
    "cols = time_diff_new.columns[:-1]\n",
    "time_diff_new.drop(time_diff_new.columns[0],axis=1,inplace=True)\n",
    "time_diff_new.columns = cols\n",
    "time_diff_new = time_diff_new * -1\n",
    "time_diff_new = time_diff_new.mask(time_diff_new < 3)"
   ]
  },
  {
   "cell_type": "code",
   "execution_count": 45,
   "metadata": {},
   "outputs": [
    {
     "data": {
      "text/plain": [
       "[44.13416666666667,\n",
       " 13.90444444444445,\n",
       " 15.989722222222227,\n",
       " 23.875277777777782,\n",
       " 18.264166666666668,\n",
       " 20.453055555555565,\n",
       " 21.864444444444445,\n",
       " 19.746944444444438,\n",
       " 18.496944444444438,\n",
       " 26.469444444444434,\n",
       " 27.441666666666663,\n",
       " 29.80694444444441,\n",
       " 37.39333333333332,\n",
       " 20.651388888888903,\n",
       " 22.425833333333344,\n",
       " 22.165833333333353,\n",
       " 24.680555555555543,\n",
       " 20.355555555555554,\n",
       " 13.014166666666654,\n",
       " 20.14833333333337,\n",
       " 14.635833333333323,\n",
       " 18.41638888888889,\n",
       " 21.203333333333376,\n",
       " 15.094166666666752,\n",
       " 29.736944444444475,\n",
       " 26.514999999999986,\n",
       " 21.404166666666583,\n",
       " 29.185277777777742,\n",
       " 19.98249999999996,\n",
       " 20.251666666666665,\n",
       " 20.299722222222158,\n",
       " 32.273333333333426,\n",
       " 22.478333333333353,\n",
       " 18.800555555555547,\n",
       " 22.857222222222276,\n",
       " 42.46527777777783,\n",
       " 42.98138888888889,\n",
       " 20.250833333333276,\n",
       " 11.681388888888819,\n",
       " 18.54638888888894]"
      ]
     },
     "execution_count": 45,
     "metadata": {},
     "output_type": "execute_result"
    }
   ],
   "source": [
    "list(time_diff_new.loc[top_mmsi].dropna())"
   ]
  },
  {
   "cell_type": "code",
   "execution_count": 68,
   "metadata": {},
   "outputs": [],
   "source": [
    "### get the turnaround time\n",
    "turn_around_time = time_diff_new.unstack().dropna().reset_index(level = ['mmsi','Date'])\n",
    "turn_around_time = pd.merge(turn_around_time, merged_time_series_last_select_2, on=['Date','mmsi'])\n",
    "turn_around_time.rename(columns={\"draught\": \"draught-out\",\"dtg\": \"datetime-leave\", 0: \"turn_around_time\", 'Date': 'date-leave','heading':'heading-out'}, inplace = True)"
   ]
  },
  {
   "cell_type": "code",
   "execution_count": 69,
   "metadata": {},
   "outputs": [
    {
     "data": {
      "text/html": [
       "<div>\n",
       "<style scoped>\n",
       "    .dataframe tbody tr th:only-of-type {\n",
       "        vertical-align: middle;\n",
       "    }\n",
       "\n",
       "    .dataframe tbody tr th {\n",
       "        vertical-align: top;\n",
       "    }\n",
       "\n",
       "    .dataframe thead th {\n",
       "        text-align: right;\n",
       "    }\n",
       "</style>\n",
       "<table border=\"1\" class=\"dataframe\">\n",
       "  <thead>\n",
       "    <tr style=\"text-align: right;\">\n",
       "      <th></th>\n",
       "      <th>date-leave</th>\n",
       "      <th>mmsi</th>\n",
       "      <th>turn_around_time</th>\n",
       "      <th>datetime-leave</th>\n",
       "      <th>draught-out</th>\n",
       "      <th>heading-out</th>\n",
       "    </tr>\n",
       "  </thead>\n",
       "  <tbody>\n",
       "    <tr>\n",
       "      <th>24</th>\n",
       "      <td>2019-03-15</td>\n",
       "      <td>563044300</td>\n",
       "      <td>44.134167</td>\n",
       "      <td>2019-03-15 09:45:17</td>\n",
       "      <td>10.2</td>\n",
       "      <td>0.0</td>\n",
       "    </tr>\n",
       "    <tr>\n",
       "      <th>36</th>\n",
       "      <td>2019-04-07</td>\n",
       "      <td>563044300</td>\n",
       "      <td>13.904444</td>\n",
       "      <td>2019-04-07 12:21:06</td>\n",
       "      <td>10.1</td>\n",
       "      <td>0.0</td>\n",
       "    </tr>\n",
       "    <tr>\n",
       "      <th>63</th>\n",
       "      <td>2019-05-11</td>\n",
       "      <td>563044300</td>\n",
       "      <td>15.989722</td>\n",
       "      <td>2019-05-11 23:03:17</td>\n",
       "      <td>10.2</td>\n",
       "      <td>274.0</td>\n",
       "    </tr>\n",
       "    <tr>\n",
       "      <th>93</th>\n",
       "      <td>2019-06-09</td>\n",
       "      <td>563044300</td>\n",
       "      <td>23.875278</td>\n",
       "      <td>2019-06-09 13:59:56</td>\n",
       "      <td>10.2</td>\n",
       "      <td>0.0</td>\n",
       "    </tr>\n",
       "    <tr>\n",
       "      <th>115</th>\n",
       "      <td>2019-07-07</td>\n",
       "      <td>563044300</td>\n",
       "      <td>18.264167</td>\n",
       "      <td>2019-07-07 20:25:18</td>\n",
       "      <td>9.9</td>\n",
       "      <td>0.0</td>\n",
       "    </tr>\n",
       "  </tbody>\n",
       "</table>\n",
       "</div>"
      ],
      "text/plain": [
       "     date-leave       mmsi  turn_around_time      datetime-leave  draught-out  \\\n",
       "24   2019-03-15  563044300         44.134167 2019-03-15 09:45:17         10.2   \n",
       "36   2019-04-07  563044300         13.904444 2019-04-07 12:21:06         10.1   \n",
       "63   2019-05-11  563044300         15.989722 2019-05-11 23:03:17         10.2   \n",
       "93   2019-06-09  563044300         23.875278 2019-06-09 13:59:56         10.2   \n",
       "115  2019-07-07  563044300         18.264167 2019-07-07 20:25:18          9.9   \n",
       "\n",
       "     heading-out  \n",
       "24           0.0  \n",
       "36           0.0  \n",
       "63         274.0  \n",
       "93           0.0  \n",
       "115          0.0  "
      ]
     },
     "execution_count": 69,
     "metadata": {},
     "output_type": "execute_result"
    }
   ],
   "source": [
    "turn_around_time.loc[turn_around_time.mmsi==top_mmsi].head()"
   ]
  },
  {
   "cell_type": "code",
   "execution_count": 70,
   "metadata": {},
   "outputs": [],
   "source": [
    "turn_around_time['seconds'] = turn_around_time['turn_around_time']*3600\n",
    "turn_around_time['datetime-entry'] = turn_around_time.apply(lambda row: substract_seconds(row['datetime-leave'], row['seconds']), axis=1, result_type='reduce')\n",
    "turn_around_time['datetime-entry']  = turn_around_time['datetime-entry'].dt.round('1s')\n",
    "turn_around_time['date-entry'] = turn_around_time['datetime-entry'].dt.date\n",
    "turn_around_time['date-entry'] = turn_around_time['date-entry'].astype(str)"
   ]
  },
  {
   "cell_type": "code",
   "execution_count": 71,
   "metadata": {
    "scrolled": true
   },
   "outputs": [
    {
     "data": {
      "text/html": [
       "<div>\n",
       "<style scoped>\n",
       "    .dataframe tbody tr th:only-of-type {\n",
       "        vertical-align: middle;\n",
       "    }\n",
       "\n",
       "    .dataframe tbody tr th {\n",
       "        vertical-align: top;\n",
       "    }\n",
       "\n",
       "    .dataframe thead th {\n",
       "        text-align: right;\n",
       "    }\n",
       "</style>\n",
       "<table border=\"1\" class=\"dataframe\">\n",
       "  <thead>\n",
       "    <tr style=\"text-align: right;\">\n",
       "      <th></th>\n",
       "      <th>date-leave</th>\n",
       "      <th>mmsi</th>\n",
       "      <th>turn_around_time</th>\n",
       "      <th>datetime-leave</th>\n",
       "      <th>draught-out</th>\n",
       "      <th>heading-out</th>\n",
       "      <th>seconds</th>\n",
       "      <th>datetime-entry</th>\n",
       "      <th>date-entry</th>\n",
       "    </tr>\n",
       "  </thead>\n",
       "  <tbody>\n",
       "    <tr>\n",
       "      <th>24</th>\n",
       "      <td>2019-03-15</td>\n",
       "      <td>563044300</td>\n",
       "      <td>44.134167</td>\n",
       "      <td>2019-03-15 09:45:17</td>\n",
       "      <td>10.2</td>\n",
       "      <td>0.0</td>\n",
       "      <td>158883.0</td>\n",
       "      <td>2019-03-13 13:37:14</td>\n",
       "      <td>2019-03-13</td>\n",
       "    </tr>\n",
       "    <tr>\n",
       "      <th>36</th>\n",
       "      <td>2019-04-07</td>\n",
       "      <td>563044300</td>\n",
       "      <td>13.904444</td>\n",
       "      <td>2019-04-07 12:21:06</td>\n",
       "      <td>10.1</td>\n",
       "      <td>0.0</td>\n",
       "      <td>50056.0</td>\n",
       "      <td>2019-04-06 22:26:50</td>\n",
       "      <td>2019-04-06</td>\n",
       "    </tr>\n",
       "    <tr>\n",
       "      <th>63</th>\n",
       "      <td>2019-05-11</td>\n",
       "      <td>563044300</td>\n",
       "      <td>15.989722</td>\n",
       "      <td>2019-05-11 23:03:17</td>\n",
       "      <td>10.2</td>\n",
       "      <td>274.0</td>\n",
       "      <td>57563.0</td>\n",
       "      <td>2019-05-11 07:03:54</td>\n",
       "      <td>2019-05-11</td>\n",
       "    </tr>\n",
       "    <tr>\n",
       "      <th>93</th>\n",
       "      <td>2019-06-09</td>\n",
       "      <td>563044300</td>\n",
       "      <td>23.875278</td>\n",
       "      <td>2019-06-09 13:59:56</td>\n",
       "      <td>10.2</td>\n",
       "      <td>0.0</td>\n",
       "      <td>85951.0</td>\n",
       "      <td>2019-06-08 14:07:25</td>\n",
       "      <td>2019-06-08</td>\n",
       "    </tr>\n",
       "    <tr>\n",
       "      <th>115</th>\n",
       "      <td>2019-07-07</td>\n",
       "      <td>563044300</td>\n",
       "      <td>18.264167</td>\n",
       "      <td>2019-07-07 20:25:18</td>\n",
       "      <td>9.9</td>\n",
       "      <td>0.0</td>\n",
       "      <td>65751.0</td>\n",
       "      <td>2019-07-07 02:09:27</td>\n",
       "      <td>2019-07-07</td>\n",
       "    </tr>\n",
       "  </tbody>\n",
       "</table>\n",
       "</div>"
      ],
      "text/plain": [
       "     date-leave       mmsi  turn_around_time      datetime-leave  draught-out  \\\n",
       "24   2019-03-15  563044300         44.134167 2019-03-15 09:45:17         10.2   \n",
       "36   2019-04-07  563044300         13.904444 2019-04-07 12:21:06         10.1   \n",
       "63   2019-05-11  563044300         15.989722 2019-05-11 23:03:17         10.2   \n",
       "93   2019-06-09  563044300         23.875278 2019-06-09 13:59:56         10.2   \n",
       "115  2019-07-07  563044300         18.264167 2019-07-07 20:25:18          9.9   \n",
       "\n",
       "     heading-out   seconds      datetime-entry  date-entry  \n",
       "24           0.0  158883.0 2019-03-13 13:37:14  2019-03-13  \n",
       "36           0.0   50056.0 2019-04-06 22:26:50  2019-04-06  \n",
       "63         274.0   57563.0 2019-05-11 07:03:54  2019-05-11  \n",
       "93           0.0   85951.0 2019-06-08 14:07:25  2019-06-08  \n",
       "115          0.0   65751.0 2019-07-07 02:09:27  2019-07-07  "
      ]
     },
     "execution_count": 71,
     "metadata": {},
     "output_type": "execute_result"
    }
   ],
   "source": [
    "turn_around_time.loc[turn_around_time.mmsi==top_mmsi].head()"
   ]
  },
  {
   "cell_type": "code",
   "execution_count": 39,
   "metadata": {},
   "outputs": [],
   "source": [
    "### get the final port calls\n",
    "port_calls = pd.merge(turn_around_time, merged_time_series_first_select_2, on=['date-entry','mmsi'])\n",
    "port_calls['draught-diff'] = port_calls['draught-out'] - port_calls['draught-in']\n",
    "port_calls['heading-diff'] = port_calls['heading-out'] - port_calls['heading-in']"
   ]
  },
  {
   "cell_type": "code",
   "execution_count": 40,
   "metadata": {},
   "outputs": [],
   "source": [
    "### check if vessels are passing by\n",
    "port_calls['passing'] = port_calls.apply(passing_by, axis = 1)\n",
    "port_calls = port_calls[port_calls['passing']!= 1]"
   ]
  },
  {
   "cell_type": "code",
   "execution_count": 41,
   "metadata": {},
   "outputs": [],
   "source": [
    "### add information\n",
    "port_calls['port-name'] = str(port)\n",
    "port_calls['country'] = str(country)"
   ]
  },
  {
   "cell_type": "code",
   "execution_count": 42,
   "metadata": {},
   "outputs": [
    {
     "data": {
      "text/plain": [
       "Index(['date-leave', 'mmsi', 'turn_around_time', 'datetime-leave',\n",
       "       'draught-out', 'heading-out', 'seconds', 'datetime-entry', 'date-entry',\n",
       "       'vessel_type', 'dtg', 'length', 'width', 'draught-in', 'heading-in',\n",
       "       'vessel_type_main', 'vessel_type_sub', 'draught-diff', 'heading-diff',\n",
       "       'passing', 'port-name', 'country'],\n",
       "      dtype='object')"
      ]
     },
     "execution_count": 42,
     "metadata": {},
     "output_type": "execute_result"
    }
   ],
   "source": [
    "port_calls.columns"
   ]
  },
  {
   "cell_type": "code",
   "execution_count": 43,
   "metadata": {},
   "outputs": [
    {
     "data": {
      "text/plain": [
       "793"
      ]
     },
     "execution_count": 43,
     "metadata": {},
     "output_type": "execute_result"
    }
   ],
   "source": [
    "len(port_calls)"
   ]
  },
  {
   "cell_type": "code",
   "execution_count": 44,
   "metadata": {},
   "outputs": [
    {
     "data": {
      "text/html": [
       "<div>\n",
       "<style scoped>\n",
       "    .dataframe tbody tr th:only-of-type {\n",
       "        vertical-align: middle;\n",
       "    }\n",
       "\n",
       "    .dataframe tbody tr th {\n",
       "        vertical-align: top;\n",
       "    }\n",
       "\n",
       "    .dataframe thead th {\n",
       "        text-align: right;\n",
       "    }\n",
       "</style>\n",
       "<table border=\"1\" class=\"dataframe\">\n",
       "  <thead>\n",
       "    <tr style=\"text-align: right;\">\n",
       "      <th></th>\n",
       "      <th>mmsi</th>\n",
       "      <th>turn_around_time</th>\n",
       "      <th>datetime-leave</th>\n",
       "      <th>draught-out</th>\n",
       "      <th>heading-out</th>\n",
       "      <th>datetime-entry</th>\n",
       "      <th>vessel_type</th>\n",
       "      <th>length</th>\n",
       "      <th>width</th>\n",
       "      <th>draught-in</th>\n",
       "      <th>heading-in</th>\n",
       "      <th>draught-diff</th>\n",
       "      <th>heading-diff</th>\n",
       "      <th>port-name</th>\n",
       "    </tr>\n",
       "  </thead>\n",
       "  <tbody>\n",
       "    <tr>\n",
       "      <th>24</th>\n",
       "      <td>271044633</td>\n",
       "      <td>22.245000</td>\n",
       "      <td>2019-03-22 09:29:34</td>\n",
       "      <td>6.2</td>\n",
       "      <td>305.0</td>\n",
       "      <td>2019-03-21 11:14:52</td>\n",
       "      <td>Cargo</td>\n",
       "      <td>151.0</td>\n",
       "      <td>24.0</td>\n",
       "      <td>6.7</td>\n",
       "      <td>86.0</td>\n",
       "      <td>-0.5</td>\n",
       "      <td>219.0</td>\n",
       "      <td>AL LADHIQIYAH</td>\n",
       "    </tr>\n",
       "    <tr>\n",
       "      <th>36</th>\n",
       "      <td>257972000</td>\n",
       "      <td>35.153056</td>\n",
       "      <td>2019-04-14 20:20:55</td>\n",
       "      <td>6.3</td>\n",
       "      <td>333.0</td>\n",
       "      <td>2019-04-13 09:11:44</td>\n",
       "      <td>Cargo</td>\n",
       "      <td>200.0</td>\n",
       "      <td>32.0</td>\n",
       "      <td>6.3</td>\n",
       "      <td>18.0</td>\n",
       "      <td>0.0</td>\n",
       "      <td>315.0</td>\n",
       "      <td>AL LADHIQIYAH</td>\n",
       "    </tr>\n",
       "    <tr>\n",
       "      <th>63</th>\n",
       "      <td>355267000</td>\n",
       "      <td>56.431111</td>\n",
       "      <td>2019-05-16 17:18:11</td>\n",
       "      <td>5.3</td>\n",
       "      <td>275.0</td>\n",
       "      <td>2019-05-14 08:52:19</td>\n",
       "      <td>Cargo</td>\n",
       "      <td>108.0</td>\n",
       "      <td>18.0</td>\n",
       "      <td>6.5</td>\n",
       "      <td>84.0</td>\n",
       "      <td>-1.2</td>\n",
       "      <td>191.0</td>\n",
       "      <td>AL LADHIQIYAH</td>\n",
       "    </tr>\n",
       "    <tr>\n",
       "      <th>93</th>\n",
       "      <td>620575000</td>\n",
       "      <td>8.099722</td>\n",
       "      <td>2019-06-15 15:16:15</td>\n",
       "      <td>6.5</td>\n",
       "      <td>0.0</td>\n",
       "      <td>2019-06-15 07:10:16</td>\n",
       "      <td>Tug</td>\n",
       "      <td>46.0</td>\n",
       "      <td>11.0</td>\n",
       "      <td>6.5</td>\n",
       "      <td>0.0</td>\n",
       "      <td>0.0</td>\n",
       "      <td>0.0</td>\n",
       "      <td>AL LADHIQIYAH</td>\n",
       "    </tr>\n",
       "    <tr>\n",
       "      <th>115</th>\n",
       "      <td>622113176</td>\n",
       "      <td>13.907778</td>\n",
       "      <td>2019-07-12 03:50:59</td>\n",
       "      <td>10.4</td>\n",
       "      <td>47.0</td>\n",
       "      <td>2019-07-11 13:56:31</td>\n",
       "      <td>Cargo</td>\n",
       "      <td>184.0</td>\n",
       "      <td>25.0</td>\n",
       "      <td>10.4</td>\n",
       "      <td>92.0</td>\n",
       "      <td>0.0</td>\n",
       "      <td>-45.0</td>\n",
       "      <td>AL LADHIQIYAH</td>\n",
       "    </tr>\n",
       "  </tbody>\n",
       "</table>\n",
       "</div>"
      ],
      "text/plain": [
       "          mmsi  turn_around_time      datetime-leave  draught-out  \\\n",
       "24   271044633         22.245000 2019-03-22 09:29:34          6.2   \n",
       "36   257972000         35.153056 2019-04-14 20:20:55          6.3   \n",
       "63   355267000         56.431111 2019-05-16 17:18:11          5.3   \n",
       "93   620575000          8.099722 2019-06-15 15:16:15          6.5   \n",
       "115  622113176         13.907778 2019-07-12 03:50:59         10.4   \n",
       "\n",
       "     heading-out      datetime-entry vessel_type  length  width  draught-in  \\\n",
       "24         305.0 2019-03-21 11:14:52       Cargo   151.0   24.0         6.7   \n",
       "36         333.0 2019-04-13 09:11:44       Cargo   200.0   32.0         6.3   \n",
       "63         275.0 2019-05-14 08:52:19       Cargo   108.0   18.0         6.5   \n",
       "93           0.0 2019-06-15 07:10:16         Tug    46.0   11.0         6.5   \n",
       "115         47.0 2019-07-11 13:56:31       Cargo   184.0   25.0        10.4   \n",
       "\n",
       "     heading-in  draught-diff  heading-diff      port-name  \n",
       "24         86.0          -0.5         219.0  AL LADHIQIYAH  \n",
       "36         18.0           0.0         315.0  AL LADHIQIYAH  \n",
       "63         84.0          -1.2         191.0  AL LADHIQIYAH  \n",
       "93          0.0           0.0           0.0  AL LADHIQIYAH  \n",
       "115        92.0           0.0         -45.0  AL LADHIQIYAH  "
      ]
     },
     "execution_count": 44,
     "metadata": {},
     "output_type": "execute_result"
    }
   ],
   "source": [
    "port_calls.loc[turn_around_time.mmsi==top_mmsi].head(5)[['mmsi', 'turn_around_time', 'datetime-leave',\n",
    "       'draught-out', 'heading-out', 'datetime-entry','vessel_type', 'length', 'width', 'draught-in', 'heading-in', 'draught-diff', 'heading-diff', 'port-name']]"
   ]
  },
  {
   "cell_type": "code",
   "execution_count": 45,
   "metadata": {},
   "outputs": [
    {
     "data": {
      "text/html": [
       "<div>\n",
       "<style scoped>\n",
       "    .dataframe tbody tr th:only-of-type {\n",
       "        vertical-align: middle;\n",
       "    }\n",
       "\n",
       "    .dataframe tbody tr th {\n",
       "        vertical-align: top;\n",
       "    }\n",
       "\n",
       "    .dataframe thead th {\n",
       "        text-align: right;\n",
       "    }\n",
       "</style>\n",
       "<table border=\"1\" class=\"dataframe\">\n",
       "  <thead>\n",
       "    <tr style=\"text-align: right;\">\n",
       "      <th></th>\n",
       "      <th>mmsi</th>\n",
       "      <th>turn_around_time</th>\n",
       "      <th>datetime-leave</th>\n",
       "      <th>draught-out</th>\n",
       "      <th>heading-out</th>\n",
       "      <th>datetime-entry</th>\n",
       "      <th>vessel_type</th>\n",
       "      <th>length</th>\n",
       "      <th>width</th>\n",
       "      <th>draught-in</th>\n",
       "      <th>heading-in</th>\n",
       "      <th>draught-diff</th>\n",
       "      <th>heading-diff</th>\n",
       "      <th>port-name</th>\n",
       "    </tr>\n",
       "  </thead>\n",
       "  <tbody>\n",
       "    <tr>\n",
       "      <th>24</th>\n",
       "      <td>271044633</td>\n",
       "      <td>22.245000</td>\n",
       "      <td>2019-03-22 09:29:34</td>\n",
       "      <td>6.2</td>\n",
       "      <td>305.0</td>\n",
       "      <td>2019-03-21 11:14:52</td>\n",
       "      <td>Cargo</td>\n",
       "      <td>151.0</td>\n",
       "      <td>24.0</td>\n",
       "      <td>6.7</td>\n",
       "      <td>86.0</td>\n",
       "      <td>-0.5</td>\n",
       "      <td>219.0</td>\n",
       "      <td>AL LADHIQIYAH</td>\n",
       "    </tr>\n",
       "    <tr>\n",
       "      <th>36</th>\n",
       "      <td>257972000</td>\n",
       "      <td>35.153056</td>\n",
       "      <td>2019-04-14 20:20:55</td>\n",
       "      <td>6.3</td>\n",
       "      <td>333.0</td>\n",
       "      <td>2019-04-13 09:11:44</td>\n",
       "      <td>Cargo</td>\n",
       "      <td>200.0</td>\n",
       "      <td>32.0</td>\n",
       "      <td>6.3</td>\n",
       "      <td>18.0</td>\n",
       "      <td>0.0</td>\n",
       "      <td>315.0</td>\n",
       "      <td>AL LADHIQIYAH</td>\n",
       "    </tr>\n",
       "    <tr>\n",
       "      <th>63</th>\n",
       "      <td>355267000</td>\n",
       "      <td>56.431111</td>\n",
       "      <td>2019-05-16 17:18:11</td>\n",
       "      <td>5.3</td>\n",
       "      <td>275.0</td>\n",
       "      <td>2019-05-14 08:52:19</td>\n",
       "      <td>Cargo</td>\n",
       "      <td>108.0</td>\n",
       "      <td>18.0</td>\n",
       "      <td>6.5</td>\n",
       "      <td>84.0</td>\n",
       "      <td>-1.2</td>\n",
       "      <td>191.0</td>\n",
       "      <td>AL LADHIQIYAH</td>\n",
       "    </tr>\n",
       "    <tr>\n",
       "      <th>93</th>\n",
       "      <td>620575000</td>\n",
       "      <td>8.099722</td>\n",
       "      <td>2019-06-15 15:16:15</td>\n",
       "      <td>6.5</td>\n",
       "      <td>0.0</td>\n",
       "      <td>2019-06-15 07:10:16</td>\n",
       "      <td>Tug</td>\n",
       "      <td>46.0</td>\n",
       "      <td>11.0</td>\n",
       "      <td>6.5</td>\n",
       "      <td>0.0</td>\n",
       "      <td>0.0</td>\n",
       "      <td>0.0</td>\n",
       "      <td>AL LADHIQIYAH</td>\n",
       "    </tr>\n",
       "    <tr>\n",
       "      <th>115</th>\n",
       "      <td>622113176</td>\n",
       "      <td>13.907778</td>\n",
       "      <td>2019-07-12 03:50:59</td>\n",
       "      <td>10.4</td>\n",
       "      <td>47.0</td>\n",
       "      <td>2019-07-11 13:56:31</td>\n",
       "      <td>Cargo</td>\n",
       "      <td>184.0</td>\n",
       "      <td>25.0</td>\n",
       "      <td>10.4</td>\n",
       "      <td>92.0</td>\n",
       "      <td>0.0</td>\n",
       "      <td>-45.0</td>\n",
       "      <td>AL LADHIQIYAH</td>\n",
       "    </tr>\n",
       "  </tbody>\n",
       "</table>\n",
       "</div>"
      ],
      "text/plain": [
       "          mmsi  turn_around_time      datetime-leave  draught-out  \\\n",
       "24   271044633         22.245000 2019-03-22 09:29:34          6.2   \n",
       "36   257972000         35.153056 2019-04-14 20:20:55          6.3   \n",
       "63   355267000         56.431111 2019-05-16 17:18:11          5.3   \n",
       "93   620575000          8.099722 2019-06-15 15:16:15          6.5   \n",
       "115  622113176         13.907778 2019-07-12 03:50:59         10.4   \n",
       "\n",
       "     heading-out      datetime-entry vessel_type  length  width  draught-in  \\\n",
       "24         305.0 2019-03-21 11:14:52       Cargo   151.0   24.0         6.7   \n",
       "36         333.0 2019-04-13 09:11:44       Cargo   200.0   32.0         6.3   \n",
       "63         275.0 2019-05-14 08:52:19       Cargo   108.0   18.0         6.5   \n",
       "93           0.0 2019-06-15 07:10:16         Tug    46.0   11.0         6.5   \n",
       "115         47.0 2019-07-11 13:56:31       Cargo   184.0   25.0        10.4   \n",
       "\n",
       "     heading-in  draught-diff  heading-diff      port-name  \n",
       "24         86.0          -0.5         219.0  AL LADHIQIYAH  \n",
       "36         18.0           0.0         315.0  AL LADHIQIYAH  \n",
       "63         84.0          -1.2         191.0  AL LADHIQIYAH  \n",
       "93          0.0           0.0           0.0  AL LADHIQIYAH  \n",
       "115        92.0           0.0         -45.0  AL LADHIQIYAH  "
      ]
     },
     "execution_count": 45,
     "metadata": {},
     "output_type": "execute_result"
    }
   ],
   "source": [
    "port_calls.loc[turn_around_time.mmsi==top_mmsi].head(5)[['mmsi', 'turn_around_time', 'datetime-leave',\n",
    "       'draught-out', 'heading-out', 'datetime-entry','vessel_type', 'length', 'width', 'draught-in', 'heading-in', 'draught-diff', 'heading-diff', 'port-name']]"
   ]
  },
  {
   "cell_type": "code",
   "execution_count": 46,
   "metadata": {},
   "outputs": [
    {
     "data": {
      "text/plain": [
       "793"
      ]
     },
     "execution_count": 46,
     "metadata": {},
     "output_type": "execute_result"
    }
   ],
   "source": [
    "len(port_calls)"
   ]
  }
 ],
 "metadata": {
  "kernelspec": {
   "display_name": "Earth Engine",
   "language": "python",
   "name": "ee"
  },
  "language_info": {
   "codemirror_mode": {
    "name": "ipython",
    "version": 3
   },
   "file_extension": ".py",
   "mimetype": "text/x-python",
   "name": "python",
   "nbconvert_exporter": "python",
   "pygments_lexer": "ipython3",
   "version": "3.9.7"
  }
 },
 "nbformat": 4,
 "nbformat_minor": 2
}
