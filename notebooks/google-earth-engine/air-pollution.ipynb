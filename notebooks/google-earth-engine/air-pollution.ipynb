{
 "cells": [
  {
   "cell_type": "markdown",
   "metadata": {},
   "source": [
    "# Air Pollution in Syria\n",
    "\n",
    "Air Quality and, in particular, levels of fine particulate matter (e.g., PM2.5 and PM 10 ) over cities can be a proxy for assessment of economic activity and density of city populations (Yailymova et.al., 2023). NO2 along with other NOx reacts with other chemicals in the air to form both particulate matter and ozone. A 2020 study of cities in Sub-Saharan Africa finds that NO2 provides a useful, albeit “noisy”, real-time proxy measure of how COVID-19 has affected [economic activity](https://blogs.worldbank.org/developmenttalk/what-nitrogen-dioxide-emissions-tell-us-about-fragile-recovery-south-asia). Studies also found a clear relationship between NO2 levels and industrial production growth (Deb, et.al., 2020). \n",
    "\n",
    "## Data\n",
    "\n",
    "The data for this was obtained from the Copernicus Satellite Imagery available through Google Earth Engine. We clipped the dataset to get it at a monthly level for each admin 2 region. Nitrogen oxides (NO2 and NO) are important trace gases in the Earth's atmosphere, present in both the troposphere and the stratosphere. They enter the atmosphere as a result of anthropogenic activities (notably fossil fuel combustion and biomass burning) and natural processes (wildfires, lightning, and microbiological processes in soils). Here, NO2 is used to represent concentrations of collective nitrogen oxides because during daytime, i.e. in the presence of sunlight, a photochemical cycle involving ozone (O3) converts NO into NO2 and vice versa on a timescale of minutes.\n",
    "\n",
    "The total vertical column of NO2 is calculated by taking the slant column density (SCD) of NO2, which is the amount of NO2 measured along the line of sight of the satellite instrument, and dividing it by the air mass factor (AMF), which corrects the slant column density for the effect of the path length and the scattering and absorption properties of the atmosphere. The Total Vertical Column Density (VCD) is typically given in molecules per square centimeter (molec/cm²). \n",
    "\n",
    "## References\n",
    "\n",
    "- Deb, P., Furceri, D., Ostry, J. D., & Tawk, N. (2020). The economic effects of COVID-19 containment measures.\n",
    "\n",
    "- Yailymova, H., Kolotii, A., Kussul, N., & Shelestov, A. (2023, July). Air quality as proxy for assesment of economic activity. In IEEE EUROCON 2023-20th International Conference on Smart Technologies (pp. 89-92). IEEE."
   ]
  },
  {
   "cell_type": "code",
   "execution_count": 122,
   "metadata": {
    "tags": [
     "remove-cell"
    ]
   },
   "outputs": [],
   "source": [
    "import pandas as pd\n",
    "import geopandas as gpd\n",
    "import matplotlib.pyplot as plt\n",
    "\n",
    "import bokeh\n",
    "from bokeh.layouts import column\n",
    "from bokeh.models import Legend, TabPanel, Tabs\n",
    "\n",
    "from bokeh.core.validation.warnings import EMPTY_LAYOUT, MISSING_RENDERERS\n",
    "\n",
    "bokeh.core.validation.silence(EMPTY_LAYOUT, True)\n",
    "bokeh.core.validation.silence(MISSING_RENDERERS, True)\n",
    "from bokeh.plotting import figure, show, output_notebook"
   ]
  },
  {
   "cell_type": "code",
   "execution_count": 123,
   "metadata": {
    "tags": [
     "remove-cell"
    ]
   },
   "outputs": [],
   "source": [
    "syria_adm0 = gpd.read_file(\n",
    "    '../../data/boundaries/syr_admin0.shp'\n",
    ")\n",
    "syria_adm1 = gpd.read_file('../../data/boundaries/syr_admin1.shp')\n",
    "syria_adm2 = gpd.read_file('../../data/boundaries/syr_admin2.shp')\n",
    "syria_adm3 = gpd.read_file('../../data/boundaries/syr_admin3.shp')"
   ]
  },
  {
   "cell_type": "code",
   "execution_count": 124,
   "metadata": {
    "tags": [
     "remove-cell"
    ]
   },
   "outputs": [],
   "source": [
    "monthly_no2_adm1 = pd.read_csv('../../data/airpollution/admin1/syria_adm1_no2_monthly_combined.csv')\n",
    "monthly_no2_adm2 = pd.read_csv('../../data/airpollution/admin2/syr_admin2_no2_monthly_combined.csv')\n",
    "monthly_no2_adm3 = pd.read_csv('../../data/airpollution/admin3/syr_admin3_no2_monthly_combined.csv')\n",
    "monthly_no2_adm0 = pd.read_csv('../../data/airpollution/admin0/syr_admin0_no2_monthly_combined.csv')"
   ]
  },
  {
   "cell_type": "code",
   "execution_count": 125,
   "metadata": {
    "tags": [
     "remove-cell"
    ]
   },
   "outputs": [],
   "source": [
    "monthly_no2_national = monthly_no2_adm0.copy()"
   ]
  },
  {
   "cell_type": "code",
   "execution_count": 128,
   "metadata": {
    "tags": [
     "remove-cell"
    ]
   },
   "outputs": [],
   "source": [
    "#\n",
    "# monthly_no2_national.to_csv(\"../../data/air_pollution/Syria_National_NO2.csv\")"
   ]
  },
  {
   "cell_type": "markdown",
   "metadata": {},
   "source": [
    "## Temporal Pollution Trends\n",
    "\n",
    "Now let's create interactive visualizations using Altair that allow for zooming, panning, and hovering over data points."
   ]
  },
  {
   "cell_type": "code",
   "execution_count": 129,
   "metadata": {
    "tags": [
     "remove-cell"
    ]
   },
   "outputs": [
    {
     "data": {
      "text/plain": [
       "DataTransformerRegistry.enable('json')"
      ]
     },
     "execution_count": 129,
     "metadata": {},
     "output_type": "execute_result"
    }
   ],
   "source": [
    "# Import Altair and our custom visualization functions\n",
    "import altair as alt\n",
    "import importlib\n",
    "import airpollution_visuals\n",
    "importlib.reload(airpollution_visuals)  # Reload to get the latest changes\n",
    "from airpollution_visuals import create_interactive_lineplot, create_multi_admin_lineplot\n",
    "\n",
    "# Enable Altair to render in Jupyter notebooks\n",
    "alt.data_transformers.enable('json')"
   ]
  },
  {
   "cell_type": "markdown",
   "metadata": {},
   "source": [
    "### Interactive Features:\n",
    "- **Zoom/Pan**: Click and drag to zoom into specific time periods, use scroll wheel to zoom, double-click to reset\n",
    "- **Legend**: Click on legend items to hide/show specific regions (lines will become faded when deselected)\n",
    "- **Hover**: Hover over data points to see detailed values\n",
    "- **Multiple Selection**: Hold Shift and click legend items to select/deselect multiple regions"
   ]
  },
  {
   "cell_type": "code",
   "execution_count": 130,
   "metadata": {
    "tags": [
     "remove-input"
    ]
   },
   "outputs": [
    {
     "data": {
      "text/html": [
       "\n",
       "<style>\n",
       "  #altair-viz-eb9fae273e5445f09e45740fb3d546e7.vega-embed {\n",
       "    width: 100%;\n",
       "    display: flex;\n",
       "  }\n",
       "\n",
       "  #altair-viz-eb9fae273e5445f09e45740fb3d546e7.vega-embed details,\n",
       "  #altair-viz-eb9fae273e5445f09e45740fb3d546e7.vega-embed details summary {\n",
       "    position: relative;\n",
       "  }\n",
       "</style>\n",
       "<div id=\"altair-viz-eb9fae273e5445f09e45740fb3d546e7\"></div>\n",
       "<script type=\"text/javascript\">\n",
       "  var VEGA_DEBUG = (typeof VEGA_DEBUG == \"undefined\") ? {} : VEGA_DEBUG;\n",
       "  (function(spec, embedOpt){\n",
       "    let outputDiv = document.currentScript.previousElementSibling;\n",
       "    if (outputDiv.id !== \"altair-viz-eb9fae273e5445f09e45740fb3d546e7\") {\n",
       "      outputDiv = document.getElementById(\"altair-viz-eb9fae273e5445f09e45740fb3d546e7\");\n",
       "    }\n",
       "\n",
       "    const paths = {\n",
       "      \"vega\": \"https://cdn.jsdelivr.net/npm/vega@5?noext\",\n",
       "      \"vega-lib\": \"https://cdn.jsdelivr.net/npm/vega-lib?noext\",\n",
       "      \"vega-lite\": \"https://cdn.jsdelivr.net/npm/vega-lite@5.20.1?noext\",\n",
       "      \"vega-embed\": \"https://cdn.jsdelivr.net/npm/vega-embed@6?noext\",\n",
       "    };\n",
       "\n",
       "    function maybeLoadScript(lib, version) {\n",
       "      var key = `${lib.replace(\"-\", \"\")}_version`;\n",
       "      return (VEGA_DEBUG[key] == version) ?\n",
       "        Promise.resolve(paths[lib]) :\n",
       "        new Promise(function(resolve, reject) {\n",
       "          var s = document.createElement('script');\n",
       "          document.getElementsByTagName(\"head\")[0].appendChild(s);\n",
       "          s.async = true;\n",
       "          s.onload = () => {\n",
       "            VEGA_DEBUG[key] = version;\n",
       "            return resolve(paths[lib]);\n",
       "          };\n",
       "          s.onerror = () => reject(`Error loading script: ${paths[lib]}`);\n",
       "          s.src = paths[lib];\n",
       "        });\n",
       "    }\n",
       "\n",
       "    function showError(err) {\n",
       "      outputDiv.innerHTML = `<div class=\"error\" style=\"color:red;\">${err}</div>`;\n",
       "      throw err;\n",
       "    }\n",
       "\n",
       "    function displayChart(vegaEmbed) {\n",
       "      vegaEmbed(outputDiv, spec, embedOpt)\n",
       "        .catch(err => showError(`Javascript Error: ${err.message}<br>This usually means there's a typo in your chart specification. See the javascript console for the full traceback.`));\n",
       "    }\n",
       "\n",
       "    if(typeof define === \"function\" && define.amd) {\n",
       "      requirejs.config({paths});\n",
       "      let deps = [\"vega-embed\"];\n",
       "      require(deps, displayChart, err => showError(`Error loading script: ${err.message}`));\n",
       "    } else {\n",
       "      maybeLoadScript(\"vega\", \"5\")\n",
       "        .then(() => maybeLoadScript(\"vega-lite\", \"5.20.1\"))\n",
       "        .then(() => maybeLoadScript(\"vega-embed\", \"6\"))\n",
       "        .catch(showError)\n",
       "        .then(() => displayChart(vegaEmbed));\n",
       "    }\n",
       "  })({\"config\": {\"view\": {\"continuousWidth\": 300, \"continuousHeight\": 300}}, \"data\": {\"url\": \"altair-data-33eb4be43f66386c80093b79deac8c63.json\", \"format\": {\"type\": \"json\"}}, \"mark\": {\"type\": \"line\", \"point\": true, \"strokeWidth\": 2}, \"encoding\": {\"color\": {\"field\": \"NAME_EN\", \"legend\": {\"labelFontSize\": 10, \"title\": \"Region (Click to hide/show)\", \"titleFontSize\": 12}, \"scale\": {\"scheme\": \"category20\"}, \"title\": \"Region (Click to hide/show)\", \"type\": \"nominal\"}, \"opacity\": {\"condition\": {\"param\": \"param_59\", \"value\": 1.0}, \"value\": 0.2}, \"strokeWidth\": {\"condition\": {\"param\": \"param_59\", \"value\": 3}, \"value\": 1}, \"tooltip\": [{\"field\": \"start_date\", \"title\": \"Date\", \"type\": \"temporal\"}, {\"field\": \"mean\", \"title\": \"NO2 Level\", \"type\": \"quantitative\"}, {\"field\": \"NAME_EN\", \"title\": \"Region\", \"type\": \"nominal\"}], \"x\": {\"axis\": {\"format\": \"%Y-%m\"}, \"field\": \"start_date\", \"title\": \"Date\", \"type\": \"temporal\"}, \"y\": {\"field\": \"mean\", \"scale\": {\"zero\": false}, \"title\": \"NO2 Levels\", \"type\": \"quantitative\"}}, \"height\": 400, \"params\": [{\"name\": \"param_60\", \"select\": {\"type\": \"interval\"}, \"bind\": \"scales\"}, {\"name\": \"param_59\", \"select\": {\"type\": \"point\", \"fields\": [\"NAME_EN\"]}, \"bind\": \"legend\"}, {\"name\": \"param_61\", \"select\": {\"type\": \"interval\", \"encodings\": [\"x\", \"y\"]}, \"bind\": \"scales\"}], \"title\": {\"text\": \"National NO2 Levels in Syria\", \"anchor\": \"start\", \"fontSize\": 16, \"subtitle\": \"Source: Sentinel-5P TROPOMI\"}, \"width\": 560, \"$schema\": \"https://vega.github.io/schema/vega-lite/v5.20.1.json\"}, {\"mode\": \"vega-lite\"});\n",
       "</script>"
      ],
      "text/plain": [
       "alt.Chart(...)"
      ]
     },
     "metadata": {},
     "output_type": "display_data"
    }
   ],
   "source": [
    "# Create an interactive line plot for national-level data\n",
    "national_chart = create_interactive_lineplot(\n",
    "    monthly_no2_national,\n",
    "    title=\"National NO2 Levels in Syria\",\n",
    "    subtitle=\"Source: Sentinel-5P TROPOMI\",\n",
    "    categories=\"Syrian Arab Republic\",  # Only show national level\n",
    "    width=560  # 30% smaller than default 800\n",
    ")\n",
    "\n",
    "national_chart.show()"
   ]
  },
  {
   "cell_type": "code",
   "execution_count": 131,
   "metadata": {
    "tags": [
     "remove-input"
    ]
   },
   "outputs": [
    {
     "data": {
      "text/html": [
       "\n",
       "<style>\n",
       "  #altair-viz-5d2cd41ef5bc4ddda7c0487880f52ecd.vega-embed {\n",
       "    width: 100%;\n",
       "    display: flex;\n",
       "  }\n",
       "\n",
       "  #altair-viz-5d2cd41ef5bc4ddda7c0487880f52ecd.vega-embed details,\n",
       "  #altair-viz-5d2cd41ef5bc4ddda7c0487880f52ecd.vega-embed details summary {\n",
       "    position: relative;\n",
       "  }\n",
       "</style>\n",
       "<div id=\"altair-viz-5d2cd41ef5bc4ddda7c0487880f52ecd\"></div>\n",
       "<script type=\"text/javascript\">\n",
       "  var VEGA_DEBUG = (typeof VEGA_DEBUG == \"undefined\") ? {} : VEGA_DEBUG;\n",
       "  (function(spec, embedOpt){\n",
       "    let outputDiv = document.currentScript.previousElementSibling;\n",
       "    if (outputDiv.id !== \"altair-viz-5d2cd41ef5bc4ddda7c0487880f52ecd\") {\n",
       "      outputDiv = document.getElementById(\"altair-viz-5d2cd41ef5bc4ddda7c0487880f52ecd\");\n",
       "    }\n",
       "\n",
       "    const paths = {\n",
       "      \"vega\": \"https://cdn.jsdelivr.net/npm/vega@5?noext\",\n",
       "      \"vega-lib\": \"https://cdn.jsdelivr.net/npm/vega-lib?noext\",\n",
       "      \"vega-lite\": \"https://cdn.jsdelivr.net/npm/vega-lite@5.20.1?noext\",\n",
       "      \"vega-embed\": \"https://cdn.jsdelivr.net/npm/vega-embed@6?noext\",\n",
       "    };\n",
       "\n",
       "    function maybeLoadScript(lib, version) {\n",
       "      var key = `${lib.replace(\"-\", \"\")}_version`;\n",
       "      return (VEGA_DEBUG[key] == version) ?\n",
       "        Promise.resolve(paths[lib]) :\n",
       "        new Promise(function(resolve, reject) {\n",
       "          var s = document.createElement('script');\n",
       "          document.getElementsByTagName(\"head\")[0].appendChild(s);\n",
       "          s.async = true;\n",
       "          s.onload = () => {\n",
       "            VEGA_DEBUG[key] = version;\n",
       "            return resolve(paths[lib]);\n",
       "          };\n",
       "          s.onerror = () => reject(`Error loading script: ${paths[lib]}`);\n",
       "          s.src = paths[lib];\n",
       "        });\n",
       "    }\n",
       "\n",
       "    function showError(err) {\n",
       "      outputDiv.innerHTML = `<div class=\"error\" style=\"color:red;\">${err}</div>`;\n",
       "      throw err;\n",
       "    }\n",
       "\n",
       "    function displayChart(vegaEmbed) {\n",
       "      vegaEmbed(outputDiv, spec, embedOpt)\n",
       "        .catch(err => showError(`Javascript Error: ${err.message}<br>This usually means there's a typo in your chart specification. See the javascript console for the full traceback.`));\n",
       "    }\n",
       "\n",
       "    if(typeof define === \"function\" && define.amd) {\n",
       "      requirejs.config({paths});\n",
       "      let deps = [\"vega-embed\"];\n",
       "      require(deps, displayChart, err => showError(`Error loading script: ${err.message}`));\n",
       "    } else {\n",
       "      maybeLoadScript(\"vega\", \"5\")\n",
       "        .then(() => maybeLoadScript(\"vega-lite\", \"5.20.1\"))\n",
       "        .then(() => maybeLoadScript(\"vega-embed\", \"6\"))\n",
       "        .catch(showError)\n",
       "        .then(() => displayChart(vegaEmbed));\n",
       "    }\n",
       "  })({\"config\": {\"view\": {\"continuousWidth\": 300, \"continuousHeight\": 300}}, \"data\": {\"url\": \"altair-data-065d35ee6f9089a8c52285a99f93baf7.json\", \"format\": {\"type\": \"json\"}}, \"mark\": {\"type\": \"line\", \"point\": true, \"strokeWidth\": 2}, \"encoding\": {\"color\": {\"field\": \"NAME_EN\", \"legend\": {\"labelFontSize\": 10, \"title\": \"Region (Click to hide/show)\", \"titleFontSize\": 12}, \"scale\": {\"scheme\": \"category20\"}, \"title\": \"Region (Click to hide/show)\", \"type\": \"nominal\"}, \"opacity\": {\"condition\": {\"param\": \"param_62\", \"value\": 1.0}, \"value\": 0.2}, \"strokeWidth\": {\"condition\": {\"param\": \"param_62\", \"value\": 3}, \"value\": 1}, \"tooltip\": [{\"field\": \"start_date\", \"title\": \"Date\", \"type\": \"temporal\"}, {\"field\": \"mean\", \"title\": \"NO2 Level\", \"type\": \"quantitative\"}, {\"field\": \"NAME_EN\", \"title\": \"Region\", \"type\": \"nominal\"}], \"x\": {\"axis\": {\"format\": \"%Y-%m\"}, \"field\": \"start_date\", \"title\": \"Date\", \"type\": \"temporal\"}, \"y\": {\"field\": \"mean\", \"scale\": {\"zero\": false}, \"title\": \"NO2 Levels\", \"type\": \"quantitative\"}}, \"height\": 400, \"params\": [{\"name\": \"param_63\", \"select\": {\"type\": \"interval\"}, \"bind\": \"scales\"}, {\"name\": \"param_62\", \"select\": {\"type\": \"point\", \"fields\": [\"NAME_EN\"]}, \"bind\": \"legend\"}, {\"name\": \"param_64\", \"select\": {\"type\": \"interval\", \"encodings\": [\"x\", \"y\"]}, \"bind\": \"scales\"}], \"title\": {\"text\": \"Air Pollution Levels in Highest Polluting Syrian Provinces\", \"anchor\": \"start\", \"fontSize\": 16, \"subtitle\": \"Source: Sentinel-5P TROPOMI\"}, \"width\": 560, \"$schema\": \"https://vega.github.io/schema/vega-lite/v5.20.1.json\"}, {\"mode\": \"vega-lite\"});\n",
       "</script>"
      ],
      "text/plain": [
       "alt.Chart(...)"
      ]
     },
     "metadata": {},
     "output_type": "display_data"
    }
   ],
   "source": [
    "# Create an interactive plot for selected Admin 1 regions\n",
    "top5 = monthly_no2_adm1.groupby('NAME_EN')['mean'].mean().nlargest(5).index.tolist()\n",
    "selected_admin1_regions = top5\n",
    "\n",
    "admin1_chart = create_interactive_lineplot(\n",
    "    monthly_no2_adm1,\n",
    "    title=\"Air Pollution Levels in Highest Polluting Syrian Provinces\",\n",
    "    subtitle=\"Source: Sentinel-5P TROPOMI\",\n",
    "    categories=selected_admin1_regions,\n",
    "    width=560  # 30% smaller than default 800\n",
    ")\n",
    "\n",
    "admin1_chart.show()"
   ]
  },
  {
   "cell_type": "code",
   "execution_count": 132,
   "metadata": {
    "tags": [
     "remove-input"
    ]
   },
   "outputs": [
    {
     "data": {
      "text/html": [
       "\n",
       "<style>\n",
       "  #altair-viz-40659b8ea0aa4d909cd146ecceead510.vega-embed {\n",
       "    width: 100%;\n",
       "    display: flex;\n",
       "  }\n",
       "\n",
       "  #altair-viz-40659b8ea0aa4d909cd146ecceead510.vega-embed details,\n",
       "  #altair-viz-40659b8ea0aa4d909cd146ecceead510.vega-embed details summary {\n",
       "    position: relative;\n",
       "  }\n",
       "</style>\n",
       "<div id=\"altair-viz-40659b8ea0aa4d909cd146ecceead510\"></div>\n",
       "<script type=\"text/javascript\">\n",
       "  var VEGA_DEBUG = (typeof VEGA_DEBUG == \"undefined\") ? {} : VEGA_DEBUG;\n",
       "  (function(spec, embedOpt){\n",
       "    let outputDiv = document.currentScript.previousElementSibling;\n",
       "    if (outputDiv.id !== \"altair-viz-40659b8ea0aa4d909cd146ecceead510\") {\n",
       "      outputDiv = document.getElementById(\"altair-viz-40659b8ea0aa4d909cd146ecceead510\");\n",
       "    }\n",
       "\n",
       "    const paths = {\n",
       "      \"vega\": \"https://cdn.jsdelivr.net/npm/vega@5?noext\",\n",
       "      \"vega-lib\": \"https://cdn.jsdelivr.net/npm/vega-lib?noext\",\n",
       "      \"vega-lite\": \"https://cdn.jsdelivr.net/npm/vega-lite@5.20.1?noext\",\n",
       "      \"vega-embed\": \"https://cdn.jsdelivr.net/npm/vega-embed@6?noext\",\n",
       "    };\n",
       "\n",
       "    function maybeLoadScript(lib, version) {\n",
       "      var key = `${lib.replace(\"-\", \"\")}_version`;\n",
       "      return (VEGA_DEBUG[key] == version) ?\n",
       "        Promise.resolve(paths[lib]) :\n",
       "        new Promise(function(resolve, reject) {\n",
       "          var s = document.createElement('script');\n",
       "          document.getElementsByTagName(\"head\")[0].appendChild(s);\n",
       "          s.async = true;\n",
       "          s.onload = () => {\n",
       "            VEGA_DEBUG[key] = version;\n",
       "            return resolve(paths[lib]);\n",
       "          };\n",
       "          s.onerror = () => reject(`Error loading script: ${paths[lib]}`);\n",
       "          s.src = paths[lib];\n",
       "        });\n",
       "    }\n",
       "\n",
       "    function showError(err) {\n",
       "      outputDiv.innerHTML = `<div class=\"error\" style=\"color:red;\">${err}</div>`;\n",
       "      throw err;\n",
       "    }\n",
       "\n",
       "    function displayChart(vegaEmbed) {\n",
       "      vegaEmbed(outputDiv, spec, embedOpt)\n",
       "        .catch(err => showError(`Javascript Error: ${err.message}<br>This usually means there's a typo in your chart specification. See the javascript console for the full traceback.`));\n",
       "    }\n",
       "\n",
       "    if(typeof define === \"function\" && define.amd) {\n",
       "      requirejs.config({paths});\n",
       "      let deps = [\"vega-embed\"];\n",
       "      require(deps, displayChart, err => showError(`Error loading script: ${err.message}`));\n",
       "    } else {\n",
       "      maybeLoadScript(\"vega\", \"5\")\n",
       "        .then(() => maybeLoadScript(\"vega-lite\", \"5.20.1\"))\n",
       "        .then(() => maybeLoadScript(\"vega-embed\", \"6\"))\n",
       "        .catch(showError)\n",
       "        .then(() => displayChart(vegaEmbed));\n",
       "    }\n",
       "  })({\"config\": {\"view\": {\"continuousWidth\": 300, \"continuousHeight\": 300}}, \"data\": {\"url\": \"altair-data-1be722b79c7b942820a0fa6914fb5de8.json\", \"format\": {\"type\": \"json\"}}, \"mark\": {\"type\": \"line\", \"point\": true, \"strokeWidth\": 2}, \"encoding\": {\"color\": {\"field\": \"NAME_EN\", \"legend\": {\"labelFontSize\": 10, \"title\": \"Region (Click to hide/show)\", \"titleFontSize\": 12}, \"scale\": {\"scheme\": \"category20\"}, \"title\": \"Region (Click to hide/show)\", \"type\": \"nominal\"}, \"opacity\": {\"condition\": {\"param\": \"param_65\", \"value\": 1.0}, \"value\": 0.2}, \"strokeWidth\": {\"condition\": {\"param\": \"param_65\", \"value\": 3}, \"value\": 1}, \"tooltip\": [{\"field\": \"start_date\", \"title\": \"Date\", \"type\": \"temporal\"}, {\"field\": \"mean\", \"title\": \"NO2 Level\", \"type\": \"quantitative\"}, {\"field\": \"NAME_EN\", \"title\": \"Region\", \"type\": \"nominal\"}], \"x\": {\"axis\": {\"format\": \"%Y-%m\"}, \"field\": \"start_date\", \"title\": \"Date\", \"type\": \"temporal\"}, \"y\": {\"field\": \"mean\", \"scale\": {\"zero\": false}, \"title\": \"NO2 Levels\", \"type\": \"quantitative\"}}, \"height\": 500, \"params\": [{\"name\": \"param_66\", \"select\": {\"type\": \"interval\"}, \"bind\": \"scales\"}, {\"name\": \"param_65\", \"select\": {\"type\": \"point\", \"fields\": [\"NAME_EN\"]}, \"bind\": \"legend\"}, {\"name\": \"param_67\", \"select\": {\"type\": \"interval\", \"encodings\": [\"x\", \"y\"]}, \"bind\": \"scales\"}], \"title\": {\"text\": \"Air Pollution Levels Across All Syrian Provinces\", \"anchor\": \"start\", \"fontSize\": 16, \"subtitle\": \"All provinces shown - use legend to hide/show specific regions\"}, \"width\": 700, \"$schema\": \"https://vega.github.io/schema/vega-lite/v5.20.1.json\"}, {\"mode\": \"vega-lite\"});\n",
       "</script>"
      ],
      "text/plain": [
       "alt.Chart(...)"
      ]
     },
     "metadata": {},
     "output_type": "display_data"
    }
   ],
   "source": [
    "# Create a comparison chart showing all admin1 regions\n",
    "all_admin1_chart = create_interactive_lineplot(\n",
    "    monthly_no2_adm1,\n",
    "    title=\"Air Pollution Levels Across All Syrian Provinces\",\n",
    "    subtitle=\"All provinces shown - use legend to hide/show specific regions\",\n",
    "    width=700,  # 30% smaller than original 1000\n",
    "    height=500\n",
    ")\n",
    "\n",
    "all_admin1_chart.show()"
   ]
  },
  {
   "cell_type": "markdown",
   "metadata": {},
   "source": [
    "## Temporal Maps\n",
    "\n",
    "Now let's create maps that show how air pollution levels change over time across different regions."
   ]
  },
  {
   "cell_type": "code",
   "execution_count": 133,
   "metadata": {},
   "outputs": [],
   "source": [
    "# Import the new mapping functions\n",
    "import importlib\n",
    "importlib.reload(airpollution_visuals)\n",
    "from airpollution_visuals import *"
   ]
  },
  {
   "cell_type": "code",
   "execution_count": 134,
   "metadata": {},
   "outputs": [
    {
     "data": {
      "text/html": [
       "\n",
       "<style>\n",
       "  #altair-viz-d03ba447c1e34888b962444e5db02186.vega-embed {\n",
       "    width: 100%;\n",
       "    display: flex;\n",
       "  }\n",
       "\n",
       "  #altair-viz-d03ba447c1e34888b962444e5db02186.vega-embed details,\n",
       "  #altair-viz-d03ba447c1e34888b962444e5db02186.vega-embed details summary {\n",
       "    position: relative;\n",
       "  }\n",
       "</style>\n",
       "<div id=\"altair-viz-d03ba447c1e34888b962444e5db02186\"></div>\n",
       "<script type=\"text/javascript\">\n",
       "  var VEGA_DEBUG = (typeof VEGA_DEBUG == \"undefined\") ? {} : VEGA_DEBUG;\n",
       "  (function(spec, embedOpt){\n",
       "    let outputDiv = document.currentScript.previousElementSibling;\n",
       "    if (outputDiv.id !== \"altair-viz-d03ba447c1e34888b962444e5db02186\") {\n",
       "      outputDiv = document.getElementById(\"altair-viz-d03ba447c1e34888b962444e5db02186\");\n",
       "    }\n",
       "\n",
       "    const paths = {\n",
       "      \"vega\": \"https://cdn.jsdelivr.net/npm/vega@5?noext\",\n",
       "      \"vega-lib\": \"https://cdn.jsdelivr.net/npm/vega-lib?noext\",\n",
       "      \"vega-lite\": \"https://cdn.jsdelivr.net/npm/vega-lite@5.20.1?noext\",\n",
       "      \"vega-embed\": \"https://cdn.jsdelivr.net/npm/vega-embed@6?noext\",\n",
       "    };\n",
       "\n",
       "    function maybeLoadScript(lib, version) {\n",
       "      var key = `${lib.replace(\"-\", \"\")}_version`;\n",
       "      return (VEGA_DEBUG[key] == version) ?\n",
       "        Promise.resolve(paths[lib]) :\n",
       "        new Promise(function(resolve, reject) {\n",
       "          var s = document.createElement('script');\n",
       "          document.getElementsByTagName(\"head\")[0].appendChild(s);\n",
       "          s.async = true;\n",
       "          s.onload = () => {\n",
       "            VEGA_DEBUG[key] = version;\n",
       "            return resolve(paths[lib]);\n",
       "          };\n",
       "          s.onerror = () => reject(`Error loading script: ${paths[lib]}`);\n",
       "          s.src = paths[lib];\n",
       "        });\n",
       "    }\n",
       "\n",
       "    function showError(err) {\n",
       "      outputDiv.innerHTML = `<div class=\"error\" style=\"color:red;\">${err}</div>`;\n",
       "      throw err;\n",
       "    }\n",
       "\n",
       "    function displayChart(vegaEmbed) {\n",
       "      vegaEmbed(outputDiv, spec, embedOpt)\n",
       "        .catch(err => showError(`Javascript Error: ${err.message}<br>This usually means there's a typo in your chart specification. See the javascript console for the full traceback.`));\n",
       "    }\n",
       "\n",
       "    if(typeof define === \"function\" && define.amd) {\n",
       "      requirejs.config({paths});\n",
       "      let deps = [\"vega-embed\"];\n",
       "      require(deps, displayChart, err => showError(`Error loading script: ${err.message}`));\n",
       "    } else {\n",
       "      maybeLoadScript(\"vega\", \"5\")\n",
       "        .then(() => maybeLoadScript(\"vega-lite\", \"5.20.1\"))\n",
       "        .then(() => maybeLoadScript(\"vega-embed\", \"6\"))\n",
       "        .catch(showError)\n",
       "        .then(() => displayChart(vegaEmbed));\n",
       "    }\n",
       "  })({\"config\": {\"view\": {\"continuousWidth\": 300, \"continuousHeight\": 300}}, \"data\": {\"url\": \"altair-data-72f2350d1d9cfda7477f842bc971b47e.json\", \"format\": {\"type\": \"json\"}}, \"mark\": {\"type\": \"geoshape\", \"stroke\": \"white\", \"strokeWidth\": 0.5}, \"encoding\": {\"color\": {\"field\": \"mean\", \"legend\": {\"gradientLength\": 200, \"labelFontSize\": 10, \"orient\": \"right\", \"titleFontSize\": 12}, \"scale\": {\"domain\": [6.144134022643718e-05, 0.000140293918631325], \"scheme\": \"blues\"}, \"title\": \"NO2 Level\", \"type\": \"quantitative\"}, \"facet\": {\"columns\": 3, \"field\": \"time_period\", \"title\": null, \"type\": \"ordinal\"}, \"shape\": {\"field\": \"geo\", \"type\": \"geojson\"}, \"tooltip\": [{\"field\": \"NAME_EN\", \"title\": \"Region\", \"type\": \"nominal\"}, {\"field\": \"mean\", \"format\": \".3f\", \"title\": \"NO2 Level\", \"type\": \"quantitative\"}, {\"field\": \"time_period\", \"title\": \"Time Period\", \"type\": \"ordinal\"}]}, \"height\": 150, \"resolve\": {\"scale\": {\"color\": \"shared\"}}, \"title\": \"Air Pollution Levels - Year View\", \"transform\": [{\"lookup\": \"NAME_EN\", \"as\": \"geo\", \"from\": {\"data\": {\"url\": \"altair-data-999ff320c6ed46ef73db1facba1ff6a6.json\", \"format\": {\"type\": \"json\"}}, \"key\": \"NAME_EN\"}}], \"width\": 250, \"$schema\": \"https://vega.github.io/schema/vega-lite/v5.20.1.json\"}, {\"mode\": \"vega-lite\"});\n",
       "</script>"
      ],
      "text/plain": [
       "alt.Chart(...)"
      ]
     },
     "metadata": {},
     "output_type": "display_data"
    }
   ],
   "source": [
    "# Import the updated mapping functions with shared legend\n",
    "import importlib\n",
    "importlib.reload(airpollution_visuals)\n",
    "from airpollution_visuals import create_temporal_maps\n",
    "\n",
    "# Create yearly maps with single common legend and consistent color scale\n",
    "yearly_maps = create_temporal_maps(\n",
    "    dataframe=monthly_no2_adm3,\n",
    "    boundaries_gdf=syria_adm3,\n",
    "    join_column=\"NAME_EN\",\n",
    "    width=250,\n",
    "    height=150,\n",
    "    color_scheme=\"blues\"\n",
    ")\n",
    "\n",
    "yearly_maps.show()"
   ]
  },
  {
   "cell_type": "code",
   "execution_count": 135,
   "metadata": {},
   "outputs": [
    {
     "data": {
      "text/html": [
       "\n",
       "<style>\n",
       "  #altair-viz-c3aebbcc5a98487380dae7279b867f5b.vega-embed {\n",
       "    width: 100%;\n",
       "    display: flex;\n",
       "  }\n",
       "\n",
       "  #altair-viz-c3aebbcc5a98487380dae7279b867f5b.vega-embed details,\n",
       "  #altair-viz-c3aebbcc5a98487380dae7279b867f5b.vega-embed details summary {\n",
       "    position: relative;\n",
       "  }\n",
       "</style>\n",
       "<div id=\"altair-viz-c3aebbcc5a98487380dae7279b867f5b\"></div>\n",
       "<script type=\"text/javascript\">\n",
       "  var VEGA_DEBUG = (typeof VEGA_DEBUG == \"undefined\") ? {} : VEGA_DEBUG;\n",
       "  (function(spec, embedOpt){\n",
       "    let outputDiv = document.currentScript.previousElementSibling;\n",
       "    if (outputDiv.id !== \"altair-viz-c3aebbcc5a98487380dae7279b867f5b\") {\n",
       "      outputDiv = document.getElementById(\"altair-viz-c3aebbcc5a98487380dae7279b867f5b\");\n",
       "    }\n",
       "\n",
       "    const paths = {\n",
       "      \"vega\": \"https://cdn.jsdelivr.net/npm/vega@5?noext\",\n",
       "      \"vega-lib\": \"https://cdn.jsdelivr.net/npm/vega-lib?noext\",\n",
       "      \"vega-lite\": \"https://cdn.jsdelivr.net/npm/vega-lite@5.20.1?noext\",\n",
       "      \"vega-embed\": \"https://cdn.jsdelivr.net/npm/vega-embed@6?noext\",\n",
       "    };\n",
       "\n",
       "    function maybeLoadScript(lib, version) {\n",
       "      var key = `${lib.replace(\"-\", \"\")}_version`;\n",
       "      return (VEGA_DEBUG[key] == version) ?\n",
       "        Promise.resolve(paths[lib]) :\n",
       "        new Promise(function(resolve, reject) {\n",
       "          var s = document.createElement('script');\n",
       "          document.getElementsByTagName(\"head\")[0].appendChild(s);\n",
       "          s.async = true;\n",
       "          s.onload = () => {\n",
       "            VEGA_DEBUG[key] = version;\n",
       "            return resolve(paths[lib]);\n",
       "          };\n",
       "          s.onerror = () => reject(`Error loading script: ${paths[lib]}`);\n",
       "          s.src = paths[lib];\n",
       "        });\n",
       "    }\n",
       "\n",
       "    function showError(err) {\n",
       "      outputDiv.innerHTML = `<div class=\"error\" style=\"color:red;\">${err}</div>`;\n",
       "      throw err;\n",
       "    }\n",
       "\n",
       "    function displayChart(vegaEmbed) {\n",
       "      vegaEmbed(outputDiv, spec, embedOpt)\n",
       "        .catch(err => showError(`Javascript Error: ${err.message}<br>This usually means there's a typo in your chart specification. See the javascript console for the full traceback.`));\n",
       "    }\n",
       "\n",
       "    if(typeof define === \"function\" && define.amd) {\n",
       "      requirejs.config({paths});\n",
       "      let deps = [\"vega-embed\"];\n",
       "      require(deps, displayChart, err => showError(`Error loading script: ${err.message}`));\n",
       "    } else {\n",
       "      maybeLoadScript(\"vega\", \"5\")\n",
       "        .then(() => maybeLoadScript(\"vega-lite\", \"5.20.1\"))\n",
       "        .then(() => maybeLoadScript(\"vega-embed\", \"6\"))\n",
       "        .catch(showError)\n",
       "        .then(() => displayChart(vegaEmbed));\n",
       "    }\n",
       "  })({\"config\": {\"view\": {\"continuousWidth\": 300, \"continuousHeight\": 300}}, \"data\": {\"url\": \"altair-data-72f2350d1d9cfda7477f842bc971b47e.json\", \"format\": {\"type\": \"json\"}}, \"mark\": {\"type\": \"geoshape\", \"stroke\": \"white\", \"strokeWidth\": 0.5}, \"encoding\": {\"color\": {\"field\": \"mean\", \"legend\": {\"gradientLength\": 200, \"labelFontSize\": 10, \"orient\": \"right\", \"titleFontSize\": 12}, \"scale\": {\"domain\": [6.144134022643718e-05, 0.000140293918631325], \"scheme\": \"blues\"}, \"title\": \"NO2 Level\", \"type\": \"quantitative\"}, \"facet\": {\"columns\": 3, \"field\": \"time_period\", \"title\": null, \"type\": \"ordinal\"}, \"shape\": {\"field\": \"geo\", \"type\": \"geojson\"}, \"tooltip\": [{\"field\": \"NAME_EN\", \"title\": \"Region\", \"type\": \"nominal\"}, {\"field\": \"mean\", \"format\": \".3f\", \"title\": \"NO2 Level\", \"type\": \"quantitative\"}, {\"field\": \"time_period\", \"title\": \"Time Period\", \"type\": \"ordinal\"}]}, \"height\": 200, \"resolve\": {\"scale\": {\"color\": \"shared\"}}, \"title\": \"NO2 Pollution in Damascus Districts\", \"transform\": [{\"lookup\": \"NAME_EN\", \"as\": \"geo\", \"from\": {\"data\": {\"url\": \"altair-data-31192826c7f23cbb86e0675adf4af29f.json\", \"format\": {\"type\": \"json\"}}, \"key\": \"NAME_EN\"}}], \"width\": 200, \"$schema\": \"https://vega.github.io/schema/vega-lite/v5.20.1.json\"}, {\"mode\": \"vega-lite\"});\n",
       "</script>"
      ],
      "text/plain": [
       "alt.Chart(...)"
      ]
     },
     "metadata": {},
     "output_type": "display_data"
    }
   ],
   "source": [
    "# Create monthly maps for Damascus admin3 regions with custom title\n",
    "monthly_maps_2023 = create_temporal_maps(\n",
    "    dataframe=monthly_no2_adm3,\n",
    "    boundaries_gdf=syria_adm3[syria_adm3['ADM1_EN']=='Damascus'],\n",
    "    join_column=\"NAME_EN\",\n",
    "    title=\"NO2 Pollution in Damascus Districts\",  # Custom title\n",
    "    temporal_grouping=\"year\",\n",
    "    width=200,\n",
    "    height=200\n",
    ")\n",
    "\n",
    "monthly_maps_2023.show()"
   ]
  },
  {
   "cell_type": "markdown",
   "metadata": {},
   "source": [
    "<div class='tableauPlaceholder' id='viz1699370957260' style='position: relative'><noscript><a href='#'><img alt='No2 Levels in Syria Admin Level 2 ' src='https:&#47;&#47;public.tableau.com&#47;static&#47;images&#47;Ai&#47;AirPollutioninSyria&#47;Sheet1&#47;1_rss.png' style='border: none' /></a></noscript><object class='tableauViz'  style='display:none;'><param name='host_url' value='https%3A%2F%2Fpublic.tableau.com%2F' /> <param name='embed_code_version' value='3' /> <param name='site_root' value='' /><param name='name' value='AirPollutioninSyria&#47;Sheet1' /><param name='tabs' value='no' /><param name='toolbar' value='yes' /><param name='static_image' value='https:&#47;&#47;public.tableau.com&#47;static&#47;images&#47;Ai&#47;AirPollutioninSyria&#47;Sheet1&#47;1.png' /> <param name='animate_transition' value='yes' /><param name='display_static_image' value='yes' /><param name='display_spinner' value='yes' /><param name='display_overlay' value='yes' /><param name='display_count' value='yes' /><param name='language' value='en-US' /><param name='filter' value='publish=yes' /></object></div>                <script type='text/javascript'>                    var divElement = document.getElementById('viz1699370957260');                    var vizElement = divElement.getElementsByTagName('object')[0];                    vizElement.style.width='100%';vizElement.style.height=(divElement.offsetWidth*0.75)+'px';                    var scriptElement = document.createElement('script');                    scriptElement.src = 'https://public.tableau.com/javascripts/api/viz_v1.js';                    vizElement.parentNode.insertBefore(scriptElement, vizElement);                </script>"
   ]
  }
 ],
 "metadata": {
  "kernelspec": {
   "display_name": ".venv (3.13.7)",
   "language": "python",
   "name": "python3"
  },
  "language_info": {
   "codemirror_mode": {
    "name": "ipython",
    "version": 3
   },
   "file_extension": ".py",
   "mimetype": "text/x-python",
   "name": "python",
   "nbconvert_exporter": "python",
   "pygments_lexer": "ipython3",
   "version": "3.13.7"
  }
 },
 "nbformat": 4,
 "nbformat_minor": 2
}
