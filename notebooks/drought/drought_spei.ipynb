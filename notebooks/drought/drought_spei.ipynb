{
 "cells": [
  {
   "cell_type": "markdown",
   "metadata": {},
   "source": [
    "# Drought Analysis"
   ]
  },
  {
   "cell_type": "markdown",
   "metadata": {},
   "source": [
    "## Request\n",
    "Using NASA remote sensing data, prepare historical drought analysis for Syria and bordering countries. Estimate hectares of farmland where drought has occurred over the past 5 years. "
   ]
  },
  {
   "cell_type": "markdown",
   "metadata": {},
   "source": [
    "## Drought Index\n",
    "There are several drought indices in the literature, the majority of them look a trends in rainfall and temperature to identify droughts at different time intervals. We use the [Standardised Precipitation-Evapotranspiration Index (SPEI)](https://spei.csic.es/home.html)  \n",
    "\n",
    "### SPEI\n",
    "The [SPEI](https://spei.csic.es) is an extension of the widely used Standardized Precipitation Index (SPI). The SPEI is designed to take into account both `precipitation` and `potential evapotranspiration` (PET) in determining drought. Thus, unlike the SPI, the SPEI captures the main impact of increased temperatures on water demand.  \n",
    "\n",
    "The idea behind the SPEI is to compare the highest possible evapotranspiration (what we call the evaporative demand by the atmosphere) with the current water availability. Thus, precipitation (accumulated over a period of time) in the SPEI stands for the water availability, while ETo stands for the atmospheric water demand.  \n",
    "\n",
    "### Time Scales\n",
    "The SPEI can measure different types of drought (levels of severity and duration) depending on the time timescale factor. At the shortest time scales (3/6 months) the drought series show a high frequency of drought, and moist periods of short duration. In contrast, at the longest time scales (12/18 months) the drought periods are of longer duration and lower frequency.\n",
    "\n",
    "### Interpretation\n",
    "\n",
    "Negative SPEI values represent rainfall deficit and high potential epotranspiration (dry conditions), starting when the SPEI value is equal or below -1.0. Whereas positive SPEI values indicate rainfall surplus and low potential epotranspiration (wet conditions), starting when the SPEI value is equal or above 1.0."
   ]
  },
  {
   "cell_type": "markdown",
   "metadata": {},
   "source": [
    "## Maps of Monthly SPEI (6-month window)"
   ]
  },
  {
   "cell_type": "markdown",
   "metadata": {},
   "source": [
    "Each row in this panel of maps is a year, and each column is a month. Red values signify dry conditions (drought), and blue values signify wet conditions."
   ]
  },
  {
   "cell_type": "markdown",
   "metadata": {},
   "source": [
    "![spei_drought_timeseries_maps.png](../../docs/images/agriculture/spei_drought_timeseries_maps.png)"
   ]
  },
  {
   "cell_type": "code",
   "execution_count": 2,
   "metadata": {
    "tags": [
     "remove-cell"
    ]
   },
   "outputs": [
    {
     "data": {
      "text/html": [
       "\n",
       "            <style>\n",
       "                .geemap-dark {\n",
       "                    --jp-widgets-color: white;\n",
       "                    --jp-widgets-label-color: white;\n",
       "                    --jp-ui-font-color1: white;\n",
       "                    --jp-layout-color2: #454545;\n",
       "                    background-color: #383838;\n",
       "                }\n",
       "\n",
       "                .geemap-dark .jupyter-button {\n",
       "                    --jp-layout-color3: #383838;\n",
       "                }\n",
       "\n",
       "                .geemap-colab {\n",
       "                    background-color: var(--colab-primary-surface-color, white);\n",
       "                }\n",
       "\n",
       "                .geemap-colab .jupyter-button {\n",
       "                    --jp-layout-color3: var(--colab-primary-surface-color, white);\n",
       "                }\n",
       "            </style>\n",
       "            "
      ],
      "text/plain": [
       "<IPython.core.display.HTML object>"
      ]
     },
     "metadata": {},
     "output_type": "display_data"
    }
   ],
   "source": [
    "import warnings\n",
    "\n",
    "warnings.filterwarnings(\"ignore\")"
   ]
  },
  {
   "cell_type": "code",
   "execution_count": 5,
   "metadata": {
    "tags": [
     "remove-cell"
    ]
   },
   "outputs": [
    {
     "data": {
      "text/html": [
       "\n",
       "            <style>\n",
       "                .geemap-dark {\n",
       "                    --jp-widgets-color: white;\n",
       "                    --jp-widgets-label-color: white;\n",
       "                    --jp-ui-font-color1: white;\n",
       "                    --jp-layout-color2: #454545;\n",
       "                    background-color: #383838;\n",
       "                }\n",
       "\n",
       "                .geemap-dark .jupyter-button {\n",
       "                    --jp-layout-color3: #383838;\n",
       "                }\n",
       "\n",
       "                .geemap-colab {\n",
       "                    background-color: var(--colab-primary-surface-color, white);\n",
       "                }\n",
       "\n",
       "                .geemap-colab .jupyter-button {\n",
       "                    --jp-layout-color3: var(--colab-primary-surface-color, white);\n",
       "                }\n",
       "            </style>\n",
       "            "
      ],
      "text/plain": [
       "<IPython.core.display.HTML object>"
      ]
     },
     "metadata": {},
     "output_type": "display_data"
    },
    {
     "data": {
      "image/png": "[encoded data removed]",
      "text/plain": [
       "<Figure size 2800x800 with 49 Axes>"
      ]
     },
     "metadata": {},
     "output_type": "display_data"
    }
   ],
   "source": [
    "# Imports\n",
    "import ee\n",
    "\n",
    "# ee.Authenticate()\n",
    "ee.Initialize()\n",
    "import requests\n",
    "import geopandas as gpd\n",
    "from geemap.conversion import *\n",
    "import xarray as xr\n",
    "import matplotlib.pyplot as plt\n",
    "\n",
    "# Admin Data\n",
    "adm = \"ADM0\"\n",
    "iso3 = \"SYR\"\n",
    "release_type = \"gbOpen\"\n",
    "geo_url = f\"https://www.geoboundaries.org/api/current/{release_type}/{iso3}/{adm}/\"\n",
    "try:\n",
    "    res = requests.get(geo_url).json()\n",
    "    adm0_syr = gpd.read_file(res[\"gjDownloadURL\"])\n",
    "    # adm0_ner.to_file('../../data/adm0_ner.geojson', driver='GeoJSON')\n",
    "except:\n",
    "    adm0_syr = gpd.read_file(\"../../data/adm0_syr.geojson\")\n",
    "\n",
    "one = adm0_syr.iloc[[0]]\n",
    "centx, centy = one.centroid.x.iloc[0], one.centroid.y.iloc[0]\n",
    "aoi = gdf_to_ee(adm0_syr)\n",
    "\n",
    "spei = (\n",
    "    ee.ImageCollection(\"CSIC/SPEI/2_9\")\n",
    "    .select(\"SPEI_06_month\")\n",
    "    .filterDate(\"2019-01-01\", \"2023-12-31\")\n",
    ")\n",
    "\n",
    "\n",
    "def clip_image(image):\n",
    "    return image.clip(aoi)\n",
    "\n",
    "\n",
    "spei = spei.map(clip_image)\n",
    "\n",
    "ds = xr.open_dataset(\n",
    "    spei,\n",
    "    engine=\"ee\",\n",
    "    geometry=aoi.geometry(),\n",
    "    crs=\"EPSG:4326\",\n",
    "    scale=0.5,\n",
    ")\n",
    "ax = ds[\"SPEI_06_month\"].plot.imshow(\n",
    "    robust=True,\n",
    "    x=\"lon\",\n",
    "    y=\"lat\",\n",
    "    cmap=\"RdYlBu\",\n",
    "    vmin=-2.33,\n",
    "    vmax=2.33,\n",
    "    col=\"time\",\n",
    "    col_wrap=12,\n",
    "    figsize=(28, 8),\n",
    ")  # figsize=(10, 10) aspect=2, size=10\n",
    "ax.map(lambda: plt.axis(\"off\"))\n",
    "for a in ax.axs.flat:\n",
    "    a.set_aspect(\"equal\")"
   ]
  },
  {
   "cell_type": "markdown",
   "metadata": {},
   "source": [
    "The Global SPEI Database only contains data up to 2022. The authors also provide less accurate but real-time data through the [SPEI Global Drought Monitor](https://spei.csic.es/map/maps.html#months=1#month=3#year=2024). In the maps below, we show the progression of SPEI for 2023 and 2024, using the coarser (1 degree resolution) real-time data.  \n",
    "\n",
    "*An important difference between the data sources is that the SPEI Global Drought Monitor is based on the Thortnthwaite equation for estimating potential evapotranspiration, PET. This is due to the lack of real-time data sources for computing more robust PET estimations which have larger data requirements.*"
   ]
  },
  {
   "cell_type": "code",
   "execution_count": 6,
   "metadata": {
    "tags": [
     "remove-cell"
    ]
   },
   "outputs": [
    {
     "data": {
      "text/html": [
       "\n",
       "            <style>\n",
       "                .geemap-dark {\n",
       "                    --jp-widgets-color: white;\n",
       "                    --jp-widgets-label-color: white;\n",
       "                    --jp-ui-font-color1: white;\n",
       "                    --jp-layout-color2: #454545;\n",
       "                    background-color: #383838;\n",
       "                }\n",
       "\n",
       "                .geemap-dark .jupyter-button {\n",
       "                    --jp-layout-color3: #383838;\n",
       "                }\n",
       "\n",
       "                .geemap-colab {\n",
       "                    background-color: var(--colab-primary-surface-color, white);\n",
       "                }\n",
       "\n",
       "                .geemap-colab .jupyter-button {\n",
       "                    --jp-layout-color3: var(--colab-primary-surface-color, white);\n",
       "                }\n",
       "            </style>\n",
       "            "
      ],
      "text/plain": [
       "<IPython.core.display.HTML object>"
      ]
     },
     "metadata": {},
     "output_type": "display_data"
    }
   ],
   "source": [
    "base_path = (\n",
    "    \"C:\\\\Users\\\\ishaa\\\\OneDrive\\\\Desktop\\\\DataLab\\\\Syria\\\\syria-economic-monitor\"\n",
    ")"
   ]
  },
  {
   "cell_type": "code",
   "execution_count": 7,
   "metadata": {
    "tags": [
     "remove-input"
    ]
   },
   "outputs": [
    {
     "data": {
      "text/html": [
       "\n",
       "            <style>\n",
       "                .geemap-dark {\n",
       "                    --jp-widgets-color: white;\n",
       "                    --jp-widgets-label-color: white;\n",
       "                    --jp-ui-font-color1: white;\n",
       "                    --jp-layout-color2: #454545;\n",
       "                    background-color: #383838;\n",
       "                }\n",
       "\n",
       "                .geemap-dark .jupyter-button {\n",
       "                    --jp-layout-color3: #383838;\n",
       "                }\n",
       "\n",
       "                .geemap-colab {\n",
       "                    background-color: var(--colab-primary-surface-color, white);\n",
       "                }\n",
       "\n",
       "                .geemap-colab .jupyter-button {\n",
       "                    --jp-layout-color3: var(--colab-primary-surface-color, white);\n",
       "                }\n",
       "            </style>\n",
       "            "
      ],
      "text/plain": [
       "<IPython.core.display.HTML object>"
      ]
     },
     "metadata": {},
     "output_type": "display_data"
    },
    {
     "data": {
      "image/png": "[encoded data removed]",
      "text/plain": [
       "<Figure size 2800x500 with 13 Axes>"
      ]
     },
     "metadata": {},
     "output_type": "display_data"
    }
   ],
   "source": [
    "# Download from https://spei.csic.es/map/maps.html\n",
    "spei_data_path = os.path.join(base_path, \"data\", \"spei06.nc\")\n",
    "ds2 = xr.open_dataset(spei_data_path)\n",
    "ds2 = ds2.isel(lat=slice(None, None, -1))\n",
    "# slice time dimension\n",
    "ds2 = ds2.sel(time=slice(\"2023-01-01\", \"2024-12-31\"))\n",
    "ds2.rio.set_spatial_dims(x_dim=\"lon\", y_dim=\"lat\", inplace=True)\n",
    "ds2.rio.write_crs(\"EPSG:4326\", inplace=True)\n",
    "clipped = ds2.rio.clip(adm0_syr.geometry.values, adm0_syr.crs, drop=True, invert=False)\n",
    "ax = clipped[\"spei\"].plot(\n",
    "    robust=True,\n",
    "    x=\"lon\",\n",
    "    y=\"lat\",\n",
    "    cmap=\"RdYlBu\",\n",
    "    vmin=-2.33,\n",
    "    vmax=2.33,\n",
    "    col=\"time\",\n",
    "    col_wrap=12,\n",
    "    figsize=(28, 5),\n",
    ")  # figsize=(10, 10) aspect=2, size=10\n",
    "ax.map(lambda: plt.axis(\"off\"))\n",
    "for a in ax.axs.flat:\n",
    "    a.set_aspect(\"equal\")"
   ]
  },
  {
   "cell_type": "markdown",
   "metadata": {},
   "source": [
    "## Trend of SPEI (6-month) in Syria"
   ]
  },
  {
   "cell_type": "markdown",
   "metadata": {},
   "source": [
    "The chart below shows the historical trend in SPEI 6-month from 2016 to 2023 using the median value."
   ]
  },
  {
   "cell_type": "code",
   "execution_count": 21,
   "metadata": {
    "tags": [
     "remove-input"
    ]
   },
   "outputs": [
    {
     "data": {
      "text/html": [
       "\n",
       "            <style>\n",
       "                .geemap-dark {\n",
       "                    --jp-widgets-color: white;\n",
       "                    --jp-widgets-label-color: white;\n",
       "                    --jp-ui-font-color1: white;\n",
       "                    --jp-layout-color2: #454545;\n",
       "                    background-color: #383838;\n",
       "                }\n",
       "\n",
       "                .geemap-dark .jupyter-button {\n",
       "                    --jp-layout-color3: #383838;\n",
       "                }\n",
       "\n",
       "                .geemap-colab {\n",
       "                    background-color: var(--colab-primary-surface-color, white);\n",
       "                }\n",
       "\n",
       "                .geemap-colab .jupyter-button {\n",
       "                    --jp-layout-color3: var(--colab-primary-surface-color, white);\n",
       "                }\n",
       "            </style>\n",
       "            "
      ],
      "text/plain": [
       "<IPython.core.display.HTML object>"
      ]
     },
     "metadata": {},
     "output_type": "display_data"
    },
    {
     "data": {
      "image/png": "[encoded data removed]"
     },
     "metadata": {
      "image/png": {
       "height": 400,
       "width": 1000
      }
     },
     "output_type": "display_data"
    }
   ],
   "source": [
    "import logging\n",
    "\n",
    "logging.getLogger(\"matplotlib.font_manager\").setLevel(logging.ERROR)\n",
    "from plotnine import *\n",
    "from mizani.breaks import date_breaks\n",
    "from mizani.formatters import date_format\n",
    "\n",
    "spei = (\n",
    "    ee.ImageCollection(\"CSIC/SPEI/2_9\")\n",
    "    .select(\"SPEI_06_month\")\n",
    "    .filterDate(\"2016-01-01\", \"2023-12-31\")\n",
    ")\n",
    "\n",
    "\n",
    "def clip_image(image):\n",
    "    return image.clip(aoi)\n",
    "\n",
    "\n",
    "spei = spei.map(clip_image)\n",
    "\n",
    "ds = xr.open_dataset(\n",
    "    spei,\n",
    "    engine=\"ee\",\n",
    "    geometry=aoi.geometry(),\n",
    "    crs=\"EPSG:4326\",\n",
    "    scale=0.5,\n",
    ")\n",
    "\n",
    "country_median = ds.median(dim=[\"lat\", \"lon\"])\n",
    "df = country_median[\"SPEI_06_month\"].to_dataframe().reset_index()\n",
    "df.loc[:, \"ymd\"] = df[\"time\"].dt.strftime(\"%Y-%m-%d\")\n",
    "df.loc[:, \"group\"] = 1\n",
    "\n",
    "font = \"Roboto\"\n",
    "p = (\n",
    "    ggplot(df, aes(x=\"ymd\", y=\"SPEI_06_month\", group=\"group\", fill=\"SPEI_06_month\"))\n",
    "    + geom_bar(alpha=0.8, stat=\"identity\", color=\"black\", width=20)\n",
    "    + labs(\n",
    "        x=\"\",\n",
    "        subtitle=\"Standardised Precipitation-Evapotranspiration Index\",\n",
    "        title=\"Drought Index\",\n",
    "        y=\"\",\n",
    "        caption=\"Source: SPEI Global Database (Spanish National Research Council)\",\n",
    "    )\n",
    "    + theme_minimal()\n",
    "    + theme(\n",
    "        plot_background=element_rect(fill=\"white\"),\n",
    "        figure_size=(10, 4),\n",
    "        text=element_text(family=font, size=11),\n",
    "        plot_title=element_text(family=font, size=14, weight=\"bold\"),\n",
    "        legend_position=\"none\",\n",
    "    )\n",
    "    + scale_fill_distiller(\n",
    "        type=\"div\", palette=\"RdYlBu\", direction=1, limits=(-1.5, 1.5)\n",
    "    )\n",
    "    + scale_y_continuous(limits=(-1.5, 1.5))\n",
    "    + scale_x_datetime(\n",
    "        breaks=date_breaks(\"1 year\"), labels=date_format(\"%Y\")\n",
    "    )  # 6 month \"%b, %y\"\n",
    ")\n",
    "p"
   ]
  },
  {
   "cell_type": "markdown",
   "metadata": {},
   "source": [
    "## Trend of SPEI (12-month) in Syria"
   ]
  },
  {
   "cell_type": "code",
   "execution_count": 22,
   "metadata": {
    "tags": [
     "remove-input"
    ]
   },
   "outputs": [
    {
     "data": {
      "text/html": [
       "\n",
       "            <style>\n",
       "                .geemap-dark {\n",
       "                    --jp-widgets-color: white;\n",
       "                    --jp-widgets-label-color: white;\n",
       "                    --jp-ui-font-color1: white;\n",
       "                    --jp-layout-color2: #454545;\n",
       "                    background-color: #383838;\n",
       "                }\n",
       "\n",
       "                .geemap-dark .jupyter-button {\n",
       "                    --jp-layout-color3: #383838;\n",
       "                }\n",
       "\n",
       "                .geemap-colab {\n",
       "                    background-color: var(--colab-primary-surface-color, white);\n",
       "                }\n",
       "\n",
       "                .geemap-colab .jupyter-button {\n",
       "                    --jp-layout-color3: var(--colab-primary-surface-color, white);\n",
       "                }\n",
       "            </style>\n",
       "            "
      ],
      "text/plain": [
       "<IPython.core.display.HTML object>"
      ]
     },
     "metadata": {},
     "output_type": "display_data"
    },
    {
     "data": {
      "image/png": "[encoded data removed]"
     },
     "metadata": {
      "image/png": {
       "height": 400,
       "width": 1000
      }
     },
     "output_type": "display_data"
    }
   ],
   "source": [
    "spei = (\n",
    "    ee.ImageCollection(\"CSIC/SPEI/2_9\")\n",
    "    .select(\"SPEI_12_month\")\n",
    "    .filterDate(\"2016-01-01\", \"2023-12-31\")\n",
    ")\n",
    "\n",
    "\n",
    "def clip_image(image):\n",
    "    return image.clip(aoi)\n",
    "\n",
    "\n",
    "spei = spei.map(clip_image)\n",
    "\n",
    "ds = xr.open_dataset(\n",
    "    spei,\n",
    "    engine=\"ee\",\n",
    "    geometry=aoi.geometry(),\n",
    "    crs=\"EPSG:4326\",\n",
    "    scale=0.5,\n",
    ")\n",
    "\n",
    "country_median = ds.median(dim=[\"lat\", \"lon\"])\n",
    "df = country_median[\"SPEI_12_month\"].to_dataframe().reset_index()\n",
    "df.loc[:, \"ymd\"] = df[\"time\"].dt.strftime(\"%Y-%m-%d\")\n",
    "df.loc[:, \"group\"] = 1\n",
    "\n",
    "font = \"Roboto\"\n",
    "p = (\n",
    "    ggplot(df, aes(x=\"ymd\", y=\"SPEI_12_month\", group=\"group\", fill=\"SPEI_12_month\"))\n",
    "    + geom_bar(alpha=0.8, stat=\"identity\", color=\"black\", width=20)\n",
    "    + labs(\n",
    "        x=\"\",\n",
    "        subtitle=\"Standardised Precipitation-Evapotranspiration Index\",\n",
    "        title=\"Drought Index\",\n",
    "        y=\"\",\n",
    "        caption=\"Source: SPEI Global Database (Spanish National Research Council)\",\n",
    "    )\n",
    "    + theme_minimal()\n",
    "    + theme(\n",
    "        plot_background=element_rect(fill=\"white\"),\n",
    "        figure_size=(10, 4),\n",
    "        text=element_text(family=font, size=11),\n",
    "        plot_title=element_text(family=font, size=14, weight=\"bold\"),\n",
    "        legend_position=\"none\",\n",
    "    )\n",
    "    + scale_fill_distiller(\n",
    "        type=\"div\", palette=\"RdYlBu\", direction=1, limits=(-1.5, 1.5)\n",
    "    )\n",
    "    + scale_y_continuous(limits=(-1.5, 1.5))\n",
    "    + scale_x_datetime(\n",
    "        breaks=date_breaks(\"1 year\"), labels=date_format(\"%Y\")\n",
    "    )  # 6 month \"%b, %y\"\n",
    ")\n",
    "p"
   ]
  },
  {
   "cell_type": "code",
   "execution_count": 19,
   "metadata": {
    "tags": [
     "remove-cell"
    ]
   },
   "outputs": [
    {
     "data": {
      "text/html": [
       "\n",
       "            <style>\n",
       "                .geemap-dark {\n",
       "                    --jp-widgets-color: white;\n",
       "                    --jp-widgets-label-color: white;\n",
       "                    --jp-ui-font-color1: white;\n",
       "                    --jp-layout-color2: #454545;\n",
       "                    background-color: #383838;\n",
       "                }\n",
       "\n",
       "                .geemap-dark .jupyter-button {\n",
       "                    --jp-layout-color3: #383838;\n",
       "                }\n",
       "\n",
       "                .geemap-colab {\n",
       "                    background-color: var(--colab-primary-surface-color, white);\n",
       "                }\n",
       "\n",
       "                .geemap-colab .jupyter-button {\n",
       "                    --jp-layout-color3: var(--colab-primary-surface-color, white);\n",
       "                }\n",
       "            </style>\n",
       "            "
      ],
      "text/plain": [
       "<IPython.core.display.HTML object>"
      ]
     },
     "metadata": {},
     "output_type": "display_data"
    },
    {
     "data": {
      "image/png": "[encoded data removed]"
     },
     "metadata": {
      "image/png": {
       "height": 400,
       "width": 1000
      }
     },
     "output_type": "display_data"
    }
   ],
   "source": [
    "# pal = colormaps.get_palette('RdYlBu', 10) # Greens BrBG\n",
    "# visParams = {\n",
    "#   'min': -2.33,\n",
    "#   'max':  2.33,\n",
    "#   'palette': pal\n",
    "# }\n",
    "\n",
    "# spei = ee.ImageCollection(\"IDAHO_EPSCOR/TERRACLIMATE\").select('spei').filterDate('2019-01-01', '2023-12-31')\n",
    "# one = spei.first().clip(aoi)\n",
    "\n",
    "\n",
    "# m = Map(center=[centy, centx], zoom=6) # basemap='Esri.WorldImagery'\n",
    "# m.addLayer(one, visParams, 'SPEI')\n",
    "# # m.add_time_slider(spei, visParams, time_interval=1)\n",
    "# m.addLayerControl()\n",
    "# m\n",
    "\n",
    "# Download from https://spei.csic.es/map/maps.html\n",
    "ds2 = xr.open_dataset(spei_data_path)\n",
    "ds2 = ds2.isel(lat=slice(None, None, -1))\n",
    "# slice time dimension\n",
    "ds2 = ds2.sel(time=slice(\"2019-01-01\", \"2023-12-31\"))\n",
    "ds2.rio.set_spatial_dims(x_dim=\"lon\", y_dim=\"lat\", inplace=True)\n",
    "ds2.rio.write_crs(\"EPSG:4326\", inplace=True)\n",
    "clipped = ds2.rio.clip(adm0_syr.geometry.values, adm0_syr.crs, drop=True, invert=False)\n",
    "\n",
    "country_median = clipped.median(dim=[\"lat\", \"lon\"])\n",
    "df = country_median[\"spei\"].to_dataframe().reset_index()\n",
    "df.loc[:, \"ymd\"] = df[\"time\"].dt.strftime(\"%Y-%m-%d\")\n",
    "df.loc[:, \"group\"] = 1\n",
    "\n",
    "font = \"Roboto\"\n",
    "p = (\n",
    "    ggplot(df, aes(x=\"ymd\", y=\"spei\", group=\"group\", fill=\"spei\"))\n",
    "    + geom_bar(alpha=0.8, stat=\"identity\", color=\"black\", width=20)\n",
    "    + labs(\n",
    "        x=\"\",\n",
    "        subtitle=\"Standardised Precipitation-Evapotranspiration Index\",\n",
    "        title=\"Drought Index\",\n",
    "        y=\"\",\n",
    "        caption=\"Source: Global Drought Monitor (Spanish National Research Council)\",\n",
    "    )\n",
    "    + theme_minimal()\n",
    "    + theme(\n",
    "        plot_background=element_rect(fill=\"white\"),\n",
    "        figure_size=(10, 4),\n",
    "        text=element_text(family=font, size=11),\n",
    "        plot_title=element_text(family=font, size=14, weight=\"bold\"),\n",
    "        legend_position=\"none\",\n",
    "    )\n",
    "    + scale_fill_distiller(\n",
    "        type=\"div\", palette=\"RdYlBu\", direction=1, limits=(-1.5, 1.5)\n",
    "    )\n",
    "    + scale_x_datetime(breaks=date_breaks(\"1 year\"), labels=date_format(\"%Y\"))\n",
    ")\n",
    "p"
   ]
  },
  {
   "cell_type": "code",
   "execution_count": null,
   "metadata": {
    "tags": [
     "remove-cell"
    ]
   },
   "outputs": [],
   "source": [
    "# Load CHIRPS dataset\n",
    "chirps = ee.ImageCollection(\"UCSB-CHG/CHIRPS/DAILY\")\n",
    "\n",
    "# Filter dataset to the region of Sudan and select precipitation values from 2000 to 2024\n",
    "sudan_chirps = chirps.filterBounds(aoi).filterDate(\"2018-01-01\", \"2024-08-31\")\n",
    "\n",
    "\n",
    "# Calculate yearly mean precipitation\n",
    "def calculate_yearly_mean(year):\n",
    "    start_date = ee.Date.fromYMD(year, 1, 1)\n",
    "    end_date = start_date.advance(1, \"year\")\n",
    "    yearly_data = sudan_chirps.filterDate(start_date, end_date)\n",
    "    return yearly_data.mean().set(\"year\", year)\n",
    "\n",
    "\n",
    "# Generate list of yearly mean images\n",
    "years = list(range(2018, 2025))\n",
    "yearly_precip = [calculate_yearly_mean(year) for year in years]\n",
    "\n",
    "# Create an ImageCollection from the yearly mean images\n",
    "yearly_precip_collection = ee.ImageCollection.fromImages(yearly_precip)\n",
    "\n",
    "# Extract precipitation values to a list\n",
    "mean_precipitation = []\n",
    "for year in years:\n",
    "    image = yearly_precip_collection.filter(ee.Filter.eq(\"year\", year)).first()\n",
    "    mean_value = (\n",
    "        image.reduceRegion(\n",
    "            reducer=ee.Reducer.median(), geometry=aoi, scale=5000, maxPixels=1e9\n",
    "        )\n",
    "        .get(\"precipitation\")\n",
    "        .getInfo()\n",
    "    )\n",
    "    mean_precipitation.append(mean_value)\n",
    "\n",
    "# Plotting the mean precipitation values over years\n",
    "plt.figure(figsize=(10, 5))\n",
    "plt.plot(years, mean_precipitation, marker=\"o\")\n",
    "plt.xlabel(\"Year\")\n",
    "plt.ylabel(\"Mean Precipitation (mm)\")\n",
    "plt.title(\"Yearly Mean Precipitation trend for Syria\")\n",
    "plt.grid(False)\n",
    "plt.show()"
   ]
  },
  {
   "cell_type": "markdown",
   "metadata": {},
   "source": [
    "![Yearly_mean_precipitation_trend_2010_2014.png](../../docs/images/agriculture/yearly_mean_pp_2010_2024.png)"
   ]
  },
  {
   "cell_type": "markdown",
   "metadata": {},
   "source": [
    "### Monthly Rainfall Trends"
   ]
  },
  {
   "cell_type": "markdown",
   "metadata": {},
   "source": [
    "::::{tab-set}\n",
    ":::{tab-item} 2019\n",
    "![Monthly_rainfall_2019.png](../../docs/images/agriculture/Monthly_rainfall_2019.png)\n",
    ":::\n",
    ":::{tab-item} 2020\n",
    "![Monthly_rainfall_2024.png](../../docs/images/agriculture/Monthly_rainfall_2020.png)\n",
    ":::\n",
    ":::{tab-item} 2021\n",
    "![Monthly_rainfall_2023.png](../../docs/images/agriculture/Monthly_rainfall_2021.png)\n",
    ":::\n",
    ":::{tab-item} 2022\n",
    "![Monthly_rainfall_2024.png](../../docs/images/agriculture/Monthly_rainfall_2022.png)\n",
    ":::\n",
    ":::{tab-item} 2023\n",
    "![Monthly_rainfall_2023.png](../../docs/images/agriculture/Monthly_rainfall_2023.png)\n",
    ":::\n",
    ":::{tab-item} 2024\n",
    "![Monthly_rainfall_2024.png](../../docs/images/agriculture/Monthly_rainfall_2024_2.png)\n",
    ":::\n",
    "::::"
   ]
  },
  {
   "cell_type": "code",
   "execution_count": 13,
   "metadata": {
    "tags": [
     "remove-cell"
    ]
   },
   "outputs": [
    {
     "data": {
      "text/html": [
       "\n",
       "            <style>\n",
       "                .geemap-dark {\n",
       "                    --jp-widgets-color: white;\n",
       "                    --jp-widgets-label-color: white;\n",
       "                    --jp-ui-font-color1: white;\n",
       "                    --jp-layout-color2: #454545;\n",
       "                    background-color: #383838;\n",
       "                }\n",
       "\n",
       "                .geemap-dark .jupyter-button {\n",
       "                    --jp-layout-color3: #383838;\n",
       "                }\n",
       "\n",
       "                .geemap-colab {\n",
       "                    background-color: var(--colab-primary-surface-color, white);\n",
       "                }\n",
       "\n",
       "                .geemap-colab .jupyter-button {\n",
       "                    --jp-layout-color3: var(--colab-primary-surface-color, white);\n",
       "                }\n",
       "            </style>\n",
       "            "
      ],
      "text/plain": [
       "<IPython.core.display.HTML object>"
      ]
     },
     "metadata": {},
     "output_type": "display_data"
    },
    {
     "data": {
      "application/vnd.jupyter.widget-view+json": {
       "model_id": "49d2eac316894f4e80b5c09ee8ef4519",
       "version_major": 2,
       "version_minor": 0
      },
      "text/plain": [
       "VBox(children=(Figure(axes=[Axis(label_offset='30px', scale=DateScale()), Axis(label_offset='40px', orientatio…"
      ]
     },
     "metadata": {},
     "output_type": "display_data"
    }
   ],
   "source": [
    "import ee\n",
    "import geopandas as gpd\n",
    "import json\n",
    "from geemap import geojson_to_ee\n",
    "import geemap.chart as chart\n",
    "\n",
    "# Initialize the Earth Engine API\n",
    "# ee.Initialize()\n",
    "\n",
    "# Load the Syria boundary shapefile using geopandas\n",
    "shapefile_path = os.path.join(\n",
    "    base_path, \"data\", \"boundaries\", \"syr_admin1.shp\"\n",
    ")  # Update with the actual path\n",
    "gdf = gpd.read_file(shapefile_path)\n",
    "\n",
    "# Convert the GeoDataFrame to GeoJSON and parse it into a dictionary\n",
    "geojson = json.loads(gdf.to_json())\n",
    "\n",
    "# Convert GeoJSON to an Earth Engine FeatureCollection\n",
    "syria_boundary = geojson_to_ee(geojson)\n",
    "\n",
    "# Define the CHIRPS dataset\n",
    "chirps = ee.ImageCollection(\"UCSB-CHG/CHIRPS/PENTAD\")\n",
    "\n",
    "# Define the year of interest\n",
    "year = 2022\n",
    "start_date = ee.Date.fromYMD(year, 1, 1)\n",
    "end_date = start_date.advance(1, \"year\")\n",
    "\n",
    "# Filter the CHIRPS dataset for the year of interest\n",
    "year_filtered = chirps.filter(ee.Filter.date(start_date, end_date))\n",
    "\n",
    "# Create a list of months\n",
    "months = ee.List.sequence(1, 12)\n",
    "\n",
    "\n",
    "# Function to calculate monthly rainfall\n",
    "def create_monthly_image(month):\n",
    "    start_date = ee.Date.fromYMD(year, month, 1)\n",
    "    end_date = start_date.advance(1, \"month\")\n",
    "    month_filtered = year_filtered.filter(ee.Filter.date(start_date, end_date))\n",
    "    total = month_filtered.reduce(ee.Reducer.sum())\n",
    "    return total.set(\n",
    "        {\n",
    "            \"system:time_start\": start_date.millis(),\n",
    "            \"system:time_end\": end_date.millis(),\n",
    "            \"year\": year,\n",
    "            \"month\": month,\n",
    "        }\n",
    "    )\n",
    "\n",
    "\n",
    "# Map the function over the list of months\n",
    "monthly_images = months.map(create_monthly_image)\n",
    "monthly_collection = ee.ImageCollection.fromImages(monthly_images)\n",
    "\n",
    "# Create a chart of monthly rainfall for the Syria boundary\n",
    "rainfall_chart = chart.image_series(\n",
    "    image_collection=monthly_collection,\n",
    "    region=syria_boundary.geometry(),\n",
    "    reducer=ee.Reducer.mean(),\n",
    "    scale=5000,\n",
    "    title=\"Monthly Rainfall in Syria (2022)\",\n",
    "    x_axis_label=\"Month\",\n",
    "    y_axis_label=\"Rainfall (mm)\",\n",
    "    line_width=2,\n",
    "    point_size=4,\n",
    ")\n",
    "\n",
    "rainfall_chart"
   ]
  },
  {
   "cell_type": "code",
   "execution_count": 14,
   "metadata": {
    "tags": [
     "remove-cell"
    ]
   },
   "outputs": [
    {
     "data": {
      "text/html": [
       "\n",
       "            <style>\n",
       "                .geemap-dark {\n",
       "                    --jp-widgets-color: white;\n",
       "                    --jp-widgets-label-color: white;\n",
       "                    --jp-ui-font-color1: white;\n",
       "                    --jp-layout-color2: #454545;\n",
       "                    background-color: #383838;\n",
       "                }\n",
       "\n",
       "                .geemap-dark .jupyter-button {\n",
       "                    --jp-layout-color3: #383838;\n",
       "                }\n",
       "\n",
       "                .geemap-colab {\n",
       "                    background-color: var(--colab-primary-surface-color, white);\n",
       "                }\n",
       "\n",
       "                .geemap-colab .jupyter-button {\n",
       "                    --jp-layout-color3: var(--colab-primary-surface-color, white);\n",
       "                }\n",
       "            </style>\n",
       "            "
      ],
      "text/plain": [
       "<IPython.core.display.HTML object>"
      ]
     },
     "metadata": {},
     "output_type": "display_data"
    },
    {
     "data": {
      "application/vnd.jupyter.widget-view+json": {
       "model_id": "bf220c9536074b10821123dffa362c7c",
       "version_major": 2,
       "version_minor": 0
      },
      "text/plain": [
       "VBox(children=(Figure(axes=[Axis(label_offset='30px', scale=DateScale()), Axis(label_offset='40px', orientatio…"
      ]
     },
     "metadata": {},
     "output_type": "display_data"
    }
   ],
   "source": [
    "import ee\n",
    "import geopandas as gpd\n",
    "import json\n",
    "from geemap import geojson_to_ee\n",
    "import geemap.chart as chart\n",
    "\n",
    "# Initialize the Earth Engine API\n",
    "# ee.Initialize()\n",
    "\n",
    "# Load the Syria boundary shapefile using geopandas\n",
    "shapefile_path = os.path.join(\n",
    "    base_path, \"data\", \"boundaries\", \"syr_admin1.shp\"\n",
    ")  # Update with the actual path\n",
    "gdf = gpd.read_file(shapefile_path)\n",
    "\n",
    "# Convert the GeoDataFrame to GeoJSON and parse it into a dictionary\n",
    "geojson = json.loads(gdf.to_json())\n",
    "\n",
    "# Convert GeoJSON to an Earth Engine FeatureCollection\n",
    "syria_boundary = geojson_to_ee(geojson)\n",
    "\n",
    "# Define the CHIRPS dataset\n",
    "chirps = ee.ImageCollection(\"UCSB-CHG/CHIRPS/PENTAD\")\n",
    "\n",
    "# Define the year of interest\n",
    "year = 2020\n",
    "start_date = ee.Date.fromYMD(year, 1, 1)\n",
    "end_date = start_date.advance(1, \"year\")\n",
    "\n",
    "# Filter the CHIRPS dataset for the year of interest\n",
    "year_filtered = chirps.filter(ee.Filter.date(start_date, end_date))\n",
    "\n",
    "# Create a list of months\n",
    "months = ee.List.sequence(1, 12)\n",
    "\n",
    "\n",
    "# Function to calculate monthly rainfall\n",
    "def create_monthly_image(month):\n",
    "    start_date = ee.Date.fromYMD(year, month, 1)\n",
    "    end_date = start_date.advance(1, \"month\")\n",
    "    month_filtered = year_filtered.filter(ee.Filter.date(start_date, end_date))\n",
    "    total = month_filtered.reduce(ee.Reducer.sum())\n",
    "    return total.set(\n",
    "        {\n",
    "            \"system:time_start\": start_date.millis(),\n",
    "            \"system:time_end\": end_date.millis(),\n",
    "            \"year\": year,\n",
    "            \"month\": month,\n",
    "        }\n",
    "    )\n",
    "\n",
    "\n",
    "# Map the function over the list of months\n",
    "monthly_images = months.map(create_monthly_image)\n",
    "monthly_collection = ee.ImageCollection.fromImages(monthly_images)\n",
    "\n",
    "# Create a chart of monthly rainfall for the Syria boundary\n",
    "rainfall_chart = chart.image_series(\n",
    "    image_collection=monthly_collection,\n",
    "    region=syria_boundary.geometry(),\n",
    "    reducer=ee.Reducer.mean(),\n",
    "    scale=5000,\n",
    "    title=\"Monthly Rainfall in Syria (2020)\",\n",
    "    x_axis_label=\"Month\",\n",
    "    y_axis_label=\"Rainfall (mm)\",\n",
    "    line_width=2,\n",
    "    point_size=4,\n",
    ")\n",
    "\n",
    "rainfall_chart"
   ]
  },
  {
   "cell_type": "code",
   "execution_count": 15,
   "metadata": {
    "tags": [
     "remove-cell"
    ]
   },
   "outputs": [
    {
     "data": {
      "text/html": [
       "\n",
       "            <style>\n",
       "                .geemap-dark {\n",
       "                    --jp-widgets-color: white;\n",
       "                    --jp-widgets-label-color: white;\n",
       "                    --jp-ui-font-color1: white;\n",
       "                    --jp-layout-color2: #454545;\n",
       "                    background-color: #383838;\n",
       "                }\n",
       "\n",
       "                .geemap-dark .jupyter-button {\n",
       "                    --jp-layout-color3: #383838;\n",
       "                }\n",
       "\n",
       "                .geemap-colab {\n",
       "                    background-color: var(--colab-primary-surface-color, white);\n",
       "                }\n",
       "\n",
       "                .geemap-colab .jupyter-button {\n",
       "                    --jp-layout-color3: var(--colab-primary-surface-color, white);\n",
       "                }\n",
       "            </style>\n",
       "            "
      ],
      "text/plain": [
       "<IPython.core.display.HTML object>"
      ]
     },
     "metadata": {},
     "output_type": "display_data"
    },
    {
     "name": "stdout",
     "output_type": "stream",
     "text": [
      "12\n",
      "12\n",
      "12\n",
      "12\n",
      "12\n"
     ]
    },
    {
     "data": {
      "application/vnd.jupyter.widget-view+json": {
       "model_id": "01501d52d0d747a1bcc54f8fcefb06e6",
       "version_major": 2,
       "version_minor": 0
      },
      "text/plain": [
       "VBox(children=(Figure(axes=[Axis(label_offset='30px', scale=DateScale()), Axis(label_offset='40px', orientatio…"
      ]
     },
     "metadata": {},
     "output_type": "display_data"
    }
   ],
   "source": [
    "import ee\n",
    "import geopandas as gpd\n",
    "import json\n",
    "from geemap import geojson_to_ee\n",
    "import geemap.chart as chart\n",
    "import matplotlib.pyplot as plt\n",
    "\n",
    "# Initialize the Earth Engine API\n",
    "ee.Initialize()\n",
    "\n",
    "# Load the Syria boundary shapefile using geopandas\n",
    "shapefile_path = os.path.join(\n",
    "    base_path, \"data\", \"boundaries\", \"syr_admin1.shp\"\n",
    ")  # Update with the actual path\n",
    "gdf = gpd.read_file(shapefile_path)\n",
    "\n",
    "# Convert the GeoDataFrame to GeoJSON and parse it into a dictionary\n",
    "geojson = json.loads(gdf.to_json())\n",
    "\n",
    "# Convert GeoJSON to an Earth Engine FeatureCollection\n",
    "syria_boundary = geojson_to_ee(geojson)\n",
    "\n",
    "# Define the CHIRPS dataset\n",
    "chirps = ee.ImageCollection(\"UCSB-CHG/CHIRPS/PENTAD\")\n",
    "\n",
    "# Define the range of years\n",
    "start_year = 2019\n",
    "end_year = 2023\n",
    "\n",
    "# Initialize an empty list to store monthly images for all years\n",
    "all_monthly_images = ee.List([])\n",
    "\n",
    "\n",
    "# Function to calculate monthly rainfall\n",
    "def create_monthly_image(month):\n",
    "    start_date = ee.Date.fromYMD(year, month, 1)\n",
    "    end_date = start_date.advance(1, \"month\")\n",
    "    month_filtered = year_filtered.filter(ee.Filter.date(start_date, end_date))\n",
    "    total = month_filtered.reduce(ee.Reducer.sum())\n",
    "    return total.set(\n",
    "        {\n",
    "            \"system:time_start\": start_date.millis(),\n",
    "            \"system:time_end\": end_date.millis(),\n",
    "            \"year\": year,\n",
    "            \"month\": month,\n",
    "        }\n",
    "    )\n",
    "\n",
    "\n",
    "# Loop through each year and aggregate monthly rainfall\n",
    "for year in range(start_year, end_year + 1):\n",
    "    start_date = ee.Date.fromYMD(year, 1, 1)\n",
    "    end_date = ee.Date.fromYMD(year + 1, 1, 1)\n",
    "\n",
    "    # Filter the CHIRPS dataset for the year\n",
    "    year_filtered = chirps.filter(ee.Filter.date(start_date, end_date))\n",
    "\n",
    "    # Create a list of months\n",
    "    months = ee.List.sequence(1, 12)\n",
    "\n",
    "    monthly_images = months.map(create_monthly_image)\n",
    "    print(monthly_images.size().getInfo())\n",
    "    # monthly_collection = ee.ImageCollection.fromImages(monthly_images)\n",
    "\n",
    "    # Combine images into the all_monthly_images list\n",
    "    all_monthly_images = all_monthly_images.add(monthly_images)\n",
    "\n",
    "all_monthly_images = all_monthly_images.flatten()\n",
    "# print(all_monthly_images.size().getInfo())\n",
    "\n",
    "\n",
    "# Combine all monthly images into a single ImageCollection\n",
    "all_monthly_collection = ee.ImageCollection.fromImages((all_monthly_images))\n",
    "\n",
    "# Create a chart of monthly rainfall for the Syria boundary\n",
    "rainfall_chart = chart.image_series(\n",
    "    image_collection=all_monthly_collection,\n",
    "    region=syria_boundary.geometry(),\n",
    "    reducer=ee.Reducer.mean(),\n",
    "    scale=5000,\n",
    "    title=\"Monthly Rainfall in Syria (2019-2024)\",\n",
    "    x_axis_label=\"Time\",\n",
    "    y_axis_label=\"Rainfall (mm)\",\n",
    "    line_width=2,\n",
    "    point_size=4,\n",
    ")\n",
    "\n",
    "rainfall_chart\n",
    "\n",
    "# all_monthly_images"
   ]
  },
  {
   "cell_type": "code",
   "execution_count": null,
   "metadata": {
    "tags": [
     "remove-cell"
    ]
   },
   "outputs": [],
   "source": [
    "import ee\n",
    "import pandas as pd\n",
    "import matplotlib.pyplot as plt\n",
    "from geemap import geojson_to_ee\n",
    "\n",
    "# Initialize the Earth Engine API\n",
    "ee.Initialize()\n",
    "\n",
    "# Define the CHIRPS dataset and Syria boundary\n",
    "chirps = ee.ImageCollection(\"UCSB-CHG/CHIRPS/PENTAD\")\n",
    "\n",
    "# Load the Syria boundary shapefile\n",
    "syria_boundary = geojson_to_ee(json.loads(gdf.to_json()))\n",
    "\n",
    "# Define the range of years\n",
    "start_year = 2019\n",
    "end_year = 2023\n",
    "\n",
    "# Initialize a list to store monthly data\n",
    "data_list = []\n",
    "\n",
    "\n",
    "# Function to calculate monthly rainfall\n",
    "def create_monthly_image(year, month):\n",
    "    start_date = ee.Date.fromYMD(year, month, 1)\n",
    "    end_date = start_date.advance(1, \"month\")\n",
    "    monthly_image = chirps.filter(ee.Filter.date(start_date, end_date)).reduce(\n",
    "        ee.Reducer.sum()\n",
    "    )\n",
    "    mean_rainfall = monthly_image.reduceRegion(\n",
    "        reducer=ee.Reducer.mean(), geometry=syria_boundary.geometry(), scale=5000\n",
    "    ).get(\"precipitation\")\n",
    "    return {\"year\": year, \"month\": month, \"mean_rainfall\": mean_rainfall}\n",
    "\n",
    "\n",
    "# Loop through each year and month to aggregate rainfall data\n",
    "for year in range(start_year, end_year + 1):\n",
    "    for month in range(1, 13):\n",
    "        result = create_monthly_image(year, month)\n",
    "        data_list.append(result)\n",
    "\n",
    "# Convert the data into a DataFrame\n",
    "data = pd.DataFrame(data_list)\n",
    "data[\"date\"] = pd.to_datetime(data[[\"year\", \"month\"]].assign(day=1))\n",
    "\n",
    "\"\"\"# Retrieve values from Earth Engine\n",
    "def fetch_value(row):\n",
    "    return ee.Number(row['mean_rainfall']).getInfo()\n",
    "\n",
    "data['rainfall'] = data.apply(fetch_value, axis=1)\n",
    "\n",
    "# Plot the data using Plotly\n",
    "fig = px.line(\n",
    "    data,\n",
    "    x='date',\n",
    "    y='rainfall',\n",
    "    title='Monthly Rainfall in Syria (2019-2024)',\n",
    "    labels={'rainfall': 'Rainfall (mm)', 'date': 'Time'},\n",
    "    template='plotly_white'\n",
    ")\n",
    "\n",
    "# Add a range slider for interactivity\n",
    "fig.update_layout(\n",
    "    xaxis=dict(\n",
    "        rangeslider=dict(visible=True),\n",
    "        type='date'\n",
    "    )\n",
    ")\n",
    "\n",
    "# Show the interactive plot\n",
    "fig.show()\"\"\"\n",
    "\n",
    "print(data)"
   ]
  },
  {
   "cell_type": "code",
   "execution_count": 13,
   "metadata": {
    "tags": [
     "remove-cell"
    ]
   },
   "outputs": [
    {
     "data": {
      "text/html": [
       "\n",
       "            <style>\n",
       "                .geemap-dark {\n",
       "                    --jp-widgets-color: white;\n",
       "                    --jp-widgets-label-color: white;\n",
       "                    --jp-ui-font-color1: white;\n",
       "                    --jp-layout-color2: #454545;\n",
       "                    background-color: #383838;\n",
       "                }\n",
       "\n",
       "                .geemap-dark .jupyter-button {\n",
       "                    --jp-layout-color3: #383838;\n",
       "                }\n",
       "\n",
       "                .geemap-colab {\n",
       "                    background-color: var(--colab-primary-surface-color, white);\n",
       "                }\n",
       "\n",
       "                .geemap-colab .jupyter-button {\n",
       "                    --jp-layout-color3: var(--colab-primary-surface-color, white);\n",
       "                }\n",
       "            </style>\n",
       "            "
      ],
      "text/plain": [
       "<IPython.core.display.HTML object>"
      ]
     },
     "metadata": {},
     "output_type": "display_data"
    },
    {
     "ename": "AttributeError",
     "evalue": "'NoneType' object has no attribute 'append'",
     "output_type": "error",
     "traceback": [
      "\u001b[1;31m---------------------------------------------------------------------------\u001b[0m",
      "\u001b[1;31mAttributeError\u001b[0m                            Traceback (most recent call last)",
      "Cell \u001b[1;32mIn[13], line 59\u001b[0m\n\u001b[0;32m     56\u001b[0m     \u001b[38;5;66;03m# Map the function over the list of months\u001b[39;00m\n\u001b[0;32m     57\u001b[0m     monthly_images \u001b[38;5;241m=\u001b[39m months\u001b[38;5;241m.\u001b[39mmap(create_monthly_image)\n\u001b[1;32m---> 59\u001b[0m     all_monthly_images \u001b[38;5;241m=\u001b[39m \u001b[43mall_monthly_images\u001b[49m\u001b[38;5;241;43m.\u001b[39;49m\u001b[43mappend\u001b[49m(monthly_images)\n\u001b[0;32m     62\u001b[0m \u001b[38;5;66;03m# Combine all monthly images into a single ImageCollection\u001b[39;00m\n\u001b[0;32m     63\u001b[0m all_monthly_collection \u001b[38;5;241m=\u001b[39m ee\u001b[38;5;241m.\u001b[39mImageCollection\u001b[38;5;241m.\u001b[39mfromImages(all_monthly_images)\n",
      "\u001b[1;31mAttributeError\u001b[0m: 'NoneType' object has no attribute 'append'"
     ]
    }
   ],
   "source": [
    "import ee\n",
    "import geopandas as gpd\n",
    "import json\n",
    "from geemap import geojson_to_ee\n",
    "import geemap.chart as chart\n",
    "import matplotlib.pyplot as plt\n",
    "\n",
    "# Initialize the Earth Engine API\n",
    "ee.Initialize()\n",
    "\n",
    "# Load the Syria boundary shapefile using geopandas\n",
    "# shapefile_path = \"path_to_your_syria_shapefile.shp\"  # Update with the actual path\n",
    "shapefile_path = os.path.join(base_path, \"data\", \"boundaries\", \"syr_admin1.shp\")\n",
    "gdf = gpd.read_file(shapefile_path)\n",
    "\n",
    "# Convert the GeoDataFrame to GeoJSON and parse it into a dictionary\n",
    "geojson = json.loads(gdf.to_json())\n",
    "\n",
    "# Convert GeoJSON to an Earth Engine FeatureCollection\n",
    "syria_boundary = geojson_to_ee(geojson)\n",
    "\n",
    "# Define the CHIRPS dataset\n",
    "chirps = ee.ImageCollection(\"UCSB-CHG/CHIRPS/PENTAD\")\n",
    "\n",
    "# Define the range of years\n",
    "start_year = 2019\n",
    "end_year = 2024\n",
    "\n",
    "# Initialize an empty list to store monthly images for all years\n",
    "all_monthly_images = []\n",
    "\n",
    "# Loop through each year and aggregate monthly rainfall\n",
    "for year in range(start_year, end_year + 1):\n",
    "    start_date = ee.Date.fromYMD(year, 1, 1)\n",
    "    end_date = ee.Date.fromYMD(year + 1, 1, 1)\n",
    "\n",
    "    # Filter the CHIRPS dataset for the year\n",
    "    year_filtered = chirps.filter(ee.Filter.date(start_date, end_date))\n",
    "\n",
    "    # Create a list of months\n",
    "    months = ee.List.sequence(1, 12)\n",
    "\n",
    "    # Function to calculate monthly rainfall\n",
    "    def create_monthly_image(month):\n",
    "        start_date = ee.Date.fromYMD(year, month, 1)\n",
    "        end_date = start_date.advance(1, \"month\")\n",
    "        month_filtered = year_filtered.filter(ee.Filter.date(start_date, end_date))\n",
    "        total = month_filtered.reduce(ee.Reducer.sum())\n",
    "        return total.set(\n",
    "            {\n",
    "                \"system:time_start\": start_date.millis(),\n",
    "                \"system:time_end\": end_date.millis(),\n",
    "                \"year\": year,\n",
    "                \"month\": month,\n",
    "            }\n",
    "        )\n",
    "\n",
    "    # Map the function over the list of months\n",
    "    monthly_images = months.map(create_monthly_image)\n",
    "\n",
    "    all_monthly_images = all_monthly_images.append(monthly_images)\n",
    "\n",
    "\n",
    "# Combine all monthly images into a single ImageCollection\n",
    "all_monthly_collection = ee.ImageCollection.fromImages(all_monthly_images)\n",
    "\n",
    "# Create a chart of monthly rainfall for the Syria boundary\n",
    "rainfall_chart = chart.image_series(\n",
    "    image_collection=all_monthly_collection,\n",
    "    region=syria_boundary.geometry(),\n",
    "    reducer=ee.Reducer.mean(),\n",
    "    scale=5000,\n",
    "    title=\"Monthly Rainfall in Syria (2019-2024)\",\n",
    "    x_axis_label=\"Time\",\n",
    "    y_axis_label=\"Rainfall (mm)\",\n",
    "    line_width=2,\n",
    "    point_size=4,\n",
    ")\n",
    "\n",
    "rainfall_chart"
   ]
  },
  {
   "cell_type": "code",
   "execution_count": null,
   "metadata": {
    "tags": [
     "remove-cell"
    ]
   },
   "outputs": [
    {
     "data": {
      "text/html": [
       "\n",
       "            <style>\n",
       "                .geemap-dark {\n",
       "                    --jp-widgets-color: white;\n",
       "                    --jp-widgets-label-color: white;\n",
       "                    --jp-ui-font-color1: white;\n",
       "                    --jp-layout-color2: #454545;\n",
       "                    background-color: #383838;\n",
       "                }\n",
       "\n",
       "                .geemap-dark .jupyter-button {\n",
       "                    --jp-layout-color3: #383838;\n",
       "                }\n",
       "\n",
       "                .geemap-colab {\n",
       "                    background-color: var(--colab-primary-surface-color, white);\n",
       "                }\n",
       "\n",
       "                .geemap-colab .jupyter-button {\n",
       "                    --jp-layout-color3: var(--colab-primary-surface-color, white);\n",
       "                }\n",
       "            </style>\n",
       "            "
      ],
      "text/plain": [
       "<IPython.core.display.HTML object>"
      ]
     },
     "metadata": {},
     "output_type": "display_data"
    },
    {
     "data": {
      "application/vnd.jupyter.widget-view+json": {
       "model_id": "a303a80cbbad45cd8321f5686153f8da",
       "version_major": 2,
       "version_minor": 0
      },
      "text/plain": [
       "Map(center=[35, 38], controls=(WidgetControl(options=['position', 'transparent_bg'], widget=SearchDataGUI(chil…"
      ]
     },
     "execution_count": 7,
     "metadata": {},
     "output_type": "execute_result"
    }
   ],
   "source": [
    "import geemap\n",
    "\n",
    "# Define the boundary of Syria\n",
    "syria_boundary = ee.FeatureCollection(\"USDOS/LSIB_SIMPLE/2017\").filter(\n",
    "    ee.Filter.eq(\"country_na\", \"Syria\")\n",
    ")\n",
    "\n",
    "# Load the JRC Global Surface Water dataset (selecting the 'occurrence' band)\n",
    "water_bodies = ee.Image(\"JRC/GSW1_4/GlobalSurfaceWater\").select(\"occurrence\")\n",
    "\n",
    "# Clip the water occurrence data to the Syria boundary\n",
    "water_bodies_clipped = water_bodies.clip(aoi)\n",
    "\n",
    "# Set visualization parameters for displaying the water occurrence data\n",
    "vis_params = {\"min\": 0, \"max\": 100, \"palette\": [\"white\", \"blue\"]}\n",
    "\n",
    "# Create a map using geemap and display the water occurrence data\n",
    "Map = geemap.Map(center=[35, 38], zoom=6)\n",
    "Map.addLayer(syria_boundary, {}, \"Syria Boundary\")\n",
    "Map.addLayer(water_bodies_clipped, vis_params, \"Water Bodies Occurrence\")\n",
    "Map.addLayerControl()\n",
    "Map"
   ]
  },
  {
   "cell_type": "code",
   "execution_count": null,
   "metadata": {
    "tags": [
     "remove-cell"
    ]
   },
   "outputs": [
    {
     "data": {
      "text/html": [
       "\n",
       "            <style>\n",
       "                .geemap-dark {\n",
       "                    --jp-widgets-color: white;\n",
       "                    --jp-widgets-label-color: white;\n",
       "                    --jp-ui-font-color1: white;\n",
       "                    --jp-layout-color2: #454545;\n",
       "                    background-color: #383838;\n",
       "                }\n",
       "\n",
       "                .geemap-dark .jupyter-button {\n",
       "                    --jp-layout-color3: #383838;\n",
       "                }\n",
       "\n",
       "                .geemap-colab {\n",
       "                    background-color: var(--colab-primary-surface-color, white);\n",
       "                }\n",
       "\n",
       "                .geemap-colab .jupyter-button {\n",
       "                    --jp-layout-color3: var(--colab-primary-surface-color, white);\n",
       "                }\n",
       "            </style>\n",
       "            "
      ],
      "text/plain": [
       "<IPython.core.display.HTML object>"
      ]
     },
     "metadata": {},
     "output_type": "display_data"
    }
   ],
   "source": [
    "\"\"\"# Export the clipped water occurrence data to Google Drive\n",
    "export_task = ee.batch.Export.image.toDrive(\n",
    "    image=water_bodies_clipped,\n",
    "    description='Syria_WaterBodies_Occurrence',\n",
    "    scale=30,\n",
    "    region=aoi,\n",
    "    fileFormat='GeoTIFF'\n",
    ")\n",
    "export_task.start()\"\"\""
   ]
  },
  {
   "cell_type": "code",
   "execution_count": null,
   "metadata": {
    "tags": [
     "remove-cell"
    ]
   },
   "outputs": [
    {
     "data": {
      "text/html": [
       "\n",
       "            <style>\n",
       "                .geemap-dark {\n",
       "                    --jp-widgets-color: white;\n",
       "                    --jp-widgets-label-color: white;\n",
       "                    --jp-ui-font-color1: white;\n",
       "                    --jp-layout-color2: #454545;\n",
       "                    background-color: #383838;\n",
       "                }\n",
       "\n",
       "                .geemap-dark .jupyter-button {\n",
       "                    --jp-layout-color3: #383838;\n",
       "                }\n",
       "\n",
       "                .geemap-colab {\n",
       "                    background-color: var(--colab-primary-surface-color, white);\n",
       "                }\n",
       "\n",
       "                .geemap-colab .jupyter-button {\n",
       "                    --jp-layout-color3: var(--colab-primary-surface-color, white);\n",
       "                }\n",
       "            </style>\n",
       "            "
      ],
      "text/plain": [
       "<IPython.core.display.HTML object>"
      ]
     },
     "metadata": {},
     "output_type": "display_data"
    },
    {
     "data": {
      "text/html": [
       "<div>\n",
       "<style scoped>\n",
       "    .dataframe tbody tr th:only-of-type {\n",
       "        vertical-align: middle;\n",
       "    }\n",
       "\n",
       "    .dataframe tbody tr th {\n",
       "        vertical-align: top;\n",
       "    }\n",
       "\n",
       "    .dataframe thead th {\n",
       "        text-align: right;\n",
       "    }\n",
       "</style>\n",
       "<table border=\"1\" class=\"dataframe\">\n",
       "  <thead>\n",
       "    <tr style=\"text-align: right;\">\n",
       "      <th></th>\n",
       "      <th>GLWD_ID</th>\n",
       "      <th>TYPE</th>\n",
       "      <th>LAKE_NAME</th>\n",
       "      <th>DAM_NAME</th>\n",
       "      <th>POLY_SRC</th>\n",
       "      <th>AREA_SKM</th>\n",
       "      <th>PERIM_KM</th>\n",
       "      <th>LONG_DEG</th>\n",
       "      <th>LAT_DEG</th>\n",
       "      <th>ELEV_M</th>\n",
       "      <th>...</th>\n",
       "      <th>MGLD_AREA</th>\n",
       "      <th>LRS_AREA</th>\n",
       "      <th>LRS_AR_SRC</th>\n",
       "      <th>LRS_CATCH</th>\n",
       "      <th>DAM_HEIGHT</th>\n",
       "      <th>DAM_YEAR</th>\n",
       "      <th>USE_1</th>\n",
       "      <th>USE_2</th>\n",
       "      <th>USE_3</th>\n",
       "      <th>geometry</th>\n",
       "    </tr>\n",
       "  </thead>\n",
       "  <tbody>\n",
       "    <tr>\n",
       "      <th>0</th>\n",
       "      <td>279</td>\n",
       "      <td>Reservoir</td>\n",
       "      <td>Assad</td>\n",
       "      <td>None</td>\n",
       "      <td>DCW</td>\n",
       "      <td>638.6</td>\n",
       "      <td>228.9</td>\n",
       "      <td>38.10</td>\n",
       "      <td>36.07</td>\n",
       "      <td>293</td>\n",
       "      <td>...</td>\n",
       "      <td>600</td>\n",
       "      <td>NaN</td>\n",
       "      <td>None</td>\n",
       "      <td>NaN</td>\n",
       "      <td>NaN</td>\n",
       "      <td>NaN</td>\n",
       "      <td>None</td>\n",
       "      <td>None</td>\n",
       "      <td>None</td>\n",
       "      <td>POLYGON ((38.1875 36.35158, 38.1915 36.34816, ...</td>\n",
       "    </tr>\n",
       "    <tr>\n",
       "      <th>1</th>\n",
       "      <td>1196</td>\n",
       "      <td>Lake</td>\n",
       "      <td>Tiberias</td>\n",
       "      <td>None</td>\n",
       "      <td>DCW</td>\n",
       "      <td>155.8</td>\n",
       "      <td>50.9</td>\n",
       "      <td>35.59</td>\n",
       "      <td>32.80</td>\n",
       "      <td>-202</td>\n",
       "      <td>...</td>\n",
       "      <td>150</td>\n",
       "      <td>NaN</td>\n",
       "      <td>None</td>\n",
       "      <td>NaN</td>\n",
       "      <td>NaN</td>\n",
       "      <td>NaN</td>\n",
       "      <td>None</td>\n",
       "      <td>None</td>\n",
       "      <td>None</td>\n",
       "      <td>POLYGON ((35.64804 32.80998, 35.64448 32.81066...</td>\n",
       "    </tr>\n",
       "  </tbody>\n",
       "</table>\n",
       "<p>2 rows × 29 columns</p>\n",
       "</div>"
      ],
      "text/plain": [
       "   GLWD_ID       TYPE LAKE_NAME DAM_NAME POLY_SRC  AREA_SKM  PERIM_KM  \\\n",
       "0      279  Reservoir     Assad     None      DCW     638.6     228.9   \n",
       "1     1196       Lake  Tiberias     None      DCW     155.8      50.9   \n",
       "\n",
       "   LONG_DEG  LAT_DEG  ELEV_M  ...  MGLD_AREA  LRS_AREA  LRS_AR_SRC LRS_CATCH  \\\n",
       "0     38.10    36.07     293  ...        600       NaN        None       NaN   \n",
       "1     35.59    32.80    -202  ...        150       NaN        None       NaN   \n",
       "\n",
       "  DAM_HEIGHT DAM_YEAR USE_1 USE_2 USE_3  \\\n",
       "0        NaN      NaN  None  None  None   \n",
       "1        NaN      NaN  None  None  None   \n",
       "\n",
       "                                            geometry  \n",
       "0  POLYGON ((38.1875 36.35158, 38.1915 36.34816, ...  \n",
       "1  POLYGON ((35.64804 32.80998, 35.64448 32.81066...  \n",
       "\n",
       "[2 rows x 29 columns]"
      ]
     },
     "execution_count": 30,
     "metadata": {},
     "output_type": "execute_result"
    }
   ],
   "source": [
    "water_bodies_syria_gdf"
   ]
  },
  {
   "cell_type": "markdown",
   "metadata": {},
   "source": [
    "### Detecting Water Bodies in Syria "
   ]
  },
  {
   "cell_type": "markdown",
   "metadata": {},
   "source": [
    "::::{tab-set}\n",
    ":::{tab-item} Assad reservoir\n",
    "![water_buffer_zones.png](../../docs/images/agriculture/water_buffer_zones.png)\n",
    ":::\n",
    "::::"
   ]
  },
  {
   "cell_type": "code",
   "execution_count": null,
   "metadata": {
    "tags": [
     "remove-cell"
    ]
   },
   "outputs": [
    {
     "data": {
      "text/html": [
       "\n",
       "            <style>\n",
       "                .geemap-dark {\n",
       "                    --jp-widgets-color: white;\n",
       "                    --jp-widgets-label-color: white;\n",
       "                    --jp-ui-font-color1: white;\n",
       "                    --jp-layout-color2: #454545;\n",
       "                    background-color: #383838;\n",
       "                }\n",
       "\n",
       "                .geemap-dark .jupyter-button {\n",
       "                    --jp-layout-color3: #383838;\n",
       "                }\n",
       "\n",
       "                .geemap-colab {\n",
       "                    background-color: var(--colab-primary-surface-color, white);\n",
       "                }\n",
       "\n",
       "                .geemap-colab .jupyter-button {\n",
       "                    --jp-layout-color3: var(--colab-primary-surface-color, white);\n",
       "                }\n",
       "            </style>\n",
       "            "
      ],
      "text/plain": [
       "<IPython.core.display.HTML object>"
      ]
     },
     "metadata": {},
     "output_type": "display_data"
    }
   ],
   "source": [
    "# MODIS Data for EVI\n",
    "start_period = ee.Date(\"2019-01-01\")\n",
    "end_period = ee.Date(\"2024-09-30\")\n",
    "\n",
    "terra = (\n",
    "    ee.ImageCollection(\"MODIS/061/MOD13Q1\")\n",
    "    .select([\"EVI\", \"SummaryQA\", \"DetailedQA\"])\n",
    "    .filterDate(start_period, end_period)\n",
    ")\n",
    "aqua = (\n",
    "    ee.ImageCollection(\"MODIS/061/MYD13Q1\")\n",
    "    .select([\"EVI\", \"SummaryQA\", \"DetailedQA\"])\n",
    "    .filterDate(start_period, end_period)\n",
    ")\n",
    "\n",
    "modis = terra.select(\"EVI\").merge(aqua.select(\"EVI\"))\n",
    "modis = modis.sort(\"system:time_start\")\n",
    "\n",
    "\n",
    "# ----------------------BITWISE MASKING---------------------------------------\n",
    "def bitwiseExtract(value, fromBit, toBit=None):\n",
    "    if toBit == None:\n",
    "        toBit = fromBit\n",
    "    maskSize = ee.Number(1).add(toBit).subtract(fromBit)\n",
    "    mask = ee.Number(1).leftShift(maskSize).subtract(1)\n",
    "    return value.rightShift(fromBit).bitwiseAnd(mask)\n",
    "\n",
    "\n",
    "# Applying the SummaryQA  and DetailedQA\n",
    "def modisQA_mask(image):\n",
    "    sqa = image.select(\"SummaryQA\")\n",
    "    dqa = image.select(\"DetailedQA\")\n",
    "    viQualityFlagsS = bitwiseExtract(sqa, 0, 1)\n",
    "    viQualityFlagsD = bitwiseExtract(dqa, 0, 1)\n",
    "    # viUsefulnessFlagsD = bitwiseExtract(dqa, 2, 5)\n",
    "    viSnowIceFlagsD = bitwiseExtract(dqa, 14)\n",
    "    viShadowFlagsD = bitwiseExtract(dqa, 15)\n",
    "    # Good data, use with confidence\n",
    "    mask = (\n",
    "        viQualityFlagsS.eq(0)\n",
    "        .And(viQualityFlagsD.eq(0))\n",
    "        .And(viQualityFlagsS.eq(1))\n",
    "        .And(viQualityFlagsD.eq(1))\n",
    "        .And(viSnowIceFlagsD)\n",
    "        .eq(0)\n",
    "    )\n",
    "    # .And(viShadowFlagsD).eq(0); # No shadow\n",
    "    return image.updateMask(mask)\n",
    "\n",
    "\n",
    "mod13q1_QC = terra.map(modisQA_mask)\n",
    "myd13q1_QC = aqua.map(modisQA_mask)\n",
    "\n",
    "mxd13q1_cleaned = mod13q1_QC.select(\"EVI\").merge(myd13q1_QC.select(\"EVI\"))\n",
    "mxd13q1_cleaned_sorted = mxd13q1_cleaned.sort(\"system:time_start\")\n",
    "\n",
    "bool_dict = {\n",
    "    \"0\": \"ocean\",\n",
    "    \"1\": \"non_crop\",\n",
    "    \"2\": \"crop_irrigated\",\n",
    "    \"3\": \"crop_rainfed\",\n",
    "}\n",
    "\n",
    "esa_worldcover = ee.ImageCollection(\"ESA/WorldCover/v100\").mosaic()\n",
    "crop_data1 = esa_worldcover.select(\"Map\").eq(40).rename(\"crop\")\n",
    "\n",
    "scale_factor = 0.0001\n",
    "\n",
    "\n",
    "# apply cropland mask to imageCollection\n",
    "def cropmask(img):\n",
    "    return img.updateMask(crop_data1).clip(aoi)  # .multiply(scale_factor) # unmask(-1)\n",
    "\n",
    "\n",
    "mxd13q1 = mxd13q1_cleaned_sorted.map(cropmask)"
   ]
  },
  {
   "cell_type": "code",
   "execution_count": null,
   "metadata": {
    "tags": [
     "remove-cell"
    ]
   },
   "outputs": [
    {
     "data": {
      "text/html": [
       "\n",
       "            <style>\n",
       "                .geemap-dark {\n",
       "                    --jp-widgets-color: white;\n",
       "                    --jp-widgets-label-color: white;\n",
       "                    --jp-ui-font-color1: white;\n",
       "                    --jp-layout-color2: #454545;\n",
       "                    background-color: #383838;\n",
       "                }\n",
       "\n",
       "                .geemap-dark .jupyter-button {\n",
       "                    --jp-layout-color3: #383838;\n",
       "                }\n",
       "\n",
       "                .geemap-colab {\n",
       "                    background-color: var(--colab-primary-surface-color, white);\n",
       "                }\n",
       "\n",
       "                .geemap-colab .jupyter-button {\n",
       "                    --jp-layout-color3: var(--colab-primary-surface-color, white);\n",
       "                }\n",
       "            </style>\n",
       "            "
      ],
      "text/plain": [
       "<IPython.core.display.HTML object>"
      ]
     },
     "metadata": {},
     "output_type": "display_data"
    },
    {
     "name": "stdout",
     "output_type": "stream",
     "text": [
      "Export task started. Check your Google Drive for the CSV file.\n"
     ]
    }
   ],
   "source": [
    "water_bodies = ee.Image(\"JRC/GSW1_4/GlobalSurfaceWater\").select(\"occurrence\").clip(aoi)\n",
    "water_bodies_masked = water_bodies.gt(50)\n",
    "\n",
    "buffered_water_bodies = (\n",
    "    water_bodies.reduceToVectors(\n",
    "        geometryType=\"polygon\",\n",
    "        reducer=ee.Reducer.countEvery(),\n",
    "        scale=30,\n",
    "        geometry=syria_boundary.geometry(),\n",
    "        maxPixels=1e13,\n",
    "    )\n",
    "    .geometry()\n",
    "    .buffer(1000)\n",
    "    .simplify(500)\n",
    ")  # Buffer in meters (adjust as needed)\n",
    "\n",
    "\n",
    "# Calculate mean EVI for each image in the collection near the buffered water bodies\n",
    "evi_time_series = mxd13q1.map(\n",
    "    lambda img: img.reduceRegion(\n",
    "        reducer=ee.Reducer.mean(),\n",
    "        geometry=buffered_water_bodies,\n",
    "        scale=500,\n",
    "        bestEffort=True,\n",
    "    ).set(\"date\", img.date().format(\"YYYY-MM-dd\"))\n",
    ")\n",
    "\n",
    "# Convert the results to a feature collection for export\n",
    "evi_features = evi_time_series.map(lambda dict_entry: ee.Feature(None, dict_entry))\n",
    "evi_fc = ee.FeatureCollection(evi_features)\n",
    "\n",
    "# Export the time series to Google Drive\n",
    "export_task = ee.batch.Export.table.toDrive(\n",
    "    collection=evi_fc,\n",
    "    description=\"EVI_Time_Series_Near_Water_Bodies_Syria\",\n",
    "    fileFormat=\"CSV\",\n",
    ")\n",
    "export_task.start()\n",
    "\n",
    "\n",
    "print(\"Export task started. Check your Google Drive for the CSV file.\")"
   ]
  },
  {
   "cell_type": "code",
   "execution_count": null,
   "metadata": {
    "tags": [
     "remove-cell"
    ]
   },
   "outputs": [
    {
     "data": {
      "text/html": [
       "\n",
       "            <style>\n",
       "                .geemap-dark {\n",
       "                    --jp-widgets-color: white;\n",
       "                    --jp-widgets-label-color: white;\n",
       "                    --jp-ui-font-color1: white;\n",
       "                    --jp-layout-color2: #454545;\n",
       "                    background-color: #383838;\n",
       "                }\n",
       "\n",
       "                .geemap-dark .jupyter-button {\n",
       "                    --jp-layout-color3: #383838;\n",
       "                }\n",
       "\n",
       "                .geemap-colab {\n",
       "                    background-color: var(--colab-primary-surface-color, white);\n",
       "                }\n",
       "\n",
       "                .geemap-colab .jupyter-button {\n",
       "                    --jp-layout-color3: var(--colab-primary-surface-color, white);\n",
       "                }\n",
       "            </style>\n",
       "            "
      ],
      "text/plain": [
       "<IPython.core.display.HTML object>"
      ]
     },
     "metadata": {},
     "output_type": "display_data"
    },
    {
     "data": {
      "text/plain": [
       "\"# Calculate mean EVI over the time period\\nmean_evi = mxd13q1.mean().clip(buffered_water_bodies)\\n\\n# Set visualization parameters for EVI\\nevi_vis_params = {\\n    'min': 0,\\n    'max': 8000,\\n    'palette': ['white', 'lightgreen', 'green', 'darkgreen']\\n}\\n\\n# Create a map using geemap and display the mean EVI near water bodies\\nMap = geemap.Map(center=[35, 38], zoom=6)\\nMap.addLayer(syria_boundary, {}, 'Syria Boundary')\\nMap.addLayer(buffered_water_bodies, {'color': 'blue'}, 'Buffered Water Bodies')\\nMap.addLayer(mean_evi, evi_vis_params, 'Mean EVI Near Water Bodies')\\nMap.addLayerControl()\\nMap\""
      ]
     },
     "execution_count": 11,
     "metadata": {},
     "output_type": "execute_result"
    }
   ],
   "source": [
    "\"\"\"# Calculate mean EVI over the time period\n",
    "mean_evi = mxd13q1.mean().clip(buffered_water_bodies)\n",
    "\n",
    "# Set visualization parameters for EVI\n",
    "evi_vis_params = {\n",
    "    'min': 0,\n",
    "    'max': 8000,\n",
    "    'palette': ['white', 'lightgreen', 'green', 'darkgreen']\n",
    "}\n",
    "\n",
    "# Create a map using geemap and display the mean EVI near water bodies\n",
    "Map = geemap.Map(center=[35, 38], zoom=6)\n",
    "Map.addLayer(syria_boundary, {}, 'Syria Boundary')\n",
    "Map.addLayer(buffered_water_bodies, {'color': 'blue'}, 'Buffered Water Bodies')\n",
    "Map.addLayer(mean_evi, evi_vis_params, 'Mean EVI Near Water Bodies')\n",
    "Map.addLayerControl()\n",
    "Map\"\"\""
   ]
  },
  {
   "cell_type": "code",
   "execution_count": null,
   "metadata": {
    "tags": [
     "remove-cell"
    ]
   },
   "outputs": [
    {
     "data": {
      "text/html": [
       "\n",
       "            <style>\n",
       "                .geemap-dark {\n",
       "                    --jp-widgets-color: white;\n",
       "                    --jp-widgets-label-color: white;\n",
       "                    --jp-ui-font-color1: white;\n",
       "                    --jp-layout-color2: #454545;\n",
       "                    background-color: #383838;\n",
       "                }\n",
       "\n",
       "                .geemap-dark .jupyter-button {\n",
       "                    --jp-layout-color3: #383838;\n",
       "                }\n",
       "\n",
       "                .geemap-colab {\n",
       "                    background-color: var(--colab-primary-surface-color, white);\n",
       "                }\n",
       "\n",
       "                .geemap-colab .jupyter-button {\n",
       "                    --jp-layout-color3: var(--colab-primary-surface-color, white);\n",
       "                }\n",
       "            </style>\n",
       "            "
      ],
      "text/plain": [
       "<IPython.core.display.HTML object>"
      ]
     },
     "metadata": {},
     "output_type": "display_data"
    },
    {
     "name": "stdout",
     "output_type": "stream",
     "text": [
      "Current CRS: EPSG:4326\n",
      "Updated CRS: EPSG:4326\n"
     ]
    }
   ],
   "source": [
    "import geopandas as gpd\n",
    "\n",
    "# Load the clipped water bodies shapefile\n",
    "water_bodies_syria_gdf = gpd.read_file(\n",
    "    \"C:\\\\Users\\\\ishaa\\\\OneDrive\\\\Desktop\\\\DataLab\\\\Syria\\\\syria-economic-monitor\\\\data\\\\clipped_syria_water.shp\"\n",
    ")\n",
    "# Step 2: Check the current CRS\n",
    "print(\"Current CRS:\", water_bodies_syria_gdf.crs)\n",
    "\n",
    "# Step 3: Set or change the CRS\n",
    "# If the CRS is not set, set it to a known CRS (e.g., WGS84)\n",
    "if water_bodies_syria_gdf.crs is None:\n",
    "    water_bodies_syria_gdf.set_crs(\n",
    "        epsg=4326, inplace=True\n",
    "    )  # EPSG:4326 is WGS84 (latitude/longitude)\n",
    "\n",
    "# Step 4: Save the updated shapefile\n",
    "output_path = \"C:\\\\Users\\\\ishaa\\\\OneDrive\\\\Desktop\\\\DataLab\\\\Syria\\\\syria-economic-monitor\\\\data\\\\clipped_syria_water.shp\"\n",
    "water_bodies_syria_gdf.to_file(output_path)\n",
    "\n",
    "print(\"Updated CRS:\", water_bodies_syria_gdf.crs)"
   ]
  },
  {
   "cell_type": "code",
   "execution_count": null,
   "metadata": {
    "tags": [
     "remove-cell"
    ]
   },
   "outputs": [
    {
     "data": {
      "text/html": [
       "\n",
       "            <style>\n",
       "                .geemap-dark {\n",
       "                    --jp-widgets-color: white;\n",
       "                    --jp-widgets-label-color: white;\n",
       "                    --jp-ui-font-color1: white;\n",
       "                    --jp-layout-color2: #454545;\n",
       "                    background-color: #383838;\n",
       "                }\n",
       "\n",
       "                .geemap-dark .jupyter-button {\n",
       "                    --jp-layout-color3: #383838;\n",
       "                }\n",
       "\n",
       "                .geemap-colab {\n",
       "                    background-color: var(--colab-primary-surface-color, white);\n",
       "                }\n",
       "\n",
       "                .geemap-colab .jupyter-button {\n",
       "                    --jp-layout-color3: var(--colab-primary-surface-color, white);\n",
       "                }\n",
       "            </style>\n",
       "            "
      ],
      "text/plain": [
       "<IPython.core.display.HTML object>"
      ]
     },
     "metadata": {},
     "output_type": "display_data"
    },
    {
     "name": "stdout",
     "output_type": "stream",
     "text": [
      "Export task started. Check your Google Drive for the CSV file.\n"
     ]
    }
   ],
   "source": [
    "# Convert the GeoDataFrame to an Earth Engine FeatureCollection\n",
    "water_bodies_ee = geemap.geopandas_to_ee(water_bodies_syria_gdf)\n",
    "\n",
    "# Create a 1 km buffer around the water bodies in Earth Engine\n",
    "buffered_water_bodies = water_bodies_ee.map(lambda feature: feature.buffer(1000))\n",
    "\n",
    "# Calculate mean EVI for each image in the collection within the buffered region\n",
    "evi_time_series = mxd13q1.map(\n",
    "    lambda img: img.reduceRegion(\n",
    "        reducer=ee.Reducer.mean(),\n",
    "        geometry=buffered_water_bodies.geometry(),\n",
    "        scale=500,  # Adjust based on resolution needed\n",
    "        bestEffort=True,\n",
    "    ).set(\"date\", img.date().format(\"YYYY-MM-dd\"))\n",
    ")\n",
    "\n",
    "# Convert the results to a feature collection for export\n",
    "evi_features = evi_time_series.map(lambda dict_entry: ee.Feature(None, dict_entry))\n",
    "evi_fc = ee.FeatureCollection(evi_features)\n",
    "\n",
    "# Export the time series to Google Drive for further analysis and plotting\n",
    "export_task = ee.batch.Export.table.toDrive(\n",
    "    collection=evi_fc,\n",
    "    description=\"EVI_Time_Series_Buffer_Water_Bodies_Syria\",\n",
    "    fileFormat=\"CSV\",\n",
    ")\n",
    "export_task.start()\n",
    "\n",
    "print(\"Export task started. Check your Google Drive for the CSV file.\")"
   ]
  },
  {
   "cell_type": "code",
   "execution_count": null,
   "metadata": {
    "tags": [
     "remove-cell"
    ]
   },
   "outputs": [],
   "source": [
    "buffered_water_bodies"
   ]
  },
  {
   "cell_type": "code",
   "execution_count": null,
   "metadata": {
    "tags": [
     "remove-cell"
    ]
   },
   "outputs": [
    {
     "data": {
      "text/html": [
       "\n",
       "            <style>\n",
       "                .geemap-dark {\n",
       "                    --jp-widgets-color: white;\n",
       "                    --jp-widgets-label-color: white;\n",
       "                    --jp-ui-font-color1: white;\n",
       "                    --jp-layout-color2: #454545;\n",
       "                    background-color: #383838;\n",
       "                }\n",
       "\n",
       "                .geemap-dark .jupyter-button {\n",
       "                    --jp-layout-color3: #383838;\n",
       "                }\n",
       "\n",
       "                .geemap-colab {\n",
       "                    background-color: var(--colab-primary-surface-color, white);\n",
       "                }\n",
       "\n",
       "                .geemap-colab .jupyter-button {\n",
       "                    --jp-layout-color3: var(--colab-primary-surface-color, white);\n",
       "                }\n",
       "            </style>\n",
       "            "
      ],
      "text/plain": [
       "<IPython.core.display.HTML object>"
      ]
     },
     "metadata": {},
     "output_type": "display_data"
    }
   ],
   "source": [
    "# Function to calculate mean EVI within the buffered region for each image\n",
    "def calculate_mean_evi(image):\n",
    "    mean_evi = image.reduceRegion(\n",
    "        reducer=ee.Reducer.mean(),\n",
    "        geometry=buffered_water_bodies.geometry(),\n",
    "        scale=500,\n",
    "        bestEffort=True,\n",
    "    )\n",
    "    # Return an ee.Feature with date and mean EVI as properties\n",
    "    return ee.Feature(\n",
    "        None,\n",
    "        {\"date\": image.date().format(\"YYYY-MM-dd\"), \"mean_evi\": mean_evi.get(\"EVI\")},\n",
    "    )\n",
    "\n",
    "\n",
    "# Map the function over the EVI collection\n",
    "evi_time_series = mxd13q1.map(calculate_mean_evi)\n",
    "\n",
    "# Convert the results to a FeatureCollection for export\n",
    "evi_fc = ee.FeatureCollection(evi_time_series)"
   ]
  },
  {
   "cell_type": "code",
   "execution_count": null,
   "metadata": {
    "tags": [
     "remove-cell"
    ]
   },
   "outputs": [
    {
     "data": {
      "text/html": [
       "\n",
       "            <style>\n",
       "                .geemap-dark {\n",
       "                    --jp-widgets-color: white;\n",
       "                    --jp-widgets-label-color: white;\n",
       "                    --jp-ui-font-color1: white;\n",
       "                    --jp-layout-color2: #454545;\n",
       "                    background-color: #383838;\n",
       "                }\n",
       "\n",
       "                .geemap-dark .jupyter-button {\n",
       "                    --jp-layout-color3: #383838;\n",
       "                }\n",
       "\n",
       "                .geemap-colab {\n",
       "                    background-color: var(--colab-primary-surface-color, white);\n",
       "                }\n",
       "\n",
       "                .geemap-colab .jupyter-button {\n",
       "                    --jp-layout-color3: var(--colab-primary-surface-color, white);\n",
       "                }\n",
       "            </style>\n",
       "            "
      ],
      "text/plain": [
       "<IPython.core.display.HTML object>"
      ]
     },
     "metadata": {},
     "output_type": "display_data"
    },
    {
     "name": "stdout",
     "output_type": "stream",
     "text": [
      "Export task started. Check your Google Drive for the CSV file.\n"
     ]
    }
   ],
   "source": [
    "# Export the time series to Google Drive for further analysis and plotting\n",
    "export_task = ee.batch.Export.table.toDrive(\n",
    "    collection=evi_fc,\n",
    "    description=\"EVI_Time_Series_Buffer_Water_Bodies_Syria\",\n",
    "    fileFormat=\"CSV\",\n",
    ")\n",
    "export_task.start()\n",
    "\n",
    "print(\"Export task started. Check your Google Drive for the CSV file.\")"
   ]
  },
  {
   "cell_type": "code",
   "execution_count": 5,
   "metadata": {
    "tags": [
     "remove-cell"
    ]
   },
   "outputs": [
    {
     "data": {
      "text/html": [
       "\n",
       "            <style>\n",
       "                .geemap-dark {\n",
       "                    --jp-widgets-color: white;\n",
       "                    --jp-widgets-label-color: white;\n",
       "                    --jp-ui-font-color1: white;\n",
       "                    --jp-layout-color2: #454545;\n",
       "                    background-color: #383838;\n",
       "                }\n",
       "\n",
       "                .geemap-dark .jupyter-button {\n",
       "                    --jp-layout-color3: #383838;\n",
       "                }\n",
       "\n",
       "                .geemap-colab {\n",
       "                    background-color: var(--colab-primary-surface-color, white);\n",
       "                }\n",
       "\n",
       "                .geemap-colab .jupyter-button {\n",
       "                    --jp-layout-color3: var(--colab-primary-surface-color, white);\n",
       "                }\n",
       "            </style>\n",
       "            "
      ],
      "text/plain": [
       "<IPython.core.display.HTML object>"
      ]
     },
     "metadata": {},
     "output_type": "display_data"
    },
    {
     "data": {
      "text/html": [
       "<div>\n",
       "<style scoped>\n",
       "    .dataframe tbody tr th:only-of-type {\n",
       "        vertical-align: middle;\n",
       "    }\n",
       "\n",
       "    .dataframe tbody tr th {\n",
       "        vertical-align: top;\n",
       "    }\n",
       "\n",
       "    .dataframe thead th {\n",
       "        text-align: right;\n",
       "    }\n",
       "</style>\n",
       "<table border=\"1\" class=\"dataframe\">\n",
       "  <thead>\n",
       "    <tr style=\"text-align: right;\">\n",
       "      <th></th>\n",
       "      <th>system:index</th>\n",
       "      <th>date</th>\n",
       "      <th>mean_evi</th>\n",
       "      <th>.geo</th>\n",
       "    </tr>\n",
       "  </thead>\n",
       "  <tbody>\n",
       "    <tr>\n",
       "      <th>0</th>\n",
       "      <td>1_2019_01_01</td>\n",
       "      <td>2019-01-01</td>\n",
       "      <td>1532.840969</td>\n",
       "      <td>{\"type\":\"MultiPoint\",\"coordinates\":[]}</td>\n",
       "    </tr>\n",
       "    <tr>\n",
       "      <th>1</th>\n",
       "      <td>2_2019_01_09</td>\n",
       "      <td>2019-01-09</td>\n",
       "      <td>1616.577466</td>\n",
       "      <td>{\"type\":\"MultiPoint\",\"coordinates\":[]}</td>\n",
       "    </tr>\n",
       "    <tr>\n",
       "      <th>2</th>\n",
       "      <td>1_2019_01_17</td>\n",
       "      <td>2019-01-17</td>\n",
       "      <td>1599.340680</td>\n",
       "      <td>{\"type\":\"MultiPoint\",\"coordinates\":[]}</td>\n",
       "    </tr>\n",
       "    <tr>\n",
       "      <th>3</th>\n",
       "      <td>2_2019_01_25</td>\n",
       "      <td>2019-01-25</td>\n",
       "      <td>1845.750160</td>\n",
       "      <td>{\"type\":\"MultiPoint\",\"coordinates\":[]}</td>\n",
       "    </tr>\n",
       "    <tr>\n",
       "      <th>4</th>\n",
       "      <td>1_2019_02_02</td>\n",
       "      <td>2019-02-02</td>\n",
       "      <td>1769.527929</td>\n",
       "      <td>{\"type\":\"MultiPoint\",\"coordinates\":[]}</td>\n",
       "    </tr>\n",
       "  </tbody>\n",
       "</table>\n",
       "</div>"
      ],
      "text/plain": [
       "   system:index        date     mean_evi  \\\n",
       "0  1_2019_01_01  2019-01-01  1532.840969   \n",
       "1  2_2019_01_09  2019-01-09  1616.577466   \n",
       "2  1_2019_01_17  2019-01-17  1599.340680   \n",
       "3  2_2019_01_25  2019-01-25  1845.750160   \n",
       "4  1_2019_02_02  2019-02-02  1769.527929   \n",
       "\n",
       "                                     .geo  \n",
       "0  {\"type\":\"MultiPoint\",\"coordinates\":[]}  \n",
       "1  {\"type\":\"MultiPoint\",\"coordinates\":[]}  \n",
       "2  {\"type\":\"MultiPoint\",\"coordinates\":[]}  \n",
       "3  {\"type\":\"MultiPoint\",\"coordinates\":[]}  \n",
       "4  {\"type\":\"MultiPoint\",\"coordinates\":[]}  "
      ]
     },
     "execution_count": 5,
     "metadata": {},
     "output_type": "execute_result"
    }
   ],
   "source": [
    "import pandas as pd\n",
    "\n",
    "evi_data = pd.read_csv(\n",
    "    \"C:\\\\Users\\\\ishaa\\\\OneDrive\\\\Desktop\\\\DataLab\\\\Syria\\\\syria-economic-monitor\\\\data\\\\EVI_Time_Series_Buffer_Water_Bodies_Syria.csv\"\n",
    ")\n",
    "# Display the first few rows to check the data structure\n",
    "evi_data.head()"
   ]
  },
  {
   "cell_type": "markdown",
   "metadata": {},
   "source": [
    "![yearly_mean_evi_around_waterbodies.png](../../docs/images/agriculture/yearly_mean_evi_around_waterbodies.png)"
   ]
  },
  {
   "cell_type": "code",
   "execution_count": 6,
   "metadata": {
    "tags": [
     "remove-cell"
    ]
   },
   "outputs": [
    {
     "data": {
      "text/html": [
       "\n",
       "            <style>\n",
       "                .geemap-dark {\n",
       "                    --jp-widgets-color: white;\n",
       "                    --jp-widgets-label-color: white;\n",
       "                    --jp-ui-font-color1: white;\n",
       "                    --jp-layout-color2: #454545;\n",
       "                    background-color: #383838;\n",
       "                }\n",
       "\n",
       "                .geemap-dark .jupyter-button {\n",
       "                    --jp-layout-color3: #383838;\n",
       "                }\n",
       "\n",
       "                .geemap-colab {\n",
       "                    background-color: var(--colab-primary-surface-color, white);\n",
       "                }\n",
       "\n",
       "                .geemap-colab .jupyter-button {\n",
       "                    --jp-layout-color3: var(--colab-primary-surface-color, white);\n",
       "                }\n",
       "            </style>\n",
       "            "
      ],
      "text/plain": [
       "<IPython.core.display.HTML object>"
      ]
     },
     "metadata": {},
     "output_type": "display_data"
    },
    {
     "data": {
      "image/png": "[encoded data removed]",
      "text/plain": [
       "<Figure size 700x500 with 1 Axes>"
      ]
     },
     "metadata": {},
     "output_type": "display_data"
    }
   ],
   "source": [
    "import pandas as pd\n",
    "\n",
    "# Load the CSV file (assumed to have been loaded already in the previous step)\n",
    "# evi_data = pd.read_csv('path/to/EVI_Time_Series_Buffer_Water_Bodies_Syria.csv')\n",
    "\n",
    "# Convert the 'date' column to datetime format if not already done\n",
    "evi_data[\"date\"] = pd.to_datetime(evi_data[\"date\"])\n",
    "\n",
    "# Create a 'year' column based on the 'date' column\n",
    "evi_data[\"year\"] = evi_data[\"date\"].dt.year\n",
    "\n",
    "# Sort the data by year\n",
    "evi_data.sort_values(by=\"year\", inplace=True)\n",
    "\n",
    "yearly_evi = evi_data.groupby(\"year\")[\"mean_evi\"].mean()\n",
    "\n",
    "# Plot the yearly mean EVI\n",
    "plt.figure(figsize=(7, 5))\n",
    "plt.plot(yearly_evi.index, yearly_evi.values, marker=\"o\", linestyle=\"-\", color=\"green\")\n",
    "plt.title(\"Yearly Mean EVI Around Water Bodies in Syria\")\n",
    "plt.xlabel(\"Year\")\n",
    "plt.ylabel(\"Mean EVI\")\n",
    "plt.grid(False)\n",
    "plt.show()"
   ]
  },
  {
   "cell_type": "code",
   "execution_count": null,
   "metadata": {
    "tags": [
     "remove-cell"
    ]
   },
   "outputs": [
    {
     "data": {
      "text/html": [
       "\n",
       "            <style>\n",
       "                .geemap-dark {\n",
       "                    --jp-widgets-color: white;\n",
       "                    --jp-widgets-label-color: white;\n",
       "                    --jp-ui-font-color1: white;\n",
       "                    --jp-layout-color2: #454545;\n",
       "                    background-color: #383838;\n",
       "                }\n",
       "\n",
       "                .geemap-dark .jupyter-button {\n",
       "                    --jp-layout-color3: #383838;\n",
       "                }\n",
       "\n",
       "                .geemap-colab {\n",
       "                    background-color: var(--colab-primary-surface-color, white);\n",
       "                }\n",
       "\n",
       "                .geemap-colab .jupyter-button {\n",
       "                    --jp-layout-color3: var(--colab-primary-surface-color, white);\n",
       "                }\n",
       "            </style>\n",
       "            "
      ],
      "text/plain": [
       "<IPython.core.display.HTML object>"
      ]
     },
     "metadata": {},
     "output_type": "display_data"
    },
    {
     "data": {
      "image/png": "[encoded data removed]",
      "text/plain": [
       "<Figure size 1200x600 with 1 Axes>"
      ]
     },
     "metadata": {},
     "output_type": "display_data"
    }
   ],
   "source": [
    "# Convert the 'date' column to datetime format if not already done\n",
    "evi_data_2022_2024 = evi_data[evi_data[\"year\"] > 2022]\n",
    "\n",
    "evi_data_2022_2024[\"date\"] = pd.to_datetime(evi_data_2022_2024[\"date\"])\n",
    "\n",
    "# Create a 'month' column based on the 'date' column\n",
    "evi_data_2022_2024[\"month\"] = evi_data_2022_2024[\"date\"].dt.to_period(\n",
    "    \"4M\"\n",
    ")  # This will group by year-month\n",
    "\n",
    "# Group by month and calculate the mean EVI for each month\n",
    "monthly_evi = evi_data_2022_2024.groupby(\"month\")[\"mean_evi\"].mean()\n",
    "\n",
    "# Plot the monthly mean EVI\n",
    "plt.figure(figsize=(12, 6))\n",
    "plt.plot(\n",
    "    monthly_evi.index.astype(str),\n",
    "    monthly_evi.values,\n",
    "    marker=\"o\",\n",
    "    linestyle=\"-\",\n",
    "    color=\"green\",\n",
    ")\n",
    "plt.title(\"Mean EVI in 1 km Buffer Around Water Bodies in Syria (Monthly)\")\n",
    "plt.xlabel(\"Month\")\n",
    "plt.ylabel(\"Mean EVI\")\n",
    "plt.xticks(rotation=45)  # Rotate x-axis labels for better visibility\n",
    "plt.grid(True)\n",
    "plt.tight_layout()\n",
    "plt.show()"
   ]
  },
  {
   "cell_type": "code",
   "execution_count": null,
   "metadata": {
    "tags": [
     "remove-cell"
    ]
   },
   "outputs": [
    {
     "data": {
      "text/html": [
       "\n",
       "            <style>\n",
       "                .geemap-dark {\n",
       "                    --jp-widgets-color: white;\n",
       "                    --jp-widgets-label-color: white;\n",
       "                    --jp-ui-font-color1: white;\n",
       "                    --jp-layout-color2: #454545;\n",
       "                    background-color: #383838;\n",
       "                }\n",
       "\n",
       "                .geemap-dark .jupyter-button {\n",
       "                    --jp-layout-color3: #383838;\n",
       "                }\n",
       "\n",
       "                .geemap-colab {\n",
       "                    background-color: var(--colab-primary-surface-color, white);\n",
       "                }\n",
       "\n",
       "                .geemap-colab .jupyter-button {\n",
       "                    --jp-layout-color3: var(--colab-primary-surface-color, white);\n",
       "                }\n",
       "            </style>\n",
       "            "
      ],
      "text/plain": [
       "<IPython.core.display.HTML object>"
      ]
     },
     "metadata": {},
     "output_type": "display_data"
    },
    {
     "data": {
      "text/plain": [
       "\"import pandas as pd\\nimport matplotlib.pyplot as plt\\n\\n# Convert the 'date' column to datetime format if not already done\\nevi_data['date'] = pd.to_datetime(evi_data['date'])\\n\\n# Create 'year' and 'month' columns based on the 'date' column\\nevi_data['year'] = evi_data['date'].dt.year\\nevi_data['month'] = evi_data['date'].dt.month\\n\\n# Group by year and month, then calculate the mean EVI for each month of each year\\nmonthly_evi_per_year = evi_data.groupby(['year', 'month'])['mean_evi'].mean().reset_index()\\n\\n# Loop through each year and create a separate plot\\nunique_years = monthly_evi_per_year['year'].unique()\\n\\nfor year in unique_years:\\n    # Filter data for the current year\\n    yearly_data = monthly_evi_per_year[monthly_evi_per_year['year'] == year]\\n    \\n    # Plot the monthly mean EVI for the current year\\n    plt.figure(figsize=(10, 5))\\n    plt.plot(yearly_data['month'], yearly_data['mean_evi'], marker='o', linestyle='-', color='green')\\n    plt.title(f'Mean Monthly EVI for {year} in 1 km Buffer Around Water Bodies in Syria')\\n    plt.xlabel('Month')\\n    plt.ylabel('Mean EVI')\\n    plt.xticks(range(1, 13))  # Set x-ticks to represent months from 1 to 12\\n    plt.grid(True)\\n    plt.tight_layout()\\n    plt.show()\""
      ]
     },
     "execution_count": 21,
     "metadata": {},
     "output_type": "execute_result"
    }
   ],
   "source": [
    "\"\"\"import pandas as pd\n",
    "import matplotlib.pyplot as plt\n",
    "\n",
    "# Convert the 'date' column to datetime format if not already done\n",
    "evi_data['date'] = pd.to_datetime(evi_data['date'])\n",
    "\n",
    "# Create 'year' and 'month' columns based on the 'date' column\n",
    "evi_data['year'] = evi_data['date'].dt.year\n",
    "evi_data['month'] = evi_data['date'].dt.month\n",
    "\n",
    "# Group by year and month, then calculate the mean EVI for each month of each year\n",
    "monthly_evi_per_year = evi_data.groupby(['year', 'month'])['mean_evi'].mean().reset_index()\n",
    "\n",
    "# Loop through each year and create a separate plot\n",
    "unique_years = monthly_evi_per_year['year'].unique()\n",
    "\n",
    "for year in unique_years:\n",
    "    # Filter data for the current year\n",
    "    yearly_data = monthly_evi_per_year[monthly_evi_per_year['year'] == year]\n",
    "    \n",
    "    # Plot the monthly mean EVI for the current year\n",
    "    plt.figure(figsize=(10, 5))\n",
    "    plt.plot(yearly_data['month'], yearly_data['mean_evi'], marker='o', linestyle='-', color='green')\n",
    "    plt.title(f'Mean Monthly EVI for {year} in 1 km Buffer Around Water Bodies in Syria')\n",
    "    plt.xlabel('Month')\n",
    "    plt.ylabel('Mean EVI')\n",
    "    plt.xticks(range(1, 13))  # Set x-ticks to represent months from 1 to 12\n",
    "    plt.grid(True)\n",
    "    plt.tight_layout()\n",
    "    plt.show()\"\"\""
   ]
  },
  {
   "cell_type": "code",
   "execution_count": null,
   "metadata": {
    "tags": [
     "remove-cell"
    ]
   },
   "outputs": [
    {
     "data": {
      "text/html": [
       "\n",
       "            <style>\n",
       "                .geemap-dark {\n",
       "                    --jp-widgets-color: white;\n",
       "                    --jp-widgets-label-color: white;\n",
       "                    --jp-ui-font-color1: white;\n",
       "                    --jp-layout-color2: #454545;\n",
       "                    background-color: #383838;\n",
       "                }\n",
       "\n",
       "                .geemap-dark .jupyter-button {\n",
       "                    --jp-layout-color3: #383838;\n",
       "                }\n",
       "\n",
       "                .geemap-colab {\n",
       "                    background-color: var(--colab-primary-surface-color, white);\n",
       "                }\n",
       "\n",
       "                .geemap-colab .jupyter-button {\n",
       "                    --jp-layout-color3: var(--colab-primary-surface-color, white);\n",
       "                }\n",
       "            </style>\n",
       "            "
      ],
      "text/plain": [
       "<IPython.core.display.HTML object>"
      ]
     },
     "metadata": {},
     "output_type": "display_data"
    }
   ],
   "source": [
    "import sys\n",
    "\n",
    "sys.path.append(\n",
    "    \"C:/Users/ishaa/OneDrive/Desktop/DataLab/Syria/syria-economic-monitor/GEE_Zonal/src/gee_zonal\"\n",
    ")  # Replace with the actual path to the GEE_Zonal repository\n",
    "from gee_helpers import gpd_to_gee"
   ]
  },
  {
   "cell_type": "code",
   "execution_count": null,
   "metadata": {
    "tags": [
     "remove-cell"
    ]
   },
   "outputs": [
    {
     "data": {
      "text/html": [
       "\n",
       "            <style>\n",
       "                .geemap-dark {\n",
       "                    --jp-widgets-color: white;\n",
       "                    --jp-widgets-label-color: white;\n",
       "                    --jp-ui-font-color1: white;\n",
       "                    --jp-layout-color2: #454545;\n",
       "                    background-color: #383838;\n",
       "                }\n",
       "\n",
       "                .geemap-dark .jupyter-button {\n",
       "                    --jp-layout-color3: #383838;\n",
       "                }\n",
       "\n",
       "                .geemap-colab {\n",
       "                    background-color: var(--colab-primary-surface-color, white);\n",
       "                }\n",
       "\n",
       "                .geemap-colab .jupyter-button {\n",
       "                    --jp-layout-color3: var(--colab-primary-surface-color, white);\n",
       "                }\n",
       "            </style>\n",
       "            "
      ],
      "text/plain": [
       "<IPython.core.display.HTML object>"
      ]
     },
     "metadata": {},
     "output_type": "display_data"
    },
    {
     "name": "stdout",
     "output_type": "stream",
     "text": [
      "Reading https://github.com/wmgeolab/geoBoundaries/raw/9469f09/releaseData/gbOpen/SYR/ADM1/geoBoundaries-SYR-ADM1.geojson\n"
     ]
    }
   ],
   "source": [
    "import geopandas as gpd\n",
    "\n",
    "# Load the water bodies shapefile\n",
    "water_bodies_syria_gdf = gpd.read_file(\n",
    "    \"C:\\\\Users\\\\ishaa\\\\OneDrive\\\\Desktop\\\\DataLab\\\\Syria\\\\syria-economic-monitor\\\\data\\\\clipped_syria_water.shp\"\n",
    ")\n",
    "\n",
    "# Load the admin1 regions shapefile\n",
    "adm = \"ADM1\"\n",
    "geo_url = f\"https://www.geoboundaries.org/api/current/{release_type}/{iso3}/{adm}/\"\n",
    "res = requests.get(geo_url).json()\n",
    "print(\"Reading \" + res[\"gjDownloadURL\"])\n",
    "adm1_syr = gpd.read_file(res[\"gjDownloadURL\"])\n",
    "\n",
    "aoi1 = gpd_to_gee(adm1_syr)"
   ]
  },
  {
   "cell_type": "code",
   "execution_count": null,
   "metadata": {
    "tags": [
     "remove-cell"
    ]
   },
   "outputs": [
    {
     "data": {
      "text/html": [
       "\n",
       "            <style>\n",
       "                .geemap-dark {\n",
       "                    --jp-widgets-color: white;\n",
       "                    --jp-widgets-label-color: white;\n",
       "                    --jp-ui-font-color1: white;\n",
       "                    --jp-layout-color2: #454545;\n",
       "                    background-color: #383838;\n",
       "                }\n",
       "\n",
       "                .geemap-dark .jupyter-button {\n",
       "                    --jp-layout-color3: #383838;\n",
       "                }\n",
       "\n",
       "                .geemap-colab {\n",
       "                    background-color: var(--colab-primary-surface-color, white);\n",
       "                }\n",
       "\n",
       "                .geemap-colab .jupyter-button {\n",
       "                    --jp-layout-color3: var(--colab-primary-surface-color, white);\n",
       "                }\n",
       "            </style>\n",
       "            "
      ],
      "text/plain": [
       "<IPython.core.display.HTML object>"
      ]
     },
     "metadata": {},
     "output_type": "display_data"
    }
   ],
   "source": [
    "water_bodies_syria_gdf = water_bodies_syria_gdf.to_crs(adm1_syr.crs)"
   ]
  },
  {
   "cell_type": "code",
   "execution_count": null,
   "metadata": {
    "tags": [
     "remove-cell"
    ]
   },
   "outputs": [
    {
     "data": {
      "text/html": [
       "\n",
       "            <style>\n",
       "                .geemap-dark {\n",
       "                    --jp-widgets-color: white;\n",
       "                    --jp-widgets-label-color: white;\n",
       "                    --jp-ui-font-color1: white;\n",
       "                    --jp-layout-color2: #454545;\n",
       "                    background-color: #383838;\n",
       "                }\n",
       "\n",
       "                .geemap-dark .jupyter-button {\n",
       "                    --jp-layout-color3: #383838;\n",
       "                }\n",
       "\n",
       "                .geemap-colab {\n",
       "                    background-color: var(--colab-primary-surface-color, white);\n",
       "                }\n",
       "\n",
       "                .geemap-colab .jupyter-button {\n",
       "                    --jp-layout-color3: var(--colab-primary-surface-color, white);\n",
       "                }\n",
       "            </style>\n",
       "            "
      ],
      "text/plain": [
       "<IPython.core.display.HTML object>"
      ]
     },
     "metadata": {},
     "output_type": "display_data"
    }
   ],
   "source": [
    "# Perform a spatial join to find intersecting admin1 regions\n",
    "admin1_within_buffer = gpd.sjoin(\n",
    "    adm1_syr, water_bodies_buffer, how=\"inner\", predicate=\"within\"\n",
    ")\n",
    "\n",
    "# Remove duplicates if needed (in case multiple water bodies overlap the same admin1 region)\n",
    "admin1_within_buffer = admin1_within_buffer.drop_duplicates(\n",
    "    subset=\"shapeName\"\n",
    ")  # Replace with your admin1 identifier column name"
   ]
  },
  {
   "cell_type": "code",
   "execution_count": null,
   "metadata": {
    "tags": [
     "remove-input"
    ]
   },
   "outputs": [
    {
     "data": {
      "text/html": [
       "\n",
       "            <style>\n",
       "                .geemap-dark {\n",
       "                    --jp-widgets-color: white;\n",
       "                    --jp-widgets-label-color: white;\n",
       "                    --jp-ui-font-color1: white;\n",
       "                    --jp-layout-color2: #454545;\n",
       "                    background-color: #383838;\n",
       "                }\n",
       "\n",
       "                .geemap-dark .jupyter-button {\n",
       "                    --jp-layout-color3: #383838;\n",
       "                }\n",
       "\n",
       "                .geemap-colab {\n",
       "                    background-color: var(--colab-primary-surface-color, white);\n",
       "                }\n",
       "\n",
       "                .geemap-colab .jupyter-button {\n",
       "                    --jp-layout-color3: var(--colab-primary-surface-color, white);\n",
       "                }\n",
       "            </style>\n",
       "            "
      ],
      "text/plain": [
       "<IPython.core.display.HTML object>"
      ]
     },
     "metadata": {},
     "output_type": "display_data"
    }
   ],
   "source": [
    "import numpy as np\n",
    "from shapely.geometry import Point\n",
    "\n",
    "# Step 1: Load the Admin1 and Water Bodies Shapefiles\n",
    "admin1 = gpd.read_file(os.path.join(base_path, \"data\", \"boundaries\", \"syr_admin1.shp\"))\n",
    "water_bodies = gpd.read_file(os.path.join(base_path, \"data\", \"clipped_syria_water.shp\"))\n",
    "\n",
    "# Step 2: Reproject to a Metric CRS\n",
    "admin1 = admin1.to_crs(epsg=32637)  # UTM Zone for Syria\n",
    "water_bodies = water_bodies.to_crs(epsg=32637)\n",
    "\n",
    "# Step 3: Clip Water Bodies to Admin1 Boundaries (Optional)\n",
    "water_bodies = gpd.clip(water_bodies, admin1)\n",
    "\n",
    "# Step 4: Create 1 km Buffer Around Water Bodies\n",
    "water_bodies[\"buffer_1km\"] = water_bodies.geometry.buffer(5000)\n",
    "\n",
    "# Step 5: Create a Regular Grid of Points\n",
    "# Get the bounding box of the admin1 region or the buffer\n",
    "minx, miny, maxx, maxy = admin1.total_bounds\n",
    "\n",
    "# Define the resolution of the grid (e.g., 500m spacing)\n",
    "resolution = 500  # 500 meters\n",
    "\n",
    "# Generate points in a regular grid\n",
    "x_coords = np.arange(minx, maxx, resolution)\n",
    "y_coords = np.arange(miny, maxy, resolution)\n",
    "grid_points = [Point(x, y) for x in x_coords for y in y_coords]\n",
    "\n",
    "# Create a GeoDataFrame for the grid points\n",
    "grid_gdf = gpd.GeoDataFrame(geometry=grid_points, crs=admin1.crs)\n",
    "\n",
    "# Step 6: Filter Points Within the Buffer Zone\n",
    "buffered_water = gpd.GeoDataFrame(water_bodies[[\"buffer_1km\"]], geometry=\"buffer_1km\")\n",
    "points_within_buffer = gpd.sjoin(\n",
    "    grid_gdf, buffered_water, how=\"inner\", predicate=\"intersects\"\n",
    ")"
   ]
  },
  {
   "cell_type": "code",
   "execution_count": null,
   "metadata": {
    "tags": [
     "remove-cell"
    ]
   },
   "outputs": [
    {
     "data": {
      "text/html": [
       "\n",
       "            <style>\n",
       "                .geemap-dark {\n",
       "                    --jp-widgets-color: white;\n",
       "                    --jp-widgets-label-color: white;\n",
       "                    --jp-ui-font-color1: white;\n",
       "                    --jp-layout-color2: #454545;\n",
       "                    background-color: #383838;\n",
       "                }\n",
       "\n",
       "                .geemap-dark .jupyter-button {\n",
       "                    --jp-layout-color3: #383838;\n",
       "                }\n",
       "\n",
       "                .geemap-colab {\n",
       "                    background-color: var(--colab-primary-surface-color, white);\n",
       "                }\n",
       "\n",
       "                .geemap-colab .jupyter-button {\n",
       "                    --jp-layout-color3: var(--colab-primary-surface-color, white);\n",
       "                }\n",
       "            </style>\n",
       "            "
      ],
      "text/plain": [
       "<IPython.core.display.HTML object>"
      ]
     },
     "metadata": {},
     "output_type": "display_data"
    },
    {
     "data": {
      "text/html": [
       "<div>\n",
       "<style scoped>\n",
       "    .dataframe tbody tr th:only-of-type {\n",
       "        vertical-align: middle;\n",
       "    }\n",
       "\n",
       "    .dataframe tbody tr th {\n",
       "        vertical-align: top;\n",
       "    }\n",
       "\n",
       "    .dataframe thead th {\n",
       "        text-align: right;\n",
       "    }\n",
       "</style>\n",
       "<table border=\"1\" class=\"dataframe\">\n",
       "  <thead>\n",
       "    <tr style=\"text-align: right;\">\n",
       "      <th></th>\n",
       "      <th>geometry</th>\n",
       "      <th>index_right</th>\n",
       "    </tr>\n",
       "  </thead>\n",
       "  <tbody>\n",
       "    <tr>\n",
       "      <th>132</th>\n",
       "      <td>POINT (183238.791 3643571.331)</td>\n",
       "      <td>1</td>\n",
       "    </tr>\n",
       "    <tr>\n",
       "      <th>133</th>\n",
       "      <td>POINT (183238.791 3644071.331)</td>\n",
       "      <td>1</td>\n",
       "    </tr>\n",
       "    <tr>\n",
       "      <th>134</th>\n",
       "      <td>POINT (183238.791 3644571.331)</td>\n",
       "      <td>1</td>\n",
       "    </tr>\n",
       "    <tr>\n",
       "      <th>135</th>\n",
       "      <td>POINT (183238.791 3645071.331)</td>\n",
       "      <td>1</td>\n",
       "    </tr>\n",
       "    <tr>\n",
       "      <th>136</th>\n",
       "      <td>POINT (183238.791 3645571.331)</td>\n",
       "      <td>1</td>\n",
       "    </tr>\n",
       "    <tr>\n",
       "      <th>...</th>\n",
       "      <td>...</td>\n",
       "      <td>...</td>\n",
       "    </tr>\n",
       "    <tr>\n",
       "      <th>9056</th>\n",
       "      <td>POINT (187238.791 3641571.331)</td>\n",
       "      <td>1</td>\n",
       "    </tr>\n",
       "    <tr>\n",
       "      <th>10167</th>\n",
       "      <td>POINT (187738.791 3639071.331)</td>\n",
       "      <td>1</td>\n",
       "    </tr>\n",
       "    <tr>\n",
       "      <th>10168</th>\n",
       "      <td>POINT (187738.791 3639571.331)</td>\n",
       "      <td>1</td>\n",
       "    </tr>\n",
       "    <tr>\n",
       "      <th>10169</th>\n",
       "      <td>POINT (187738.791 3640071.331)</td>\n",
       "      <td>1</td>\n",
       "    </tr>\n",
       "    <tr>\n",
       "      <th>10170</th>\n",
       "      <td>POINT (187738.791 3640571.331)</td>\n",
       "      <td>1</td>\n",
       "    </tr>\n",
       "  </tbody>\n",
       "</table>\n",
       "<p>120 rows × 2 columns</p>\n",
       "</div>"
      ],
      "text/plain": [
       "                             geometry  index_right\n",
       "132    POINT (183238.791 3643571.331)            1\n",
       "133    POINT (183238.791 3644071.331)            1\n",
       "134    POINT (183238.791 3644571.331)            1\n",
       "135    POINT (183238.791 3645071.331)            1\n",
       "136    POINT (183238.791 3645571.331)            1\n",
       "...                               ...          ...\n",
       "9056   POINT (187238.791 3641571.331)            1\n",
       "10167  POINT (187738.791 3639071.331)            1\n",
       "10168  POINT (187738.791 3639571.331)            1\n",
       "10169  POINT (187738.791 3640071.331)            1\n",
       "10170  POINT (187738.791 3640571.331)            1\n",
       "\n",
       "[120 rows x 2 columns]"
      ]
     },
     "execution_count": 48,
     "metadata": {},
     "output_type": "execute_result"
    }
   ],
   "source": [
    "\"\"\"points_near_Tiberas = points_within_buffer[points_within_buffer['index_right']==1]\n",
    "points_near_Tiberas\"\"\""
   ]
  },
  {
   "cell_type": "code",
   "execution_count": null,
   "metadata": {
    "tags": [
     "remove-cell"
    ]
   },
   "outputs": [
    {
     "data": {
      "text/html": [
       "\n",
       "            <style>\n",
       "                .geemap-dark {\n",
       "                    --jp-widgets-color: white;\n",
       "                    --jp-widgets-label-color: white;\n",
       "                    --jp-ui-font-color1: white;\n",
       "                    --jp-layout-color2: #454545;\n",
       "                    background-color: #383838;\n",
       "                }\n",
       "\n",
       "                .geemap-dark .jupyter-button {\n",
       "                    --jp-layout-color3: #383838;\n",
       "                }\n",
       "\n",
       "                .geemap-colab {\n",
       "                    background-color: var(--colab-primary-surface-color, white);\n",
       "                }\n",
       "\n",
       "                .geemap-colab .jupyter-button {\n",
       "                    --jp-layout-color3: var(--colab-primary-surface-color, white);\n",
       "                }\n",
       "            </style>\n",
       "            "
      ],
      "text/plain": [
       "<IPython.core.display.HTML object>"
      ]
     },
     "metadata": {},
     "output_type": "display_data"
    }
   ],
   "source": [
    "\"\"\"output_path = os.path.join(base_path,'data','points_water_buffer_5k.shp')\n",
    "\n",
    "# Export the GeoDataFrame to a shapefile\n",
    "points_within_buffer.to_file(output_path, driver='ESRI Shapefile')\"\"\""
   ]
  },
  {
   "cell_type": "code",
   "execution_count": null,
   "metadata": {
    "tags": [
     "remove-cell"
    ]
   },
   "outputs": [
    {
     "data": {
      "text/html": [
       "\n",
       "            <style>\n",
       "                .geemap-dark {\n",
       "                    --jp-widgets-color: white;\n",
       "                    --jp-widgets-label-color: white;\n",
       "                    --jp-ui-font-color1: white;\n",
       "                    --jp-layout-color2: #454545;\n",
       "                    background-color: #383838;\n",
       "                }\n",
       "\n",
       "                .geemap-dark .jupyter-button {\n",
       "                    --jp-layout-color3: #383838;\n",
       "                }\n",
       "\n",
       "                .geemap-colab {\n",
       "                    background-color: var(--colab-primary-surface-color, white);\n",
       "                }\n",
       "\n",
       "                .geemap-colab .jupyter-button {\n",
       "                    --jp-layout-color3: var(--colab-primary-surface-color, white);\n",
       "                }\n",
       "            </style>\n",
       "            "
      ],
      "text/plain": [
       "<IPython.core.display.HTML object>"
      ]
     },
     "metadata": {},
     "output_type": "display_data"
    }
   ],
   "source": [
    "\"\"\"output_path = os.path.join(base_path,'data','points_Tiberas.shp')\n",
    "\n",
    "# Export the GeoDataFrame to a shapefile\n",
    "points_near_Tiberas.to_file(output_path, driver='ESRI Shapefile')\"\"\""
   ]
  },
  {
   "cell_type": "code",
   "execution_count": null,
   "metadata": {},
   "outputs": [],
   "source": []
  },
  {
   "cell_type": "code",
   "execution_count": null,
   "metadata": {
    "tags": [
     "remove-cell"
    ]
   },
   "outputs": [
    {
     "data": {
      "text/html": [
       "\n",
       "            <style>\n",
       "                .geemap-dark {\n",
       "                    --jp-widgets-color: white;\n",
       "                    --jp-widgets-label-color: white;\n",
       "                    --jp-ui-font-color1: white;\n",
       "                    --jp-layout-color2: #454545;\n",
       "                    background-color: #383838;\n",
       "                }\n",
       "\n",
       "                .geemap-dark .jupyter-button {\n",
       "                    --jp-layout-color3: #383838;\n",
       "                }\n",
       "\n",
       "                .geemap-colab {\n",
       "                    background-color: var(--colab-primary-surface-color, white);\n",
       "                }\n",
       "\n",
       "                .geemap-colab .jupyter-button {\n",
       "                    --jp-layout-color3: var(--colab-primary-surface-color, white);\n",
       "                }\n",
       "            </style>\n",
       "            "
      ],
      "text/plain": [
       "<IPython.core.display.HTML object>"
      ]
     },
     "metadata": {},
     "output_type": "display_data"
    },
    {
     "data": {
      "application/vnd.jupyter.widget-view+json": {
       "model_id": "f91404a331b04c0dbc81b82d292b7f34",
       "version_major": 2,
       "version_minor": 0
      },
      "text/plain": [
       "Map(center=[34.8021, 38.9968], controls=(WidgetControl(options=['position', 'transparent_bg'], widget=SearchDa…"
      ]
     },
     "execution_count": 12,
     "metadata": {},
     "output_type": "execute_result"
    }
   ],
   "source": [
    "import ee\n",
    "import geemap\n",
    "import geopandas as gpd\n",
    "import json\n",
    "\n",
    "# Initialize the Earth Engine API\n",
    "ee.Initialize()\n",
    "\n",
    "# Load the points shapefile\n",
    "gdf_points = gpd.read_file(\n",
    "    os.path.join(base_path, \"data\", \"points_water_buffer_5k.shp\")\n",
    ")\n",
    "\n",
    "# Ensure the CRS is WGS84 (EPSG:4326), required for Earth Engine\n",
    "gdf_points = gdf_points.to_crs(\"EPSG:4326\")\n",
    "\n",
    "# Convert the GeoDataFrame to GeoJSON and parse it into a dictionary\n",
    "geojson_points = json.loads(gdf_points.to_json())\n",
    "\n",
    "# Convert the GeoJSON to an Earth Engine FeatureCollection\n",
    "points = ee.FeatureCollection(geemap.geojson_to_ee(geojson_points))\n",
    "\n",
    "# Define the Syria boundary (replace this with your actual boundary shapefile or FeatureCollection)\n",
    "syria_boundary_shapefile = os.path.join(\n",
    "    base_path, \"data\", \"boundaries\", \"syr_admin0.shp\"\n",
    ")  # Replace with your shapefile path\n",
    "gdf_boundary = gpd.read_file(syria_boundary_shapefile)\n",
    "gdf_boundary = gdf_boundary.to_crs(\"EPSG:4326\")  # Ensure CRS is WGS84\n",
    "geojson_boundary = json.loads(gdf_boundary.to_json())\n",
    "syria_boundary = ee.FeatureCollection(geemap.geojson_to_ee(geojson_boundary))\n",
    "\n",
    "# Load the JRC Global Surface Water dataset\n",
    "water_mask = ee.Image(\"JRC/GSW1_3/GlobalSurfaceWater\")\n",
    "\n",
    "# Clip the water mask to the Syria boundary\n",
    "clipped_water_mask = water_mask.clip(syria_boundary.geometry())\n",
    "\n",
    "# Define the water occurrence threshold (e.g., >50% occurrence)\n",
    "water_threshold = clipped_water_mask.select(\"occurrence\").gte(50).selfMask()\n",
    "\n",
    "# Get the geometry of areas that are not water\n",
    "land_geometry = water_threshold.Not().geometry()\n",
    "\n",
    "# Filter points outside the water\n",
    "points_outside_water = points.filterBounds(land_geometry)\n",
    "\n",
    "# Visualize on the map\n",
    "Map = geemap.Map(center=[34.8021, 38.9968], zoom=7)  # Centered on Syria\n",
    "Map.addLayer(points_outside_water, {\"color\": \"brown\"}, \"Points Outside Water\")\n",
    "Map.addLayer(water_threshold, {\"palette\": \"lightblue\"}, \"Water Areas\")\n",
    "Map"
   ]
  },
  {
   "cell_type": "code",
   "execution_count": null,
   "metadata": {
    "tags": [
     "remove-cell"
    ]
   },
   "outputs": [
    {
     "data": {
      "text/html": [
       "\n",
       "            <style>\n",
       "                .geemap-dark {\n",
       "                    --jp-widgets-color: white;\n",
       "                    --jp-widgets-label-color: white;\n",
       "                    --jp-ui-font-color1: white;\n",
       "                    --jp-layout-color2: #454545;\n",
       "                    background-color: #383838;\n",
       "                }\n",
       "\n",
       "                .geemap-dark .jupyter-button {\n",
       "                    --jp-layout-color3: #383838;\n",
       "                }\n",
       "\n",
       "                .geemap-colab {\n",
       "                    background-color: var(--colab-primary-surface-color, white);\n",
       "                }\n",
       "\n",
       "                .geemap-colab .jupyter-button {\n",
       "                    --jp-layout-color3: var(--colab-primary-surface-color, white);\n",
       "                }\n",
       "            </style>\n",
       "            "
      ],
      "text/plain": [
       "<IPython.core.display.HTML object>"
      ]
     },
     "metadata": {},
     "output_type": "display_data"
    }
   ],
   "source": [
    "adm1_path = os.path.join(base_path, \"data\", \"boundaries\", \"syr_admin1.shp\")\n",
    "syr_adm1 = gpd.read_file(adm1_path)\n",
    "\n",
    "coords = aoi.centroid().coordinates().getInfo()\n",
    "centx, centy = coords[0], coords[1]\n",
    "map_center = [centy, centx]\n",
    "\n",
    "growing_season = ee.Filter.calendarRange(1, 6, \"month\")\n",
    "gs_evi_2023 = (\n",
    "    mxd13q1.filterDate(\"2023-01-01\", \"2023-12-31\")\n",
    "    .filter(growing_season)\n",
    "    .mean()\n",
    "    .clip(aoi)\n",
    ")"
   ]
  },
  {
   "cell_type": "code",
   "execution_count": null,
   "metadata": {
    "tags": [
     "remove-cell"
    ]
   },
   "outputs": [
    {
     "data": {
      "text/html": [
       "\n",
       "            <style>\n",
       "                .geemap-dark {\n",
       "                    --jp-widgets-color: white;\n",
       "                    --jp-widgets-label-color: white;\n",
       "                    --jp-ui-font-color1: white;\n",
       "                    --jp-layout-color2: #454545;\n",
       "                    background-color: #383838;\n",
       "                }\n",
       "\n",
       "                .geemap-dark .jupyter-button {\n",
       "                    --jp-layout-color3: #383838;\n",
       "                }\n",
       "\n",
       "                .geemap-colab {\n",
       "                    background-color: var(--colab-primary-surface-color, white);\n",
       "                }\n",
       "\n",
       "                .geemap-colab .jupyter-button {\n",
       "                    --jp-layout-color3: var(--colab-primary-surface-color, white);\n",
       "                }\n",
       "            </style>\n",
       "            "
      ],
      "text/plain": [
       "<IPython.core.display.HTML object>"
      ]
     },
     "metadata": {},
     "output_type": "display_data"
    },
    {
     "name": "stdout",
     "output_type": "stream",
     "text": [
      "Export task started. Check your Google Drive for the results.\n"
     ]
    }
   ],
   "source": [
    "\"\"\"# Define the export task\n",
    "export_task = ee.batch.Export.table.toDrive(\n",
    "    collection=points_outside_water,\n",
    "    description='Points_Outside_Water',\n",
    "    folder='EarthEngineExports',  # Specify a folder in your Google Drive\n",
    "    fileNamePrefix='points_outside_water',  # Desired file name\n",
    "    fileFormat='SHP'  # Other options: CSV, KML, SHP\n",
    ")\n",
    "\n",
    "# Start the export task\n",
    "export_task.start()\n",
    "\n",
    "print(\"Export task started. Check your Google Drive for the results.\")\"\"\""
   ]
  }
 ],
 "metadata": {
  "kernelspec": {
   "display_name": "GIS",
   "language": "python",
   "name": "python3"
  },
  "language_info": {
   "codemirror_mode": {
    "name": "ipython",
    "version": 3
   },
   "file_extension": ".py",
   "mimetype": "text/x-python",
   "name": "python",
   "nbconvert_exporter": "python",
   "pygments_lexer": "ipython3",
   "version": "3.9.20"
  }
 },
 "nbformat": 4,
 "nbformat_minor": 4
}
