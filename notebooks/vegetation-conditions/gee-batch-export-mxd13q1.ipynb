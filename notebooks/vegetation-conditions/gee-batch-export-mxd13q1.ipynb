{
 "cells": [
  {
   "cell_type": "code",
   "execution_count": 44,
   "metadata": {},
   "outputs": [],
   "source": [
    "#!pip install earthengine-api\n",
    "import ee"
   ]
  },
  {
   "cell_type": "code",
   "execution_count": 45,
   "metadata": {},
   "outputs": [],
   "source": [
    "# Authenticate the Earth Engine API\n",
    "#ee.Authenticate()\n",
    "# Initialize the API\n",
    "ee.Initialize()\n",
    "\n",
    "#Enter the generated Token on the command bar"
   ]
  },
  {
   "cell_type": "code",
   "execution_count": 48,
   "metadata": {},
   "outputs": [],
   "source": [
    "# Define the start and end date\n",
    "start_period = ee.Date('2024-01-01')\n",
    "end_period = ee.Date('2024-08-28')"
   ]
  },
  {
   "cell_type": "code",
   "execution_count": 49,
   "metadata": {},
   "outputs": [],
   "source": [
    "# Load the ESA WorldCover dataset for 2020\n",
    "worldcover = ee.Image('ESA/WorldCover/v100/2020')\n",
    "\n",
    "# Select the cropland class (cropland is class 40 in WorldCover)\n",
    "cropland = worldcover.eq(40)"
   ]
  },
  {
   "cell_type": "code",
   "execution_count": 50,
   "metadata": {},
   "outputs": [],
   "source": [
    "# Bitmask utility function\n",
    "def bitwiseExtract(value, fromBit, toBit=None):\n",
    "    if toBit is None:\n",
    "        toBit = fromBit\n",
    "    mask_size = ee.Number(1).add(toBit).subtract(fromBit)\n",
    "    mask = ee.Number(1).leftShift(mask_size).subtract(1)\n",
    "    return value.rightShift(fromBit).bitwiseAnd(mask)\n"
   ]
  },
  {
   "cell_type": "code",
   "execution_count": 52,
   "metadata": {},
   "outputs": [],
   "source": [
    "# Apply MODIS quality mask\n",
    "def modisQA_mask(image):\n",
    "    sqa = image.select('SummaryQA')\n",
    "    dqa = image.select('DetailedQA')\n",
    "    \n",
    "    viQualityFlagsS = bitwiseExtract(sqa, 0, 1)\n",
    "    viQualityFlagsD = bitwiseExtract(dqa, 0, 1)\n",
    "    viSnowIceFlagsD = bitwiseExtract(dqa, 14)\n",
    "    \n",
    "    mask = (viQualityFlagsS.eq(0)  # Good data, use with confidence\n",
    "            .And(viQualityFlagsD.eq(0))  # VI produced with good quality\n",
    "            .And(viSnowIceFlagsD.eq(0)))  # No snow/ice\n",
    "    \n",
    "    return image.updateMask(mask)"
   ]
  },
  {
   "cell_type": "code",
   "execution_count": 53,
   "metadata": {},
   "outputs": [],
   "source": [
    "# Import MODIS data collections (Terra and Aqua)\n",
    "MOD13 = ee.ImageCollection('MODIS/061/MOD13Q1').filterDate(start_period, end_period)\n",
    "MYD13 = ee.ImageCollection('MODIS/061/MYD13Q1').filterDate(start_period, end_period)"
   ]
  },
  {
   "cell_type": "code",
   "execution_count": 54,
   "metadata": {},
   "outputs": [],
   "source": [
    "# Filter the images with the quality mask\n",
    "mod13q1_QC = MOD13.map(modisQA_mask)\n",
    "myd13q1_QC = MYD13.map(modisQA_mask)\n"
   ]
  },
  {
   "cell_type": "code",
   "execution_count": 55,
   "metadata": {},
   "outputs": [],
   "source": [
    "# Merge Terra and Aqua collections\n",
    "mxd13q1_cleaned = mod13q1_QC.select('EVI').merge(myd13q1_QC.select('EVI'))\n",
    "#mxd13q1_cleaned_sorted = mxd13q1_cleaned.sort(\"system:time_start\")"
   ]
  },
  {
   "cell_type": "code",
   "execution_count": 58,
   "metadata": {},
   "outputs": [],
   "source": [
    "# Load ESA WorldCover dataset for 2020 (Cropland class 40)\n",
    "worldcover = ee.Image('ESA/WorldCover/v100/2020')\n",
    "cropland = worldcover.eq(40)\n",
    "\n",
    "#Function to apply the cropland mask to each image\n",
    "def apply_cropland_mask(image):\n",
    "    return image.updateMask(cropland)\n",
    "\n",
    "# Apply the cropland mask to the MODIS images in the collection\n",
    "cropland_mxd13q1 = mxd13q1_cleaned.map(apply_cropland_mask)\n",
    "\n"
   ]
  },
  {
   "cell_type": "code",
   "execution_count": 61,
   "metadata": {},
   "outputs": [],
   "source": [
    "# Visualization parameters\n",
    "vis_params = {\n",
    "    'min': 0.0,\n",
    "    'max': 8000.0,\n",
    "    'palette': [\n",
    "        'FFFFFF', 'CE7E45', 'DF923D', 'F1B555', 'FCD163', '99B718', '74A901',\n",
    "        '66A000', '529400', '3E8601', '207401', '056201', '004C00', '023B01',\n",
    "        '012E01', '011D01', '011301'\n",
    "    ],\n",
    "}"
   ]
  },
  {
   "cell_type": "code",
   "execution_count": 67,
   "metadata": {},
   "outputs": [
    {
     "data": {
      "text/html": [
       "<div style=\"width:100%;\"><div style=\"position:relative;width:100%;height:0;padding-bottom:60%;\"><span style=\"color:#565656\">Make this Notebook Trusted to load map: File -> Trust Notebook</span><iframe srcdoc=\"&lt;!DOCTYPE html&gt;\n",
       "&lt;html&gt;\n",
       "&lt;head&gt;\n",
       "    \n",
       "    &lt;meta http-equiv=&quot;content-type&quot; content=&quot;text/html; charset=UTF-8&quot; /&gt;\n",
       "    \n",
       "        &lt;script&gt;\n",
       "            L_NO_TOUCH = false;\n",
       "            L_DISABLE_3D = false;\n",
       "        &lt;/script&gt;\n",
       "    \n",
       "    &lt;style&gt;html, body {width: 100%;height: 100%;margin: 0;padding: 0;}&lt;/style&gt;\n",
       "    &lt;style&gt;#map {position:absolute;top:0;bottom:0;right:0;left:0;}&lt;/style&gt;\n",
       "    &lt;script src=&quot;https://cdn.jsdelivr.net/npm/leaflet@1.9.3/dist/leaflet.js&quot;&gt;&lt;/script&gt;\n",
       "    &lt;script src=&quot;https://code.jquery.com/jquery-3.7.1.min.js&quot;&gt;&lt;/script&gt;\n",
       "    &lt;script src=&quot;https://cdn.jsdelivr.net/npm/bootstrap@5.2.2/dist/js/bootstrap.bundle.min.js&quot;&gt;&lt;/script&gt;\n",
       "    &lt;script src=&quot;https://cdnjs.cloudflare.com/ajax/libs/Leaflet.awesome-markers/2.0.2/leaflet.awesome-markers.js&quot;&gt;&lt;/script&gt;\n",
       "    &lt;link rel=&quot;stylesheet&quot; href=&quot;https://cdn.jsdelivr.net/npm/leaflet@1.9.3/dist/leaflet.css&quot;/&gt;\n",
       "    &lt;link rel=&quot;stylesheet&quot; href=&quot;https://cdn.jsdelivr.net/npm/bootstrap@5.2.2/dist/css/bootstrap.min.css&quot;/&gt;\n",
       "    &lt;link rel=&quot;stylesheet&quot; href=&quot;https://netdna.bootstrapcdn.com/bootstrap/3.0.0/css/bootstrap-glyphicons.css&quot;/&gt;\n",
       "    &lt;link rel=&quot;stylesheet&quot; href=&quot;https://cdn.jsdelivr.net/npm/@fortawesome/fontawesome-free@6.2.0/css/all.min.css&quot;/&gt;\n",
       "    &lt;link rel=&quot;stylesheet&quot; href=&quot;https://cdnjs.cloudflare.com/ajax/libs/Leaflet.awesome-markers/2.0.2/leaflet.awesome-markers.css&quot;/&gt;\n",
       "    &lt;link rel=&quot;stylesheet&quot; href=&quot;https://cdn.jsdelivr.net/gh/python-visualization/folium/folium/templates/leaflet.awesome.rotate.min.css&quot;/&gt;\n",
       "    \n",
       "            &lt;meta name=&quot;viewport&quot; content=&quot;width=device-width,\n",
       "                initial-scale=1.0, maximum-scale=1.0, user-scalable=no&quot; /&gt;\n",
       "            &lt;style&gt;\n",
       "                #map_070245266346da2261a938af8a44f049 {\n",
       "                    position: relative;\n",
       "                    width: 100.0%;\n",
       "                    height: 100.0%;\n",
       "                    left: 0.0%;\n",
       "                    top: 0.0%;\n",
       "                }\n",
       "                .leaflet-container { font-size: 1rem; }\n",
       "            &lt;/style&gt;\n",
       "        \n",
       "&lt;/head&gt;\n",
       "&lt;body&gt;\n",
       "    \n",
       "    \n",
       "            &lt;div class=&quot;folium-map&quot; id=&quot;map_070245266346da2261a938af8a44f049&quot; &gt;&lt;/div&gt;\n",
       "        \n",
       "&lt;/body&gt;\n",
       "&lt;script&gt;\n",
       "    \n",
       "    \n",
       "            var map_070245266346da2261a938af8a44f049 = L.map(\n",
       "                &quot;map_070245266346da2261a938af8a44f049&quot;,\n",
       "                {\n",
       "                    center: [35.0, 38.0],\n",
       "                    crs: L.CRS.EPSG3857,\n",
       "                    zoom: 5,\n",
       "                    zoomControl: true,\n",
       "                    preferCanvas: false,\n",
       "                }\n",
       "            );\n",
       "\n",
       "            \n",
       "\n",
       "        \n",
       "    \n",
       "            var tile_layer_568907d48142ae6781ba227f81d8f3af = L.tileLayer(\n",
       "                &quot;https://tile.openstreetmap.org/{z}/{x}/{y}.png&quot;,\n",
       "                {&quot;attribution&quot;: &quot;\\u0026copy; \\u003ca href=\\&quot;https://www.openstreetmap.org/copyright\\&quot;\\u003eOpenStreetMap\\u003c/a\\u003e contributors&quot;, &quot;detectRetina&quot;: false, &quot;maxNativeZoom&quot;: 19, &quot;maxZoom&quot;: 19, &quot;minZoom&quot;: 0, &quot;noWrap&quot;: false, &quot;opacity&quot;: 1, &quot;subdomains&quot;: &quot;abc&quot;, &quot;tms&quot;: false}\n",
       "            );\n",
       "        \n",
       "    \n",
       "            tile_layer_568907d48142ae6781ba227f81d8f3af.addTo(map_070245266346da2261a938af8a44f049);\n",
       "        \n",
       "    \n",
       "            var tile_layer_e7dce4ac1f223ee88eb1f1b9760f2545 = L.tileLayer(\n",
       "                &quot;https://earthengine.googleapis.com/v1/projects/earthengine-legacy/maps/28a163a6cea65a4f42ad79367ba9a0ce-316baa3b712239a900a48a1a70753360/tiles/{z}/{x}/{y}&quot;,\n",
       "                {&quot;attribution&quot;: &quot;Map Data \\u0026copy; \\u003ca href=\\u0027https://earthengine.google.com/\\u0027\\u003eGoogle Earth Engine\\u003c/a\\u003e&quot;, &quot;detectRetina&quot;: false, &quot;maxZoom&quot;: 18, &quot;minZoom&quot;: 0, &quot;noWrap&quot;: false, &quot;opacity&quot;: 1, &quot;subdomains&quot;: &quot;abc&quot;, &quot;tms&quot;: false}\n",
       "            );\n",
       "        \n",
       "    \n",
       "            tile_layer_e7dce4ac1f223ee88eb1f1b9760f2545.addTo(map_070245266346da2261a938af8a44f049);\n",
       "        \n",
       "    \n",
       "            var layer_control_f15995396413821a4850fe173dc1af8e_layers = {\n",
       "                base_layers : {\n",
       "                    &quot;openstreetmap&quot; : tile_layer_568907d48142ae6781ba227f81d8f3af,\n",
       "                },\n",
       "                overlays :  {\n",
       "                    &quot;Cropland EVI&quot; : tile_layer_e7dce4ac1f223ee88eb1f1b9760f2545,\n",
       "                },\n",
       "            };\n",
       "            let layer_control_f15995396413821a4850fe173dc1af8e = L.control.layers(\n",
       "                layer_control_f15995396413821a4850fe173dc1af8e_layers.base_layers,\n",
       "                layer_control_f15995396413821a4850fe173dc1af8e_layers.overlays,\n",
       "                {&quot;autoZIndex&quot;: true, &quot;collapsed&quot;: true, &quot;position&quot;: &quot;topright&quot;}\n",
       "            ).addTo(map_070245266346da2261a938af8a44f049);\n",
       "\n",
       "        \n",
       "&lt;/script&gt;\n",
       "&lt;/html&gt;\" style=\"position:absolute;width:100%;height:100%;left:0;top:0;border:none !important;\" allowfullscreen webkitallowfullscreen mozallowfullscreen></iframe></div></div>"
      ],
      "text/plain": [
       "<folium.folium.Map at 0x21fee726190>"
      ]
     },
     "execution_count": 67,
     "metadata": {},
     "output_type": "execute_result"
    }
   ],
   "source": [
    "# Visualize the first image on the map\n",
    "import folium\n",
    "#Create a Folium map centered on Syria\n",
    "m = folium.Map(location=[35.0, 38.0], zoom_start=5,tiles = 'cartodb positron')\n",
    "\n",
    "# Add Earth Engine layer\n",
    "def add_ee_layer(map_object, ee_object, vis_params, name):\n",
    "    map_id_dict = ee.Image(ee_object).getMapId(vis_params)\n",
    "    folium.raster_layers.TileLayer(\n",
    "        tiles=map_id_dict['tile_fetcher'].url_format,\n",
    "        attr=\"Map Data &copy; <a href='https://earthengine.google.com/'>Google Earth Engine</a>\",\n",
    "        name=name,\n",
    "        overlay=True,\n",
    "        control=True\n",
    "    ).add_to(map_object)\n",
    "\n",
    "# Add the first image of the masked cropland EVI collection to the map\n",
    "add_ee_layer(m, cropland_mxd13q1.first(), vis_params, 'Cropland EVI')\n",
    "\n",
    "# Add layer control and display the map\n",
    "m.add_child(folium.LayerControl())\n",
    "m\n"
   ]
  },
  {
   "cell_type": "code",
   "execution_count": 64,
   "metadata": {},
   "outputs": [],
   "source": [
    "mxd13q1_cleaned_sorted = cropland_mxd13q1.sort('system:time_start')"
   ]
  },
  {
   "cell_type": "code",
   "execution_count": 68,
   "metadata": {},
   "outputs": [
    {
     "name": "stdout",
     "output_type": "stream",
     "text": [
      "All tasks started. Monitor progress in the GEE Tasks tab or Python script output.\n"
     ]
    }
   ],
   "source": [
    "'''# Function to create export tasks for each image in the collection\n",
    "def batch_export_to_drive(image_collection, folder_name, region, scale=250):\n",
    "    # Get the list of image indices in the collection\n",
    "    image_list = image_collection.toList(image_collection.size())\n",
    "    \n",
    "    # Loop through each image in the collection\n",
    "    for i in range(0, image_collection.size().getInfo()):\n",
    "        # Get the current image\n",
    "        image = ee.Image(image_list.get(i))\n",
    "        \n",
    "        # Extract the date of the image for naming the file\n",
    "        date = ee.Date(image.get('system:time_start')).format('YYYY-MM-dd').getInfo()\n",
    "        \n",
    "        # Define the export task\n",
    "        task = ee.batch.Export.image.toDrive(\n",
    "            image=image.clip(region),\n",
    "            description=f'modis_evi_{date}',  # Unique description for each export task\n",
    "            folder=folder_name,  # Google Drive folder name\n",
    "            fileNamePrefix=f'modis_evi_{date}',  # File name prefix\n",
    "            scale=scale,  # Spatial resolution in meters\n",
    "            region=region.bounds().getInfo()['coordinates'],  # Export region (coordinates)\n",
    "            fileFormat='GeoTIFF',\n",
    "            maxPixels=1e13  # Maximum number of pixels allowed in the export\n",
    "        )\n",
    "        \n",
    "        # Start the task\n",
    "        task.start()\n",
    "        #print(f\"Started export task for {date}\")\n",
    "\n",
    "# Call the batch export function\n",
    "batch_export_to_drive(mxd13q1_cleaned_sorted, 'Syr_mxd13q1_evi', syr_geometry)\n",
    "\n",
    "print(\"All tasks started. Monitor progress in the GEE Tasks tab or Python script output.\")'''"
   ]
  }
 ],
 "metadata": {
  "kernelspec": {
   "display_name": "GIS",
   "language": "python",
   "name": "python3"
  },
  "language_info": {
   "codemirror_mode": {
    "name": "ipython",
    "version": 3
   },
   "file_extension": ".py",
   "mimetype": "text/x-python",
   "name": "python",
   "nbconvert_exporter": "python",
   "pygments_lexer": "ipython3",
   "version": "3.9.20"
  }
 },
 "nbformat": 4,
 "nbformat_minor": 2
}
