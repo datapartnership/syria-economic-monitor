{
 "cells": [
  {
   "cell_type": "code",
   "execution_count": 12,
   "metadata": {},
   "outputs": [],
   "source": [
    "import ee\n",
    "import xarray as xr\n",
    "import numpy as np\n",
    "import geopandas as gpd\n",
    "import geemap"
   ]
  },
  {
   "cell_type": "code",
   "execution_count": 4,
   "metadata": {},
   "outputs": [],
   "source": [
    "ee.Initialize(opt_url='https://earthengine-highvolume.googleapis.com')"
   ]
  },
  {
   "cell_type": "code",
   "execution_count": 57,
   "metadata": {},
   "outputs": [
    {
     "data": {
      "text/html": [
       "\n",
       "            <style>\n",
       "                .geemap-dark {\n",
       "                    --jp-widgets-color: white;\n",
       "                    --jp-widgets-label-color: white;\n",
       "                    --jp-ui-font-color1: white;\n",
       "                    --jp-layout-color2: #454545;\n",
       "                    background-color: #383838;\n",
       "                }\n",
       "\n",
       "                .geemap-dark .jupyter-button {\n",
       "                    --jp-layout-color3: #383838;\n",
       "                }\n",
       "\n",
       "                .geemap-colab {\n",
       "                    background-color: var(--colab-primary-surface-color, white);\n",
       "                }\n",
       "\n",
       "                .geemap-colab .jupyter-button {\n",
       "                    --jp-layout-color3: var(--colab-primary-surface-color, white);\n",
       "                }\n",
       "            </style>\n",
       "            "
      ],
      "text/plain": [
       "<IPython.core.display.HTML object>"
      ]
     },
     "metadata": {},
     "output_type": "display_data"
    }
   ],
   "source": [
    "# Define the time range for the dataset extraction\n",
    "start_period = '2014-01-01'\n",
    "end_period = '2024-08-31'\n"
   ]
  },
  {
   "cell_type": "code",
   "execution_count": null,
   "metadata": {},
   "outputs": [],
   "source": [
    "utm = \"EPSG:32632\"  # 'EPSG:4326' 'SR-ORG:6974' 'EPSG:23847'"
   ]
  },
  {
   "cell_type": "code",
   "execution_count": 58,
   "metadata": {},
   "outputs": [
    {
     "data": {
      "text/html": [
       "\n",
       "            <style>\n",
       "                .geemap-dark {\n",
       "                    --jp-widgets-color: white;\n",
       "                    --jp-widgets-label-color: white;\n",
       "                    --jp-ui-font-color1: white;\n",
       "                    --jp-layout-color2: #454545;\n",
       "                    background-color: #383838;\n",
       "                }\n",
       "\n",
       "                .geemap-dark .jupyter-button {\n",
       "                    --jp-layout-color3: #383838;\n",
       "                }\n",
       "\n",
       "                .geemap-colab {\n",
       "                    background-color: var(--colab-primary-surface-color, white);\n",
       "                }\n",
       "\n",
       "                .geemap-colab .jupyter-button {\n",
       "                    --jp-layout-color3: var(--colab-primary-surface-color, white);\n",
       "                }\n",
       "            </style>\n",
       "            "
      ],
      "text/plain": [
       "<IPython.core.display.HTML object>"
      ]
     },
     "metadata": {},
     "output_type": "display_data"
    }
   ],
   "source": [
    "terra = (\n",
    "    ee.ImageCollection(\"MODIS/061/MOD13Q1\")\n",
    "    .select([\"EVI\", \"SummaryQA\", \"DetailedQA\"])\n",
    "    .filterDate(start_period, end_period)\n",
    ")\n",
    "aqua = (\n",
    "    ee.ImageCollection(\"MODIS/061/MYD13Q1\")\n",
    "    .select([\"EVI\", \"SummaryQA\", \"DetailedQA\"])\n",
    "    .filterDate(start_period, end_period)\n",
    ")\n",
    "\n",
    "modis = terra.select(\"EVI\").merge(aqua.select(\"EVI\"))\n",
    "modis = modis.sort(\"system:time_start\")"
   ]
  },
  {
   "cell_type": "code",
   "execution_count": 59,
   "metadata": {},
   "outputs": [
    {
     "data": {
      "text/html": [
       "\n",
       "            <style>\n",
       "                .geemap-dark {\n",
       "                    --jp-widgets-color: white;\n",
       "                    --jp-widgets-label-color: white;\n",
       "                    --jp-ui-font-color1: white;\n",
       "                    --jp-layout-color2: #454545;\n",
       "                    background-color: #383838;\n",
       "                }\n",
       "\n",
       "                .geemap-dark .jupyter-button {\n",
       "                    --jp-layout-color3: #383838;\n",
       "                }\n",
       "\n",
       "                .geemap-colab {\n",
       "                    background-color: var(--colab-primary-surface-color, white);\n",
       "                }\n",
       "\n",
       "                .geemap-colab .jupyter-button {\n",
       "                    --jp-layout-color3: var(--colab-primary-surface-color, white);\n",
       "                }\n",
       "            </style>\n",
       "            "
      ],
      "text/plain": [
       "<IPython.core.display.HTML object>"
      ]
     },
     "metadata": {},
     "output_type": "display_data"
    }
   ],
   "source": [
    "# Function to extract bitwise quality flags\n",
    "def bitwiseExtract(value, fromBit, toBit=None):\n",
    "    if toBit is None:\n",
    "        toBit = fromBit\n",
    "    maskSize = ee.Number(1).add(toBit).subtract(fromBit)\n",
    "    mask = ee.Number(1).leftShift(maskSize).subtract(1)\n",
    "    return value.rightShift(fromBit).bitwiseAnd(mask)\n",
    "\n",
    "# Function to apply MODIS QA mask\n",
    "def modisQA_mask(image):\n",
    "    sqa = image.select(\"SummaryQA\")\n",
    "    dqa = image.select(\"DetailedQA\")\n",
    "    viQualityFlagsS = bitwiseExtract(sqa, 0, 1)\n",
    "    viQualityFlagsD = bitwiseExtract(dqa, 0, 1)\n",
    "    viSnowIceFlagsD = bitwiseExtract(dqa, 14)\n",
    "    mask = (\n",
    "        viQualityFlagsS.eq(0)\n",
    "        .And(viQualityFlagsD.eq(0))\n",
    "        .And(viSnowIceFlagsD.eq(0))\n",
    "    )\n",
    "    return image.updateMask(mask)"
   ]
  },
  {
   "cell_type": "code",
   "execution_count": 60,
   "metadata": {},
   "outputs": [
    {
     "data": {
      "text/html": [
       "\n",
       "            <style>\n",
       "                .geemap-dark {\n",
       "                    --jp-widgets-color: white;\n",
       "                    --jp-widgets-label-color: white;\n",
       "                    --jp-ui-font-color1: white;\n",
       "                    --jp-layout-color2: #454545;\n",
       "                    background-color: #383838;\n",
       "                }\n",
       "\n",
       "                .geemap-dark .jupyter-button {\n",
       "                    --jp-layout-color3: #383838;\n",
       "                }\n",
       "\n",
       "                .geemap-colab {\n",
       "                    background-color: var(--colab-primary-surface-color, white);\n",
       "                }\n",
       "\n",
       "                .geemap-colab .jupyter-button {\n",
       "                    --jp-layout-color3: var(--colab-primary-surface-color, white);\n",
       "                }\n",
       "            </style>\n",
       "            "
      ],
      "text/plain": [
       "<IPython.core.display.HTML object>"
      ]
     },
     "metadata": {},
     "output_type": "display_data"
    }
   ],
   "source": [
    "# Apply the QA mask to Terra and Aqua datasets\n",
    "mod13q1_QC = terra.map(modisQA_mask)\n",
    "myd13q1_QC = aqua.map(modisQA_mask)\n",
    "\n",
    "# Merge the cleaned Terra and Aqua datasets\n",
    "mxd13q1_cleaned = mod13q1_QC.select(\"EVI\").merge(myd13q1_QC.select(\"EVI\"))\n",
    "mxd13q1_cleaned_sorted = mxd13q1_cleaned.sort(\"system:time_start\")\n",
    "#modis_sorted = modis.sort(\"system:time_start\")\n",
    "\n",
    "# Integrate LGRIP crop data to filter out non-crop areas\n",
    "lgrip30 = ee.ImageCollection(\"projects/sat-io/open-datasets/GFSAD/LGRIP30\").mosaic()\n",
    "crop_mask = lgrip30.select(\"b1\").gt(1).rename(\"crop\")\n",
    "\n",
    "# Apply the crop mask to the MODIS data\n",
    "def apply_crop_mask(image):\n",
    "    return image.updateMask(crop_mask)\n",
    "\n",
    "# Apply the crop mask to the cleaned MODIS data\n",
    "mxd13q1_final = mxd13q1_cleaned_sorted.map(apply_crop_mask)\n",
    "#modis_final = modis_sorted.map(apply_crop_mask)\n"
   ]
  },
  {
   "cell_type": "code",
   "execution_count": null,
   "metadata": {},
   "outputs": [],
   "source": [
    "iso3 = \"SYR\"\n",
    "country = \"Syria\"\n",
    "release_type = \"gbOpen\"\n",
    "\n",
    "adm = \"ADM0\"\n",
    "geo_url = f\"https://www.geoboundaries.org/api/current/{release_type}/{iso3}/{adm}/\"\n",
    "res = requests.get(geo_url).json()\n",
    "print(\"Reading \" + res[\"gjDownloadURL\"])\n",
    "adm0_syr = gpd.read_file(res[\"gjDownloadURL\"])\n",
    "\n",
    "adm = \"ADM1\"\n",
    "geo_url = f\"https://www.geoboundaries.org/api/current/{release_type}/{iso3}/{adm}/\"\n",
    "res = requests.get(geo_url).json()\n",
    "print(\"Reading \" + res[\"gjDownloadURL\"])\n",
    "adm1_syr = gpd.read_file(res[\"gjDownloadURL\"])\n",
    "\n",
    "adm = \"ADM2\"\n",
    "geo_url = f\"https://www.geoboundaries.org/api/current/{release_type}/{iso3}/{adm}/\"\n",
    "res = requests.get(geo_url).json()\n",
    "print(\"Reading \" + res[\"gjDownloadURL\"])\n",
    "adm2_syr = gpd.read_file(res[\"gjDownloadURL\"])\n"
   ]
  },
  {
   "cell_type": "code",
   "execution_count": null,
   "metadata": {},
   "outputs": [],
   "source": [
    "#aoi = gpd_to_gee(adm0_ner)\n",
    "aoi = gpd_to_gee(adm0_syr)"
   ]
  },
  {
   "cell_type": "code",
   "execution_count": null,
   "metadata": {},
   "outputs": [],
   "source": [
    "ds_all = []\n",
    "scale_factor = 0.0001\n",
    "years = range(2001, 2024)\n",
    "months = range(1, 13)\n",
    "for year in tqdm(years):\n",
    "    for month in tqdm(months):\n",
    "        modis_sel = mxd13q1.filter(ee.Filter.calendarRange(year, year, \"year\")).filter(\n",
    "            ee.Filter.calendarRange(month, month, \"month\")\n",
    "        )\n",
    "        # modis_sel = mxd13q1.filterDate(f'{year}-{month}-01', f'{year}-{month+1}-01')\n",
    "        ds = xr.open_dataset(\n",
    "            modis_sel,\n",
    "            engine=\"ee\",\n",
    "            geometry=aoi.geometry(),\n",
    "            crs=utm,\n",
    "            scale=250,\n",
    "        )\n",
    "        ds = ds * scale_factor\n",
    "        ds = ds.compute()\n",
    "        ds_all.append(ds)\n",
    "    # print(f\"Finished {year}\")"
   ]
  },
  {
   "cell_type": "code",
   "execution_count": null,
   "metadata": {},
   "outputs": [],
   "source": [
    "ds = xr.concat(ds_all, dim=\"time\")"
   ]
  },
  {
   "cell_type": "code",
   "execution_count": 39,
   "metadata": {},
   "outputs": [
    {
     "data": {
      "text/html": [
       "\n",
       "            <style>\n",
       "                .geemap-dark {\n",
       "                    --jp-widgets-color: white;\n",
       "                    --jp-widgets-label-color: white;\n",
       "                    --jp-ui-font-color1: white;\n",
       "                    --jp-layout-color2: #454545;\n",
       "                    background-color: #383838;\n",
       "                }\n",
       "\n",
       "                .geemap-dark .jupyter-button {\n",
       "                    --jp-layout-color3: #383838;\n",
       "                }\n",
       "\n",
       "                .geemap-colab {\n",
       "                    background-color: var(--colab-primary-surface-color, white);\n",
       "                }\n",
       "\n",
       "                .geemap-colab .jupyter-button {\n",
       "                    --jp-layout-color3: var(--colab-primary-surface-color, white);\n",
       "                }\n",
       "            </style>\n",
       "            "
      ],
      "text/plain": [
       "<IPython.core.display.HTML object>"
      ]
     },
     "metadata": {},
     "output_type": "display_data"
    }
   ],
   "source": [
    "'''def image_collection_to_xarray(collection, region, scale=1000):\n",
    "    \"\"\"Convert an Earth Engine ImageCollection to an Xarray dataset.\"\"\"\n",
    "    def reduce_image(image):\n",
    "        values = image.reduceRegion(\n",
    "            reducer=ee.Reducer.mean(),\n",
    "            geometry=region,\n",
    "            scale=scale,\n",
    "            maxPixels=1e9\n",
    "        )\n",
    "        return ee.Feature(None, values).set('system:time_start', image.get('system:time_start'))\n",
    "    \n",
    "    feature_collection = ee.FeatureCollection(collection.map(reduce_image))\n",
    "    properties = feature_collection.aggregate_array('system:time_start').getInfo()\n",
    "    data_values = feature_collection.aggregate_array('EVI').getInfo()\n",
    "    \n",
    "    dates = np.array(properties, dtype='datetime64[ms]')\n",
    "    evi_data = np.array(data_values)\n",
    "    \n",
    "    ds = xr.Dataset(\n",
    "        {\"EVI\": ([\"time\"], evi_data)},\n",
    "        coords={\"time\": dates},\n",
    "        attrs={\"description\": \"EVI data extracted from MODIS using Earth Engine\"}\n",
    "    )\n",
    "\n",
    "    print(len(dates))\n",
    "    print(len(evi_data))\n",
    "    return ds'''"
   ]
  },
  {
   "cell_type": "code",
   "execution_count": 64,
   "metadata": {},
   "outputs": [
    {
     "data": {
      "text/html": [
       "\n",
       "            <style>\n",
       "                .geemap-dark {\n",
       "                    --jp-widgets-color: white;\n",
       "                    --jp-widgets-label-color: white;\n",
       "                    --jp-ui-font-color1: white;\n",
       "                    --jp-layout-color2: #454545;\n",
       "                    background-color: #383838;\n",
       "                }\n",
       "\n",
       "                .geemap-dark .jupyter-button {\n",
       "                    --jp-layout-color3: #383838;\n",
       "                }\n",
       "\n",
       "                .geemap-colab {\n",
       "                    background-color: var(--colab-primary-surface-color, white);\n",
       "                }\n",
       "\n",
       "                .geemap-colab .jupyter-button {\n",
       "                    --jp-layout-color3: var(--colab-primary-surface-color, white);\n",
       "                }\n",
       "            </style>\n",
       "            "
      ],
      "text/plain": [
       "<IPython.core.display.HTML object>"
      ]
     },
     "metadata": {},
     "output_type": "display_data"
    }
   ],
   "source": [
    "def image_collection_to_xarray(collection, region, scale=1000):\n",
    "    \"\"\"Convert an Earth Engine ImageCollection to an Xarray dataset.\"\"\"\n",
    "    \n",
    "    def reduce_image(image):\n",
    "        values = image.reduceRegion(\n",
    "            reducer=ee.Reducer.mean(),\n",
    "            geometry=region,\n",
    "            scale=scale,\n",
    "            maxPixels=1e9\n",
    "        )\n",
    "        return ee.Feature(None, values).set('system:time_start', image.get('system:time_start'))\n",
    "    \n",
    "    # Map the reduce function over the ImageCollection to get the aggregated values\n",
    "    feature_collection = ee.FeatureCollection(collection.map(reduce_image))\n",
    "    \n",
    "    # Extract the dates and EVI values from the FeatureCollection\n",
    "    properties = feature_collection.aggregate_array('system:time_start').getInfo()\n",
    "    data_values = feature_collection.aggregate_array('EVI').getInfo()\n",
    "\n",
    "    # Filter out None values to ensure matching lengths\n",
    "    valid_data = [(date, value) for date, value in zip(properties, data_values) if value is not None]\n",
    "\n",
    "    # Check if we have valid data\n",
    "    if len(valid_data) == 0:\n",
    "        raise ValueError(\"No valid EVI data found for the specified region and time period.\")\n",
    "\n",
    "    # Unzip the list of tuples into separate lists for dates and EVI values\n",
    "    dates, evi_data = zip(*valid_data)\n",
    "    \n",
    "    # Convert the dates into a numpy array of datetime objects\n",
    "    dates = np.array(dates, dtype='datetime64[ms]')\n",
    "\n",
    "    # Convert the EVI values into a numpy array\n",
    "    evi_data = np.array(evi_data)\n",
    "\n",
    "    # Create the Xarray dataset\n",
    "    ds = xr.Dataset(\n",
    "        {\"EVI\": ([\"time\"], evi_data)},\n",
    "        coords={\"time\": dates},\n",
    "        attrs={\"description\": \"EVI data extracted from MODIS using Earth Engine\"}\n",
    "    )\n",
    "\n",
    "    return ds\n"
   ]
  },
  {
   "cell_type": "code",
   "execution_count": 61,
   "metadata": {},
   "outputs": [
    {
     "data": {
      "text/html": [
       "\n",
       "            <style>\n",
       "                .geemap-dark {\n",
       "                    --jp-widgets-color: white;\n",
       "                    --jp-widgets-label-color: white;\n",
       "                    --jp-ui-font-color1: white;\n",
       "                    --jp-layout-color2: #454545;\n",
       "                    background-color: #383838;\n",
       "                }\n",
       "\n",
       "                .geemap-dark .jupyter-button {\n",
       "                    --jp-layout-color3: #383838;\n",
       "                }\n",
       "\n",
       "                .geemap-colab {\n",
       "                    background-color: var(--colab-primary-surface-color, white);\n",
       "                }\n",
       "\n",
       "                .geemap-colab .jupyter-button {\n",
       "                    --jp-layout-color3: var(--colab-primary-surface-color, white);\n",
       "                }\n",
       "            </style>\n",
       "            "
      ],
      "text/plain": [
       "<IPython.core.display.HTML object>"
      ]
     },
     "metadata": {},
     "output_type": "display_data"
    }
   ],
   "source": [
    "#Load the Admin0 GeoJSON file into a GeoPandas DataFrame\n",
    "geojson_path = \"C:\\\\Users\\\\ishaa\\\\OneDrive\\\\Desktop\\\\DataLab\\\\Syria\\\\syria-economic-monitor\\\\data\\\\boundaries\\\\geoBoundaries-SYR-ADM0.geojson\"\n",
    "admin0_gdf = gpd.read_file(geojson_path)\n",
    "\n",
    "# Convert the GeoPandas DataFrame to a GEE Geometry\n",
    "region = geemap.geopandas_to_ee(admin0_gdf)"
   ]
  },
  {
   "cell_type": "code",
   "execution_count": 65,
   "metadata": {},
   "outputs": [
    {
     "data": {
      "text/html": [
       "\n",
       "            <style>\n",
       "                .geemap-dark {\n",
       "                    --jp-widgets-color: white;\n",
       "                    --jp-widgets-label-color: white;\n",
       "                    --jp-ui-font-color1: white;\n",
       "                    --jp-layout-color2: #454545;\n",
       "                    background-color: #383838;\n",
       "                }\n",
       "\n",
       "                .geemap-dark .jupyter-button {\n",
       "                    --jp-layout-color3: #383838;\n",
       "                }\n",
       "\n",
       "                .geemap-colab {\n",
       "                    background-color: var(--colab-primary-surface-color, white);\n",
       "                }\n",
       "\n",
       "                .geemap-colab .jupyter-button {\n",
       "                    --jp-layout-color3: var(--colab-primary-surface-color, white);\n",
       "                }\n",
       "            </style>\n",
       "            "
      ],
      "text/plain": [
       "<IPython.core.display.HTML object>"
      ]
     },
     "metadata": {},
     "output_type": "display_data"
    },
    {
     "name": "stderr",
     "output_type": "stream",
     "text": [
      "C:\\Users\\ishaa\\AppData\\Local\\Temp\\ipykernel_42792\\1145512980.py:37: UserWarning: Converting non-nanosecond precision datetime values to nanosecond precision. This behavior can eventually be relaxed in xarray, as it is an artifact from pandas which is now beginning to support non-nanosecond precision values. This warning is caused by passing non-nanosecond np.datetime64 or np.timedelta64 values to the DataArray or Variable constructor; it can be silenced by converting the values to nanosecond precision ahead of time.\n",
      "  ds = xr.Dataset(\n"
     ]
    }
   ],
   "source": [
    "# Convert the ImageCollection to an Xarray dataset\n",
    "ds = image_collection_to_xarray(modis, region, scale=500)\n"
   ]
  },
  {
   "cell_type": "code",
   "execution_count": 66,
   "metadata": {},
   "outputs": [
    {
     "data": {
      "text/html": [
       "\n",
       "            <style>\n",
       "                .geemap-dark {\n",
       "                    --jp-widgets-color: white;\n",
       "                    --jp-widgets-label-color: white;\n",
       "                    --jp-ui-font-color1: white;\n",
       "                    --jp-layout-color2: #454545;\n",
       "                    background-color: #383838;\n",
       "                }\n",
       "\n",
       "                .geemap-dark .jupyter-button {\n",
       "                    --jp-layout-color3: #383838;\n",
       "                }\n",
       "\n",
       "                .geemap-colab {\n",
       "                    background-color: var(--colab-primary-surface-color, white);\n",
       "                }\n",
       "\n",
       "                .geemap-colab .jupyter-button {\n",
       "                    --jp-layout-color3: var(--colab-primary-surface-color, white);\n",
       "                }\n",
       "            </style>\n",
       "            "
      ],
      "text/plain": [
       "<IPython.core.display.HTML object>"
      ]
     },
     "metadata": {},
     "output_type": "display_data"
    },
    {
     "name": "stdout",
     "output_type": "stream",
     "text": [
      "<xarray.Dataset> Size: 4kB\n",
      "Dimensions:  (time: 260)\n",
      "Coordinates:\n",
      "  * time     (time) datetime64[ns] 2kB 2019-01-01 2019-01-09 ... 2024-08-20\n",
      "Data variables:\n",
      "    EVI      (time) float64 2kB 1.715e+03 1.752e+03 ... 1.083e+03 1.086e+03\n",
      "Attributes:\n",
      "    description:  EVI data extracted from MODIS using Earth Engine\n"
     ]
    }
   ],
   "source": [
    "print(ds)"
   ]
  },
  {
   "cell_type": "code",
   "execution_count": 67,
   "metadata": {},
   "outputs": [
    {
     "data": {
      "text/html": [
       "\n",
       "            <style>\n",
       "                .geemap-dark {\n",
       "                    --jp-widgets-color: white;\n",
       "                    --jp-widgets-label-color: white;\n",
       "                    --jp-ui-font-color1: white;\n",
       "                    --jp-layout-color2: #454545;\n",
       "                    background-color: #383838;\n",
       "                }\n",
       "\n",
       "                .geemap-dark .jupyter-button {\n",
       "                    --jp-layout-color3: #383838;\n",
       "                }\n",
       "\n",
       "                .geemap-colab {\n",
       "                    background-color: var(--colab-primary-surface-color, white);\n",
       "                }\n",
       "\n",
       "                .geemap-colab .jupyter-button {\n",
       "                    --jp-layout-color3: var(--colab-primary-surface-color, white);\n",
       "                }\n",
       "            </style>\n",
       "            "
      ],
      "text/plain": [
       "<IPython.core.display.HTML object>"
      ]
     },
     "metadata": {},
     "output_type": "display_data"
    },
    {
     "name": "stdout",
     "output_type": "stream",
     "text": [
      "Data saved to Zarr format at modis_evi_2014_2024_2.zarr\n"
     ]
    }
   ],
   "source": [
    "import zarr\n",
    "# Save the dataset to a Zarr format\n",
    "zarr_output_path = \"modis_evi_2014_2024_2.zarr\"\n",
    "ds.to_zarr(zarr_output_path, mode='w')\n",
    "print(f\"Data saved to Zarr format at {zarr_output_path}\")"
   ]
  }
 ],
 "metadata": {
  "kernelspec": {
   "display_name": "GIS",
   "language": "python",
   "name": "python3"
  },
  "language_info": {
   "codemirror_mode": {
    "name": "ipython",
    "version": 3
   },
   "file_extension": ".py",
   "mimetype": "text/x-python",
   "name": "python",
   "nbconvert_exporter": "python",
   "pygments_lexer": "ipython3",
   "version": "3.9.20"
  }
 },
 "nbformat": 4,
 "nbformat_minor": 2
}
