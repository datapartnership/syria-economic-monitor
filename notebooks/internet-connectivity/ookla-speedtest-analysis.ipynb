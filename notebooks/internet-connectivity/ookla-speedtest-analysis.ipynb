{
 "cells": [
  {
   "cell_type": "code",
   "execution_count": 1,
   "metadata": {
    "tags": [
     "remove-cell"
    ]
   },
   "outputs": [],
   "source": [
    "import pandas as pd\n",
    "import numpy as np\n",
    "import matplotlib.pyplot as plt\n",
    "\n",
    "from shapely.geometry import Point\n",
    "import geopandas as gpd\n",
    "import glob\n",
    "from datetime import datetime\n",
    "import bokeh\n",
    "from bokeh.layouts import Row, column, gridplot\n",
    "from bokeh.models import Title, Legend, TapTool, Range1d, TabPanel, Tabs\n",
    "import matplotlib as mpl\n",
    "\n",
    "from bokeh.core.validation.warnings import EMPTY_LAYOUT, MISSING_RENDERERS\n",
    "bokeh.core.validation.silence(EMPTY_LAYOUT, True)\n",
    "bokeh.core.validation.silence(MISSING_RENDERERS, True)\n",
    "from bokeh.plotting import figure, output_file, show, output_notebook\n",
    "from bokeh.models import Span\n",
    "\n",
    "import dask.dataframe as dd\n",
    "from sklearn.preprocessing import StandardScaler\n",
    "import dask_geopandas as dg\n",
    "\n",
    "\n"
   ]
  },
  {
   "cell_type": "code",
   "execution_count": 2,
   "metadata": {
    "tags": [
     "remove-cell"
    ]
   },
   "outputs": [],
   "source": [
    "color_palette = [  '#4E79A7',  # Blue\n",
    "    '#F28E2B',  # Orange\n",
    "    '#E15759',  # Red\n",
    "    '#76B7B2',  # Teal\n",
    "    '#59A14F',  # Green\n",
    "    '#EDC948',  # Yellow\n",
    "    '#B07AA1',  # Purple\n",
    "    '#FF9DA7',  # Pink\n",
    "    '#9C755F',  # Brown\n",
    "    '#BAB0AC',  # Gray\n",
    "    '#7C7C7C',  # Dark gray\n",
    "    '#6B4C9A',  # Violet\n",
    "    '#D55E00',  # Orange-red\n",
    "    '#CC61B0',  # Magenta\n",
    "    '#0072B2',  # Bright blue\n",
    "    '#329262',  # Peacock green\n",
    "    '#9E5B5A',  # Brick red\n",
    "    '#636363',  # Medium gray\n",
    "    '#CD9C00',  # Gold\n",
    "    '#5D69B1',  # Medium blue\n",
    "]"
   ]
  },
  {
   "attachments": {},
   "cell_type": "markdown",
   "metadata": {},
   "source": [
    "# Ookla's Number of Speedtest Intelligence Users\n",
    "\n",
    "Ookla Speedtests are a way for users to find out the download speed, upload speed and latency of their internet connection. This is an analysis of the number of users who took the speedtest. To account for change, we take the baseline number of users from November 2022 to January 2023 and show the percent change in daily users and change in weekly users. \n",
    "\n",
    "The downloading of raw data from the Ookla Speedtest Intelligence Portal is done using the get-ookla-data.py script. \n"
   ]
  },
  {
   "cell_type": "code",
   "execution_count": 3,
   "metadata": {
    "tags": [
     "remove-cell"
    ]
   },
   "outputs": [],
   "source": [
    "# unzip all files\n",
    "\n",
    "import zipfile\n",
    "zip_files = glob.glob(f'../../data/ookla-speedtest/raw2/*.zip')\n",
    "\n",
    "for zip_file in zip_files:\n",
    "    with zipfile.ZipFile(zip_file, 'r') as zf:\n",
    "        zf.extractall('../../data/ookla-speedtest/raw2/zip_file')"
   ]
  },
  {
   "cell_type": "code",
   "execution_count": 4,
   "metadata": {
    "tags": [
     "remove-cell"
    ]
   },
   "outputs": [],
   "source": [
    "# extract all speedtest intelligence files\n",
    "ios = pd.DataFrame()\n",
    "stdesktop = pd.DataFrame()\n",
    "android = pd.DataFrame()\n",
    "stnet = pd.DataFrame()\n",
    "\n",
    "\n",
    "android = dd.read_csv(glob.glob(f'../../data/ookla-speedtest/raw2/zip_file/android_*.csv'), low_memory=False, usecols = ['test_id', 'test_date', 'client_latitude', 'client_longitude', 'client_country'])\n",
    "android['type'] = 'android'\n",
    "ios = dd.read_csv(glob.glob(f'../../data/ookla-speedtest/raw2/zip_file/ios_*.csv'), low_memory=False, usecols = ['test_id', 'test_date', 'client_latitude', 'client_longitude', 'client_country'])\n",
    "ios['type'] = 'ios'\n",
    "stnet = dd.read_csv(glob.glob(f'../../data/ookla-speedtest/raw2/zip_file/stnet_*.csv'), low_memory=False, usecols = ['test_id', 'test_date', 'client_latitude', 'client_longitude', 'client_country'])\n",
    "stnet['type'] = 'stnet'\n",
    "stdesktop = dd.read_csv(glob.glob(f'../../data/ookla-speedtest/raw2/zip_file/stdesktop_*.csv'), low_memory=False, usecols = ['test_id', 'test_date', 'client_latitude', 'client_longitude', 'client_country'])\n",
    "stdesktop['type'] = 'stdesktop'"
   ]
  },
  {
   "cell_type": "code",
   "execution_count": 5,
   "metadata": {
    "tags": [
     "remove-cell"
    ]
   },
   "outputs": [],
   "source": [
    "# choose only the records where the records are from November 2022 till date and are taken in Turkey\n",
    "ddf = dd.concat([android, ios, stnet, stdesktop])\n",
    "ddf = ddf[ddf['client_country']=='Syria']\n",
    "ddf['test_date'] = dd.to_datetime(ddf['test_date'])\n",
    "meta = ('test_date', 'datetime64[ns]')\n",
    "#df['test_date'] = df['test_date'].apply(lambda x: x + timedelta(hours=3), meta=meta)\n",
    "ddf = ddf[(ddf['test_date']>'2022-11-01')&(ddf['test_date']<'2023-05-31')]\n",
    "\n",
    "# create a column for the number of \n",
    "#ddf['user_count'] = 1\n",
    "ddf['date'] = ddf['test_date'].dt.date"
   ]
  },
  {
   "cell_type": "code",
   "execution_count": 6,
   "metadata": {
    "tags": [
     "remove-cell"
    ]
   },
   "outputs": [],
   "source": [
    "# count the number of test_ids that were taken on a given day\n",
    "ddf = ddf[['test_id', 'date', 'client_latitude', 'client_longitude', 'type']].groupby(['client_latitude','client_longitude', 'date', 'type']).count()[['test_id']].reset_index()"
   ]
  },
  {
   "cell_type": "code",
   "execution_count": 7,
   "metadata": {
    "tags": [
     "remove-cell"
    ]
   },
   "outputs": [],
   "source": [
    "gddf = dg.from_dask_dataframe(\n",
    "    ddf,\n",
    "    geometry=dg.points_from_xy(ddf, \"client_longitude\", \"client_latitude\"),\n",
    ").set_crs(\"EPSG:4326\")"
   ]
  },
  {
   "cell_type": "code",
   "execution_count": 26,
   "metadata": {
    "tags": [
     "hide-cell",
     "remove-cell"
    ]
   },
   "outputs": [],
   "source": [
    "# read turkey shapefile and areas of interest\n",
    "syria_adm3 = gpd.read_file('../../data/shapefiles/syr_pplp_adm4_unocha_20210113/syr_admbnda_adm3_uncs_unocha_20201217.json')\n",
    "aoi = gpd.read_file('../../data/SYRTUR_tessellation.geojson')\n",
    "# affected_adm1 = list(syria_adm3[syria_adm3['adm1'].isin(aoi['ADM1_PCODE'].unique())]['adm1_en'].unique())\n",
    "affected_adm2 = list(syria_adm3[syria_adm3['ADM2_PCODE'].isin(aoi['ADM2_PCODE'].unique())]['ADM2_EN'].unique())\n",
    "affected_adm1 = list(syria_adm3[syria_adm3['ADM1_PCODE'].isin(aoi['ADM1_PCODE'].unique())]['ADM1_EN'].unique())"
   ]
  },
  {
   "cell_type": "code",
   "execution_count": 9,
   "metadata": {},
   "outputs": [],
   "source": [
    "syria_adm3 = syria_adm3.drop(columns= ['Shape_Leng', 'Shape_Area', 'ADM3_AR',\n",
    "       'ADM3_REF', 'ADM3ALT1EN', 'ADM3ALT2EN', 'ADM3ALT1AR', 'ADM3ALT2AR', 'ADM2_AR', 'ADM1_AR',\n",
    "       'ADM0_EN', 'ADM0_AR', 'ADM0_PCODE', 'date', 'validOn', 'validTo'])"
   ]
  },
  {
   "cell_type": "code",
   "execution_count": 10,
   "metadata": {
    "tags": [
     "remove-cell"
    ]
   },
   "outputs": [
    {
     "name": "stderr",
     "output_type": "stream",
     "text": [
      "c:\\Users\\sahit\\anaconda3\\envs\\turkey-rdna\\lib\\site-packages\\dask\\dataframe\\groupby.py:317: FutureWarning: The default value of numeric_only will be changed to False in the future when using dask with pandas 2.0\n",
      "  warnings.warn(\n"
     ]
    }
   ],
   "source": [
    "gddf = gddf.sjoin(syria_adm3)\n",
    "gddf = gddf.drop(['client_latitude', 'client_longitude'], axis=1)\n",
    "\n",
    "# add up all the test ids that were taken for that admin 2 level\n",
    "gddf = gddf.groupby(['ADM2_EN', 'ADM1_EN', 'date', 'ADM3_EN']).sum().reset_index()"
   ]
  },
  {
   "cell_type": "code",
   "execution_count": 40,
   "metadata": {
    "tags": [
     "remove-cell"
    ]
   },
   "outputs": [],
   "source": [
    "ooklaUsers = gddf.compute()\n",
    "ooklaUsers['date'] = pd.to_datetime(ooklaUsers['date'])"
   ]
  },
  {
   "cell_type": "code",
   "execution_count": 41,
   "metadata": {
    "tags": [
     "remove-cell"
    ]
   },
   "outputs": [],
   "source": [
    "ooklaUsers.rename(columns = {'test_id': 'n_users'}, inplace=True)\n",
    "ooklaUsers = ooklaUsers[['ADM1_EN', 'ADM2_EN','date', 'n_users']]"
   ]
  },
  {
   "cell_type": "code",
   "execution_count": 42,
   "metadata": {
    "tags": [
     "hide-cell",
     "remove-cell"
    ]
   },
   "outputs": [],
   "source": [
    "ooklaUsers['date'] = pd.to_datetime(ooklaUsers['date'])\n",
    "ooklaUsers = ooklaUsers.groupby(['ADM1_EN','ADM2_EN', 'date']).sum('n_users').reset_index()\n",
    "ooklaUsers = ooklaUsers[(ooklaUsers['date']>='2021-11-01')&(ooklaUsers['date']<'2023-05-31')]"
   ]
  },
  {
   "cell_type": "code",
   "execution_count": 116,
   "metadata": {},
   "outputs": [],
   "source": [
    "def get_baseline_by_admin(ooklaUsers, admin_aggregation='ADM2_EN',admin_columns=[\"ADM2_EN\", 'ADM1_EN'], date_start=\"2023-01-01\", date_end= \"2023-01-31\"):\n",
    "    baseline = ooklaUsers[ooklaUsers[\"date\"].between(date_start, date_end)]\n",
    "    #print(baseline.head())\n",
    "\n",
    "    scalers = {}\n",
    "\n",
    "    for adm in baseline[admin_aggregation].unique():\n",
    "        scaler = StandardScaler()\n",
    "        scaler.fit(baseline[baseline[admin_aggregation] == adm][[\"n_users\"]])\n",
    "\n",
    "        scalers[adm] = scaler\n",
    "\n",
    "    baseline = baseline.groupby(admin_columns).agg({\"n_users\": [\"mean\", \"std\"]})\n",
    "    baseline.columns = baseline.columns.map(\".\".join)\n",
    "\n",
    "    return baseline"
   ]
  },
  {
   "cell_type": "code",
   "execution_count": 117,
   "metadata": {
    "tags": [
     "remove-cell"
    ]
   },
   "outputs": [],
   "source": [
    "baseline_adm2 = get_baseline_by_admin(ooklaUsers)\n",
    "baseline_adm1 = get_baseline_by_admin(ooklaUsers, admin_aggregation = 'ADM1_EN', admin_columns = ['ADM1_EN'])"
   ]
  },
  {
   "cell_type": "code",
   "execution_count": 96,
   "metadata": {},
   "outputs": [],
   "source": [
    "def get_percent_change_users(ooklaUsers, baseline, admin_columns=['ADM2_EN', 'ADM1_EN']):\n",
    "\n",
    "    ooklaUsersChange = ooklaUsers.merge(baseline, on = admin_columns, how = 'left')\n",
    "    ooklaUsersChange['n_baseline'] = ooklaUsersChange['n_users.mean']\n",
    "    ooklaUsersChange[\"n_difference\"] = ooklaUsersChange[\"n_users\"] - ooklaUsersChange[\"n_baseline\"]\n",
    "    ooklaUsersChange[\"percent_change\"] = 100 * (ooklaUsersChange[\"n_users\"] / (ooklaUsersChange[\"n_baseline\"]) - 1)\n",
    "\n",
    "    return ooklaUsersChange"
   ]
  },
  {
   "cell_type": "code",
   "execution_count": 118,
   "metadata": {},
   "outputs": [],
   "source": [
    "ooklaUsersChangeAdm2 = get_percent_change_users(ooklaUsers, baseline_adm2)\n",
    "ooklaUsersChangeAdm1 = get_percent_change_users(ooklaUsers, baseline_adm1, admin_columns = ['ADM1_EN'])"
   ]
  },
  {
   "cell_type": "code",
   "execution_count": 57,
   "metadata": {
    "tags": [
     "remove-cell"
    ]
   },
   "outputs": [],
   "source": [
    "for adm2, scaler in scalers.items():\n",
    "    try:\n",
    "        predicate = ooklaUsersChange[\"ADM2_EN\"] == adm2\n",
    "        activity = scaler.transform(ooklaUsersChange[predicate][[\"n_users\"]])\n",
    "        ooklaUsersChange.loc[predicate, \"z_score\"] = activity\n",
    "    except:\n",
    "        pass"
   ]
  },
  {
   "cell_type": "code",
   "execution_count": 119,
   "metadata": {
    "tags": [
     "hide-cell",
     "remove-cell"
    ]
   },
   "outputs": [],
   "source": [
    "#week['week_date'] = df['date'] - pd.to_timedelta(7, unit='d')\n",
    "\n",
    "# #calculate sum of values, grouped by week\n",
    "week_adm2 = ooklaUsersChangeAdm2.groupby([pd.Grouper(key='date', freq='W-MON'), 'ADM1_EN', 'ADM2_EN']).mean().reset_index()\n",
    "week_adm1 = ooklaUsersChangeAdm1.groupby([pd.Grouper(key='date', freq='W-MON'), 'ADM1_EN']).mean().reset_index()\n",
    "\n",
    "#week['user_count'] = week['user_count'].apply(lambda x: round(x,0))"
   ]
  },
  {
   "cell_type": "code",
   "execution_count": 67,
   "metadata": {
    "tags": [
     "remove-cell"
    ]
   },
   "outputs": [],
   "source": [
    "bokeh.core.validation.silence(EMPTY_LAYOUT, True)\n",
    "\n",
    "def get_line_plot(ooklaUsers,title, source, earthquakes=False, subtitle=None, measure = 'percent_change', aggregation = 'ADM2_EN'):\n",
    "\n",
    "    p2 = figure(x_axis_type = 'datetime', width = 800, height = 400, toolbar_location='above')\n",
    "    p2.add_layout(Legend(), \"right\")\n",
    "\n",
    "    for id, adm2 in enumerate(ooklaUsers[aggregation].unique()):\n",
    "        df = ooklaUsers[ooklaUsers[aggregation]==adm2][['date', measure]].reset_index(drop=True)\n",
    "        p2.line(df['date'], df[measure], line_width=2, line_color = color_palette[id], legend_label=adm2)\n",
    "\n",
    "    p2.legend.click_policy='hide'\n",
    "    if subtitle is not None:\n",
    "        p2.title = subtitle\n",
    "\n",
    "\n",
    "    title_fig = figure(title=title, toolbar_location=None,width=800, height=40, )\n",
    "    title_fig.title.align = \"left\"\n",
    "    title_fig.title.text_font_size = \"20pt\"\n",
    "    title_fig.border_fill_alpha = 0\n",
    "    title_fig.outline_line_width=0\n",
    "\n",
    "    #with silence(MISSING_RENDERERS):\n",
    "    sub_title = figure(title=source, toolbar_location=None,width=800, height=40, )\n",
    "    sub_title.title.align = \"left\"\n",
    "    sub_title.title.text_font_size = \"10pt\"\n",
    "    sub_title.title.text_font_style=\"normal\"\n",
    "    sub_title.border_fill_alpha = 0\n",
    "    sub_title.outline_line_width=0\n",
    "\n",
    "    layout = column(title_fig, p2, sub_title)\n",
    "\n",
    "    if earthquakes:\n",
    "        p2.renderers.extend([\n",
    "        Span(\n",
    "            location=datetime(2023, 2, 6),\n",
    "            dimension=\"height\",\n",
    "            line_color='#7C7C7C',\n",
    "            line_width=2,\n",
    "            line_dash=(4,4)\n",
    "      ),\n",
    "        Span(\n",
    "            location=datetime(2023, 2, 20),\n",
    "            dimension=\"height\",\n",
    "            line_color='#7C7C7C',\n",
    "            line_width=2,\n",
    "            line_dash=(4,4)\n",
    "        ),\n",
    "    ]\n",
    ")\n",
    "\n",
    "    return layout"
   ]
  },
  {
   "cell_type": "code",
   "execution_count": 113,
   "metadata": {},
   "outputs": [
    {
     "data": {
      "text/plain": [
       "['Aleppo', 'Idleb', 'Lattakia', 'Homs', 'Ar-Raqqa', 'Tartous', 'Hama']"
      ]
     },
     "execution_count": 113,
     "metadata": {},
     "output_type": "execute_result"
    }
   ],
   "source": [
    "affected_adm1"
   ]
  },
  {
   "cell_type": "code",
   "execution_count": 120,
   "metadata": {
    "tags": [
     "hide-input"
    ]
   },
   "outputs": [
    {
     "data": {
      "text/html": [
       "<style>\n",
       "        .bk-notebook-logo {\n",
       "            display: block;\n",
       "            width: 20px;\n",
       "            height: 20px;\n",
       "            background-image: url(data:image/png;base64,iVBORw0KGgoAAAANSUhEUgAAABQAAAAUCAYAAACNiR0NAAAABHNCSVQICAgIfAhkiAAAAAlwSFlzAAALEgAACxIB0t1+/AAAABx0RVh0U29mdHdhcmUAQWRvYmUgRmlyZXdvcmtzIENTNui8sowAAAOkSURBVDiNjZRtaJVlGMd/1/08zzln5zjP1LWcU9N0NkN8m2CYjpgQYQXqSs0I84OLIC0hkEKoPtiH3gmKoiJDU7QpLgoLjLIQCpEsNJ1vqUOdO7ppbuec5+V+rj4ctwzd8IIbbi6u+8f1539dt3A78eXC7QizUF7gyV1fD1Yqg4JWz84yffhm0qkFqBogB9rM8tZdtwVsPUhWhGcFJngGeWrPzHm5oaMmkfEg1usvLFyc8jLRqDOMru7AyC8saQr7GG7f5fvDeH7Ej8CM66nIF+8yngt6HWaKh7k49Soy9nXurCi1o3qUbS3zWfrYeQDTB/Qj6kX6Ybhw4B+bOYoLKCC9H3Nu/leUTZ1JdRWkkn2ldcCamzrcf47KKXdAJllSlxAOkRgyHsGC/zRday5Qld9DyoM4/q/rUoy/CXh3jzOu3bHUVZeU+DEn8FInkPBFlu3+nW3Nw0mk6vCDiWg8CeJaxEwuHS3+z5RgY+YBR6V1Z1nxSOfoaPa4LASWxxdNp+VWTk7+4vzaou8v8PN+xo+KY2xsw6une2frhw05CTYOmQvsEhjhWjn0bmXPjpE1+kplmmkP3suftwTubK9Vq22qKmrBhpY4jvd5afdRA3wGjFAgcnTK2s4hY0/GPNIb0nErGMCRxWOOX64Z8RAC4oCXdklmEvcL8o0BfkNK4lUg9HTl+oPlQxdNo3Mg4Nv175e/1LDGzZen30MEjRUtmXSfiTVu1kK8W4txyV6BMKlbgk3lMwYCiusNy9fVfvvwMxv8Ynl6vxoByANLTWplvuj/nF9m2+PDtt1eiHPBr1oIfhCChQMBw6Aw0UulqTKZdfVvfG7VcfIqLG9bcldL/+pdWTLxLUy8Qq38heUIjh4XlzZxzQm19lLFlr8vdQ97rjZVOLf8nclzckbcD4wxXMidpX30sFd37Fv/GtwwhzhxGVAprjbg0gCAEeIgwCZyTV2Z1REEW8O4py0wsjeloKoMr6iCY6dP92H6Vw/oTyICIthibxjm/DfN9lVz8IqtqKYLUXfoKVMVQVVJOElGjrnnUt9T9wbgp8AyYKaGlqingHZU/uG2NTZSVqwHQTWkx9hxjkpWDaCg6Ckj5qebgBVbT3V3NNXMSiWSDdGV3hrtzla7J+duwPOToIg42ChPQOQjspnSlp1V+Gjdged7+8UN5CRAV7a5EdFNwCjEaBR27b3W890TE7g24NAP/mMDXRWrGoFPQI9ls/MWO2dWFAar/xcOIImbbpA3zgAAAABJRU5ErkJggg==);\n",
       "        }\n",
       "    </style>\n",
       "    <div>\n",
       "        <a href=\"https://bokeh.org\" target=\"_blank\" class=\"bk-notebook-logo\"></a>\n",
       "        <span id=\"p284007\">Loading BokehJS ...</span>\n",
       "    </div>\n"
      ]
     },
     "metadata": {},
     "output_type": "display_data"
    },
    {
     "data": {
      "application/javascript": "(function(root) {\n  function now() {\n    return new Date();\n  }\n\n  const force = true;\n\n  if (typeof root._bokeh_onload_callbacks === \"undefined\" || force === true) {\n    root._bokeh_onload_callbacks = [];\n    root._bokeh_is_loading = undefined;\n  }\n\nconst JS_MIME_TYPE = 'application/javascript';\n  const HTML_MIME_TYPE = 'text/html';\n  const EXEC_MIME_TYPE = 'application/vnd.bokehjs_exec.v0+json';\n  const CLASS_NAME = 'output_bokeh rendered_html';\n\n  /**\n   * Render data to the DOM node\n   */\n  function render(props, node) {\n    const script = document.createElement(\"script\");\n    node.appendChild(script);\n  }\n\n  /**\n   * Handle when an output is cleared or removed\n   */\n  function handleClearOutput(event, handle) {\n    const cell = handle.cell;\n\n    const id = cell.output_area._bokeh_element_id;\n    const server_id = cell.output_area._bokeh_server_id;\n    // Clean up Bokeh references\n    if (id != null && id in Bokeh.index) {\n      Bokeh.index[id].model.document.clear();\n      delete Bokeh.index[id];\n    }\n\n    if (server_id !== undefined) {\n      // Clean up Bokeh references\n      const cmd_clean = \"from bokeh.io.state import curstate; print(curstate().uuid_to_server['\" + server_id + \"'].get_sessions()[0].document.roots[0]._id)\";\n      cell.notebook.kernel.execute(cmd_clean, {\n        iopub: {\n          output: function(msg) {\n            const id = msg.content.text.trim();\n            if (id in Bokeh.index) {\n              Bokeh.index[id].model.document.clear();\n              delete Bokeh.index[id];\n            }\n          }\n        }\n      });\n      // Destroy server and session\n      const cmd_destroy = \"import bokeh.io.notebook as ion; ion.destroy_server('\" + server_id + \"')\";\n      cell.notebook.kernel.execute(cmd_destroy);\n    }\n  }\n\n  /**\n   * Handle when a new output is added\n   */\n  function handleAddOutput(event, handle) {\n    const output_area = handle.output_area;\n    const output = handle.output;\n\n    // limit handleAddOutput to display_data with EXEC_MIME_TYPE content only\n    if ((output.output_type != \"display_data\") || (!Object.prototype.hasOwnProperty.call(output.data, EXEC_MIME_TYPE))) {\n      return\n    }\n\n    const toinsert = output_area.element.find(\".\" + CLASS_NAME.split(' ')[0]);\n\n    if (output.metadata[EXEC_MIME_TYPE][\"id\"] !== undefined) {\n      toinsert[toinsert.length - 1].firstChild.textContent = output.data[JS_MIME_TYPE];\n      // store reference to embed id on output_area\n      output_area._bokeh_element_id = output.metadata[EXEC_MIME_TYPE][\"id\"];\n    }\n    if (output.metadata[EXEC_MIME_TYPE][\"server_id\"] !== undefined) {\n      const bk_div = document.createElement(\"div\");\n      bk_div.innerHTML = output.data[HTML_MIME_TYPE];\n      const script_attrs = bk_div.children[0].attributes;\n      for (let i = 0; i < script_attrs.length; i++) {\n        toinsert[toinsert.length - 1].firstChild.setAttribute(script_attrs[i].name, script_attrs[i].value);\n        toinsert[toinsert.length - 1].firstChild.textContent = bk_div.children[0].textContent\n      }\n      // store reference to server id on output_area\n      output_area._bokeh_server_id = output.metadata[EXEC_MIME_TYPE][\"server_id\"];\n    }\n  }\n\n  function register_renderer(events, OutputArea) {\n\n    function append_mime(data, metadata, element) {\n      // create a DOM node to render to\n      const toinsert = this.create_output_subarea(\n        metadata,\n        CLASS_NAME,\n        EXEC_MIME_TYPE\n      );\n      this.keyboard_manager.register_events(toinsert);\n      // Render to node\n      const props = {data: data, metadata: metadata[EXEC_MIME_TYPE]};\n      render(props, toinsert[toinsert.length - 1]);\n      element.append(toinsert);\n      return toinsert\n    }\n\n    /* Handle when an output is cleared or removed */\n    events.on('clear_output.CodeCell', handleClearOutput);\n    events.on('delete.Cell', handleClearOutput);\n\n    /* Handle when a new output is added */\n    events.on('output_added.OutputArea', handleAddOutput);\n\n    /**\n     * Register the mime type and append_mime function with output_area\n     */\n    OutputArea.prototype.register_mime_type(EXEC_MIME_TYPE, append_mime, {\n      /* Is output safe? */\n      safe: true,\n      /* Index of renderer in `output_area.display_order` */\n      index: 0\n    });\n  }\n\n  // register the mime type if in Jupyter Notebook environment and previously unregistered\n  if (root.Jupyter !== undefined) {\n    const events = require('base/js/events');\n    const OutputArea = require('notebook/js/outputarea').OutputArea;\n\n    if (OutputArea.prototype.mime_types().indexOf(EXEC_MIME_TYPE) == -1) {\n      register_renderer(events, OutputArea);\n    }\n  }\n  if (typeof (root._bokeh_timeout) === \"undefined\" || force === true) {\n    root._bokeh_timeout = Date.now() + 5000;\n    root._bokeh_failed_load = false;\n  }\n\n  const NB_LOAD_WARNING = {'data': {'text/html':\n     \"<div style='background-color: #fdd'>\\n\"+\n     \"<p>\\n\"+\n     \"BokehJS does not appear to have successfully loaded. If loading BokehJS from CDN, this \\n\"+\n     \"may be due to a slow or bad network connection. Possible fixes:\\n\"+\n     \"</p>\\n\"+\n     \"<ul>\\n\"+\n     \"<li>re-rerun `output_notebook()` to attempt to load from CDN again, or</li>\\n\"+\n     \"<li>use INLINE resources instead, as so:</li>\\n\"+\n     \"</ul>\\n\"+\n     \"<code>\\n\"+\n     \"from bokeh.resources import INLINE\\n\"+\n     \"output_notebook(resources=INLINE)\\n\"+\n     \"</code>\\n\"+\n     \"</div>\"}};\n\n  function display_loaded() {\n    const el = document.getElementById(\"p284007\");\n    if (el != null) {\n      el.textContent = \"BokehJS is loading...\";\n    }\n    if (root.Bokeh !== undefined) {\n      if (el != null) {\n        el.textContent = \"BokehJS \" + root.Bokeh.version + \" successfully loaded.\";\n      }\n    } else if (Date.now() < root._bokeh_timeout) {\n      setTimeout(display_loaded, 100)\n    }\n  }\n\n  function run_callbacks() {\n    try {\n      root._bokeh_onload_callbacks.forEach(function(callback) {\n        if (callback != null)\n          callback();\n      });\n    } finally {\n      delete root._bokeh_onload_callbacks\n    }\n    console.debug(\"Bokeh: all callbacks have finished\");\n  }\n\n  function load_libs(css_urls, js_urls, callback) {\n    if (css_urls == null) css_urls = [];\n    if (js_urls == null) js_urls = [];\n\n    root._bokeh_onload_callbacks.push(callback);\n    if (root._bokeh_is_loading > 0) {\n      console.debug(\"Bokeh: BokehJS is being loaded, scheduling callback at\", now());\n      return null;\n    }\n    if (js_urls == null || js_urls.length === 0) {\n      run_callbacks();\n      return null;\n    }\n    console.debug(\"Bokeh: BokehJS not loaded, scheduling load and callback at\", now());\n    root._bokeh_is_loading = css_urls.length + js_urls.length;\n\n    function on_load() {\n      root._bokeh_is_loading--;\n      if (root._bokeh_is_loading === 0) {\n        console.debug(\"Bokeh: all BokehJS libraries/stylesheets loaded\");\n        run_callbacks()\n      }\n    }\n\n    function on_error(url) {\n      console.error(\"failed to load \" + url);\n    }\n\n    for (let i = 0; i < css_urls.length; i++) {\n      const url = css_urls[i];\n      const element = document.createElement(\"link\");\n      element.onload = on_load;\n      element.onerror = on_error.bind(null, url);\n      element.rel = \"stylesheet\";\n      element.type = \"text/css\";\n      element.href = url;\n      console.debug(\"Bokeh: injecting link tag for BokehJS stylesheet: \", url);\n      document.body.appendChild(element);\n    }\n\n    for (let i = 0; i < js_urls.length; i++) {\n      const url = js_urls[i];\n      const element = document.createElement('script');\n      element.onload = on_load;\n      element.onerror = on_error.bind(null, url);\n      element.async = false;\n      element.src = url;\n      console.debug(\"Bokeh: injecting script tag for BokehJS library: \", url);\n      document.head.appendChild(element);\n    }\n  };\n\n  function inject_raw_css(css) {\n    const element = document.createElement(\"style\");\n    element.appendChild(document.createTextNode(css));\n    document.body.appendChild(element);\n  }\n\n  const js_urls = [\"https://cdn.bokeh.org/bokeh/release/bokeh-3.1.0.min.js\", \"https://cdn.bokeh.org/bokeh/release/bokeh-gl-3.1.0.min.js\", \"https://cdn.bokeh.org/bokeh/release/bokeh-widgets-3.1.0.min.js\", \"https://cdn.bokeh.org/bokeh/release/bokeh-tables-3.1.0.min.js\", \"https://cdn.bokeh.org/bokeh/release/bokeh-mathjax-3.1.0.min.js\"];\n  const css_urls = [];\n\n  const inline_js = [    function(Bokeh) {\n      Bokeh.set_log_level(\"info\");\n    },\nfunction(Bokeh) {\n    }\n  ];\n\n  function run_inline_js() {\n    if (root.Bokeh !== undefined || force === true) {\n          for (let i = 0; i < inline_js.length; i++) {\n      inline_js[i].call(root, root.Bokeh);\n    }\nif (force === true) {\n        display_loaded();\n      }} else if (Date.now() < root._bokeh_timeout) {\n      setTimeout(run_inline_js, 100);\n    } else if (!root._bokeh_failed_load) {\n      console.log(\"Bokeh: BokehJS failed to load within specified timeout.\");\n      root._bokeh_failed_load = true;\n    } else if (force !== true) {\n      const cell = $(document.getElementById(\"p284007\")).parents('.cell').data().cell;\n      cell.output_area.append_execute_result(NB_LOAD_WARNING)\n    }\n  }\n\n  if (root._bokeh_is_loading === 0) {\n    console.debug(\"Bokeh: BokehJS loaded, going straight to plotting\");\n    run_inline_js();\n  } else {\n    load_libs(css_urls, js_urls, function() {\n      console.debug(\"Bokeh: BokehJS plotting callback run at\", now());\n      run_inline_js();\n    });\n  }\n}(window));",
      "application/vnd.bokehjs_load.v0+json": ""
     },
     "metadata": {},
     "output_type": "display_data"
    },
    {
     "data": {
      "text/html": [
       "\n",
       "  <div id=\"5e42a887-6ce8-4952-92ed-894db60a8e9b\" data-root-id=\"p284231\" style=\"display: contents;\"></div>\n"
      ]
     },
     "metadata": {},
     "output_type": "display_data"
    },
    {
     "data": {
      "application/javascript": "(function(root) {\n  function embed_document(root) {\n  const docs_json = {\"12f4caeb-2d69-4994-900c-162a1478c6c7\":{\"version\":\"3.1.0\",\"title\":\"Bokeh Application\",\"defs\":[],\"roots\":[{\"type\":\"object\",\"name\":\"Tabs\",\"id\":\"p284231\",\"attributes\":{\"sizing_mode\":\"scale_both\",\"tabs\":[{\"type\":\"object\",\"name\":\"TabPanel\",\"id\":\"p284230\",\"attributes\":{\"child\":{\"type\":\"object\",\"name\":\"Column\",\"id\":\"p284227\",\"attributes\":{\"children\":[{\"type\":\"object\",\"name\":\"Figure\",\"id\":\"p284133\",\"attributes\":{\"width\":800,\"height\":40,\"x_range\":{\"type\":\"object\",\"name\":\"DataRange1d\",\"id\":\"p284135\"},\"y_range\":{\"type\":\"object\",\"name\":\"DataRange1d\",\"id\":\"p284134\"},\"x_scale\":{\"type\":\"object\",\"name\":\"LinearScale\",\"id\":\"p284147\"},\"y_scale\":{\"type\":\"object\",\"name\":\"LinearScale\",\"id\":\"p284149\"},\"title\":{\"type\":\"object\",\"name\":\"Title\",\"id\":\"p284136\",\"attributes\":{\"text\":\"Weekly average users taking speedtest\",\"text_font_size\":\"20pt\"}},\"outline_line_width\":0,\"toolbar\":{\"type\":\"object\",\"name\":\"Toolbar\",\"id\":\"p284138\",\"attributes\":{\"tools\":[{\"type\":\"object\",\"name\":\"PanTool\",\"id\":\"p284165\"},{\"type\":\"object\",\"name\":\"WheelZoomTool\",\"id\":\"p284166\"},{\"type\":\"object\",\"name\":\"BoxZoomTool\",\"id\":\"p284167\",\"attributes\":{\"overlay\":{\"type\":\"object\",\"name\":\"BoxAnnotation\",\"id\":\"p284168\",\"attributes\":{\"syncable\":false,\"level\":\"overlay\",\"visible\":false,\"left_units\":\"canvas\",\"right_units\":\"canvas\",\"bottom_units\":\"canvas\",\"top_units\":\"canvas\",\"line_color\":\"black\",\"line_alpha\":1.0,\"line_width\":2,\"line_dash\":[4,4],\"fill_color\":\"lightgrey\",\"fill_alpha\":0.5}}}},{\"type\":\"object\",\"name\":\"SaveTool\",\"id\":\"p284169\"},{\"type\":\"object\",\"name\":\"ResetTool\",\"id\":\"p284170\"},{\"type\":\"object\",\"name\":\"HelpTool\",\"id\":\"p284171\"}]}},\"toolbar_location\":null,\"left\":[{\"type\":\"object\",\"name\":\"LinearAxis\",\"id\":\"p284158\",\"attributes\":{\"ticker\":{\"type\":\"object\",\"name\":\"BasicTicker\",\"id\":\"p284160\",\"attributes\":{\"mantissas\":[1,2,5]}},\"formatter\":{\"type\":\"object\",\"name\":\"BasicTickFormatter\",\"id\":\"p284159\"},\"major_label_policy\":{\"type\":\"object\",\"name\":\"AllLabels\",\"id\":\"p284161\"}}}],\"below\":[{\"type\":\"object\",\"name\":\"LinearAxis\",\"id\":\"p284151\",\"attributes\":{\"ticker\":{\"type\":\"object\",\"name\":\"BasicTicker\",\"id\":\"p284153\",\"attributes\":{\"mantissas\":[1,2,5]}},\"formatter\":{\"type\":\"object\",\"name\":\"BasicTickFormatter\",\"id\":\"p284152\"},\"major_label_policy\":{\"type\":\"object\",\"name\":\"AllLabels\",\"id\":\"p284154\"}}}],\"center\":[{\"type\":\"object\",\"name\":\"Grid\",\"id\":\"p284157\",\"attributes\":{\"axis\":{\"id\":\"p284151\"}}},{\"type\":\"object\",\"name\":\"Grid\",\"id\":\"p284164\",\"attributes\":{\"dimension\":1,\"axis\":{\"id\":\"p284158\"}}}],\"border_fill_alpha\":0}},{\"type\":\"object\",\"name\":\"Figure\",\"id\":\"p284008\",\"attributes\":{\"width\":800,\"height\":400,\"x_range\":{\"type\":\"object\",\"name\":\"DataRange1d\",\"id\":\"p284010\"},\"y_range\":{\"type\":\"object\",\"name\":\"DataRange1d\",\"id\":\"p284009\"},\"x_scale\":{\"type\":\"object\",\"name\":\"LinearScale\",\"id\":\"p284021\"},\"y_scale\":{\"type\":\"object\",\"name\":\"LinearScale\",\"id\":\"p284023\"},\"title\":{\"type\":\"object\",\"name\":\"Title\",\"id\":\"p284131\",\"attributes\":{\"text\":\"% change compared to a baseline users from January 2023\"}},\"renderers\":[{\"type\":\"object\",\"name\":\"GlyphRenderer\",\"id\":\"p284097\",\"attributes\":{\"data_source\":{\"type\":\"object\",\"name\":\"ColumnDataSource\",\"id\":\"p284091\",\"attributes\":{\"selected\":{\"type\":\"object\",\"name\":\"Selection\",\"id\":\"p284093\",\"attributes\":{\"indices\":[],\"line_indices\":[]}},\"selection_policy\":{\"type\":\"object\",\"name\":\"UnionRenderers\",\"id\":\"p284092\"},\"data\":{\"type\":\"map\",\"entries\":[[\"x\",{\"type\":\"ndarray\",\"array\":{\"type\":\"bytes\",\"data\":\"AADAAn5beEIAAADLvl14QgAAQJP/X3hCAACAW0BieEIAAMAjgWR4QgAAAOzBZnhCAABAtAJpeEIAAIB8Q2t4QgAAwESEbXhCAAAADcVveEIAAEDVBXJ4QgAAgJ1GdHhCAADAZYd2eEIAAAAuyHh4QgAAQPYIe3hCAACAvkl9eEIAAMCGin94QgAAAE/LgXhCAABAFwyEeEIAAIDfTIZ4Qg==\"},\"shape\":[20],\"dtype\":\"float64\",\"order\":\"little\"}],[\"y\",{\"type\":\"ndarray\",\"array\":{\"type\":\"bytes\",\"data\":\"9CZln+8vFMASkeBzLIEUwLaFkNorwxDA5Qyis/nPGUD6vc9BUno0wOoMhwJRazPA08tobseREcCOolOisy8UwNmXXfwzbh3ALasXAwX2DsDo1DDcfwk1wDI+olqdcCbAAoKcKy9ULcBbfIKGerQzwHwDi2q1Vz3A7olfsZZgGcCuEfYDQD3UP1zhfHlISBDAstAf7CN1D0BvyffR/+AqwA==\"},\"shape\":[20],\"dtype\":\"float64\",\"order\":\"little\"}]]}}},\"view\":{\"type\":\"object\",\"name\":\"CDSView\",\"id\":\"p284098\",\"attributes\":{\"filter\":{\"type\":\"object\",\"name\":\"AllIndices\",\"id\":\"p284099\"}}},\"glyph\":{\"type\":\"object\",\"name\":\"Line\",\"id\":\"p284094\",\"attributes\":{\"x\":{\"type\":\"field\",\"field\":\"x\"},\"y\":{\"type\":\"field\",\"field\":\"y\"},\"line_color\":\"#4E79A7\",\"line_width\":2}},\"nonselection_glyph\":{\"type\":\"object\",\"name\":\"Line\",\"id\":\"p284095\",\"attributes\":{\"x\":{\"type\":\"field\",\"field\":\"x\"},\"y\":{\"type\":\"field\",\"field\":\"y\"},\"line_color\":\"#4E79A7\",\"line_alpha\":0.1,\"line_width\":2}},\"muted_glyph\":{\"type\":\"object\",\"name\":\"Line\",\"id\":\"p284096\",\"attributes\":{\"x\":{\"type\":\"field\",\"field\":\"x\"},\"y\":{\"type\":\"field\",\"field\":\"y\"},\"line_color\":\"#4E79A7\",\"line_alpha\":0.2,\"line_width\":2}}}},{\"type\":\"object\",\"name\":\"GlyphRenderer\",\"id\":\"p284107\",\"attributes\":{\"data_source\":{\"type\":\"object\",\"name\":\"ColumnDataSource\",\"id\":\"p284101\",\"attributes\":{\"selected\":{\"type\":\"object\",\"name\":\"Selection\",\"id\":\"p284103\",\"attributes\":{\"indices\":[],\"line_indices\":[]}},\"selection_policy\":{\"type\":\"object\",\"name\":\"UnionRenderers\",\"id\":\"p284102\"},\"data\":{\"type\":\"map\",\"entries\":[[\"x\",{\"type\":\"ndarray\",\"array\":{\"type\":\"bytes\",\"data\":\"AADAAn5beEIAAADLvl14QgAAQJP/X3hCAACAW0BieEIAAMAjgWR4QgAAAOzBZnhCAABAtAJpeEIAAIB8Q2t4QgAAwESEbXhCAAAADcVveEIAAEDVBXJ4QgAAgJ1GdHhCAADAZYd2eEIAAAAuyHh4QgAAQPYIe3hCAACAvkl9eEIAAMCGin94QgAAAE/LgXhCAABAFwyEeEIAAIDfTIZ4Qg==\"},\"shape\":[20],\"dtype\":\"float64\",\"order\":\"little\"}],[\"y\",{\"type\":\"ndarray\",\"array\":{\"type\":\"bytes\",\"data\":\"/HDoWYP6F8DZ9o0sz7X5v4oXLynFpP+/DUMFUcoVIkA3atx7cvccwNdERUSbiiZAadn3idRdJUCroRUm+8Q9QMIINVhYhEVA4Yj76bSRSEC9ZsUxAz86QHF0Khw8sjtAV8cNGE7fMEAdU/wmBXI6QC38+jmIajZAvZ/CEy/SQEBPYquPvkhNQCP7vM2o/VBAPhATGd5WQUBrPdTBuWA8QA==\"},\"shape\":[20],\"dtype\":\"float64\",\"order\":\"little\"}]]}}},\"view\":{\"type\":\"object\",\"name\":\"CDSView\",\"id\":\"p284108\",\"attributes\":{\"filter\":{\"type\":\"object\",\"name\":\"AllIndices\",\"id\":\"p284109\"}}},\"glyph\":{\"type\":\"object\",\"name\":\"Line\",\"id\":\"p284104\",\"attributes\":{\"x\":{\"type\":\"field\",\"field\":\"x\"},\"y\":{\"type\":\"field\",\"field\":\"y\"},\"line_color\":\"#F28E2B\",\"line_width\":2}},\"nonselection_glyph\":{\"type\":\"object\",\"name\":\"Line\",\"id\":\"p284105\",\"attributes\":{\"x\":{\"type\":\"field\",\"field\":\"x\"},\"y\":{\"type\":\"field\",\"field\":\"y\"},\"line_color\":\"#F28E2B\",\"line_alpha\":0.1,\"line_width\":2}},\"muted_glyph\":{\"type\":\"object\",\"name\":\"Line\",\"id\":\"p284106\",\"attributes\":{\"x\":{\"type\":\"field\",\"field\":\"x\"},\"y\":{\"type\":\"field\",\"field\":\"y\"},\"line_color\":\"#F28E2B\",\"line_alpha\":0.2,\"line_width\":2}}}},{\"type\":\"object\",\"name\":\"GlyphRenderer\",\"id\":\"p284117\",\"attributes\":{\"data_source\":{\"type\":\"object\",\"name\":\"ColumnDataSource\",\"id\":\"p284111\",\"attributes\":{\"selected\":{\"type\":\"object\",\"name\":\"Selection\",\"id\":\"p284113\",\"attributes\":{\"indices\":[],\"line_indices\":[]}},\"selection_policy\":{\"type\":\"object\",\"name\":\"UnionRenderers\",\"id\":\"p284112\"},\"data\":{\"type\":\"map\",\"entries\":[[\"x\",{\"type\":\"ndarray\",\"array\":{\"type\":\"bytes\",\"data\":\"AADAAn5beEIAAADLvl14QgAAQJP/X3hCAACAW0BieEIAAMAjgWR4QgAAAOzBZnhCAABAtAJpeEIAAIB8Q2t4QgAAwESEbXhCAAAADcVveEIAAEDVBXJ4QgAAgJ1GdHhCAADAZYd2eEIAAAAuyHh4QgAAQPYIe3hCAACAvkl9eEIAAMCGin94QgAAAE/LgXhCAABAFwyEeEIAAIDfTIZ4Qg==\"},\"shape\":[20],\"dtype\":\"float64\",\"order\":\"little\"}],[\"y\",{\"type\":\"ndarray\",\"array\":{\"type\":\"bytes\",\"data\":\"zYe2YHL1/j/Q5QjiEkj4v7z+DcD1EwlA65Hmi0r7EsBXinxvTB8YwJ6OUXj/vd2/aXRpIyUUGEAG8fzO3qEzQH1LHn/0KjVAdVnFrq6LPECbLA+vW3p7vwy2eyPWkTtAtHnUx/BZMUDENQ4kLPn/v3UsxNMTBCjA6L1R8jtZNkCifuCpq90xQCuOfGGHvB1AodCVjCMNO0DkNcwYKDgJQA==\"},\"shape\":[20],\"dtype\":\"float64\",\"order\":\"little\"}]]}}},\"view\":{\"type\":\"object\",\"name\":\"CDSView\",\"id\":\"p284118\",\"attributes\":{\"filter\":{\"type\":\"object\",\"name\":\"AllIndices\",\"id\":\"p284119\"}}},\"glyph\":{\"type\":\"object\",\"name\":\"Line\",\"id\":\"p284114\",\"attributes\":{\"x\":{\"type\":\"field\",\"field\":\"x\"},\"y\":{\"type\":\"field\",\"field\":\"y\"},\"line_color\":\"#E15759\",\"line_width\":2}},\"nonselection_glyph\":{\"type\":\"object\",\"name\":\"Line\",\"id\":\"p284115\",\"attributes\":{\"x\":{\"type\":\"field\",\"field\":\"x\"},\"y\":{\"type\":\"field\",\"field\":\"y\"},\"line_color\":\"#E15759\",\"line_alpha\":0.1,\"line_width\":2}},\"muted_glyph\":{\"type\":\"object\",\"name\":\"Line\",\"id\":\"p284116\",\"attributes\":{\"x\":{\"type\":\"field\",\"field\":\"x\"},\"y\":{\"type\":\"field\",\"field\":\"y\"},\"line_color\":\"#E15759\",\"line_alpha\":0.2,\"line_width\":2}}}},{\"type\":\"object\",\"name\":\"GlyphRenderer\",\"id\":\"p284127\",\"attributes\":{\"data_source\":{\"type\":\"object\",\"name\":\"ColumnDataSource\",\"id\":\"p284121\",\"attributes\":{\"selected\":{\"type\":\"object\",\"name\":\"Selection\",\"id\":\"p284123\",\"attributes\":{\"indices\":[],\"line_indices\":[]}},\"selection_policy\":{\"type\":\"object\",\"name\":\"UnionRenderers\",\"id\":\"p284122\"},\"data\":{\"type\":\"map\",\"entries\":[[\"x\",{\"type\":\"ndarray\",\"array\":{\"type\":\"bytes\",\"data\":\"AADAAn5beEIAAADLvl14QgAAQJP/X3hCAACAW0BieEIAAMAjgWR4QgAAAOzBZnhCAABAtAJpeEIAAIB8Q2t4QgAAwESEbXhCAAAADcVveEIAAEDVBXJ4QgAAgJ1GdHhCAADAZYd2eEIAAAAuyHh4QgAAQPYIe3hCAACAvkl9eEIAAMCGin94QgAAAE/LgXhCAABAFwyEeEIAAIDfTIZ4Qg==\"},\"shape\":[20],\"dtype\":\"float64\",\"order\":\"little\"}],[\"y\",{\"type\":\"ndarray\",\"array\":{\"type\":\"bytes\",\"data\":\"61ZKojoQJUAvbhDIOIYfQDs9U7nueAXAsmbi4gaBLEDKUnNG7vJFwJEB9UzlOjnAavEco2VvSsCaynXHi21HwBb9OLp6yUbAojoQORvsQMA7OxjEfn9CwISHlIKSR0DAo0KbnG5nPcADU5aaM3I6wAORs8FeE0HA8JBSUPKoQcD9FWY1ijg8wNDg/lBbpULAq90Ut5CvPsCX4Nv8FWZEwA==\"},\"shape\":[20],\"dtype\":\"float64\",\"order\":\"little\"}]]}}},\"view\":{\"type\":\"object\",\"name\":\"CDSView\",\"id\":\"p284128\",\"attributes\":{\"filter\":{\"type\":\"object\",\"name\":\"AllIndices\",\"id\":\"p284129\"}}},\"glyph\":{\"type\":\"object\",\"name\":\"Line\",\"id\":\"p284124\",\"attributes\":{\"x\":{\"type\":\"field\",\"field\":\"x\"},\"y\":{\"type\":\"field\",\"field\":\"y\"},\"line_color\":\"#76B7B2\",\"line_width\":2}},\"nonselection_glyph\":{\"type\":\"object\",\"name\":\"Line\",\"id\":\"p284125\",\"attributes\":{\"x\":{\"type\":\"field\",\"field\":\"x\"},\"y\":{\"type\":\"field\",\"field\":\"y\"},\"line_color\":\"#76B7B2\",\"line_alpha\":0.1,\"line_width\":2}},\"muted_glyph\":{\"type\":\"object\",\"name\":\"Line\",\"id\":\"p284126\",\"attributes\":{\"x\":{\"type\":\"field\",\"field\":\"x\"},\"y\":{\"type\":\"field\",\"field\":\"y\"},\"line_color\":\"#76B7B2\",\"line_alpha\":0.2,\"line_width\":2}}}},{\"type\":\"object\",\"name\":\"Span\",\"id\":\"p284228\",\"attributes\":{\"location\":1675641600000.0,\"dimension\":\"height\",\"line_color\":\"#7C7C7C\",\"line_width\":2,\"line_dash\":[4,4]}},{\"type\":\"object\",\"name\":\"Span\",\"id\":\"p284229\",\"attributes\":{\"location\":1676851200000.0,\"dimension\":\"height\",\"line_color\":\"#7C7C7C\",\"line_width\":2,\"line_dash\":[4,4]}}],\"toolbar\":{\"type\":\"object\",\"name\":\"Toolbar\",\"id\":\"p284011\",\"attributes\":{\"tools\":[{\"type\":\"object\",\"name\":\"PanTool\",\"id\":\"p284075\"},{\"type\":\"object\",\"name\":\"WheelZoomTool\",\"id\":\"p284076\"},{\"type\":\"object\",\"name\":\"BoxZoomTool\",\"id\":\"p284077\",\"attributes\":{\"overlay\":{\"type\":\"object\",\"name\":\"BoxAnnotation\",\"id\":\"p284078\",\"attributes\":{\"syncable\":false,\"level\":\"overlay\",\"visible\":false,\"left_units\":\"canvas\",\"right_units\":\"canvas\",\"bottom_units\":\"canvas\",\"top_units\":\"canvas\",\"line_color\":\"black\",\"line_alpha\":1.0,\"line_width\":2,\"line_dash\":[4,4],\"fill_color\":\"lightgrey\",\"fill_alpha\":0.5}}}},{\"type\":\"object\",\"name\":\"SaveTool\",\"id\":\"p284079\"},{\"type\":\"object\",\"name\":\"ResetTool\",\"id\":\"p284080\"},{\"type\":\"object\",\"name\":\"HelpTool\",\"id\":\"p284081\"}]}},\"toolbar_location\":\"above\",\"left\":[{\"type\":\"object\",\"name\":\"LinearAxis\",\"id\":\"p284068\",\"attributes\":{\"ticker\":{\"type\":\"object\",\"name\":\"BasicTicker\",\"id\":\"p284070\",\"attributes\":{\"mantissas\":[1,2,5]}},\"formatter\":{\"type\":\"object\",\"name\":\"BasicTickFormatter\",\"id\":\"p284069\"},\"major_label_policy\":{\"type\":\"object\",\"name\":\"AllLabels\",\"id\":\"p284071\"}}}],\"right\":[{\"type\":\"object\",\"name\":\"Legend\",\"id\":\"p284090\",\"attributes\":{\"click_policy\":\"hide\",\"items\":[{\"type\":\"object\",\"name\":\"LegendItem\",\"id\":\"p284100\",\"attributes\":{\"label\":{\"type\":\"value\",\"value\":\"Aleppo\"},\"renderers\":[{\"id\":\"p284097\"}]}},{\"type\":\"object\",\"name\":\"LegendItem\",\"id\":\"p284110\",\"attributes\":{\"label\":{\"type\":\"value\",\"value\":\"Hama\"},\"renderers\":[{\"id\":\"p284107\"}]}},{\"type\":\"object\",\"name\":\"LegendItem\",\"id\":\"p284120\",\"attributes\":{\"label\":{\"type\":\"value\",\"value\":\"Idleb\"},\"renderers\":[{\"id\":\"p284117\"}]}},{\"type\":\"object\",\"name\":\"LegendItem\",\"id\":\"p284130\",\"attributes\":{\"label\":{\"type\":\"value\",\"value\":\"Lattakia\"},\"renderers\":[{\"id\":\"p284127\"}]}}]}}],\"below\":[{\"type\":\"object\",\"name\":\"DatetimeAxis\",\"id\":\"p284025\",\"attributes\":{\"ticker\":{\"type\":\"object\",\"name\":\"DatetimeTicker\",\"id\":\"p284027\",\"attributes\":{\"num_minor_ticks\":5,\"tickers\":[{\"type\":\"object\",\"name\":\"AdaptiveTicker\",\"id\":\"p284028\",\"attributes\":{\"num_minor_ticks\":0,\"mantissas\":[1,2,5],\"max_interval\":500.0}},{\"type\":\"object\",\"name\":\"AdaptiveTicker\",\"id\":\"p284029\",\"attributes\":{\"num_minor_ticks\":0,\"base\":60,\"mantissas\":[1,2,5,10,15,20,30],\"min_interval\":1000.0,\"max_interval\":1800000.0}},{\"type\":\"object\",\"name\":\"AdaptiveTicker\",\"id\":\"p284030\",\"attributes\":{\"num_minor_ticks\":0,\"base\":24,\"mantissas\":[1,2,4,6,8,12],\"min_interval\":3600000.0,\"max_interval\":43200000.0}},{\"type\":\"object\",\"name\":\"DaysTicker\",\"id\":\"p284031\",\"attributes\":{\"days\":[1,2,3,4,5,6,7,8,9,10,11,12,13,14,15,16,17,18,19,20,21,22,23,24,25,26,27,28,29,30,31]}},{\"type\":\"object\",\"name\":\"DaysTicker\",\"id\":\"p284032\",\"attributes\":{\"days\":[1,4,7,10,13,16,19,22,25,28]}},{\"type\":\"object\",\"name\":\"DaysTicker\",\"id\":\"p284033\",\"attributes\":{\"days\":[1,8,15,22]}},{\"type\":\"object\",\"name\":\"DaysTicker\",\"id\":\"p284034\",\"attributes\":{\"days\":[1,15]}},{\"type\":\"object\",\"name\":\"MonthsTicker\",\"id\":\"p284035\",\"attributes\":{\"months\":[0,1,2,3,4,5,6,7,8,9,10,11]}},{\"type\":\"object\",\"name\":\"MonthsTicker\",\"id\":\"p284036\",\"attributes\":{\"months\":[0,2,4,6,8,10]}},{\"type\":\"object\",\"name\":\"MonthsTicker\",\"id\":\"p284037\",\"attributes\":{\"months\":[0,4,8]}},{\"type\":\"object\",\"name\":\"MonthsTicker\",\"id\":\"p284038\",\"attributes\":{\"months\":[0,6]}},{\"type\":\"object\",\"name\":\"YearsTicker\",\"id\":\"p284039\"}]}},\"formatter\":{\"type\":\"object\",\"name\":\"DatetimeTickFormatter\",\"id\":\"p284026\"},\"major_label_policy\":{\"type\":\"object\",\"name\":\"AllLabels\",\"id\":\"p284040\"}}}],\"center\":[{\"type\":\"object\",\"name\":\"Grid\",\"id\":\"p284067\",\"attributes\":{\"axis\":{\"id\":\"p284025\"}}},{\"type\":\"object\",\"name\":\"Grid\",\"id\":\"p284074\",\"attributes\":{\"dimension\":1,\"axis\":{\"id\":\"p284068\"}}}]}},{\"type\":\"object\",\"name\":\"Figure\",\"id\":\"p284180\",\"attributes\":{\"width\":800,\"height\":40,\"x_range\":{\"type\":\"object\",\"name\":\"DataRange1d\",\"id\":\"p284182\"},\"y_range\":{\"type\":\"object\",\"name\":\"DataRange1d\",\"id\":\"p284181\"},\"x_scale\":{\"type\":\"object\",\"name\":\"LinearScale\",\"id\":\"p284194\"},\"y_scale\":{\"type\":\"object\",\"name\":\"LinearScale\",\"id\":\"p284196\"},\"title\":{\"type\":\"object\",\"name\":\"Title\",\"id\":\"p284183\",\"attributes\":{\"text\":\"Source: Ookla for Good\",\"text_font_size\":\"10pt\",\"text_font_style\":\"normal\"}},\"outline_line_width\":0,\"toolbar\":{\"type\":\"object\",\"name\":\"Toolbar\",\"id\":\"p284185\",\"attributes\":{\"tools\":[{\"type\":\"object\",\"name\":\"PanTool\",\"id\":\"p284212\"},{\"type\":\"object\",\"name\":\"WheelZoomTool\",\"id\":\"p284213\"},{\"type\":\"object\",\"name\":\"BoxZoomTool\",\"id\":\"p284214\",\"attributes\":{\"overlay\":{\"type\":\"object\",\"name\":\"BoxAnnotation\",\"id\":\"p284215\",\"attributes\":{\"syncable\":false,\"level\":\"overlay\",\"visible\":false,\"left_units\":\"canvas\",\"right_units\":\"canvas\",\"bottom_units\":\"canvas\",\"top_units\":\"canvas\",\"line_color\":\"black\",\"line_alpha\":1.0,\"line_width\":2,\"line_dash\":[4,4],\"fill_color\":\"lightgrey\",\"fill_alpha\":0.5}}}},{\"type\":\"object\",\"name\":\"SaveTool\",\"id\":\"p284216\"},{\"type\":\"object\",\"name\":\"ResetTool\",\"id\":\"p284217\"},{\"type\":\"object\",\"name\":\"HelpTool\",\"id\":\"p284218\"}]}},\"toolbar_location\":null,\"left\":[{\"type\":\"object\",\"name\":\"LinearAxis\",\"id\":\"p284205\",\"attributes\":{\"ticker\":{\"type\":\"object\",\"name\":\"BasicTicker\",\"id\":\"p284207\",\"attributes\":{\"mantissas\":[1,2,5]}},\"formatter\":{\"type\":\"object\",\"name\":\"BasicTickFormatter\",\"id\":\"p284206\"},\"major_label_policy\":{\"type\":\"object\",\"name\":\"AllLabels\",\"id\":\"p284208\"}}}],\"below\":[{\"type\":\"object\",\"name\":\"LinearAxis\",\"id\":\"p284198\",\"attributes\":{\"ticker\":{\"type\":\"object\",\"name\":\"BasicTicker\",\"id\":\"p284200\",\"attributes\":{\"mantissas\":[1,2,5]}},\"formatter\":{\"type\":\"object\",\"name\":\"BasicTickFormatter\",\"id\":\"p284199\"},\"major_label_policy\":{\"type\":\"object\",\"name\":\"AllLabels\",\"id\":\"p284201\"}}}],\"center\":[{\"type\":\"object\",\"name\":\"Grid\",\"id\":\"p284204\",\"attributes\":{\"axis\":{\"id\":\"p284198\"}}},{\"type\":\"object\",\"name\":\"Grid\",\"id\":\"p284211\",\"attributes\":{\"dimension\":1,\"axis\":{\"id\":\"p284205\"}}}],\"border_fill_alpha\":0}}]}}}}]}}],\"callbacks\":{\"type\":\"map\"}}};\n  const render_items = [{\"docid\":\"12f4caeb-2d69-4994-900c-162a1478c6c7\",\"roots\":{\"p284231\":\"5e42a887-6ce8-4952-92ed-894db60a8e9b\"},\"root_ids\":[\"p284231\"]}];\n  root.Bokeh.embed.embed_items_notebook(docs_json, render_items);\n  }\n  if (root.Bokeh !== undefined) {\n    embed_document(root);\n  } else {\n    let attempts = 0;\n    const timer = setInterval(function(root) {\n      if (root.Bokeh !== undefined) {\n        clearInterval(timer);\n        embed_document(root);\n      } else {\n        attempts++;\n        if (attempts > 100) {\n          clearInterval(timer);\n          console.log(\"Bokeh: ERROR: Unable to run BokehJS code because BokehJS library is missing\");\n        }\n      }\n    }, 10, root)\n  }\n})(window);",
      "application/vnd.bokehjs_exec.v0+json": ""
     },
     "metadata": {
      "application/vnd.bokehjs_exec.v0+json": {
       "id": "p284231"
      }
     },
     "output_type": "display_data"
    }
   ],
   "source": [
    "output_notebook()\n",
    "\n",
    "\n",
    "tabs = []\n",
    "\n",
    "df = week_adm1[week_adm1['ADM1_EN'].isin(['Aleppo', 'Idleb', 'Lattakia', 'Hama'])]\n",
    "df = df[df['date']>='2023-01-15']\n",
    "# for adm in affected_adm1:\n",
    "#     df = week[week['ADM1_EN']==adm] \n",
    "\n",
    "tabs.append(\n",
    "    TabPanel(\n",
    "    child=get_line_plot(df, f\"Weekly average users taking speedtest\", \"Source: Ookla for Good\", earthquakes=True, subtitle = '% change compared to a baseline users from January 2023', aggregation = 'ADM1_EN'),\n",
    "                #title=adm.capitalize(),\n",
    "            )\n",
    "            )\n",
    "\n",
    "tabs = Tabs(tabs=tabs, sizing_mode=\"scale_both\")\n",
    "show(tabs, warn_on_missing_glyphs=False)"
   ]
  },
  {
   "cell_type": "code",
   "execution_count": 122,
   "metadata": {
    "tags": [
     "hide-input"
    ]
   },
   "outputs": [
    {
     "data": {
      "text/html": [
       "<style>\n",
       "        .bk-notebook-logo {\n",
       "            display: block;\n",
       "            width: 20px;\n",
       "            height: 20px;\n",
       "            background-image: url(data:image/png;base64,iVBORw0KGgoAAAANSUhEUgAAABQAAAAUCAYAAACNiR0NAAAABHNCSVQICAgIfAhkiAAAAAlwSFlzAAALEgAACxIB0t1+/AAAABx0RVh0U29mdHdhcmUAQWRvYmUgRmlyZXdvcmtzIENTNui8sowAAAOkSURBVDiNjZRtaJVlGMd/1/08zzln5zjP1LWcU9N0NkN8m2CYjpgQYQXqSs0I84OLIC0hkEKoPtiH3gmKoiJDU7QpLgoLjLIQCpEsNJ1vqUOdO7ppbuec5+V+rj4ctwzd8IIbbi6u+8f1539dt3A78eXC7QizUF7gyV1fD1Yqg4JWz84yffhm0qkFqBogB9rM8tZdtwVsPUhWhGcFJngGeWrPzHm5oaMmkfEg1usvLFyc8jLRqDOMru7AyC8saQr7GG7f5fvDeH7Ej8CM66nIF+8yngt6HWaKh7k49Soy9nXurCi1o3qUbS3zWfrYeQDTB/Qj6kX6Ybhw4B+bOYoLKCC9H3Nu/leUTZ1JdRWkkn2ldcCamzrcf47KKXdAJllSlxAOkRgyHsGC/zRday5Qld9DyoM4/q/rUoy/CXh3jzOu3bHUVZeU+DEn8FInkPBFlu3+nW3Nw0mk6vCDiWg8CeJaxEwuHS3+z5RgY+YBR6V1Z1nxSOfoaPa4LASWxxdNp+VWTk7+4vzaou8v8PN+xo+KY2xsw6une2frhw05CTYOmQvsEhjhWjn0bmXPjpE1+kplmmkP3suftwTubK9Vq22qKmrBhpY4jvd5afdRA3wGjFAgcnTK2s4hY0/GPNIb0nErGMCRxWOOX64Z8RAC4oCXdklmEvcL8o0BfkNK4lUg9HTl+oPlQxdNo3Mg4Nv175e/1LDGzZen30MEjRUtmXSfiTVu1kK8W4txyV6BMKlbgk3lMwYCiusNy9fVfvvwMxv8Ynl6vxoByANLTWplvuj/nF9m2+PDtt1eiHPBr1oIfhCChQMBw6Aw0UulqTKZdfVvfG7VcfIqLG9bcldL/+pdWTLxLUy8Qq38heUIjh4XlzZxzQm19lLFlr8vdQ97rjZVOLf8nclzckbcD4wxXMidpX30sFd37Fv/GtwwhzhxGVAprjbg0gCAEeIgwCZyTV2Z1REEW8O4py0wsjeloKoMr6iCY6dP92H6Vw/oTyICIthibxjm/DfN9lVz8IqtqKYLUXfoKVMVQVVJOElGjrnnUt9T9wbgp8AyYKaGlqingHZU/uG2NTZSVqwHQTWkx9hxjkpWDaCg6Ckj5qebgBVbT3V3NNXMSiWSDdGV3hrtzla7J+duwPOToIg42ChPQOQjspnSlp1V+Gjdged7+8UN5CRAV7a5EdFNwCjEaBR27b3W890TE7g24NAP/mMDXRWrGoFPQI9ls/MWO2dWFAar/xcOIImbbpA3zgAAAABJRU5ErkJggg==);\n",
       "        }\n",
       "    </style>\n",
       "    <div>\n",
       "        <a href=\"https://bokeh.org\" target=\"_blank\" class=\"bk-notebook-logo\"></a>\n",
       "        <span id=\"p308962\">Loading BokehJS ...</span>\n",
       "    </div>\n"
      ]
     },
     "metadata": {},
     "output_type": "display_data"
    },
    {
     "data": {
      "application/javascript": "(function(root) {\n  function now() {\n    return new Date();\n  }\n\n  const force = true;\n\n  if (typeof root._bokeh_onload_callbacks === \"undefined\" || force === true) {\n    root._bokeh_onload_callbacks = [];\n    root._bokeh_is_loading = undefined;\n  }\n\nconst JS_MIME_TYPE = 'application/javascript';\n  const HTML_MIME_TYPE = 'text/html';\n  const EXEC_MIME_TYPE = 'application/vnd.bokehjs_exec.v0+json';\n  const CLASS_NAME = 'output_bokeh rendered_html';\n\n  /**\n   * Render data to the DOM node\n   */\n  function render(props, node) {\n    const script = document.createElement(\"script\");\n    node.appendChild(script);\n  }\n\n  /**\n   * Handle when an output is cleared or removed\n   */\n  function handleClearOutput(event, handle) {\n    const cell = handle.cell;\n\n    const id = cell.output_area._bokeh_element_id;\n    const server_id = cell.output_area._bokeh_server_id;\n    // Clean up Bokeh references\n    if (id != null && id in Bokeh.index) {\n      Bokeh.index[id].model.document.clear();\n      delete Bokeh.index[id];\n    }\n\n    if (server_id !== undefined) {\n      // Clean up Bokeh references\n      const cmd_clean = \"from bokeh.io.state import curstate; print(curstate().uuid_to_server['\" + server_id + \"'].get_sessions()[0].document.roots[0]._id)\";\n      cell.notebook.kernel.execute(cmd_clean, {\n        iopub: {\n          output: function(msg) {\n            const id = msg.content.text.trim();\n            if (id in Bokeh.index) {\n              Bokeh.index[id].model.document.clear();\n              delete Bokeh.index[id];\n            }\n          }\n        }\n      });\n      // Destroy server and session\n      const cmd_destroy = \"import bokeh.io.notebook as ion; ion.destroy_server('\" + server_id + \"')\";\n      cell.notebook.kernel.execute(cmd_destroy);\n    }\n  }\n\n  /**\n   * Handle when a new output is added\n   */\n  function handleAddOutput(event, handle) {\n    const output_area = handle.output_area;\n    const output = handle.output;\n\n    // limit handleAddOutput to display_data with EXEC_MIME_TYPE content only\n    if ((output.output_type != \"display_data\") || (!Object.prototype.hasOwnProperty.call(output.data, EXEC_MIME_TYPE))) {\n      return\n    }\n\n    const toinsert = output_area.element.find(\".\" + CLASS_NAME.split(' ')[0]);\n\n    if (output.metadata[EXEC_MIME_TYPE][\"id\"] !== undefined) {\n      toinsert[toinsert.length - 1].firstChild.textContent = output.data[JS_MIME_TYPE];\n      // store reference to embed id on output_area\n      output_area._bokeh_element_id = output.metadata[EXEC_MIME_TYPE][\"id\"];\n    }\n    if (output.metadata[EXEC_MIME_TYPE][\"server_id\"] !== undefined) {\n      const bk_div = document.createElement(\"div\");\n      bk_div.innerHTML = output.data[HTML_MIME_TYPE];\n      const script_attrs = bk_div.children[0].attributes;\n      for (let i = 0; i < script_attrs.length; i++) {\n        toinsert[toinsert.length - 1].firstChild.setAttribute(script_attrs[i].name, script_attrs[i].value);\n        toinsert[toinsert.length - 1].firstChild.textContent = bk_div.children[0].textContent\n      }\n      // store reference to server id on output_area\n      output_area._bokeh_server_id = output.metadata[EXEC_MIME_TYPE][\"server_id\"];\n    }\n  }\n\n  function register_renderer(events, OutputArea) {\n\n    function append_mime(data, metadata, element) {\n      // create a DOM node to render to\n      const toinsert = this.create_output_subarea(\n        metadata,\n        CLASS_NAME,\n        EXEC_MIME_TYPE\n      );\n      this.keyboard_manager.register_events(toinsert);\n      // Render to node\n      const props = {data: data, metadata: metadata[EXEC_MIME_TYPE]};\n      render(props, toinsert[toinsert.length - 1]);\n      element.append(toinsert);\n      return toinsert\n    }\n\n    /* Handle when an output is cleared or removed */\n    events.on('clear_output.CodeCell', handleClearOutput);\n    events.on('delete.Cell', handleClearOutput);\n\n    /* Handle when a new output is added */\n    events.on('output_added.OutputArea', handleAddOutput);\n\n    /**\n     * Register the mime type and append_mime function with output_area\n     */\n    OutputArea.prototype.register_mime_type(EXEC_MIME_TYPE, append_mime, {\n      /* Is output safe? */\n      safe: true,\n      /* Index of renderer in `output_area.display_order` */\n      index: 0\n    });\n  }\n\n  // register the mime type if in Jupyter Notebook environment and previously unregistered\n  if (root.Jupyter !== undefined) {\n    const events = require('base/js/events');\n    const OutputArea = require('notebook/js/outputarea').OutputArea;\n\n    if (OutputArea.prototype.mime_types().indexOf(EXEC_MIME_TYPE) == -1) {\n      register_renderer(events, OutputArea);\n    }\n  }\n  if (typeof (root._bokeh_timeout) === \"undefined\" || force === true) {\n    root._bokeh_timeout = Date.now() + 5000;\n    root._bokeh_failed_load = false;\n  }\n\n  const NB_LOAD_WARNING = {'data': {'text/html':\n     \"<div style='background-color: #fdd'>\\n\"+\n     \"<p>\\n\"+\n     \"BokehJS does not appear to have successfully loaded. If loading BokehJS from CDN, this \\n\"+\n     \"may be due to a slow or bad network connection. Possible fixes:\\n\"+\n     \"</p>\\n\"+\n     \"<ul>\\n\"+\n     \"<li>re-rerun `output_notebook()` to attempt to load from CDN again, or</li>\\n\"+\n     \"<li>use INLINE resources instead, as so:</li>\\n\"+\n     \"</ul>\\n\"+\n     \"<code>\\n\"+\n     \"from bokeh.resources import INLINE\\n\"+\n     \"output_notebook(resources=INLINE)\\n\"+\n     \"</code>\\n\"+\n     \"</div>\"}};\n\n  function display_loaded() {\n    const el = document.getElementById(\"p308962\");\n    if (el != null) {\n      el.textContent = \"BokehJS is loading...\";\n    }\n    if (root.Bokeh !== undefined) {\n      if (el != null) {\n        el.textContent = \"BokehJS \" + root.Bokeh.version + \" successfully loaded.\";\n      }\n    } else if (Date.now() < root._bokeh_timeout) {\n      setTimeout(display_loaded, 100)\n    }\n  }\n\n  function run_callbacks() {\n    try {\n      root._bokeh_onload_callbacks.forEach(function(callback) {\n        if (callback != null)\n          callback();\n      });\n    } finally {\n      delete root._bokeh_onload_callbacks\n    }\n    console.debug(\"Bokeh: all callbacks have finished\");\n  }\n\n  function load_libs(css_urls, js_urls, callback) {\n    if (css_urls == null) css_urls = [];\n    if (js_urls == null) js_urls = [];\n\n    root._bokeh_onload_callbacks.push(callback);\n    if (root._bokeh_is_loading > 0) {\n      console.debug(\"Bokeh: BokehJS is being loaded, scheduling callback at\", now());\n      return null;\n    }\n    if (js_urls == null || js_urls.length === 0) {\n      run_callbacks();\n      return null;\n    }\n    console.debug(\"Bokeh: BokehJS not loaded, scheduling load and callback at\", now());\n    root._bokeh_is_loading = css_urls.length + js_urls.length;\n\n    function on_load() {\n      root._bokeh_is_loading--;\n      if (root._bokeh_is_loading === 0) {\n        console.debug(\"Bokeh: all BokehJS libraries/stylesheets loaded\");\n        run_callbacks()\n      }\n    }\n\n    function on_error(url) {\n      console.error(\"failed to load \" + url);\n    }\n\n    for (let i = 0; i < css_urls.length; i++) {\n      const url = css_urls[i];\n      const element = document.createElement(\"link\");\n      element.onload = on_load;\n      element.onerror = on_error.bind(null, url);\n      element.rel = \"stylesheet\";\n      element.type = \"text/css\";\n      element.href = url;\n      console.debug(\"Bokeh: injecting link tag for BokehJS stylesheet: \", url);\n      document.body.appendChild(element);\n    }\n\n    for (let i = 0; i < js_urls.length; i++) {\n      const url = js_urls[i];\n      const element = document.createElement('script');\n      element.onload = on_load;\n      element.onerror = on_error.bind(null, url);\n      element.async = false;\n      element.src = url;\n      console.debug(\"Bokeh: injecting script tag for BokehJS library: \", url);\n      document.head.appendChild(element);\n    }\n  };\n\n  function inject_raw_css(css) {\n    const element = document.createElement(\"style\");\n    element.appendChild(document.createTextNode(css));\n    document.body.appendChild(element);\n  }\n\n  const js_urls = [\"https://cdn.bokeh.org/bokeh/release/bokeh-3.1.0.min.js\", \"https://cdn.bokeh.org/bokeh/release/bokeh-gl-3.1.0.min.js\", \"https://cdn.bokeh.org/bokeh/release/bokeh-widgets-3.1.0.min.js\", \"https://cdn.bokeh.org/bokeh/release/bokeh-tables-3.1.0.min.js\", \"https://cdn.bokeh.org/bokeh/release/bokeh-mathjax-3.1.0.min.js\"];\n  const css_urls = [];\n\n  const inline_js = [    function(Bokeh) {\n      Bokeh.set_log_level(\"info\");\n    },\nfunction(Bokeh) {\n    }\n  ];\n\n  function run_inline_js() {\n    if (root.Bokeh !== undefined || force === true) {\n          for (let i = 0; i < inline_js.length; i++) {\n      inline_js[i].call(root, root.Bokeh);\n    }\nif (force === true) {\n        display_loaded();\n      }} else if (Date.now() < root._bokeh_timeout) {\n      setTimeout(run_inline_js, 100);\n    } else if (!root._bokeh_failed_load) {\n      console.log(\"Bokeh: BokehJS failed to load within specified timeout.\");\n      root._bokeh_failed_load = true;\n    } else if (force !== true) {\n      const cell = $(document.getElementById(\"p308962\")).parents('.cell').data().cell;\n      cell.output_area.append_execute_result(NB_LOAD_WARNING)\n    }\n  }\n\n  if (root._bokeh_is_loading === 0) {\n    console.debug(\"Bokeh: BokehJS loaded, going straight to plotting\");\n    run_inline_js();\n  } else {\n    load_libs(css_urls, js_urls, function() {\n      console.debug(\"Bokeh: BokehJS plotting callback run at\", now());\n      run_inline_js();\n    });\n  }\n}(window));",
      "application/vnd.bokehjs_load.v0+json": ""
     },
     "metadata": {},
     "output_type": "display_data"
    }
   ],
   "source": [
    "output_notebook()\n",
    "\n",
    "\n",
    "tabs = []\n",
    "\n",
    "for adm in ['Aleppo', 'Idleb', 'Lattakia', 'Hama']:\n",
    "    df = week_adm2[week_adm2['ADM1_EN']==adm] \n",
    "    df = df[df['date']>='2023-01-15']\n",
    "\n",
    "    tabs.append(\n",
    "        TabPanel(\n",
    "        child=get_line_plot(df, f\"Weekly average users taking speedtest\", \"Source: Ookla for Good\", earthquakes=True, subtitle = '% change compared to a baseline users from January 2023'),\n",
    "                    title=adm.capitalize(),\n",
    "                )\n",
    "                )\n",
    "\n",
    "tabs = Tabs(tabs=tabs, sizing_mode=\"scale_both\")\n",
    "show(tabs, warn_on_missing_glyphs=False)"
   ]
  }
 ],
 "metadata": {
  "kernelspec": {
   "display_name": "turkey-rdna",
   "language": "python",
   "name": "python3"
  },
  "language_info": {
   "codemirror_mode": {
    "name": "ipython",
    "version": 3
   },
   "file_extension": ".py",
   "mimetype": "text/x-python",
   "name": "python",
   "nbconvert_exporter": "python",
   "pygments_lexer": "ipython3",
   "version": "3.10.10"
  },
  "orig_nbformat": 4,
  "vscode": {
   "interpreter": {
    "hash": "8bba421233f1e7b3d55a71df276fd8dc410b6cfaa156a76c06d919e1ab5a0f6b"
   }
  }
 },
 "nbformat": 4,
 "nbformat_minor": 2
}
