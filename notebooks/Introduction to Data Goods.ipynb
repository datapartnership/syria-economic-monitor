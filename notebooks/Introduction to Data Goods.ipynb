{
 "cells": [
  {
   "cell_type": "markdown",
   "id": "4eba9b3e",
   "metadata": {},
   "source": [
    "# Introduction to Data Goods\n"
   ]
  },
  {
   "cell_type": "markdown",
   "id": "3009289c",
   "metadata": {},
   "source": [
    "**Data Goods** are comprised of data, reproducible methods (code), documentation, and sample insights. Unlike a traditional data analysis, which results in a single-use report or visualization, Data Goods are designed to be re-used for future updates and projects, thereby building the capacity of the World Bank and partner organizations to quickly and effectively deliver complex data science solutions to pressing global challenges. \n",
    "\n",
    "Data Goods packages include:\n",
    "\n",
    "1.\t**Foundational Datasets**. Foundational Datasets comprise *all* datasets used to prepare the Data Goods. To support replication and re-use of the Data Goods, the documetation includes a description of each datasource, including data type, update frequency, access links (including to the World Bank's data catalogue, the [Development Data Hub](https://datacatalog.worldbank.org/home), and contact information. \n",
    "<br><br>\n",
    "2.\t**Data Products**. These are analytical products derived from the Foundational Datasets, which can be further used to generate indicators and insights. All data products include documentation, links to original data sources (and/or information on how to access them), and a description of their limitations. Reference resources are also cited, where relevant. In the documentation, each Data Product has it's own \"chapter\", generated through use of a Jupyter notebook. \n",
    "<br><br>\n",
    "3.\t**Sample Indicators**. Indicators can be derived from a combination of **Foundational Datasets** and **Data Products**. By combining these two inputs, teams are empowered to develop a large array of indicators to meet their project needs. Indicators can be presented side-by-side in an Excel workbook -- a format that is generally accessible to the widest audience. Because all indicators are based on the same underlying data, they are comparable with each other, across geographies and across time.\n",
    "<br><br>\n",
    "4.\t**Data Lab Team**. For each project, the [World Bank Data Lab](https://wbdatalab.org/) recruits colleagues from throughout our organization, pooling our collective great talents in support of our lending and technical assistance operations. Data Goods documentation includes a list and contact information for the unique team that prepared the Goods. \n",
    "<br><br>"
   ]
  },
  {
   "cell_type": "markdown",
   "id": "c385f0a0",
   "metadata": {},
   "source": [
    "# How Data Goods are Managed\n",
    "\n",
    "1. **Dynamic, Web-Hosted Documentation**. Unless specified otherwise, all code and documentation used to produce the Data Goods is hosted in a project GitHub repository, to facilitate reuse for future updates and projects, as well as to support collaboration and capacity building activities.\n",
    "<br><br>\n",
    "2. **SharePoint**. To facilitate project management across teams, the Lab creates a Project SharePoint, which includes project management information (work plan, milestones, check-in slides, log of hours charged, final report), related literature, data files, indicator tables, and links to resources, such as the Documentation. The advantage of SharePoint for World Bank usage is that all contents are automatically encrypted and tagged as Official Use Only. The project SharePoint is accessible to project team members and, with permission, can be replicated as a basis for future project updates or for similar projects. \n",
    "<br><br>\n",
    "2.\t**Goodies**. In addition to the documentation and SharePoint, each Data Good may also include a sample Indicators table, dynamic map for viewing statistics, or other output, per the needs ot the project. "
   ]
  },
  {
   "cell_type": "code",
   "execution_count": null,
   "id": "6d16f15e",
   "metadata": {},
   "outputs": [],
   "source": []
  }
 ],
 "metadata": {
  "kernelspec": {
   "display_name": "Python 3 (ipykernel)",
   "language": "python",
   "name": "python3"
  },
  "language_info": {
   "codemirror_mode": {
    "name": "ipython",
    "version": 3
   },
   "file_extension": ".py",
   "mimetype": "text/x-python",
   "name": "python",
   "nbconvert_exporter": "python",
   "pygments_lexer": "ipython3",
   "version": "3.9.12"
  }
 },
 "nbformat": 4,
 "nbformat_minor": 5
}
