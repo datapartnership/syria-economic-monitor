{
 "cells": [
  {
   "cell_type": "markdown",
   "metadata": {},
   "source": [
    "# Syria Land Cover Land Use Analytics"
   ]
  },
  {
   "cell_type": "markdown",
   "metadata": {},
   "source": [
    "## Overview\n",
    "\n",
    "This notebook analyzes land cover trends specifically for croplands in Syria over time using spatial imagery datasets and also attempt to assess the pre and post conflict environmental impacts."
   ]
  },
  {
   "cell_type": "markdown",
   "metadata": {},
   "source": [
    "## Data\n",
    "\n",
    "The following datasets are utilized in this analysis for calculating and mapping crop productivity over the past years:\n",
    "\n",
    "1. **Dynamic World Dataset**:\n",
    "   - **Source**: [Dynamic World - Google and the World Resources Institute (WRI)](https://dynamicworld.app/) \n",
    "   - **Description**:The Dynamic World dataset provides a near real-time, high-resolution (10-meter) global land cover classification. It is derived from Sentinel-2 imagery and utilizes machine learning models to classify land cover into nine distinct classes, including water, trees, grass, crops, built areas, bare ground, shrubs, flooded vegetation, and snow/ice. The dataset offers data with minimal latency, enabling near-immediate analysis and decision-making.\n",
    "   - **Spatial Resolution**: 10 meters.\n",
    "   - **Temporal Coverage**: Data is available since mid-2015, updated continuously as Sentinel-2 imagery becomes available capturing near Real-time.\n",
    "   - **Use Case**: Dynamic World is valuable for monitoring land cover changes, assessing deforestation, urban expansion, agricultural land use changes, and disaster impacts (e.g., flooding). Its high spatial and temporal resolution enables detailed tracking of land cover dynamics for environmental management and planning.\n",
    "\n",
    "2.**MODIS Land Cover Dataset**:\n",
    "   - **Source:** NASA's Moderate Resolution Imaging Spectroradiometer [MODIS](https://modis.gsfc.nasa.gov/data/) Land Cover on Terra and Aqua satellites.\n",
    "   - **Description:** The MODIS Land Cover dataset (MCD12Q1) provides annual global land cover classification at 500-meter resolution. It includes several classification schemes, such as the International Geosphere-Biosphere Programme (IGBP), University of Maryland (UMD), and MODIS-derived classifications. The dataset also includes a LC_Type2 band that represents vegetation and land cover types based on the University of Maryland classification scheme [LC_Type2 Class]\n",
    "   - **Spatial Resolution:** 500 meters.\n",
    "   - **Temporal Coverage:** Annual classifications are available from 2001 to the present.\n",
    "   - **Use Case:** The dataset is widely used for global and regional land cover analysis, biodiversity assessments, agricultural monitoring (focusing on cropland classification using LC_Type2), ecosystem studies, and climate change research. The annual updates enable tracking of land cover changes over time, which supports environmental policy planning and implementation.\n",
    "   \n",
    "3. **Administrative Boundaries (HDX)**:\n",
    "   - **Source**: Humanitarian Data Exchange [HDX](https://data.humdata.org/).\n",
    "   - **Description**: Geographic boundaries used for spatial aggregation and administrative analysis, such as calculating productivity metrics by region (e.g., governorate or district).\n",
    "   - **Use Case**: The administrative boundaries are used to aggregate EVI statistics by region and facilitate reporting at various administrative levels.\n",
    "\n",
    "4. **ACLED Conflict Data**:\n",
    "   - **Source**: [ACLED](https://acleddata.com/data/) provides real-time data on conflict events worldwide.\n",
    "   - **Description**: Conflict data was sourced from the ACLED database, which provides detailed records of events such as battles, protests, and other violent activities, including attributes like event type, date, and number of fatalities.The dataset was loaded as a CSV and converted to a GeoDataFrame (acled_gdf), with geometries representing the event locations.\n",
    "   -**Use Case**: Used for conflict monitoring, risk assessment, and informing humanitarian policies.\n"
   ]
  },
  {
   "cell_type": "code",
   "execution_count": 1,
   "metadata": {
    "tags": [
     "remove-cell"
    ]
   },
   "outputs": [],
   "source": [
    "import ee\n",
    "import geopandas as gpd\n",
    "import os\n",
    "import json\n",
    "import sys\n",
    "import matplotlib.pyplot as plt\n",
    "import pandas as pd\n",
    "import geemap"
   ]
  },
  {
   "cell_type": "code",
   "execution_count": 2,
   "metadata": {
    "tags": [
     "remove-cell"
    ]
   },
   "outputs": [
    {
     "data": {
      "text/html": [
       "\n",
       "            <style>\n",
       "                .geemap-dark {\n",
       "                    --jp-widgets-color: white;\n",
       "                    --jp-widgets-label-color: white;\n",
       "                    --jp-ui-font-color1: white;\n",
       "                    --jp-layout-color2: #454545;\n",
       "                    background-color: #383838;\n",
       "                }\n",
       "\n",
       "                .geemap-dark .jupyter-button {\n",
       "                    --jp-layout-color3: #383838;\n",
       "                }\n",
       "\n",
       "                .geemap-colab {\n",
       "                    background-color: var(--colab-primary-surface-color, white);\n",
       "                }\n",
       "\n",
       "                .geemap-colab .jupyter-button {\n",
       "                    --jp-layout-color3: var(--colab-primary-surface-color, white);\n",
       "                }\n",
       "            </style>\n",
       "            "
      ],
      "text/plain": [
       "<IPython.core.display.HTML object>"
      ]
     },
     "metadata": {},
     "output_type": "display_data"
    },
    {
     "name": "stderr",
     "output_type": "stream",
     "text": [
      "*** Earth Engine *** Share your feedback by taking our Annual Developer Satisfaction Survey: https://google.qualtrics.com/jfe/form/SV_0JLhFqfSY1uiEaW?source=Init\n"
     ]
    }
   ],
   "source": [
    "ee.Authenticate()\n",
    "ee.Initialize()"
   ]
  },
  {
   "cell_type": "code",
   "execution_count": 3,
   "metadata": {
    "tags": [
     "remove-cell"
    ]
   },
   "outputs": [
    {
     "data": {
      "text/html": [
       "\n",
       "            <style>\n",
       "                .geemap-dark {\n",
       "                    --jp-widgets-color: white;\n",
       "                    --jp-widgets-label-color: white;\n",
       "                    --jp-ui-font-color1: white;\n",
       "                    --jp-layout-color2: #454545;\n",
       "                    background-color: #383838;\n",
       "                }\n",
       "\n",
       "                .geemap-dark .jupyter-button {\n",
       "                    --jp-layout-color3: #383838;\n",
       "                }\n",
       "\n",
       "                .geemap-colab {\n",
       "                    background-color: var(--colab-primary-surface-color, white);\n",
       "                }\n",
       "\n",
       "                .geemap-colab .jupyter-button {\n",
       "                    --jp-layout-color3: var(--colab-primary-surface-color, white);\n",
       "                }\n",
       "            </style>\n",
       "            "
      ],
      "text/plain": [
       "<IPython.core.display.HTML object>"
      ]
     },
     "metadata": {},
     "output_type": "display_data"
    }
   ],
   "source": [
    "base_path = (\n",
    "    \"C:\\\\Users\\\\ishaa\\\\OneDrive\\\\Desktop\\\\DataLab\\\\Syria\\\\syria-economic-monitor\"\n",
    ")"
   ]
  },
  {
   "cell_type": "code",
   "execution_count": 4,
   "metadata": {
    "tags": [
     "remove-cell"
    ]
   },
   "outputs": [
    {
     "data": {
      "text/html": [
       "\n",
       "            <style>\n",
       "                .geemap-dark {\n",
       "                    --jp-widgets-color: white;\n",
       "                    --jp-widgets-label-color: white;\n",
       "                    --jp-ui-font-color1: white;\n",
       "                    --jp-layout-color2: #454545;\n",
       "                    background-color: #383838;\n",
       "                }\n",
       "\n",
       "                .geemap-dark .jupyter-button {\n",
       "                    --jp-layout-color3: #383838;\n",
       "                }\n",
       "\n",
       "                .geemap-colab {\n",
       "                    background-color: var(--colab-primary-surface-color, white);\n",
       "                }\n",
       "\n",
       "                .geemap-colab .jupyter-button {\n",
       "                    --jp-layout-color3: var(--colab-primary-surface-color, white);\n",
       "                }\n",
       "            </style>\n",
       "            "
      ],
      "text/plain": [
       "<IPython.core.display.HTML object>"
      ]
     },
     "metadata": {},
     "output_type": "display_data"
    }
   ],
   "source": [
    "sys.path.append(\n",
    "    \"C:/Users/ishaa/OneDrive/Desktop/DataLab/Syria/syria-economic-monitor/GEE_Zonal/src/gee_zonal\"\n",
    ")  # Replace with the actual path to the GEE_Zonal repository"
   ]
  },
  {
   "cell_type": "code",
   "execution_count": 5,
   "metadata": {
    "tags": [
     "remove-cell"
    ]
   },
   "outputs": [
    {
     "data": {
      "text/html": [
       "\n",
       "            <style>\n",
       "                .geemap-dark {\n",
       "                    --jp-widgets-color: white;\n",
       "                    --jp-widgets-label-color: white;\n",
       "                    --jp-ui-font-color1: white;\n",
       "                    --jp-layout-color2: #454545;\n",
       "                    background-color: #383838;\n",
       "                }\n",
       "\n",
       "                .geemap-dark .jupyter-button {\n",
       "                    --jp-layout-color3: #383838;\n",
       "                }\n",
       "\n",
       "                .geemap-colab {\n",
       "                    background-color: var(--colab-primary-surface-color, white);\n",
       "                }\n",
       "\n",
       "                .geemap-colab .jupyter-button {\n",
       "                    --jp-layout-color3: var(--colab-primary-surface-color, white);\n",
       "                }\n",
       "            </style>\n",
       "            "
      ],
      "text/plain": [
       "<IPython.core.display.HTML object>"
      ]
     },
     "metadata": {},
     "output_type": "display_data"
    }
   ],
   "source": [
    "from gee_helpers import gpd_to_gee"
   ]
  },
  {
   "cell_type": "code",
   "execution_count": 6,
   "metadata": {
    "tags": [
     "remove-cell"
    ]
   },
   "outputs": [
    {
     "data": {
      "text/html": [
       "\n",
       "            <style>\n",
       "                .geemap-dark {\n",
       "                    --jp-widgets-color: white;\n",
       "                    --jp-widgets-label-color: white;\n",
       "                    --jp-ui-font-color1: white;\n",
       "                    --jp-layout-color2: #454545;\n",
       "                    background-color: #383838;\n",
       "                }\n",
       "\n",
       "                .geemap-dark .jupyter-button {\n",
       "                    --jp-layout-color3: #383838;\n",
       "                }\n",
       "\n",
       "                .geemap-colab {\n",
       "                    background-color: var(--colab-primary-surface-color, white);\n",
       "                }\n",
       "\n",
       "                .geemap-colab .jupyter-button {\n",
       "                    --jp-layout-color3: var(--colab-primary-surface-color, white);\n",
       "                }\n",
       "            </style>\n",
       "            "
      ],
      "text/plain": [
       "<IPython.core.display.HTML object>"
      ]
     },
     "metadata": {},
     "output_type": "display_data"
    }
   ],
   "source": [
    "# loading boundaries\n",
    "adm0_path = os.path.join(base_path, \"data\", \"boundaries\", \"syr_admin0.shp\")\n",
    "syr_adm0 = gpd.read_file(adm0_path)\n",
    "syr_adm0.to_file(\"syria_boundary.geojson\", driver=\"GeoJSON\")\n",
    "with open(\"syria_boundary.geojson\") as f:\n",
    "    syr_geojson = json.load(f)\n",
    "syria_geometry = ee.Geometry(syr_geojson[\"features\"][0][\"geometry\"])\n",
    "\n",
    "\n",
    "adm1_path = os.path.join(base_path, \"data\", \"boundaries\", \"syr_admin1.shp\")\n",
    "syr_adm1 = gpd.read_file(adm1_path)\n",
    "syr_adm1.to_file(\"syria_boundary1.geojson\", driver=\"GeoJSON\")\n",
    "with open(\"syria_boundary1.geojson\") as f:\n",
    "    syr_geojson_adm1 = json.load(f)\n",
    "syr_adm1_geometry = ee.Geometry(syr_geojson_adm1[\"features\"][0][\"geometry\"])"
   ]
  },
  {
   "cell_type": "code",
   "execution_count": 7,
   "metadata": {
    "tags": [
     "remove-cell"
    ]
   },
   "outputs": [
    {
     "data": {
      "text/html": [
       "\n",
       "            <style>\n",
       "                .geemap-dark {\n",
       "                    --jp-widgets-color: white;\n",
       "                    --jp-widgets-label-color: white;\n",
       "                    --jp-ui-font-color1: white;\n",
       "                    --jp-layout-color2: #454545;\n",
       "                    background-color: #383838;\n",
       "                }\n",
       "\n",
       "                .geemap-dark .jupyter-button {\n",
       "                    --jp-layout-color3: #383838;\n",
       "                }\n",
       "\n",
       "                .geemap-colab {\n",
       "                    background-color: var(--colab-primary-surface-color, white);\n",
       "                }\n",
       "\n",
       "                .geemap-colab .jupyter-button {\n",
       "                    --jp-layout-color3: var(--colab-primary-surface-color, white);\n",
       "                }\n",
       "            </style>\n",
       "            "
      ],
      "text/plain": [
       "<IPython.core.display.HTML object>"
      ]
     },
     "metadata": {},
     "output_type": "display_data"
    }
   ],
   "source": [
    "coords = syria_geometry.centroid().coordinates().getInfo()\n",
    "centx, centy = coords[0], coords[1]\n",
    "# print(centx, centy)"
   ]
  },
  {
   "cell_type": "markdown",
   "metadata": {},
   "source": [
    "## Syria Land Cover"
   ]
  },
  {
   "cell_type": "markdown",
   "metadata": {},
   "source": [
    "::::{tab-set}\n",
    ":::{tab-item} 2000 - 2010\n",
    "![Syria MODIS Land Use Cover.png](../../docs/images/agriculture/syria_modis_2000_2010_landcover.png)\n",
    ":::\n",
    ":::{tab-item} 2011 - 2015\n",
    "![Syria MODIS Lad cover 2011-2015.png](../../docs/images/agriculture/syria_modis_2011_2015_landcover.png)\n",
    ":::\n",
    ":::{tab-item} 2016 - Present\n",
    "![Syria MODIS Land Use Cover.png](../../docs/images/agriculture/syria_dynamicworld_cover_2016_2023.png)\n",
    ":::"
   ]
  },
  {
   "cell_type": "code",
   "execution_count": 6,
   "metadata": {
    "tags": [
     "remove-cell"
    ]
   },
   "outputs": [
    {
     "data": {
      "text/html": [
       "\n",
       "            <style>\n",
       "                .geemap-dark {\n",
       "                    --jp-widgets-color: white;\n",
       "                    --jp-widgets-label-color: white;\n",
       "                    --jp-ui-font-color1: white;\n",
       "                    --jp-layout-color2: #454545;\n",
       "                    background-color: #383838;\n",
       "                }\n",
       "\n",
       "                .geemap-dark .jupyter-button {\n",
       "                    --jp-layout-color3: #383838;\n",
       "                }\n",
       "\n",
       "                .geemap-colab {\n",
       "                    background-color: var(--colab-primary-surface-color, white);\n",
       "                }\n",
       "\n",
       "                .geemap-colab .jupyter-button {\n",
       "                    --jp-layout-color3: var(--colab-primary-surface-color, white);\n",
       "                }\n",
       "            </style>\n",
       "            "
      ],
      "text/plain": [
       "<IPython.core.display.HTML object>"
      ]
     },
     "metadata": {},
     "output_type": "display_data"
    },
    {
     "data": {
      "application/vnd.jupyter.widget-view+json": {
       "model_id": "b69a9a722c544272a270153b3eaa03f0",
       "version_major": 2,
       "version_minor": 0
      },
      "text/plain": [
       "Map(center=[35.00473784303623, 38.49054487731182], controls=(WidgetControl(options=['position', 'transparent_b…"
      ]
     },
     "execution_count": 6,
     "metadata": {},
     "output_type": "execute_result"
    }
   ],
   "source": [
    "start_date = ee.Date(\"2016-01-01\")\n",
    "end_date = ee.Date(\"2024-10-31\")\n",
    "\n",
    "dw_collection = (\n",
    "    ee.ImageCollection(\"GOOGLE/DYNAMICWORLD/V1\")\n",
    "    .filterDate(start_date, end_date)\n",
    "    .filterBounds(syria_geometry)\n",
    ")\n",
    "\n",
    "# Create a mode composite for 2011-2023\n",
    "dw_2011_2023 = dw_collection.filterDate(\"2019-01-01\", \"2023-12-31\")\n",
    "mode_composite = dw_2011_2023.select(\"label\").reduce(ee.Reducer.mode())\n",
    "\n",
    "# Visualize the results\n",
    "Map = geemap.Map()\n",
    "Map.centerObject(syria_geometry, 6)\n",
    "vis_params = {\n",
    "    \"min\": 0,\n",
    "    \"max\": 8,\n",
    "    \"palette\": [\n",
    "        \"#419BDF\",\n",
    "        \"#397D49\",\n",
    "        \"#88B053\",\n",
    "        \"#7A87C6\",\n",
    "        \"#E49635\",\n",
    "        \"#DFC35A\",\n",
    "        \"#C4281B\",\n",
    "        \"#A59B8F\",\n",
    "        \"#B39FE1\",\n",
    "    ],\n",
    "}\n",
    "Map.addLayer(mode_composite.clip(syria_geometry), vis_params, \"DW 2023 Mode Composite\")\n",
    "\n",
    "# Define a legend for the land cover types\n",
    "legend_dict = {\n",
    "    \"Water\": \"#419BDF\",\n",
    "    \"Trees\": \"#397D49\",\n",
    "    \"Grass\": \"#88B053\",\n",
    "    \"Flooded Vegetation\": \"#7A87C6\",\n",
    "    \"Crops\": \"#E49635\",\n",
    "    \"Shrubland\": \"#DFC35A\",\n",
    "    \"Built Area\": \"#C4281B\",\n",
    "    \"Bare Ground\": \"#A59B8F\",\n",
    "    \"Snow and Ice\": \"#B39FE1\",\n",
    "}\n",
    "\n",
    "# Add a legend to the map\n",
    "Map.add_legend(title=\"Land Cover Classes\", legend_dict=legend_dict)\n",
    "\n",
    "Map"
   ]
  },
  {
   "cell_type": "code",
   "execution_count": 7,
   "metadata": {
    "tags": [
     "remove-cell"
    ]
   },
   "outputs": [
    {
     "data": {
      "text/html": [
       "\n",
       "            <style>\n",
       "                .geemap-dark {\n",
       "                    --jp-widgets-color: white;\n",
       "                    --jp-widgets-label-color: white;\n",
       "                    --jp-ui-font-color1: white;\n",
       "                    --jp-layout-color2: #454545;\n",
       "                    background-color: #383838;\n",
       "                }\n",
       "\n",
       "                .geemap-dark .jupyter-button {\n",
       "                    --jp-layout-color3: #383838;\n",
       "                }\n",
       "\n",
       "                .geemap-colab {\n",
       "                    background-color: var(--colab-primary-surface-color, white);\n",
       "                }\n",
       "\n",
       "                .geemap-colab .jupyter-button {\n",
       "                    --jp-layout-color3: var(--colab-primary-surface-color, white);\n",
       "                }\n",
       "            </style>\n",
       "            "
      ],
      "text/plain": [
       "<IPython.core.display.HTML object>"
      ]
     },
     "metadata": {},
     "output_type": "display_data"
    },
    {
     "name": "stdout",
     "output_type": "stream",
     "text": [
      "Export task started. Check the Tasks tab in Earth Engine or your Google Drive.\n"
     ]
    }
   ],
   "source": [
    "# Export the mode composite to Google Drive\n",
    "dw_export_task = ee.batch.Export.image.toDrive(\n",
    "    image=mode_composite.clip(syria_geometry),\n",
    "    description=\"DW_Mode_Composite_2016_2024\",\n",
    "    folder=\"EarthEngineExports\",  # Specify a folder in Google Drive\n",
    "    scale=50,  # Dynamic World resolution is 10m\n",
    "    region=syria_geometry,\n",
    "    fileFormat=\"GeoTIFF\",\n",
    "    maxPixels=1e13,  # Adjust as needed for large regions\n",
    ")\n",
    "\n",
    "dw_export_task.start()\n",
    "print(\"Export task started. Check the Tasks tab in Earth Engine or your Google Drive.\")"
   ]
  },
  {
   "cell_type": "code",
   "execution_count": null,
   "metadata": {
    "tags": [
     "remove-cell"
    ]
   },
   "outputs": [],
   "source": [
    "import rasterio\n",
    "from matplotlib.colors import ListedColormap\n",
    "import numpy as np\n",
    "\n",
    "# Path to the downloaded GeoTIFF file\n",
    "geo_tiff_path = r\"path_to_downloaded_tiff_file.tif\"\n",
    "\n",
    "# Define the colormap for Dynamic World land cover classes\n",
    "landcover_cmap = ListedColormap(\n",
    "    [\n",
    "        \"#419BDF\",  # Water\n",
    "        \"#397D49\",  # Trees\n",
    "        \"#88B053\",  # Grass\n",
    "        \"#7A87C6\",  # Flooded Vegetation\n",
    "        \"#E49635\",  # Crops\n",
    "        \"#DFC35A\",  # Shrubland\n",
    "        \"#C4281B\",  # Built Area\n",
    "        \"#A59B8F\",  # Bare Ground\n",
    "        \"#B39FE1\",  # Snow and Ice\n",
    "    ]\n",
    ")\n",
    "\n",
    "# Define the land cover classes for the legend\n",
    "legend_labels = [\n",
    "    \"Water\",\n",
    "    \"Trees\",\n",
    "    \"Grass\",\n",
    "    \"Flooded Vegetation\",\n",
    "    \"Crops\",\n",
    "    \"Shrubland\",\n",
    "    \"Built Area\",\n",
    "    \"Bare Ground\",\n",
    "    \"Snow and Ice\",\n",
    "]\n",
    "\n",
    "# Open the GeoTIFF file using rasterio\n",
    "with rasterio.open(geo_tiff_path) as src:\n",
    "    landcover_data = src.read(1)  # Read the first band\n",
    "    bounds = src.bounds\n",
    "    extent = [bounds.left, bounds.right, bounds.bottom, bounds.top]\n",
    "\n",
    "# Plot the land cover map\n",
    "plt.figure(figsize=(12, 8))\n",
    "plt.imshow(landcover_data, cmap=landcover_cmap, extent=extent)\n",
    "plt.colorbar(\n",
    "    label=\"Land Cover Classes\", ticks=np.arange(0.5, 9.5, 1), values=np.arange(9)\n",
    ")\n",
    "plt.title(\"Dynamic World Land Cover Mode Composite (2011-2023)\")\n",
    "plt.xlabel(\"Longitude\")\n",
    "plt.ylabel(\"Latitude\")\n",
    "\n",
    "# Create a custom legend\n",
    "from matplotlib.patches import Patch\n",
    "\n",
    "legend_patches = [\n",
    "    Patch(color=landcover_cmap(i), label=label) for i, label in enumerate(legend_labels)\n",
    "]\n",
    "plt.legend(handles=legend_patches, loc=\"lower right\", title=\"Land Cover Classes\")\n",
    "\n",
    "plt.show()"
   ]
  },
  {
   "cell_type": "code",
   "execution_count": 8,
   "metadata": {
    "tags": [
     "remove-cell"
    ]
   },
   "outputs": [
    {
     "data": {
      "text/html": [
       "\n",
       "            <style>\n",
       "                .geemap-dark {\n",
       "                    --jp-widgets-color: white;\n",
       "                    --jp-widgets-label-color: white;\n",
       "                    --jp-ui-font-color1: white;\n",
       "                    --jp-layout-color2: #454545;\n",
       "                    background-color: #383838;\n",
       "                }\n",
       "\n",
       "                .geemap-dark .jupyter-button {\n",
       "                    --jp-layout-color3: #383838;\n",
       "                }\n",
       "\n",
       "                .geemap-colab {\n",
       "                    background-color: var(--colab-primary-surface-color, white);\n",
       "                }\n",
       "\n",
       "                .geemap-colab .jupyter-button {\n",
       "                    --jp-layout-color3: var(--colab-primary-surface-color, white);\n",
       "                }\n",
       "            </style>\n",
       "            "
      ],
      "text/plain": [
       "<IPython.core.display.HTML object>"
      ]
     },
     "metadata": {},
     "output_type": "display_data"
    }
   ],
   "source": [
    "# MODIS Data for EVI\n",
    "start_period = ee.Date(\"2011-01-01\")\n",
    "end_period = ee.Date(\"2024-08-31\")\n",
    "\n",
    "terra = (\n",
    "    ee.ImageCollection(\"MODIS/061/MOD13Q1\")\n",
    "    .select([\"EVI\", \"SummaryQA\", \"DetailedQA\"])\n",
    "    .filterDate(start_period, end_period)\n",
    ")\n",
    "aqua = (\n",
    "    ee.ImageCollection(\"MODIS/061/MYD13Q1\")\n",
    "    .select([\"EVI\", \"SummaryQA\", \"DetailedQA\"])\n",
    "    .filterDate(start_period, end_period)\n",
    ")\n",
    "\n",
    "modis = terra.select(\"EVI\").merge(aqua.select(\"EVI\"))\n",
    "modis = modis.sort(\"system:time_start\")\n",
    "\n",
    "\n",
    "# ----------------------BITWISE MASKING---------------------------------------\n",
    "def bitwiseExtract(value, fromBit, toBit=None):\n",
    "    if toBit == None:\n",
    "        toBit = fromBit\n",
    "    maskSize = ee.Number(1).add(toBit).subtract(fromBit)\n",
    "    mask = ee.Number(1).leftShift(maskSize).subtract(1)\n",
    "    return value.rightShift(fromBit).bitwiseAnd(mask)\n",
    "\n",
    "\n",
    "# Applying the SummaryQA  and DetailedQA\n",
    "def modisQA_mask(image):\n",
    "    sqa = image.select(\"SummaryQA\")\n",
    "    dqa = image.select(\"DetailedQA\")\n",
    "    viQualityFlagsS = bitwiseExtract(sqa, 0, 1)\n",
    "    viQualityFlagsD = bitwiseExtract(dqa, 0, 1)\n",
    "    # viUsefulnessFlagsD = bitwiseExtract(dqa, 2, 5)\n",
    "    viSnowIceFlagsD = bitwiseExtract(dqa, 14)\n",
    "    viShadowFlagsD = bitwiseExtract(dqa, 15)\n",
    "    # Good data, use with confidence\n",
    "    mask = (\n",
    "        viQualityFlagsS.eq(0)\n",
    "        .And(viQualityFlagsD.eq(0))\n",
    "        .And(viQualityFlagsS.eq(1))\n",
    "        .And(viQualityFlagsD.eq(1))\n",
    "        .And(viSnowIceFlagsD)\n",
    "        .eq(0)\n",
    "    )\n",
    "    # .And(viShadowFlagsD).eq(0); # No shadow\n",
    "    return image.updateMask(mask)\n",
    "\n",
    "\n",
    "mod13q1_QC = terra.map(modisQA_mask)\n",
    "myd13q1_QC = aqua.map(modisQA_mask)\n",
    "\n",
    "mxd13q1_cleaned = mod13q1_QC.select(\"EVI\").merge(myd13q1_QC.select(\"EVI\"))\n",
    "mxd13q1_cleaned_sorted = mxd13q1_cleaned.sort(\"system:time_start\")\n",
    "\n",
    "bool_dict = {\n",
    "    \"0\": \"ocean\",\n",
    "    \"1\": \"non_crop\",\n",
    "    \"2\": \"crop_irrigated\",\n",
    "    \"3\": \"crop_rainfed\",\n",
    "}\n",
    "\n",
    "\"\"\"dea = ee.ImageCollection(\n",
    "    \"projects/sat-io/open-datasets/DEAF/CROPLAND-EXTENT/mask\"\n",
    ").mosaic()\n",
    "crop_data_dea = dea.select(\"b1\").rename(\"crop\").clip(syria_geometry)\n",
    "crop_data_viz_dea = crop_data_dea.mask(crop_data_dea.gt(0))\"\"\"\n",
    "\n",
    "worldcover = ee.Image(\"ESA/WorldCover/v200/2021\")\n",
    "cropland_mask = worldcover.eq(40).rename(\"crop\").clip(syria_geometry)\n",
    "cropland_mask_viz = cropland_mask.mask(cropland_mask)\n",
    "\n",
    "scale_factor = 0.0001\n",
    "\n",
    "\n",
    "# apply cropland mask to imageCollection\n",
    "def cropmask(img):\n",
    "    return (\n",
    "        img.updateMask(cropland_mask).multiply(scale_factor).clip(syria_geometry)\n",
    "    )  # .multiply(scale_factor) # unmask(-1)\n",
    "\n",
    "\n",
    "mxd13q1 = mxd13q1_cleaned_sorted.map(cropmask)"
   ]
  },
  {
   "cell_type": "code",
   "execution_count": null,
   "metadata": {
    "tags": [
     "remove-cell"
    ]
   },
   "outputs": [],
   "source": [
    "\"\"\"# Define visualization parameters for the crop mask\n",
    "crop_data_viz_params = {\n",
    "    'min': 0,\n",
    "    'max': 1,\n",
    "    'palette': ['529400'] # Set the color for crop areas to green\n",
    "}\n",
    "\n",
    "# Create a Folium map centered over Sudan\n",
    "#map_center = [12.8628, 30.2176] \n",
    "map_center = [centy, centx]  # Approximate center of Sudan\n",
    "m = folium.Map(location=map_center, zoom_start=6)\n",
    "\n",
    "# Ensure there are no Timestamp objects\n",
    "for col in syr_adm1.columns:\n",
    "    if pd.api.types.is_datetime64_any_dtype(syr_adm1[col]):\n",
    "        syr_adm1[col] = syr_adm1[col].astype(str)  # Convert Timestamps to strings\n",
    "\n",
    "# Add the boundaries to Folium map with transparent fill and blue border\n",
    "folium.GeoJson(\n",
    "    syr_adm1, \n",
    "    name=\"adm2 boundaries\",\n",
    "    style_function=lambda x: {\n",
    "        'fillColor': 'gray',  # Transparent fill\n",
    "        'color': 'darkgray',  # Blue boundary color\n",
    "        'weight': 1  # Thickness of boundary lines\n",
    "    }\n",
    ").add_to(m)\n",
    "\n",
    "# Add labels for each adm2 region (district-level or equivalent)\n",
    "for _, region in syr_adm1.iterrows():\n",
    "    folium.Marker(\n",
    "        location=[region.geometry.centroid.y, region.geometry.centroid.x],  # Centroid of the region\n",
    "        popup=region['NAME_EN'],  # Column containing adm2 name (adjust if necessary)\n",
    "        icon=folium.DivIcon(html=f'<div style=\"font-size: 12px; font-weight: bold; color: brown;\">{region[\"NAME_EN\"]}</div>')\n",
    "    ).add_to(m)\n",
    "\n",
    "# Overlay the crop extent from LGRIP30 using TileLayer with Map ID\n",
    "crop_map_id = cropland_mask_viz.getMapId(crop_data_viz_params)\n",
    "folium.TileLayer(\n",
    "    tiles=crop_map_id['tile_fetcher'].url_format,\n",
    "    attr='Google Earth Engine',\n",
    "    name='ESA Worldcover Crop Extent',\n",
    "    overlay=True,\n",
    "    control=True\n",
    ").add_to(m)\n",
    "\n",
    "# Add layer control to the map (to toggle boundaries and crop extent)\n",
    "folium.LayerControl().add_to(m)\n",
    "\n",
    "# Save or display the map\n",
    "#m.save(\"sudan_crop_extent_dea_adm1.html\")\n",
    "m\"\"\""
   ]
  },
  {
   "cell_type": "code",
   "execution_count": 9,
   "metadata": {
    "tags": [
     "remove-cell"
    ]
   },
   "outputs": [
    {
     "data": {
      "text/html": [
       "\n",
       "            <style>\n",
       "                .geemap-dark {\n",
       "                    --jp-widgets-color: white;\n",
       "                    --jp-widgets-label-color: white;\n",
       "                    --jp-ui-font-color1: white;\n",
       "                    --jp-layout-color2: #454545;\n",
       "                    background-color: #383838;\n",
       "                }\n",
       "\n",
       "                .geemap-dark .jupyter-button {\n",
       "                    --jp-layout-color3: #383838;\n",
       "                }\n",
       "\n",
       "                .geemap-colab {\n",
       "                    background-color: var(--colab-primary-surface-color, white);\n",
       "                }\n",
       "\n",
       "                .geemap-colab .jupyter-button {\n",
       "                    --jp-layout-color3: var(--colab-primary-surface-color, white);\n",
       "                }\n",
       "            </style>\n",
       "            "
      ],
      "text/plain": [
       "<IPython.core.display.HTML object>"
      ]
     },
     "metadata": {},
     "output_type": "display_data"
    },
    {
     "data": {
      "application/vnd.jupyter.widget-view+json": {
       "model_id": "ad83111022d842b1aa4067459776a644",
       "version_major": 2,
       "version_minor": 0
      },
      "text/plain": [
       "Map(center=[35.00473784303624, 38.49054487731182], controls=(WidgetControl(options=['position', 'transparent_b…"
      ]
     },
     "execution_count": 9,
     "metadata": {},
     "output_type": "execute_result"
    }
   ],
   "source": [
    "# Define the time period\n",
    "start_year = 2000\n",
    "end_year = 2010\n",
    "\n",
    "# Load the MODIS Land Cover Type dataset and filter for the desired years\n",
    "modis_lc = (\n",
    "    ee.ImageCollection(\"MODIS/061/MCD12Q1\")\n",
    "    .filter(ee.Filter.calendarRange(start_year, end_year, \"year\"))\n",
    "    .filterBounds(syria_geometry)\n",
    "    .select(\"LC_Type2\")\n",
    ")  # LC_Type1 is the IGBP classification\n",
    "\n",
    "# Apply the mode reducer to get the most common land cover type for each pixel over the time period\n",
    "mode_lc_2000_2010 = modis_lc.reduce(ee.Reducer.mode()).clip(syria_geometry)\n",
    "\n",
    "# Define visualization parameters for the land cover classes\n",
    "# You can adjust the colors based on MODIS IGBP classes\n",
    "landcover_viz = {\n",
    "    \"min\": 1,\n",
    "    \"max\": 17,\n",
    "    \"palette\": [\n",
    "        \"180fbe\",\n",
    "        \"086a10\",\n",
    "        \"54a708\",\n",
    "        \"78d203\",\n",
    "        \"009900\",\n",
    "        \"c6b044\",\n",
    "        \"dcd159\",\n",
    "        \"dade48\",\n",
    "        \"fbff13\",\n",
    "        \"b6ff05\",\n",
    "        \"27ff87\",\n",
    "        \"c24f44\",\n",
    "        \"a5a5a5\",\n",
    "        \"ff6d4c\",\n",
    "        \"828188\",\n",
    "        \"f9ffa4\",\n",
    "        \"1c0dff\",\n",
    "    ],\n",
    "}\n",
    "\n",
    "legend_dict = {\n",
    "    \"Water Bodies\": \"#1c0dff\",\n",
    "    \"Evergreen Needleleaf Forests\": \"#05450a\",\n",
    "    \"Evergreen Broadleaf Forests\": \"#086a10\",\n",
    "    \"Deciduous Needleleaf Forests\": \"#54a708\",\n",
    "    \"Deciduous Broadleaf Forests\": \"#78d203\",\n",
    "    \"Mixed Forests\": \"#009900\",\n",
    "    \"Closed Shrublands\": \"#c6b044\",\n",
    "    \"Open Shrublands\": \"#dcd159\",\n",
    "    \"Woody Savannas\": \"#dade48\",\n",
    "    \"Savannas\": \"#fbff13\",\n",
    "    \"Grasslands\": \"#b6ff05\",\n",
    "    \"Permanent Wetlands\": \"#27ff87\",\n",
    "    \"Croplands\": \"#c24f44\",\n",
    "    \"Urban and Built-up Lands\": \"#a5a5a5\",\n",
    "    \"Cropland/Natural Vegetation Mosaics\": \"#ff6d4c\",\n",
    "    \"Non-Vegetated Lands\": \"#f9ffa4\",\n",
    "}\n",
    "\n",
    "# Create a map centered on your region of interest (e.g., Syria)\n",
    "Map = geemap.Map()\n",
    "Map.centerObject(\n",
    "    ee.Geometry.Point([centx, centy]), 6\n",
    ")  # Center on Syria, adjust as needed\n",
    "\n",
    "# Add the mode land cover layer to the map\n",
    "Map.addLayer(mode_lc_2000_2010, landcover_viz, \"Mode Land Cover (2000-2010)\")\n",
    "\n",
    "# Add a legend to the map\n",
    "Map.add_legend(title=\"Land Cover Types (2000-2010)\", legend_dict=legend_dict)\n",
    "\n",
    "# Display the map\n",
    "Map"
   ]
  },
  {
   "cell_type": "code",
   "execution_count": 10,
   "metadata": {
    "tags": [
     "remove-cell"
    ]
   },
   "outputs": [
    {
     "data": {
      "text/html": [
       "\n",
       "            <style>\n",
       "                .geemap-dark {\n",
       "                    --jp-widgets-color: white;\n",
       "                    --jp-widgets-label-color: white;\n",
       "                    --jp-ui-font-color1: white;\n",
       "                    --jp-layout-color2: #454545;\n",
       "                    background-color: #383838;\n",
       "                }\n",
       "\n",
       "                .geemap-dark .jupyter-button {\n",
       "                    --jp-layout-color3: #383838;\n",
       "                }\n",
       "\n",
       "                .geemap-colab {\n",
       "                    background-color: var(--colab-primary-surface-color, white);\n",
       "                }\n",
       "\n",
       "                .geemap-colab .jupyter-button {\n",
       "                    --jp-layout-color3: var(--colab-primary-surface-color, white);\n",
       "                }\n",
       "            </style>\n",
       "            "
      ],
      "text/plain": [
       "<IPython.core.display.HTML object>"
      ]
     },
     "metadata": {},
     "output_type": "display_data"
    },
    {
     "data": {
      "application/vnd.jupyter.widget-view+json": {
       "model_id": "3a12757bacf34747b7be80806d65254c",
       "version_major": 2,
       "version_minor": 0
      },
      "text/plain": [
       "Map(center=[35.00473784303624, 38.49054487731182], controls=(WidgetControl(options=['position', 'transparent_b…"
      ]
     },
     "execution_count": 10,
     "metadata": {},
     "output_type": "execute_result"
    }
   ],
   "source": [
    "# Define the time period\n",
    "start_year = 2011\n",
    "end_year = 2015\n",
    "\n",
    "# Load the MODIS Land Cover Type dataset and filter for the desired years\n",
    "modis_lc = (\n",
    "    ee.ImageCollection(\"MODIS/061/MCD12Q1\")\n",
    "    .filter(ee.Filter.calendarRange(start_year, end_year, \"year\"))\n",
    "    .filterBounds(syria_geometry)\n",
    "    .select(\"LC_Type2\")\n",
    ")  # LC_Type1 is the IGBP classification\n",
    "\n",
    "# Apply the mode reducer to get the most common land cover type for each pixel over the time period\n",
    "mode_lc_2011_2015 = modis_lc.reduce(ee.Reducer.mode()).clip(syria_geometry)\n",
    "\n",
    "# Define visualization parameters for the land cover classes\n",
    "# You can adjust the colors based on MODIS IGBP classes\n",
    "landcover_viz = {\n",
    "    \"min\": 1,\n",
    "    \"max\": 17,\n",
    "    \"palette\": [\n",
    "        \"180fbe\",\n",
    "        \"086a10\",\n",
    "        \"54a708\",\n",
    "        \"78d203\",\n",
    "        \"009900\",\n",
    "        \"c6b044\",\n",
    "        \"dcd159\",\n",
    "        \"dade48\",\n",
    "        \"fbff13\",\n",
    "        \"b6ff05\",\n",
    "        \"27ff87\",\n",
    "        \"c24f44\",\n",
    "        \"a5a5a5\",\n",
    "        \"ff6d4c\",\n",
    "        \"828188\",\n",
    "        \"f9ffa4\",\n",
    "        \"1c0dff\",\n",
    "    ],\n",
    "}\n",
    "\n",
    "legend_dict = {\n",
    "    \"Water Bodies\": \"#1c0dff\",\n",
    "    \"Evergreen Needleleaf Forests\": \"#05450a\",\n",
    "    \"Evergreen Broadleaf Forests\": \"#086a10\",\n",
    "    \"Deciduous Needleleaf Forests\": \"#54a708\",\n",
    "    \"Deciduous Broadleaf Forests\": \"#78d203\",\n",
    "    \"Mixed Forests\": \"#009900\",\n",
    "    \"Closed Shrublands\": \"#c6b044\",\n",
    "    \"Open Shrublands\": \"#dcd159\",\n",
    "    \"Woody Savannas\": \"#dade48\",\n",
    "    \"Savannas\": \"#fbff13\",\n",
    "    \"Grasslands\": \"#b6ff05\",\n",
    "    \"Permanent Wetlands\": \"#27ff87\",\n",
    "    \"Croplands\": \"#c24f44\",\n",
    "    \"Urban and Built-up Lands\": \"#a5a5a5\",\n",
    "    \"Cropland/Natural Vegetation Mosaics\": \"#ff6d4c\",\n",
    "    \"Non-Vegetated Lands\": \"#f9ffa4\",\n",
    "}\n",
    "\n",
    "# Create a map centered on your region of interest (e.g., Syria)\n",
    "Map = geemap.Map()\n",
    "Map.centerObject(\n",
    "    ee.Geometry.Point([centx, centy]), 6\n",
    ")  # Center on Syria, adjust as needed\n",
    "\n",
    "# Add the mode land cover layer to the map\n",
    "Map.addLayer(mode_lc_2011_2015, landcover_viz, \"Mode Land Cover (2000-2010)\")\n",
    "\n",
    "# Add a legend to the map\n",
    "Map.add_legend(title=\"Land Cover Types (2000-2010)\", legend_dict=legend_dict)\n",
    "\n",
    "# Display the map\n",
    "Map"
   ]
  },
  {
   "cell_type": "code",
   "execution_count": null,
   "metadata": {
    "tags": [
     "remove-cell"
    ]
   },
   "outputs": [
    {
     "data": {
      "text/html": [
       "\n",
       "            <style>\n",
       "                .geemap-dark {\n",
       "                    --jp-widgets-color: white;\n",
       "                    --jp-widgets-label-color: white;\n",
       "                    --jp-ui-font-color1: white;\n",
       "                    --jp-layout-color2: #454545;\n",
       "                    background-color: #383838;\n",
       "                }\n",
       "\n",
       "                .geemap-dark .jupyter-button {\n",
       "                    --jp-layout-color3: #383838;\n",
       "                }\n",
       "\n",
       "                .geemap-colab {\n",
       "                    background-color: var(--colab-primary-surface-color, white);\n",
       "                }\n",
       "\n",
       "                .geemap-colab .jupyter-button {\n",
       "                    --jp-layout-color3: var(--colab-primary-surface-color, white);\n",
       "                }\n",
       "            </style>\n",
       "            "
      ],
      "text/plain": [
       "<IPython.core.display.HTML object>"
      ]
     },
     "metadata": {},
     "output_type": "display_data"
    }
   ],
   "source": [
    "\"\"\"task_2000_2010 = ee.batch.Export.image.toDrive(\n",
    "    image=mode_lc_2000_2010,\n",
    "    description='LandCoverMode_2000_2010',\n",
    "    folder='EarthEngineExports',  # Optional: specify the Google Drive folder\n",
    "    scale=500,  # Resolution in meters\n",
    "    region=syria_geometry,\n",
    "    fileFormat='GeoTIFF',\n",
    "    maxPixels=1e13  # Increase if your region is large\n",
    ")\n",
    "\n",
    "task_2011_2015 = ee.batch.Export.image.toDrive(\n",
    "    image=mode_lc_2011_2015,\n",
    "    description='LandCoverMode_2011_2015',\n",
    "    folder='EarthEngineExports',  # Optional: specify the Google Drive folder\n",
    "    scale=500,  # Resolution in meters\n",
    "    region=syria_geometry,\n",
    "    fileFormat='GeoTIFF',\n",
    "    maxPixels=1e13  # Increase if your region is large\n",
    ")\n",
    "\n",
    "task_2000_2010.start()\n",
    "task_2011_2015.start()\"\"\""
   ]
  },
  {
   "cell_type": "markdown",
   "metadata": {},
   "source": [
    "## Cropland Area Yearly Trends"
   ]
  },
  {
   "cell_type": "markdown",
   "metadata": {},
   "source": [
    "\n",
    "::::{tab-set}\n",
    ":::{tab-item} MODIS 2001 - 2015\n",
    "![cropland_change_2024.png](../../docs/images/agriculture/cropland_area_MODIS_yearly_2001_2015.png)\n",
    ":::\n",
    ":::{tab-item} DW 2016-2024\n",
    "![cropland_change_2023.png](../../docs/images/agriculture/cropland_area_DW_yearly_2016_2024.png)\n",
    "::::"
   ]
  },
  {
   "cell_type": "markdown",
   "metadata": {},
   "source": [
    "## Cropland Area change Map"
   ]
  },
  {
   "cell_type": "markdown",
   "metadata": {},
   "source": [
    "### Methodology\n",
    "\n",
    "1. **Data Filtering and Preparation:** The **Dynamic World dataset**  and (MODIS for 2010-2011 map) is filtered for the study area (Syria) and two time periods (2016 and 2023/2024). Binary mosaics are created for each period to isolate the cropland class (`label == 4`). The comparison is made from 2016 since this dataset is available from June 2015. \n",
    "\n",
    "2. **Change Detection:** Cropland **gain** (areas transitioning from non-cropland to cropland) and **loss** (areas transitioning from cropland to non-cropland) are identified by comparing the 2016 and 2023/2024 cropland layers.\n",
    "\n",
    "3. **Combined Change Layer:** The gain and loss layers are merged into a single raster image, where pixel values represent cropland gain (`1`), loss (`2`), or no change (`0`).\n",
    "\n",
    "4. **Visualization and Interpretation:** The combined change layer is visualized on a map using a color-coded palette (black for no change, green for gain, red for loss), along with a legend and annotations for easy interpretation of cropland dynamics."
   ]
  },
  {
   "cell_type": "markdown",
   "metadata": {},
   "source": [
    "::::{tab-set}\n",
    ":::{tab-item} MODIS 2010 - 2011\n",
    "![cropland_change_2024.png](../../docs/images/agriculture/lulc_2011_modis_2.png)\n",
    ":::\n",
    ":::{tab-item} DW landcover 2016-2023\n",
    "![cropland_change_2024.png](../../docs/images/agriculture/lulc_2016_2023_dw3.png)\n",
    ":::\n",
    ":::{tab-item} DW landcover 2016-2024\n",
    "![cropland_change_2023.png](../../docs/images/agriculture/lulc_2016_2024_dw3.png)\n",
    ":::\n",
    "::::"
   ]
  },
  {
   "cell_type": "code",
   "execution_count": 14,
   "metadata": {
    "tags": [
     "remove-cell"
    ]
   },
   "outputs": [
    {
     "data": {
      "text/html": [
       "\n",
       "            <style>\n",
       "                .geemap-dark {\n",
       "                    --jp-widgets-color: white;\n",
       "                    --jp-widgets-label-color: white;\n",
       "                    --jp-ui-font-color1: white;\n",
       "                    --jp-layout-color2: #454545;\n",
       "                    background-color: #383838;\n",
       "                }\n",
       "\n",
       "                .geemap-dark .jupyter-button {\n",
       "                    --jp-layout-color3: #383838;\n",
       "                }\n",
       "\n",
       "                .geemap-colab {\n",
       "                    background-color: var(--colab-primary-surface-color, white);\n",
       "                }\n",
       "\n",
       "                .geemap-colab .jupyter-button {\n",
       "                    --jp-layout-color3: var(--colab-primary-surface-color, white);\n",
       "                }\n",
       "            </style>\n",
       "            "
      ],
      "text/plain": [
       "<IPython.core.display.HTML object>"
      ]
     },
     "metadata": {},
     "output_type": "display_data"
    },
    {
     "name": "stdout",
     "output_type": "stream",
     "text": [
      "Cropland Area in 2001: 4621817.34 hectares\n",
      "Cropland Area in 2002: 4339727.83 hectares\n",
      "Cropland Area in 2003: 4461445.32 hectares\n",
      "Cropland Area in 2004: 4462907.96 hectares\n",
      "Cropland Area in 2005: 4178247.82 hectares\n",
      "Cropland Area in 2006: 4091388.74 hectares\n",
      "Cropland Area in 2007: 3934593.12 hectares\n",
      "Cropland Area in 2008: 3562969.73 hectares\n",
      "Cropland Area in 2009: 3660251.26 hectares\n",
      "Cropland Area in 2010: 4000909.83 hectares\n",
      "Cropland Area in 2011: 3793919.97 hectares\n",
      "Cropland Area in 2012: 3638987.61 hectares\n",
      "Cropland Area in 2013: 4013743.13 hectares\n",
      "Cropland Area in 2014: 3864521.17 hectares\n",
      "Cropland Area in 2015: 4215261.28 hectares\n"
     ]
    },
    {
     "data": {
      "image/png": "[encoded data removed]",
      "text/plain": [
       "<Figure size 1000x600 with 1 Axes>"
      ]
     },
     "metadata": {},
     "output_type": "display_data"
    }
   ],
   "source": [
    "# Function to calculate cropland area for a specific year\n",
    "# Define a function to get cropland area for a specific year\n",
    "import seaborn as sns\n",
    "\n",
    "# Set a seaborn style\n",
    "sns.set_theme(style=\"whitegrid\")\n",
    "\n",
    "\n",
    "def get_cropland_area(year):\n",
    "    # Load MODIS Land Cover dataset for the specified year\n",
    "    modis_lc = (\n",
    "        ee.ImageCollection(\"MODIS/061/MCD12Q1\")\n",
    "        .filter(ee.Filter.calendarRange(year, year, \"year\"))\n",
    "        .select(\"LC_Type2\")\n",
    "        .mosaic()\n",
    "    )\n",
    "\n",
    "    # Check if the image exists\n",
    "    if modis_lc is None:\n",
    "        raise ValueError(f\"No land cover data found for the year {year}.\")\n",
    "\n",
    "    # Isolate cropland class (class 12 in MODIS IGBP classification)\n",
    "    cropland = modis_lc.eq(12).clip(syria_geometry)\n",
    "\n",
    "    # Calculate the area of cropland in square meters\n",
    "    pixel_area = cropland.multiply(ee.Image.pixelArea())\n",
    "    cropland_area = pixel_area.reduceRegion(\n",
    "        reducer=ee.Reducer.sum(),\n",
    "        geometry=syria_geometry,\n",
    "        scale=500,  # MODIS resolution is 500 meters\n",
    "        maxPixels=1e13,\n",
    "    )\n",
    "\n",
    "    # Extract the result from the dictionary and return it\n",
    "    cropland_area_value = cropland_area.getInfo().get(\"LC_Type2\") / 10000.0\n",
    "    return cropland_area_value\n",
    "\n",
    "\n",
    "# Years to calculate cropland areas (every 5th year from 2000 to 2022)\n",
    "years = list(range(2001, 2016, 1))\n",
    "\n",
    "# Calculate cropland areas for each year\n",
    "cropland_areas = []\n",
    "for year in years:\n",
    "    try:\n",
    "        area = get_cropland_area(year)\n",
    "        cropland_areas.append(area)\n",
    "        print(f\"Cropland Area in {year}: {area:.2f} hectares\")\n",
    "    except Exception as e:\n",
    "        print(f\"Error calculating cropland area for {year}: {e}\")\n",
    "        cropland_areas.append(0)\n",
    "\n",
    "# Plot the cropland areas\n",
    "plt.figure(figsize=(10, 6))\n",
    "plt.plot(years, cropland_areas, linestyle=\"-\", color=\"green\")\n",
    "plt.title(\"Cropland Area Over Time (2001-2015)\", fontsize=16)\n",
    "plt.xlabel(\"Year\", fontsize=14)\n",
    "plt.ylabel(\"Cropland Area (hectares)\", fontsize=14)\n",
    "# Customize legend\n",
    "# plt.legend(title=\"State\", loc=\"upper right\", fontsize=12, title_fontsize=13)\n",
    "# Add gridlines\n",
    "plt.grid(visible=True, which=\"both\", color=\"lightgray\", linestyle=\"--\", linewidth=0.5)\n",
    "# plt.ylim(2.0,5.0)\n",
    "# plt.grid(True)\n",
    "plt.xticks(years)\n",
    "# Remove all spines (plot boundaries)\n",
    "plt.gca().spines[\"top\"].set_visible(False)\n",
    "plt.gca().spines[\"right\"].set_visible(False)\n",
    "plt.gca().spines[\"left\"].set_visible(False)\n",
    "plt.gca().spines[\"bottom\"].set_visible(False)\n",
    "# plt.ylim(3.4, 4.8)\n",
    "plt.tight_layout()\n",
    "plt.show()"
   ]
  },
  {
   "cell_type": "code",
   "execution_count": 39,
   "metadata": {
    "tags": [
     "remove-cell"
    ]
   },
   "outputs": [
    {
     "data": {
      "text/html": [
       "\n",
       "            <style>\n",
       "                .geemap-dark {\n",
       "                    --jp-widgets-color: white;\n",
       "                    --jp-widgets-label-color: white;\n",
       "                    --jp-ui-font-color1: white;\n",
       "                    --jp-layout-color2: #454545;\n",
       "                    background-color: #383838;\n",
       "                }\n",
       "\n",
       "                .geemap-dark .jupyter-button {\n",
       "                    --jp-layout-color3: #383838;\n",
       "                }\n",
       "\n",
       "                .geemap-colab {\n",
       "                    background-color: var(--colab-primary-surface-color, white);\n",
       "                }\n",
       "\n",
       "                .geemap-colab .jupyter-button {\n",
       "                    --jp-layout-color3: var(--colab-primary-surface-color, white);\n",
       "                }\n",
       "            </style>\n",
       "            "
      ],
      "text/plain": [
       "<IPython.core.display.HTML object>"
      ]
     },
     "metadata": {},
     "output_type": "display_data"
    },
    {
     "name": "stdout",
     "output_type": "stream",
     "text": [
      "{'label': 41133451671.701004}\n",
      "Cropland Area in 2016: 4113345.17 hectares\n",
      "{'label': 18857707489.95514}\n",
      "Cropland Area in 2017: 1885770.75 hectares\n",
      "{'label': 61130716681.436356}\n",
      "Cropland Area in 2018: 6113071.67 hectares\n",
      "{'label': 48828944115.243324}\n",
      "Cropland Area in 2019: 4882894.41 hectares\n",
      "{'label': 45162103731.722855}\n",
      "Cropland Area in 2020: 4516210.37 hectares\n",
      "{'label': 37204931176.16995}\n",
      "Cropland Area in 2021: 3720493.12 hectares\n",
      "{'label': 49132117959.633865}\n"
     ]
    },
    {
     "ename": "KeyboardInterrupt",
     "evalue": "",
     "output_type": "error",
     "traceback": [
      "\u001b[1;31m---------------------------------------------------------------------------\u001b[0m",
      "\u001b[1;31mKeyboardInterrupt\u001b[0m                         Traceback (most recent call last)",
      "Cell \u001b[1;32mIn[39], line 47\u001b[0m\n\u001b[0;32m     45\u001b[0m \u001b[38;5;28;01mfor\u001b[39;00m year \u001b[38;5;129;01min\u001b[39;00m years:\n\u001b[0;32m     46\u001b[0m     \u001b[38;5;28;01mtry\u001b[39;00m:\n\u001b[1;32m---> 47\u001b[0m         area \u001b[38;5;241m=\u001b[39m \u001b[43mget_cropland_area\u001b[49m\u001b[43m(\u001b[49m\u001b[43myear\u001b[49m\u001b[43m)\u001b[49m\n\u001b[0;32m     48\u001b[0m         cropland_areas\u001b[38;5;241m.\u001b[39mappend(area)\n\u001b[0;32m     49\u001b[0m         \u001b[38;5;28mprint\u001b[39m(\u001b[38;5;124mf\u001b[39m\u001b[38;5;124m\"\u001b[39m\u001b[38;5;124mCropland Area in \u001b[39m\u001b[38;5;132;01m{\u001b[39;00myear\u001b[38;5;132;01m}\u001b[39;00m\u001b[38;5;124m: \u001b[39m\u001b[38;5;132;01m{\u001b[39;00marea\u001b[38;5;132;01m:\u001b[39;00m\u001b[38;5;124m.2f\u001b[39m\u001b[38;5;132;01m}\u001b[39;00m\u001b[38;5;124m hectares\u001b[39m\u001b[38;5;124m\"\u001b[39m)\n",
      "Cell \u001b[1;32mIn[39], line 36\u001b[0m, in \u001b[0;36mget_cropland_area\u001b[1;34m(year)\u001b[0m\n\u001b[0;32m     34\u001b[0m \u001b[38;5;28mprint\u001b[39m(cropland_area\u001b[38;5;241m.\u001b[39mgetInfo())\n\u001b[0;32m     35\u001b[0m \u001b[38;5;66;03m# Extract the result from the dictionary and return it\u001b[39;00m\n\u001b[1;32m---> 36\u001b[0m cropland_area_value \u001b[38;5;241m=\u001b[39m \u001b[43mcropland_area\u001b[49m\u001b[38;5;241;43m.\u001b[39;49m\u001b[43mgetInfo\u001b[49m\u001b[43m(\u001b[49m\u001b[43m)\u001b[49m\u001b[38;5;241m.\u001b[39mget(\u001b[38;5;124m\"\u001b[39m\u001b[38;5;124mlabel\u001b[39m\u001b[38;5;124m\"\u001b[39m)\u001b[38;5;241m/\u001b[39m\u001b[38;5;241m10000.0\u001b[39m\n\u001b[0;32m     37\u001b[0m \u001b[38;5;28;01mreturn\u001b[39;00m cropland_area_value\n",
      "File \u001b[1;32mc:\\Users\\ishaa\\anaconda3\\Anaconda\\envs\\GIS\\lib\\site-packages\\ee\\computedobject.py:107\u001b[0m, in \u001b[0;36mComputedObject.getInfo\u001b[1;34m(self)\u001b[0m\n\u001b[0;32m    101\u001b[0m \u001b[38;5;28;01mdef\u001b[39;00m \u001b[38;5;21mgetInfo\u001b[39m(\u001b[38;5;28mself\u001b[39m) \u001b[38;5;241m-\u001b[39m\u001b[38;5;241m>\u001b[39m Optional[Any]:\n\u001b[0;32m    102\u001b[0m \u001b[38;5;250m  \u001b[39m\u001b[38;5;124;03m\"\"\"Fetch and return information about this object.\u001b[39;00m\n\u001b[0;32m    103\u001b[0m \n\u001b[0;32m    104\u001b[0m \u001b[38;5;124;03m  Returns:\u001b[39;00m\n\u001b[0;32m    105\u001b[0m \u001b[38;5;124;03m    The object can evaluate to anything.\u001b[39;00m\n\u001b[0;32m    106\u001b[0m \u001b[38;5;124;03m  \"\"\"\u001b[39;00m\n\u001b[1;32m--> 107\u001b[0m   \u001b[38;5;28;01mreturn\u001b[39;00m \u001b[43mdata\u001b[49m\u001b[38;5;241;43m.\u001b[39;49m\u001b[43mcomputeValue\u001b[49m\u001b[43m(\u001b[49m\u001b[38;5;28;43mself\u001b[39;49m\u001b[43m)\u001b[49m\n",
      "File \u001b[1;32mc:\\Users\\ishaa\\anaconda3\\Anaconda\\envs\\GIS\\lib\\site-packages\\ee\\data.py:1126\u001b[0m, in \u001b[0;36mcomputeValue\u001b[1;34m(obj)\u001b[0m\n\u001b[0;32m   1123\u001b[0m body \u001b[38;5;241m=\u001b[39m {\u001b[38;5;124m'\u001b[39m\u001b[38;5;124mexpression\u001b[39m\u001b[38;5;124m'\u001b[39m: serializer\u001b[38;5;241m.\u001b[39mencode(obj, for_cloud_api\u001b[38;5;241m=\u001b[39m\u001b[38;5;28;01mTrue\u001b[39;00m)}\n\u001b[0;32m   1124\u001b[0m _maybe_populate_workload_tag(body)\n\u001b[1;32m-> 1126\u001b[0m \u001b[38;5;28;01mreturn\u001b[39;00m \u001b[43m_execute_cloud_call\u001b[49m\u001b[43m(\u001b[49m\n\u001b[0;32m   1127\u001b[0m \u001b[43m    \u001b[49m\u001b[43m_get_cloud_projects\u001b[49m\u001b[43m(\u001b[49m\u001b[43m)\u001b[49m\n\u001b[0;32m   1128\u001b[0m \u001b[43m    \u001b[49m\u001b[38;5;241;43m.\u001b[39;49m\u001b[43mvalue\u001b[49m\u001b[43m(\u001b[49m\u001b[43m)\u001b[49m\n\u001b[0;32m   1129\u001b[0m \u001b[43m    \u001b[49m\u001b[38;5;241;43m.\u001b[39;49m\u001b[43mcompute\u001b[49m\u001b[43m(\u001b[49m\u001b[43mbody\u001b[49m\u001b[38;5;241;43m=\u001b[39;49m\u001b[43mbody\u001b[49m\u001b[43m,\u001b[49m\u001b[43m \u001b[49m\u001b[43mproject\u001b[49m\u001b[38;5;241;43m=\u001b[39;49m\u001b[43m_get_projects_path\u001b[49m\u001b[43m(\u001b[49m\u001b[43m)\u001b[49m\u001b[43m,\u001b[49m\u001b[43m \u001b[49m\u001b[43mprettyPrint\u001b[49m\u001b[38;5;241;43m=\u001b[39;49m\u001b[38;5;28;43;01mFalse\u001b[39;49;00m\u001b[43m)\u001b[49m\n\u001b[0;32m   1130\u001b[0m \u001b[43m\u001b[49m\u001b[43m)\u001b[49m[\u001b[38;5;124m'\u001b[39m\u001b[38;5;124mresult\u001b[39m\u001b[38;5;124m'\u001b[39m]\n",
      "File \u001b[1;32mc:\\Users\\ishaa\\anaconda3\\Anaconda\\envs\\GIS\\lib\\site-packages\\ee\\data.py:406\u001b[0m, in \u001b[0;36m_execute_cloud_call\u001b[1;34m(call, num_retries)\u001b[0m\n\u001b[0;32m    404\u001b[0m num_retries \u001b[38;5;241m=\u001b[39m _max_retries \u001b[38;5;28;01mif\u001b[39;00m num_retries \u001b[38;5;129;01mis\u001b[39;00m \u001b[38;5;28;01mNone\u001b[39;00m \u001b[38;5;28;01melse\u001b[39;00m num_retries\n\u001b[0;32m    405\u001b[0m \u001b[38;5;28;01mtry\u001b[39;00m:\n\u001b[1;32m--> 406\u001b[0m   \u001b[38;5;28;01mreturn\u001b[39;00m \u001b[43mcall\u001b[49m\u001b[38;5;241;43m.\u001b[39;49m\u001b[43mexecute\u001b[49m\u001b[43m(\u001b[49m\u001b[43mnum_retries\u001b[49m\u001b[38;5;241;43m=\u001b[39;49m\u001b[43mnum_retries\u001b[49m\u001b[43m)\u001b[49m\n\u001b[0;32m    407\u001b[0m \u001b[38;5;28;01mexcept\u001b[39;00m googleapiclient\u001b[38;5;241m.\u001b[39merrors\u001b[38;5;241m.\u001b[39mHttpError \u001b[38;5;28;01mas\u001b[39;00m e:\n\u001b[0;32m    408\u001b[0m   \u001b[38;5;28;01mraise\u001b[39;00m _translate_cloud_exception(e)\n",
      "File \u001b[1;32mc:\\Users\\ishaa\\anaconda3\\Anaconda\\envs\\GIS\\lib\\site-packages\\googleapiclient\\_helpers.py:130\u001b[0m, in \u001b[0;36mpositional.<locals>.positional_decorator.<locals>.positional_wrapper\u001b[1;34m(*args, **kwargs)\u001b[0m\n\u001b[0;32m    128\u001b[0m     \u001b[38;5;28;01melif\u001b[39;00m positional_parameters_enforcement \u001b[38;5;241m==\u001b[39m POSITIONAL_WARNING:\n\u001b[0;32m    129\u001b[0m         logger\u001b[38;5;241m.\u001b[39mwarning(message)\n\u001b[1;32m--> 130\u001b[0m \u001b[38;5;28;01mreturn\u001b[39;00m wrapped(\u001b[38;5;241m*\u001b[39margs, \u001b[38;5;241m*\u001b[39m\u001b[38;5;241m*\u001b[39mkwargs)\n",
      "File \u001b[1;32mc:\\Users\\ishaa\\anaconda3\\Anaconda\\envs\\GIS\\lib\\site-packages\\googleapiclient\\http.py:923\u001b[0m, in \u001b[0;36mHttpRequest.execute\u001b[1;34m(self, http, num_retries)\u001b[0m\n\u001b[0;32m    920\u001b[0m     \u001b[38;5;28mself\u001b[39m\u001b[38;5;241m.\u001b[39mheaders[\u001b[38;5;124m\"\u001b[39m\u001b[38;5;124mcontent-length\u001b[39m\u001b[38;5;124m\"\u001b[39m] \u001b[38;5;241m=\u001b[39m \u001b[38;5;28mstr\u001b[39m(\u001b[38;5;28mlen\u001b[39m(\u001b[38;5;28mself\u001b[39m\u001b[38;5;241m.\u001b[39mbody))\n\u001b[0;32m    922\u001b[0m \u001b[38;5;66;03m# Handle retries for server-side errors.\u001b[39;00m\n\u001b[1;32m--> 923\u001b[0m resp, content \u001b[38;5;241m=\u001b[39m \u001b[43m_retry_request\u001b[49m\u001b[43m(\u001b[49m\n\u001b[0;32m    924\u001b[0m \u001b[43m    \u001b[49m\u001b[43mhttp\u001b[49m\u001b[43m,\u001b[49m\n\u001b[0;32m    925\u001b[0m \u001b[43m    \u001b[49m\u001b[43mnum_retries\u001b[49m\u001b[43m,\u001b[49m\n\u001b[0;32m    926\u001b[0m \u001b[43m    \u001b[49m\u001b[38;5;124;43m\"\u001b[39;49m\u001b[38;5;124;43mrequest\u001b[39;49m\u001b[38;5;124;43m\"\u001b[39;49m\u001b[43m,\u001b[49m\n\u001b[0;32m    927\u001b[0m \u001b[43m    \u001b[49m\u001b[38;5;28;43mself\u001b[39;49m\u001b[38;5;241;43m.\u001b[39;49m\u001b[43m_sleep\u001b[49m\u001b[43m,\u001b[49m\n\u001b[0;32m    928\u001b[0m \u001b[43m    \u001b[49m\u001b[38;5;28;43mself\u001b[39;49m\u001b[38;5;241;43m.\u001b[39;49m\u001b[43m_rand\u001b[49m\u001b[43m,\u001b[49m\n\u001b[0;32m    929\u001b[0m \u001b[43m    \u001b[49m\u001b[38;5;28;43mstr\u001b[39;49m\u001b[43m(\u001b[49m\u001b[38;5;28;43mself\u001b[39;49m\u001b[38;5;241;43m.\u001b[39;49m\u001b[43muri\u001b[49m\u001b[43m)\u001b[49m\u001b[43m,\u001b[49m\n\u001b[0;32m    930\u001b[0m \u001b[43m    \u001b[49m\u001b[43mmethod\u001b[49m\u001b[38;5;241;43m=\u001b[39;49m\u001b[38;5;28;43mstr\u001b[39;49m\u001b[43m(\u001b[49m\u001b[38;5;28;43mself\u001b[39;49m\u001b[38;5;241;43m.\u001b[39;49m\u001b[43mmethod\u001b[49m\u001b[43m)\u001b[49m\u001b[43m,\u001b[49m\n\u001b[0;32m    931\u001b[0m \u001b[43m    \u001b[49m\u001b[43mbody\u001b[49m\u001b[38;5;241;43m=\u001b[39;49m\u001b[38;5;28;43mself\u001b[39;49m\u001b[38;5;241;43m.\u001b[39;49m\u001b[43mbody\u001b[49m\u001b[43m,\u001b[49m\n\u001b[0;32m    932\u001b[0m \u001b[43m    \u001b[49m\u001b[43mheaders\u001b[49m\u001b[38;5;241;43m=\u001b[39;49m\u001b[38;5;28;43mself\u001b[39;49m\u001b[38;5;241;43m.\u001b[39;49m\u001b[43mheaders\u001b[49m\u001b[43m,\u001b[49m\n\u001b[0;32m    933\u001b[0m \u001b[43m\u001b[49m\u001b[43m)\u001b[49m\n\u001b[0;32m    935\u001b[0m \u001b[38;5;28;01mfor\u001b[39;00m callback \u001b[38;5;129;01min\u001b[39;00m \u001b[38;5;28mself\u001b[39m\u001b[38;5;241m.\u001b[39mresponse_callbacks:\n\u001b[0;32m    936\u001b[0m     callback(resp)\n",
      "File \u001b[1;32mc:\\Users\\ishaa\\anaconda3\\Anaconda\\envs\\GIS\\lib\\site-packages\\googleapiclient\\http.py:191\u001b[0m, in \u001b[0;36m_retry_request\u001b[1;34m(http, num_retries, req_type, sleep, rand, uri, method, *args, **kwargs)\u001b[0m\n\u001b[0;32m    189\u001b[0m \u001b[38;5;28;01mtry\u001b[39;00m:\n\u001b[0;32m    190\u001b[0m     exception \u001b[38;5;241m=\u001b[39m \u001b[38;5;28;01mNone\u001b[39;00m\n\u001b[1;32m--> 191\u001b[0m     resp, content \u001b[38;5;241m=\u001b[39m http\u001b[38;5;241m.\u001b[39mrequest(uri, method, \u001b[38;5;241m*\u001b[39margs, \u001b[38;5;241m*\u001b[39m\u001b[38;5;241m*\u001b[39mkwargs)\n\u001b[0;32m    192\u001b[0m \u001b[38;5;66;03m# Retry on SSL errors and socket timeout errors.\u001b[39;00m\n\u001b[0;32m    193\u001b[0m \u001b[38;5;28;01mexcept\u001b[39;00m _ssl_SSLError \u001b[38;5;28;01mas\u001b[39;00m ssl_error:\n",
      "File \u001b[1;32mc:\\Users\\ishaa\\anaconda3\\Anaconda\\envs\\GIS\\lib\\site-packages\\google_auth_httplib2.py:218\u001b[0m, in \u001b[0;36mAuthorizedHttp.request\u001b[1;34m(self, uri, method, body, headers, redirections, connection_type, **kwargs)\u001b[0m\n\u001b[0;32m    215\u001b[0m     body_stream_position \u001b[38;5;241m=\u001b[39m body\u001b[38;5;241m.\u001b[39mtell()\n\u001b[0;32m    217\u001b[0m \u001b[38;5;66;03m# Make the request.\u001b[39;00m\n\u001b[1;32m--> 218\u001b[0m response, content \u001b[38;5;241m=\u001b[39m \u001b[38;5;28mself\u001b[39m\u001b[38;5;241m.\u001b[39mhttp\u001b[38;5;241m.\u001b[39mrequest(\n\u001b[0;32m    219\u001b[0m     uri,\n\u001b[0;32m    220\u001b[0m     method,\n\u001b[0;32m    221\u001b[0m     body\u001b[38;5;241m=\u001b[39mbody,\n\u001b[0;32m    222\u001b[0m     headers\u001b[38;5;241m=\u001b[39mrequest_headers,\n\u001b[0;32m    223\u001b[0m     redirections\u001b[38;5;241m=\u001b[39mredirections,\n\u001b[0;32m    224\u001b[0m     connection_type\u001b[38;5;241m=\u001b[39mconnection_type,\n\u001b[0;32m    225\u001b[0m     \u001b[38;5;241m*\u001b[39m\u001b[38;5;241m*\u001b[39mkwargs\n\u001b[0;32m    226\u001b[0m )\n\u001b[0;32m    228\u001b[0m \u001b[38;5;66;03m# If the response indicated that the credentials needed to be\u001b[39;00m\n\u001b[0;32m    229\u001b[0m \u001b[38;5;66;03m# refreshed, then refresh the credentials and re-attempt the\u001b[39;00m\n\u001b[0;32m    230\u001b[0m \u001b[38;5;66;03m# request.\u001b[39;00m\n\u001b[0;32m    231\u001b[0m \u001b[38;5;66;03m# A stored token may expire between the time it is retrieved and\u001b[39;00m\n\u001b[0;32m    232\u001b[0m \u001b[38;5;66;03m# the time the request is made, so we may need to try twice.\u001b[39;00m\n\u001b[0;32m    233\u001b[0m \u001b[38;5;28;01mif\u001b[39;00m (\n\u001b[0;32m    234\u001b[0m     response\u001b[38;5;241m.\u001b[39mstatus \u001b[38;5;129;01min\u001b[39;00m \u001b[38;5;28mself\u001b[39m\u001b[38;5;241m.\u001b[39m_refresh_status_codes\n\u001b[0;32m    235\u001b[0m     \u001b[38;5;129;01mand\u001b[39;00m _credential_refresh_attempt \u001b[38;5;241m<\u001b[39m \u001b[38;5;28mself\u001b[39m\u001b[38;5;241m.\u001b[39m_max_refresh_attempts\n\u001b[0;32m    236\u001b[0m ):\n",
      "File \u001b[1;32mc:\\Users\\ishaa\\anaconda3\\Anaconda\\envs\\GIS\\lib\\site-packages\\ee\\_cloud_api_utils.py:70\u001b[0m, in \u001b[0;36m_Http.request\u001b[1;34m(***failed resolving arguments***)\u001b[0m\n\u001b[0;32m     63\u001b[0m \u001b[38;5;28;01mdel\u001b[39;00m redirections  \u001b[38;5;66;03m# Ignored\u001b[39;00m\n\u001b[0;32m     65\u001b[0m \u001b[38;5;28;01mtry\u001b[39;00m:\n\u001b[0;32m     66\u001b[0m   \u001b[38;5;66;03m# googleapiclient is expecting an httplib2 object, and doesn't include\u001b[39;00m\n\u001b[0;32m     67\u001b[0m   \u001b[38;5;66;03m# requests error in the list of transient errors. Therefore, transient\u001b[39;00m\n\u001b[0;32m     68\u001b[0m   \u001b[38;5;66;03m# requests errors should be converted to kinds that googleapiclient\u001b[39;00m\n\u001b[0;32m     69\u001b[0m   \u001b[38;5;66;03m# consider transient.\u001b[39;00m\n\u001b[1;32m---> 70\u001b[0m   response \u001b[38;5;241m=\u001b[39m \u001b[38;5;28;43mself\u001b[39;49m\u001b[38;5;241;43m.\u001b[39;49m\u001b[43m_session\u001b[49m\u001b[38;5;241;43m.\u001b[39;49m\u001b[43mrequest\u001b[49m\u001b[43m(\u001b[49m\n\u001b[0;32m     71\u001b[0m \u001b[43m      \u001b[49m\u001b[43mmethod\u001b[49m\u001b[43m,\u001b[49m\u001b[43m \u001b[49m\u001b[43muri\u001b[49m\u001b[43m,\u001b[49m\u001b[43m \u001b[49m\u001b[43mdata\u001b[49m\u001b[38;5;241;43m=\u001b[39;49m\u001b[43mbody\u001b[49m\u001b[43m,\u001b[49m\u001b[43m \u001b[49m\u001b[43mheaders\u001b[49m\u001b[38;5;241;43m=\u001b[39;49m\u001b[43mheaders\u001b[49m\u001b[43m,\u001b[49m\u001b[43m \u001b[49m\u001b[43mtimeout\u001b[49m\u001b[38;5;241;43m=\u001b[39;49m\u001b[38;5;28;43mself\u001b[39;49m\u001b[38;5;241;43m.\u001b[39;49m\u001b[43m_timeout\u001b[49m\n\u001b[0;32m     72\u001b[0m \u001b[43m  \u001b[49m\u001b[43m)\u001b[49m\n\u001b[0;32m     73\u001b[0m \u001b[38;5;28;01mexcept\u001b[39;00m requests\u001b[38;5;241m.\u001b[39mexceptions\u001b[38;5;241m.\u001b[39mConnectionError \u001b[38;5;28;01mas\u001b[39;00m connection_error:\n\u001b[0;32m     74\u001b[0m   \u001b[38;5;28;01mraise\u001b[39;00m \u001b[38;5;167;01mConnectionError\u001b[39;00m(connection_error) \u001b[38;5;28;01mfrom\u001b[39;00m \u001b[38;5;21;01mconnection_error\u001b[39;00m\n",
      "File \u001b[1;32mc:\\Users\\ishaa\\anaconda3\\Anaconda\\envs\\GIS\\lib\\site-packages\\requests\\sessions.py:589\u001b[0m, in \u001b[0;36mSession.request\u001b[1;34m(self, method, url, params, data, headers, cookies, files, auth, timeout, allow_redirects, proxies, hooks, stream, verify, cert, json)\u001b[0m\n\u001b[0;32m    584\u001b[0m send_kwargs \u001b[38;5;241m=\u001b[39m {\n\u001b[0;32m    585\u001b[0m     \u001b[38;5;124m\"\u001b[39m\u001b[38;5;124mtimeout\u001b[39m\u001b[38;5;124m\"\u001b[39m: timeout,\n\u001b[0;32m    586\u001b[0m     \u001b[38;5;124m\"\u001b[39m\u001b[38;5;124mallow_redirects\u001b[39m\u001b[38;5;124m\"\u001b[39m: allow_redirects,\n\u001b[0;32m    587\u001b[0m }\n\u001b[0;32m    588\u001b[0m send_kwargs\u001b[38;5;241m.\u001b[39mupdate(settings)\n\u001b[1;32m--> 589\u001b[0m resp \u001b[38;5;241m=\u001b[39m \u001b[38;5;28mself\u001b[39m\u001b[38;5;241m.\u001b[39msend(prep, \u001b[38;5;241m*\u001b[39m\u001b[38;5;241m*\u001b[39msend_kwargs)\n\u001b[0;32m    591\u001b[0m \u001b[38;5;28;01mreturn\u001b[39;00m resp\n",
      "File \u001b[1;32mc:\\Users\\ishaa\\anaconda3\\Anaconda\\envs\\GIS\\lib\\site-packages\\requests\\sessions.py:703\u001b[0m, in \u001b[0;36mSession.send\u001b[1;34m(self, request, **kwargs)\u001b[0m\n\u001b[0;32m    700\u001b[0m start \u001b[38;5;241m=\u001b[39m preferred_clock()\n\u001b[0;32m    702\u001b[0m \u001b[38;5;66;03m# Send the request\u001b[39;00m\n\u001b[1;32m--> 703\u001b[0m r \u001b[38;5;241m=\u001b[39m adapter\u001b[38;5;241m.\u001b[39msend(request, \u001b[38;5;241m*\u001b[39m\u001b[38;5;241m*\u001b[39mkwargs)\n\u001b[0;32m    705\u001b[0m \u001b[38;5;66;03m# Total elapsed time of the request (approximately)\u001b[39;00m\n\u001b[0;32m    706\u001b[0m elapsed \u001b[38;5;241m=\u001b[39m preferred_clock() \u001b[38;5;241m-\u001b[39m start\n",
      "File \u001b[1;32mc:\\Users\\ishaa\\anaconda3\\Anaconda\\envs\\GIS\\lib\\site-packages\\requests\\adapters.py:667\u001b[0m, in \u001b[0;36mHTTPAdapter.send\u001b[1;34m(self, request, stream, timeout, verify, cert, proxies)\u001b[0m\n\u001b[0;32m    664\u001b[0m     timeout \u001b[38;5;241m=\u001b[39m TimeoutSauce(connect\u001b[38;5;241m=\u001b[39mtimeout, read\u001b[38;5;241m=\u001b[39mtimeout)\n\u001b[0;32m    666\u001b[0m \u001b[38;5;28;01mtry\u001b[39;00m:\n\u001b[1;32m--> 667\u001b[0m     resp \u001b[38;5;241m=\u001b[39m \u001b[43mconn\u001b[49m\u001b[38;5;241;43m.\u001b[39;49m\u001b[43murlopen\u001b[49m\u001b[43m(\u001b[49m\n\u001b[0;32m    668\u001b[0m \u001b[43m        \u001b[49m\u001b[43mmethod\u001b[49m\u001b[38;5;241;43m=\u001b[39;49m\u001b[43mrequest\u001b[49m\u001b[38;5;241;43m.\u001b[39;49m\u001b[43mmethod\u001b[49m\u001b[43m,\u001b[49m\n\u001b[0;32m    669\u001b[0m \u001b[43m        \u001b[49m\u001b[43murl\u001b[49m\u001b[38;5;241;43m=\u001b[39;49m\u001b[43murl\u001b[49m\u001b[43m,\u001b[49m\n\u001b[0;32m    670\u001b[0m \u001b[43m        \u001b[49m\u001b[43mbody\u001b[49m\u001b[38;5;241;43m=\u001b[39;49m\u001b[43mrequest\u001b[49m\u001b[38;5;241;43m.\u001b[39;49m\u001b[43mbody\u001b[49m\u001b[43m,\u001b[49m\n\u001b[0;32m    671\u001b[0m \u001b[43m        \u001b[49m\u001b[43mheaders\u001b[49m\u001b[38;5;241;43m=\u001b[39;49m\u001b[43mrequest\u001b[49m\u001b[38;5;241;43m.\u001b[39;49m\u001b[43mheaders\u001b[49m\u001b[43m,\u001b[49m\n\u001b[0;32m    672\u001b[0m \u001b[43m        \u001b[49m\u001b[43mredirect\u001b[49m\u001b[38;5;241;43m=\u001b[39;49m\u001b[38;5;28;43;01mFalse\u001b[39;49;00m\u001b[43m,\u001b[49m\n\u001b[0;32m    673\u001b[0m \u001b[43m        \u001b[49m\u001b[43massert_same_host\u001b[49m\u001b[38;5;241;43m=\u001b[39;49m\u001b[38;5;28;43;01mFalse\u001b[39;49;00m\u001b[43m,\u001b[49m\n\u001b[0;32m    674\u001b[0m \u001b[43m        \u001b[49m\u001b[43mpreload_content\u001b[49m\u001b[38;5;241;43m=\u001b[39;49m\u001b[38;5;28;43;01mFalse\u001b[39;49;00m\u001b[43m,\u001b[49m\n\u001b[0;32m    675\u001b[0m \u001b[43m        \u001b[49m\u001b[43mdecode_content\u001b[49m\u001b[38;5;241;43m=\u001b[39;49m\u001b[38;5;28;43;01mFalse\u001b[39;49;00m\u001b[43m,\u001b[49m\n\u001b[0;32m    676\u001b[0m \u001b[43m        \u001b[49m\u001b[43mretries\u001b[49m\u001b[38;5;241;43m=\u001b[39;49m\u001b[38;5;28;43mself\u001b[39;49m\u001b[38;5;241;43m.\u001b[39;49m\u001b[43mmax_retries\u001b[49m\u001b[43m,\u001b[49m\n\u001b[0;32m    677\u001b[0m \u001b[43m        \u001b[49m\u001b[43mtimeout\u001b[49m\u001b[38;5;241;43m=\u001b[39;49m\u001b[43mtimeout\u001b[49m\u001b[43m,\u001b[49m\n\u001b[0;32m    678\u001b[0m \u001b[43m        \u001b[49m\u001b[43mchunked\u001b[49m\u001b[38;5;241;43m=\u001b[39;49m\u001b[43mchunked\u001b[49m\u001b[43m,\u001b[49m\n\u001b[0;32m    679\u001b[0m \u001b[43m    \u001b[49m\u001b[43m)\u001b[49m\n\u001b[0;32m    681\u001b[0m \u001b[38;5;28;01mexcept\u001b[39;00m (ProtocolError, \u001b[38;5;167;01mOSError\u001b[39;00m) \u001b[38;5;28;01mas\u001b[39;00m err:\n\u001b[0;32m    682\u001b[0m     \u001b[38;5;28;01mraise\u001b[39;00m \u001b[38;5;167;01mConnectionError\u001b[39;00m(err, request\u001b[38;5;241m=\u001b[39mrequest)\n",
      "File \u001b[1;32mc:\\Users\\ishaa\\anaconda3\\Anaconda\\envs\\GIS\\lib\\site-packages\\urllib3\\connectionpool.py:716\u001b[0m, in \u001b[0;36mHTTPConnectionPool.urlopen\u001b[1;34m(self, method, url, body, headers, retries, redirect, assert_same_host, timeout, pool_timeout, release_conn, chunked, body_pos, **response_kw)\u001b[0m\n\u001b[0;32m    713\u001b[0m     \u001b[38;5;28mself\u001b[39m\u001b[38;5;241m.\u001b[39m_prepare_proxy(conn)\n\u001b[0;32m    715\u001b[0m \u001b[38;5;66;03m# Make the request on the httplib connection object.\u001b[39;00m\n\u001b[1;32m--> 716\u001b[0m httplib_response \u001b[38;5;241m=\u001b[39m \u001b[38;5;28;43mself\u001b[39;49m\u001b[38;5;241;43m.\u001b[39;49m\u001b[43m_make_request\u001b[49m\u001b[43m(\u001b[49m\n\u001b[0;32m    717\u001b[0m \u001b[43m    \u001b[49m\u001b[43mconn\u001b[49m\u001b[43m,\u001b[49m\n\u001b[0;32m    718\u001b[0m \u001b[43m    \u001b[49m\u001b[43mmethod\u001b[49m\u001b[43m,\u001b[49m\n\u001b[0;32m    719\u001b[0m \u001b[43m    \u001b[49m\u001b[43murl\u001b[49m\u001b[43m,\u001b[49m\n\u001b[0;32m    720\u001b[0m \u001b[43m    \u001b[49m\u001b[43mtimeout\u001b[49m\u001b[38;5;241;43m=\u001b[39;49m\u001b[43mtimeout_obj\u001b[49m\u001b[43m,\u001b[49m\n\u001b[0;32m    721\u001b[0m \u001b[43m    \u001b[49m\u001b[43mbody\u001b[49m\u001b[38;5;241;43m=\u001b[39;49m\u001b[43mbody\u001b[49m\u001b[43m,\u001b[49m\n\u001b[0;32m    722\u001b[0m \u001b[43m    \u001b[49m\u001b[43mheaders\u001b[49m\u001b[38;5;241;43m=\u001b[39;49m\u001b[43mheaders\u001b[49m\u001b[43m,\u001b[49m\n\u001b[0;32m    723\u001b[0m \u001b[43m    \u001b[49m\u001b[43mchunked\u001b[49m\u001b[38;5;241;43m=\u001b[39;49m\u001b[43mchunked\u001b[49m\u001b[43m,\u001b[49m\n\u001b[0;32m    724\u001b[0m \u001b[43m\u001b[49m\u001b[43m)\u001b[49m\n\u001b[0;32m    726\u001b[0m \u001b[38;5;66;03m# If we're going to release the connection in ``finally:``, then\u001b[39;00m\n\u001b[0;32m    727\u001b[0m \u001b[38;5;66;03m# the response doesn't need to know about the connection. Otherwise\u001b[39;00m\n\u001b[0;32m    728\u001b[0m \u001b[38;5;66;03m# it will also try to release it and we'll have a double-release\u001b[39;00m\n\u001b[0;32m    729\u001b[0m \u001b[38;5;66;03m# mess.\u001b[39;00m\n\u001b[0;32m    730\u001b[0m response_conn \u001b[38;5;241m=\u001b[39m conn \u001b[38;5;28;01mif\u001b[39;00m \u001b[38;5;129;01mnot\u001b[39;00m release_conn \u001b[38;5;28;01melse\u001b[39;00m \u001b[38;5;28;01mNone\u001b[39;00m\n",
      "File \u001b[1;32mc:\\Users\\ishaa\\anaconda3\\Anaconda\\envs\\GIS\\lib\\site-packages\\urllib3\\connectionpool.py:468\u001b[0m, in \u001b[0;36mHTTPConnectionPool._make_request\u001b[1;34m(self, conn, method, url, timeout, chunked, **httplib_request_kw)\u001b[0m\n\u001b[0;32m    463\u001b[0m             httplib_response \u001b[38;5;241m=\u001b[39m conn\u001b[38;5;241m.\u001b[39mgetresponse()\n\u001b[0;32m    464\u001b[0m         \u001b[38;5;28;01mexcept\u001b[39;00m \u001b[38;5;167;01mBaseException\u001b[39;00m \u001b[38;5;28;01mas\u001b[39;00m e:\n\u001b[0;32m    465\u001b[0m             \u001b[38;5;66;03m# Remove the TypeError from the exception chain in\u001b[39;00m\n\u001b[0;32m    466\u001b[0m             \u001b[38;5;66;03m# Python 3 (including for exceptions like SystemExit).\u001b[39;00m\n\u001b[0;32m    467\u001b[0m             \u001b[38;5;66;03m# Otherwise it looks like a bug in the code.\u001b[39;00m\n\u001b[1;32m--> 468\u001b[0m             \u001b[43msix\u001b[49m\u001b[38;5;241;43m.\u001b[39;49m\u001b[43mraise_from\u001b[49m\u001b[43m(\u001b[49m\u001b[43me\u001b[49m\u001b[43m,\u001b[49m\u001b[43m \u001b[49m\u001b[38;5;28;43;01mNone\u001b[39;49;00m\u001b[43m)\u001b[49m\n\u001b[0;32m    469\u001b[0m \u001b[38;5;28;01mexcept\u001b[39;00m (SocketTimeout, BaseSSLError, SocketError) \u001b[38;5;28;01mas\u001b[39;00m e:\n\u001b[0;32m    470\u001b[0m     \u001b[38;5;28mself\u001b[39m\u001b[38;5;241m.\u001b[39m_raise_timeout(err\u001b[38;5;241m=\u001b[39me, url\u001b[38;5;241m=\u001b[39murl, timeout_value\u001b[38;5;241m=\u001b[39mread_timeout)\n",
      "File \u001b[1;32m<string>:3\u001b[0m, in \u001b[0;36mraise_from\u001b[1;34m(value, from_value)\u001b[0m\n",
      "File \u001b[1;32mc:\\Users\\ishaa\\anaconda3\\Anaconda\\envs\\GIS\\lib\\site-packages\\urllib3\\connectionpool.py:463\u001b[0m, in \u001b[0;36mHTTPConnectionPool._make_request\u001b[1;34m(self, conn, method, url, timeout, chunked, **httplib_request_kw)\u001b[0m\n\u001b[0;32m    460\u001b[0m \u001b[38;5;28;01mexcept\u001b[39;00m \u001b[38;5;167;01mTypeError\u001b[39;00m:\n\u001b[0;32m    461\u001b[0m     \u001b[38;5;66;03m# Python 3\u001b[39;00m\n\u001b[0;32m    462\u001b[0m     \u001b[38;5;28;01mtry\u001b[39;00m:\n\u001b[1;32m--> 463\u001b[0m         httplib_response \u001b[38;5;241m=\u001b[39m \u001b[43mconn\u001b[49m\u001b[38;5;241;43m.\u001b[39;49m\u001b[43mgetresponse\u001b[49m\u001b[43m(\u001b[49m\u001b[43m)\u001b[49m\n\u001b[0;32m    464\u001b[0m     \u001b[38;5;28;01mexcept\u001b[39;00m \u001b[38;5;167;01mBaseException\u001b[39;00m \u001b[38;5;28;01mas\u001b[39;00m e:\n\u001b[0;32m    465\u001b[0m         \u001b[38;5;66;03m# Remove the TypeError from the exception chain in\u001b[39;00m\n\u001b[0;32m    466\u001b[0m         \u001b[38;5;66;03m# Python 3 (including for exceptions like SystemExit).\u001b[39;00m\n\u001b[0;32m    467\u001b[0m         \u001b[38;5;66;03m# Otherwise it looks like a bug in the code.\u001b[39;00m\n\u001b[0;32m    468\u001b[0m         six\u001b[38;5;241m.\u001b[39mraise_from(e, \u001b[38;5;28;01mNone\u001b[39;00m)\n",
      "File \u001b[1;32mc:\\Users\\ishaa\\anaconda3\\Anaconda\\envs\\GIS\\lib\\http\\client.py:1377\u001b[0m, in \u001b[0;36mHTTPConnection.getresponse\u001b[1;34m(self)\u001b[0m\n\u001b[0;32m   1375\u001b[0m \u001b[38;5;28;01mtry\u001b[39;00m:\n\u001b[0;32m   1376\u001b[0m     \u001b[38;5;28;01mtry\u001b[39;00m:\n\u001b[1;32m-> 1377\u001b[0m         \u001b[43mresponse\u001b[49m\u001b[38;5;241;43m.\u001b[39;49m\u001b[43mbegin\u001b[49m\u001b[43m(\u001b[49m\u001b[43m)\u001b[49m\n\u001b[0;32m   1378\u001b[0m     \u001b[38;5;28;01mexcept\u001b[39;00m \u001b[38;5;167;01mConnectionError\u001b[39;00m:\n\u001b[0;32m   1379\u001b[0m         \u001b[38;5;28mself\u001b[39m\u001b[38;5;241m.\u001b[39mclose()\n",
      "File \u001b[1;32mc:\\Users\\ishaa\\anaconda3\\Anaconda\\envs\\GIS\\lib\\http\\client.py:320\u001b[0m, in \u001b[0;36mHTTPResponse.begin\u001b[1;34m(self)\u001b[0m\n\u001b[0;32m    318\u001b[0m \u001b[38;5;66;03m# read until we get a non-100 response\u001b[39;00m\n\u001b[0;32m    319\u001b[0m \u001b[38;5;28;01mwhile\u001b[39;00m \u001b[38;5;28;01mTrue\u001b[39;00m:\n\u001b[1;32m--> 320\u001b[0m     version, status, reason \u001b[38;5;241m=\u001b[39m \u001b[38;5;28;43mself\u001b[39;49m\u001b[38;5;241;43m.\u001b[39;49m\u001b[43m_read_status\u001b[49m\u001b[43m(\u001b[49m\u001b[43m)\u001b[49m\n\u001b[0;32m    321\u001b[0m     \u001b[38;5;28;01mif\u001b[39;00m status \u001b[38;5;241m!=\u001b[39m CONTINUE:\n\u001b[0;32m    322\u001b[0m         \u001b[38;5;28;01mbreak\u001b[39;00m\n",
      "File \u001b[1;32mc:\\Users\\ishaa\\anaconda3\\Anaconda\\envs\\GIS\\lib\\http\\client.py:281\u001b[0m, in \u001b[0;36mHTTPResponse._read_status\u001b[1;34m(self)\u001b[0m\n\u001b[0;32m    280\u001b[0m \u001b[38;5;28;01mdef\u001b[39;00m \u001b[38;5;21m_read_status\u001b[39m(\u001b[38;5;28mself\u001b[39m):\n\u001b[1;32m--> 281\u001b[0m     line \u001b[38;5;241m=\u001b[39m \u001b[38;5;28mstr\u001b[39m(\u001b[38;5;28;43mself\u001b[39;49m\u001b[38;5;241;43m.\u001b[39;49m\u001b[43mfp\u001b[49m\u001b[38;5;241;43m.\u001b[39;49m\u001b[43mreadline\u001b[49m\u001b[43m(\u001b[49m\u001b[43m_MAXLINE\u001b[49m\u001b[43m \u001b[49m\u001b[38;5;241;43m+\u001b[39;49m\u001b[43m \u001b[49m\u001b[38;5;241;43m1\u001b[39;49m\u001b[43m)\u001b[49m, \u001b[38;5;124m\"\u001b[39m\u001b[38;5;124miso-8859-1\u001b[39m\u001b[38;5;124m\"\u001b[39m)\n\u001b[0;32m    282\u001b[0m     \u001b[38;5;28;01mif\u001b[39;00m \u001b[38;5;28mlen\u001b[39m(line) \u001b[38;5;241m>\u001b[39m _MAXLINE:\n\u001b[0;32m    283\u001b[0m         \u001b[38;5;28;01mraise\u001b[39;00m LineTooLong(\u001b[38;5;124m\"\u001b[39m\u001b[38;5;124mstatus line\u001b[39m\u001b[38;5;124m\"\u001b[39m)\n",
      "File \u001b[1;32mc:\\Users\\ishaa\\anaconda3\\Anaconda\\envs\\GIS\\lib\\socket.py:716\u001b[0m, in \u001b[0;36mSocketIO.readinto\u001b[1;34m(self, b)\u001b[0m\n\u001b[0;32m    714\u001b[0m \u001b[38;5;28;01mwhile\u001b[39;00m \u001b[38;5;28;01mTrue\u001b[39;00m:\n\u001b[0;32m    715\u001b[0m     \u001b[38;5;28;01mtry\u001b[39;00m:\n\u001b[1;32m--> 716\u001b[0m         \u001b[38;5;28;01mreturn\u001b[39;00m \u001b[38;5;28;43mself\u001b[39;49m\u001b[38;5;241;43m.\u001b[39;49m\u001b[43m_sock\u001b[49m\u001b[38;5;241;43m.\u001b[39;49m\u001b[43mrecv_into\u001b[49m\u001b[43m(\u001b[49m\u001b[43mb\u001b[49m\u001b[43m)\u001b[49m\n\u001b[0;32m    717\u001b[0m     \u001b[38;5;28;01mexcept\u001b[39;00m timeout:\n\u001b[0;32m    718\u001b[0m         \u001b[38;5;28mself\u001b[39m\u001b[38;5;241m.\u001b[39m_timeout_occurred \u001b[38;5;241m=\u001b[39m \u001b[38;5;28;01mTrue\u001b[39;00m\n",
      "File \u001b[1;32mc:\\Users\\ishaa\\anaconda3\\Anaconda\\envs\\GIS\\lib\\ssl.py:1275\u001b[0m, in \u001b[0;36mSSLSocket.recv_into\u001b[1;34m(self, buffer, nbytes, flags)\u001b[0m\n\u001b[0;32m   1271\u001b[0m     \u001b[38;5;28;01mif\u001b[39;00m flags \u001b[38;5;241m!=\u001b[39m \u001b[38;5;241m0\u001b[39m:\n\u001b[0;32m   1272\u001b[0m         \u001b[38;5;28;01mraise\u001b[39;00m \u001b[38;5;167;01mValueError\u001b[39;00m(\n\u001b[0;32m   1273\u001b[0m           \u001b[38;5;124m\"\u001b[39m\u001b[38;5;124mnon-zero flags not allowed in calls to recv_into() on \u001b[39m\u001b[38;5;132;01m%s\u001b[39;00m\u001b[38;5;124m\"\u001b[39m \u001b[38;5;241m%\u001b[39m\n\u001b[0;32m   1274\u001b[0m           \u001b[38;5;28mself\u001b[39m\u001b[38;5;241m.\u001b[39m\u001b[38;5;18m__class__\u001b[39m)\n\u001b[1;32m-> 1275\u001b[0m     \u001b[38;5;28;01mreturn\u001b[39;00m \u001b[38;5;28;43mself\u001b[39;49m\u001b[38;5;241;43m.\u001b[39;49m\u001b[43mread\u001b[49m\u001b[43m(\u001b[49m\u001b[43mnbytes\u001b[49m\u001b[43m,\u001b[49m\u001b[43m \u001b[49m\u001b[43mbuffer\u001b[49m\u001b[43m)\u001b[49m\n\u001b[0;32m   1276\u001b[0m \u001b[38;5;28;01melse\u001b[39;00m:\n\u001b[0;32m   1277\u001b[0m     \u001b[38;5;28;01mreturn\u001b[39;00m \u001b[38;5;28msuper\u001b[39m()\u001b[38;5;241m.\u001b[39mrecv_into(buffer, nbytes, flags)\n",
      "File \u001b[1;32mc:\\Users\\ishaa\\anaconda3\\Anaconda\\envs\\GIS\\lib\\ssl.py:1133\u001b[0m, in \u001b[0;36mSSLSocket.read\u001b[1;34m(self, len, buffer)\u001b[0m\n\u001b[0;32m   1131\u001b[0m \u001b[38;5;28;01mtry\u001b[39;00m:\n\u001b[0;32m   1132\u001b[0m     \u001b[38;5;28;01mif\u001b[39;00m buffer \u001b[38;5;129;01mis\u001b[39;00m \u001b[38;5;129;01mnot\u001b[39;00m \u001b[38;5;28;01mNone\u001b[39;00m:\n\u001b[1;32m-> 1133\u001b[0m         \u001b[38;5;28;01mreturn\u001b[39;00m \u001b[38;5;28;43mself\u001b[39;49m\u001b[38;5;241;43m.\u001b[39;49m\u001b[43m_sslobj\u001b[49m\u001b[38;5;241;43m.\u001b[39;49m\u001b[43mread\u001b[49m\u001b[43m(\u001b[49m\u001b[38;5;28;43mlen\u001b[39;49m\u001b[43m,\u001b[49m\u001b[43m \u001b[49m\u001b[43mbuffer\u001b[49m\u001b[43m)\u001b[49m\n\u001b[0;32m   1134\u001b[0m     \u001b[38;5;28;01melse\u001b[39;00m:\n\u001b[0;32m   1135\u001b[0m         \u001b[38;5;28;01mreturn\u001b[39;00m \u001b[38;5;28mself\u001b[39m\u001b[38;5;241m.\u001b[39m_sslobj\u001b[38;5;241m.\u001b[39mread(\u001b[38;5;28mlen\u001b[39m)\n",
      "\u001b[1;31mKeyboardInterrupt\u001b[0m: "
     ]
    }
   ],
   "source": [
    "# Function to calculate cropland area for a specific year\n",
    "# Define a function to get cropland area for a specific year\n",
    "ee.Initialize()\n",
    "\n",
    "# import seaborn as sns\n",
    "import numpy as np\n",
    "\n",
    "# Set a seaborn style\n",
    "# sns.set_theme(style=\"whitegrid\")\n",
    "\n",
    "\n",
    "def get_cropland_area(year):\n",
    "    # Load MODIS Land Cover dataset for the specified year\n",
    "    dw_lc = (\n",
    "        ee.ImageCollection(\"GOOGLE/DYNAMICWORLD/V1\")\n",
    "        .filter(ee.Filter.calendarRange(year, year, \"year\"))\n",
    "        .select(\"label\")\n",
    "        .mosaic()\n",
    "    )\n",
    "\n",
    "    # Check if the image exists\n",
    "    if dw_lc is None:\n",
    "        raise ValueError(f\"No land cover data found for the year {year}.\")\n",
    "\n",
    "    # Isolate cropland class (class 12 in MODIS IGBP classification)\n",
    "    cropland = dw_lc.eq(4).clip(syria_geometry)\n",
    "\n",
    "    # Calculate the area of cropland in square meters\n",
    "    pixel_area = cropland.multiply(ee.Image.pixelArea())\n",
    "    cropland_area = pixel_area.reduceRegion(\n",
    "        reducer=ee.Reducer.sum(),\n",
    "        geometry=syria_geometry,\n",
    "        scale=100,  # MODIS resolution is 500 meters\n",
    "        maxPixels=1e13,\n",
    "    )\n",
    "\n",
    "    print(cropland_area.getInfo())\n",
    "    # Extract the result from the dictionary and return it\n",
    "    cropland_area_value = cropland_area.getInfo().get(\"label\") / 10000.0\n",
    "    return cropland_area_value\n",
    "\n",
    "\n",
    "# Years to calculate cropland areas (every 5th year from 2000 to 2022)\n",
    "# years = [2015,2017,2019,2021,2023,2024]\n",
    "years = list(range(2016, 2025, 1))\n",
    "\n",
    "# Calculate cropland areas for each year\n",
    "cropland_areas = []\n",
    "for year in years:\n",
    "    try:\n",
    "        area = get_cropland_area(year)\n",
    "        cropland_areas.append(area)\n",
    "        print(f\"Cropland Area in {year}: {area:.2f} hectares\")\n",
    "    except Exception as e:\n",
    "        print(f\"Error calculating cropland area for {year}: {e}\")\n",
    "        cropland_areas.append(0)\n",
    "\n",
    "# Plot the cropland areas\n",
    "plt.figure(figsize=(10, 6))\n",
    "plt.plot(years, cropland_areas, linestyle=\"-\", color=\"green\")\n",
    "plt.title(\"Cropland Area Over Time (2016-2024)\", fontsize=16)\n",
    "plt.xlabel(\"Year\", fontsize=14)\n",
    "plt.ylabel(\"Cropland Area (hectares)\", fontsize=14)\n",
    "# plt.ylim(2, None)  # Set the range\n",
    "# plt.yticks([2.75, 3.00, 3.25, 3.50, 3.75, 4.00, 4.25, 4.50])  # Define the intervals\n",
    "plt.grid(visible=True, which=\"both\", color=\"lightgray\", linestyle=\"--\", linewidth=0.5)\n",
    "\n",
    "# Remove all spines (plot boundaries)\n",
    "plt.gca().spines[\"top\"].set_visible(False)\n",
    "plt.gca().spines[\"right\"].set_visible(False)\n",
    "plt.gca().spines[\"left\"].set_visible(False)\n",
    "plt.gca().spines[\"bottom\"].set_visible(False)\n",
    "\n",
    "plt.xticks(years)\n",
    "plt.tight_layout()\n",
    "plt.show()"
   ]
  },
  {
   "cell_type": "code",
   "execution_count": null,
   "metadata": {
    "tags": [
     "remove-cell"
    ]
   },
   "outputs": [
    {
     "data": {
      "text/html": [
       "\n",
       "            <style>\n",
       "                .geemap-dark {\n",
       "                    --jp-widgets-color: white;\n",
       "                    --jp-widgets-label-color: white;\n",
       "                    --jp-ui-font-color1: white;\n",
       "                    --jp-layout-color2: #454545;\n",
       "                    background-color: #383838;\n",
       "                }\n",
       "\n",
       "                .geemap-dark .jupyter-button {\n",
       "                    --jp-layout-color3: #383838;\n",
       "                }\n",
       "\n",
       "                .geemap-colab {\n",
       "                    background-color: var(--colab-primary-surface-color, white);\n",
       "                }\n",
       "\n",
       "                .geemap-colab .jupyter-button {\n",
       "                    --jp-layout-color3: var(--colab-primary-surface-color, white);\n",
       "                }\n",
       "            </style>\n",
       "            "
      ],
      "text/plain": [
       "<IPython.core.display.HTML object>"
      ]
     },
     "metadata": {},
     "output_type": "display_data"
    },
    {
     "name": "stdout",
     "output_type": "stream",
     "text": [
      "Cropland Area in 2001: 4621817.3448303845 hectares\n",
      "Cropland Area in 2022: 2757490.8773882017 hectares\n",
      "Cropland Area Loss: 1864326.4674421828 hectares\n"
     ]
    }
   ],
   "source": [
    "# Define the years for comparison\n",
    "start_year = 2010\n",
    "end_year = 2022\n",
    "\n",
    "# Define the region (e.g., Syria)\n",
    "# syria_geometry = ee.Geometry.Polygon([[[36.0, 32.0], [42.0, 32.0], [42.0, 37.5], [36.0, 37.5], [36.0, 32.0]]])  # Adjust coordinates\n",
    "\n",
    "\n",
    "# Define a function to get cropland area for a specific year\n",
    "def get_cropland_area(year):\n",
    "    # Load MODIS Land Cover dataset for the specified year\n",
    "    modis_lc = (\n",
    "        ee.ImageCollection(\"MODIS/061/MCD12Q1\")\n",
    "        .filter(ee.Filter.calendarRange(year, year, \"year\"))\n",
    "        .select(\"LC_Type2\")\n",
    "        .mosaic()\n",
    "    )\n",
    "\n",
    "    # Check if the image exists\n",
    "    if modis_lc is None:\n",
    "        raise ValueError(f\"No land cover data found for the year {year}.\")\n",
    "\n",
    "    # Isolate cropland class (class 12 in MODIS IGBP classification)\n",
    "    cropland = modis_lc.eq(12).clip(syria_geometry)\n",
    "\n",
    "    # Calculate the area of cropland in square meters\n",
    "    pixel_area = cropland.multiply(ee.Image.pixelArea())\n",
    "    cropland_area = pixel_area.reduceRegion(\n",
    "        reducer=ee.Reducer.sum(),\n",
    "        geometry=syria_geometry,\n",
    "        scale=500,  # MODIS resolution is 500 meters\n",
    "        maxPixels=1e13,\n",
    "    )\n",
    "\n",
    "    # Extract the result from the dictionary and return it\n",
    "    cropland_area_value = cropland_area.getInfo().get(\"LC_Type2\") / 10000.0\n",
    "    return cropland_area_value\n",
    "\n",
    "\n",
    "# Calculate cropland area in start and end years\n",
    "cropland_area_start = get_cropland_area(start_year)\n",
    "cropland_area_end = get_cropland_area(end_year)\n",
    "cropland_area_loss = cropland_area_start - cropland_area_end\n",
    "\n",
    "print(f\"Cropland Area in {start_year}: {cropland_area_start} hectares\")\n",
    "print(f\"Cropland Area in {end_year}: {cropland_area_end} hectares\")\n",
    "print(f\"Cropland Area Loss: {cropland_area_loss} hectares\")"
   ]
  },
  {
   "cell_type": "code",
   "execution_count": null,
   "metadata": {
    "tags": [
     "remove-cell"
    ]
   },
   "outputs": [],
   "source": [
    "\"\"\"# Define the years for comparison\n",
    "start_year = 2020  # Dynamic World starts in 2020\n",
    "end_year = 2024\n",
    "\n",
    "# Define a function to get cropland area for a specific year using Dynamic World\n",
    "def get_cropland_area_dynamic_world(year):\n",
    "    # Load Dynamic World dataset for the specified year\n",
    "    dynamic_world = ee.ImageCollection(\"GOOGLE/DYNAMICWORLD/V1\") \\\n",
    "        .filter(ee.Filter.calendarRange(year, year, \"year\")) \\\n",
    "        .select(\"label\") \\\n",
    "        .mosaic()\n",
    "    \n",
    "    # Cropland class is labeled as 3 in the Dynamic World dataset\n",
    "    cropland = dynamic_world.eq(3).clip(syria_geometry)\n",
    "    \n",
    "    # Calculate the area of cropland in square meters\n",
    "    pixel_area = cropland.multiply(ee.Image.pixelArea())\n",
    "    cropland_area = pixel_area.reduceRegion(\n",
    "        reducer=ee.Reducer.sum(),\n",
    "        geometry=syria_geometry,\n",
    "        scale=10,  # Dynamic World has 10-meter resolution\n",
    "        maxPixels=1e13\n",
    "    )\n",
    "    \n",
    "    # Extract the result from the dictionary and return it in hectares\n",
    "    cropland_area_value = cropland_area.getInfo().get(\"label\") / 10000.0  # Convert from square meters to hectares\n",
    "    return cropland_area_value\n",
    "\n",
    "# Calculate cropland area in start and end years\n",
    "cropland_area_start = get_cropland_area_dynamic_world(start_year)\n",
    "cropland_area_end = get_cropland_area_dynamic_world(end_year)\n",
    "cropland_area_loss = cropland_area_start - cropland_area_end\n",
    "\n",
    "# Print results\n",
    "print(f\"Cropland Area in {start_year}: {cropland_area_start:.2f} hectares\")\n",
    "print(f\"Cropland Area in {end_year}: {cropland_area_end:.2f} hectares\")\n",
    "print(f\"Cropland Area Loss: {cropland_area_loss:.2f} hectares\")\"\"\""
   ]
  },
  {
   "cell_type": "code",
   "execution_count": null,
   "metadata": {
    "tags": [
     "remove-cell"
    ]
   },
   "outputs": [
    {
     "data": {
      "text/html": [
       "\n",
       "            <style>\n",
       "                .geemap-dark {\n",
       "                    --jp-widgets-color: white;\n",
       "                    --jp-widgets-label-color: white;\n",
       "                    --jp-ui-font-color1: white;\n",
       "                    --jp-layout-color2: #454545;\n",
       "                    background-color: #383838;\n",
       "                }\n",
       "\n",
       "                .geemap-dark .jupyter-button {\n",
       "                    --jp-layout-color3: #383838;\n",
       "                }\n",
       "\n",
       "                .geemap-colab {\n",
       "                    background-color: var(--colab-primary-surface-color, white);\n",
       "                }\n",
       "\n",
       "                .geemap-colab .jupyter-button {\n",
       "                    --jp-layout-color3: var(--colab-primary-surface-color, white);\n",
       "                }\n",
       "            </style>\n",
       "            "
      ],
      "text/plain": [
       "<IPython.core.display.HTML object>"
      ]
     },
     "metadata": {},
     "output_type": "display_data"
    }
   ],
   "source": [
    "# Load MODIS Land Cover dataset for pre-conflict and post-conflict years\n",
    "\n",
    "pre_conflict_year = 2019\n",
    "post_conflict_year = 2024\n",
    "\n",
    "pre_conflict_landuse = (\n",
    "    ee.ImageCollection(\"GOOGLE/DYNAMICWORLD/V1\")\n",
    "    .filter(ee.Filter.calendarRange(pre_conflict_year, pre_conflict_year, \"year\"))\n",
    "    .mosaic()\n",
    "    .clip(syria_geometry)\n",
    ")\n",
    "\n",
    "post_conflict_landuse = (\n",
    "    ee.ImageCollection(\"GOOGLE/DYNAMICWORLD/V1\")\n",
    "    .filter(ee.Filter.calendarRange(post_conflict_year, post_conflict_year, \"year\"))\n",
    "    .mosaic()\n",
    "    .clip(syria_geometry)\n",
    ")\n",
    "\n",
    "# Define cropland class (class 12 in MODIS IGBP classification)\n",
    "cropland_pre = pre_conflict_landuse.eq(12)\n",
    "cropland_post = post_conflict_landuse.eq(12)"
   ]
  },
  {
   "cell_type": "code",
   "execution_count": null,
   "metadata": {
    "tags": [
     "remove-cell"
    ]
   },
   "outputs": [],
   "source": [
    "# Load ACLED data as a GeoDataFrame\n",
    "acled_data_path = os.path.join(\n",
    "    base_path, \"data\", \"2019-11-01-2024-11-01-Middle_East-Syria.csv\"\n",
    ")\n",
    "acled_data = pd.read_csv(acled_data_path, parse_dates=[\"event_date\"])\n",
    "acled_gdf = gpd.GeoDataFrame(\n",
    "    acled_data, geometry=gpd.points_from_xy(acled_data.longitude, acled_data.latitude)\n",
    ")\n",
    "\n",
    "\n",
    "# Convert GeoDataFrame to GEE FeatureCollection\n",
    "def gdf_to_fc(gdf):\n",
    "    \"\"\"\n",
    "    Converts a GeoDataFrame to a GEE FeatureCollection.\n",
    "    \"\"\"\n",
    "\n",
    "    def row_to_feature(row):\n",
    "        geom = ee.Geometry.Point([row[\"geometry\"].x, row[\"geometry\"].y])\n",
    "        properties = row.drop(labels=[\"geometry\"]).to_dict()\n",
    "        return ee.Feature(geom, properties)\n",
    "\n",
    "    features = [row_to_feature(row) for _, row in gdf.iterrows()]\n",
    "    return ee.FeatureCollection(features)\n",
    "\n",
    "\n",
    "# Convert the ACLED GeoDataFrame to a GEE FeatureCollection\n",
    "acled_fc = gdf_to_fc(acled_gdf)\n",
    "\n",
    "# Create a buffer around conflict points (e.g., 5 km buffer)\n",
    "conflict_buffer = acled_fc.map(lambda f: f.buffer(5000))\n",
    "\n",
    "# Visualize on a map\n",
    "import geemap\n",
    "\n",
    "Map = geemap.Map(center=[34.8, 38.0], zoom=6)\n",
    "Map.addLayer(conflict_buffer, {\"color\": \"red\"}, \"Conflict Impact Zone\")\n",
    "Map"
   ]
  },
  {
   "cell_type": "code",
   "execution_count": null,
   "metadata": {
    "tags": [
     "remove-cell"
    ]
   },
   "outputs": [],
   "source": [
    "# Mask cropland areas in pre- and post-conflict images\n",
    "cropland_pre_masked = cropland_pre.updateMask(cropland_pre).clip(region)\n",
    "cropland_post_masked = cropland_post.updateMask(cropland_post).clip(region)\n",
    "\n",
    "# Apply the conflict buffer mask\n",
    "cropland_pre_conflict_area = cropland_pre_masked.updateMask(conflict_buffer)\n",
    "cropland_post_conflict_area = cropland_post_masked.updateMask(conflict_buffer)\n",
    "\n",
    "# Identify areas where cropland has changed due to conflict\n",
    "cropland_loss = cropland_pre_conflict_area.And(\n",
    "    cropland_post_conflict_area.Not()\n",
    ")  # Cropland lost\n",
    "cropland_gain = cropland_post_conflict_area.And(\n",
    "    cropland_pre_conflict_area.Not()\n",
    ")  # Cropland gained"
   ]
  },
  {
   "cell_type": "code",
   "execution_count": null,
   "metadata": {
    "tags": [
     "remove-cell"
    ]
   },
   "outputs": [],
   "source": [
    "# Function to calculate cropland area for a specific year\n",
    "# Define a function to get cropland area for a specific year\n",
    "# Define a function to get cropland area for a specific year using Dynamic World\n",
    "def get_cropland_area_dynamic_world(year):\n",
    "    # Load Dynamic World dataset for the specified year\n",
    "    dynamic_world = (\n",
    "        ee.ImageCollection(\"GOOGLE/DYNAMICWORLD/V1\")\n",
    "        .filter(ee.Filter.calendarRange(year, year, \"year\"))\n",
    "        .select(\"label\")\n",
    "        .mosaic()\n",
    "    )\n",
    "\n",
    "    # Cropland class is labeled as 3 in the Dynamic World dataset\n",
    "    cropland = dynamic_world.eq(3).clip(syria_geometry)\n",
    "\n",
    "    # Calculate the area of cropland in square meters\n",
    "    pixel_area = cropland.multiply(ee.Image.pixelArea())\n",
    "    cropland_area = pixel_area.reduceRegion(\n",
    "        reducer=ee.Reducer.sum(),\n",
    "        geometry=syria_geometry,\n",
    "        scale=10,  # Dynamic World has 10-meter resolution\n",
    "        maxPixels=1e13,\n",
    "    )\n",
    "\n",
    "    # Extract the result from the dictionary and return it in hectares\n",
    "    cropland_area_value = (\n",
    "        cropland_area.getInfo().get(\"label\") / 10000.0\n",
    "    )  # Convert from square meters to hectares\n",
    "    return cropland_area_value\n",
    "\n",
    "    # Extract the result from the dictionary and return it\n",
    "    cropland_area_value = cropland_area.getInfo().get(\"LC_Type2\") / 10000.0\n",
    "    return cropland_area_value\n",
    "\n",
    "\n",
    "# Years to calculate cropland areas (every 5th year from 2000 to 2022)\n",
    "years = list(range(2022, 2025, 1))\n",
    "\n",
    "# Calculate cropland areas for each year\n",
    "cropland_areas = []\n",
    "for year in years:\n",
    "    try:\n",
    "        area = get_cropland_area(year)\n",
    "        cropland_areas.append(area)\n",
    "        print(f\"Cropland Area in {year}: {area:.2f} hectares\")\n",
    "    except Exception as e:\n",
    "        print(f\"Error calculating cropland area for {year}: {e}\")\n",
    "        cropland_areas.append(0)\n",
    "\n",
    "# Plot the cropland areas\n",
    "plt.figure(figsize=(10, 6))\n",
    "plt.plot(years, cropland_areas, marker=\"o\", linestyle=\"-\", color=\"green\")\n",
    "plt.title(\"Cropland Area Over Time (2000-2022)\", fontsize=16)\n",
    "plt.xlabel(\"Year\", fontsize=14)\n",
    "plt.ylabel(\"Cropland Area (hectares)\", fontsize=14)\n",
    "plt.grid(True)\n",
    "plt.xticks(years)\n",
    "plt.tight_layout()\n",
    "plt.show()"
   ]
  },
  {
   "cell_type": "code",
   "execution_count": null,
   "metadata": {
    "tags": [
     "remove-cell"
    ]
   },
   "outputs": [],
   "source": [
    "import ee\n",
    "import geemap\n",
    "import matplotlib.pyplot as plt\n",
    "from matplotlib.colors import ListedColormap\n",
    "\n",
    "# Initialize Google Earth Engine\n",
    "ee.Initialize()\n",
    "\n",
    "# Define the time range and region of interest (ROI)\n",
    "start_year = 2011\n",
    "end_year = 2023\n",
    "syria_geometry = ee.Geometry.Polygon(\n",
    "    [\n",
    "        [\n",
    "            [35.6191, 33.5092],\n",
    "            [42.3748, 33.5092],\n",
    "            [42.3748, 37.3190],\n",
    "            [35.6191, 37.3190],\n",
    "            [35.6191, 33.5092],\n",
    "        ]\n",
    "    ]\n",
    ")  # Replace with your actual AOI\n",
    "\n",
    "# Load the MODIS or Dynamic World dataset (choose one)\n",
    "lc_collection = ee.ImageCollection(\"GOOGLE/DYNAMICWORLD/V1\")  # Dynamic World\n",
    "# lc_collection = ee.ImageCollection(\"MODIS/061/MCD12Q1\")  # Uncomment if using MODIS LC_Type2\n",
    "\n",
    "\n",
    "# Filter the collection for each year and mask croplands\n",
    "def get_cropland_area(year):\n",
    "    yearly_image = (\n",
    "        lc_collection.filterDate(f\"{year}-01-01\", f\"{year}-12-31\")\n",
    "        .select(\"label\")\n",
    "        .mode()\n",
    "    )  # Get the most common land cover class for the year\n",
    "    cropland = yearly_image.eq(4)  # Croplands (Dynamic World class 4)\n",
    "    cropland_area = cropland.multiply(ee.Image.pixelArea())  # Calculate area in m²\n",
    "    total_area = cropland_area.reduceRegion(\n",
    "        reducer=ee.Reducer.sum(),\n",
    "        geometry=syria_geometry,\n",
    "        scale=10,  # Adjust scale to dataset resolution\n",
    "        maxPixels=1e13,\n",
    "    )\n",
    "    return total_area.get(\"label\"), cropland.clip(syria_geometry)\n",
    "\n",
    "\n",
    "# Get cropland areas for all years\n",
    "years = list(range(start_year, end_year + 1))\n",
    "cropland_areas = []\n",
    "cropland_maps = []\n",
    "\n",
    "for year in years:\n",
    "    area, cropland_map = get_cropland_area(year)\n",
    "    cropland_areas.append(area)\n",
    "    cropland_maps.append(cropland_map)\n",
    "\n",
    "# Convert areas to square kilometers\n",
    "cropland_areas_km2 = (\n",
    "    ee.List(cropland_areas).map(lambda area: ee.Number(area).divide(1e6)).getInfo()\n",
    ")\n",
    "\n",
    "# Calculate cropland change (last year - first year)\n",
    "cropland_first = cropland_maps[0]\n",
    "cropland_last = cropland_maps[-1]\n",
    "change_map = cropland_last.subtract(cropland_first)\n",
    "\n",
    "# Visualize in Google Earth Engine Map\n",
    "Map = geemap.Map()\n",
    "Map.centerObject(syria_geometry, 6)\n",
    "\n",
    "# Visualize the change map\n",
    "change_palette = [\"red\", \"gray\", \"green\"]  # Red = loss, Gray = no change, Green = gain\n",
    "Map.addLayer(\n",
    "    change_map,\n",
    "    {\"min\": -1, \"max\": 1, \"palette\": change_palette},\n",
    "    \"Cropland Change (2011-2023)\",\n",
    ")\n",
    "\n",
    "# Visualize the cropland map for the last year\n",
    "cropland_palette = [\"white\", \"green\"]  # White = non-cropland, Green = cropland\n",
    "Map.addLayer(\n",
    "    cropland_last,\n",
    "    {\"min\": 0, \"max\": 1, \"palette\": cropland_palette},\n",
    "    f\"Cropland {end_year}\",\n",
    ")\n",
    "\n",
    "# Add the map to display\n",
    "Map.add_legend(\n",
    "    title=\"Cropland Change\",\n",
    "    legend_dict={\"Cropland Loss\": \"red\", \"No Change\": \"gray\", \"Cropland Gain\": \"green\"},\n",
    ")\n",
    "Map\n",
    "\n",
    "# Plot cropland area as a time series\n",
    "plt.figure(figsize=(10, 6))\n",
    "plt.plot(years, cropland_areas_km2, marker=\"o\", linestyle=\"-\", color=\"green\")\n",
    "plt.title(\"Cropland Area Over Time\")\n",
    "plt.xlabel(\"Year\")\n",
    "plt.ylabel(\"Cropland Area (km²)\")\n",
    "plt.grid()\n",
    "plt.show()"
   ]
  },
  {
   "cell_type": "code",
   "execution_count": 37,
   "metadata": {
    "tags": [
     "remove-cell"
    ]
   },
   "outputs": [
    {
     "data": {
      "text/html": [
       "\n",
       "            <style>\n",
       "                .geemap-dark {\n",
       "                    --jp-widgets-color: white;\n",
       "                    --jp-widgets-label-color: white;\n",
       "                    --jp-ui-font-color1: white;\n",
       "                    --jp-layout-color2: #454545;\n",
       "                    background-color: #383838;\n",
       "                }\n",
       "\n",
       "                .geemap-dark .jupyter-button {\n",
       "                    --jp-layout-color3: #383838;\n",
       "                }\n",
       "\n",
       "                .geemap-colab {\n",
       "                    background-color: var(--colab-primary-surface-color, white);\n",
       "                }\n",
       "\n",
       "                .geemap-colab .jupyter-button {\n",
       "                    --jp-layout-color3: var(--colab-primary-surface-color, white);\n",
       "                }\n",
       "            </style>\n",
       "            "
      ],
      "text/plain": [
       "<IPython.core.display.HTML object>"
      ]
     },
     "metadata": {},
     "output_type": "display_data"
    },
    {
     "data": {
      "application/vnd.jupyter.widget-view+json": {
       "model_id": "565dea8361a9448bb123bf442386a589",
       "version_major": 2,
       "version_minor": 0
      },
      "text/plain": [
       "Map(center=[35.00473784303623, 38.49054487731182], controls=(WidgetControl(options=['position', 'transparent_b…"
      ]
     },
     "execution_count": 37,
     "metadata": {},
     "output_type": "execute_result"
    }
   ],
   "source": [
    "import ee\n",
    "import matplotlib.pyplot as plt\n",
    "\n",
    "# Initialize Google Earth Engine\n",
    "ee.Initialize()\n",
    "\n",
    "# Define the years for comparison\n",
    "start_year = 2015\n",
    "end_year = 2022\n",
    "\n",
    "# Define the region (e.g., Syria)\n",
    "\"\"\"syria_geometry = ee.Geometry.Polygon([\n",
    "    [[36.0, 32.0], [42.0, 32.0], [42.0, 37.5], [36.0, 37.5], [36.0, 32.0]]\n",
    "])  # Adjust coordinates\"\"\"\n",
    "\n",
    "\n",
    "# Function to get cropland area for a specific year\n",
    "def get_cropland_area(year):\n",
    "    # Load MODIS Land Cover dataset for the specified year\n",
    "    modis_lc = (\n",
    "        ee.ImageCollection(\"MODIS/061/MCD12Q1\")\n",
    "        .filter(ee.Filter.calendarRange(year, year, \"year\"))\n",
    "        .select(\"LC_Type2\")\n",
    "        .mosaic()\n",
    "    )\n",
    "\n",
    "    # Isolate cropland class (class 12 in MODIS IGBP classification)\n",
    "    cropland = modis_lc.eq(12).clip(syria_geometry)\n",
    "\n",
    "    # Calculate the area of cropland in square meters\n",
    "    pixel_area = cropland.multiply(ee.Image.pixelArea())\n",
    "    cropland_area = pixel_area.reduceRegion(\n",
    "        reducer=ee.Reducer.sum(),\n",
    "        geometry=syria_geometry,\n",
    "        scale=500,  # MODIS resolution is 500 meters\n",
    "        maxPixels=1e13,\n",
    "    )\n",
    "\n",
    "    # Extract the result from the dictionary and convert to hectares\n",
    "    cropland_area_value = cropland_area.get(\"LC_Type2\").getInfo()\n",
    "    return cropland_area_value / 10000.0  # Convert m² to hectares\n",
    "\n",
    "\n",
    "# Calculate cropland area for each year and store results\n",
    "years = list(range(start_year, end_year + 1))\n",
    "cropland_areas = []\n",
    "\n",
    "\"\"\"for year in years:\n",
    "    area = get_cropland_area(year)\n",
    "    cropland_areas.append(area)\n",
    "    print(f\"Year: {year}, Cropland Area: {area} hectares\")\n",
    "\n",
    "# Plot time series of cropland area\n",
    "plt.figure(figsize=(10, 6))\n",
    "plt.plot(years, cropland_areas, marker='o', linestyle='-', color='green')\n",
    "plt.title(\"Cropland Area Over Time (2010-2022)\")\n",
    "plt.xlabel(\"Year\")\n",
    "plt.ylabel(\"Cropland Area (hectares)\")\n",
    "plt.grid()\n",
    "plt.show()\"\"\"\n",
    "\n",
    "\n",
    "# Create a change map between start_year and end_year\n",
    "def get_cropland_map(year):\n",
    "    modis_lc = (\n",
    "        ee.ImageCollection(\"MODIS/061/MCD12Q1\")\n",
    "        .filter(ee.Filter.calendarRange(year, year, \"year\"))\n",
    "        .select(\"LC_Type2\")\n",
    "        .mosaic()\n",
    "    )\n",
    "    cropland = modis_lc.eq(12).clip(syria_geometry)\n",
    "    return cropland\n",
    "\n",
    "\n",
    "# Generate cropland maps for start and end years\n",
    "cropland_map_start = get_cropland_map(start_year)\n",
    "cropland_map_end = get_cropland_map(end_year)\n",
    "\n",
    "# Calculate cropland change (gain, loss, or no change)\n",
    "change_map = cropland_map_end.subtract(cropland_map_start)\n",
    "\n",
    "# Visualize the change map using geemap\n",
    "import geemap\n",
    "\n",
    "Map = geemap.Map()\n",
    "Map.centerObject(syria_geometry, 6)\n",
    "\n",
    "# Define visualization parameters\n",
    "change_viz_params = {\n",
    "    \"min\": -1,\n",
    "    \"max\": 1,\n",
    "    \"palette\": [\n",
    "        \"#ca3435\",\n",
    "        \"#fef0d9\",\n",
    "        \"#669d5b\",\n",
    "    ],  # Red: Loss, Gray: No Change, Green: Gain\n",
    "}\n",
    "\n",
    "# Add layers to the map\n",
    "Map.addLayer(change_map, change_viz_params, \"Cropland Change (2015-2022)\")\n",
    "# Map.addLayer(cropland_map_start, {'palette': ['white', 'green'], 'min': 0, 'max': 1}, f'Cropland {start_year}')\n",
    "# Map.addLayer(cropland_map_end, {'palette': ['white', 'green'], 'min': 0, 'max': 1}, f'Cropland {end_year}')\n",
    "\n",
    "# Define the legend with colors as tuples\n",
    "legend_dict = {\n",
    "    \"Cropland Gain\": \"#669d5b\",  # Green (gain)\n",
    "    \"Cropland Loss\": \"#ca3435\",  # Red (loss)\n",
    "    \"No Change\": \"#fef0d9\",  # Gray (no change)\n",
    "}\n",
    "\n",
    "Map.add_legend(title=\"Cropland Change\", legend_dict=legend_dict)\n",
    "\n",
    "# Display the map\n",
    "Map"
   ]
  },
  {
   "cell_type": "code",
   "execution_count": null,
   "metadata": {},
   "outputs": [],
   "source": []
  },
  {
   "cell_type": "code",
   "execution_count": 20,
   "metadata": {
    "tags": [
     "remove-cell"
    ]
   },
   "outputs": [
    {
     "data": {
      "text/html": [
       "\n",
       "            <style>\n",
       "                .geemap-dark {\n",
       "                    --jp-widgets-color: white;\n",
       "                    --jp-widgets-label-color: white;\n",
       "                    --jp-ui-font-color1: white;\n",
       "                    --jp-layout-color2: #454545;\n",
       "                    background-color: #383838;\n",
       "                }\n",
       "\n",
       "                .geemap-dark .jupyter-button {\n",
       "                    --jp-layout-color3: #383838;\n",
       "                }\n",
       "\n",
       "                .geemap-colab {\n",
       "                    background-color: var(--colab-primary-surface-color, white);\n",
       "                }\n",
       "\n",
       "                .geemap-colab .jupyter-button {\n",
       "                    --jp-layout-color3: var(--colab-primary-surface-color, white);\n",
       "                }\n",
       "            </style>\n",
       "            "
      ],
      "text/plain": [
       "<IPython.core.display.HTML object>"
      ]
     },
     "metadata": {},
     "output_type": "display_data"
    },
    {
     "name": "stdout",
     "output_type": "stream",
     "text": [
      "Cropland Map Start (2010):\n",
      "{'LC_Type2': {'0': 723255.6352941195, '1': 197816.1333333332}}\n",
      "Cropland Map End (2022):\n",
      "{'LC_Type2': {'0': 785133.4392156887, '1': 135865.3294117649}}\n"
     ]
    }
   ],
   "source": [
    "# Print value distributions for cropland maps\n",
    "print(\"Cropland Map Start (2010):\")\n",
    "cropland_map_start_values = cropland_map_start.reduceRegion(\n",
    "    reducer=ee.Reducer.frequencyHistogram(),\n",
    "    geometry=syria_geometry,\n",
    "    scale=500,\n",
    "    maxPixels=1e13,\n",
    ").getInfo()\n",
    "print(cropland_map_start_values)\n",
    "\n",
    "print(\"Cropland Map End (2022):\")\n",
    "cropland_map_end_values = cropland_map_end.reduceRegion(\n",
    "    reducer=ee.Reducer.frequencyHistogram(),\n",
    "    geometry=syria_geometry,\n",
    "    scale=500,\n",
    "    maxPixels=1e13,\n",
    ").getInfo()\n",
    "print(cropland_map_end_values)"
   ]
  },
  {
   "cell_type": "code",
   "execution_count": 21,
   "metadata": {
    "tags": [
     "remove-cell"
    ]
   },
   "outputs": [
    {
     "data": {
      "text/html": [
       "\n",
       "            <style>\n",
       "                .geemap-dark {\n",
       "                    --jp-widgets-color: white;\n",
       "                    --jp-widgets-label-color: white;\n",
       "                    --jp-ui-font-color1: white;\n",
       "                    --jp-layout-color2: #454545;\n",
       "                    background-color: #383838;\n",
       "                }\n",
       "\n",
       "                .geemap-dark .jupyter-button {\n",
       "                    --jp-layout-color3: #383838;\n",
       "                }\n",
       "\n",
       "                .geemap-colab {\n",
       "                    background-color: var(--colab-primary-surface-color, white);\n",
       "                }\n",
       "\n",
       "                .geemap-colab .jupyter-button {\n",
       "                    --jp-layout-color3: var(--colab-primary-surface-color, white);\n",
       "                }\n",
       "            </style>\n",
       "            "
      ],
      "text/plain": [
       "<IPython.core.display.HTML object>"
      ]
     },
     "metadata": {},
     "output_type": "display_data"
    },
    {
     "name": "stdout",
     "output_type": "stream",
     "text": [
      "Change Map (2010-2022):\n",
      "{'LC_Type2': {'-1': 68669.35294117646, '0': 845597.8666666675, '1': 6718.549019607844}}\n"
     ]
    }
   ],
   "source": [
    "# Print value distribution for the change map\n",
    "print(\"Change Map (2010-2022):\")\n",
    "change_map_values = change_map.reduceRegion(\n",
    "    reducer=ee.Reducer.frequencyHistogram(),\n",
    "    geometry=syria_geometry,\n",
    "    scale=500,\n",
    "    maxPixels=1e13,\n",
    ").getInfo()\n",
    "print(change_map_values)"
   ]
  },
  {
   "cell_type": "code",
   "execution_count": 36,
   "metadata": {
    "tags": [
     "remove-cell"
    ]
   },
   "outputs": [
    {
     "data": {
      "text/html": [
       "\n",
       "            <style>\n",
       "                .geemap-dark {\n",
       "                    --jp-widgets-color: white;\n",
       "                    --jp-widgets-label-color: white;\n",
       "                    --jp-ui-font-color1: white;\n",
       "                    --jp-layout-color2: #454545;\n",
       "                    background-color: #383838;\n",
       "                }\n",
       "\n",
       "                .geemap-dark .jupyter-button {\n",
       "                    --jp-layout-color3: #383838;\n",
       "                }\n",
       "\n",
       "                .geemap-colab {\n",
       "                    background-color: var(--colab-primary-surface-color, white);\n",
       "                }\n",
       "\n",
       "                .geemap-colab .jupyter-button {\n",
       "                    --jp-layout-color3: var(--colab-primary-surface-color, white);\n",
       "                }\n",
       "            </style>\n",
       "            "
      ],
      "text/plain": [
       "<IPython.core.display.HTML object>"
      ]
     },
     "metadata": {},
     "output_type": "display_data"
    },
    {
     "data": {
      "application/vnd.jupyter.widget-view+json": {
       "model_id": "f5c5795ee1084209a0812046610c91b3",
       "version_major": 2,
       "version_minor": 0
      },
      "text/plain": [
       "Map(center=[35.00473784303623, 38.49054487731182], controls=(WidgetControl(options=['position', 'transparent_b…"
      ]
     },
     "execution_count": 36,
     "metadata": {},
     "output_type": "execute_result"
    }
   ],
   "source": [
    "import ee\n",
    "import geemap\n",
    "import matplotlib.pyplot as plt\n",
    "\n",
    "# Initialize Google Earth Engine\n",
    "ee.Initialize()\n",
    "\n",
    "# Define the years for comparison\n",
    "start_year = 2015\n",
    "end_year = 2024\n",
    "\n",
    "# Define the region (e.g., Syria)\n",
    "\"\"\"syria_geometry = ee.Geometry.Polygon([\n",
    "    [[36.0, 32.0], [42.0, 32.0], [42.0, 37.5], [36.0, 37.5], [36.0, 32.0]]\n",
    "])  # Adjust coordinates as needed\"\"\"\n",
    "\n",
    "\n",
    "# Function to get cropland map for a specific year using Dynamic World\n",
    "def get_cropland_map(year):\n",
    "    # Load Dynamic World dataset for the specified year\n",
    "    dynamic_world = (\n",
    "        ee.ImageCollection(\"GOOGLE/DYNAMICWORLD/V1\")\n",
    "        .filter(ee.Filter.date(f\"{year}-01-01\", f\"{year}-12-31\"))\n",
    "        .select(\"label\")\n",
    "        .mosaic()\n",
    "    )\n",
    "\n",
    "    # Cropland class is labeled as 3 in the Dynamic World dataset\n",
    "    cropland = dynamic_world.eq(3).clip(syria_geometry)\n",
    "    return cropland\n",
    "\n",
    "\n",
    "# Generate cropland maps for start and end years\n",
    "cropland_map_start = get_cropland_map(start_year)\n",
    "cropland_map_end = get_cropland_map(end_year)\n",
    "\n",
    "# Calculate cropland change (gain, loss, or no change)\n",
    "change_map = cropland_map_end.subtract(cropland_map_start)\n",
    "\n",
    "# Visualize the change map using geemap\n",
    "Map = geemap.Map()\n",
    "Map.centerObject(syria_geometry, 6)\n",
    "\n",
    "# Define visualization parameters\n",
    "change_viz_params = {\n",
    "    \"min\": -1,\n",
    "    \"max\": 1,\n",
    "    \"palette\": [\n",
    "        \"#ca3435\",\n",
    "        \"#fef0d9\",\n",
    "        \"#669d5b\",\n",
    "    ],  # Red: Loss, Gray: No Change, Green: Gain\n",
    "}\n",
    "\n",
    "# Add layers to the map\n",
    "Map.addLayer(change_map, change_viz_params, \"Cropland Change (2015-2022)\")\n",
    "# Map.addLayer(cropland_map_start, {'palette': ['#f2f2f2', '#669d5b'], 'min': 0, 'max': 1}, f'Cropland {start_year}')\n",
    "# Map.addLayer(cropland_map_end, {'palette': ['#f2f2f2', '#669d5b'], 'min': 0, 'max': 1}, f'Cropland {end_year}')\n",
    "\n",
    "# Define the legend with colors as tuples\n",
    "legend_dict = {\n",
    "    \"Cropland Gain\": \"#669d5b\",  # Green (gain)\n",
    "    \"Cropland Loss\": \"#ca3435\",  # Red (loss)\n",
    "    \"No Change\": \"#fef0d9\",  # Gray (no change)\n",
    "}\n",
    "\n",
    "Map.add_legend(title=\"Cropland Change\", legend_dict=legend_dict)\n",
    "\n",
    "# Display the map\n",
    "Map"
   ]
  },
  {
   "cell_type": "code",
   "execution_count": 33,
   "metadata": {
    "tags": [
     "remove-cell"
    ]
   },
   "outputs": [
    {
     "data": {
      "text/html": [
       "\n",
       "            <style>\n",
       "                .geemap-dark {\n",
       "                    --jp-widgets-color: white;\n",
       "                    --jp-widgets-label-color: white;\n",
       "                    --jp-ui-font-color1: white;\n",
       "                    --jp-layout-color2: #454545;\n",
       "                    background-color: #383838;\n",
       "                }\n",
       "\n",
       "                .geemap-dark .jupyter-button {\n",
       "                    --jp-layout-color3: #383838;\n",
       "                }\n",
       "\n",
       "                .geemap-colab {\n",
       "                    background-color: var(--colab-primary-surface-color, white);\n",
       "                }\n",
       "\n",
       "                .geemap-colab .jupyter-button {\n",
       "                    --jp-layout-color3: var(--colab-primary-surface-color, white);\n",
       "                }\n",
       "            </style>\n",
       "            "
      ],
      "text/plain": [
       "<IPython.core.display.HTML object>"
      ]
     },
     "metadata": {},
     "output_type": "display_data"
    },
    {
     "name": "stdout",
     "output_type": "stream",
     "text": [
      "Basemap can only be one of the following:\n",
      "  OpenStreetMap\n",
      "  Esri.WorldStreetMap\n",
      "  Esri.WorldImagery\n",
      "  Esri.WorldTopoMap\n",
      "  FWS NWI Wetlands\n",
      "  FWS NWI Wetlands Raster\n",
      "  NLCD 2021 CONUS Land Cover\n",
      "  NLCD 2019 CONUS Land Cover\n",
      "  NLCD 2016 CONUS Land Cover\n",
      "  NLCD 2013 CONUS Land Cover\n",
      "  NLCD 2011 CONUS Land Cover\n",
      "  NLCD 2008 CONUS Land Cover\n",
      "  NLCD 2006 CONUS Land Cover\n",
      "  NLCD 2004 CONUS Land Cover\n",
      "  NLCD 2001 CONUS Land Cover\n",
      "  USGS NAIP Imagery\n",
      "  USGS NAIP Imagery False Color\n",
      "  USGS NAIP Imagery NDVI\n",
      "  USGS Hydrography\n",
      "  USGS 3DEP Elevation\n",
      "  ESA Worldcover 2020\n",
      "  ESA Worldcover 2020 S2 FCC\n",
      "  ESA Worldcover 2020 S2 TCC\n",
      "  ESA Worldcover 2021\n",
      "  ESA Worldcover 2021 S2 FCC\n",
      "  ESA Worldcover 2021 S2 TCC\n",
      "  BaseMapDE.Color\n",
      "  BaseMapDE.Grey\n",
      "  BasemapAT.basemap\n",
      "  BasemapAT.grau\n",
      "  BasemapAT.highdpi\n",
      "  BasemapAT.orthofoto\n",
      "  BasemapAT.overlay\n",
      "  BasemapAT.surface\n",
      "  BasemapAT.terrain\n",
      "  CartoDB.DarkMatter\n",
      "  CartoDB.DarkMatterNoLabels\n",
      "  CartoDB.DarkMatterOnlyLabels\n",
      "  CartoDB.Positron\n",
      "  CartoDB.PositronNoLabels\n",
      "  CartoDB.PositronOnlyLabels\n",
      "  CartoDB.Voyager\n",
      "  CartoDB.VoyagerLabelsUnder\n",
      "  CartoDB.VoyagerNoLabels\n",
      "  CartoDB.VoyagerOnlyLabels\n",
      "  CyclOSM\n",
      "  Esri.AntarcticBasemap\n",
      "  Esri.AntarcticImagery\n",
      "  Esri.ArcticImagery\n",
      "  Esri.ArcticOceanBase\n",
      "  Esri.ArcticOceanReference\n",
      "  Esri.NatGeoWorldMap\n",
      "  Esri.OceanBasemap\n",
      "  Esri.WorldGrayCanvas\n",
      "  Esri.WorldPhysical\n",
      "  Esri.WorldShadedRelief\n",
      "  Esri.WorldTerrain\n",
      "  FreeMapSK\n",
      "  Gaode.Normal\n",
      "  Gaode.Satellite\n",
      "  HikeBike.HikeBike\n",
      "  HikeBike.HillShading\n",
      "  JusticeMap.americanIndian\n",
      "  JusticeMap.asian\n",
      "  JusticeMap.black\n",
      "  JusticeMap.hispanic\n",
      "  JusticeMap.income\n",
      "  JusticeMap.multi\n",
      "  JusticeMap.nonWhite\n",
      "  JusticeMap.plurality\n",
      "  JusticeMap.white\n",
      "  MtbMap\n",
      "  NASAGIBS.ASTER_GDEM_Greyscale_Shaded_Relief\n",
      "  NASAGIBS.BlueMarble\n",
      "  NASAGIBS.BlueMarble3031\n",
      "  NASAGIBS.BlueMarble3413\n",
      "  NASAGIBS.BlueMarbleBathymetry3031\n",
      "  NASAGIBS.BlueMarbleBathymetry3413\n",
      "  NASAGIBS.MEaSUREsIceVelocity3031\n",
      "  NASAGIBS.MEaSUREsIceVelocity3413\n",
      "  NASAGIBS.ModisAquaBands721CR\n",
      "  NASAGIBS.ModisAquaTrueColorCR\n",
      "  NASAGIBS.ModisTerraAOD\n",
      "  NASAGIBS.ModisTerraBands367CR\n",
      "  NASAGIBS.ModisTerraBands721CR\n",
      "  NASAGIBS.ModisTerraChlorophyll\n",
      "  NASAGIBS.ModisTerraLSTDay\n",
      "  NASAGIBS.ModisTerraSnowCover\n",
      "  NASAGIBS.ModisTerraTrueColorCR\n",
      "  NASAGIBS.ViirsEarthAtNight2012\n",
      "  NASAGIBS.ViirsTrueColorCR\n",
      "  OPNVKarte\n",
      "  OneMapSG.Default\n",
      "  OneMapSG.Grey\n",
      "  OneMapSG.LandLot\n",
      "  OneMapSG.Night\n",
      "  OneMapSG.Original\n",
      "  OpenAIP\n",
      "  OpenFireMap\n",
      "  OpenRailwayMap\n",
      "  OpenSeaMap\n",
      "  OpenSnowMap.pistes\n",
      "  OpenStreetMap.BZH\n",
      "  OpenStreetMap.BlackAndWhite\n",
      "  OpenStreetMap.CH\n",
      "  OpenStreetMap.DE\n",
      "  OpenStreetMap.HOT\n",
      "  OpenStreetMap.Mapnik\n",
      "  OpenTopoMap\n",
      "  SafeCast\n",
      "  Stadia.AlidadeSatellite\n",
      "  Stadia.AlidadeSmooth\n",
      "  Stadia.AlidadeSmoothDark\n",
      "  Stadia.OSMBright\n",
      "  Stadia.Outdoors\n",
      "  Stadia.StamenTerrain\n",
      "  Stadia.StamenTerrainBackground\n",
      "  Stadia.StamenTerrainLabels\n",
      "  Stadia.StamenTerrainLines\n",
      "  Stadia.StamenToner\n",
      "  Stadia.StamenTonerBackground\n",
      "  Stadia.StamenTonerLabels\n",
      "  Stadia.StamenTonerLines\n",
      "  Stadia.StamenTonerLite\n",
      "  Stadia.StamenWatercolor\n",
      "  Strava.All\n",
      "  Strava.Ride\n",
      "  Strava.Run\n",
      "  Strava.Water\n",
      "  Strava.Winter\n",
      "  SwissFederalGeoportal.JourneyThroughTime\n",
      "  SwissFederalGeoportal.NationalMapColor\n",
      "  SwissFederalGeoportal.NationalMapGrey\n",
      "  SwissFederalGeoportal.SWISSIMAGE\n",
      "  TopPlusOpen.Color\n",
      "  TopPlusOpen.Grey\n",
      "  USGS.USImagery\n",
      "  USGS.USImageryTopo\n",
      "  USGS.USTopo\n",
      "  WaymarkedTrails.cycling\n",
      "  WaymarkedTrails.hiking\n",
      "  WaymarkedTrails.mtb\n",
      "  WaymarkedTrails.riding\n",
      "  WaymarkedTrails.skating\n",
      "  WaymarkedTrails.slopes\n",
      "  nlmaps.grijs\n",
      "  nlmaps.luchtfoto\n",
      "  nlmaps.pastel\n",
      "  nlmaps.standaard\n",
      "  nlmaps.water\n"
     ]
    },
    {
     "data": {
      "application/vnd.jupyter.widget-view+json": {
       "model_id": "c747930414f6495a80741d4ab58af8c0",
       "version_major": 2,
       "version_minor": 0
      },
      "text/plain": [
       "Map(center=[35.00473784303623, 38.49054487731182], controls=(WidgetControl(options=['position', 'transparent_b…"
      ]
     },
     "execution_count": 33,
     "metadata": {},
     "output_type": "execute_result"
    }
   ],
   "source": [
    "change_viz_params = {\n",
    "    \"min\": -1,\n",
    "    \"max\": 1,\n",
    "    \"palette\": [\"#d73027\", \"#fef0d9\", \"#1a9850\"],  # Red, beige, green\n",
    "    \"opacity\": 0.7,\n",
    "}\n",
    "\n",
    "# Initialize map\n",
    "Map = geemap.Map()\n",
    "Map.add_basemap(\"CartoDB Positron\")  # Use a high-contrast basemap\n",
    "Map.centerObject(syria_geometry, 7)\n",
    "\n",
    "# Add cropland change layer\n",
    "Map.addLayer(change_map, change_viz_params, \"Cropland Change (2015-2022)\")\n",
    "\n",
    "# Add legend\n",
    "legend_dict = {\n",
    "    \"Cropland Gain\": \"#1a9850\",\n",
    "    \"Cropland Loss\": \"#d73027\",\n",
    "    \"No Change\": \"#fef0d9\",\n",
    "}\n",
    "Map.add_legend(title=\"<b>Cropland Change</b>\", legend_dict=legend_dict)\n",
    "\n",
    "# Display the map\n",
    "Map"
   ]
  },
  {
   "cell_type": "code",
   "execution_count": null,
   "metadata": {},
   "outputs": [],
   "source": []
  },
  {
   "cell_type": "code",
   "execution_count": 39,
   "metadata": {
    "tags": [
     "remove-cell"
    ]
   },
   "outputs": [
    {
     "data": {
      "text/html": [
       "\n",
       "            <style>\n",
       "                .geemap-dark {\n",
       "                    --jp-widgets-color: white;\n",
       "                    --jp-widgets-label-color: white;\n",
       "                    --jp-ui-font-color1: white;\n",
       "                    --jp-layout-color2: #454545;\n",
       "                    background-color: #383838;\n",
       "                }\n",
       "\n",
       "                .geemap-dark .jupyter-button {\n",
       "                    --jp-layout-color3: #383838;\n",
       "                }\n",
       "\n",
       "                .geemap-colab {\n",
       "                    background-color: var(--colab-primary-surface-color, white);\n",
       "                }\n",
       "\n",
       "                .geemap-colab .jupyter-button {\n",
       "                    --jp-layout-color3: var(--colab-primary-surface-color, white);\n",
       "                }\n",
       "            </style>\n",
       "            "
      ],
      "text/plain": [
       "<IPython.core.display.HTML object>"
      ]
     },
     "metadata": {},
     "output_type": "display_data"
    }
   ],
   "source": [
    "Map = geemap.Map()\n",
    "Map.add_basemap(\"HYBRID\")\n",
    "# Map"
   ]
  },
  {
   "cell_type": "code",
   "execution_count": 40,
   "metadata": {
    "tags": [
     "remove-cell"
    ]
   },
   "outputs": [
    {
     "data": {
      "text/html": [
       "\n",
       "            <style>\n",
       "                .geemap-dark {\n",
       "                    --jp-widgets-color: white;\n",
       "                    --jp-widgets-label-color: white;\n",
       "                    --jp-ui-font-color1: white;\n",
       "                    --jp-layout-color2: #454545;\n",
       "                    background-color: #383838;\n",
       "                }\n",
       "\n",
       "                .geemap-dark .jupyter-button {\n",
       "                    --jp-layout-color3: #383838;\n",
       "                }\n",
       "\n",
       "                .geemap-colab {\n",
       "                    background-color: var(--colab-primary-surface-color, white);\n",
       "                }\n",
       "\n",
       "                .geemap-colab .jupyter-button {\n",
       "                    --jp-layout-color3: var(--colab-primary-surface-color, white);\n",
       "                }\n",
       "            </style>\n",
       "            "
      ],
      "text/plain": [
       "<IPython.core.display.HTML object>"
      ]
     },
     "metadata": {},
     "output_type": "display_data"
    }
   ],
   "source": [
    "region = syria_geometry"
   ]
  },
  {
   "cell_type": "code",
   "execution_count": 41,
   "metadata": {
    "tags": [
     "remove-cell"
    ]
   },
   "outputs": [
    {
     "data": {
      "text/html": [
       "\n",
       "            <style>\n",
       "                .geemap-dark {\n",
       "                    --jp-widgets-color: white;\n",
       "                    --jp-widgets-label-color: white;\n",
       "                    --jp-ui-font-color1: white;\n",
       "                    --jp-layout-color2: #454545;\n",
       "                    background-color: #383838;\n",
       "                }\n",
       "\n",
       "                .geemap-dark .jupyter-button {\n",
       "                    --jp-layout-color3: #383838;\n",
       "                }\n",
       "\n",
       "                .geemap-colab {\n",
       "                    background-color: var(--colab-primary-surface-color, white);\n",
       "                }\n",
       "\n",
       "                .geemap-colab .jupyter-button {\n",
       "                    --jp-layout-color3: var(--colab-primary-surface-color, white);\n",
       "                }\n",
       "            </style>\n",
       "            "
      ],
      "text/plain": [
       "<IPython.core.display.HTML object>"
      ]
     },
     "metadata": {},
     "output_type": "display_data"
    }
   ],
   "source": [
    "Map.centerObject(region)"
   ]
  },
  {
   "cell_type": "code",
   "execution_count": 42,
   "metadata": {
    "tags": [
     "remove-cell"
    ]
   },
   "outputs": [
    {
     "data": {
      "text/html": [
       "\n",
       "            <style>\n",
       "                .geemap-dark {\n",
       "                    --jp-widgets-color: white;\n",
       "                    --jp-widgets-label-color: white;\n",
       "                    --jp-ui-font-color1: white;\n",
       "                    --jp-layout-color2: #454545;\n",
       "                    background-color: #383838;\n",
       "                }\n",
       "\n",
       "                .geemap-dark .jupyter-button {\n",
       "                    --jp-layout-color3: #383838;\n",
       "                }\n",
       "\n",
       "                .geemap-colab {\n",
       "                    background-color: var(--colab-primary-surface-color, white);\n",
       "                }\n",
       "\n",
       "                .geemap-colab .jupyter-button {\n",
       "                    --jp-layout-color3: var(--colab-primary-surface-color, white);\n",
       "                }\n",
       "            </style>\n",
       "            "
      ],
      "text/plain": [
       "<IPython.core.display.HTML object>"
      ]
     },
     "metadata": {},
     "output_type": "display_data"
    }
   ],
   "source": [
    "# Set the date range\n",
    "start_date = \"2015-01-01\"\n",
    "end_date = \"2024-10-31\""
   ]
  },
  {
   "cell_type": "code",
   "execution_count": 43,
   "metadata": {
    "tags": [
     "remove-cell"
    ]
   },
   "outputs": [
    {
     "data": {
      "text/html": [
       "\n",
       "            <style>\n",
       "                .geemap-dark {\n",
       "                    --jp-widgets-color: white;\n",
       "                    --jp-widgets-label-color: white;\n",
       "                    --jp-ui-font-color1: white;\n",
       "                    --jp-layout-color2: #454545;\n",
       "                    background-color: #383838;\n",
       "                }\n",
       "\n",
       "                .geemap-dark .jupyter-button {\n",
       "                    --jp-layout-color3: #383838;\n",
       "                }\n",
       "\n",
       "                .geemap-colab {\n",
       "                    background-color: var(--colab-primary-surface-color, white);\n",
       "                }\n",
       "\n",
       "                .geemap-colab .jupyter-button {\n",
       "                    --jp-layout-color3: var(--colab-primary-surface-color, white);\n",
       "                }\n",
       "            </style>\n",
       "            "
      ],
      "text/plain": [
       "<IPython.core.display.HTML object>"
      ]
     },
     "metadata": {},
     "output_type": "display_data"
    }
   ],
   "source": [
    "images = geemap.dynamic_world_timeseries(\n",
    "    region, start_date, end_date, return_type=\"class\"\n",
    ")"
   ]
  },
  {
   "cell_type": "code",
   "execution_count": 44,
   "metadata": {
    "tags": [
     "remove-cell"
    ]
   },
   "outputs": [
    {
     "data": {
      "text/html": [
       "\n",
       "            <style>\n",
       "                .geemap-dark {\n",
       "                    --jp-widgets-color: white;\n",
       "                    --jp-widgets-label-color: white;\n",
       "                    --jp-ui-font-color1: white;\n",
       "                    --jp-layout-color2: #454545;\n",
       "                    background-color: #383838;\n",
       "                }\n",
       "\n",
       "                .geemap-dark .jupyter-button {\n",
       "                    --jp-layout-color3: #383838;\n",
       "                }\n",
       "\n",
       "                .geemap-colab {\n",
       "                    background-color: var(--colab-primary-surface-color, white);\n",
       "                }\n",
       "\n",
       "                .geemap-colab .jupyter-button {\n",
       "                    --jp-layout-color3: var(--colab-primary-surface-color, white);\n",
       "                }\n",
       "            </style>\n",
       "            "
      ],
      "text/plain": [
       "<IPython.core.display.HTML object>"
      ]
     },
     "metadata": {},
     "output_type": "display_data"
    },
    {
     "data": {
      "application/vnd.jupyter.widget-view+json": {
       "model_id": "d9e122d7b22d4164a1fd7c60848a1a51",
       "version_major": 2,
       "version_minor": 0
      },
      "text/plain": [
       "Map(center=[34.817790985000045, 38.999490738000056], controls=(WidgetControl(options=['position', 'transparent…"
      ]
     },
     "execution_count": 44,
     "metadata": {},
     "output_type": "execute_result"
    }
   ],
   "source": [
    "vis_params = {\n",
    "    \"min\": 0,\n",
    "    \"max\": 8,\n",
    "    \"palette\": [\n",
    "        \"#419BDF\",\n",
    "        \"#397D49\",\n",
    "        \"#88B053\",\n",
    "        \"#7A87C6\",\n",
    "        \"#E49635\",\n",
    "        \"#DFC35A\",\n",
    "        \"#C4281B\",\n",
    "        \"#A59B8F\",\n",
    "        \"#B39FE1\",\n",
    "    ],\n",
    "}\n",
    "Map.addLayer(images.first(), vis_params, \"First image\")\n",
    "Map.add_legend(title=\"Dynamic World Land Cover\", builtin_legend=\"Dynamic_World\")\n",
    "Map"
   ]
  },
  {
   "cell_type": "code",
   "execution_count": 45,
   "metadata": {
    "tags": [
     "remove-cell"
    ]
   },
   "outputs": [
    {
     "data": {
      "text/html": [
       "\n",
       "            <style>\n",
       "                .geemap-dark {\n",
       "                    --jp-widgets-color: white;\n",
       "                    --jp-widgets-label-color: white;\n",
       "                    --jp-ui-font-color1: white;\n",
       "                    --jp-layout-color2: #454545;\n",
       "                    background-color: #383838;\n",
       "                }\n",
       "\n",
       "                .geemap-dark .jupyter-button {\n",
       "                    --jp-layout-color3: #383838;\n",
       "                }\n",
       "\n",
       "                .geemap-colab {\n",
       "                    background-color: var(--colab-primary-surface-color, white);\n",
       "                }\n",
       "\n",
       "                .geemap-colab .jupyter-button {\n",
       "                    --jp-layout-color3: var(--colab-primary-surface-color, white);\n",
       "                }\n",
       "            </style>\n",
       "            "
      ],
      "text/plain": [
       "<IPython.core.display.HTML object>"
      ]
     },
     "metadata": {},
     "output_type": "display_data"
    }
   ],
   "source": [
    "Map.ts_inspector(images, left_vis=vis_params, date_format=\"YYYY\")"
   ]
  },
  {
   "cell_type": "code",
   "execution_count": 46,
   "metadata": {
    "tags": [
     "remove-cell"
    ]
   },
   "outputs": [
    {
     "data": {
      "text/html": [
       "\n",
       "            <style>\n",
       "                .geemap-dark {\n",
       "                    --jp-widgets-color: white;\n",
       "                    --jp-widgets-label-color: white;\n",
       "                    --jp-ui-font-color1: white;\n",
       "                    --jp-layout-color2: #454545;\n",
       "                    background-color: #383838;\n",
       "                }\n",
       "\n",
       "                .geemap-dark .jupyter-button {\n",
       "                    --jp-layout-color3: #383838;\n",
       "                }\n",
       "\n",
       "                .geemap-colab {\n",
       "                    background-color: var(--colab-primary-surface-color, white);\n",
       "                }\n",
       "\n",
       "                .geemap-colab .jupyter-button {\n",
       "                    --jp-layout-color3: var(--colab-primary-surface-color, white);\n",
       "                }\n",
       "            </style>\n",
       "            "
      ],
      "text/plain": [
       "<IPython.core.display.HTML object>"
      ]
     },
     "metadata": {},
     "output_type": "display_data"
    },
    {
     "data": {
      "application/vnd.jupyter.widget-view+json": {
       "model_id": "a06ee162837f448caedcd245b83a114c",
       "version_major": 2,
       "version_minor": 0
      },
      "text/plain": [
       "Map(center=[0, 0], controls=(WidgetControl(options=['position', 'transparent_bg'], widget=Dropdown(layout=Layo…"
      ]
     },
     "execution_count": 46,
     "metadata": {},
     "output_type": "execute_result"
    }
   ],
   "source": [
    "Map = geemap.Map()\n",
    "Map.add_basemap(\"HYBRID\")\n",
    "Map.centerObject(region)\n",
    "\n",
    "images = geemap.dynamic_world_timeseries(\n",
    "    region, start_date, end_date, return_type=\"hillshade\"\n",
    ")\n",
    "Map.ts_inspector(images, date_format=\"YYYY\")\n",
    "Map.add_legend(title=\"Dynamic World Land Cover\", builtin_legend=\"Dynamic_World\")\n",
    "\n",
    "Map"
   ]
  },
  {
   "cell_type": "code",
   "execution_count": 47,
   "metadata": {
    "tags": [
     "remove-cell"
    ]
   },
   "outputs": [
    {
     "data": {
      "text/html": [
       "\n",
       "            <style>\n",
       "                .geemap-dark {\n",
       "                    --jp-widgets-color: white;\n",
       "                    --jp-widgets-label-color: white;\n",
       "                    --jp-ui-font-color1: white;\n",
       "                    --jp-layout-color2: #454545;\n",
       "                    background-color: #383838;\n",
       "                }\n",
       "\n",
       "                .geemap-dark .jupyter-button {\n",
       "                    --jp-layout-color3: #383838;\n",
       "                }\n",
       "\n",
       "                .geemap-colab {\n",
       "                    background-color: var(--colab-primary-surface-color, white);\n",
       "                }\n",
       "\n",
       "                .geemap-colab .jupyter-button {\n",
       "                    --jp-layout-color3: var(--colab-primary-surface-color, white);\n",
       "                }\n",
       "            </style>\n",
       "            "
      ],
      "text/plain": [
       "<IPython.core.display.HTML object>"
      ]
     },
     "metadata": {},
     "output_type": "display_data"
    },
    {
     "data": {
      "text/html": [
       "<div>\n",
       "<style scoped>\n",
       "    .dataframe tbody tr th:only-of-type {\n",
       "        vertical-align: middle;\n",
       "    }\n",
       "\n",
       "    .dataframe tbody tr th {\n",
       "        vertical-align: top;\n",
       "    }\n",
       "\n",
       "    .dataframe thead th {\n",
       "        text-align: right;\n",
       "    }\n",
       "</style>\n",
       "<table border=\"1\" class=\"dataframe\">\n",
       "  <thead>\n",
       "    <tr style=\"text-align: right;\">\n",
       "      <th></th>\n",
       "      <th>OBJECTID</th>\n",
       "      <th>admin0Name</th>\n",
       "      <th>admin0Na_1</th>\n",
       "      <th>admin0Pcod</th>\n",
       "      <th>admin1Name</th>\n",
       "      <th>admin1Na_1</th>\n",
       "      <th>admin1Pcod</th>\n",
       "      <th>admin2Name</th>\n",
       "      <th>admin2Na_1</th>\n",
       "      <th>admin2Pcod</th>\n",
       "      <th>...</th>\n",
       "      <th>Location_1</th>\n",
       "      <th>Location_P</th>\n",
       "      <th>location_t</th>\n",
       "      <th>LastUpdate</th>\n",
       "      <th>Latitude_y</th>\n",
       "      <th>Longitude_</th>\n",
       "      <th>Hosting_in</th>\n",
       "      <th>is_Admin1_</th>\n",
       "      <th>is_Admin_3</th>\n",
       "      <th>geometry</th>\n",
       "    </tr>\n",
       "  </thead>\n",
       "  <tbody>\n",
       "    <tr>\n",
       "      <th>0</th>\n",
       "      <td>1</td>\n",
       "      <td>Syrian Arab Republic</td>\n",
       "      <td>الجمهورية العربية السورية</td>\n",
       "      <td>SY</td>\n",
       "      <td>Idleb</td>\n",
       "      <td>إدلب</td>\n",
       "      <td>SY07</td>\n",
       "      <td>Ariha</td>\n",
       "      <td>أريحا</td>\n",
       "      <td>SY0705</td>\n",
       "      <td>...</td>\n",
       "      <td>الكفير - مركز أريحا</td>\n",
       "      <td>C8380</td>\n",
       "      <td>Community</td>\n",
       "      <td>18/08/2020</td>\n",
       "      <td>35.839891</td>\n",
       "      <td>36.500225</td>\n",
       "      <td>No</td>\n",
       "      <td>No</td>\n",
       "      <td>No</td>\n",
       "      <td>POINT (36.50023 35.83989)</td>\n",
       "    </tr>\n",
       "    <tr>\n",
       "      <th>1</th>\n",
       "      <td>2</td>\n",
       "      <td>Syrian Arab Republic</td>\n",
       "      <td>الجمهورية العربية السورية</td>\n",
       "      <td>SY</td>\n",
       "      <td>Idleb</td>\n",
       "      <td>إدلب</td>\n",
       "      <td>SY07</td>\n",
       "      <td>Ariha</td>\n",
       "      <td>أريحا</td>\n",
       "      <td>SY0705</td>\n",
       "      <td>...</td>\n",
       "      <td>الملجأ</td>\n",
       "      <td>C8381</td>\n",
       "      <td>Community</td>\n",
       "      <td>18/08/2020</td>\n",
       "      <td>35.776098</td>\n",
       "      <td>36.602760</td>\n",
       "      <td>No</td>\n",
       "      <td>No</td>\n",
       "      <td>No</td>\n",
       "      <td>POINT (36.60276 35.7761)</td>\n",
       "    </tr>\n",
       "    <tr>\n",
       "      <th>2</th>\n",
       "      <td>3</td>\n",
       "      <td>Syrian Arab Republic</td>\n",
       "      <td>الجمهورية العربية السورية</td>\n",
       "      <td>SY</td>\n",
       "      <td>Idleb</td>\n",
       "      <td>إدلب</td>\n",
       "      <td>SY07</td>\n",
       "      <td>Ariha</td>\n",
       "      <td>أريحا</td>\n",
       "      <td>SY0705</td>\n",
       "      <td>...</td>\n",
       "      <td>سيغاتا - مركز أريحا</td>\n",
       "      <td>C8382</td>\n",
       "      <td>Community</td>\n",
       "      <td>18/08/2020</td>\n",
       "      <td>35.730155</td>\n",
       "      <td>36.648506</td>\n",
       "      <td>No</td>\n",
       "      <td>No</td>\n",
       "      <td>No</td>\n",
       "      <td>POINT (36.64851 35.73016)</td>\n",
       "    </tr>\n",
       "    <tr>\n",
       "      <th>3</th>\n",
       "      <td>4</td>\n",
       "      <td>Syrian Arab Republic</td>\n",
       "      <td>الجمهورية العربية السورية</td>\n",
       "      <td>SY</td>\n",
       "      <td>Idleb</td>\n",
       "      <td>إدلب</td>\n",
       "      <td>SY07</td>\n",
       "      <td>Ariha</td>\n",
       "      <td>أريحا</td>\n",
       "      <td>SY0705</td>\n",
       "      <td>...</td>\n",
       "      <td>القنفد</td>\n",
       "      <td>C8383</td>\n",
       "      <td>Community</td>\n",
       "      <td>18/08/2020</td>\n",
       "      <td>35.798922</td>\n",
       "      <td>36.417307</td>\n",
       "      <td>No</td>\n",
       "      <td>No</td>\n",
       "      <td>No</td>\n",
       "      <td>POINT (36.41731 35.79892)</td>\n",
       "    </tr>\n",
       "    <tr>\n",
       "      <th>4</th>\n",
       "      <td>5</td>\n",
       "      <td>Syrian Arab Republic</td>\n",
       "      <td>الجمهورية العربية السورية</td>\n",
       "      <td>SY</td>\n",
       "      <td>Idleb</td>\n",
       "      <td>إدلب</td>\n",
       "      <td>SY07</td>\n",
       "      <td>Ariha</td>\n",
       "      <td>أريحا</td>\n",
       "      <td>SY0705</td>\n",
       "      <td>...</td>\n",
       "      <td>سد حيلا</td>\n",
       "      <td>C8384</td>\n",
       "      <td>Community</td>\n",
       "      <td>18/08/2020</td>\n",
       "      <td>35.852396</td>\n",
       "      <td>36.495533</td>\n",
       "      <td>No</td>\n",
       "      <td>No</td>\n",
       "      <td>No</td>\n",
       "      <td>POINT (36.49553 35.8524)</td>\n",
       "    </tr>\n",
       "    <tr>\n",
       "      <th>...</th>\n",
       "      <td>...</td>\n",
       "      <td>...</td>\n",
       "      <td>...</td>\n",
       "      <td>...</td>\n",
       "      <td>...</td>\n",
       "      <td>...</td>\n",
       "      <td>...</td>\n",
       "      <td>...</td>\n",
       "      <td>...</td>\n",
       "      <td>...</td>\n",
       "      <td>...</td>\n",
       "      <td>...</td>\n",
       "      <td>...</td>\n",
       "      <td>...</td>\n",
       "      <td>...</td>\n",
       "      <td>...</td>\n",
       "      <td>...</td>\n",
       "      <td>...</td>\n",
       "      <td>...</td>\n",
       "      <td>...</td>\n",
       "      <td>...</td>\n",
       "    </tr>\n",
       "    <tr>\n",
       "      <th>8359</th>\n",
       "      <td>8360</td>\n",
       "      <td>Syrian Arab Republic</td>\n",
       "      <td>الجمهورية العربية السورية</td>\n",
       "      <td>SY</td>\n",
       "      <td>As-Sweida</td>\n",
       "      <td>السويداء</td>\n",
       "      <td>SY13</td>\n",
       "      <td>Shahba</td>\n",
       "      <td>شهبا</td>\n",
       "      <td>SY1303</td>\n",
       "      <td>...</td>\n",
       "      <td>الصورة الصغيرة</td>\n",
       "      <td>C6259</td>\n",
       "      <td>Community</td>\n",
       "      <td>19/12/2018</td>\n",
       "      <td>33.033873</td>\n",
       "      <td>36.573366</td>\n",
       "      <td>No</td>\n",
       "      <td>None</td>\n",
       "      <td>Yes</td>\n",
       "      <td>POINT (36.57337 33.03387)</td>\n",
       "    </tr>\n",
       "    <tr>\n",
       "      <th>8360</th>\n",
       "      <td>8361</td>\n",
       "      <td>Syrian Arab Republic</td>\n",
       "      <td>الجمهورية العربية السورية</td>\n",
       "      <td>SY</td>\n",
       "      <td>Quneitra</td>\n",
       "      <td>القنيطرة</td>\n",
       "      <td>SY14</td>\n",
       "      <td>Quneitra</td>\n",
       "      <td>مركز القنيطرة</td>\n",
       "      <td>SY1400</td>\n",
       "      <td>...</td>\n",
       "      <td>القنيطرة - مركز القنيطرة</td>\n",
       "      <td>C6268</td>\n",
       "      <td>Community</td>\n",
       "      <td>19/12/2018</td>\n",
       "      <td>33.124215</td>\n",
       "      <td>35.826407</td>\n",
       "      <td>No</td>\n",
       "      <td>Yes</td>\n",
       "      <td>Yes</td>\n",
       "      <td>POINT (35.82641 33.12422)</td>\n",
       "    </tr>\n",
       "    <tr>\n",
       "      <th>8361</th>\n",
       "      <td>8362</td>\n",
       "      <td>Syrian Arab Republic</td>\n",
       "      <td>الجمهورية العربية السورية</td>\n",
       "      <td>SY</td>\n",
       "      <td>Quneitra</td>\n",
       "      <td>القنيطرة</td>\n",
       "      <td>SY14</td>\n",
       "      <td>Quneitra</td>\n",
       "      <td>مركز القنيطرة</td>\n",
       "      <td>SY1400</td>\n",
       "      <td>...</td>\n",
       "      <td>خان أرنبة</td>\n",
       "      <td>C6273</td>\n",
       "      <td>Community</td>\n",
       "      <td>19/12/2018</td>\n",
       "      <td>33.182075</td>\n",
       "      <td>35.890832</td>\n",
       "      <td>No</td>\n",
       "      <td>None</td>\n",
       "      <td>Yes</td>\n",
       "      <td>POINT (35.89083 33.18208)</td>\n",
       "    </tr>\n",
       "    <tr>\n",
       "      <th>8362</th>\n",
       "      <td>8363</td>\n",
       "      <td>Syrian Arab Republic</td>\n",
       "      <td>الجمهورية العربية السورية</td>\n",
       "      <td>SY</td>\n",
       "      <td>Quneitra</td>\n",
       "      <td>القنيطرة</td>\n",
       "      <td>SY14</td>\n",
       "      <td>Quneitra</td>\n",
       "      <td>مركز القنيطرة</td>\n",
       "      <td>SY1400</td>\n",
       "      <td>...</td>\n",
       "      <td>القصيبة - الخشنية</td>\n",
       "      <td>C6290</td>\n",
       "      <td>Community</td>\n",
       "      <td>19/12/2018</td>\n",
       "      <td>32.979807</td>\n",
       "      <td>35.958632</td>\n",
       "      <td>No</td>\n",
       "      <td>None</td>\n",
       "      <td>Yes</td>\n",
       "      <td>POINT (35.95863 32.97981)</td>\n",
       "    </tr>\n",
       "    <tr>\n",
       "      <th>8363</th>\n",
       "      <td>8364</td>\n",
       "      <td>Syrian Arab Republic</td>\n",
       "      <td>الجمهورية العربية السورية</td>\n",
       "      <td>SY</td>\n",
       "      <td>Quneitra</td>\n",
       "      <td>القنيطرة</td>\n",
       "      <td>SY14</td>\n",
       "      <td>Al Fiq</td>\n",
       "      <td>فيق</td>\n",
       "      <td>SY1402</td>\n",
       "      <td>...</td>\n",
       "      <td>صيدا - مركز فيق</td>\n",
       "      <td>C6302</td>\n",
       "      <td>Community</td>\n",
       "      <td>19/12/2018</td>\n",
       "      <td>32.869380</td>\n",
       "      <td>35.873260</td>\n",
       "      <td>No</td>\n",
       "      <td>None</td>\n",
       "      <td>Yes</td>\n",
       "      <td>POINT (35.87326 32.86938)</td>\n",
       "    </tr>\n",
       "  </tbody>\n",
       "</table>\n",
       "<p>8364 rows × 27 columns</p>\n",
       "</div>"
      ],
      "text/plain": [
       "      OBJECTID            admin0Name                 admin0Na_1 admin0Pcod  \\\n",
       "0            1  Syrian Arab Republic  الجمهورية العربية السورية         SY   \n",
       "1            2  Syrian Arab Republic  الجمهورية العربية السورية         SY   \n",
       "2            3  Syrian Arab Republic  الجمهورية العربية السورية         SY   \n",
       "3            4  Syrian Arab Republic  الجمهورية العربية السورية         SY   \n",
       "4            5  Syrian Arab Republic  الجمهورية العربية السورية         SY   \n",
       "...        ...                   ...                        ...        ...   \n",
       "8359      8360  Syrian Arab Republic  الجمهورية العربية السورية         SY   \n",
       "8360      8361  Syrian Arab Republic  الجمهورية العربية السورية         SY   \n",
       "8361      8362  Syrian Arab Republic  الجمهورية العربية السورية         SY   \n",
       "8362      8363  Syrian Arab Republic  الجمهورية العربية السورية         SY   \n",
       "8363      8364  Syrian Arab Republic  الجمهورية العربية السورية         SY   \n",
       "\n",
       "     admin1Name admin1Na_1 admin1Pcod admin2Name     admin2Na_1 admin2Pcod  \\\n",
       "0         Idleb       إدلب       SY07      Ariha          أريحا     SY0705   \n",
       "1         Idleb       إدلب       SY07      Ariha          أريحا     SY0705   \n",
       "2         Idleb       إدلب       SY07      Ariha          أريحا     SY0705   \n",
       "3         Idleb       إدلب       SY07      Ariha          أريحا     SY0705   \n",
       "4         Idleb       إدلب       SY07      Ariha          أريحا     SY0705   \n",
       "...         ...        ...        ...        ...            ...        ...   \n",
       "8359  As-Sweida   السويداء       SY13     Shahba           شهبا     SY1303   \n",
       "8360   Quneitra   القنيطرة       SY14   Quneitra  مركز القنيطرة     SY1400   \n",
       "8361   Quneitra   القنيطرة       SY14   Quneitra  مركز القنيطرة     SY1400   \n",
       "8362   Quneitra   القنيطرة       SY14   Quneitra  مركز القنيطرة     SY1400   \n",
       "8363   Quneitra   القنيطرة       SY14     Al Fiq            فيق     SY1402   \n",
       "\n",
       "      ...                Location_1 Location_P location_t  LastUpdate  \\\n",
       "0     ...       الكفير - مركز أريحا      C8380  Community  18/08/2020   \n",
       "1     ...                    الملجأ      C8381  Community  18/08/2020   \n",
       "2     ...       سيغاتا - مركز أريحا      C8382  Community  18/08/2020   \n",
       "3     ...                    القنفد      C8383  Community  18/08/2020   \n",
       "4     ...                   سد حيلا      C8384  Community  18/08/2020   \n",
       "...   ...                       ...        ...        ...         ...   \n",
       "8359  ...            الصورة الصغيرة      C6259  Community  19/12/2018   \n",
       "8360  ...  القنيطرة - مركز القنيطرة      C6268  Community  19/12/2018   \n",
       "8361  ...                 خان أرنبة      C6273  Community  19/12/2018   \n",
       "8362  ...         القصيبة - الخشنية      C6290  Community  19/12/2018   \n",
       "8363  ...           صيدا - مركز فيق      C6302  Community  19/12/2018   \n",
       "\n",
       "     Latitude_y Longitude_ Hosting_in is_Admin1_ is_Admin_3  \\\n",
       "0     35.839891  36.500225         No         No         No   \n",
       "1     35.776098  36.602760         No         No         No   \n",
       "2     35.730155  36.648506         No         No         No   \n",
       "3     35.798922  36.417307         No         No         No   \n",
       "4     35.852396  36.495533         No         No         No   \n",
       "...         ...        ...        ...        ...        ...   \n",
       "8359  33.033873  36.573366         No       None        Yes   \n",
       "8360  33.124215  35.826407         No        Yes        Yes   \n",
       "8361  33.182075  35.890832         No       None        Yes   \n",
       "8362  32.979807  35.958632         No       None        Yes   \n",
       "8363  32.869380  35.873260         No       None        Yes   \n",
       "\n",
       "                       geometry  \n",
       "0     POINT (36.50023 35.83989)  \n",
       "1      POINT (36.60276 35.7761)  \n",
       "2     POINT (36.64851 35.73016)  \n",
       "3     POINT (36.41731 35.79892)  \n",
       "4      POINT (36.49553 35.8524)  \n",
       "...                         ...  \n",
       "8359  POINT (36.57337 33.03387)  \n",
       "8360  POINT (35.82641 33.12422)  \n",
       "8361  POINT (35.89083 33.18208)  \n",
       "8362  POINT (35.95863 32.97981)  \n",
       "8363  POINT (35.87326 32.86938)  \n",
       "\n",
       "[8364 rows x 27 columns]"
      ]
     },
     "execution_count": 47,
     "metadata": {},
     "output_type": "execute_result"
    }
   ],
   "source": [
    "ppl_gdf = gpd.read_file(\n",
    "    os.path.join(\n",
    "        base_path, \"data\", \"boundaries\", \"syr_pplp_humanitarian_location_unocha.shp\"\n",
    "    )\n",
    ")\n",
    "ppl_gdf"
   ]
  },
  {
   "cell_type": "code",
   "execution_count": 48,
   "metadata": {
    "tags": [
     "remove-cell"
    ]
   },
   "outputs": [
    {
     "data": {
      "text/html": [
       "\n",
       "            <style>\n",
       "                .geemap-dark {\n",
       "                    --jp-widgets-color: white;\n",
       "                    --jp-widgets-label-color: white;\n",
       "                    --jp-ui-font-color1: white;\n",
       "                    --jp-layout-color2: #454545;\n",
       "                    background-color: #383838;\n",
       "                }\n",
       "\n",
       "                .geemap-dark .jupyter-button {\n",
       "                    --jp-layout-color3: #383838;\n",
       "                }\n",
       "\n",
       "                .geemap-colab {\n",
       "                    background-color: var(--colab-primary-surface-color, white);\n",
       "                }\n",
       "\n",
       "                .geemap-colab .jupyter-button {\n",
       "                    --jp-layout-color3: var(--colab-primary-surface-color, white);\n",
       "                }\n",
       "            </style>\n",
       "            "
      ],
      "text/plain": [
       "<IPython.core.display.HTML object>"
      ]
     },
     "metadata": {},
     "output_type": "display_data"
    },
    {
     "data": {
      "text/plain": [
       "<Geographic 2D CRS: EPSG:4326>\n",
       "Name: WGS 84\n",
       "Axis Info [ellipsoidal]:\n",
       "- Lat[north]: Geodetic latitude (degree)\n",
       "- Lon[east]: Geodetic longitude (degree)\n",
       "Area of Use:\n",
       "- name: World.\n",
       "- bounds: (-180.0, -90.0, 180.0, 90.0)\n",
       "Datum: World Geodetic System 1984 ensemble\n",
       "- Ellipsoid: WGS 84\n",
       "- Prime Meridian: Greenwich"
      ]
     },
     "execution_count": 48,
     "metadata": {},
     "output_type": "execute_result"
    }
   ],
   "source": [
    "ppl_gdf.crs"
   ]
  },
  {
   "cell_type": "code",
   "execution_count": 49,
   "metadata": {
    "tags": [
     "remove-cell"
    ]
   },
   "outputs": [
    {
     "data": {
      "text/html": [
       "\n",
       "            <style>\n",
       "                .geemap-dark {\n",
       "                    --jp-widgets-color: white;\n",
       "                    --jp-widgets-label-color: white;\n",
       "                    --jp-ui-font-color1: white;\n",
       "                    --jp-layout-color2: #454545;\n",
       "                    background-color: #383838;\n",
       "                }\n",
       "\n",
       "                .geemap-dark .jupyter-button {\n",
       "                    --jp-layout-color3: #383838;\n",
       "                }\n",
       "\n",
       "                .geemap-colab {\n",
       "                    background-color: var(--colab-primary-surface-color, white);\n",
       "                }\n",
       "\n",
       "                .geemap-colab .jupyter-button {\n",
       "                    --jp-layout-color3: var(--colab-primary-surface-color, white);\n",
       "                }\n",
       "            </style>\n",
       "            "
      ],
      "text/plain": [
       "<IPython.core.display.HTML object>"
      ]
     },
     "metadata": {},
     "output_type": "display_data"
    }
   ],
   "source": [
    "ppl_gdf = ppl_gdf.to_crs(epsg=32636)"
   ]
  },
  {
   "cell_type": "code",
   "execution_count": 67,
   "metadata": {
    "tags": [
     "remove-cell"
    ]
   },
   "outputs": [
    {
     "data": {
      "text/html": [
       "\n",
       "            <style>\n",
       "                .geemap-dark {\n",
       "                    --jp-widgets-color: white;\n",
       "                    --jp-widgets-label-color: white;\n",
       "                    --jp-ui-font-color1: white;\n",
       "                    --jp-layout-color2: #454545;\n",
       "                    background-color: #383838;\n",
       "                }\n",
       "\n",
       "                .geemap-dark .jupyter-button {\n",
       "                    --jp-layout-color3: #383838;\n",
       "                }\n",
       "\n",
       "                .geemap-colab {\n",
       "                    background-color: var(--colab-primary-surface-color, white);\n",
       "                }\n",
       "\n",
       "                .geemap-colab .jupyter-button {\n",
       "                    --jp-layout-color3: var(--colab-primary-surface-color, white);\n",
       "                }\n",
       "            </style>\n",
       "            "
      ],
      "text/plain": [
       "<IPython.core.display.HTML object>"
      ]
     },
     "metadata": {},
     "output_type": "display_data"
    }
   ],
   "source": [
    "ppl_gdf[\"geometry\"] = ppl_gdf.geometry.buffer(5000)\n",
    "ppl_gdf\n",
    "ppl_gdf.to_file(os.path.join(base_path, \"data\", \"boundaries\", \"syr_admin4.shp\"))"
   ]
  },
  {
   "cell_type": "code",
   "execution_count": 58,
   "metadata": {
    "tags": [
     "remove-cell"
    ]
   },
   "outputs": [
    {
     "data": {
      "text/html": [
       "\n",
       "            <style>\n",
       "                .geemap-dark {\n",
       "                    --jp-widgets-color: white;\n",
       "                    --jp-widgets-label-color: white;\n",
       "                    --jp-ui-font-color1: white;\n",
       "                    --jp-layout-color2: #454545;\n",
       "                    background-color: #383838;\n",
       "                }\n",
       "\n",
       "                .geemap-dark .jupyter-button {\n",
       "                    --jp-layout-color3: #383838;\n",
       "                }\n",
       "\n",
       "                .geemap-colab {\n",
       "                    background-color: var(--colab-primary-surface-color, white);\n",
       "                }\n",
       "\n",
       "                .geemap-colab .jupyter-button {\n",
       "                    --jp-layout-color3: var(--colab-primary-surface-color, white);\n",
       "                }\n",
       "            </style>\n",
       "            "
      ],
      "text/plain": [
       "<IPython.core.display.HTML object>"
      ]
     },
     "metadata": {},
     "output_type": "display_data"
    }
   ],
   "source": [
    "# Define the years for comparison\n",
    "start_year = 2015\n",
    "end_year = 2024\n",
    "\n",
    "# admin4_gdf = ppl_gdf\n",
    "admin2_gdf = gpd.read_file(\n",
    "    os.path.join(base_path, \"data\", \"boundaries\", \"syr_admin2.shp\")\n",
    ")\n",
    "\n",
    "# Convert the shapefile to Earth Engine format\n",
    "admin2_fc = gpd_to_gee(admin2_gdf)"
   ]
  },
  {
   "cell_type": "code",
   "execution_count": 59,
   "metadata": {
    "tags": [
     "remove-cell"
    ]
   },
   "outputs": [
    {
     "data": {
      "text/html": [
       "\n",
       "            <style>\n",
       "                .geemap-dark {\n",
       "                    --jp-widgets-color: white;\n",
       "                    --jp-widgets-label-color: white;\n",
       "                    --jp-ui-font-color1: white;\n",
       "                    --jp-layout-color2: #454545;\n",
       "                    background-color: #383838;\n",
       "                }\n",
       "\n",
       "                .geemap-dark .jupyter-button {\n",
       "                    --jp-layout-color3: #383838;\n",
       "                }\n",
       "\n",
       "                .geemap-colab {\n",
       "                    background-color: var(--colab-primary-surface-color, white);\n",
       "                }\n",
       "\n",
       "                .geemap-colab .jupyter-button {\n",
       "                    --jp-layout-color3: var(--colab-primary-surface-color, white);\n",
       "                }\n",
       "            </style>\n",
       "            "
      ],
      "text/plain": [
       "<IPython.core.display.HTML object>"
      ]
     },
     "metadata": {},
     "output_type": "display_data"
    },
    {
     "data": {
      "application/vnd.jupyter.widget-view+json": {
       "model_id": "db89689e1b7b446288d755073eb3cf06",
       "version_major": 2,
       "version_minor": 0
      },
      "text/plain": [
       "Map(center=[35.00473779849404, 38.49054489196505], controls=(WidgetControl(options=['position', 'transparent_b…"
      ]
     },
     "execution_count": 59,
     "metadata": {},
     "output_type": "execute_result"
    }
   ],
   "source": [
    "# Function to get cropland map for a specific year using Dynamic World\n",
    "def get_cropland_map(year):\n",
    "    # Load Dynamic World dataset for the specified year\n",
    "    dynamic_world = (\n",
    "        ee.ImageCollection(\"GOOGLE/DYNAMICWORLD/V1\")\n",
    "        .filter(ee.Filter.date(f\"{year}-01-01\", f\"{year}-12-31\"))\n",
    "        .select(\"label\")\n",
    "        .mosaic()\n",
    "    )\n",
    "\n",
    "    # Cropland class is labeled as 3 in the Dynamic World dataset\n",
    "    cropland = dynamic_world.eq(4)\n",
    "    return cropland\n",
    "\n",
    "\n",
    "# Generate cropland maps for start and end years\n",
    "cropland_map_start = get_cropland_map(start_year)\n",
    "cropland_map_end = get_cropland_map(end_year)\n",
    "\n",
    "# Calculate cropland change (gain, loss, or no change)\n",
    "cropland_gain = cropland_map_end.And(cropland_map_start.Not())  # Gain\n",
    "cropland_loss = cropland_map_start.And(cropland_map_end.Not())  # Loss\n",
    "\n",
    "\"\"\"# Aggregate cropland gain and loss to admin4 level\n",
    "gain_stats = cropland_gain.multiply(ee.Image.pixelArea()).reduceRegions(\n",
    "    collection=admin4_fc,\n",
    "    reducer=ee.Reducer.sum(),\n",
    "    scale=10\n",
    ")\n",
    "\n",
    "loss_stats = cropland_loss.multiply(ee.Image.pixelArea()).reduceRegions(\n",
    "    collection=admin4_fc,\n",
    "    reducer=ee.Reducer.sum(),\n",
    "    scale=10\n",
    ")\"\"\"\n",
    "\n",
    "# Map visualization\n",
    "Map = geemap.Map()\n",
    "Map.centerObject(admin2_fc, 6)\n",
    "\n",
    "# Define visualization parameters\n",
    "gain_viz_params = {\"palette\": \"#669d5b\", \"opacity\": 0.6}  # Green: Gain\n",
    "loss_viz_params = {\"palette\": \"#ca3435\", \"opacity\": 0.6}  # Red: Loss\n",
    "\n",
    "# Add layers to the map\n",
    "Map.addLayer(cropland_gain, gain_viz_params, \"Cropland Gain\")\n",
    "Map.addLayer(cropland_loss, loss_viz_params, \"Cropland Loss\")\n",
    "\n",
    "# Add the admin4 boundaries\n",
    "Map.addLayer(admin2_fc, {}, \"Admin4 Boundaries\")\n",
    "\n",
    "# Define the legend with colors as tuples\n",
    "legend_dict = {\n",
    "    \"Cropland Gain\": \"#669d5b\",  # Green (gain)\n",
    "    \"Cropland Loss\": \"#ca3435\",  # Red (loss)\n",
    "}\n",
    "\n",
    "Map.add_legend(title=\"Cropland Change (2015-2024)\", legend_dict=legend_dict)\n",
    "\n",
    "# Display the map\n",
    "Map"
   ]
  },
  {
   "cell_type": "code",
   "execution_count": 10,
   "metadata": {
    "tags": [
     "remove-cell"
    ]
   },
   "outputs": [
    {
     "data": {
      "text/html": [
       "\n",
       "            <style>\n",
       "                .geemap-dark {\n",
       "                    --jp-widgets-color: white;\n",
       "                    --jp-widgets-label-color: white;\n",
       "                    --jp-ui-font-color1: white;\n",
       "                    --jp-layout-color2: #454545;\n",
       "                    background-color: #383838;\n",
       "                }\n",
       "\n",
       "                .geemap-dark .jupyter-button {\n",
       "                    --jp-layout-color3: #383838;\n",
       "                }\n",
       "\n",
       "                .geemap-colab {\n",
       "                    background-color: var(--colab-primary-surface-color, white);\n",
       "                }\n",
       "\n",
       "                .geemap-colab .jupyter-button {\n",
       "                    --jp-layout-color3: var(--colab-primary-surface-color, white);\n",
       "                }\n",
       "            </style>\n",
       "            "
      ],
      "text/plain": [
       "<IPython.core.display.HTML object>"
      ]
     },
     "metadata": {},
     "output_type": "display_data"
    },
    {
     "data": {
      "application/vnd.jupyter.widget-view+json": {
       "model_id": "61a06c0cc9484b42b16f6b770cc3b406",
       "version_major": 2,
       "version_minor": 0
      },
      "text/plain": [
       "Map(center=[35.00473784303623, 38.49054487731182], controls=(WidgetControl(options=['position', 'transparent_b…"
      ]
     },
     "execution_count": 10,
     "metadata": {},
     "output_type": "execute_result"
    }
   ],
   "source": [
    "# Combine cropland gain and loss into a single layer\n",
    "combined_layer = cropland_gain.multiply(1).add(cropland_loss.multiply(2))\n",
    "\n",
    "# Define visualization parameters\n",
    "combined_vis_params = {\n",
    "    \"min\": 0,\n",
    "    \"max\": 2,\n",
    "    \"palette\": [\n",
    "        \"black\",\n",
    "        \"green\",\n",
    "        \"red\",\n",
    "    ],  # Black for no change, green for gain, red for loss\n",
    "}\n",
    "\n",
    "# Create a map to visualize the results\n",
    "Map = geemap.Map()\n",
    "Map.centerObject(syria_geometry, 8)\n",
    "\n",
    "# Add the combined layer to the map\n",
    "Map.addLayer(\n",
    "    combined_layer.clip(syria_geometry), combined_vis_params, \"Cropland Gain and Loss\"\n",
    ")\n",
    "\n",
    "# Display the map\n",
    "Map"
   ]
  },
  {
   "cell_type": "code",
   "execution_count": 11,
   "metadata": {
    "tags": [
     "remove-cell"
    ]
   },
   "outputs": [
    {
     "data": {
      "text/html": [
       "\n",
       "            <style>\n",
       "                .geemap-dark {\n",
       "                    --jp-widgets-color: white;\n",
       "                    --jp-widgets-label-color: white;\n",
       "                    --jp-ui-font-color1: white;\n",
       "                    --jp-layout-color2: #454545;\n",
       "                    background-color: #383838;\n",
       "                }\n",
       "\n",
       "                .geemap-dark .jupyter-button {\n",
       "                    --jp-layout-color3: #383838;\n",
       "                }\n",
       "\n",
       "                .geemap-colab {\n",
       "                    background-color: var(--colab-primary-surface-color, white);\n",
       "                }\n",
       "\n",
       "                .geemap-colab .jupyter-button {\n",
       "                    --jp-layout-color3: var(--colab-primary-surface-color, white);\n",
       "                }\n",
       "            </style>\n",
       "            "
      ],
      "text/plain": [
       "<IPython.core.display.HTML object>"
      ]
     },
     "metadata": {},
     "output_type": "display_data"
    },
    {
     "data": {
      "application/vnd.jupyter.widget-view+json": {
       "model_id": "debc135c2511400da2762d32651e593c",
       "version_major": 2,
       "version_minor": 0
      },
      "text/plain": [
       "Map(center=[35.00473784303623, 38.49054487731182], controls=(WidgetControl(options=['position', 'transparent_b…"
      ]
     },
     "execution_count": 11,
     "metadata": {},
     "output_type": "execute_result"
    }
   ],
   "source": [
    "combined_layer = cropland_gain.multiply(1).add(cropland_loss.multiply(2))\n",
    "\n",
    "# Define visualization parameters\n",
    "combined_vis_params = {\n",
    "    \"min\": 0,\n",
    "    \"max\": 2,\n",
    "    \"palette\": [\n",
    "        \"#040303\",\n",
    "        \"#669d5b\",\n",
    "        \"#ca3435\",\n",
    "    ],  # Black for no change, green for gain, red for loss\n",
    "}\n",
    "\n",
    "# Create a map to visualize the results\n",
    "Map = geemap.Map()\n",
    "Map.centerObject(syria_geometry, 8)\n",
    "\n",
    "legend_dict = {\n",
    "    \"Cropland Gain\": \"#669d5b\",  # Green (gain)\n",
    "    \"Cropland Loss\": \"#ca3435\",\n",
    "    \"No change\": \"#040303\",\n",
    "}\n",
    "\n",
    "Map.add_legend(legend_title=\"Cropland Change\", legend_dict=legend_dict)\n",
    "\n",
    "# Add the combined layer to the map\n",
    "Map.addLayer(\n",
    "    combined_layer.clip(syria_geometry), combined_vis_params, \"Cropland Change\"\n",
    ")\n",
    "\n",
    "Map.add_text(\n",
    "    x=0.5,  # Horizontal position (fraction of the map width)\n",
    "    y=0.95,  # Vertical position (fraction of the map height)\n",
    "    text=\"Cropland Change in Syria (2015–2023)\",\n",
    "    fontsize=18,\n",
    "    fontcolor=\"black\",\n",
    "    bgcolor=\"white\",\n",
    "    borderwidth=1,\n",
    "    bordercolor=\"black\",\n",
    ")\n",
    "\n",
    "# Display the map\n",
    "Map"
   ]
  },
  {
   "cell_type": "code",
   "execution_count": null,
   "metadata": {
    "tags": [
     "remove-cell"
    ]
   },
   "outputs": [
    {
     "data": {
      "text/html": [
       "\n",
       "            <style>\n",
       "                .geemap-dark {\n",
       "                    --jp-widgets-color: white;\n",
       "                    --jp-widgets-label-color: white;\n",
       "                    --jp-ui-font-color1: white;\n",
       "                    --jp-layout-color2: #454545;\n",
       "                    background-color: #383838;\n",
       "                }\n",
       "\n",
       "                .geemap-dark .jupyter-button {\n",
       "                    --jp-layout-color3: #383838;\n",
       "                }\n",
       "\n",
       "                .geemap-colab {\n",
       "                    background-color: var(--colab-primary-surface-color, white);\n",
       "                }\n",
       "\n",
       "                .geemap-colab .jupyter-button {\n",
       "                    --jp-layout-color3: var(--colab-primary-surface-color, white);\n",
       "                }\n",
       "            </style>\n",
       "            "
      ],
      "text/plain": [
       "<IPython.core.display.HTML object>"
      ]
     },
     "metadata": {},
     "output_type": "display_data"
    }
   ],
   "source": [
    "dw = (\n",
    "    ee.ImageCollection(\"GOOGLE/DYNAMICWORLD/V1\")\n",
    "    .filterBounds(syria_geometry)\n",
    "    .select(\"label\")\n",
    ")\n",
    "\n",
    "# Define before and after years\n",
    "before_year = 2016\n",
    "after_year = 2023\n",
    "\n",
    "# Define the start and end dates for before and after periods\n",
    "before_start = ee.Date.fromYMD(before_year, 1, 1)\n",
    "before_end = before_start.advance(1, \"year\")\n",
    "after_start = ee.Date.fromYMD(after_year, 1, 1)\n",
    "after_end = after_start.advance(1, \"year\")\n",
    "\n",
    "# Create mean composites and filter for cropland (label == 4)\n",
    "before_dw = dw.filterDate(before_start, before_end).mean().eq(4)\n",
    "after_dw = dw.filterDate(after_start, after_end).mean().eq(4)\n",
    "\n",
    "# Calculate cropland gain and loss\n",
    "cropland_gain = before_dw.lt(0.2).And(after_dw.gt(0.5))\n",
    "cropland_loss = before_dw.gt(0.5).And(after_dw.lt(0.2))"
   ]
  },
  {
   "cell_type": "code",
   "execution_count": 19,
   "metadata": {
    "tags": [
     "remove-cell"
    ]
   },
   "outputs": [
    {
     "data": {
      "text/html": [
       "\n",
       "            <style>\n",
       "                .geemap-dark {\n",
       "                    --jp-widgets-color: white;\n",
       "                    --jp-widgets-label-color: white;\n",
       "                    --jp-ui-font-color1: white;\n",
       "                    --jp-layout-color2: #454545;\n",
       "                    background-color: #383838;\n",
       "                }\n",
       "\n",
       "                .geemap-dark .jupyter-button {\n",
       "                    --jp-layout-color3: #383838;\n",
       "                }\n",
       "\n",
       "                .geemap-colab {\n",
       "                    background-color: var(--colab-primary-surface-color, white);\n",
       "                }\n",
       "\n",
       "                .geemap-colab .jupyter-button {\n",
       "                    --jp-layout-color3: var(--colab-primary-surface-color, white);\n",
       "                }\n",
       "            </style>\n",
       "            "
      ],
      "text/plain": [
       "<IPython.core.display.HTML object>"
      ]
     },
     "metadata": {},
     "output_type": "display_data"
    },
    {
     "data": {
      "application/vnd.jupyter.widget-view+json": {
       "model_id": "0aeb974a0db34a1681cbe4e3c3e3ee03",
       "version_major": 2,
       "version_minor": 0
      },
      "text/plain": [
       "Map(center=[35.00473784303623, 38.49054487731182], controls=(WidgetControl(options=['position', 'transparent_b…"
      ]
     },
     "execution_count": 19,
     "metadata": {},
     "output_type": "execute_result"
    }
   ],
   "source": [
    "# Combine cropland gain and loss into a single layer\n",
    "combined_layer = cropland_gain.multiply(1).add(cropland_loss.multiply(2))\n",
    "\n",
    "# Define visualization parameters\n",
    "combined_vis_params = {\n",
    "    \"min\": 0,\n",
    "    \"max\": 2,\n",
    "    \"palette\": [\n",
    "        \"black\",\n",
    "        \"green\",\n",
    "        \"red\",\n",
    "    ],  # Black for no change, green for gain, red for loss\n",
    "}\n",
    "\n",
    "# Create a map to visualize the results\n",
    "Map = geemap.Map()\n",
    "Map.centerObject(syria_geometry, 8)\n",
    "\n",
    "legend_dict = {\n",
    "    \"Cropland Gain\": \"#669d5b\",  # Green (gain)\n",
    "    \"Cropland Loss\": \"#ca3435\",\n",
    "    \"No change\": \"#040303\",\n",
    "}\n",
    "\n",
    "Map.add_legend(legend_title=\"Cropland Change\", legend_dict=legend_dict)\n",
    "\n",
    "\n",
    "# Add the combined layer to the map\n",
    "Map.addLayer(\n",
    "    combined_layer.clip(syria_geometry), combined_vis_params, \"Cropland Gain and Loss\"\n",
    ")\n",
    "\n",
    "Map.add_text(\n",
    "    x=0.5,  # Horizontal position (fraction of the map width)\n",
    "    y=0.95,  # Vertical position (fraction of the map height)\n",
    "    text=\"Cropland Change in Syria (2016–2023)\",\n",
    "    fontsize=18,\n",
    "    fontcolor=\"black\",\n",
    "    bgcolor=\"white\",\n",
    "    borderwidth=1,\n",
    "    bordercolor=\"black\",\n",
    ")\n",
    "\n",
    "# Display the map\n",
    "Map"
   ]
  },
  {
   "cell_type": "code",
   "execution_count": 9,
   "metadata": {
    "tags": [
     "remove-cell"
    ]
   },
   "outputs": [
    {
     "data": {
      "text/html": [
       "\n",
       "            <style>\n",
       "                .geemap-dark {\n",
       "                    --jp-widgets-color: white;\n",
       "                    --jp-widgets-label-color: white;\n",
       "                    --jp-ui-font-color1: white;\n",
       "                    --jp-layout-color2: #454545;\n",
       "                    background-color: #383838;\n",
       "                }\n",
       "\n",
       "                .geemap-dark .jupyter-button {\n",
       "                    --jp-layout-color3: #383838;\n",
       "                }\n",
       "\n",
       "                .geemap-colab {\n",
       "                    background-color: var(--colab-primary-surface-color, white);\n",
       "                }\n",
       "\n",
       "                .geemap-colab .jupyter-button {\n",
       "                    --jp-layout-color3: var(--colab-primary-surface-color, white);\n",
       "                }\n",
       "            </style>\n",
       "            "
      ],
      "text/plain": [
       "<IPython.core.display.HTML object>"
      ]
     },
     "metadata": {},
     "output_type": "display_data"
    },
    {
     "data": {
      "application/vnd.jupyter.widget-view+json": {
       "model_id": "86751d87e5634f5a88adeef39e4cc65c",
       "version_major": 2,
       "version_minor": 0
      },
      "text/plain": [
       "Map(center=[35.00473784303623, 38.49054487731182], controls=(WidgetControl(options=['position', 'transparent_b…"
      ]
     },
     "execution_count": 9,
     "metadata": {},
     "output_type": "execute_result"
    }
   ],
   "source": [
    "dw = (\n",
    "    ee.ImageCollection(\"GOOGLE/DYNAMICWORLD/V1\")\n",
    "    .filterBounds(syria_geometry)\n",
    "    .select(\"label\")\n",
    ")\n",
    "\n",
    "# Define before and after years\n",
    "before_year = 2016\n",
    "after_year = 2023\n",
    "\n",
    "# Define the start and end dates for before and after periods\n",
    "before_start = ee.Date.fromYMD(before_year, 1, 1)\n",
    "before_end = before_start.advance(1, \"year\")\n",
    "after_start = ee.Date.fromYMD(after_year, 1, 1)\n",
    "after_end = after_start.advance(1, \"year\")\n",
    "\n",
    "# Create mean composites and filter for cropland (label == 4)\n",
    "before_dw = dw.filterDate(before_start, before_end).mosaic().eq(4)\n",
    "after_dw = dw.filterDate(after_start, after_end).mosaic().eq(4)\n",
    "\n",
    "# Calculate cropland gain and loss\n",
    "cropland = before_dw.eq(1)\n",
    "cropland_gain = before_dw.eq(0).And(after_dw.eq(1))  # Areas that became cropland\n",
    "cropland_loss = before_dw.eq(1).And(after_dw.eq(0))\n",
    "# Combine cropland gain and loss into a single layer\n",
    "# combined_layer = cropland.multiply(1).add(cropland_gain.multiply(2)).add(cropland_loss.multiply(3))\n",
    "combined_layer = cropland_gain.multiply(1).add(cropland_loss.multiply(2))\n",
    "# Define visualization parameters\n",
    "combined_vis_params = {\n",
    "    \"min\": 0,\n",
    "    \"max\": 2,\n",
    "    \"palette\": [\n",
    "        \"black\",\n",
    "        \"green\",\n",
    "        \"red\",\n",
    "    ],  # Black for no change, green for gain, red for loss\n",
    "}\n",
    "\n",
    "# Create a map to visualize the results\n",
    "Map = geemap.Map()\n",
    "Map.centerObject(syria_geometry, 8)\n",
    "\n",
    "legend_dict = {\n",
    "    \"Cropland Gain\": \"#669d5b\",  # Green (gain)\n",
    "    \"Cropland Loss\": \"#ca3435\",\n",
    "    #'No change in cropland': '#3028d1',\n",
    "    \"No change\": \"#040303\",\n",
    "}\n",
    "\n",
    "Map.add_legend(legend_title=\"Cropland Change\", legend_dict=legend_dict)\n",
    "\n",
    "\n",
    "# Add the combined layer to the map\n",
    "Map.addLayer(\n",
    "    combined_layer.clip(syria_geometry), combined_vis_params, \"Cropland Gain and Loss\"\n",
    ")\n",
    "\n",
    "Map.add_text(\n",
    "    x=0.5,  # Horizontal position (fraction of the map width)\n",
    "    y=0.95,  # Vertical position (fraction of the map height)\n",
    "    text=\"Cropland Change in Syria (2016–2023)\",\n",
    "    fontsize=18,\n",
    "    fontcolor=\"black\",\n",
    "    bgcolor=\"white\",\n",
    "    borderwidth=1,\n",
    "    bordercolor=\"black\",\n",
    ")\n",
    "\n",
    "# Map.save('dw_lcluc_2024_map.html')\n",
    "\n",
    "# Display the map\n",
    "Map"
   ]
  },
  {
   "cell_type": "code",
   "execution_count": 8,
   "metadata": {
    "tags": [
     "remove-cell"
    ]
   },
   "outputs": [
    {
     "data": {
      "text/html": [
       "\n",
       "            <style>\n",
       "                .geemap-dark {\n",
       "                    --jp-widgets-color: white;\n",
       "                    --jp-widgets-label-color: white;\n",
       "                    --jp-ui-font-color1: white;\n",
       "                    --jp-layout-color2: #454545;\n",
       "                    background-color: #383838;\n",
       "                }\n",
       "\n",
       "                .geemap-dark .jupyter-button {\n",
       "                    --jp-layout-color3: #383838;\n",
       "                }\n",
       "\n",
       "                .geemap-colab {\n",
       "                    background-color: var(--colab-primary-surface-color, white);\n",
       "                }\n",
       "\n",
       "                .geemap-colab .jupyter-button {\n",
       "                    --jp-layout-color3: var(--colab-primary-surface-color, white);\n",
       "                }\n",
       "            </style>\n",
       "            "
      ],
      "text/plain": [
       "<IPython.core.display.HTML object>"
      ]
     },
     "metadata": {},
     "output_type": "display_data"
    },
    {
     "data": {
      "application/vnd.jupyter.widget-view+json": {
       "model_id": "0ea57f5ad385482c82ab1e1e03c87418",
       "version_major": 2,
       "version_minor": 0
      },
      "text/plain": [
       "Map(center=[35.00473784303623, 38.49054487731182], controls=(WidgetControl(options=['position', 'transparent_b…"
      ]
     },
     "execution_count": 8,
     "metadata": {},
     "output_type": "execute_result"
    }
   ],
   "source": [
    "dw = (\n",
    "    ee.ImageCollection(\"GOOGLE/DYNAMICWORLD/V1\")\n",
    "    .filterBounds(syria_geometry)\n",
    "    .select(\"label\")\n",
    ")\n",
    "\n",
    "# Define before and after years\n",
    "before_year = 2016\n",
    "after_year = 2024\n",
    "\n",
    "# Define the start and end dates for before and after periods\n",
    "before_start = ee.Date.fromYMD(before_year, 1, 1)\n",
    "before_end = before_start.advance(1, \"year\")\n",
    "after_start = ee.Date.fromYMD(after_year, 1, 1)\n",
    "after_end = after_start.advance(10, \"month\")\n",
    "\n",
    "# Create mean composites and filter for cropland (label == 4)\n",
    "before_dw = dw.filterDate(before_start, before_end).mosaic().eq(4)\n",
    "after_dw = dw.filterDate(after_start, after_end).mosaic().eq(4)\n",
    "\n",
    "# Calculate cropland gain and loss\n",
    "# cropland = before_dw.eq(1)\n",
    "cropland_gain = before_dw.eq(0).And(after_dw.eq(1))  # Areas that became cropland\n",
    "cropland_loss = before_dw.eq(1).And(after_dw.eq(0))\n",
    "# Combine cropland gain and loss into a single layer\n",
    "# combined_layer = cropland.multiply(1).add(cropland_gain.multiply(2)).add(cropland_loss.multiply(3))\n",
    "combined_layer = cropland_gain.multiply(1).add(cropland_loss.multiply(2))\n",
    "# Define visualization parameters\n",
    "combined_vis_params = {\n",
    "    \"min\": 0,\n",
    "    \"max\": 2,\n",
    "    \"palette\": [\n",
    "        \"black\",\n",
    "        \"green\",\n",
    "        \"red\",\n",
    "    ],  # Black for no change, green for gain, red for loss\n",
    "}\n",
    "\n",
    "# Create a map to visualize the results\n",
    "Map = geemap.Map()\n",
    "Map.centerObject(syria_geometry, 8)\n",
    "\n",
    "legend_dict = {\n",
    "    \"Cropland Gain\": \"#669d5b\",  # Green (gain)\n",
    "    \"Cropland Loss\": \"#ca3435\",\n",
    "    #'No change in cropland': '#3028d1',\n",
    "    \"No change\": \"#040303\",\n",
    "}\n",
    "\n",
    "Map.add_legend(legend_title=\"Cropland Change\", legend_dict=legend_dict)\n",
    "\n",
    "\n",
    "# Add the combined layer to the map\n",
    "Map.addLayer(\n",
    "    combined_layer.clip(syria_geometry), combined_vis_params, \"Cropland Gain and Loss\"\n",
    ")\n",
    "\n",
    "Map.add_text(\n",
    "    x=0.5,  # Horizontal position (fraction of the map width)\n",
    "    y=0.95,  # Vertical position (fraction of the map height)\n",
    "    text=\"Cropland Change in Syria (2016–2024)\",\n",
    "    fontsize=18,\n",
    "    fontcolor=\"black\",\n",
    "    bgcolor=\"white\",\n",
    "    borderwidth=1,\n",
    "    bordercolor=\"black\",\n",
    ")\n",
    "\n",
    "# Map.save('dw_lcluc_2024_map.html')\n",
    "\n",
    "# Display the map\n",
    "Map"
   ]
  },
  {
   "cell_type": "code",
   "execution_count": null,
   "metadata": {
    "tags": [
     "remove-cell"
    ]
   },
   "outputs": [
    {
     "data": {
      "text/html": [
       "\n",
       "            <style>\n",
       "                .geemap-dark {\n",
       "                    --jp-widgets-color: white;\n",
       "                    --jp-widgets-label-color: white;\n",
       "                    --jp-ui-font-color1: white;\n",
       "                    --jp-layout-color2: #454545;\n",
       "                    background-color: #383838;\n",
       "                }\n",
       "\n",
       "                .geemap-dark .jupyter-button {\n",
       "                    --jp-layout-color3: #383838;\n",
       "                }\n",
       "\n",
       "                .geemap-colab {\n",
       "                    background-color: var(--colab-primary-surface-color, white);\n",
       "                }\n",
       "\n",
       "                .geemap-colab .jupyter-button {\n",
       "                    --jp-layout-color3: var(--colab-primary-surface-color, white);\n",
       "                }\n",
       "            </style>\n",
       "            "
      ],
      "text/plain": [
       "<IPython.core.display.HTML object>"
      ]
     },
     "metadata": {},
     "output_type": "display_data"
    },
    {
     "data": {
      "application/vnd.jupyter.widget-view+json": {
       "model_id": "7c66f093e28248f2932f2b999c58592b",
       "version_major": 2,
       "version_minor": 0
      },
      "text/plain": [
       "Map(center=[35.00473784303623, 38.49054487731182], controls=(WidgetControl(options=['position', 'transparent_b…"
      ]
     },
     "execution_count": 45,
     "metadata": {},
     "output_type": "execute_result"
    }
   ],
   "source": [
    "dw = (\n",
    "    ee.ImageCollection(\"GOOGLE/DYNAMICWORLD/V1\")\n",
    "    .filterBounds(syria_geometry)\n",
    "    .select(\"label\")\n",
    ")\n",
    "\n",
    "# Define before and after years\n",
    "before_year = 2023\n",
    "after_year = 2024\n",
    "\n",
    "# Define the start and end dates for before and after periods\n",
    "before_start = ee.Date.fromYMD(before_year, 1, 1)\n",
    "before_end = before_start.advance(1, \"year\")\n",
    "after_start = ee.Date.fromYMD(after_year, 1, 1)\n",
    "after_end = after_start.advance(10, \"month\")\n",
    "\n",
    "# Create mean composites and filter for cropland (label == 4)\n",
    "before_dw = dw.filterDate(before_start, before_end).mode().eq(4)\n",
    "after_dw = dw.filterDate(after_start, after_end).mode().eq(4)\n",
    "\n",
    "# Calculate cropland gain and loss\n",
    "cropland = before_dw.eq(1)\n",
    "cropland_gain = before_dw.eq(0).And(after_dw.eq(1))  # Areas that became cropland\n",
    "cropland_loss = before_dw.eq(1).And(after_dw.eq(0))\n",
    "# Combine cropland gain and loss into a single layer\n",
    "# combined_layer = cropland.multiply(1).add(cropland_gain.multiply(2)).add(cropland_loss.multiply(3))\n",
    "combined_layer = cropland_gain.multiply(1).add(cropland_loss.multiply(2))\n",
    "# Define visualization parameters\n",
    "combined_vis_params = {\n",
    "    \"min\": 0,\n",
    "    \"max\": 2,\n",
    "    \"palette\": [\n",
    "        \"black\",\n",
    "        \"green\",\n",
    "        \"red\",\n",
    "    ],  # Black for no change, green for gain, red for loss\n",
    "}\n",
    "\n",
    "# Create a map to visualize the results\n",
    "Map = geemap.Map()\n",
    "Map.centerObject(syria_geometry, 8)\n",
    "\n",
    "legend_dict = {\n",
    "    \"Cropland Gain\": \"#669d5b\",  # Green (gain)\n",
    "    \"Cropland Loss\": \"#ca3435\",\n",
    "    \"No change in cropland\": \"#3028d1\",\n",
    "    \"Non cropland\": \"#040303\",\n",
    "}\n",
    "\n",
    "Map.add_legend(legend_title=\"Cropland Change\", legend_dict=legend_dict)\n",
    "\n",
    "\n",
    "# Add the combined layer to the map\n",
    "Map.addLayer(\n",
    "    combined_layer.clip(syria_geometry), combined_vis_params, \"Cropland Gain and Loss\"\n",
    ")\n",
    "\n",
    "Map.add_text(\n",
    "    x=0.5,  # Horizontal position (fraction of the map width)\n",
    "    y=0.95,  # Vertical position (fraction of the map height)\n",
    "    text=\"Cropland Change in Syria (2023–2024)\",\n",
    "    fontsize=18,\n",
    "    fontcolor=\"black\",\n",
    "    bgcolor=\"white\",\n",
    "    borderwidth=1,\n",
    "    bordercolor=\"black\",\n",
    ")\n",
    "\n",
    "# Map.save('dw_lcluc_2024_map.html')\n",
    "\n",
    "# Display the map\n",
    "Map"
   ]
  },
  {
   "cell_type": "code",
   "execution_count": 11,
   "metadata": {
    "tags": [
     "remove-cell"
    ]
   },
   "outputs": [
    {
     "data": {
      "text/html": [
       "\n",
       "            <style>\n",
       "                .geemap-dark {\n",
       "                    --jp-widgets-color: white;\n",
       "                    --jp-widgets-label-color: white;\n",
       "                    --jp-ui-font-color1: white;\n",
       "                    --jp-layout-color2: #454545;\n",
       "                    background-color: #383838;\n",
       "                }\n",
       "\n",
       "                .geemap-dark .jupyter-button {\n",
       "                    --jp-layout-color3: #383838;\n",
       "                }\n",
       "\n",
       "                .geemap-colab {\n",
       "                    background-color: var(--colab-primary-surface-color, white);\n",
       "                }\n",
       "\n",
       "                .geemap-colab .jupyter-button {\n",
       "                    --jp-layout-color3: var(--colab-primary-surface-color, white);\n",
       "                }\n",
       "            </style>\n",
       "            "
      ],
      "text/plain": [
       "<IPython.core.display.HTML object>"
      ]
     },
     "metadata": {},
     "output_type": "display_data"
    },
    {
     "data": {
      "application/vnd.jupyter.widget-view+json": {
       "model_id": "5e2d44b4a0c44f44827fe8f2596fd92d",
       "version_major": 2,
       "version_minor": 0
      },
      "text/plain": [
       "Map(center=[35.00473784303623, 38.49054487731182], controls=(WidgetControl(options=['position', 'transparent_b…"
      ]
     },
     "execution_count": 11,
     "metadata": {},
     "output_type": "execute_result"
    }
   ],
   "source": [
    "modis_lc = (\n",
    "    ee.ImageCollection(\"MODIS/061/MCD12Q1\")\n",
    "    .filterBounds(syria_geometry)\n",
    "    .select(\"LC_Type2\")\n",
    ")\n",
    "\n",
    "\n",
    "# Define before and after years\n",
    "before_year = 2010\n",
    "after_year = 2011\n",
    "\n",
    "# Define the start and end dates for before and after periods\n",
    "before_start = ee.Date.fromYMD(before_year, 1, 1)\n",
    "before_end = before_start.advance(1, \"year\")\n",
    "after_start = ee.Date.fromYMD(after_year, 1, 1)\n",
    "after_end = after_start.advance(1, \"year\")\n",
    "\n",
    "# Create mean composites and filter for cropland (label == 4)\n",
    "before_lc = modis_lc.filterDate(before_start, before_end).mosaic().eq(12)\n",
    "after_lc = modis_lc.filterDate(after_start, after_end).mosaic().eq(12)\n",
    "\n",
    "# Calculate cropland gain and loss\n",
    "cropland = before_lc.eq(1)\n",
    "cropland_gain = before_lc.eq(0).And(after_lc.eq(1))  # Areas that became cropland\n",
    "cropland_loss = before_lc.eq(1).And(after_lc.eq(0))\n",
    "# Combine cropland gain and loss into a single layer\n",
    "# combined_layer = cropland.multiply(1).add(cropland_gain.multiply(2)).add(cropland_loss.multiply(3))\n",
    "combined_layer = cropland_gain.multiply(1).add(cropland_loss.multiply(2))\n",
    "\n",
    "\n",
    "# Define visualization parameters\n",
    "combined_vis_params = {\n",
    "    \"min\": 0,\n",
    "    \"max\": 2,\n",
    "    \"palette\": [\n",
    "        \"black\",\n",
    "        \"green\",\n",
    "        \"red\",\n",
    "    ],  # Black for no change, green for gain, red for loss\n",
    "}\n",
    "\n",
    "# Create a map to visualize the results\n",
    "Map = geemap.Map()\n",
    "Map.centerObject(syria_geometry, 8)\n",
    "\n",
    "legend_dict = {\n",
    "    \"Cropland Gain\": \"#669d5b\",  # Green (gain)\n",
    "    \"Cropland Loss\": \"#ca3435\",\n",
    "    #'No change in cropland': '#3028d1',\n",
    "    \"No change\": \"#040303\",\n",
    "}\n",
    "\n",
    "Map.add_legend(legend_title=\"Cropland Change\", legend_dict=legend_dict)\n",
    "\n",
    "\n",
    "# Add the combined layer to the map\n",
    "Map.addLayer(\n",
    "    combined_layer.clip(syria_geometry), combined_vis_params, \"Cropland Gain and Loss\"\n",
    ")\n",
    "\n",
    "Map.add_text(\n",
    "    x=0.5,  # Horizontal position (fraction of the map width)\n",
    "    y=0.95,  # Vertical position (fraction of the map height)\n",
    "    text=\"Cropland Change in Syria (2010–2011)\",\n",
    "    fontsize=18,\n",
    "    fontcolor=\"black\",\n",
    "    bgcolor=\"white\",\n",
    "    borderwidth=1,\n",
    "    bordercolor=\"black\",\n",
    ")\n",
    "\n",
    "Map.save(\"modis_lcluc_2011_map.html\")\n",
    "\n",
    "# Display the map\n",
    "Map"
   ]
  }
 ],
 "metadata": {
  "kernelspec": {
   "display_name": "GIS",
   "language": "python",
   "name": "python3"
  },
  "language_info": {
   "codemirror_mode": {
    "name": "ipython",
    "version": 3
   },
   "file_extension": ".py",
   "mimetype": "text/x-python",
   "name": "python",
   "nbconvert_exporter": "python",
   "pygments_lexer": "ipython3",
   "version": "3.9.20"
  }
 },
 "nbformat": 4,
 "nbformat_minor": 2
}
