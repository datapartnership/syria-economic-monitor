{
 "cells": [
  {
   "cell_type": "markdown",
   "id": "c41c3d76",
   "metadata": {},
   "source": [
    "# Using Nighttime Lights, NO2 and EVI as proxies for GDP"
   ]
  },
  {
   "cell_type": "code",
   "execution_count": 3,
   "id": "bc55c804",
   "metadata": {
    "tags": [
     "remove-cell"
    ]
   },
   "outputs": [],
   "source": [
    "import pandas as pd\n",
    "import geopandas as gpd"
   ]
  },
  {
   "cell_type": "code",
   "execution_count": 4,
   "id": "63fde94b",
   "metadata": {
    "tags": [
     "remove-cell"
    ]
   },
   "outputs": [],
   "source": [
    "ntl_admin0_annual = pd.read_csv(\"../../data/ntl/adm0_annual.csv\")\n",
    "ntl_admin1_annual = pd.read_csv(\"../../data/ntl/adm1_annual.csv\")\n",
    "ntl_admin2_annual = pd.read_csv(\"../../data/ntl/adm2_annual.csv\")\n",
    "ntl_admin3_annual = pd.read_csv(\"../../data/ntl/adm3_annual.csv\")\n",
    "\n",
    "ntl_admin0_monthly = pd.read_csv(\"../../data/ntl/adm0_monthly.csv\")\n",
    "ntl_admin1_monthly = pd.read_csv(\"../../data/ntl/adm1_monthly.csv\")\n",
    "ntl_admin2_monthly = pd.read_csv(\"../../data/ntl/adm2_monthly.csv\")\n",
    "ntl_admin3_monthly = pd.read_csv(\"../../data/ntl/adm3_monthly.csv\")"
   ]
  },
  {
   "cell_type": "code",
   "execution_count": 19,
   "id": "0ae3c1a8",
   "metadata": {
    "tags": [
     "remove-cell"
    ]
   },
   "outputs": [],
   "source": [
    "syria_adm1_shp = gpd.read_file(\"../../data/boundaries/syr_admin1.shp\")\n",
    "syria_adm2_shp = gpd.read_file(\"../../data/boundaries/syr_admin2.shp\")\n",
    "syria_adm3_shp = gpd.read_file(\"../../data/boundaries/syr_admin3.shp\")\n",
    "syria_adm0_shp = gpd.read_file(\"../../data/boundaries/syr_admin0.shp\")"
   ]
  },
  {
   "cell_type": "code",
   "execution_count": 17,
   "id": "45c8a778",
   "metadata": {
    "tags": [
     "remove-cell"
    ]
   },
   "outputs": [],
   "source": [
    "PROJECT_ROOT = Path().cwd().parent.parent\n",
    "DATA_PATH = PROJECT_ROOT / \"data\"\n",
    "BOUNDARIES_PATH = DATA_PATH / \"boundaries\"\n",
    "EVI_PATH = DATA_PATH / \"evi\""
   ]
  },
  {
   "cell_type": "code",
   "execution_count": 13,
   "id": "a4e4e413",
   "metadata": {
    "tags": [
     "remove-cell"
    ]
   },
   "outputs": [],
   "source": [
    "from pathlib import Path\n",
    "\n",
    "\n",
    "def preprocess_evi(evi_file: str | Path) -> pd.DataFrame:\n",
    "    \"\"\"Preprocess EVI CSV file.\"\"\"\n",
    "    evi_df = pd.read_csv(evi_file)\n",
    "\n",
    "    metadata_cols = [\n",
    "        col\n",
    "        for col in evi_df.columns\n",
    "        for word in [\"PCODE\", \"_AR\", \"_EN\", \".geo\"]\n",
    "        if word in col\n",
    "    ]\n",
    "    evi_df = (\n",
    "        evi_df.rename(columns=lambda col: col[-14:] if col.endswith(\"_EVI\") else col)\n",
    "        .drop(columns=[\"system:index\", \"UPDATE_DAT\"])\n",
    "        .melt(\n",
    "            id_vars=metadata_cols,\n",
    "            var_name=\"band_date\",\n",
    "            value_name=\"EVI\",\n",
    "        )\n",
    "        .assign(\n",
    "            date=lambda df: pd.to_datetime(\n",
    "                df[\"band_date\"].str.extract(r\"(\\d{4}_\\d{2}_\\d{2})\")[0],\n",
    "                format=\"%Y_%m_%d\",\n",
    "            ),\n",
    "        )\n",
    "    )\n",
    "    return evi_df"
   ]
  },
  {
   "cell_type": "code",
   "execution_count": 84,
   "id": "3a1297fb",
   "metadata": {
    "tags": [
     "remove-cell"
    ]
   },
   "outputs": [],
   "source": [
    "def filter_growing_season(df: pd.DataFrame) -> pd.DataFrame:\n",
    "    \"\"\"\n",
    "    Filter dataframe for growing seasons only.\n",
    "    Growing season is defined as February to June\n",
    "    \"\"\"\n",
    "    start_year = df[\"date\"].dt.year.min()\n",
    "    end_year = df[\"date\"].dt.year.max()\n",
    "\n",
    "    seasons = []\n",
    "    for year in range(start_year, end_year + 1):\n",
    "        # February to June of this year\n",
    "        season_start = pd.Timestamp(f\"{year}-02-01\")\n",
    "        season_end = pd.Timestamp(f\"{year}-06-30\")\n",
    "\n",
    "        season_data = df.query(\"date >= @season_start and date <= @season_end\").assign(\n",
    "            year=pd.to_datetime(f\"{year}-01-01\")\n",
    "        )\n",
    "\n",
    "        seasons.append(season_data)\n",
    "\n",
    "    return pd.concat(seasons, ignore_index=True)"
   ]
  },
  {
   "cell_type": "code",
   "execution_count": 86,
   "id": "cdbd640b",
   "metadata": {
    "tags": [
     "remove-cell"
    ]
   },
   "outputs": [],
   "source": [
    "evi_adm0_df = (\n",
    "    pd.concat(\n",
    "        [\n",
    "            preprocess_evi(\n",
    "                EVI_PATH / \"Admin level 0\" / f\"syria_adm0_evi_stats_{year}.csv\"\n",
    "            )\n",
    "            for year in range(2010, 2026)\n",
    "        ],\n",
    "    )\n",
    "    .drop(columns=[\".geo\"])\n",
    "    .merge(syria_adm1_shp.filter([\"PCODE\", \"geometry\"]), on=\"PCODE\", how=\"left\")\n",
    "    .sort_values([\"date\", \"NAME_EN\"])\n",
    "    .reset_index(drop=True)\n",
    "    .assign(\n",
    "        month=lambda df: df[\"date\"].dt.to_period(\"M\").dt.to_timestamp(),\n",
    "        year=lambda df: df[\"date\"].dt.to_period(\"Y\").dt.to_timestamp(),\n",
    "    )\n",
    "    .set_index(\"date\")\n",
    ")\n",
    "\n",
    "evi_adm1_df = (\n",
    "    pd.concat(\n",
    "        [\n",
    "            preprocess_evi(\n",
    "                EVI_PATH / \"Admin level 1\" / f\"syria_adm1_evi_stats_{year}.csv\"\n",
    "            )\n",
    "            for year in range(2010, 2026)\n",
    "        ],\n",
    "    )\n",
    "    .drop(columns=[\".geo\"])\n",
    "    .merge(syria_adm1_shp.filter([\"PCODE\", \"geometry\"]), on=\"PCODE\", how=\"left\")\n",
    "    .sort_values([\"date\", \"NAME_EN\"])\n",
    "    .reset_index(drop=True)\n",
    "    .assign(\n",
    "        month=lambda df: df[\"date\"].dt.to_period(\"M\").dt.to_timestamp(),\n",
    "        year=lambda df: df[\"date\"].dt.to_period(\"Y\").dt.to_timestamp(),\n",
    "    )\n",
    ")\n",
    "\n",
    "evi_adm2_df = (\n",
    "    pd.concat(\n",
    "        [\n",
    "            preprocess_evi(\n",
    "                EVI_PATH / \"Admin level 2\" / f\"syria_adm2_evi_stats_{year}.csv\"\n",
    "            )\n",
    "            for year in range(2010, 2026)\n",
    "        ],\n",
    "    )\n",
    "    .drop(columns=[\".geo\"])\n",
    "    .merge(syria_adm2_shp.filter([\"PCODE\", \"geometry\"]), on=\"PCODE\", how=\"left\")\n",
    "    .sort_values([\"date\", \"NAME_EN\"])\n",
    "    .assign(\n",
    "        month=lambda df: df[\"date\"].dt.to_period(\"M\").dt.to_timestamp(),\n",
    "        year=lambda df: df[\"date\"].dt.to_period(\"Y\").dt.to_timestamp(),\n",
    "    )\n",
    ")\n",
    "\n",
    "evi_adm2_median = (\n",
    "    evi_adm2_df.pipe(filter_growing_season)\n",
    "    .groupby([\"year\", \"PCODE\", \"NAME_EN\"], as_index=False)\n",
    "    .agg(EVI=(\"EVI\", \"median\"))\n",
    "    .assign(EVI=lambda df: df[\"EVI\"].round(3))\n",
    "    .rename(columns={\"NAME_EN\": \"Name\"})\n",
    ")\n",
    "\n",
    "evi_adm3_df = (\n",
    "    pd.concat(\n",
    "        [\n",
    "            preprocess_evi(\n",
    "                EVI_PATH / \"Admin level 3\" / f\"syria_adm3_evi_stats_{year}.csv\"\n",
    "            )\n",
    "            for year in range(2010, 2026)\n",
    "        ],\n",
    "    )\n",
    "    .drop(columns=[\".geo\"])\n",
    "    .merge(syria_adm3_shp.filter([\"PCODE\", \"geometry\"]), on=\"PCODE\", how=\"left\")\n",
    "    .sort_values([\"date\", \"NAME_EN\"])\n",
    "    .assign(\n",
    "        month=lambda df: df[\"date\"].dt.to_period(\"M\").dt.to_timestamp(),\n",
    "        year=lambda df: df[\"date\"].dt.to_period(\"Y\").dt.to_timestamp(),\n",
    "    )\n",
    ")\n",
    "\n",
    "evi_adm3_median = (\n",
    "    evi_adm3_df.pipe(filter_growing_season)\n",
    "    .groupby([\"year\", \"PCODE\", \"NAME_EN\"], as_index=False)\n",
    "    .agg(EVI=(\"EVI\", \"median\"))\n",
    "    .assign(EVI=lambda df: df[\"EVI\"].round(3))\n",
    "    .rename(columns={\"NAME_EN\": \"Name\"})\n",
    ")\n",
    "\n",
    "evi_adm1_median = (\n",
    "    evi_adm1_df.pipe(filter_growing_season)\n",
    "    .groupby([\"year\", \"PCODE\", \"NAME_EN\"], as_index=False)\n",
    "    .agg(EVI=(\"EVI\", \"median\"))\n",
    "    .assign(EVI=lambda df: df[\"EVI\"].round(3))\n",
    "    .rename(columns={\"NAME_EN\": \"Name\"})\n",
    ")\n",
    "\n",
    "evi_adm0_median = (\n",
    "    evi_adm0_df.reset_index()\n",
    "    .pipe(filter_growing_season)\n",
    "    .groupby(\"year\", as_index=False)\n",
    "    .agg(EVI=(\"EVI\", \"median\"))\n",
    "    .assign(EVI=lambda df: df[\"EVI\"].round(3))\n",
    ")\n",
    "\n",
    "evi_adm0_median.rename(columns={\"year\": \"date\"}, inplace=True)"
   ]
  },
  {
   "cell_type": "code",
   "execution_count": 44,
   "id": "bb118682",
   "metadata": {
    "tags": [
     "remove-cell"
    ]
   },
   "outputs": [],
   "source": [
    "no2_adm1_monthly = pd.read_csv(\n",
    "    \"../../data//airpollution/admin1/syria_adm1_no2_monthly_combined.csv\"\n",
    ")\n",
    "no2_adm1_monthly.rename(columns={\"mean\": \"mean_no2\"}, inplace=True)\n",
    "no2_adm0_monthly = pd.read_csv(\n",
    "    \"../../data/airpollution/admin0/syr_admin0_no2_monthly_combined.csv\"\n",
    ")\n",
    "no2_adm0_monthly.rename(columns={\"mean\": \"mean_no2\"}, inplace=True)\n",
    "no2_adm2_monthly = pd.read_csv(\n",
    "    \"../../data//airpollution/admin2/syr_admin2_no2_monthly_combined.csv\"\n",
    ")\n",
    "no2_adm2_monthly.rename(columns={\"mean\": \"mean_no2\"}, inplace=True)\n",
    "no2_adm3_monthly = pd.read_csv(\n",
    "    \"../../data//airpollution/admin3/syr_admin3_no2_monthly_combined.csv\"\n",
    ")\n",
    "no2_adm3_monthly.rename(columns={\"mean\": \"mean_no2\"}, inplace=True)"
   ]
  },
  {
   "cell_type": "code",
   "execution_count": 45,
   "id": "ae6a7c93",
   "metadata": {
    "tags": [
     "remove-cell"
    ]
   },
   "outputs": [],
   "source": [
    "no2_adm0_monthly[\"start_date\"] = pd.to_datetime(no2_adm0_monthly[\"start_date\"])\n",
    "no2_adm0_annual = (\n",
    "    no2_adm0_monthly.groupby([\"NAME_EN\", pd.Grouper(key=\"start_date\", freq=\"YS\")])[\n",
    "        \"mean_no2\"\n",
    "    ]\n",
    "    .mean()\n",
    "    .reset_index()\n",
    ")"
   ]
  },
  {
   "cell_type": "code",
   "execution_count": 57,
   "id": "d3f3d4c6",
   "metadata": {
    "tags": [
     "remove-cell"
    ]
   },
   "outputs": [],
   "source": [
    "gdp = pd.read_excel(\"../../data/GDP Syria LCU.xlsx\")\n",
    "gdp.rename(columns={\"Unnamed: 0\": \"year\"}, inplace=True)"
   ]
  },
  {
   "cell_type": "code",
   "execution_count": null,
   "id": "77196cf3",
   "metadata": {
    "tags": [
     "remove-cell"
    ]
   },
   "outputs": [],
   "source": [
    "# Import our custom visualization functions"
   ]
  },
  {
   "cell_type": "code",
   "execution_count": 88,
   "id": "900b8f1f",
   "metadata": {
    "tags": [
     "remove-cell"
    ]
   },
   "outputs": [
    {
     "name": "stdout",
     "output_type": "stream",
     "text": [
      "Data preparation complete!\n",
      "GDP years: [np.int32(2008), np.int32(2009), np.int32(2010), np.int32(2011), np.int32(2012), np.int32(2013), np.int32(2014), np.int32(2015), np.int32(2016), np.int32(2017), np.int32(2018), np.int32(2019), np.int32(2020), np.int32(2021), np.int32(2022), np.int32(2023), np.int32(2024)]\n",
      "NO2 years: [np.int32(2019), np.int32(2020), np.int32(2021), np.int32(2022), np.int32(2023), np.int32(2024)]\n",
      "NTL years: [np.int64(2012), np.int64(2013), np.int64(2014), np.int64(2015), np.int64(2016), np.int64(2017), np.int64(2018), np.int64(2019), np.int64(2020), np.int64(2021), np.int64(2022), np.int64(2023), np.int64(2024)]\n",
      "EVI years: [np.int32(2010), np.int32(2011), np.int32(2012), np.int32(2013), np.int32(2014), np.int32(2015), np.int32(2016), np.int32(2017), np.int32(2018), np.int32(2019), np.int32(2020), np.int32(2021), np.int32(2022), np.int32(2023), np.int32(2024), np.int32(2025)]\n",
      "\n",
      "Overlapping years GDP-NO2: [2019, 2020, 2021, 2022, 2023, 2024]\n",
      "Overlapping years GDP-NTL: [2012, 2013, 2014, 2015, 2016, 2017, 2018, 2019, 2020, 2021, 2022, 2023, 2024]\n",
      "Overlapping years GDP-EVI: [2010, 2011, 2012, 2013, 2014, 2015, 2016, 2017, 2018, 2019, 2020, 2021, 2022, 2023, 2024]\n"
     ]
    }
   ],
   "source": [
    "# Prepare the data for visualization using correct column names and format\n",
    "\n",
    "# Convert GDP year column to integer for consistent merging\n",
    "gdp[\"year_int\"] = gdp[\"year\"].dt.year\n",
    "\n",
    "# NO2 data: extract year as integer from start_date\n",
    "no2_adm0_annual[\"date\"] = pd.to_datetime(no2_adm0_annual[\"start_date\"])\n",
    "no2_adm0_annual[\"year_int\"] = no2_adm0_annual[\"date\"].dt.year\n",
    "\n",
    "# NTL data: the 'date' column is already year as integer\n",
    "ntl_admin0_annual[\"year_int\"] = ntl_admin0_annual[\"date\"]\n",
    "\n",
    "# EVI data: extract year as integer from the year column\n",
    "evi_adm0_median[\"date\"] = pd.to_datetime(evi_adm0_median[\"date\"])\n",
    "evi_adm0_median[\"year_int\"] = evi_adm0_median[\"date\"].dt.year\n",
    "\n",
    "print(\"Data preparation complete!\")\n",
    "print(\"GDP years:\", sorted(gdp[\"year_int\"].unique()))\n",
    "print(\"NO2 years:\", sorted(no2_adm0_annual[\"year_int\"].unique()))\n",
    "print(\"NTL years:\", sorted(ntl_admin0_annual[\"year_int\"].unique()))\n",
    "print(\"EVI years:\", sorted(evi_adm0_median[\"year_int\"].unique()))\n",
    "\n",
    "# Check overlaps\n",
    "gdp_years = set(gdp[\"year_int\"])\n",
    "no2_years = set(no2_adm0_annual[\"year_int\"])\n",
    "ntl_years = set(ntl_admin0_annual[\"year_int\"])\n",
    "evi_years = set(evi_adm0_median[\"year_int\"])\n",
    "\n",
    "print(f\"\\nOverlapping years GDP-NO2: {sorted(gdp_years.intersection(no2_years))}\")\n",
    "print(f\"Overlapping years GDP-NTL: {sorted(gdp_years.intersection(ntl_years))}\")\n",
    "print(f\"Overlapping years GDP-EVI: {sorted(gdp_years.intersection(evi_years))}\")"
   ]
  },
  {
   "cell_type": "code",
   "execution_count": 99,
   "id": "0033009e",
   "metadata": {
    "tags": [
     "remove-input"
    ]
   },
   "outputs": [
    {
     "name": "stdout",
     "output_type": "stream",
     "text": [
      "GDP vs Economic/Environmental Indicators:\n"
     ]
    },
    {
     "data": {
      "text/html": [
       "\n",
       "<style>\n",
       "  #altair-viz-10763ef2c1724cd28598bd78ffcca945.vega-embed {\n",
       "    width: 100%;\n",
       "    display: flex;\n",
       "  }\n",
       "\n",
       "  #altair-viz-10763ef2c1724cd28598bd78ffcca945.vega-embed details,\n",
       "  #altair-viz-10763ef2c1724cd28598bd78ffcca945.vega-embed details summary {\n",
       "    position: relative;\n",
       "  }\n",
       "</style>\n",
       "<div id=\"altair-viz-10763ef2c1724cd28598bd78ffcca945\"></div>\n",
       "<script type=\"text/javascript\">\n",
       "  var VEGA_DEBUG = (typeof VEGA_DEBUG == \"undefined\") ? {} : VEGA_DEBUG;\n",
       "  (function(spec, embedOpt){\n",
       "    let outputDiv = document.currentScript.previousElementSibling;\n",
       "    if (outputDiv.id !== \"altair-viz-10763ef2c1724cd28598bd78ffcca945\") {\n",
       "      outputDiv = document.getElementById(\"altair-viz-10763ef2c1724cd28598bd78ffcca945\");\n",
       "    }\n",
       "\n",
       "    const paths = {\n",
       "      \"vega\": \"https://cdn.jsdelivr.net/npm/vega@5?noext\",\n",
       "      \"vega-lib\": \"https://cdn.jsdelivr.net/npm/vega-lib?noext\",\n",
       "      \"vega-lite\": \"https://cdn.jsdelivr.net/npm/vega-lite@5.20.1?noext\",\n",
       "      \"vega-embed\": \"https://cdn.jsdelivr.net/npm/vega-embed@6?noext\",\n",
       "    };\n",
       "\n",
       "    function maybeLoadScript(lib, version) {\n",
       "      var key = `${lib.replace(\"-\", \"\")}_version`;\n",
       "      return (VEGA_DEBUG[key] == version) ?\n",
       "        Promise.resolve(paths[lib]) :\n",
       "        new Promise(function(resolve, reject) {\n",
       "          var s = document.createElement('script');\n",
       "          document.getElementsByTagName(\"head\")[0].appendChild(s);\n",
       "          s.async = true;\n",
       "          s.onload = () => {\n",
       "            VEGA_DEBUG[key] = version;\n",
       "            return resolve(paths[lib]);\n",
       "          };\n",
       "          s.onerror = () => reject(`Error loading script: ${paths[lib]}`);\n",
       "          s.src = paths[lib];\n",
       "        });\n",
       "    }\n",
       "\n",
       "    function showError(err) {\n",
       "      outputDiv.innerHTML = `<div class=\"error\" style=\"color:red;\">${err}</div>`;\n",
       "      throw err;\n",
       "    }\n",
       "\n",
       "    function displayChart(vegaEmbed) {\n",
       "      vegaEmbed(outputDiv, spec, embedOpt)\n",
       "        .catch(err => showError(`Javascript Error: ${err.message}<br>This usually means there's a typo in your chart specification. See the javascript console for the full traceback.`));\n",
       "    }\n",
       "\n",
       "    if(typeof define === \"function\" && define.amd) {\n",
       "      requirejs.config({paths});\n",
       "      let deps = [\"vega-embed\"];\n",
       "      require(deps, displayChart, err => showError(`Error loading script: ${err.message}`));\n",
       "    } else {\n",
       "      maybeLoadScript(\"vega\", \"5\")\n",
       "        .then(() => maybeLoadScript(\"vega-lite\", \"5.20.1\"))\n",
       "        .then(() => maybeLoadScript(\"vega-embed\", \"6\"))\n",
       "        .catch(showError)\n",
       "        .then(() => displayChart(vegaEmbed));\n",
       "    }\n",
       "  })({\"config\": {\"view\": {\"continuousWidth\": 300, \"continuousHeight\": 300}}, \"vconcat\": [{\"hconcat\": [{\"layer\": [{\"mark\": {\"type\": \"line\", \"color\": \"#2E8B57\", \"point\": {\"filled\": true, \"size\": 80}, \"strokeWidth\": 3}, \"encoding\": {\"tooltip\": [{\"field\": \"year_int\", \"type\": \"ordinal\"}, {\"field\": \"GDP per capita (constant SYP)\", \"type\": \"quantitative\"}, {\"field\": \"mean_no2\", \"type\": \"quantitative\"}], \"x\": {\"axis\": {\"labelAngle\": 45}, \"field\": \"year_int\", \"title\": \"Year\", \"type\": \"ordinal\"}, \"y\": {\"field\": \"GDP per capita (constant SYP)\", \"scale\": {\"zero\": false}, \"title\": \"GDP (LCU)\", \"type\": \"quantitative\"}}, \"name\": \"view_28\", \"transform\": [{\"calculate\": \"'GDP (LCU)'\", \"as\": \"variable\"}]}, {\"mark\": {\"type\": \"line\", \"color\": \"#DC143C\", \"point\": {\"filled\": true, \"size\": 80}, \"strokeDash\": [5, 5], \"strokeWidth\": 3}, \"encoding\": {\"tooltip\": [{\"field\": \"year_int\", \"type\": \"ordinal\"}, {\"field\": \"GDP per capita (constant SYP)\", \"type\": \"quantitative\"}, {\"field\": \"mean_no2\", \"type\": \"quantitative\"}], \"x\": {\"field\": \"year_int\", \"type\": \"ordinal\"}, \"y\": {\"field\": \"mean_no2\", \"scale\": {\"zero\": false}, \"title\": \"NO2 Levels\", \"type\": \"quantitative\"}}, \"transform\": [{\"calculate\": \"'NO2 Levels'\", \"as\": \"variable\"}]}], \"data\": {\"url\": \"altair-data-0388ccb143aec75166da8d5a91fd4223.json\", \"format\": {\"type\": \"json\"}}, \"height\": 300, \"resolve\": {\"scale\": {\"y\": \"independent\"}}, \"title\": {\"text\": \"GDP vs Air Pollution (NO2) - R\\u00b2 = 0.001\", \"anchor\": \"start\", \"fontSize\": 14}, \"width\": 280}, {\"layer\": [{\"mark\": {\"type\": \"line\", \"color\": \"#2E8B57\", \"point\": {\"filled\": true, \"size\": 80}, \"strokeWidth\": 3}, \"encoding\": {\"tooltip\": [{\"field\": \"year_int\", \"type\": \"ordinal\"}, {\"field\": \"GDP per capita (constant SYP)\", \"type\": \"quantitative\"}, {\"field\": \"viirs_bm_mean\", \"type\": \"quantitative\"}], \"x\": {\"axis\": {\"labelAngle\": 45}, \"field\": \"year_int\", \"title\": \"Year\", \"type\": \"ordinal\"}, \"y\": {\"field\": \"GDP per capita (constant SYP)\", \"scale\": {\"zero\": false}, \"title\": \"GDP (LCU)\", \"type\": \"quantitative\"}}, \"name\": \"view_29\", \"transform\": [{\"calculate\": \"'GDP (LCU)'\", \"as\": \"variable\"}]}, {\"mark\": {\"type\": \"line\", \"color\": \"#FF8C00\", \"point\": {\"filled\": true, \"size\": 80}, \"strokeDash\": [5, 5], \"strokeWidth\": 3}, \"encoding\": {\"tooltip\": [{\"field\": \"year_int\", \"type\": \"ordinal\"}, {\"field\": \"GDP per capita (constant SYP)\", \"type\": \"quantitative\"}, {\"field\": \"viirs_bm_mean\", \"type\": \"quantitative\"}], \"x\": {\"field\": \"year_int\", \"type\": \"ordinal\"}, \"y\": {\"field\": \"viirs_bm_mean\", \"scale\": {\"zero\": false}, \"title\": \"Nighttime Lights\", \"type\": \"quantitative\"}}, \"transform\": [{\"calculate\": \"'Nighttime Lights'\", \"as\": \"variable\"}]}], \"data\": {\"url\": \"altair-data-a2cb51b98eda66635e057fc88b9e07b9.json\", \"format\": {\"type\": \"json\"}}, \"height\": 300, \"resolve\": {\"scale\": {\"y\": \"independent\"}}, \"title\": {\"text\": \"GDP vs Economic Activity (NTL) - R\\u00b2 = 0.305\", \"anchor\": \"start\", \"fontSize\": 14}, \"width\": 280}]}, {\"hconcat\": [{\"layer\": [{\"mark\": {\"type\": \"line\", \"color\": \"#2E8B57\", \"point\": {\"filled\": true, \"size\": 80}, \"strokeWidth\": 3}, \"encoding\": {\"tooltip\": [{\"field\": \"year_int\", \"type\": \"ordinal\"}, {\"field\": \"GDP per capita (constant SYP)\", \"type\": \"quantitative\"}, {\"field\": \"EVI\", \"type\": \"quantitative\"}], \"x\": {\"axis\": {\"labelAngle\": 45}, \"field\": \"year_int\", \"title\": \"Year\", \"type\": \"ordinal\"}, \"y\": {\"field\": \"GDP per capita (constant SYP)\", \"scale\": {\"zero\": false}, \"title\": \"GDP (LCU)\", \"type\": \"quantitative\"}}, \"name\": \"view_30\", \"transform\": [{\"calculate\": \"'GDP (LCU)'\", \"as\": \"variable\"}]}, {\"mark\": {\"type\": \"line\", \"color\": \"#4169E1\", \"point\": {\"filled\": true, \"size\": 80}, \"strokeDash\": [5, 5], \"strokeWidth\": 3}, \"encoding\": {\"tooltip\": [{\"field\": \"year_int\", \"type\": \"ordinal\"}, {\"field\": \"GDP per capita (constant SYP)\", \"type\": \"quantitative\"}, {\"field\": \"EVI\", \"type\": \"quantitative\"}], \"x\": {\"field\": \"year_int\", \"type\": \"ordinal\"}, \"y\": {\"field\": \"EVI\", \"scale\": {\"zero\": false}, \"title\": \"Vegetation Index\", \"type\": \"quantitative\"}}, \"transform\": [{\"calculate\": \"'Vegetation Index'\", \"as\": \"variable\"}]}], \"data\": {\"url\": \"altair-data-0aa6febaa54530508ca1dce467ebbc26.json\", \"format\": {\"type\": \"json\"}}, \"height\": 300, \"resolve\": {\"scale\": {\"y\": \"independent\"}}, \"title\": {\"text\": \"GDP vs Agricultural Activity (EVI) - R\\u00b2 = 0.038\", \"anchor\": \"start\", \"fontSize\": 14}, \"width\": 280}, {\"data\": {\"name\": \"empty\"}, \"mark\": {\"type\": \"text\"}, \"encoding\": {}, \"height\": 300, \"width\": 280}]}], \"params\": [{\"name\": \"param_28\", \"select\": {\"type\": \"point\", \"fields\": [\"variable\"]}, \"bind\": \"legend\", \"views\": [\"view_28\"]}, {\"name\": \"param_29\", \"select\": {\"type\": \"point\", \"fields\": [\"variable\"]}, \"bind\": \"legend\", \"views\": [\"view_29\"]}, {\"name\": \"param_30\", \"select\": {\"type\": \"point\", \"fields\": [\"variable\"]}, \"bind\": \"legend\", \"views\": [\"view_30\"]}], \"resolve\": {\"scale\": {\"color\": \"independent\", \"y\": \"independent\"}}, \"title\": {\"text\": \"GDP Trends vs Economic/Environmental Indicators in Syria (Dual Axes)\", \"anchor\": \"start\", \"fontSize\": 16, \"offset\": 20}, \"$schema\": \"https://vega.github.io/schema/vega-lite/v5.20.1.json\", \"datasets\": {\"empty\": [{}]}}, {\"mode\": \"vega-lite\"});\n",
       "</script>"
      ],
      "text/plain": [
       "alt.VConcatChart(...)"
      ]
     },
     "metadata": {},
     "output_type": "display_data"
    },
    {
     "name": "stdout",
     "output_type": "stream",
     "text": [
      "\n",
      "============================================================\n",
      "\n",
      "Population vs Economic/Environmental Indicators:\n"
     ]
    },
    {
     "data": {
      "text/html": [
       "\n",
       "<style>\n",
       "  #altair-viz-453449775aa445c1957cad2ee6b38870.vega-embed {\n",
       "    width: 100%;\n",
       "    display: flex;\n",
       "  }\n",
       "\n",
       "  #altair-viz-453449775aa445c1957cad2ee6b38870.vega-embed details,\n",
       "  #altair-viz-453449775aa445c1957cad2ee6b38870.vega-embed details summary {\n",
       "    position: relative;\n",
       "  }\n",
       "</style>\n",
       "<div id=\"altair-viz-453449775aa445c1957cad2ee6b38870\"></div>\n",
       "<script type=\"text/javascript\">\n",
       "  var VEGA_DEBUG = (typeof VEGA_DEBUG == \"undefined\") ? {} : VEGA_DEBUG;\n",
       "  (function(spec, embedOpt){\n",
       "    let outputDiv = document.currentScript.previousElementSibling;\n",
       "    if (outputDiv.id !== \"altair-viz-453449775aa445c1957cad2ee6b38870\") {\n",
       "      outputDiv = document.getElementById(\"altair-viz-453449775aa445c1957cad2ee6b38870\");\n",
       "    }\n",
       "\n",
       "    const paths = {\n",
       "      \"vega\": \"https://cdn.jsdelivr.net/npm/vega@5?noext\",\n",
       "      \"vega-lib\": \"https://cdn.jsdelivr.net/npm/vega-lib?noext\",\n",
       "      \"vega-lite\": \"https://cdn.jsdelivr.net/npm/vega-lite@5.20.1?noext\",\n",
       "      \"vega-embed\": \"https://cdn.jsdelivr.net/npm/vega-embed@6?noext\",\n",
       "    };\n",
       "\n",
       "    function maybeLoadScript(lib, version) {\n",
       "      var key = `${lib.replace(\"-\", \"\")}_version`;\n",
       "      return (VEGA_DEBUG[key] == version) ?\n",
       "        Promise.resolve(paths[lib]) :\n",
       "        new Promise(function(resolve, reject) {\n",
       "          var s = document.createElement('script');\n",
       "          document.getElementsByTagName(\"head\")[0].appendChild(s);\n",
       "          s.async = true;\n",
       "          s.onload = () => {\n",
       "            VEGA_DEBUG[key] = version;\n",
       "            return resolve(paths[lib]);\n",
       "          };\n",
       "          s.onerror = () => reject(`Error loading script: ${paths[lib]}`);\n",
       "          s.src = paths[lib];\n",
       "        });\n",
       "    }\n",
       "\n",
       "    function showError(err) {\n",
       "      outputDiv.innerHTML = `<div class=\"error\" style=\"color:red;\">${err}</div>`;\n",
       "      throw err;\n",
       "    }\n",
       "\n",
       "    function displayChart(vegaEmbed) {\n",
       "      vegaEmbed(outputDiv, spec, embedOpt)\n",
       "        .catch(err => showError(`Javascript Error: ${err.message}<br>This usually means there's a typo in your chart specification. See the javascript console for the full traceback.`));\n",
       "    }\n",
       "\n",
       "    if(typeof define === \"function\" && define.amd) {\n",
       "      requirejs.config({paths});\n",
       "      let deps = [\"vega-embed\"];\n",
       "      require(deps, displayChart, err => showError(`Error loading script: ${err.message}`));\n",
       "    } else {\n",
       "      maybeLoadScript(\"vega\", \"5\")\n",
       "        .then(() => maybeLoadScript(\"vega-lite\", \"5.20.1\"))\n",
       "        .then(() => maybeLoadScript(\"vega-embed\", \"6\"))\n",
       "        .catch(showError)\n",
       "        .then(() => displayChart(vegaEmbed));\n",
       "    }\n",
       "  })({\"config\": {\"view\": {\"continuousWidth\": 300, \"continuousHeight\": 300}}, \"vconcat\": [{\"hconcat\": [{\"layer\": [{\"mark\": {\"type\": \"line\", \"color\": \"#2E8B57\", \"point\": {\"filled\": true, \"size\": 80}, \"strokeWidth\": 3}, \"encoding\": {\"tooltip\": [{\"field\": \"year_int\", \"type\": \"ordinal\"}, {\"field\": \"pop\", \"type\": \"quantitative\"}, {\"field\": \"mean_no2\", \"type\": \"quantitative\"}], \"x\": {\"axis\": {\"labelAngle\": 45}, \"field\": \"year_int\", \"title\": \"Year\", \"type\": \"ordinal\"}, \"y\": {\"field\": \"pop\", \"scale\": {\"zero\": false}, \"title\": \"Population\", \"type\": \"quantitative\"}}, \"name\": \"view_31\", \"transform\": [{\"calculate\": \"'Population'\", \"as\": \"variable\"}]}, {\"mark\": {\"type\": \"line\", \"color\": \"#DC143C\", \"point\": {\"filled\": true, \"size\": 80}, \"strokeDash\": [5, 5], \"strokeWidth\": 3}, \"encoding\": {\"tooltip\": [{\"field\": \"year_int\", \"type\": \"ordinal\"}, {\"field\": \"pop\", \"type\": \"quantitative\"}, {\"field\": \"mean_no2\", \"type\": \"quantitative\"}], \"x\": {\"field\": \"year_int\", \"type\": \"ordinal\"}, \"y\": {\"field\": \"mean_no2\", \"scale\": {\"zero\": false}, \"title\": \"NO2 Levels\", \"type\": \"quantitative\"}}, \"transform\": [{\"calculate\": \"'NO2 Levels'\", \"as\": \"variable\"}]}], \"data\": {\"url\": \"altair-data-0388ccb143aec75166da8d5a91fd4223.json\", \"format\": {\"type\": \"json\"}}, \"height\": 300, \"resolve\": {\"scale\": {\"y\": \"independent\"}}, \"title\": {\"text\": \"Population vs Air Pollution (NO2)\", \"anchor\": \"start\", \"fontSize\": 14}, \"width\": 280}, {\"layer\": [{\"mark\": {\"type\": \"line\", \"color\": \"#2E8B57\", \"point\": {\"filled\": true, \"size\": 80}, \"strokeWidth\": 3}, \"encoding\": {\"tooltip\": [{\"field\": \"year_int\", \"type\": \"ordinal\"}, {\"field\": \"pop\", \"type\": \"quantitative\"}, {\"field\": \"viirs_bm_mean\", \"type\": \"quantitative\"}], \"x\": {\"axis\": {\"labelAngle\": 45}, \"field\": \"year_int\", \"title\": \"Year\", \"type\": \"ordinal\"}, \"y\": {\"field\": \"pop\", \"scale\": {\"zero\": false}, \"title\": \"Population\", \"type\": \"quantitative\"}}, \"name\": \"view_32\", \"transform\": [{\"calculate\": \"'Population'\", \"as\": \"variable\"}]}, {\"mark\": {\"type\": \"line\", \"color\": \"#FF8C00\", \"point\": {\"filled\": true, \"size\": 80}, \"strokeDash\": [5, 5], \"strokeWidth\": 3}, \"encoding\": {\"tooltip\": [{\"field\": \"year_int\", \"type\": \"ordinal\"}, {\"field\": \"pop\", \"type\": \"quantitative\"}, {\"field\": \"viirs_bm_mean\", \"type\": \"quantitative\"}], \"x\": {\"field\": \"year_int\", \"type\": \"ordinal\"}, \"y\": {\"field\": \"viirs_bm_mean\", \"scale\": {\"zero\": false}, \"title\": \"Nighttime Lights\", \"type\": \"quantitative\"}}, \"transform\": [{\"calculate\": \"'Nighttime Lights'\", \"as\": \"variable\"}]}], \"data\": {\"url\": \"altair-data-a2cb51b98eda66635e057fc88b9e07b9.json\", \"format\": {\"type\": \"json\"}}, \"height\": 300, \"resolve\": {\"scale\": {\"y\": \"independent\"}}, \"title\": {\"text\": \"Population vs Economic Activity (NTL)\", \"anchor\": \"start\", \"fontSize\": 14}, \"width\": 280}]}, {\"hconcat\": [{\"layer\": [{\"mark\": {\"type\": \"line\", \"color\": \"#2E8B57\", \"point\": {\"filled\": true, \"size\": 80}, \"strokeWidth\": 3}, \"encoding\": {\"tooltip\": [{\"field\": \"year_int\", \"type\": \"ordinal\"}, {\"field\": \"pop\", \"type\": \"quantitative\"}, {\"field\": \"EVI\", \"type\": \"quantitative\"}], \"x\": {\"axis\": {\"labelAngle\": 45}, \"field\": \"year_int\", \"title\": \"Year\", \"type\": \"ordinal\"}, \"y\": {\"field\": \"pop\", \"scale\": {\"zero\": false}, \"title\": \"Population\", \"type\": \"quantitative\"}}, \"name\": \"view_33\", \"transform\": [{\"calculate\": \"'Population'\", \"as\": \"variable\"}]}, {\"mark\": {\"type\": \"line\", \"color\": \"#4169E1\", \"point\": {\"filled\": true, \"size\": 80}, \"strokeDash\": [5, 5], \"strokeWidth\": 3}, \"encoding\": {\"tooltip\": [{\"field\": \"year_int\", \"type\": \"ordinal\"}, {\"field\": \"pop\", \"type\": \"quantitative\"}, {\"field\": \"EVI\", \"type\": \"quantitative\"}], \"x\": {\"field\": \"year_int\", \"type\": \"ordinal\"}, \"y\": {\"field\": \"EVI\", \"scale\": {\"zero\": false}, \"title\": \"Vegetation Index\", \"type\": \"quantitative\"}}, \"transform\": [{\"calculate\": \"'Vegetation Index'\", \"as\": \"variable\"}]}], \"data\": {\"url\": \"altair-data-0aa6febaa54530508ca1dce467ebbc26.json\", \"format\": {\"type\": \"json\"}}, \"height\": 300, \"resolve\": {\"scale\": {\"y\": \"independent\"}}, \"title\": {\"text\": \"Population vs Agricultural Activity (EVI)\", \"anchor\": \"start\", \"fontSize\": 14}, \"width\": 280}, {\"data\": {\"name\": \"empty\"}, \"mark\": {\"type\": \"text\"}, \"encoding\": {}, \"height\": 300, \"width\": 280}]}], \"params\": [{\"name\": \"param_31\", \"select\": {\"type\": \"point\", \"fields\": [\"variable\"]}, \"bind\": \"legend\", \"views\": [\"view_31\"]}, {\"name\": \"param_32\", \"select\": {\"type\": \"point\", \"fields\": [\"variable\"]}, \"bind\": \"legend\", \"views\": [\"view_32\"]}, {\"name\": \"param_33\", \"select\": {\"type\": \"point\", \"fields\": [\"variable\"]}, \"bind\": \"legend\", \"views\": [\"view_33\"]}], \"resolve\": {\"scale\": {\"color\": \"independent\", \"y\": \"independent\"}}, \"title\": {\"text\": \"Population Trends vs Economic/Environmental Indicators in Syria (Dual Axes)\", \"anchor\": \"start\", \"fontSize\": 16, \"offset\": 20}, \"$schema\": \"https://vega.github.io/schema/vega-lite/v5.20.1.json\", \"datasets\": {\"empty\": [{}]}}, {\"mode\": \"vega-lite\"});\n",
       "</script>"
      ],
      "text/plain": [
       "alt.VConcatChart(...)"
      ]
     },
     "metadata": {},
     "output_type": "display_data"
    }
   ],
   "source": [
    "# Import Altair and reload the module to get the updated function\n",
    "import altair as alt\n",
    "import importlib\n",
    "import sys\n",
    "\n",
    "sys.path.append(\"/Users/ssarva/syria-economic-monitor/notebooks/combined\")\n",
    "import combined_visuals\n",
    "\n",
    "importlib.reload(combined_visuals)\n",
    "from combined_visuals import create_three_part_gdp_line_charts\n",
    "\n",
    "# Enable Altair to render in Jupyter\n",
    "alt.data_transformers.enable(\"json\")\n",
    "\n",
    "# Create the first visualization with GDP\n",
    "# Layout: 2 charts in top row, 1 chart in bottom row\n",
    "# Reduced chart width by 30% (400 * 0.7 = 280)\n",
    "gdp_chart = create_three_part_gdp_line_charts(\n",
    "    gdp_data=gdp,\n",
    "    no2_data=no2_adm0_annual,\n",
    "    ntl_data=ntl_admin0_annual,\n",
    "    evi_data=evi_adm0_median,\n",
    "    year_column=\"year_int\",\n",
    "    gdp_column=\"GDP per capita (constant SYP)\",  # Using GDP column\n",
    "    chart_width=280,\n",
    "    chart_height=300,\n",
    ")\n",
    "\n",
    "print(\"GDP vs Economic/Environmental Indicators:\")\n",
    "display(gdp_chart)\n",
    "\n",
    "print(\"\\n\" + \"=\" * 60 + \"\\n\")\n",
    "\n",
    "# Create the second visualization with Population\n",
    "pop_chart = create_three_part_gdp_line_charts(\n",
    "    gdp_data=gdp,\n",
    "    no2_data=no2_adm0_annual,\n",
    "    ntl_data=ntl_admin0_annual,\n",
    "    evi_data=evi_adm0_median,\n",
    "    year_column=\"year_int\",\n",
    "    gdp_column=\"pop\",  # Using population column\n",
    "    chart_width=280,\n",
    "    chart_height=300,\n",
    ")\n",
    "\n",
    "print(\"Population vs Economic/Environmental Indicators:\")\n",
    "display(pop_chart)"
   ]
  }
 ],
 "metadata": {
  "kernelspec": {
   "display_name": ".venv (3.13.7)",
   "language": "python",
   "name": "python3"
  },
  "language_info": {
   "codemirror_mode": {
    "name": "ipython",
    "version": 3
   },
   "file_extension": ".py",
   "mimetype": "text/x-python",
   "name": "python",
   "nbconvert_exporter": "python",
   "pygments_lexer": "ipython3",
   "version": "3.13.7"
  }
 },
 "nbformat": 4,
 "nbformat_minor": 5
}
